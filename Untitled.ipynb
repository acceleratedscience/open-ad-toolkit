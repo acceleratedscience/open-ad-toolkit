{
 "cells": [
  {
   "cell_type": "code",
   "execution_count": 3,
   "id": "7b967131-a77d-4f18-b03f-18885c3031ed",
   "metadata": {
    "tags": []
   },
   "outputs": [
    {
     "data": {
      "text/markdown": [
       "<span style=\"color: #090\">Logged into DS4SD as </span>phil.downey1@ibm.com<span style=\"color: #090\"> <br> \n",
       "Workspace:</span> DEFAULT <br> \n"
      ],
      "text/plain": [
       "<IPython.core.display.Markdown object>"
      ]
     },
     "metadata": {},
     "output_type": "display_data"
    },
    {
     "data": {
      "text/markdown": [
       "<span style=\"color: #090\">You successfully logged in to <span style=\"color: #dc0\">DS4SD</span></span> <br> \n",
       "<span style=\"color: #ccc\">Your access token expires on Wed Jan 29, 2025  at 03:41</span> <br> \n"
      ],
      "text/plain": [
       "<IPython.core.display.Markdown object>"
      ]
     },
     "metadata": {},
     "output_type": "display_data"
    }
   ],
   "source": [
    "%openad set context ds4sd"
   ]
  },
  {
   "cell_type": "code",
   "execution_count": 4,
   "id": "3ba7f4ed-8b71-460f-9e01-69ea7a172fc5",
   "metadata": {
    "tags": []
   },
   "outputs": [
    {
     "name": "stderr",
     "output_type": "stream",
     "text": [
      "4it [00:03,  1.10it/s]                                                                                                                                                                                                                                                                                                                                                                                                                \n"
     ]
    }
   ],
   "source": [
    "df = %openadd search collection 'PubChem' for 'Amines carbon'"
   ]
  },
  {
   "cell_type": "code",
   "execution_count": 5,
   "id": "8b1ab7d6-4336-48e5-b574-934067c85edb",
   "metadata": {
    "tags": []
   },
   "outputs": [
    {
     "data": {
      "text/html": [
       "<div>\n",
       "<style scoped>\n",
       "    .dataframe tbody tr th:only-of-type {\n",
       "        vertical-align: middle;\n",
       "    }\n",
       "\n",
       "    .dataframe tbody tr th {\n",
       "        vertical-align: top;\n",
       "    }\n",
       "\n",
       "    .dataframe thead th {\n",
       "        text-align: right;\n",
       "    }\n",
       "</style>\n",
       "<table border=\"1\" class=\"dataframe\">\n",
       "  <thead>\n",
       "    <tr style=\"text-align: right;\">\n",
       "      <th></th>\n",
       "      <th>cid</th>\n",
       "      <th>cas_number</th>\n",
       "      <th>ec_number</th>\n",
       "      <th>SMILES</th>\n",
       "      <th>chemical_name</th>\n",
       "      <th>molecular weight</th>\n",
       "      <th>hydrogen bond donor count</th>\n",
       "      <th>hydrogen bond acceptor count</th>\n",
       "      <th>rotatable bond count</th>\n",
       "      <th>exact mass</th>\n",
       "      <th>...</th>\n",
       "      <th>topological polar surface area</th>\n",
       "      <th>heavy atom count</th>\n",
       "      <th>formal charge</th>\n",
       "      <th>complexity</th>\n",
       "      <th>isotope atom count</th>\n",
       "      <th>defined atom stereocenter count</th>\n",
       "      <th>undefined atom stereocenter count</th>\n",
       "      <th>covalently-bonded unit count</th>\n",
       "      <th>compound is canonicalized</th>\n",
       "      <th>xlogp3</th>\n",
       "    </tr>\n",
       "  </thead>\n",
       "  <tbody>\n",
       "    <tr>\n",
       "      <th>0</th>\n",
       "      <td>15424</td>\n",
       "      <td>469-62-5</td>\n",
       "      <td>216-683-5</td>\n",
       "      <td>CCC(=O)OC(CC1=CC=CC=C1)(C2=CC=CC=C2)C(C)CN(C)C.Cl</td>\n",
       "      <td>Propoxyphene hydrochloride</td>\n",
       "      <td>375.900</td>\n",
       "      <td>1.0</td>\n",
       "      <td>3.0</td>\n",
       "      <td>9.0</td>\n",
       "      <td>375.196507</td>\n",
       "      <td>...</td>\n",
       "      <td>29.5</td>\n",
       "      <td>26.0</td>\n",
       "      <td>0.0</td>\n",
       "      <td>397.0</td>\n",
       "      <td>0.0</td>\n",
       "      <td>2.0</td>\n",
       "      <td>0.0</td>\n",
       "      <td>2.0</td>\n",
       "      <td>Yes</td>\n",
       "      <td></td>\n",
       "    </tr>\n",
       "    <tr>\n",
       "      <th>1</th>\n",
       "      <td>136149249</td>\n",
       "      <td></td>\n",
       "      <td></td>\n",
       "      <td>*C(=O)O</td>\n",
       "      <td></td>\n",
       "      <td>327.187</td>\n",
       "      <td>1.0</td>\n",
       "      <td>2.0</td>\n",
       "      <td>0.0</td>\n",
       "      <td>327.167000</td>\n",
       "      <td>...</td>\n",
       "      <td>37.3</td>\n",
       "      <td>4.0</td>\n",
       "      <td>0.0</td>\n",
       "      <td>33.0</td>\n",
       "      <td>0.0</td>\n",
       "      <td>0.0</td>\n",
       "      <td>0.0</td>\n",
       "      <td>1.0</td>\n",
       "      <td>Yes</td>\n",
       "      <td></td>\n",
       "    </tr>\n",
       "    <tr>\n",
       "      <th>2</th>\n",
       "      <td>158429871</td>\n",
       "      <td></td>\n",
       "      <td></td>\n",
       "      <td>[Ar].[Ar].[Ar].[Ar]</td>\n",
       "      <td></td>\n",
       "      <td>160.000</td>\n",
       "      <td>0.0</td>\n",
       "      <td>0.0</td>\n",
       "      <td>0.0</td>\n",
       "      <td>159.849532</td>\n",
       "      <td>...</td>\n",
       "      <td>0.0</td>\n",
       "      <td>4.0</td>\n",
       "      <td>0.0</td>\n",
       "      <td>0.0</td>\n",
       "      <td>0.0</td>\n",
       "      <td>0.0</td>\n",
       "      <td>0.0</td>\n",
       "      <td>4.0</td>\n",
       "      <td>Yes</td>\n",
       "      <td></td>\n",
       "    </tr>\n",
       "    <tr>\n",
       "      <th>3</th>\n",
       "      <td>8268</td>\n",
       "      <td>115-32-2</td>\n",
       "      <td>204-082-0</td>\n",
       "      <td>C1=CC(=CC=C1C(C2=CC=C(C=C2)Cl)(C(Cl)(Cl)Cl)O)Cl</td>\n",
       "      <td>Dicofol</td>\n",
       "      <td>370.500</td>\n",
       "      <td>1.0</td>\n",
       "      <td>1.0</td>\n",
       "      <td>2.0</td>\n",
       "      <td>369.906653</td>\n",
       "      <td>...</td>\n",
       "      <td>20.2</td>\n",
       "      <td>20.0</td>\n",
       "      <td>0.0</td>\n",
       "      <td>292.0</td>\n",
       "      <td>0.0</td>\n",
       "      <td>0.0</td>\n",
       "      <td>0.0</td>\n",
       "      <td>1.0</td>\n",
       "      <td>Yes</td>\n",
       "      <td>4.3</td>\n",
       "    </tr>\n",
       "    <tr>\n",
       "      <th>4</th>\n",
       "      <td>5284462</td>\n",
       "      <td>961-11-5</td>\n",
       "      <td>244-865-4</td>\n",
       "      <td>COP(=O)(OC)OC(=CCl)C1=CC(=C(C=C1Cl)Cl)Cl</td>\n",
       "      <td>(Z)-tetrachlorvinphos</td>\n",
       "      <td>366.000</td>\n",
       "      <td>0.0</td>\n",
       "      <td>4.0</td>\n",
       "      <td>5.0</td>\n",
       "      <td>365.896306</td>\n",
       "      <td>...</td>\n",
       "      <td>44.8</td>\n",
       "      <td>19.0</td>\n",
       "      <td>0.0</td>\n",
       "      <td>371.0</td>\n",
       "      <td>0.0</td>\n",
       "      <td>0.0</td>\n",
       "      <td>0.0</td>\n",
       "      <td>1.0</td>\n",
       "      <td>Yes</td>\n",
       "      <td>3.5</td>\n",
       "    </tr>\n",
       "    <tr>\n",
       "      <th>...</th>\n",
       "      <td>...</td>\n",
       "      <td>...</td>\n",
       "      <td>...</td>\n",
       "      <td>...</td>\n",
       "      <td>...</td>\n",
       "      <td>...</td>\n",
       "      <td>...</td>\n",
       "      <td>...</td>\n",
       "      <td>...</td>\n",
       "      <td>...</td>\n",
       "      <td>...</td>\n",
       "      <td>...</td>\n",
       "      <td>...</td>\n",
       "      <td>...</td>\n",
       "      <td>...</td>\n",
       "      <td>...</td>\n",
       "      <td>...</td>\n",
       "      <td>...</td>\n",
       "      <td>...</td>\n",
       "      <td>...</td>\n",
       "      <td>...</td>\n",
       "    </tr>\n",
       "    <tr>\n",
       "      <th>82</th>\n",
       "      <td>68624</td>\n",
       "      <td>98079-52-8</td>\n",
       "      <td></td>\n",
       "      <td>CCN1C=C(C(=O)C2=CC(=C(C(=C21)F)N3CCNC(C3)C)F)C(=O)O.Cl</td>\n",
       "      <td>Lomefloxacin hydrochloride</td>\n",
       "      <td>387.800</td>\n",
       "      <td>3.0</td>\n",
       "      <td>8.0</td>\n",
       "      <td>3.0</td>\n",
       "      <td>387.116126</td>\n",
       "      <td>...</td>\n",
       "      <td>72.9</td>\n",
       "      <td>26.0</td>\n",
       "      <td>0.0</td>\n",
       "      <td>586.0</td>\n",
       "      <td>0.0</td>\n",
       "      <td>0.0</td>\n",
       "      <td>1.0</td>\n",
       "      <td>2.0</td>\n",
       "      <td>Yes</td>\n",
       "      <td></td>\n",
       "    </tr>\n",
       "    <tr>\n",
       "      <th>83</th>\n",
       "      <td>101929920</td>\n",
       "      <td></td>\n",
       "      <td></td>\n",
       "      <td>CO[C-]=[O+]C</td>\n",
       "      <td></td>\n",
       "      <td>74.080</td>\n",
       "      <td>0.0</td>\n",
       "      <td>2.0</td>\n",
       "      <td>1.0</td>\n",
       "      <td>74.036779</td>\n",
       "      <td>...</td>\n",
       "      <td>10.2</td>\n",
       "      <td>5.0</td>\n",
       "      <td>0.0</td>\n",
       "      <td>26.4</td>\n",
       "      <td>0.0</td>\n",
       "      <td>0.0</td>\n",
       "      <td>0.0</td>\n",
       "      <td>1.0</td>\n",
       "      <td>Yes</td>\n",
       "      <td>0.0</td>\n",
       "    </tr>\n",
       "    <tr>\n",
       "      <th>84</th>\n",
       "      <td>16070030</td>\n",
       "      <td>15578-68-4</td>\n",
       "      <td></td>\n",
       "      <td>C</td>\n",
       "      <td></td>\n",
       "      <td>14.049</td>\n",
       "      <td>0.0</td>\n",
       "      <td>0.0</td>\n",
       "      <td>0.0</td>\n",
       "      <td>14.048153</td>\n",
       "      <td>...</td>\n",
       "      <td>0.0</td>\n",
       "      <td>1.0</td>\n",
       "      <td>0.0</td>\n",
       "      <td>0.0</td>\n",
       "      <td>1.0</td>\n",
       "      <td>0.0</td>\n",
       "      <td>0.0</td>\n",
       "      <td>1.0</td>\n",
       "      <td>Yes</td>\n",
       "      <td>0.6</td>\n",
       "    </tr>\n",
       "    <tr>\n",
       "      <th>85</th>\n",
       "      <td>114789</td>\n",
       "      <td>14333-33-6</td>\n",
       "      <td></td>\n",
       "      <td>C</td>\n",
       "      <td>Carbon-11</td>\n",
       "      <td>15.043</td>\n",
       "      <td>0.0</td>\n",
       "      <td>0.0</td>\n",
       "      <td>0.0</td>\n",
       "      <td>15.042733</td>\n",
       "      <td>...</td>\n",
       "      <td>0.0</td>\n",
       "      <td>1.0</td>\n",
       "      <td>0.0</td>\n",
       "      <td>0.0</td>\n",
       "      <td>1.0</td>\n",
       "      <td>0.0</td>\n",
       "      <td>0.0</td>\n",
       "      <td>1.0</td>\n",
       "      <td>Yes</td>\n",
       "      <td>0.6</td>\n",
       "    </tr>\n",
       "    <tr>\n",
       "      <th>86</th>\n",
       "      <td>62690</td>\n",
       "      <td>8063-77-2</td>\n",
       "      <td></td>\n",
       "      <td>C(=O)=O.O=O</td>\n",
       "      <td></td>\n",
       "      <td>76.010</td>\n",
       "      <td>0.0</td>\n",
       "      <td>4.0</td>\n",
       "      <td>0.0</td>\n",
       "      <td>75.979658</td>\n",
       "      <td>...</td>\n",
       "      <td>68.3</td>\n",
       "      <td>5.0</td>\n",
       "      <td>0.0</td>\n",
       "      <td>18.3</td>\n",
       "      <td>0.0</td>\n",
       "      <td>0.0</td>\n",
       "      <td>0.0</td>\n",
       "      <td>2.0</td>\n",
       "      <td>No</td>\n",
       "      <td></td>\n",
       "    </tr>\n",
       "  </tbody>\n",
       "</table>\n",
       "<p>87 rows × 21 columns</p>\n",
       "</div>"
      ],
      "text/plain": [
       "          cid  cas_number  ec_number   \n",
       "0       15424    469-62-5  216-683-5  \\\n",
       "1   136149249                          \n",
       "2   158429871                          \n",
       "3        8268    115-32-2  204-082-0   \n",
       "4     5284462    961-11-5  244-865-4   \n",
       "..        ...         ...        ...   \n",
       "82      68624  98079-52-8              \n",
       "83  101929920                          \n",
       "84   16070030  15578-68-4              \n",
       "85     114789  14333-33-6              \n",
       "86      62690   8063-77-2              \n",
       "\n",
       "                                                    SMILES   \n",
       "0        CCC(=O)OC(CC1=CC=CC=C1)(C2=CC=CC=C2)C(C)CN(C)C.Cl  \\\n",
       "1                                                  *C(=O)O   \n",
       "2                                      [Ar].[Ar].[Ar].[Ar]   \n",
       "3          C1=CC(=CC=C1C(C2=CC=C(C=C2)Cl)(C(Cl)(Cl)Cl)O)Cl   \n",
       "4                 COP(=O)(OC)OC(=CCl)C1=CC(=C(C=C1Cl)Cl)Cl   \n",
       "..                                                     ...   \n",
       "82  CCN1C=C(C(=O)C2=CC(=C(C(=C21)F)N3CCNC(C3)C)F)C(=O)O.Cl   \n",
       "83                                            CO[C-]=[O+]C   \n",
       "84                                                       C   \n",
       "85                                                       C   \n",
       "86                                             C(=O)=O.O=O   \n",
       "\n",
       "                 chemical_name  molecular weight  hydrogen bond donor count   \n",
       "0   Propoxyphene hydrochloride           375.900                        1.0  \\\n",
       "1                                        327.187                        1.0   \n",
       "2                                        160.000                        0.0   \n",
       "3                      Dicofol           370.500                        1.0   \n",
       "4        (Z)-tetrachlorvinphos           366.000                        0.0   \n",
       "..                         ...               ...                        ...   \n",
       "82  Lomefloxacin hydrochloride           387.800                        3.0   \n",
       "83                                        74.080                        0.0   \n",
       "84                                        14.049                        0.0   \n",
       "85                   Carbon-11            15.043                        0.0   \n",
       "86                                        76.010                        0.0   \n",
       "\n",
       "    hydrogen bond acceptor count  rotatable bond count  exact mass  ...   \n",
       "0                            3.0                   9.0  375.196507  ...  \\\n",
       "1                            2.0                   0.0  327.167000  ...   \n",
       "2                            0.0                   0.0  159.849532  ...   \n",
       "3                            1.0                   2.0  369.906653  ...   \n",
       "4                            4.0                   5.0  365.896306  ...   \n",
       "..                           ...                   ...         ...  ...   \n",
       "82                           8.0                   3.0  387.116126  ...   \n",
       "83                           2.0                   1.0   74.036779  ...   \n",
       "84                           0.0                   0.0   14.048153  ...   \n",
       "85                           0.0                   0.0   15.042733  ...   \n",
       "86                           4.0                   0.0   75.979658  ...   \n",
       "\n",
       "    topological polar surface area  heavy atom count  formal charge   \n",
       "0                             29.5              26.0            0.0  \\\n",
       "1                             37.3               4.0            0.0   \n",
       "2                              0.0               4.0            0.0   \n",
       "3                             20.2              20.0            0.0   \n",
       "4                             44.8              19.0            0.0   \n",
       "..                             ...               ...            ...   \n",
       "82                            72.9              26.0            0.0   \n",
       "83                            10.2               5.0            0.0   \n",
       "84                             0.0               1.0            0.0   \n",
       "85                             0.0               1.0            0.0   \n",
       "86                            68.3               5.0            0.0   \n",
       "\n",
       "    complexity  isotope atom count  defined atom stereocenter count   \n",
       "0        397.0                 0.0                              2.0  \\\n",
       "1         33.0                 0.0                              0.0   \n",
       "2          0.0                 0.0                              0.0   \n",
       "3        292.0                 0.0                              0.0   \n",
       "4        371.0                 0.0                              0.0   \n",
       "..         ...                 ...                              ...   \n",
       "82       586.0                 0.0                              0.0   \n",
       "83        26.4                 0.0                              0.0   \n",
       "84         0.0                 1.0                              0.0   \n",
       "85         0.0                 1.0                              0.0   \n",
       "86        18.3                 0.0                              0.0   \n",
       "\n",
       "    undefined atom stereocenter count  covalently-bonded unit count   \n",
       "0                                 0.0                           2.0  \\\n",
       "1                                 0.0                           1.0   \n",
       "2                                 0.0                           4.0   \n",
       "3                                 0.0                           1.0   \n",
       "4                                 0.0                           1.0   \n",
       "..                                ...                           ...   \n",
       "82                                1.0                           2.0   \n",
       "83                                0.0                           1.0   \n",
       "84                                0.0                           1.0   \n",
       "85                                0.0                           1.0   \n",
       "86                                0.0                           2.0   \n",
       "\n",
       "    compound is canonicalized xlogp3  \n",
       "0                         Yes         \n",
       "1                         Yes         \n",
       "2                         Yes         \n",
       "3                         Yes    4.3  \n",
       "4                         Yes    3.5  \n",
       "..                        ...    ...  \n",
       "82                        Yes         \n",
       "83                        Yes    0.0  \n",
       "84                        Yes    0.6  \n",
       "85                        Yes    0.6  \n",
       "86                         No         \n",
       "\n",
       "[87 rows x 21 columns]"
      ]
     },
     "execution_count": 5,
     "metadata": {},
     "output_type": "execute_result"
    }
   ],
   "source": [
    "df"
   ]
  },
  {
   "cell_type": "code",
   "execution_count": null,
   "id": "7e6c25af-aa4d-4885-be84-ae122e87171d",
   "metadata": {
    "tags": []
   },
   "outputs": [],
   "source": [
    "# from pandas import pandas as pd\n",
    "# df.to_csv('~/ds_test.csv')"
   ]
  },
  {
   "cell_type": "code",
   "execution_count": null,
   "id": "e8fb8372-e521-49f1-818d-f761b73638e1",
   "metadata": {},
   "outputs": [],
   "source": []
  },
  {
   "cell_type": "code",
   "execution_count": null,
   "id": "cd416ab1-10bc-4ebd-a34c-c3318588ca2f",
   "metadata": {},
   "outputs": [],
   "source": []
  },
  {
   "cell_type": "code",
   "execution_count": 1,
   "id": "c898bab9-d307-47c5-a7d3-f9619270623d",
   "metadata": {
    "tags": []
   },
   "outputs": [],
   "source": [
    "from pandas import pandas as pd\n",
    "df = pd.read_csv('~/ds_test.csv')"
   ]
  },
  {
   "cell_type": "code",
   "execution_count": null,
   "id": "72c2a7e8-d235-4895-ba1b-4d1f115ffcfb",
   "metadata": {
    "tags": []
   },
   "outputs": [],
   "source": [
    "df"
   ]
  },
  {
   "cell_type": "code",
   "execution_count": 2,
   "id": "cfb5e90b-8b42-4662-8d11-14a7f3c4d946",
   "metadata": {
    "tags": []
   },
   "outputs": [
    {
     "data": {
      "text/markdown": [
       "<span style=\"color: #d00\">Molecule already in list: <span style=\"color: #dc0\">C=C(NC(=O)C(=C)NC(=O)c1csc(C2=NC3c4csc(n4)C4NC(=O)c5csc(n5)C(C(C)(O)C(C)O)NC(=O)C5CSC(=N5)C(=CC)NC(=O)C(C(C)O)NC(=O)c5csc(n5)C3(CC2)NC(=O)C(C)NC(=O)C(=C)NC(=O)C(C)NC(=O)C(C(C)CC)NC2C=Cc3c(C(C)O)cc(nc3C2O)C(=O)OC4C)n1)C(N)=O</span></span> <br> \n"
      ],
      "text/plain": [
       "<IPython.core.display.Markdown object>"
      ]
     },
     "metadata": {},
     "output_type": "display_data"
    },
    {
     "data": {
      "text/markdown": [
       "<span style=\"color: #d00\">Molecule already in list: <span style=\"color: #dc0\">C=C(NC(=O)C(=C)NC(=O)c1csc(C2=NC3c4csc(n4)C4NC(=O)c5csc(n5)C(C(C)(O)C(C)O)NC(=O)C5CSC(=N5)C(=CC)NC(=O)C(C(C)O)NC(=O)c5csc(n5)C3(CC2)NC(=O)C(C)NC(=O)C(=C)NC(=O)C(C)NC(=O)C(C(C)CC)NC2C=Cc3c(C(C)O)cc(nc3C2O)C(=O)OC4C)n1)C(N)=O</span></span> <br> \n"
      ],
      "text/plain": [
       "<IPython.core.display.Markdown object>"
      ]
     },
     "metadata": {},
     "output_type": "display_data"
    },
    {
     "data": {
      "text/markdown": [
       "<span style=\"color: #d00\">Molecule already in list: <span style=\"color: #dc0\">C</span></span> <br> \n"
      ],
      "text/plain": [
       "<IPython.core.display.Markdown object>"
      ]
     },
     "metadata": {},
     "output_type": "display_data"
    },
    {
     "data": {
      "text/markdown": [
       "<span style=\"color: #d00\">Molecule already in list: <span style=\"color: #dc0\">C</span></span> <br> \n"
      ],
      "text/plain": [
       "<IPython.core.display.Markdown object>"
      ]
     },
     "metadata": {},
     "output_type": "display_data"
    },
    {
     "data": {
      "text/markdown": [
       "<span style=\"color: #d00\">Molecule already in list: <span style=\"color: #dc0\">C</span></span> <br> \n"
      ],
      "text/plain": [
       "<IPython.core.display.Markdown object>"
      ]
     },
     "metadata": {},
     "output_type": "display_data"
    },
    {
     "data": {
      "text/markdown": [
       "<span style=\"color: #d00\">Molecule already in list: <span style=\"color: #dc0\">COP(=O)(OC)OC(=CCl)c1cc(Cl)c(Cl)cc1Cl</span></span> <br> \n"
      ],
      "text/plain": [
       "<IPython.core.display.Markdown object>"
      ]
     },
     "metadata": {},
     "output_type": "display_data"
    },
    {
     "data": {
      "text/markdown": [
       "<span style=\"color: #d00\">Molecule already in list: <span style=\"color: #dc0\">C=C(NC(=O)C(=C)NC(=O)c1csc(C2=NC3c4csc(n4)C4NC(=O)c5csc(n5)C(C(C)(O)C(C)O)NC(=O)C5CSC(=N5)C(=CC)NC(=O)C(C(C)O)NC(=O)c5csc(n5)C3(CC2)NC(=O)C(C)NC(=O)C(=C)NC(=O)C(C)NC(=O)C(C(C)CC)NC2C=Cc3c(C(C)O)cc(nc3C2O)C(=O)OC4C)n1)C(N)=O</span></span> <br> \n"
      ],
      "text/plain": [
       "<IPython.core.display.Markdown object>"
      ]
     },
     "metadata": {},
     "output_type": "display_data"
    },
    {
     "data": {
      "text/markdown": [
       "<span style=\"color: #d00\">Molecule already in list: <span style=\"color: #dc0\">C=C(NC(=O)C(=C)NC(=O)c1csc(C2=NC3c4csc(n4)C4NC(=O)c5csc(n5)C(C(C)(O)C(C)O)NC(=O)C5CSC(=N5)C(=CC)NC(=O)C(C(C)O)NC(=O)c5csc(n5)C3(CC2)NC(=O)C(C)NC(=O)C(=C)NC(=O)C(C)NC(=O)C(C(C)CC)NC2C=Cc3c(C(C)O)cc(nc3C2O)C(=O)OC4C)n1)C(N)=O</span></span> <br> \n"
      ],
      "text/plain": [
       "<IPython.core.display.Markdown object>"
      ]
     },
     "metadata": {},
     "output_type": "display_data"
    },
    {
     "data": {
      "text/markdown": [
       "<span style=\"color: #d00\">Molecule already in list: <span style=\"color: #dc0\">C</span></span> <br> \n"
      ],
      "text/plain": [
       "<IPython.core.display.Markdown object>"
      ]
     },
     "metadata": {},
     "output_type": "display_data"
    },
    {
     "data": {
      "text/markdown": [
       "<span style=\"color: #d00\">Molecule already in list: <span style=\"color: #dc0\">C=C(NC(=O)C(=C)NC(=O)c1csc(C2=NC3c4csc(n4)C4NC(=O)c5csc(n5)C(C(C)(O)C(C)O)NC(=O)C5CSC(=N5)C(=CC)NC(=O)C(C(C)O)NC(=O)c5csc(n5)C3(CC2)NC(=O)C(C)NC(=O)C(=C)NC(=O)C(C)NC(=O)C(C(C)CC)NC2C=Cc3c(C(C)O)cc(nc3C2O)C(=O)OC4C)n1)C(N)=O</span></span> <br> \n"
      ],
      "text/plain": [
       "<IPython.core.display.Markdown object>"
      ]
     },
     "metadata": {},
     "output_type": "display_data"
    },
    {
     "data": {
      "text/markdown": [
       "<span style=\"color: #d00\">Molecule already in list: <span style=\"color: #dc0\">C=C(NC(=O)C(=C)NC(=O)c1csc(C2=NC3c4csc(n4)C4NC(=O)c5csc(n5)C(C(C)(O)C(C)O)NC(=O)C5CSC(=N5)C(=CC)NC(=O)C(C(C)O)NC(=O)c5csc(n5)C3(CC2)NC(=O)C(C)NC(=O)C(=C)NC(=O)C(C)NC(=O)C(C(C)CC)NC2C=Cc3c(C(C)O)cc(nc3C2O)C(=O)OC4C)n1)C(N)=O</span></span> <br> \n"
      ],
      "text/plain": [
       "<IPython.core.display.Markdown object>"
      ]
     },
     "metadata": {},
     "output_type": "display_data"
    },
    {
     "data": {
      "text/markdown": [
       "<span style=\"color: #d00\">Molecule already in list: <span style=\"color: #dc0\">C=C(NC(=O)C(=C)NC(=O)c1csc(C2=NC3c4csc(n4)C4NC(=O)c5csc(n5)C(C(C)(O)C(C)O)NC(=O)C5CSC(=N5)C(=CC)NC(=O)C(C(C)O)NC(=O)c5csc(n5)C3(CC2)NC(=O)C(C)NC(=O)C(=C)NC(=O)C(C)NC(=O)C(C(C)CC)NC2C=Cc3c(C(C)O)cc(nc3C2O)C(=O)OC4C)n1)C(N)=O</span></span> <br> \n"
      ],
      "text/plain": [
       "<IPython.core.display.Markdown object>"
      ]
     },
     "metadata": {},
     "output_type": "display_data"
    },
    {
     "data": {
      "text/markdown": [
       "<span style=\"color: #d00\">Molecule already in list: <span style=\"color: #dc0\">C=C(NC(=O)C(=C)NC(=O)c1csc(C2=NC3c4csc(n4)C4NC(=O)c5csc(n5)C(C(C)(O)C(C)O)NC(=O)C5CSC(=N5)C(=CC)NC(=O)C(C(C)O)NC(=O)c5csc(n5)C3(CC2)NC(=O)C(C)NC(=O)C(=C)NC(=O)C(C)NC(=O)C(C(C)CC)NC2C=Cc3c(C(C)O)cc(nc3C2O)C(=O)OC4C)n1)C(N)=O</span></span> <br> \n"
      ],
      "text/plain": [
       "<IPython.core.display.Markdown object>"
      ]
     },
     "metadata": {},
     "output_type": "display_data"
    },
    {
     "data": {
      "text/markdown": [
       "<span style=\"color: #d00\">Molecule already in list: <span style=\"color: #dc0\">C=C(NC(=O)C(=C)NC(=O)c1csc(C2=NC3c4csc(n4)C4NC(=O)c5csc(n5)C(C(C)(O)C(C)O)NC(=O)C5CSC(=N5)C(=CC)NC(=O)C(C(C)O)NC(=O)c5csc(n5)C3(CC2)NC(=O)C(C)NC(=O)C(=C)NC(=O)C(C)NC(=O)C(C(C)CC)NC2C=Cc3c(C(C)O)cc(nc3C2O)C(=O)OC4C)n1)C(N)=O</span></span> <br> \n"
      ],
      "text/plain": [
       "<IPython.core.display.Markdown object>"
      ]
     },
     "metadata": {},
     "output_type": "display_data"
    },
    {
     "data": {
      "text/markdown": [
       "<span style=\"color: #d00\">Molecule already in list: <span style=\"color: #dc0\">COP(=O)(OC)OC(=CCl)c1cc(Cl)c(Cl)cc1Cl</span></span> <br> \n"
      ],
      "text/plain": [
       "<IPython.core.display.Markdown object>"
      ]
     },
     "metadata": {},
     "output_type": "display_data"
    },
    {
     "data": {
      "text/markdown": [
       "<span style=\"color: #d00\">Molecule already in list: <span style=\"color: #dc0\">C=C(NC(=O)C(=C)NC(=O)c1csc(C2=NC3c4csc(n4)C4NC(=O)c5csc(n5)C(C(C)(O)C(C)O)NC(=O)C5CSC(=N5)C(=CC)NC(=O)C(C(C)O)NC(=O)c5csc(n5)C3(CC2)NC(=O)C(C)NC(=O)C(=C)NC(=O)C(C)NC(=O)C(C(C)CC)NC2C=Cc3c(C(C)O)cc(nc3C2O)C(=O)OC4C)n1)C(N)=O</span></span> <br> \n"
      ],
      "text/plain": [
       "<IPython.core.display.Markdown object>"
      ]
     },
     "metadata": {},
     "output_type": "display_data"
    },
    {
     "data": {
      "text/markdown": [
       "<span style=\"color: #d00\">Molecule already in list: <span style=\"color: #dc0\">C=C(NC(=O)C(=C)NC(=O)c1csc(C2=NC3c4csc(n4)C4NC(=O)c5csc(n5)C(C(C)(O)C(C)O)NC(=O)C5CSC(=N5)C(=CC)NC(=O)C(C(C)O)NC(=O)c5csc(n5)C3(CC2)NC(=O)C(C)NC(=O)C(=C)NC(=O)C(C)NC(=O)C(C(C)CC)NC2C=Cc3c(C(C)O)cc(nc3C2O)C(=O)OC4C)n1)C(N)=O</span></span> <br> \n"
      ],
      "text/plain": [
       "<IPython.core.display.Markdown object>"
      ]
     },
     "metadata": {},
     "output_type": "display_data"
    },
    {
     "data": {
      "text/markdown": [
       "<span style=\"color: #d00\">Molecule already in list: <span style=\"color: #dc0\">C</span></span> <br> \n"
      ],
      "text/plain": [
       "<IPython.core.display.Markdown object>"
      ]
     },
     "metadata": {},
     "output_type": "display_data"
    },
    {
     "data": {
      "text/markdown": [
       "<span style=\"color: #d00\">Molecule already in list: <span style=\"color: #dc0\">COC(=O)C1C2CC3c4[nH]c5cc(OC)ccc5c4CCN3CC2CC(OC(=O)c2cc(OC)c(OC)c(OC)c2)C1OC</span></span> <br> \n"
      ],
      "text/plain": [
       "<IPython.core.display.Markdown object>"
      ]
     },
     "metadata": {},
     "output_type": "display_data"
    },
    {
     "data": {
      "text/markdown": [
       "<span style=\"color: #d00\">Molecule already in list: <span style=\"color: #dc0\">C</span></span> <br> \n"
      ],
      "text/plain": [
       "<IPython.core.display.Markdown object>"
      ]
     },
     "metadata": {},
     "output_type": "display_data"
    },
    {
     "data": {
      "text/markdown": [
       "<span style=\"color: #d00\">Molecule already in list: <span style=\"color: #dc0\">C=C(NC(=O)C(=C)NC(=O)c1csc(C2=NC3c4csc(n4)C4NC(=O)c5csc(n5)C(C(C)(O)C(C)O)NC(=O)C5CSC(=N5)C(=CC)NC(=O)C(C(C)O)NC(=O)c5csc(n5)C3(CC2)NC(=O)C(C)NC(=O)C(=C)NC(=O)C(C)NC(=O)C(C(C)CC)NC2C=Cc3c(C(C)O)cc(nc3C2O)C(=O)OC4C)n1)C(N)=O</span></span> <br> \n"
      ],
      "text/plain": [
       "<IPython.core.display.Markdown object>"
      ]
     },
     "metadata": {},
     "output_type": "display_data"
    },
    {
     "data": {
      "text/markdown": [
       "<span style=\"color: #d00\">Molecule already in list: <span style=\"color: #dc0\">C=C(NC(=O)C(=C)NC(=O)c1csc(C2=NC3c4csc(n4)C4NC(=O)c5csc(n5)C(C(C)(O)C(C)O)NC(=O)C5CSC(=N5)C(=CC)NC(=O)C(C(C)O)NC(=O)c5csc(n5)C3(CC2)NC(=O)C(C)NC(=O)C(=C)NC(=O)C(C)NC(=O)C(C(C)CC)NC2C=Cc3c(C(C)O)cc(nc3C2O)C(=O)OC4C)n1)C(N)=O</span></span> <br> \n"
      ],
      "text/plain": [
       "<IPython.core.display.Markdown object>"
      ]
     },
     "metadata": {},
     "output_type": "display_data"
    },
    {
     "data": {
      "text/markdown": [
       "<span style=\"color: #d00\">Molecule already in list: <span style=\"color: #dc0\">C=C(NC(=O)C(=C)NC(=O)c1csc(C2=NC3c4csc(n4)C4NC(=O)c5csc(n5)C(C(C)(O)C(C)O)NC(=O)C5CSC(=N5)C(=CC)NC(=O)C(C(C)O)NC(=O)c5csc(n5)C3(CC2)NC(=O)C(C)NC(=O)C(=C)NC(=O)C(C)NC(=O)C(C(C)CC)NC2C=Cc3c(C(C)O)cc(nc3C2O)C(=O)OC4C)n1)C(N)=O</span></span> <br> \n"
      ],
      "text/plain": [
       "<IPython.core.display.Markdown object>"
      ]
     },
     "metadata": {},
     "output_type": "display_data"
    },
    {
     "data": {
      "text/markdown": [
       "<span style=\"color: #d00\">Molecule already in list: <span style=\"color: #dc0\">C=C(NC(=O)C(=C)NC(=O)c1csc(C2=NC3c4csc(n4)C4NC(=O)c5csc(n5)C(C(C)(O)C(C)O)NC(=O)C5CSC(=N5)C(=CC)NC(=O)C(C(C)O)NC(=O)c5csc(n5)C3(CC2)NC(=O)C(C)NC(=O)C(=C)NC(=O)C(C)NC(=O)C(C(C)CC)NC2C=Cc3c(C(C)O)cc(nc3C2O)C(=O)OC4C)n1)C(N)=O</span></span> <br> \n"
      ],
      "text/plain": [
       "<IPython.core.display.Markdown object>"
      ]
     },
     "metadata": {},
     "output_type": "display_data"
    },
    {
     "data": {
      "text/markdown": [
       "<span style=\"color: #d00\">Molecule already in list: <span style=\"color: #dc0\">C</span></span> <br> \n"
      ],
      "text/plain": [
       "<IPython.core.display.Markdown object>"
      ]
     },
     "metadata": {},
     "output_type": "display_data"
    },
    {
     "data": {
      "text/markdown": [
       "<span style=\"color: #d00\">Molecule already in list: <span style=\"color: #dc0\">C</span></span> <br> \n"
      ],
      "text/plain": [
       "<IPython.core.display.Markdown object>"
      ]
     },
     "metadata": {},
     "output_type": "display_data"
    },
    {
     "data": {
      "text/markdown": [
       "<span style=\"color: #d00\">Molecule already in list: <span style=\"color: #dc0\">C</span></span> <br> \n"
      ],
      "text/plain": [
       "<IPython.core.display.Markdown object>"
      ]
     },
     "metadata": {},
     "output_type": "display_data"
    },
    {
     "data": {
      "text/markdown": [
       "<span style=\"color: #090\">Successfully loaded <span style=\"color: #dc0\">60</span> molecules into the working set</span> <br> \n"
      ],
      "text/plain": [
       "<IPython.core.display.Markdown object>"
      ]
     },
     "execution_count": 2,
     "metadata": {},
     "output_type": "execute_result"
    }
   ],
   "source": [
    "%openad load mols from dataframe df"
   ]
  },
  {
   "cell_type": "code",
   "execution_count": null,
   "id": "fdf89aed-5bee-4222-b1e9-91fce68dd66e",
   "metadata": {
    "tags": []
   },
   "outputs": [],
   "source": [
    "# %openad load mols from file '_test.molset.json'"
   ]
  },
  {
   "cell_type": "code",
   "execution_count": 4,
   "id": "35c948ea-1f0a-45a1-8255-5a488e88bd6d",
   "metadata": {
    "tags": []
   },
   "outputs": [
    {
     "data": {
      "text/html": [
       "\n",
       "            <style>\n",
       "                #btn-wrap-1738062655 { height:12px; right:20px; display:flex; flex-direction:row-reverse; position:relative }\n",
       "                #btn-wrap-1738062655 a { color:#393939; width:24px; height:24px; padding:4px; box-sizing:border-box; background:white }\n",
       "                #btn-wrap-1738062655 a:hover { color: #0f62fe }\n",
       "            </style>\n",
       "            <div id=\"btn-wrap-1738062655\"><a target=\"_blank\" href=\"http://127.0.0.1:8024/my-mols\"><svg width=\"16\" height=\"16\" viewBox=\"0 0 16 16\" fill=\"none\" xmlns=\"http://www.w3.org/2000/svg\"><path d=\"M13 14H3C2.73489 13.9996 2.48075 13.8942 2.29329 13.7067C2.10583 13.5193 2.00036 13.2651 2 13V3C2.00036 2.73489 2.10583 2.48075 2.29329 2.29329C2.48075 2.10583 2.73489 2.00036 3 2H8V3H3V13H13V8H14V13C13.9996 13.2651 13.8942 13.5193 13.7067 13.7067C13.5193 13.8942 13.2651 13.9996 13 14Z\" fill=\"currentColor\"/><path d=\"M10 1V2H13.293L9 6.293L9.707 7L14 2.707V6H15V1H10Z\" fill=\"currentColor\"/></svg></a><a href=\"#\" onclick=\"event.preventDefault(); document.querySelector('#btn-wrap-1738062655 + iframe').src=document.querySelector('#btn-wrap-1738062655 + iframe').src;\"><svg width=\"16\" height=\"16\" viewBox=\"0 0 16 16\" fill=\"none\" xmlns=\"http://www.w3.org/2000/svg\"><path d=\"M9 14C10.1867 14 11.3467 13.6481 12.3334 12.9888C13.3201 12.3295 14.0892 11.3925 14.5433 10.2961C14.9974 9.19975 15.1162 7.99335 14.8847 6.82946C14.6532 5.66558 14.0818 4.59648 13.2426 3.75736C12.4035 2.91825 11.3344 2.3468 10.1705 2.11529C9.00666 1.88378 7.80026 2.0026 6.7039 2.45673C5.60754 2.91085 4.67047 3.67989 4.01118 4.66658C3.35189 5.65328 3 6.81331 3 8V11.1L1.2 9.3L0.5 10L3.5 13L6.5 10L5.8 9.3L4 11.1V8C4 7.0111 4.29324 6.0444 4.84265 5.22215C5.39206 4.39991 6.17295 3.75904 7.08658 3.38061C8.00021 3.00217 9.00555 2.90315 9.97545 3.09608C10.9454 3.289 11.8363 3.76521 12.5355 4.46447C13.2348 5.16373 13.711 6.05465 13.9039 7.02455C14.0969 7.99446 13.9978 8.99979 13.6194 9.91342C13.241 10.8271 12.6001 11.6079 11.7779 12.1574C10.9556 12.7068 9.98891 13 9 13V14Z\" fill=\"currentColor\"/></svg></a></div><iframe src=\"http://127.0.0.1:8024/headless/my-mols\" crossorigin=\"anonymous\" width=\"100%\" height=\"700\" style=\"border:solid 1px #ddd;box-sizing:border-box;width:calc(100% + 20px)\"></iframe>"
      ],
      "text/plain": [
       "<IPython.core.display.HTML object>"
      ]
     },
     "metadata": {},
     "output_type": "display_data"
    }
   ],
   "source": [
    "%openad show mols"
   ]
  },
  {
   "cell_type": "code",
   "execution_count": 3,
   "id": "e347553e-b279-4078-92b3-ddd66e8c2d5e",
   "metadata": {
    "tags": []
   },
   "outputs": [
    {
     "name": "stdout",
     "output_type": "stream",
     "text": [
      "\n",
      "\n",
      "\n",
      "merge_molecule_property_data\n",
      "\n",
      "smiles *C(=O)O\n",
      "merge_smol:\n",
      " {'name': None, 'inchi': '', 'inchikey': None, 'canonical_smiles': '*C(=O)O', 'isomeric_smiles': '*C(=O)O', 'smiles': None, 'molecular_formula': 'CH*O2', 'cid': None} ----\n",
      "smiles C\n",
      "merge_smol:\n",
      " {'name': None, 'inchi': 'InChI=1S/CH4/h1H4', 'inchikey': 'VNWKTOKETHGBQD-UHFFFAOYSA-N', 'canonical_smiles': 'C', 'isomeric_smiles': 'C', 'smiles': None, 'molecular_formula': 'CH4', 'cid': None} ----\n",
      "smiles C#C\n",
      "merge_smol:\n",
      " {'name': None, 'inchi': 'InChI=1S/C2H2/c1-2/h1-2H', 'inchikey': 'HSFWRNGVRCDJHI-UHFFFAOYSA-N', 'canonical_smiles': 'C#C', 'isomeric_smiles': 'C#C', 'smiles': None, 'molecular_formula': 'C2H2', 'cid': None} ----\n",
      "smiles C=C(C)C1CC=C(C)C(=O)C1\n",
      "merge_smol:\n",
      " {'name': None, 'inchi': 'InChI=1S/C10H14O/c1-7(2)9-5-4-8(3)10(11)6-9/h4,9H,1,5-6H2,2-3H3', 'inchikey': 'ULDHMXUKGWMISQ-UHFFFAOYSA-N', 'canonical_smiles': 'C=C(C)C1CC=C(C)C(=O)C1', 'isomeric_smiles': 'C=C(C)C1CC=C(C)C(=O)C1', 'smiles': None, 'molecular_formula': 'C10H14O', 'cid': None} ----\n",
      "smiles C=C(NC(=O)C(=C)NC(=O)c1csc(C2=NC3c4csc(n4)C4NC(=O)c5csc(n5)C(C(C)(O)C(C)O)NC(=O)C5CSC(=N5)C(=CC)NC(=O)C(C(C)O)NC(=O)c5csc(n5)C3(CC2)NC(=O)C(C)NC(=O)C(=C)NC(=O)C(C)NC(=O)C(C(C)CC)NC2C=Cc3c(C(C)O)cc(nc3C2O)C(=O)OC4C)n1)C(N)=O\n",
      "merge_smol:\n",
      " {'name': None, 'inchi': 'InChI=1S/C72H85N19O18S5/c1-14-26(3)47-63(105)78-30(7)57(99)75-28(5)56(98)76-31(8)58(100)91-72-19-18-40(66-85-43(22-111-66)59(101)77-29(6)55(97)74-27(4)54(73)96)81-52(72)42-21-112-67(83-42)49(34(11)109-69(107)41-20-37(32(9)92)36-16-17-39(79-47)51(95)50(36)80-41)89-60(102)44-24-113-68(86-44)53(71(13,108)35(12)94)90-62(104)45-23-110-65(84-45)38(15-2)82-64(106)48(33(10)93)88-61(103)46-25-114-70(72)87-46/h15-17,20-22,24-26,30-35,39,45,47-49,51-53,79,92-95,108H,4-6,14,18-19,23H2,1-3,7-13H3,(H2,73,96)(H,74,97)(H,75,99)(H,76,98)(H,77,101)(H,78,105)(H,82,106)(H,88,103)(H,89,102)(H,90,104)(H,91,100)', 'inchikey': 'NSFFHOGKXHRQEW-UHFFFAOYSA-N', 'canonical_smiles': 'C=C(NC(=O)C(=C)NC(=O)c1csc(C2=NC3c4csc(n4)C4NC(=O)c5csc(n5)C(C(C)(O)C(C)O)NC(=O)C5CSC(=N5)C(=CC)NC(=O)C(C(C)O)NC(=O)c5csc(n5)C3(CC2)NC(=O)C(C)NC(=O)C(=C)NC(=O)C(C)NC(=O)C(C(C)CC)NC2C=Cc3c(C(C)O)cc(nc3C2O)C(=O)OC4C)n1)C(N)=O', 'isomeric_smiles': 'C=C(NC(=O)C(=C)NC(=O)c1csc(C2=NC3c4csc(n4)C4NC(=O)c5csc(n5)C(C(C)(O)C(C)O)NC(=O)C5CSC(=N5)C(=CC)NC(=O)C(C(C)O)NC(=O)c5csc(n5)C3(CC2)NC(=O)C(C)NC(=O)C(=C)NC(=O)C(C)NC(=O)C(C(C)CC)NC2C=Cc3c(C(C)O)cc(nc3C2O)C(=O)OC4C)n1)C(N)=O', 'smiles': None, 'molecular_formula': 'C72H85N19O18S5', 'cid': None} ----\n",
      "smiles C=CCN1CCC23c4c5ccc(O)c4OC2C(=O)CCC3(O)C1C5\n",
      "merge_smol:\n",
      " {'name': None, 'inchi': 'InChI=1S/C19H21NO4/c1-2-8-20-9-7-18-15-11-3-4-12(21)16(15)24-17(18)13(22)5-6-19(18,23)14(20)10-11/h2-4,14,17,21,23H,1,5-10H2', 'inchikey': 'UZHSEJADLWPNLE-UHFFFAOYSA-N', 'canonical_smiles': 'C=CCN1CCC23c4c5ccc(O)c4OC2C(=O)CCC3(O)C1C5', 'isomeric_smiles': 'C=CCN1CCC23c4c5ccc(O)c4OC2C(=O)CCC3(O)C1C5', 'smiles': None, 'molecular_formula': 'C19H21NO4', 'cid': None} ----\n",
      "smiles CC(C)OC(=O)C(C)N(C(=O)c1ccccc1)c1ccc(F)c(Cl)c1\n",
      "merge_smol:\n",
      " {'name': None, 'inchi': 'InChI=1S/C19H19ClFNO3/c1-12(2)25-19(24)13(3)22(15-9-10-17(21)16(20)11-15)18(23)14-7-5-4-6-8-14/h4-13H,1-3H3', 'inchikey': 'IKVXBIIHQGXQRQ-UHFFFAOYSA-N', 'canonical_smiles': 'CC(C)OC(=O)C(C)N(C(=O)c1ccccc1)c1ccc(F)c(Cl)c1', 'isomeric_smiles': 'CC(C)OC(=O)C(C)N(C(=O)c1ccccc1)c1ccc(F)c(Cl)c1', 'smiles': None, 'molecular_formula': 'C19H19ClFNO3', 'cid': None} ----\n",
      "smiles CC(Cl)(Cl)C(=O)OCCOc1cc(Cl)c(Cl)cc1Cl\n",
      "merge_smol:\n",
      " {'name': None, 'inchi': 'InChI=1S/C11H9Cl5O3/c1-11(15,16)10(17)19-3-2-18-9-5-7(13)6(12)4-8(9)14/h4-5H,2-3H2,1H3', 'inchikey': 'KMHZPJNVPCAUMN-UHFFFAOYSA-N', 'canonical_smiles': 'CC(Cl)(Cl)C(=O)OCCOc1cc(Cl)c(Cl)cc1Cl', 'isomeric_smiles': 'CC(Cl)(Cl)C(=O)OCCOc1cc(Cl)c(Cl)cc1Cl', 'smiles': None, 'molecular_formula': 'C11H9Cl5O3', 'cid': None} ----\n",
      "smiles CC1=C(C(=O)OCC(=O)[O-])CC(C(=O)OCC(=O)[O-])=C(C)N1.[Na+].[Na+]\n",
      "merge_smol:\n",
      " {'name': None, 'inchi': 'InChI=1S/C13H15NO8.2Na/c1-6-8(12(19)21-4-10(15)16)3-9(7(2)14-6)13(20)22-5-11(17)18;;/h14H,3-5H2,1-2H3,(H,15,16)(H,17,18);;/q;2*+1/p-2', 'inchikey': 'BGIRBEKPXNDRDM-UHFFFAOYSA-L', 'canonical_smiles': 'CC1=C(C(=O)OCC(=O)[O-])CC(C(=O)OCC(=O)[O-])=C(C)N1.[Na+].[Na+]', 'isomeric_smiles': 'CC1=C(C(=O)OCC(=O)[O-])CC(C(=O)OCC(=O)[O-])=C(C)N1.[Na+].[Na+]', 'smiles': None, 'molecular_formula': 'C13H13NNa2O8', 'cid': None} ----\n",
      "smiles CC1=CC(=O)c2ccccc2C1=O\n",
      "merge_smol:\n",
      " {'name': None, 'inchi': 'InChI=1S/C11H8O2/c1-7-6-10(12)8-4-2-3-5-9(8)11(7)13/h2-6H,1H3', 'inchikey': 'MJVAVZPDRWSRRC-UHFFFAOYSA-N', 'canonical_smiles': 'CC1=CC(=O)c2ccccc2C1=O', 'isomeric_smiles': 'CC1=CC(=O)c2ccccc2C1=O', 'smiles': None, 'molecular_formula': 'C11H8O2', 'cid': None} ----\n",
      "smiles CC1=CCC(C(C)C)CC1=O\n",
      "merge_smol:\n",
      " {'name': None, 'inchi': 'InChI=1S/C10H16O/c1-7(2)9-5-4-8(3)10(11)6-9/h4,7,9H,5-6H2,1-3H3', 'inchikey': 'WPGPCDVQHXOMQP-UHFFFAOYSA-N', 'canonical_smiles': 'CC1=CCC(C(C)C)CC1=O', 'isomeric_smiles': 'CC1=CCC(C(C)C)CC1=O', 'smiles': None, 'molecular_formula': 'C10H16O', 'cid': None} ----\n",
      "smiles CC1C#CC2C(C1)C2(C)C\n",
      "merge_smol:\n",
      " {'name': None, 'inchi': 'InChI=1S/C10H14/c1-7-4-5-8-9(6-7)10(8,2)3/h7-9H,6H2,1-3H3', 'inchikey': 'FVKIZXFSOIARHA-UHFFFAOYSA-N', 'canonical_smiles': 'CC1C#CC2C(C1)C2(C)C', 'isomeric_smiles': 'CC1C#CC2C(C1)C2(C)C', 'smiles': None, 'molecular_formula': 'C10H14', 'cid': None} ----\n",
      "smiles CC1CCC2C(C)(C)C2(C=O)C1=O\n",
      "merge_smol:\n",
      " {'name': None, 'inchi': 'InChI=1S/C11H16O2/c1-7-4-5-8-10(2,3)11(8,6-12)9(7)13/h6-8H,4-5H2,1-3H3', 'inchikey': 'QMCJBENSMBEQJR-UHFFFAOYSA-N', 'canonical_smiles': 'CC1CCC2C(C)(C)C2(C=O)C1=O', 'isomeric_smiles': 'CC1CCC2C(C)(C)C2(C=O)C1=O', 'smiles': None, 'molecular_formula': 'C11H16O2', 'cid': None} ----\n",
      "smiles CC1CCC2C(C)(C)C2(O)C1=O\n",
      "merge_smol:\n",
      " {'name': None, 'inchi': 'InChI=1S/C10H16O2/c1-6-4-5-7-9(2,3)10(7,12)8(6)11/h6-7,12H,4-5H2,1-3H3', 'inchikey': 'RTZNYCZOQOLCNE-UHFFFAOYSA-N', 'canonical_smiles': 'CC1CCC2C(C)(C)C2(O)C1=O', 'isomeric_smiles': 'CC1CCC2C(C)(C)C2(O)C1=O', 'smiles': None, 'molecular_formula': 'C10H16O2', 'cid': None} ----\n",
      "smiles CC1CCC2C(C1=O)C2(C)C\n",
      "merge_smol:\n",
      " {'name': None, 'inchi': 'InChI=1S/C10H16O/c1-6-4-5-7-8(9(6)11)10(7,2)3/h6-8H,4-5H2,1-3H3', 'inchikey': 'CNJLMVZFWLNOEP-UHFFFAOYSA-N', 'canonical_smiles': 'CC1CCC2C(C1=O)C2(C)C', 'isomeric_smiles': 'CC1CCC2C(C1=O)C2(C)C', 'smiles': None, 'molecular_formula': 'C10H16O', 'cid': None} ----\n",
      "smiles CCC(=O)OC(Cc1ccccc1)(c1ccccc1)C(C)CN(C)C\n",
      "merge_smol:\n",
      " {'name': None, 'inchi': 'InChI=1S/C22H29NO2/c1-5-21(24)25-22(18(2)17-23(3)4,20-14-10-7-11-15-20)16-19-12-8-6-9-13-19/h6-15,18H,5,16-17H2,1-4H3', 'inchikey': 'XLMALTXPSGQGBX-UHFFFAOYSA-N', 'canonical_smiles': 'CCC(=O)OC(Cc1ccccc1)(c1ccccc1)C(C)CN(C)C', 'isomeric_smiles': 'CCC(=O)OC(Cc1ccccc1)(c1ccccc1)C(C)CN(C)C', 'smiles': None, 'molecular_formula': 'C22H29NO2', 'cid': None} ----\n",
      "smiles CCC(=O)OC(Cc1ccccc1)(c1ccccc1)C(C)CN(C)C.Cl\n",
      "merge_smol:\n",
      " {'name': None, 'inchi': 'InChI=1S/C22H29NO2.ClH/c1-5-21(24)25-22(18(2)17-23(3)4,20-14-10-7-11-15-20)16-19-12-8-6-9-13-19;/h6-15,18H,5,16-17H2,1-4H3;1H', 'inchikey': 'QMQBBUPJKANITL-UHFFFAOYSA-N', 'canonical_smiles': 'CCC(=O)OC(Cc1ccccc1)(c1ccccc1)C(C)CN(C)C.Cl', 'isomeric_smiles': 'CCC(=O)OC(Cc1ccccc1)(c1ccccc1)C(C)CN(C)C.Cl', 'smiles': None, 'molecular_formula': 'C22H30ClNO2', 'cid': None} ----\n",
      "smiles CCC(=O)c1ccc2c(c1)N(CC(C)N(C)C)c1ccccc1S2\n",
      "merge_smol:\n",
      " {'name': None, 'inchi': 'InChI=1S/C20H24N2OS/c1-5-18(23)15-10-11-20-17(12-15)22(13-14(2)21(3)4)16-8-6-7-9-19(16)24-20/h6-12,14H,5,13H2,1-4H3', 'inchikey': 'UVOIBTBFPOZKGP-UHFFFAOYSA-N', 'canonical_smiles': 'CCC(=O)c1ccc2c(c1)N(CC(C)N(C)C)c1ccccc1S2', 'isomeric_smiles': 'CCC(=O)c1ccc2c(c1)N(CC(C)N(C)C)c1ccccc1S2', 'smiles': None, 'molecular_formula': 'C20H24N2OS', 'cid': None} ----\n",
      "smiles CCC(=O)c1ccc2c(c1)N(CC(C)N(C)C)c1ccccc1S2.Cl\n",
      "merge_smol:\n",
      " {'name': None, 'inchi': 'InChI=1S/C20H24N2OS.ClH/c1-5-18(23)15-10-11-20-17(12-15)22(13-14(2)21(3)4)16-8-6-7-9-19(16)24-20;/h6-12,14H,5,13H2,1-4H3;1H', 'inchikey': 'UGVNGSMLNPWNNA-UHFFFAOYSA-N', 'canonical_smiles': 'CCC(=O)c1ccc2c(c1)N(CC(C)N(C)C)c1ccccc1S2.Cl', 'isomeric_smiles': 'CCC(=O)c1ccc2c(c1)N(CC(C)N(C)C)c1ccccc1S2.Cl', 'smiles': None, 'molecular_formula': 'C20H25ClN2OS', 'cid': None} ----\n",
      "smiles CCC(=O)c1ccc2c(c1)N(CC(C)N(C)C)c1ccccc1S2.[Cl-].[H+]\n",
      "smiles CCCCCCCCCCCCCCCc1cc(O)cc(O)c1\n",
      "merge_smol:\n",
      " {'name': None, 'inchi': 'InChI=1S/C21H36O2/c1-2-3-4-5-6-7-8-9-10-11-12-13-14-15-19-16-20(22)18-21(23)17-19/h16-18,22-23H,2-15H2,1H3', 'inchikey': 'KVVSCMOUFCNCGX-UHFFFAOYSA-N', 'canonical_smiles': 'CCCCCCCCCCCCCCCc1cc(O)cc(O)c1', 'isomeric_smiles': 'CCCCCCCCCCCCCCCc1cc(O)cc(O)c1', 'smiles': None, 'molecular_formula': 'C21H36O2', 'cid': None} ----\n",
      "smiles CCN(CC)CC.O=C(O)COc1nc(Cl)c(Cl)cc1Cl\n",
      "merge_smol:\n",
      " {'name': None, 'inchi': 'InChI=1S/C7H4Cl3NO3.C6H15N/c8-3-1-4(9)7(11-6(3)10)14-2-5(12)13;1-4-7(5-2)6-3/h1H,2H2,(H,12,13);4-6H2,1-3H3', 'inchikey': 'ROKVVMOXSZIDEG-UHFFFAOYSA-N', 'canonical_smiles': 'CCN(CC)CC.O=C(O)COc1nc(Cl)c(Cl)cc1Cl', 'isomeric_smiles': 'CCN(CC)CC.O=C(O)COc1nc(Cl)c(Cl)cc1Cl', 'smiles': None, 'molecular_formula': 'C13H19Cl3N2O3', 'cid': None} ----\n",
      "smiles CCN(CC)CCOC(=O)C(O)(c1ccccc1)c1ccccc1.Cl\n",
      "merge_smol:\n",
      " {'name': None, 'inchi': 'InChI=1S/C20H25NO3.ClH/c1-3-21(4-2)15-16-24-19(22)20(23,17-11-7-5-8-12-17)18-13-9-6-10-14-18;/h5-14,23H,3-4,15-16H2,1-2H3;1H', 'inchikey': 'ZCEHOOLYWQBGQO-UHFFFAOYSA-N', 'canonical_smiles': 'CCN(CC)CCOC(=O)C(O)(c1ccccc1)c1ccccc1.Cl', 'isomeric_smiles': 'CCN(CC)CCOC(=O)C(O)(c1ccccc1)c1ccccc1.Cl', 'smiles': None, 'molecular_formula': 'C20H26ClNO3', 'cid': None} ----\n",
      "smiles CCn1cc(C(=O)O)c(=O)c2cc(F)c(N3CCNC(C)C3)c(F)c21.Cl\n",
      "merge_smol:\n",
      " {'name': None, 'inchi': 'InChI=1S/C17H19F2N3O3.ClH/c1-3-21-8-11(17(24)25)16(23)10-6-12(18)15(13(19)14(10)21)22-5-4-20-9(2)7-22;/h6,8-9,20H,3-5,7H2,1-2H3,(H,24,25);1H', 'inchikey': 'KXEBLAPZMOQCKO-UHFFFAOYSA-N', 'canonical_smiles': 'CCn1cc(C(=O)O)c(=O)c2cc(F)c(N3CCNC(C)C3)c(F)c21.Cl', 'isomeric_smiles': 'CCn1cc(C(=O)O)c(=O)c2cc(F)c(N3CCNC(C)C3)c(F)c21.Cl', 'smiles': None, 'molecular_formula': 'C17H20ClF2N3O3', 'cid': None} ----\n",
      "smiles COC(=O)C1C2CC3c4[nH]c5cc(OC)ccc5c4CCN3CC2CC(OC(=O)c2cc(OC)c(OC)c(OC)c2)C1OC\n",
      "merge_smol:\n",
      " {'name': None, 'inchi': 'InChI=1S/C33H40N2O9/c1-38-19-7-8-20-21-9-10-35-16-18-13-27(44-32(36)17-11-25(39-2)30(41-4)26(12-17)40-3)31(42-5)28(33(37)43-6)22(18)15-24(35)29(21)34-23(20)14-19/h7-8,11-12,14,18,22,24,27-28,31,34H,9-10,13,15-16H2,1-6H3', 'inchikey': 'QEVHRUUCFGRFIF-UHFFFAOYSA-N', 'canonical_smiles': 'COC(=O)C1C2CC3c4[nH]c5cc(OC)ccc5c4CCN3CC2CC(OC(=O)c2cc(OC)c(OC)c(OC)c2)C1OC', 'isomeric_smiles': 'COC(=O)C1C2CC3c4[nH]c5cc(OC)ccc5c4CCN3CC2CC(OC(=O)c2cc(OC)c(OC)c(OC)c2)C1OC', 'smiles': None, 'molecular_formula': 'C33H40N2O9', 'cid': None} ----\n",
      "smiles COC(=O)Nc1nc2ccccc2[nH]1\n",
      "merge_smol:\n",
      " {'name': None, 'inchi': 'InChI=1S/C9H9N3O2/c1-14-9(13)12-8-10-6-4-2-3-5-7(6)11-8/h2-5H,1H3,(H2,10,11,12,13)', 'inchikey': 'TWFZGCMQGLPBSX-UHFFFAOYSA-N', 'canonical_smiles': 'COC(=O)Nc1nc2ccccc2[nH]1', 'isomeric_smiles': 'COC(=O)Nc1nc2ccccc2[nH]1', 'smiles': None, 'molecular_formula': 'C9H9N3O2', 'cid': None} ----\n",
      "smiles COP(=O)(OC)OC(=CCl)c1cc(Cl)c(Cl)cc1Cl\n",
      "merge_smol:\n",
      " {'name': None, 'inchi': 'InChI=1S/C10H9Cl4O4P/c1-16-19(15,17-2)18-10(5-11)6-3-8(13)9(14)4-7(6)12/h3-5H,1-2H3', 'inchikey': 'UBCKGWBNUIFUST-UHFFFAOYSA-N', 'canonical_smiles': 'COP(=O)(OC)OC(=CCl)c1cc(Cl)c(Cl)cc1Cl', 'isomeric_smiles': 'COP(=O)(OC)OC(=CCl)c1cc(Cl)c(Cl)cc1Cl', 'smiles': None, 'molecular_formula': 'C10H9Cl4O4P', 'cid': None} ----\n",
      "smiles CO[C-]=[O+]C\n",
      "merge_smol:\n",
      " {'name': None, 'inchi': 'InChI=1S/C3H6O2/c1-4-3-5-2/h1-2H3', 'inchikey': 'RUKWBTSQVWLBIH-UHFFFAOYSA-N', 'canonical_smiles': 'CO[C-]=[O+]C', 'isomeric_smiles': 'CO[C-]=[O+]C', 'smiles': None, 'molecular_formula': 'C3H6O2', 'cid': None} ----\n",
      "smiles COc1cccc(C2(O)CCCCC2CN(C)C)c1.Cl\n",
      "merge_smol:\n",
      " {'name': None, 'inchi': 'InChI=1S/C16H25NO2.ClH/c1-17(2)12-14-7-4-5-10-16(14,18)13-8-6-9-15(11-13)19-3;/h6,8-9,11,14,18H,4-5,7,10,12H2,1-3H3;1H', 'inchikey': 'PPKXEPBICJTCRU-UHFFFAOYSA-N', 'canonical_smiles': 'COc1cccc(C2(O)CCCCC2CN(C)C)c1.Cl', 'isomeric_smiles': 'COc1cccc(C2(O)CCCCC2CN(C)C)c1.Cl', 'smiles': None, 'molecular_formula': 'C16H26ClNO2', 'cid': None} ----\n",
      "smiles Cc1cc(Cl)ccc1N=CN(C)C\n",
      "merge_smol:\n",
      " {'name': None, 'inchi': 'InChI=1S/C10H13ClN2/c1-8-6-9(11)4-5-10(8)12-7-13(2)3/h4-7H,1-3H3', 'inchikey': 'STUSTWKEFDQFFZ-UHFFFAOYSA-N', 'canonical_smiles': 'Cc1cc(Cl)ccc1N=CN(C)C', 'isomeric_smiles': 'Cc1cc(Cl)ccc1N=CN(C)C', 'smiles': None, 'molecular_formula': 'C10H13ClN2', 'cid': None} ----\n",
      "smiles ClC(Cl)(Cl)Cl\n",
      "merge_smol:\n",
      " {'name': None, 'inchi': 'InChI=1S/CCl4/c2-1(3,4)5', 'inchikey': 'VZGDMQKNWNREIO-UHFFFAOYSA-N', 'canonical_smiles': 'ClC(Cl)(Cl)Cl', 'isomeric_smiles': 'ClC(Cl)(Cl)Cl', 'smiles': None, 'molecular_formula': 'CCl4', 'cid': None} ----\n",
      "smiles N#CCNC(=O)c1cnccc1C(F)(F)F\n",
      "merge_smol:\n",
      " {'name': None, 'inchi': 'InChI=1S/C9H6F3N3O/c10-9(11,12)7-1-3-14-5-6(7)8(16)15-4-2-13/h1,3,5H,4H2,(H,15,16)', 'inchikey': 'RLQJEEJISHYWON-UHFFFAOYSA-N', 'canonical_smiles': 'N#CCNC(=O)c1cnccc1C(F)(F)F', 'isomeric_smiles': 'N#CCNC(=O)c1cnccc1C(F)(F)F', 'smiles': None, 'molecular_formula': 'C9H6F3N3O', 'cid': None} ----\n",
      "smiles NC(N)=O\n",
      "merge_smol:\n",
      " {'name': None, 'inchi': 'InChI=1S/CH4N2O/c2-1(3)4/h(H4,2,3,4)', 'inchikey': 'XSQUKJJJFZCRTK-UHFFFAOYSA-N', 'canonical_smiles': 'NC(N)=O', 'isomeric_smiles': 'NC(N)=O', 'smiles': None, 'molecular_formula': 'CH4N2O', 'cid': None} ----\n",
      "smiles NCCCCC(NC(CCc1ccccc1)C(=O)O)C(=O)N1CCCC1C(=O)O\n",
      "merge_smol:\n",
      " {'name': None, 'inchi': 'InChI=1S/C21H31N3O5/c22-13-5-4-9-16(19(25)24-14-6-10-18(24)21(28)29)23-17(20(26)27)12-11-15-7-2-1-3-8-15/h1-3,7-8,16-18,23H,4-6,9-14,22H2,(H,26,27)(H,28,29)', 'inchikey': 'RLAWWYSOJDYHDC-UHFFFAOYSA-N', 'canonical_smiles': 'NCCCCC(NC(CCc1ccccc1)C(=O)O)C(=O)N1CCCC1C(=O)O', 'isomeric_smiles': 'NCCCCC(NC(CCc1ccccc1)C(=O)O)C(=O)N1CCCC1C(=O)O', 'smiles': None, 'molecular_formula': 'C21H31N3O5', 'cid': None} ----\n",
      "smiles O=C(Nc1cccc(Cl)c1)OCC#CCCl\n",
      "merge_smol:\n",
      " {'name': None, 'inchi': 'InChI=1S/C11H9Cl2NO2/c12-6-1-2-7-16-11(15)14-10-5-3-4-9(13)8-10/h3-5,8H,6-7H2,(H,14,15)', 'inchikey': 'MCOQHIWZJUDQIC-UHFFFAOYSA-N', 'canonical_smiles': 'O=C(Nc1cccc(Cl)c1)OCC#CCCl', 'isomeric_smiles': 'O=C(Nc1cccc(Cl)c1)OCC#CCCl', 'smiles': None, 'molecular_formula': 'C11H9Cl2NO2', 'cid': None} ----\n",
      "smiles O=C(O)COc1nc(Cl)c(Cl)cc1Cl\n",
      "merge_smol:\n",
      " {'name': None, 'inchi': 'InChI=1S/C7H4Cl3NO3/c8-3-1-4(9)7(11-6(3)10)14-2-5(12)13/h1H,2H2,(H,12,13)', 'inchikey': 'REEQLXCGVXDJSQ-UHFFFAOYSA-N', 'canonical_smiles': 'O=C(O)COc1nc(Cl)c(Cl)cc1Cl', 'isomeric_smiles': 'O=C(O)COc1nc(Cl)c(Cl)cc1Cl', 'smiles': None, 'molecular_formula': 'C7H4Cl3NO3', 'cid': None} ----\n",
      "smiles O=C([O-])C=Cc1ccc(Cn2ccnc2)cc1.[Na+]\n",
      "merge_smol:\n",
      " {'name': None, 'inchi': 'InChI=1S/C13H12N2O2.Na/c16-13(17)6-5-11-1-3-12(4-2-11)9-15-8-7-14-10-15;/h1-8,10H,9H2,(H,16,17);/q;+1/p-1', 'inchikey': 'NCNYJCOBUTXCBR-UHFFFAOYSA-M', 'canonical_smiles': 'O=C([O-])C=Cc1ccc(Cn2ccnc2)cc1.[Na+]', 'isomeric_smiles': 'O=C([O-])C=Cc1ccc(Cn2ccnc2)cc1.[Na+]', 'smiles': None, 'molecular_formula': 'C13H11N2NaO2', 'cid': None} ----\n",
      "smiles O=C=O.O=O\n",
      "merge_smol:\n",
      " {'name': None, 'inchi': 'InChI=1S/CO2.O2/c2-1-3;1-2', 'inchikey': 'UBAZGMLMVVQSCD-UHFFFAOYSA-N', 'canonical_smiles': 'O=C=O.O=O', 'isomeric_smiles': 'O=C=O.O=O', 'smiles': None, 'molecular_formula': 'CO4', 'cid': None} ----\n",
      "smiles O=S(=O)(O)c1cc(O)c(N=Nc2c(O)ccc3ccccc23)c2ccccc12\n",
      "merge_smol:\n",
      " {'name': None, 'inchi': 'InChI=1S/C20H14N2O5S/c23-16-10-9-12-5-1-2-6-13(12)19(16)21-22-20-15-8-4-3-7-14(15)18(11-17(20)24)28(25,26)27/h1-11,23-24H,(H,25,26,27)', 'inchikey': 'ZMLWOOMWRCRLCH-UHFFFAOYSA-N', 'canonical_smiles': 'O=S(=O)(O)c1cc(O)c(N=Nc2c(O)ccc3ccccc23)c2ccccc12', 'isomeric_smiles': 'O=S(=O)(O)c1cc(O)c(N=Nc2c(O)ccc3ccccc23)c2ccccc12', 'smiles': None, 'molecular_formula': 'C20H14N2O5S', 'cid': None} ----\n",
      "smiles O=S(=O)([O-])c1cc(O)c(N=Nc2c(O)ccc3ccccc23)c2ccccc12.[Na+]\n",
      "merge_smol:\n",
      " {'name': None, 'inchi': 'InChI=1S/C20H14N2O5S.Na/c23-16-10-9-12-5-1-2-6-13(12)19(16)21-22-20-15-8-4-3-7-14(15)18(11-17(20)24)28(25,26)27;/h1-11,23-24H,(H,25,26,27);/q;+1/p-1', 'inchikey': 'ZQWICJYATMSSSD-UHFFFAOYSA-M', 'canonical_smiles': 'O=S(=O)([O-])c1cc(O)c(N=Nc2c(O)ccc3ccccc23)c2ccccc12.[Na+]', 'isomeric_smiles': 'O=S(=O)([O-])c1cc(O)c(N=Nc2c(O)ccc3ccccc23)c2ccccc12.[Na+]', 'smiles': None, 'molecular_formula': 'C20H13N2NaO5S', 'cid': None} ----\n",
      "smiles OC(c1ccc(Cl)cc1)(c1ccc(Cl)cc1)C(Cl)(Cl)Cl\n",
      "merge_smol:\n",
      " {'name': None, 'inchi': 'InChI=1S/C14H9Cl5O/c15-11-5-1-9(2-6-11)13(20,14(17,18)19)10-3-7-12(16)8-4-10/h1-8,20H', 'inchikey': 'UOAMTSKGCBMZTC-UHFFFAOYSA-N', 'canonical_smiles': 'OC(c1ccc(Cl)cc1)(c1ccc(Cl)cc1)C(Cl)(Cl)Cl', 'isomeric_smiles': 'OC(c1ccc(Cl)cc1)(c1ccc(Cl)cc1)C(Cl)(Cl)Cl', 'smiles': None, 'molecular_formula': 'C14H9Cl5O', 'cid': None} ----\n",
      "smiles OC(c1ccc(Cl)cc1)(c1ccc(Cl)cc1)c1cccnc1\n",
      "merge_smol:\n",
      " {'name': None, 'inchi': 'InChI=1S/C18H13Cl2NO/c19-16-7-3-13(4-8-16)18(22,15-2-1-11-21-12-15)14-5-9-17(20)10-6-14/h1-12,22H', 'inchikey': 'NBNTWDUNCHRWMT-UHFFFAOYSA-N', 'canonical_smiles': 'OC(c1ccc(Cl)cc1)(c1ccc(Cl)cc1)c1cccnc1', 'isomeric_smiles': 'OC(c1ccc(Cl)cc1)(c1ccc(Cl)cc1)c1cccnc1', 'smiles': None, 'molecular_formula': 'C18H13Cl2NO', 'cid': None} ----\n",
      "smiles OCC(O)C(O)C(O)C(O)CO\n",
      "merge_smol:\n",
      " {'name': None, 'inchi': 'InChI=1S/C6H14O6/c7-1-3(9)5(11)6(12)4(10)2-8/h3-12H,1-2H2', 'inchikey': 'FBPFZTCFMRRESA-UHFFFAOYSA-N', 'canonical_smiles': 'OCC(O)C(O)C(O)C(O)CO', 'isomeric_smiles': 'OCC(O)C(O)C(O)C(O)CO', 'smiles': None, 'molecular_formula': 'C6H14O6', 'cid': None} ----\n",
      "smiles Oc1ccccc1\n",
      "merge_smol:\n",
      " {'name': None, 'inchi': 'InChI=1S/C6H6O/c7-6-4-2-1-3-5-6/h1-5,7H', 'inchikey': 'ISWSIDIOOBJBQZ-UHFFFAOYSA-N', 'canonical_smiles': 'Oc1ccccc1', 'isomeric_smiles': 'Oc1ccccc1', 'smiles': None, 'molecular_formula': 'C6H6O', 'cid': None} ----\n",
      "smiles Oc1ccccc1.[Na]\n",
      "merge_smol:\n",
      " {'name': None, 'inchi': 'InChI=1S/C6H6O.Na/c7-6-4-2-1-3-5-6;/h1-5,7H;', 'inchikey': 'PYOZTOXFQNWBIS-UHFFFAOYSA-N', 'canonical_smiles': 'Oc1ccccc1.[Na]', 'isomeric_smiles': 'Oc1ccccc1.[Na]', 'smiles': None, 'molecular_formula': 'C6H6NaO', 'cid': None} ----\n",
      "smiles [Ar]\n",
      "merge_smol:\n",
      " {'name': None, 'inchi': 'InChI=1S/Ar', 'inchikey': 'XKRFYHLGVUSROY-UHFFFAOYSA-N', 'canonical_smiles': '[Ar]', 'isomeric_smiles': '[Ar]', 'smiles': None, 'molecular_formula': 'Ar', 'cid': None} ----\n",
      "smiles [Ar].[Ar]\n",
      "merge_smol:\n",
      " {'name': None, 'inchi': 'InChI=1S/2Ar', 'inchikey': 'XMPZLAQHPIBDSO-UHFFFAOYSA-N', 'canonical_smiles': '[Ar].[Ar]', 'isomeric_smiles': '[Ar].[Ar]', 'smiles': None, 'molecular_formula': 'Ar2', 'cid': None} ----\n",
      "smiles [Ar].[Ar].[Ar]\n",
      "merge_smol:\n",
      " {'name': None, 'inchi': 'InChI=1S/3Ar', 'inchikey': 'BJURWZBIJTZDMV-UHFFFAOYSA-N', 'canonical_smiles': '[Ar].[Ar].[Ar]', 'isomeric_smiles': '[Ar].[Ar].[Ar]', 'smiles': None, 'molecular_formula': 'Ar3', 'cid': None} ----\n",
      "smiles [Ar].[Ar].[Ar].[Ar]\n",
      "merge_smol:\n",
      " {'name': None, 'inchi': 'InChI=1S/4Ar', 'inchikey': 'HBNGHJGFHSCJKO-UHFFFAOYSA-N', 'canonical_smiles': '[Ar].[Ar].[Ar].[Ar]', 'isomeric_smiles': '[Ar].[Ar].[Ar].[Ar]', 'smiles': None, 'molecular_formula': 'Ar4', 'cid': None} ----\n",
      "smiles [Ar].[Ar].[Ar].[Ar].[Ar]\n",
      "merge_smol:\n",
      " {'name': None, 'inchi': 'InChI=1S/5Ar', 'inchikey': 'LQTCVXAEFPXHDV-UHFFFAOYSA-N', 'canonical_smiles': '[Ar].[Ar].[Ar].[Ar].[Ar]', 'isomeric_smiles': '[Ar].[Ar].[Ar].[Ar].[Ar]', 'smiles': None, 'molecular_formula': 'Ar5', 'cid': None} ----\n",
      "smiles [Ar].[Ar].[Ar].[Ar].[Ar].[Ar]\n",
      "merge_smol:\n",
      " {'name': None, 'inchi': 'InChI=1S/6Ar', 'inchikey': 'PREZNNVHVVLISC-UHFFFAOYSA-N', 'canonical_smiles': '[Ar].[Ar].[Ar].[Ar].[Ar].[Ar]', 'isomeric_smiles': '[Ar].[Ar].[Ar].[Ar].[Ar].[Ar]', 'smiles': None, 'molecular_formula': 'Ar6', 'cid': None} ----\n",
      "smiles [Ar].[Ar].[Ar].[Ar].[Ar].[Ar].[Ar].[Ar]\n",
      "merge_smol:\n",
      " {'name': None, 'inchi': 'InChI=1S/8Ar', 'inchikey': 'UFRYQIOLNZYNBL-UHFFFAOYSA-N', 'canonical_smiles': '[Ar].[Ar].[Ar].[Ar].[Ar].[Ar].[Ar].[Ar]', 'isomeric_smiles': '[Ar].[Ar].[Ar].[Ar].[Ar].[Ar].[Ar].[Ar]', 'smiles': None, 'molecular_formula': 'Ar8', 'cid': None} ----\n",
      "smiles [Ar].[Ar].[Ar].[Ar].[Ar].[Ar].[Ar].[Ar].[Ar].[Ar]\n",
      "merge_smol:\n",
      " {'name': None, 'inchi': 'InChI=1S/10Ar', 'inchikey': 'HZNVNHCFCUXLQZ-UHFFFAOYSA-N', 'canonical_smiles': '[Ar].[Ar].[Ar].[Ar].[Ar].[Ar].[Ar].[Ar].[Ar].[Ar]', 'isomeric_smiles': '[Ar].[Ar].[Ar].[Ar].[Ar].[Ar].[Ar].[Ar].[Ar].[Ar]', 'smiles': None, 'molecular_formula': 'Ar10', 'cid': None} ----\n",
      "smiles [Ar].[Ar].[Ar].[Ar].[Ar].[Ar].[Ar].[Ar].[Ar].[Ar].[Ar].[Ar].[Ar].[Ar].[Ar]\n",
      "merge_smol:\n",
      " {'name': None, 'inchi': 'InChI=1S/15Ar', 'inchikey': 'RCFVBCGJBGPNAI-UHFFFAOYSA-N', 'canonical_smiles': '[Ar].[Ar].[Ar].[Ar].[Ar].[Ar].[Ar].[Ar].[Ar].[Ar].[Ar].[Ar].[Ar].[Ar].[Ar]', 'isomeric_smiles': '[Ar].[Ar].[Ar].[Ar].[Ar].[Ar].[Ar].[Ar].[Ar].[Ar].[Ar].[Ar].[Ar].[Ar].[Ar]', 'smiles': None, 'molecular_formula': 'Ar15', 'cid': None} ----\n",
      "smiles [Ar].[Ar].[Ar].[Ar].[Ar].[Ar].[Ar].[Ar].[Ar].[Ar].[Ar].[Ar].[Ar].[Ar].[Ar].[Ar].[Ar].[Ar].[Ar].[Ar].[Ar]\n",
      "merge_smol:\n",
      " {'name': None, 'inchi': 'InChI=1S/21Ar', 'inchikey': 'CCPQXYQPBQRFBT-UHFFFAOYSA-N', 'canonical_smiles': '[Ar].[Ar].[Ar].[Ar].[Ar].[Ar].[Ar].[Ar].[Ar].[Ar].[Ar].[Ar].[Ar].[Ar].[Ar].[Ar].[Ar].[Ar].[Ar].[Ar].[Ar]', 'isomeric_smiles': '[Ar].[Ar].[Ar].[Ar].[Ar].[Ar].[Ar].[Ar].[Ar].[Ar].[Ar].[Ar].[Ar].[Ar].[Ar].[Ar].[Ar].[Ar].[Ar].[Ar].[Ar]', 'smiles': None, 'molecular_formula': 'Ar21', 'cid': None} ----\n",
      "smiles [Ar].[Ar].[Ar].[Ar].[Ar].[Ar].[Ar].[Ar].[Ar].[Ar].[Ar].[Ar].[Ar].[Ar].[Ar].[Ar].[Ar].[Ar].[Ar].[Ar].[Ar].[Ar].[Ar].[Ar].[Ar].[Ar].[Ar].[Ar]\n",
      "merge_smol:\n",
      " {'name': None, 'inchi': 'InChI=1S/28Ar', 'inchikey': 'QNXWPBOKMDNMTI-UHFFFAOYSA-N', 'canonical_smiles': '[Ar].[Ar].[Ar].[Ar].[Ar].[Ar].[Ar].[Ar].[Ar].[Ar].[Ar].[Ar].[Ar].[Ar].[Ar].[Ar].[Ar].[Ar].[Ar].[Ar].[Ar].[Ar].[Ar].[Ar].[Ar].[Ar].[Ar].[Ar]', 'isomeric_smiles': '[Ar].[Ar].[Ar].[Ar].[Ar].[Ar].[Ar].[Ar].[Ar].[Ar].[Ar].[Ar].[Ar].[Ar].[Ar].[Ar].[Ar].[Ar].[Ar].[Ar].[Ar].[Ar].[Ar].[Ar].[Ar].[Ar].[Ar].[Ar]', 'smiles': None, 'molecular_formula': 'Ar28', 'cid': None} ----\n",
      "smiles [Ar].[Ar].[Ar].[Ar].[Ar].[Ar].[Ar].[Ar].[Ar].[Ar].[Ar].[Ar].[Ar].[Ar].[Ar].[Ar].[Ar].[Ar].[Ar].[Ar].[Ar].[Ar].[Ar].[Ar].[Ar].[Ar].[Ar].[Ar].[Ar].[Ar].[Ar].[Ar].[Ar].[Ar].[Ar].[Ar].[Ar].[Ar].[Ar].[Ar].[Ar].[Ar]\n",
      "merge_smol:\n",
      " {'name': None, 'inchi': 'InChI=1S/42Ar', 'inchikey': 'SHMBKWWYFSTQPC-UHFFFAOYSA-N', 'canonical_smiles': '[Ar].[Ar].[Ar].[Ar].[Ar].[Ar].[Ar].[Ar].[Ar].[Ar].[Ar].[Ar].[Ar].[Ar].[Ar].[Ar].[Ar].[Ar].[Ar].[Ar].[Ar].[Ar].[Ar].[Ar].[Ar].[Ar].[Ar].[Ar].[Ar].[Ar].[Ar].[Ar].[Ar].[Ar].[Ar].[Ar].[Ar].[Ar].[Ar].[Ar].[Ar].[Ar]', 'isomeric_smiles': '[Ar].[Ar].[Ar].[Ar].[Ar].[Ar].[Ar].[Ar].[Ar].[Ar].[Ar].[Ar].[Ar].[Ar].[Ar].[Ar].[Ar].[Ar].[Ar].[Ar].[Ar].[Ar].[Ar].[Ar].[Ar].[Ar].[Ar].[Ar].[Ar].[Ar].[Ar].[Ar].[Ar].[Ar].[Ar].[Ar].[Ar].[Ar].[Ar].[Ar].[Ar].[Ar]', 'smiles': None, 'molecular_formula': 'Ar42', 'cid': None} ----\n",
      "smiles [Ar].[Ar].[Ar].[Ar].[Ar].[Ar].[Ar].[Ar].[Ar].[Ar].[Ar].[Ar].[Ar].[Ar].[Ar].[Ar].[Ar].[Ar].[Ar].[Ar].[Ar].[Ar].[Ar].[Ar].[Ar].[Ar].[Ar].[Ar].[Ar].[Ar].[Ar].[Ar].[Ar].[Ar].[Ar].[Ar].[Ar].[Ar].[Ar].[Ar].[Ar].[Ar].[Ar].[Ar].[Ar].[Ar].[Ar].[Ar].[Ar].[Ar].[Ar].[Ar].[Ar].[Ar].[Ar].[Ar].[Ar].[Ar].[Ar].[Ar].[Ar].[Ar].[Ar].[Ar].[Ar].[Ar].[Ar].[Ar].[Ar].[Ar].[Ar].[Ar].[Ar].[Ar].[Ar].[Ar].[Ar].[Ar].[Ar].[Ar]\n",
      "merge_smol:\n",
      " {'name': None, 'inchi': 'InChI=1S/80Ar', 'inchikey': 'DUUUMDRAHRNEDA-UHFFFAOYSA-N', 'canonical_smiles': '[Ar].[Ar].[Ar].[Ar].[Ar].[Ar].[Ar].[Ar].[Ar].[Ar].[Ar].[Ar].[Ar].[Ar].[Ar].[Ar].[Ar].[Ar].[Ar].[Ar].[Ar].[Ar].[Ar].[Ar].[Ar].[Ar].[Ar].[Ar].[Ar].[Ar].[Ar].[Ar].[Ar].[Ar].[Ar].[Ar].[Ar].[Ar].[Ar].[Ar].[Ar].[Ar].[Ar].[Ar].[Ar].[Ar].[Ar].[Ar].[Ar].[Ar].[Ar].[Ar].[Ar].[Ar].[Ar].[Ar].[Ar].[Ar].[Ar].[Ar].[Ar].[Ar].[Ar].[Ar].[Ar].[Ar].[Ar].[Ar].[Ar].[Ar].[Ar].[Ar].[Ar].[Ar].[Ar].[Ar].[Ar].[Ar].[Ar].[Ar]', 'isomeric_smiles': '[Ar].[Ar].[Ar].[Ar].[Ar].[Ar].[Ar].[Ar].[Ar].[Ar].[Ar].[Ar].[Ar].[Ar].[Ar].[Ar].[Ar].[Ar].[Ar].[Ar].[Ar].[Ar].[Ar].[Ar].[Ar].[Ar].[Ar].[Ar].[Ar].[Ar].[Ar].[Ar].[Ar].[Ar].[Ar].[Ar].[Ar].[Ar].[Ar].[Ar].[Ar].[Ar].[Ar].[Ar].[Ar].[Ar].[Ar].[Ar].[Ar].[Ar].[Ar].[Ar].[Ar].[Ar].[Ar].[Ar].[Ar].[Ar].[Ar].[Ar].[Ar].[Ar].[Ar].[Ar].[Ar].[Ar].[Ar].[Ar].[Ar].[Ar].[Ar].[Ar].[Ar].[Ar].[Ar].[Ar].[Ar].[Ar].[Ar].[Ar]', 'smiles': None, 'molecular_formula': 'Ar80', 'cid': None} ----\n",
      "smiles [C]\n",
      "merge_smol:\n",
      " {'name': None, 'inchi': 'InChI=1S/C', 'inchikey': 'OKTJSMMVPCPJKN-UHFFFAOYSA-N', 'canonical_smiles': '[C]', 'isomeric_smiles': '[C]', 'smiles': None, 'molecular_formula': 'C', 'cid': None} ----\n",
      "smiles [Na+].[O-]c1ccccc1\n",
      "merge_smol:\n",
      " {'name': None, 'inchi': 'InChI=1S/C6H6O.Na/c7-6-4-2-1-3-5-6;/h1-5,7H;/q;+1/p-1', 'inchikey': 'NESLWCLHZZISNB-UHFFFAOYSA-M', 'canonical_smiles': '[Na+].[O-]c1ccccc1', 'isomeric_smiles': '[Na+].[O-]c1ccccc1', 'smiles': None, 'molecular_formula': 'C6H5NaO', 'cid': None} ----\n"
     ]
    },
    {
     "data": {
      "text/markdown": [
       "<span style=\"color: #090\">Data merged into your working set</span> <br> \n"
      ],
      "text/plain": [
       "<IPython.core.display.Markdown object>"
      ]
     },
     "metadata": {},
     "output_type": "display_data"
    },
    {
     "data": {
      "text/plain": [
       "True"
      ]
     },
     "execution_count": 3,
     "metadata": {},
     "output_type": "execute_result"
    }
   ],
   "source": [
    "from pandas import pandas as pd\n",
    "from openad.smols.smol_batch_files import merge_molecule_property_data\n",
    "\n",
    "# df = [\n",
    "#     { 'subject': 'CCC(=O)c1ccc2c(c1)N(CC(C)N(C)C)c1ccccc1S2.Cl', 'property': 'bace', 'result': [2.3892078399658203, -1.597449541091919]}\n",
    "# ]\n",
    "# df = pd.DataFrame(df)\n",
    "df2 = pd.read_csv('/Users/themoenen/Downloads/x.csv')\n",
    "\n",
    "\n",
    "cmd_pointer = %openad cmd_pointer\n",
    "\n",
    "merge_molecule_property_data(cmd_pointer, None, df2)"
   ]
  },
  {
   "cell_type": "code",
   "execution_count": null,
   "id": "55033cd2-b525-4a58-8101-d809a1ae3020",
   "metadata": {
    "tags": []
   },
   "outputs": [],
   "source": [
    "\n",
    "\n",
    "from openad.smols.smol_functions import canonicalize, get_smol_from_mws\n",
    "cmd_pointer = %openad cmd_pointer\n",
    "\n",
    "x = 'CCC(=O)c1ccc2c(c1)N(CC(C)N(C)C)c1ccccc1S2.Cl'\n",
    "\n",
    "y = canonicalize(x)\n",
    "\n",
    "z = get_smol_from_mws(cmd_pointer, y)\n",
    "z"
   ]
  },
  {
   "cell_type": "code",
   "execution_count": null,
   "id": "7e34de19-3792-4e2a-b6b4-15d5d9ed9d7a",
   "metadata": {},
   "outputs": [],
   "source": []
  },
  {
   "cell_type": "code",
   "execution_count": null,
   "id": "afeccd41-a2f6-4599-bf4f-e666a2f0f930",
   "metadata": {},
   "outputs": [],
   "source": []
  },
  {
   "cell_type": "code",
   "execution_count": null,
   "id": "dc79eb84-0e97-4baa-be7c-4c6099778e07",
   "metadata": {
    "tags": []
   },
   "outputs": [],
   "source": [
    "cmd_pointer = %openad cmd_pointer\n",
    "from openad.smols.smol_functions import mws_remove\n",
    "smol = {'identifiers': {'name': None, 'inchi': 'InChI=1S/C20H24N2OS.ClH/c1-5-18(23)15-10-11-20-17(12-15)22(13-14(2)21(3)4)16-8-6-7-9-19(16)24-20;/h6-12,14H,5,13H2,1-4H3;1H', 'inchikey': 'UGVNGSMLNPWNNA-UHFFFAOYSA-N', 'canonical_smiles': 'CCC(=O)c1ccc2c(c1)N(CC(C)N(C)C)c1ccccc1S2.Cl', 'isomeric_smiles': 'CCC(=O)c1ccc2c(c1)N(CC(C)N(C)C)c1ccccc1S2.Cl', 'smiles': None, 'molecular_formula': 'C20H25ClN2OS', 'cid': None}, 'synonyms': [], 'properties': {'molecular_weight': 376.95300000000015, 'Unnamed: 0.1': '52', 'Unnamed: 0': '52', 'cid': '71802', 'cas_number': '1240-15-9', 'ec_number': 'nan', 'SMILES': 'CCC(=O)C1=CC2=C(C=C1)SC3=CC=CC=C3N2CC(C)N(C)C.Cl', 'chemical_name': 'Propiomazine hydrochloride', 'molecular weight': '376.9', 'hydrogen bond donor count': '1.0', 'hydrogen bond acceptor count': '4.0', 'rotatable bond count': '5.0', 'exact mass': '376.137612', 'monoisotopic mass': '376.137612', 'topological polar surface area': '48.8', 'heavy atom count': '25.0', 'formal charge': '0.0', 'complexity': '441.0', 'isotope atom count': '0.0', 'defined atom stereocenter count': '0.0', 'undefined atom stereocenter count': '1.0', 'covalently-bonded unit count': '2.0', 'compound is canonicalized': 'Yes', 'xlogp3': 'nan', 'bace': '[2.419879674911499, -1.5312693119049072]'}, 'property_sources': {'name': {'source': 'RDKit', 'date': '28-01-2025, 12:57:41'}, 'inchi': {'source': 'RDKit', 'date': '28-01-2025, 12:57:41'}, 'inchikey': {'source': 'RDKit', 'date': '28-01-2025, 12:57:41'}, 'canonical_smiles': {'source': 'RDKit', 'date': '28-01-2025, 12:57:41'}, 'isomeric_smiles': {'source': 'RDKit', 'date': '28-01-2025, 12:57:41'}, 'molecular_formula': {'source': 'RDKit', 'date': '28-01-2025, 12:57:41'}, 'molecular_weight': {'source': 'RDKit', 'date': '28-01-2025, 12:57:41'}, 'bace': {'source': 'unknown', 'date': '28-01-2025, 12:57:46'}}, 'analysis': [], 'enriched': False, 'meta': {'notes': '', 'labels:': []}, 'sources': {}, 'index': 53}\n",
    "\n",
    "mws_remove(cmd_pointer, smol)"
   ]
  },
  {
   "cell_type": "code",
   "execution_count": null,
   "id": "f4602e7e-ad4c-4033-8454-ee54d0e8eb26",
   "metadata": {},
   "outputs": [],
   "source": []
  },
  {
   "cell_type": "code",
   "execution_count": null,
   "id": "a5a236cf-0223-48c5-a620-08923c4eb97f",
   "metadata": {},
   "outputs": [],
   "source": []
  },
  {
   "cell_type": "code",
   "execution_count": 1,
   "id": "b932f4d9-4f33-4b0a-b1db-1c16084b67d7",
   "metadata": {
    "tags": []
   },
   "outputs": [
    {
     "name": "stdout",
     "output_type": "stream",
     "text": [
      "identifier CCC(=O)c1ccc2c(c1)N(CC(C)N(C)C)c1ccccc1S2.[Cl-].[H+]\n",
      "molset []\n"
     ]
    }
   ],
   "source": [
    "from openad.smols.smol_functions import get_smol_from_mws, canonicalize\n",
    "cmd_pointer = %openad cmd_pointer\n",
    "x = get_smol_from_mws(cmd_pointer, 'CCC(=O)c1ccc2c(c1)N(CC(C)N(C)C)c1ccccc1S2.[Cl-].[H+]')\n",
    "# x = get_smol_from_mws(cmd_pointer, 'CCC(=O)c1ccc2c(c1)N(CC(C)N(C)C)c1ccccc1S2.Cl') # ok\n",
    "\n",
    "# x = canonicalize('CCC(=O)c1ccc2c(c1)N(CC(C)N(C)C)c1ccccc1S2.[Cl-].[H+]')\n",
    "# x\n"
   ]
  },
  {
   "cell_type": "code",
   "execution_count": null,
   "id": "8338e631-f713-4659-8063-cfffd4905805",
   "metadata": {},
   "outputs": [],
   "source": []
  }
 ],
 "metadata": {
  "kernelspec": {
   "display_name": "venv",
   "language": "python",
   "name": "venv"
  },
  "language_info": {
   "codemirror_mode": {
    "name": "ipython",
    "version": 3
   },
   "file_extension": ".py",
   "mimetype": "text/x-python",
   "name": "python",
   "nbconvert_exporter": "python",
   "pygments_lexer": "ipython3",
   "version": "3.11.2"
  }
 },
 "nbformat": 4,
 "nbformat_minor": 5
}
