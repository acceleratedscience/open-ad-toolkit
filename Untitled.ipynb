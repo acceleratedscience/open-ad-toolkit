{
 "cells": [
  {
   "cell_type": "code",
   "execution_count": 1,
   "id": "23128933-d2a0-4210-84aa-58df827d51e4",
   "metadata": {
    "execution": {
     "iopub.execute_input": "2024-07-17T01:44:08.217027Z",
     "iopub.status.busy": "2024-07-17T01:44:08.216740Z",
     "iopub.status.idle": "2024-07-17T01:44:17.849102Z",
     "shell.execute_reply": "2024-07-17T01:44:17.847956Z",
     "shell.execute_reply.started": "2024-07-17T01:44:08.217002Z"
    },
    "tags": []
   },
   "outputs": [
    {
     "data": {
      "text/markdown": [
       "<span style=\"color: #090\">Logged into DS4SD as </span>phil.downey1@ibm.com<span style=\"color: #090\"> <br> \n",
       "Workspace:</span> DEFAULT <br> \n"
      ],
      "text/plain": [
       "<IPython.core.display.Markdown object>"
      ]
     },
     "metadata": {},
     "output_type": "display_data"
    },
    {
     "data": {
      "text/markdown": [
       "Estimated results: 6 <br> \n"
      ],
      "text/plain": [
       "<IPython.core.display.Markdown object>"
      ]
     },
     "metadata": {},
     "output_type": "display_data"
    },
    {
     "data": {
      "application/vnd.jupyter.widget-view+json": {
       "model_id": "c567b44a02e1458b8e98733fa751dcb0",
       "version_major": 2,
       "version_minor": 0
      },
      "text/plain": [
       "  0%|          | 0/1 [00:00<?, ?it/s]"
      ]
     },
     "metadata": {},
     "output_type": "display_data"
    },
    {
     "data": {
      "text/markdown": [
       "<span style=\"color: #ccc\">Next up, you can run: </span>`result open`/`edit`/`copy`/`display`/`as dataframe`/`save [as '<filename.csv>']` <br> \n"
      ],
      "text/plain": [
       "<IPython.core.display.Markdown object>"
      ]
     },
     "metadata": {},
     "output_type": "display_data"
    },
    {
     "data": {
      "text/html": [
       "<style type=\"text/css\">\n",
       "#T_94527_row0_col0, #T_94527_row0_col1, #T_94527_row0_col2, #T_94527_row0_col3, #T_94527_row0_col4, #T_94527_row0_col5, #T_94527_row0_col6, #T_94527_row0_col7, #T_94527_row0_col8, #T_94527_row0_col9, #T_94527_row0_col10, #T_94527_row0_col11, #T_94527_row0_col12, #T_94527_row0_col13, #T_94527_row0_col14, #T_94527_row0_col15, #T_94527_row0_col16, #T_94527_row0_col17, #T_94527_row0_col18, #T_94527_row0_col19, #T_94527_row0_col20, #T_94527_row0_col21, #T_94527_row1_col0, #T_94527_row1_col1, #T_94527_row1_col2, #T_94527_row1_col3, #T_94527_row1_col4, #T_94527_row1_col5, #T_94527_row1_col6, #T_94527_row1_col7, #T_94527_row1_col8, #T_94527_row1_col9, #T_94527_row1_col10, #T_94527_row1_col11, #T_94527_row1_col12, #T_94527_row1_col13, #T_94527_row1_col14, #T_94527_row1_col15, #T_94527_row1_col16, #T_94527_row1_col17, #T_94527_row1_col18, #T_94527_row1_col19, #T_94527_row1_col20, #T_94527_row1_col21, #T_94527_row2_col0, #T_94527_row2_col1, #T_94527_row2_col2, #T_94527_row2_col3, #T_94527_row2_col4, #T_94527_row2_col5, #T_94527_row2_col6, #T_94527_row2_col7, #T_94527_row2_col8, #T_94527_row2_col9, #T_94527_row2_col10, #T_94527_row2_col11, #T_94527_row2_col12, #T_94527_row2_col13, #T_94527_row2_col14, #T_94527_row2_col15, #T_94527_row2_col16, #T_94527_row2_col17, #T_94527_row2_col18, #T_94527_row2_col19, #T_94527_row2_col20, #T_94527_row2_col21, #T_94527_row3_col0, #T_94527_row3_col1, #T_94527_row3_col2, #T_94527_row3_col3, #T_94527_row3_col4, #T_94527_row3_col5, #T_94527_row3_col6, #T_94527_row3_col7, #T_94527_row3_col8, #T_94527_row3_col9, #T_94527_row3_col10, #T_94527_row3_col11, #T_94527_row3_col12, #T_94527_row3_col13, #T_94527_row3_col14, #T_94527_row3_col15, #T_94527_row3_col16, #T_94527_row3_col17, #T_94527_row3_col18, #T_94527_row3_col19, #T_94527_row3_col20, #T_94527_row3_col21, #T_94527_row4_col0, #T_94527_row4_col1, #T_94527_row4_col2, #T_94527_row4_col3, #T_94527_row4_col4, #T_94527_row4_col5, #T_94527_row4_col6, #T_94527_row4_col7, #T_94527_row4_col8, #T_94527_row4_col9, #T_94527_row4_col10, #T_94527_row4_col11, #T_94527_row4_col12, #T_94527_row4_col13, #T_94527_row4_col14, #T_94527_row4_col15, #T_94527_row4_col16, #T_94527_row4_col17, #T_94527_row4_col18, #T_94527_row4_col19, #T_94527_row4_col20, #T_94527_row4_col21, #T_94527_row5_col0, #T_94527_row5_col1, #T_94527_row5_col2, #T_94527_row5_col3, #T_94527_row5_col4, #T_94527_row5_col5, #T_94527_row5_col6, #T_94527_row5_col7, #T_94527_row5_col8, #T_94527_row5_col9, #T_94527_row5_col10, #T_94527_row5_col11, #T_94527_row5_col12, #T_94527_row5_col13, #T_94527_row5_col14, #T_94527_row5_col15, #T_94527_row5_col16, #T_94527_row5_col17, #T_94527_row5_col18, #T_94527_row5_col19, #T_94527_row5_col20, #T_94527_row5_col21 {\n",
       "  text-align: left;\n",
       "}\n",
       "</style>\n",
       "<table id=\"T_94527\">\n",
       "  <thead>\n",
       "    <tr>\n",
       "      <th id=\"T_94527_level0_col0\" class=\"col_heading level0 col0\" >DS_URL</th>\n",
       "      <th id=\"T_94527_level0_col1\" class=\"col_heading level0 col1\" >cid</th>\n",
       "      <th id=\"T_94527_level0_col2\" class=\"col_heading level0 col2\" >cas_number</th>\n",
       "      <th id=\"T_94527_level0_col3\" class=\"col_heading level0 col3\" >ec_number</th>\n",
       "      <th id=\"T_94527_level0_col4\" class=\"col_heading level0 col4\" >SMILES</th>\n",
       "      <th id=\"T_94527_level0_col5\" class=\"col_heading level0 col5\" >chemical_name</th>\n",
       "      <th id=\"T_94527_level0_col6\" class=\"col_heading level0 col6\" >molecular weight</th>\n",
       "      <th id=\"T_94527_level0_col7\" class=\"col_heading level0 col7\" >xlogp3</th>\n",
       "      <th id=\"T_94527_level0_col8\" class=\"col_heading level0 col8\" >hydrogen bond donor count</th>\n",
       "      <th id=\"T_94527_level0_col9\" class=\"col_heading level0 col9\" >hydrogen bond acceptor count</th>\n",
       "      <th id=\"T_94527_level0_col10\" class=\"col_heading level0 col10\" >rotatable bond count</th>\n",
       "      <th id=\"T_94527_level0_col11\" class=\"col_heading level0 col11\" >exact mass</th>\n",
       "      <th id=\"T_94527_level0_col12\" class=\"col_heading level0 col12\" >monoisotopic mass</th>\n",
       "      <th id=\"T_94527_level0_col13\" class=\"col_heading level0 col13\" >topological polar surface area</th>\n",
       "      <th id=\"T_94527_level0_col14\" class=\"col_heading level0 col14\" >heavy atom count</th>\n",
       "      <th id=\"T_94527_level0_col15\" class=\"col_heading level0 col15\" >formal charge</th>\n",
       "      <th id=\"T_94527_level0_col16\" class=\"col_heading level0 col16\" >complexity</th>\n",
       "      <th id=\"T_94527_level0_col17\" class=\"col_heading level0 col17\" >isotope atom count</th>\n",
       "      <th id=\"T_94527_level0_col18\" class=\"col_heading level0 col18\" >defined atom stereocenter count</th>\n",
       "      <th id=\"T_94527_level0_col19\" class=\"col_heading level0 col19\" >undefined atom stereocenter count</th>\n",
       "      <th id=\"T_94527_level0_col20\" class=\"col_heading level0 col20\" >covalently-bonded unit count</th>\n",
       "      <th id=\"T_94527_level0_col21\" class=\"col_heading level0 col21\" >compound is canonicalized</th>\n",
       "    </tr>\n",
       "  </thead>\n",
       "  <tbody>\n",
       "    <tr>\n",
       "      <td id=\"T_94527_row0_col0\" class=\"data row0 col0\" ><a href=\"https://sds.app.accelerate.science//projects/1234567890abcdefghijklmnopqrstvwyz123456/library/public?search=JTdCJTIyY29sbGVjdGlvbnMlMjIlM0ElNUIlMjJwdWJjaGVtJTIyJTVEJTJDJTIydHlwZSUyMiUzQSUyMkRvY3VtZW50JTIyJTJDJTIyZXhwcmVzc2lvbiUyMiUzQSUyMmZpbGUtaW5mby5kb2N1bWVudC1oYXNoJTNBJTIwJTVDJTIyMGY3OTMwOTU2NjVlNjYzMWEyMDc0OGI0N2FjYWVmNmZiOGEyMjc2MzFlZDhhYTdlMTE4MzhmMGIxMzU5MGY4NCU1QyUyMiUyMiUyQyUyMmZpbHRlcnMlMjIlM0ElNUIlNUQlMkMlMjJzZWxlY3QlMjIlM0ElNUIlMjJfbmFtZSUyMiUyQyUyMmRlc2NyaXB0aW9uLmNvbGxlY3Rpb24lMjIlMkMlMjJwcm92JTIyJTJDJTIyZGVzY3JpcHRpb24udGl0bGUlMjIlMkMlMjJkZXNjcmlwdGlvbi5wdWJsaWNhdGlvbl9kYXRlJTIyJTJDJTIyZGVzY3JpcHRpb24udXJsX3JlZnMlMjIlNUQlMkMlMjJpdGVtSW5kZXglMjIlM0EwJTJDJTIycGFnZVNpemUlMjIlM0ExMCUyQyUyMnNlYXJjaEFmdGVySGlzdG9yeSUyMiUzQSU1QiU1RCUyQyUyMnZpZXdUeXBlJTIyJTNBJTIyc25pcHBldHMlMjIlMkMlMjJyZWNvcmRTZWxlY3Rpb24lMjIlM0ElN0IlMjJyZWNvcmQlMjIlM0ElN0IlMjJpZCUyMiUzQSUyMjBmNzkzMDk1NjY1ZTY2MzFhMjA3NDhiNDdhY2FlZjZmYjhhMjI3NjMxZWQ4YWE3ZTExODM4ZjBiMTM1OTBmODQlMjIlN0QlN0QlN0Q%3D\"  target=\"_blank\"> Deep Search Web Link </a></td>\n",
       "      <td id=\"T_94527_row0_col1\" class=\"data row0 col1\" >114481</td>\n",
       "      <td id=\"T_94527_row0_col2\" class=\"data row0 col2\" >26099-32-1</td>\n",
       "      <td id=\"T_94527_row0_col3\" class=\"data row0 col3\" >236-236-8</td>\n",
       "      <td id=\"T_94527_row0_col4\" class=\"data row0 col4\" >C(=O)(C(C(F)(F)F)(OC(C(C(F)(F)F)(F)F)(F)F)F)O</td>\n",
       "      <td id=\"T_94527_row0_col5\" class=\"data row0 col5\" >2,3,3,3-tetrafluoro-2-(heptafluoropropoxy)propanoic acid</td>\n",
       "      <td id=\"T_94527_row0_col6\" class=\"data row0 col6\" >330.050000</td>\n",
       "      <td id=\"T_94527_row0_col7\" class=\"data row0 col7\" >3.600000</td>\n",
       "      <td id=\"T_94527_row0_col8\" class=\"data row0 col8\" >1.000000</td>\n",
       "      <td id=\"T_94527_row0_col9\" class=\"data row0 col9\" >14.000000</td>\n",
       "      <td id=\"T_94527_row0_col10\" class=\"data row0 col10\" >4.000000</td>\n",
       "      <td id=\"T_94527_row0_col11\" class=\"data row0 col11\" >329.975004</td>\n",
       "      <td id=\"T_94527_row0_col12\" class=\"data row0 col12\" >329.975004</td>\n",
       "      <td id=\"T_94527_row0_col13\" class=\"data row0 col13\" >46.500000</td>\n",
       "      <td id=\"T_94527_row0_col14\" class=\"data row0 col14\" >20.000000</td>\n",
       "      <td id=\"T_94527_row0_col15\" class=\"data row0 col15\" >0.000000</td>\n",
       "      <td id=\"T_94527_row0_col16\" class=\"data row0 col16\" >383.000000</td>\n",
       "      <td id=\"T_94527_row0_col17\" class=\"data row0 col17\" >0.000000</td>\n",
       "      <td id=\"T_94527_row0_col18\" class=\"data row0 col18\" >0.000000</td>\n",
       "      <td id=\"T_94527_row0_col19\" class=\"data row0 col19\" >1.000000</td>\n",
       "      <td id=\"T_94527_row0_col20\" class=\"data row0 col20\" >1.000000</td>\n",
       "      <td id=\"T_94527_row0_col21\" class=\"data row0 col21\" >Yes</td>\n",
       "    </tr>\n",
       "    <tr>\n",
       "      <td id=\"T_94527_row1_col0\" class=\"data row1 col0\" ><a href=\"https://sds.app.accelerate.science//projects/1234567890abcdefghijklmnopqrstvwyz123456/library/public?search=JTdCJTIyY29sbGVjdGlvbnMlMjIlM0ElNUIlMjJwdWJjaGVtJTIyJTVEJTJDJTIydHlwZSUyMiUzQSUyMkRvY3VtZW50JTIyJTJDJTIyZXhwcmVzc2lvbiUyMiUzQSUyMmZpbGUtaW5mby5kb2N1bWVudC1oYXNoJTNBJTIwJTVDJTIyOWMzMThkMzliNzBhMmM1N2E5ZjAwZDA0ZWFjMGUzZWIyMDIxNzQxZDczYjJkNjlkNDVhN2U5N2Q4OWNiNWYzOCU1QyUyMiUyMiUyQyUyMmZpbHRlcnMlMjIlM0ElNUIlNUQlMkMlMjJzZWxlY3QlMjIlM0ElNUIlMjJfbmFtZSUyMiUyQyUyMmRlc2NyaXB0aW9uLmNvbGxlY3Rpb24lMjIlMkMlMjJwcm92JTIyJTJDJTIyZGVzY3JpcHRpb24udGl0bGUlMjIlMkMlMjJkZXNjcmlwdGlvbi5wdWJsaWNhdGlvbl9kYXRlJTIyJTJDJTIyZGVzY3JpcHRpb24udXJsX3JlZnMlMjIlNUQlMkMlMjJpdGVtSW5kZXglMjIlM0EwJTJDJTIycGFnZVNpemUlMjIlM0ExMCUyQyUyMnNlYXJjaEFmdGVySGlzdG9yeSUyMiUzQSU1QiU1RCUyQyUyMnZpZXdUeXBlJTIyJTNBJTIyc25pcHBldHMlMjIlMkMlMjJyZWNvcmRTZWxlY3Rpb24lMjIlM0ElN0IlMjJyZWNvcmQlMjIlM0ElN0IlMjJpZCUyMiUzQSUyMjljMzE4ZDM5YjcwYTJjNTdhOWYwMGQwNGVhYzBlM2ViMjAyMTc0MWQ3M2IyZDY5ZDQ1YTdlOTdkODljYjVmMzglMjIlN0QlN0QlN0Q%3D\"  target=\"_blank\"> Deep Search Web Link </a></td>\n",
       "      <td id=\"T_94527_row1_col1\" class=\"data row1 col1\" >67821</td>\n",
       "      <td id=\"T_94527_row1_col2\" class=\"data row1 col2\" >4149-60-4 (ammonium salt)</td>\n",
       "      <td id=\"T_94527_row1_col3\" class=\"data row1 col3\" >206-801-3</td>\n",
       "      <td id=\"T_94527_row1_col4\" class=\"data row1 col4\" >C(=O)(C(C(C(C(C(C(C(C(F)(F)F)(F)F)(F)F)(F)F)(F)F)(F)F)(F)F)(F)F)O</td>\n",
       "      <td id=\"T_94527_row1_col5\" class=\"data row1 col5\" >Perfluorononanoic acid</td>\n",
       "      <td id=\"T_94527_row1_col6\" class=\"data row1 col6\" >464.080000</td>\n",
       "      <td id=\"T_94527_row1_col7\" class=\"data row1 col7\" >5.600000</td>\n",
       "      <td id=\"T_94527_row1_col8\" class=\"data row1 col8\" >1.000000</td>\n",
       "      <td id=\"T_94527_row1_col9\" class=\"data row1 col9\" >19.000000</td>\n",
       "      <td id=\"T_94527_row1_col10\" class=\"data row1 col10\" >7.000000</td>\n",
       "      <td id=\"T_94527_row1_col11\" class=\"data row1 col11\" >463.970508</td>\n",
       "      <td id=\"T_94527_row1_col12\" class=\"data row1 col12\" >463.970508</td>\n",
       "      <td id=\"T_94527_row1_col13\" class=\"data row1 col13\" >37.300000</td>\n",
       "      <td id=\"T_94527_row1_col14\" class=\"data row1 col14\" >28.000000</td>\n",
       "      <td id=\"T_94527_row1_col15\" class=\"data row1 col15\" >0.000000</td>\n",
       "      <td id=\"T_94527_row1_col16\" class=\"data row1 col16\" >615.000000</td>\n",
       "      <td id=\"T_94527_row1_col17\" class=\"data row1 col17\" >0.000000</td>\n",
       "      <td id=\"T_94527_row1_col18\" class=\"data row1 col18\" >0.000000</td>\n",
       "      <td id=\"T_94527_row1_col19\" class=\"data row1 col19\" >0.000000</td>\n",
       "      <td id=\"T_94527_row1_col20\" class=\"data row1 col20\" >1.000000</td>\n",
       "      <td id=\"T_94527_row1_col21\" class=\"data row1 col21\" >Yes</td>\n",
       "    </tr>\n",
       "    <tr>\n",
       "      <td id=\"T_94527_row2_col0\" class=\"data row2 col0\" ><a href=\"https://sds.app.accelerate.science//projects/1234567890abcdefghijklmnopqrstvwyz123456/library/public?search=JTdCJTIyY29sbGVjdGlvbnMlMjIlM0ElNUIlMjJwdWJjaGVtJTIyJTVEJTJDJTIydHlwZSUyMiUzQSUyMkRvY3VtZW50JTIyJTJDJTIyZXhwcmVzc2lvbiUyMiUzQSUyMmZpbGUtaW5mby5kb2N1bWVudC1oYXNoJTNBJTIwJTVDJTIyOWRlOGNjZjBhYzI2YWVjZTQ2MzM1NTZjZGQ3YWI3ZTc3YmY5ZWQ1MDVkZmNiNTBjNzQyMmU3YzQxZmMwMGQxOSU1QyUyMiUyMiUyQyUyMmZpbHRlcnMlMjIlM0ElNUIlNUQlMkMlMjJzZWxlY3QlMjIlM0ElNUIlMjJfbmFtZSUyMiUyQyUyMmRlc2NyaXB0aW9uLmNvbGxlY3Rpb24lMjIlMkMlMjJwcm92JTIyJTJDJTIyZGVzY3JpcHRpb24udGl0bGUlMjIlMkMlMjJkZXNjcmlwdGlvbi5wdWJsaWNhdGlvbl9kYXRlJTIyJTJDJTIyZGVzY3JpcHRpb24udXJsX3JlZnMlMjIlNUQlMkMlMjJpdGVtSW5kZXglMjIlM0EwJTJDJTIycGFnZVNpemUlMjIlM0ExMCUyQyUyMnNlYXJjaEFmdGVySGlzdG9yeSUyMiUzQSU1QiU1RCUyQyUyMnZpZXdUeXBlJTIyJTNBJTIyc25pcHBldHMlMjIlMkMlMjJyZWNvcmRTZWxlY3Rpb24lMjIlM0ElN0IlMjJyZWNvcmQlMjIlM0ElN0IlMjJpZCUyMiUzQSUyMjlkZThjY2YwYWMyNmFlY2U0NjMzNTU2Y2RkN2FiN2U3N2JmOWVkNTA1ZGZjYjUwYzc0MjJlN2M0MWZjMDBkMTklMjIlN0QlN0QlN0Q%3D\"  target=\"_blank\"> Deep Search Web Link </a></td>\n",
       "      <td id=\"T_94527_row2_col1\" class=\"data row2 col1\" >9554</td>\n",
       "      <td id=\"T_94527_row2_col2\" class=\"data row2 col2\" >68141-02-6 (chromium(3+) salt)</td>\n",
       "      <td id=\"T_94527_row2_col3\" class=\"data row2 col3\" >206-402-4</td>\n",
       "      <td id=\"T_94527_row2_col4\" class=\"data row2 col4\" >C(=O)(C(C(C(C(C(C(C(F)(F)F)(F)F)(F)F)(F)F)(F)F)(F)F)(F)F)O</td>\n",
       "      <td id=\"T_94527_row2_col5\" class=\"data row2 col5\" >Perfluorooctanoic acid</td>\n",
       "      <td id=\"T_94527_row2_col6\" class=\"data row2 col6\" >414.070000</td>\n",
       "      <td id=\"T_94527_row2_col7\" class=\"data row2 col7\" >4.900000</td>\n",
       "      <td id=\"T_94527_row2_col8\" class=\"data row2 col8\" >1.000000</td>\n",
       "      <td id=\"T_94527_row2_col9\" class=\"data row2 col9\" >17.000000</td>\n",
       "      <td id=\"T_94527_row2_col10\" class=\"data row2 col10\" >6.000000</td>\n",
       "      <td id=\"T_94527_row2_col11\" class=\"data row2 col11\" >413.973702</td>\n",
       "      <td id=\"T_94527_row2_col12\" class=\"data row2 col12\" >413.973702</td>\n",
       "      <td id=\"T_94527_row2_col13\" class=\"data row2 col13\" >37.300000</td>\n",
       "      <td id=\"T_94527_row2_col14\" class=\"data row2 col14\" >25.000000</td>\n",
       "      <td id=\"T_94527_row2_col15\" class=\"data row2 col15\" >0.000000</td>\n",
       "      <td id=\"T_94527_row2_col16\" class=\"data row2 col16\" >530.000000</td>\n",
       "      <td id=\"T_94527_row2_col17\" class=\"data row2 col17\" >0.000000</td>\n",
       "      <td id=\"T_94527_row2_col18\" class=\"data row2 col18\" >0.000000</td>\n",
       "      <td id=\"T_94527_row2_col19\" class=\"data row2 col19\" >0.000000</td>\n",
       "      <td id=\"T_94527_row2_col20\" class=\"data row2 col20\" >1.000000</td>\n",
       "      <td id=\"T_94527_row2_col21\" class=\"data row2 col21\" >Yes</td>\n",
       "    </tr>\n",
       "    <tr>\n",
       "      <td id=\"T_94527_row3_col0\" class=\"data row3 col0\" ><a href=\"https://sds.app.accelerate.science//projects/1234567890abcdefghijklmnopqrstvwyz123456/library/public?search=JTdCJTIyY29sbGVjdGlvbnMlMjIlM0ElNUIlMjJwdWJjaGVtJTIyJTVEJTJDJTIydHlwZSUyMiUzQSUyMkRvY3VtZW50JTIyJTJDJTIyZXhwcmVzc2lvbiUyMiUzQSUyMmZpbGUtaW5mby5kb2N1bWVudC1oYXNoJTNBJTIwJTVDJTIyYTg2MWE3MzRlNmFmNDk2OGU3ODk3NDg1NzgyYzgyNTM4OGE5NDRmNDMyZjAxYjYyMDNjM2RmMzg2NGJiMzEwNiU1QyUyMiUyMiUyQyUyMmZpbHRlcnMlMjIlM0ElNUIlNUQlMkMlMjJzZWxlY3QlMjIlM0ElNUIlMjJfbmFtZSUyMiUyQyUyMmRlc2NyaXB0aW9uLmNvbGxlY3Rpb24lMjIlMkMlMjJwcm92JTIyJTJDJTIyZGVzY3JpcHRpb24udGl0bGUlMjIlMkMlMjJkZXNjcmlwdGlvbi5wdWJsaWNhdGlvbl9kYXRlJTIyJTJDJTIyZGVzY3JpcHRpb24udXJsX3JlZnMlMjIlNUQlMkMlMjJpdGVtSW5kZXglMjIlM0EwJTJDJTIycGFnZVNpemUlMjIlM0ExMCUyQyUyMnNlYXJjaEFmdGVySGlzdG9yeSUyMiUzQSU1QiU1RCUyQyUyMnZpZXdUeXBlJTIyJTNBJTIyc25pcHBldHMlMjIlMkMlMjJyZWNvcmRTZWxlY3Rpb24lMjIlM0ElN0IlMjJyZWNvcmQlMjIlM0ElN0IlMjJpZCUyMiUzQSUyMmE4NjFhNzM0ZTZhZjQ5NjhlNzg5NzQ4NTc4MmM4MjUzODhhOTQ0ZjQzMmYwMWI2MjAzYzNkZjM4NjRiYjMxMDYlMjIlN0QlN0QlN0Q%3D\"  target=\"_blank\"> Deep Search Web Link </a></td>\n",
       "      <td id=\"T_94527_row3_col1\" class=\"data row3 col1\" >74483</td>\n",
       "      <td id=\"T_94527_row3_col2\" class=\"data row3 col2\" >1763-23-1</td>\n",
       "      <td id=\"T_94527_row3_col3\" class=\"data row3 col3\" >217-179-8</td>\n",
       "      <td id=\"T_94527_row3_col4\" class=\"data row3 col4\" >C(C(C(C(C(F)(F)S(=O)(=O)O)(F)F)(F)F)(F)F)(C(C(C(F)(F)F)(F)F)(F)F)(F)F</td>\n",
       "      <td id=\"T_94527_row3_col5\" class=\"data row3 col5\" >Perfluorooctane sulfonic acid</td>\n",
       "      <td id=\"T_94527_row3_col6\" class=\"data row3 col6\" >500.130000</td>\n",
       "      <td id=\"T_94527_row3_col7\" class=\"data row3 col7\" >5.000000</td>\n",
       "      <td id=\"T_94527_row3_col8\" class=\"data row3 col8\" >1.000000</td>\n",
       "      <td id=\"T_94527_row3_col9\" class=\"data row3 col9\" >20.000000</td>\n",
       "      <td id=\"T_94527_row3_col10\" class=\"data row3 col10\" >7.000000</td>\n",
       "      <td id=\"T_94527_row3_col11\" class=\"data row3 col11\" >499.937494</td>\n",
       "      <td id=\"T_94527_row3_col12\" class=\"data row3 col12\" >499.937494</td>\n",
       "      <td id=\"T_94527_row3_col13\" class=\"data row3 col13\" >62.800000</td>\n",
       "      <td id=\"T_94527_row3_col14\" class=\"data row3 col14\" >29.000000</td>\n",
       "      <td id=\"T_94527_row3_col15\" class=\"data row3 col15\" >0.000000</td>\n",
       "      <td id=\"T_94527_row3_col16\" class=\"data row3 col16\" >727.000000</td>\n",
       "      <td id=\"T_94527_row3_col17\" class=\"data row3 col17\" >0.000000</td>\n",
       "      <td id=\"T_94527_row3_col18\" class=\"data row3 col18\" >0.000000</td>\n",
       "      <td id=\"T_94527_row3_col19\" class=\"data row3 col19\" >0.000000</td>\n",
       "      <td id=\"T_94527_row3_col20\" class=\"data row3 col20\" >1.000000</td>\n",
       "      <td id=\"T_94527_row3_col21\" class=\"data row3 col21\" >Yes</td>\n",
       "    </tr>\n",
       "    <tr>\n",
       "      <td id=\"T_94527_row4_col0\" class=\"data row4 col0\" ><a href=\"https://sds.app.accelerate.science//projects/1234567890abcdefghijklmnopqrstvwyz123456/library/public?search=JTdCJTIyY29sbGVjdGlvbnMlMjIlM0ElNUIlMjJwdWJjaGVtJTIyJTVEJTJDJTIydHlwZSUyMiUzQSUyMkRvY3VtZW50JTIyJTJDJTIyZXhwcmVzc2lvbiUyMiUzQSUyMmZpbGUtaW5mby5kb2N1bWVudC1oYXNoJTNBJTIwJTVDJTIyZTBiNGM1NGMxNTRkNjliN2YzYTJkZTQyNGViNzc4MWYwZTk5ZTcyNGIwZDQwMjk4MDZmMWZjZTk4ZTg1YjcyYyU1QyUyMiUyMiUyQyUyMmZpbHRlcnMlMjIlM0ElNUIlNUQlMkMlMjJzZWxlY3QlMjIlM0ElNUIlMjJfbmFtZSUyMiUyQyUyMmRlc2NyaXB0aW9uLmNvbGxlY3Rpb24lMjIlMkMlMjJwcm92JTIyJTJDJTIyZGVzY3JpcHRpb24udGl0bGUlMjIlMkMlMjJkZXNjcmlwdGlvbi5wdWJsaWNhdGlvbl9kYXRlJTIyJTJDJTIyZGVzY3JpcHRpb24udXJsX3JlZnMlMjIlNUQlMkMlMjJpdGVtSW5kZXglMjIlM0EwJTJDJTIycGFnZVNpemUlMjIlM0ExMCUyQyUyMnNlYXJjaEFmdGVySGlzdG9yeSUyMiUzQSU1QiU1RCUyQyUyMnZpZXdUeXBlJTIyJTNBJTIyc25pcHBldHMlMjIlMkMlMjJyZWNvcmRTZWxlY3Rpb24lMjIlM0ElN0IlMjJyZWNvcmQlMjIlM0ElN0IlMjJpZCUyMiUzQSUyMmUwYjRjNTRjMTU0ZDY5YjdmM2EyZGU0MjRlYjc3ODFmMGU5OWU3MjRiMGQ0MDI5ODA2ZjFmY2U5OGU4NWI3MmMlMjIlN0QlN0QlN0Q%3D\"  target=\"_blank\"> Deep Search Web Link </a></td>\n",
       "      <td id=\"T_94527_row4_col1\" class=\"data row4 col1\" >67734</td>\n",
       "      <td id=\"T_94527_row4_col2\" class=\"data row4 col2\" >355-46-4</td>\n",
       "      <td id=\"T_94527_row4_col3\" class=\"data row4 col3\" >206-587-1</td>\n",
       "      <td id=\"T_94527_row4_col4\" class=\"data row4 col4\" >C(C(C(C(F)(F)S(=O)(=O)O)(F)F)(F)F)(C(C(F)(F)F)(F)F)(F)F</td>\n",
       "      <td id=\"T_94527_row4_col5\" class=\"data row4 col5\" >Perfluorohexanesulphonic acid</td>\n",
       "      <td id=\"T_94527_row4_col6\" class=\"data row4 col6\" >400.120000</td>\n",
       "      <td id=\"T_94527_row4_col7\" class=\"data row4 col7\" >3.700000</td>\n",
       "      <td id=\"T_94527_row4_col8\" class=\"data row4 col8\" >1.000000</td>\n",
       "      <td id=\"T_94527_row4_col9\" class=\"data row4 col9\" >16.000000</td>\n",
       "      <td id=\"T_94527_row4_col10\" class=\"data row4 col10\" >5.000000</td>\n",
       "      <td id=\"T_94527_row4_col11\" class=\"data row4 col11\" >399.943881</td>\n",
       "      <td id=\"T_94527_row4_col12\" class=\"data row4 col12\" >399.943881</td>\n",
       "      <td id=\"T_94527_row4_col13\" class=\"data row4 col13\" >62.800000</td>\n",
       "      <td id=\"T_94527_row4_col14\" class=\"data row4 col14\" >23.000000</td>\n",
       "      <td id=\"T_94527_row4_col15\" class=\"data row4 col15\" >0.000000</td>\n",
       "      <td id=\"T_94527_row4_col16\" class=\"data row4 col16\" >553.000000</td>\n",
       "      <td id=\"T_94527_row4_col17\" class=\"data row4 col17\" >0.000000</td>\n",
       "      <td id=\"T_94527_row4_col18\" class=\"data row4 col18\" >0.000000</td>\n",
       "      <td id=\"T_94527_row4_col19\" class=\"data row4 col19\" >0.000000</td>\n",
       "      <td id=\"T_94527_row4_col20\" class=\"data row4 col20\" >1.000000</td>\n",
       "      <td id=\"T_94527_row4_col21\" class=\"data row4 col21\" >Yes</td>\n",
       "    </tr>\n",
       "    <tr>\n",
       "      <td id=\"T_94527_row5_col0\" class=\"data row5 col0\" ><a href=\"https://sds.app.accelerate.science//projects/1234567890abcdefghijklmnopqrstvwyz123456/library/public?search=JTdCJTIyY29sbGVjdGlvbnMlMjIlM0ElNUIlMjJwdWJjaGVtJTIyJTVEJTJDJTIydHlwZSUyMiUzQSUyMkRvY3VtZW50JTIyJTJDJTIyZXhwcmVzc2lvbiUyMiUzQSUyMmZpbGUtaW5mby5kb2N1bWVudC1oYXNoJTNBJTIwJTVDJTIyZmQyNmUxYmZkNmE5NWI0MzMzNjdkY2NkMmIxZDlhZGQwZDRiODc2OTk0NWE1YTk2ZmVhMmQxMmY0MDBjZmNhOCU1QyUyMiUyMiUyQyUyMmZpbHRlcnMlMjIlM0ElNUIlNUQlMkMlMjJzZWxlY3QlMjIlM0ElNUIlMjJfbmFtZSUyMiUyQyUyMmRlc2NyaXB0aW9uLmNvbGxlY3Rpb24lMjIlMkMlMjJwcm92JTIyJTJDJTIyZGVzY3JpcHRpb24udGl0bGUlMjIlMkMlMjJkZXNjcmlwdGlvbi5wdWJsaWNhdGlvbl9kYXRlJTIyJTJDJTIyZGVzY3JpcHRpb24udXJsX3JlZnMlMjIlNUQlMkMlMjJpdGVtSW5kZXglMjIlM0EwJTJDJTIycGFnZVNpemUlMjIlM0ExMCUyQyUyMnNlYXJjaEFmdGVySGlzdG9yeSUyMiUzQSU1QiU1RCUyQyUyMnZpZXdUeXBlJTIyJTNBJTIyc25pcHBldHMlMjIlMkMlMjJyZWNvcmRTZWxlY3Rpb24lMjIlM0ElN0IlMjJyZWNvcmQlMjIlM0ElN0IlMjJpZCUyMiUzQSUyMmZkMjZlMWJmZDZhOTViNDMzMzY3ZGNjZDJiMWQ5YWRkMGQ0Yjg3Njk5NDVhNWE5NmZlYTJkMTJmNDAwY2ZjYTglMjIlN0QlN0QlN0Q%3D\"  target=\"_blank\"> Deep Search Web Link </a></td>\n",
       "      <td id=\"T_94527_row5_col1\" class=\"data row5 col1\" >16760155</td>\n",
       "      <td id=\"T_94527_row5_col2\" class=\"data row5 col2\" >108427-53-8</td>\n",
       "      <td id=\"T_94527_row5_col3\" class=\"data row5 col3\" ></td>\n",
       "      <td id=\"T_94527_row5_col4\" class=\"data row5 col4\" >C(C(C(C(F)(F)S(=O)(=O)[O-])(F)F)(F)F)(C(C(F)(F)F)(F)F)(F)F</td>\n",
       "      <td id=\"T_94527_row5_col5\" class=\"data row5 col5\" ></td>\n",
       "      <td id=\"T_94527_row5_col6\" class=\"data row5 col6\" >399.110000</td>\n",
       "      <td id=\"T_94527_row5_col7\" class=\"data row5 col7\" >3.600000</td>\n",
       "      <td id=\"T_94527_row5_col8\" class=\"data row5 col8\" >0.000000</td>\n",
       "      <td id=\"T_94527_row5_col9\" class=\"data row5 col9\" >16.000000</td>\n",
       "      <td id=\"T_94527_row5_col10\" class=\"data row5 col10\" >4.000000</td>\n",
       "      <td id=\"T_94527_row5_col11\" class=\"data row5 col11\" >398.936056</td>\n",
       "      <td id=\"T_94527_row5_col12\" class=\"data row5 col12\" >398.936056</td>\n",
       "      <td id=\"T_94527_row5_col13\" class=\"data row5 col13\" >65.600000</td>\n",
       "      <td id=\"T_94527_row5_col14\" class=\"data row5 col14\" >23.000000</td>\n",
       "      <td id=\"T_94527_row5_col15\" class=\"data row5 col15\" >-1.000000</td>\n",
       "      <td id=\"T_94527_row5_col16\" class=\"data row5 col16\" >540.000000</td>\n",
       "      <td id=\"T_94527_row5_col17\" class=\"data row5 col17\" >0.000000</td>\n",
       "      <td id=\"T_94527_row5_col18\" class=\"data row5 col18\" >0.000000</td>\n",
       "      <td id=\"T_94527_row5_col19\" class=\"data row5 col19\" >0.000000</td>\n",
       "      <td id=\"T_94527_row5_col20\" class=\"data row5 col20\" >1.000000</td>\n",
       "      <td id=\"T_94527_row5_col21\" class=\"data row5 col21\" >Yes</td>\n",
       "    </tr>\n",
       "  </tbody>\n",
       "</table>\n"
      ],
      "text/plain": [
       "<pandas.io.formats.style.Styler at 0x134ab35d0>"
      ]
     },
     "execution_count": 1,
     "metadata": {},
     "output_type": "execute_result"
    }
   ],
   "source": [
    "%openad set context ds4sd\n",
    "%openad search collection 'PubChem' for 'PFOA OR PFOS OR PFHxS OR PFNA OR HFPO-DA'\n",
    "df_data = %openadd result as dataframe"
   ]
  },
  {
   "cell_type": "code",
   "execution_count": 7,
   "id": "603ebe8c-2ef3-4aa1-bb8d-5d743bfd01bf",
   "metadata": {
    "execution": {
     "iopub.execute_input": "2024-07-17T02:02:47.760257Z",
     "iopub.status.busy": "2024-07-17T02:02:47.759791Z",
     "iopub.status.idle": "2024-07-17T02:02:48.287149Z",
     "shell.execute_reply": "2024-07-17T02:02:48.286056Z",
     "shell.execute_reply.started": "2024-07-17T02:02:47.760233Z"
    },
    "tags": []
   },
   "outputs": [
    {
     "data": {
      "text/markdown": [
       "<span style=\"color: #090\">Total number of records: <span style=\"color: #dc0\">6</span></span> <br> \n"
      ],
      "text/plain": [
       "<IPython.core.display.Markdown object>"
      ]
     },
     "metadata": {},
     "output_type": "display_data"
    },
    {
     "data": {
      "text/markdown": [
       "<span style=\"color: #090\">Successfully loaded: <span style=\"color: #dc0\">6</span></span> <br> \n"
      ],
      "text/plain": [
       "<IPython.core.display.Markdown object>"
      ]
     },
     "metadata": {},
     "output_type": "display_data"
    },
    {
     "data": {
      "text/html": [
       "\n",
       "            <style>\n",
       "                #btn-wrap-1721181768 { height:12px; right:20px; display:flex; flex-direction:row-reverse; position:relative }\n",
       "                #btn-wrap-1721181768 a { color:#393939; width:24px; height:24px; padding:4px; box-sizing:border-box; background:white }\n",
       "                #btn-wrap-1721181768 a:hover { color: #0f62fe }\n",
       "            </style>\n",
       "            <div id=\"btn-wrap-1721181768\"><a target=\"_blank\" href=\"http://0.0.0.0:8024/my-mols\"><svg width=\"16\" height=\"16\" viewBox=\"0 0 16 16\" fill=\"none\" xmlns=\"http://www.w3.org/2000/svg\"><path d=\"M13 14H3C2.73489 13.9996 2.48075 13.8942 2.29329 13.7067C2.10583 13.5193 2.00036 13.2651 2 13V3C2.00036 2.73489 2.10583 2.48075 2.29329 2.29329C2.48075 2.10583 2.73489 2.00036 3 2H8V3H3V13H13V8H14V13C13.9996 13.2651 13.8942 13.5193 13.7067 13.7067C13.5193 13.8942 13.2651 13.9996 13 14Z\" fill=\"currentColor\"/><path d=\"M10 1V2H13.293L9 6.293L9.707 7L14 2.707V6H15V1H10Z\" fill=\"currentColor\"/></svg></a><a href=\"#\" onclick=\"event.preventDefault(); document.querySelector('#btn-wrap-1721181768 + iframe').src=document.querySelector('#btn-wrap-1721181768 + iframe').src;\"><svg width=\"16\" height=\"16\" viewBox=\"0 0 16 16\" fill=\"none\" xmlns=\"http://www.w3.org/2000/svg\"><path d=\"M9 14C10.1867 14 11.3467 13.6481 12.3334 12.9888C13.3201 12.3295 14.0892 11.3925 14.5433 10.2961C14.9974 9.19975 15.1162 7.99335 14.8847 6.82946C14.6532 5.66558 14.0818 4.59648 13.2426 3.75736C12.4035 2.91825 11.3344 2.3468 10.1705 2.11529C9.00666 1.88378 7.80026 2.0026 6.7039 2.45673C5.60754 2.91085 4.67047 3.67989 4.01118 4.66658C3.35189 5.65328 3 6.81331 3 8V11.1L1.2 9.3L0.5 10L3.5 13L6.5 10L5.8 9.3L4 11.1V8C4 7.0111 4.29324 6.0444 4.84265 5.22215C5.39206 4.39991 6.17295 3.75904 7.08658 3.38061C8.00021 3.00217 9.00555 2.90315 9.97545 3.09608C10.9454 3.289 11.8363 3.76521 12.5355 4.46447C13.2348 5.16373 13.711 6.05465 13.9039 7.02455C14.0969 7.99446 13.9978 8.99979 13.6194 9.91342C13.241 10.8271 12.6001 11.6079 11.7779 12.1574C10.9556 12.7068 9.98891 13 9 13V14Z\" fill=\"currentColor\"/></svg></a></div><iframe src=\"http://0.0.0.0:8024/headless/my-mols\" width=\"100%\" height=\"700\" style=\"border:solid 1px #ddd;box-sizing:border-box;width:calc(100% + 20px)\"></iframe>"
      ],
      "text/plain": [
       "<IPython.core.display.HTML object>"
      ]
     },
     "metadata": {},
     "output_type": "display_data"
    }
   ],
   "source": [
    "%openad load molecules using dataframe df_data\n",
    "%openad show molecules"
   ]
  },
  {
   "cell_type": "code",
   "execution_count": null,
   "id": "d4c1475b-4818-4d35-81f5-265d5fbd5f2e",
   "metadata": {},
   "outputs": [],
   "source": []
  },
  {
   "cell_type": "code",
   "execution_count": null,
   "id": "2ef2d5e3-7662-4687-9a1e-106fec5c8cc3",
   "metadata": {},
   "outputs": [],
   "source": []
  }
 ],
 "metadata": {
  "kernelspec": {
   "display_name": "ad-test",
   "language": "python",
   "name": "ad-test"
  },
  "language_info": {
   "codemirror_mode": {
    "name": "ipython",
    "version": 3
   },
   "file_extension": ".py",
   "mimetype": "text/x-python",
   "name": "python",
   "nbconvert_exporter": "python",
   "pygments_lexer": "ipython3",
   "version": "3.11.7"
  }
 },
 "nbformat": 4,
 "nbformat_minor": 5
}
