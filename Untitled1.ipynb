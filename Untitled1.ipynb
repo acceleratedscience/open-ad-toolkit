{
 "cells": [
  {
   "cell_type": "code",
   "execution_count": 1,
   "id": "408376d6-33f4-48cc-9fd9-04433957c1fc",
   "metadata": {
    "tags": []
   },
   "outputs": [
    {
     "data": {
      "text/markdown": [
       "<span style=\"color: #d00\">Molecule already in list: <span style=\"color: #dc0\">*C(=O)O</span></span> <br> \n"
      ],
      "text/plain": [
       "<IPython.core.display.Markdown object>"
      ]
     },
     "metadata": {},
     "output_type": "display_data"
    },
    {
     "data": {
      "text/markdown": [
       "<span style=\"color: #d00\">Molecule already in list: <span style=\"color: #dc0\">C=C(NC(=O)C(=C)NC(=O)c1csc(C2=NC3c4csc(n4)C4NC(=O)c5csc(n5)C(C(C)(O)C(C)O)NC(=O)C5CSC(=N5)C(=CC)NC(=O)C(C(C)O)NC(=O)c5csc(n5)C3(CC2)NC(=O)C(C)NC(=O)C(=C)NC(=O)C(C)NC(=O)C(C(C)CC)NC2C=Cc3c(C(C)O)cc(nc3C2O)C(=O)OC4C)n1)C(N)=O</span></span> <br> \n"
      ],
      "text/plain": [
       "<IPython.core.display.Markdown object>"
      ]
     },
     "metadata": {},
     "output_type": "display_data"
    },
    {
     "data": {
      "text/markdown": [
       "<span style=\"color: #d00\">Molecule already in list: <span style=\"color: #dc0\">C=C(NC(=O)C(=C)NC(=O)c1csc(C2=NC3c4csc(n4)C4NC(=O)c5csc(n5)C(C(C)(O)C(C)O)NC(=O)C5CSC(=N5)C(=CC)NC(=O)C(C(C)O)NC(=O)c5csc(n5)C3(CC2)NC(=O)C(C)NC(=O)C(=C)NC(=O)C(C)NC(=O)C(C(C)CC)NC2C=Cc3c(C(C)O)cc(nc3C2O)C(=O)OC4C)n1)C(N)=O</span></span> <br> \n"
      ],
      "text/plain": [
       "<IPython.core.display.Markdown object>"
      ]
     },
     "metadata": {},
     "output_type": "display_data"
    },
    {
     "data": {
      "text/markdown": [
       "<span style=\"color: #d00\">Molecule already in list: <span style=\"color: #dc0\">C</span></span> <br> \n"
      ],
      "text/plain": [
       "<IPython.core.display.Markdown object>"
      ]
     },
     "metadata": {},
     "output_type": "display_data"
    },
    {
     "data": {
      "text/markdown": [
       "<span style=\"color: #d00\">Molecule already in list: <span style=\"color: #dc0\">C</span></span> <br> \n"
      ],
      "text/plain": [
       "<IPython.core.display.Markdown object>"
      ]
     },
     "metadata": {},
     "output_type": "display_data"
    },
    {
     "data": {
      "text/markdown": [
       "<span style=\"color: #d00\">Molecule already in list: <span style=\"color: #dc0\">C</span></span> <br> \n"
      ],
      "text/plain": [
       "<IPython.core.display.Markdown object>"
      ]
     },
     "metadata": {},
     "output_type": "display_data"
    },
    {
     "data": {
      "text/markdown": [
       "<span style=\"color: #d00\">Molecule already in list: <span style=\"color: #dc0\">COP(=O)(OC)OC(=CCl)c1cc(Cl)c(Cl)cc1Cl</span></span> <br> \n"
      ],
      "text/plain": [
       "<IPython.core.display.Markdown object>"
      ]
     },
     "metadata": {},
     "output_type": "display_data"
    },
    {
     "data": {
      "text/markdown": [
       "<span style=\"color: #d00\">Molecule already in list: <span style=\"color: #dc0\">C=C(NC(=O)C(=C)NC(=O)c1csc(C2=NC3c4csc(n4)C4NC(=O)c5csc(n5)C(C(C)(O)C(C)O)NC(=O)C5CSC(=N5)C(=CC)NC(=O)C(C(C)O)NC(=O)c5csc(n5)C3(CC2)NC(=O)C(C)NC(=O)C(=C)NC(=O)C(C)NC(=O)C(C(C)CC)NC2C=Cc3c(C(C)O)cc(nc3C2O)C(=O)OC4C)n1)C(N)=O</span></span> <br> \n"
      ],
      "text/plain": [
       "<IPython.core.display.Markdown object>"
      ]
     },
     "metadata": {},
     "output_type": "display_data"
    },
    {
     "data": {
      "text/markdown": [
       "<span style=\"color: #d00\">Molecule already in list: <span style=\"color: #dc0\">C=C(NC(=O)C(=C)NC(=O)c1csc(C2=NC3c4csc(n4)C4NC(=O)c5csc(n5)C(C(C)(O)C(C)O)NC(=O)C5CSC(=N5)C(=CC)NC(=O)C(C(C)O)NC(=O)c5csc(n5)C3(CC2)NC(=O)C(C)NC(=O)C(=C)NC(=O)C(C)NC(=O)C(C(C)CC)NC2C=Cc3c(C(C)O)cc(nc3C2O)C(=O)OC4C)n1)C(N)=O</span></span> <br> \n"
      ],
      "text/plain": [
       "<IPython.core.display.Markdown object>"
      ]
     },
     "metadata": {},
     "output_type": "display_data"
    },
    {
     "data": {
      "text/markdown": [
       "<span style=\"color: #d00\">Molecule already in list: <span style=\"color: #dc0\">C</span></span> <br> \n"
      ],
      "text/plain": [
       "<IPython.core.display.Markdown object>"
      ]
     },
     "metadata": {},
     "output_type": "display_data"
    },
    {
     "data": {
      "text/markdown": [
       "<span style=\"color: #d00\">Molecule already in list: <span style=\"color: #dc0\">C=C(NC(=O)C(=C)NC(=O)c1csc(C2=NC3c4csc(n4)C4NC(=O)c5csc(n5)C(C(C)(O)C(C)O)NC(=O)C5CSC(=N5)C(=CC)NC(=O)C(C(C)O)NC(=O)c5csc(n5)C3(CC2)NC(=O)C(C)NC(=O)C(=C)NC(=O)C(C)NC(=O)C(C(C)CC)NC2C=Cc3c(C(C)O)cc(nc3C2O)C(=O)OC4C)n1)C(N)=O</span></span> <br> \n"
      ],
      "text/plain": [
       "<IPython.core.display.Markdown object>"
      ]
     },
     "metadata": {},
     "output_type": "display_data"
    },
    {
     "data": {
      "text/markdown": [
       "<span style=\"color: #d00\">Molecule already in list: <span style=\"color: #dc0\">C=C(NC(=O)C(=C)NC(=O)c1csc(C2=NC3c4csc(n4)C4NC(=O)c5csc(n5)C(C(C)(O)C(C)O)NC(=O)C5CSC(=N5)C(=CC)NC(=O)C(C(C)O)NC(=O)c5csc(n5)C3(CC2)NC(=O)C(C)NC(=O)C(=C)NC(=O)C(C)NC(=O)C(C(C)CC)NC2C=Cc3c(C(C)O)cc(nc3C2O)C(=O)OC4C)n1)C(N)=O</span></span> <br> \n"
      ],
      "text/plain": [
       "<IPython.core.display.Markdown object>"
      ]
     },
     "metadata": {},
     "output_type": "display_data"
    },
    {
     "data": {
      "text/markdown": [
       "<span style=\"color: #d00\">Molecule already in list: <span style=\"color: #dc0\">C=C(NC(=O)C(=C)NC(=O)c1csc(C2=NC3c4csc(n4)C4NC(=O)c5csc(n5)C(C(C)(O)C(C)O)NC(=O)C5CSC(=N5)C(=CC)NC(=O)C(C(C)O)NC(=O)c5csc(n5)C3(CC2)NC(=O)C(C)NC(=O)C(=C)NC(=O)C(C)NC(=O)C(C(C)CC)NC2C=Cc3c(C(C)O)cc(nc3C2O)C(=O)OC4C)n1)C(N)=O</span></span> <br> \n"
      ],
      "text/plain": [
       "<IPython.core.display.Markdown object>"
      ]
     },
     "metadata": {},
     "output_type": "display_data"
    },
    {
     "data": {
      "text/markdown": [
       "<span style=\"color: #d00\">Molecule already in list: <span style=\"color: #dc0\">CCC(=O)c1ccc2c(c1)N(CC(C)N(C)C)c1ccccc1S2.Cl</span></span> <br> \n"
      ],
      "text/plain": [
       "<IPython.core.display.Markdown object>"
      ]
     },
     "metadata": {},
     "output_type": "display_data"
    },
    {
     "data": {
      "text/markdown": [
       "<span style=\"color: #d00\">Molecule already in list: <span style=\"color: #dc0\">C=C(NC(=O)C(=C)NC(=O)c1csc(C2=NC3c4csc(n4)C4NC(=O)c5csc(n5)C(C(C)(O)C(C)O)NC(=O)C5CSC(=N5)C(=CC)NC(=O)C(C(C)O)NC(=O)c5csc(n5)C3(CC2)NC(=O)C(C)NC(=O)C(=C)NC(=O)C(C)NC(=O)C(C(C)CC)NC2C=Cc3c(C(C)O)cc(nc3C2O)C(=O)OC4C)n1)C(N)=O</span></span> <br> \n"
      ],
      "text/plain": [
       "<IPython.core.display.Markdown object>"
      ]
     },
     "metadata": {},
     "output_type": "display_data"
    },
    {
     "data": {
      "text/markdown": [
       "<span style=\"color: #d00\">Molecule already in list: <span style=\"color: #dc0\">C=C(NC(=O)C(=C)NC(=O)c1csc(C2=NC3c4csc(n4)C4NC(=O)c5csc(n5)C(C(C)(O)C(C)O)NC(=O)C5CSC(=N5)C(=CC)NC(=O)C(C(C)O)NC(=O)c5csc(n5)C3(CC2)NC(=O)C(C)NC(=O)C(=C)NC(=O)C(C)NC(=O)C(C(C)CC)NC2C=Cc3c(C(C)O)cc(nc3C2O)C(=O)OC4C)n1)C(N)=O</span></span> <br> \n"
      ],
      "text/plain": [
       "<IPython.core.display.Markdown object>"
      ]
     },
     "metadata": {},
     "output_type": "display_data"
    },
    {
     "data": {
      "text/markdown": [
       "<span style=\"color: #d00\">Molecule already in list: <span style=\"color: #dc0\">COP(=O)(OC)OC(=CCl)c1cc(Cl)c(Cl)cc1Cl</span></span> <br> \n"
      ],
      "text/plain": [
       "<IPython.core.display.Markdown object>"
      ]
     },
     "metadata": {},
     "output_type": "display_data"
    },
    {
     "data": {
      "text/markdown": [
       "<span style=\"color: #d00\">Molecule already in list: <span style=\"color: #dc0\">C=C(NC(=O)C(=C)NC(=O)c1csc(C2=NC3c4csc(n4)C4NC(=O)c5csc(n5)C(C(C)(O)C(C)O)NC(=O)C5CSC(=N5)C(=CC)NC(=O)C(C(C)O)NC(=O)c5csc(n5)C3(CC2)NC(=O)C(C)NC(=O)C(=C)NC(=O)C(C)NC(=O)C(C(C)CC)NC2C=Cc3c(C(C)O)cc(nc3C2O)C(=O)OC4C)n1)C(N)=O</span></span> <br> \n"
      ],
      "text/plain": [
       "<IPython.core.display.Markdown object>"
      ]
     },
     "metadata": {},
     "output_type": "display_data"
    },
    {
     "data": {
      "text/markdown": [
       "<span style=\"color: #d00\">Molecule already in list: <span style=\"color: #dc0\">C=C(NC(=O)C(=C)NC(=O)c1csc(C2=NC3c4csc(n4)C4NC(=O)c5csc(n5)C(C(C)(O)C(C)O)NC(=O)C5CSC(=N5)C(=CC)NC(=O)C(C(C)O)NC(=O)c5csc(n5)C3(CC2)NC(=O)C(C)NC(=O)C(=C)NC(=O)C(C)NC(=O)C(C(C)CC)NC2C=Cc3c(C(C)O)cc(nc3C2O)C(=O)OC4C)n1)C(N)=O</span></span> <br> \n"
      ],
      "text/plain": [
       "<IPython.core.display.Markdown object>"
      ]
     },
     "metadata": {},
     "output_type": "display_data"
    },
    {
     "data": {
      "text/markdown": [
       "<span style=\"color: #d00\">Molecule already in list: <span style=\"color: #dc0\">C</span></span> <br> \n"
      ],
      "text/plain": [
       "<IPython.core.display.Markdown object>"
      ]
     },
     "metadata": {},
     "output_type": "display_data"
    },
    {
     "data": {
      "text/markdown": [
       "<span style=\"color: #d00\">Molecule already in list: <span style=\"color: #dc0\">COC(=O)C1C2CC3c4[nH]c5cc(OC)ccc5c4CCN3CC2CC(OC(=O)c2cc(OC)c(OC)c(OC)c2)C1OC</span></span> <br> \n"
      ],
      "text/plain": [
       "<IPython.core.display.Markdown object>"
      ]
     },
     "metadata": {},
     "output_type": "display_data"
    },
    {
     "data": {
      "text/markdown": [
       "<span style=\"color: #d00\">Molecule already in list: <span style=\"color: #dc0\">C</span></span> <br> \n"
      ],
      "text/plain": [
       "<IPython.core.display.Markdown object>"
      ]
     },
     "metadata": {},
     "output_type": "display_data"
    },
    {
     "data": {
      "text/markdown": [
       "<span style=\"color: #d00\">Molecule already in list: <span style=\"color: #dc0\">C=C(NC(=O)C(=C)NC(=O)c1csc(C2=NC3c4csc(n4)C4NC(=O)c5csc(n5)C(C(C)(O)C(C)O)NC(=O)C5CSC(=N5)C(=CC)NC(=O)C(C(C)O)NC(=O)c5csc(n5)C3(CC2)NC(=O)C(C)NC(=O)C(=C)NC(=O)C(C)NC(=O)C(C(C)CC)NC2C=Cc3c(C(C)O)cc(nc3C2O)C(=O)OC4C)n1)C(N)=O</span></span> <br> \n"
      ],
      "text/plain": [
       "<IPython.core.display.Markdown object>"
      ]
     },
     "metadata": {},
     "output_type": "display_data"
    },
    {
     "data": {
      "text/markdown": [
       "<span style=\"color: #d00\">Molecule already in list: <span style=\"color: #dc0\">C=C(NC(=O)C(=C)NC(=O)c1csc(C2=NC3c4csc(n4)C4NC(=O)c5csc(n5)C(C(C)(O)C(C)O)NC(=O)C5CSC(=N5)C(=CC)NC(=O)C(C(C)O)NC(=O)c5csc(n5)C3(CC2)NC(=O)C(C)NC(=O)C(=C)NC(=O)C(C)NC(=O)C(C(C)CC)NC2C=Cc3c(C(C)O)cc(nc3C2O)C(=O)OC4C)n1)C(N)=O</span></span> <br> \n"
      ],
      "text/plain": [
       "<IPython.core.display.Markdown object>"
      ]
     },
     "metadata": {},
     "output_type": "display_data"
    },
    {
     "data": {
      "text/markdown": [
       "<span style=\"color: #d00\">Molecule already in list: <span style=\"color: #dc0\">C=C(NC(=O)C(=C)NC(=O)c1csc(C2=NC3c4csc(n4)C4NC(=O)c5csc(n5)C(C(C)(O)C(C)O)NC(=O)C5CSC(=N5)C(=CC)NC(=O)C(C(C)O)NC(=O)c5csc(n5)C3(CC2)NC(=O)C(C)NC(=O)C(=C)NC(=O)C(C)NC(=O)C(C(C)CC)NC2C=Cc3c(C(C)O)cc(nc3C2O)C(=O)OC4C)n1)C(N)=O</span></span> <br> \n"
      ],
      "text/plain": [
       "<IPython.core.display.Markdown object>"
      ]
     },
     "metadata": {},
     "output_type": "display_data"
    },
    {
     "data": {
      "text/markdown": [
       "<span style=\"color: #d00\">Molecule already in list: <span style=\"color: #dc0\">C=C(NC(=O)C(=C)NC(=O)c1csc(C2=NC3c4csc(n4)C4NC(=O)c5csc(n5)C(C(C)(O)C(C)O)NC(=O)C5CSC(=N5)C(=CC)NC(=O)C(C(C)O)NC(=O)c5csc(n5)C3(CC2)NC(=O)C(C)NC(=O)C(=C)NC(=O)C(C)NC(=O)C(C(C)CC)NC2C=Cc3c(C(C)O)cc(nc3C2O)C(=O)OC4C)n1)C(N)=O</span></span> <br> \n"
      ],
      "text/plain": [
       "<IPython.core.display.Markdown object>"
      ]
     },
     "metadata": {},
     "output_type": "display_data"
    },
    {
     "data": {
      "text/markdown": [
       "<span style=\"color: #d00\">Molecule already in list: <span style=\"color: #dc0\">C</span></span> <br> \n"
      ],
      "text/plain": [
       "<IPython.core.display.Markdown object>"
      ]
     },
     "metadata": {},
     "output_type": "display_data"
    },
    {
     "data": {
      "text/markdown": [
       "<span style=\"color: #d00\">Molecule already in list: <span style=\"color: #dc0\">C</span></span> <br> \n"
      ],
      "text/plain": [
       "<IPython.core.display.Markdown object>"
      ]
     },
     "metadata": {},
     "output_type": "display_data"
    },
    {
     "data": {
      "text/markdown": [
       "<span style=\"color: #d00\">Molecule already in list: <span style=\"color: #dc0\">C</span></span> <br> \n"
      ],
      "text/plain": [
       "<IPython.core.display.Markdown object>"
      ]
     },
     "metadata": {},
     "output_type": "display_data"
    },
    {
     "data": {
      "text/markdown": [
       "<span style=\"color: #090\">Successfully loaded <span style=\"color: #dc0\">58</span> molecules into the working set</span> <br> \n"
      ],
      "text/plain": [
       "<IPython.core.display.Markdown object>"
      ]
     },
     "metadata": {},
     "output_type": "display_data"
    },
    {
     "data": {
      "text/markdown": [
       "<span style=\"color: #d00\">Ignored <span style=\"color: #dc0\">29</span> duplicates</span> <br> \n"
      ],
      "text/plain": [
       "<IPython.core.display.Markdown object>"
      ]
     },
     "metadata": {},
     "output_type": "display_data"
    },
    {
     "name": "stdout",
     "output_type": "stream",
     "text": [
      ">> Remove:  InChI=1S/CH4/h1H4\n",
      ">> Remove:  InChI=1S/C2H2/c1-2/h1-2H\n",
      ">> Remove:  InChI=1S/C10H14O/c1-7(2)9-5-4-8(3)10(11)6-9/h4,9H,1,5-6H2,2-3H3\n",
      ">> Remove:  InChI=1S/C72H85N19O18S5/c1-14-26(3)47-63(105)78-30(7)57(99)75-28(5)56(98)76-31(8)58(100)91-72-19-18-40(66-85-43(22-111-66)59(101)77-29(6)55(97)74-27(4)54(73)96)81-52(72)42-21-112-67(83-42)49(34(11)109-69(107)41-20-37(32(9)92)36-16-17-39(79-47)51(95)50(36)80-41)89-60(102)44-24-113-68(86-44)53(71(13,108)35(12)94)90-62(104)45-23-110-65(84-45)38(15-2)82-64(106)48(33(10)93)88-61(103)46-25-114-70(72)87-46/h15-17,20-22,24-26,30-35,39,45,47-49,51-53,79,92-95,108H,4-6,14,18-19,23H2,1-3,7-13H3,(H2,73,96)(H,74,97)(H,75,99)(H,76,98)(H,77,101)(H,78,105)(H,82,106)(H,88,103)(H,89,102)(H,90,104)(H,91,100)\n",
      ">> Remove:  InChI=1S/C19H21NO4/c1-2-8-20-9-7-18-15-11-3-4-12(21)16(15)24-17(18)13(22)5-6-19(18,23)14(20)10-11/h2-4,14,17,21,23H,1,5-10H2\n",
      ">> Remove:  InChI=1S/C19H19ClFNO3/c1-12(2)25-19(24)13(3)22(15-9-10-17(21)16(20)11-15)18(23)14-7-5-4-6-8-14/h4-13H,1-3H3\n",
      ">> Remove:  InChI=1S/C11H9Cl5O3/c1-11(15,16)10(17)19-3-2-18-9-5-7(13)6(12)4-8(9)14/h4-5H,2-3H2,1H3\n",
      ">> Remove:  InChI=1S/C13H15NO8.2Na/c1-6-8(12(19)21-4-10(15)16)3-9(7(2)14-6)13(20)22-5-11(17)18;;/h14H,3-5H2,1-2H3,(H,15,16)(H,17,18);;/q;2*+1/p-2\n",
      ">> Remove:  InChI=1S/C11H8O2/c1-7-6-10(12)8-4-2-3-5-9(8)11(7)13/h2-6H,1H3\n",
      ">> Remove:  InChI=1S/C10H16O/c1-7(2)9-5-4-8(3)10(11)6-9/h4,7,9H,5-6H2,1-3H3\n",
      ">> Remove:  InChI=1S/C10H14/c1-7-4-5-8-9(6-7)10(8,2)3/h7-9H,6H2,1-3H3\n",
      ">> Remove:  InChI=1S/C11H16O2/c1-7-4-5-8-10(2,3)11(8,6-12)9(7)13/h6-8H,4-5H2,1-3H3\n",
      ">> Remove:  InChI=1S/C10H16O2/c1-6-4-5-7-9(2,3)10(7,12)8(6)11/h6-7,12H,4-5H2,1-3H3\n",
      ">> Remove:  InChI=1S/C10H16O/c1-6-4-5-7-8(9(6)11)10(7,2)3/h6-8H,4-5H2,1-3H3\n",
      ">> Remove:  InChI=1S/C22H29NO2/c1-5-21(24)25-22(18(2)17-23(3)4,20-14-10-7-11-15-20)16-19-12-8-6-9-13-19/h6-15,18H,5,16-17H2,1-4H3\n",
      ">> Remove:  InChI=1S/C22H29NO2.ClH/c1-5-21(24)25-22(18(2)17-23(3)4,20-14-10-7-11-15-20)16-19-12-8-6-9-13-19;/h6-15,18H,5,16-17H2,1-4H3;1H\n",
      ">> Remove:  InChI=1S/C20H24N2OS/c1-5-18(23)15-10-11-20-17(12-15)22(13-14(2)21(3)4)16-8-6-7-9-19(16)24-20/h6-12,14H,5,13H2,1-4H3\n",
      ">> Remove:  InChI=1S/C20H24N2OS.ClH/c1-5-18(23)15-10-11-20-17(12-15)22(13-14(2)21(3)4)16-8-6-7-9-19(16)24-20;/h6-12,14H,5,13H2,1-4H3;1H\n",
      ">> Remove:  InChI=1S/C21H36O2/c1-2-3-4-5-6-7-8-9-10-11-12-13-14-15-19-16-20(22)18-21(23)17-19/h16-18,22-23H,2-15H2,1H3\n",
      ">> Remove:  InChI=1S/C7H4Cl3NO3.C6H15N/c8-3-1-4(9)7(11-6(3)10)14-2-5(12)13;1-4-7(5-2)6-3/h1H,2H2,(H,12,13);4-6H2,1-3H3\n",
      ">> Remove:  InChI=1S/C20H25NO3.ClH/c1-3-21(4-2)15-16-24-19(22)20(23,17-11-7-5-8-12-17)18-13-9-6-10-14-18;/h5-14,23H,3-4,15-16H2,1-2H3;1H\n",
      ">> Remove:  InChI=1S/C17H19F2N3O3.ClH/c1-3-21-8-11(17(24)25)16(23)10-6-12(18)15(13(19)14(10)21)22-5-4-20-9(2)7-22;/h6,8-9,20H,3-5,7H2,1-2H3,(H,24,25);1H\n",
      ">> Remove:  InChI=1S/C33H40N2O9/c1-38-19-7-8-20-21-9-10-35-16-18-13-27(44-32(36)17-11-25(39-2)30(41-4)26(12-17)40-3)31(42-5)28(33(37)43-6)22(18)15-24(35)29(21)34-23(20)14-19/h7-8,11-12,14,18,22,24,27-28,31,34H,9-10,13,15-16H2,1-6H3\n",
      ">> Remove:  InChI=1S/C9H9N3O2/c1-14-9(13)12-8-10-6-4-2-3-5-7(6)11-8/h2-5H,1H3,(H2,10,11,12,13)\n",
      ">> Remove:  InChI=1S/C10H9Cl4O4P/c1-16-19(15,17-2)18-10(5-11)6-3-8(13)9(14)4-7(6)12/h3-5H,1-2H3\n",
      ">> Remove:  InChI=1S/C3H6O2/c1-4-3-5-2/h1-2H3\n",
      ">> Remove:  InChI=1S/C16H25NO2.ClH/c1-17(2)12-14-7-4-5-10-16(14,18)13-8-6-9-15(11-13)19-3;/h6,8-9,11,14,18H,4-5,7,10,12H2,1-3H3;1H\n",
      ">> Remove:  InChI=1S/C10H13ClN2/c1-8-6-9(11)4-5-10(8)12-7-13(2)3/h4-7H,1-3H3\n",
      ">> Remove:  InChI=1S/CCl4/c2-1(3,4)5\n",
      ">> Remove:  InChI=1S/C9H6F3N3O/c10-9(11,12)7-1-3-14-5-6(7)8(16)15-4-2-13/h1,3,5H,4H2,(H,15,16)\n",
      ">> Remove:  InChI=1S/CH4N2O/c2-1(3)4/h(H4,2,3,4)\n",
      ">> Remove:  InChI=1S/C21H31N3O5/c22-13-5-4-9-16(19(25)24-14-6-10-18(24)21(28)29)23-17(20(26)27)12-11-15-7-2-1-3-8-15/h1-3,7-8,16-18,23H,4-6,9-14,22H2,(H,26,27)(H,28,29)\n",
      ">> Remove:  InChI=1S/C11H9Cl2NO2/c12-6-1-2-7-16-11(15)14-10-5-3-4-9(13)8-10/h3-5,8H,6-7H2,(H,14,15)\n",
      ">> Remove:  InChI=1S/C7H4Cl3NO3/c8-3-1-4(9)7(11-6(3)10)14-2-5(12)13/h1H,2H2,(H,12,13)\n",
      ">> Remove:  InChI=1S/C13H12N2O2.Na/c16-13(17)6-5-11-1-3-12(4-2-11)9-15-8-7-14-10-15;/h1-8,10H,9H2,(H,16,17);/q;+1/p-1\n",
      ">> Remove:  InChI=1S/CO2.O2/c2-1-3;1-2\n",
      ">> Remove:  InChI=1S/C20H14N2O5S/c23-16-10-9-12-5-1-2-6-13(12)19(16)21-22-20-15-8-4-3-7-14(15)18(11-17(20)24)28(25,26)27/h1-11,23-24H,(H,25,26,27)\n",
      ">> Remove:  InChI=1S/C20H14N2O5S.Na/c23-16-10-9-12-5-1-2-6-13(12)19(16)21-22-20-15-8-4-3-7-14(15)18(11-17(20)24)28(25,26)27;/h1-11,23-24H,(H,25,26,27);/q;+1/p-1\n",
      ">> Remove:  InChI=1S/C14H9Cl5O/c15-11-5-1-9(2-6-11)13(20,14(17,18)19)10-3-7-12(16)8-4-10/h1-8,20H\n",
      ">> Remove:  InChI=1S/C18H13Cl2NO/c19-16-7-3-13(4-8-16)18(22,15-2-1-11-21-12-15)14-5-9-17(20)10-6-14/h1-12,22H\n",
      ">> Remove:  InChI=1S/C6H14O6/c7-1-3(9)5(11)6(12)4(10)2-8/h3-12H,1-2H2\n",
      ">> Remove:  InChI=1S/C6H6O/c7-6-4-2-1-3-5-6/h1-5,7H\n",
      ">> Remove:  InChI=1S/C6H6O.Na/c7-6-4-2-1-3-5-6;/h1-5,7H;\n",
      ">> Remove:  InChI=1S/Ar\n",
      ">> Remove:  InChI=1S/2Ar\n",
      ">> Remove:  InChI=1S/3Ar\n",
      ">> Remove:  InChI=1S/4Ar\n",
      ">> Remove:  InChI=1S/5Ar\n",
      ">> Remove:  InChI=1S/6Ar\n",
      ">> Remove:  InChI=1S/8Ar\n",
      ">> Remove:  InChI=1S/10Ar\n",
      ">> Remove:  InChI=1S/15Ar\n",
      ">> Remove:  InChI=1S/21Ar\n",
      ">> Remove:  InChI=1S/28Ar\n",
      ">> Remove:  InChI=1S/42Ar\n",
      ">> Remove:  InChI=1S/80Ar\n",
      ">> Remove:  InChI=1S/C\n",
      ">> Remove:  InChI=1S/C6H6O.Na/c7-6-4-2-1-3-5-6;/h1-5,7H;/q;+1/p-1\n"
     ]
    },
    {
     "data": {
      "text/markdown": [
       "<span style=\"color: #090\">Data merged into your working set</span> <br> \n"
      ],
      "text/plain": [
       "<IPython.core.display.Markdown object>"
      ]
     },
     "metadata": {},
     "output_type": "display_data"
    },
    {
     "data": {
      "text/plain": [
       "True"
      ]
     },
     "execution_count": 1,
     "metadata": {},
     "output_type": "execute_result"
    }
   ],
   "source": [
    "from pandas import pandas as pd\n",
    "from openad.smols.smol_batch_files import merge_molecule_property_data\n",
    "cmd_pointer = %openad cmd_pointer\n",
    "\n",
    "df = pd.read_csv('~/ds_test.csv')\n",
    "\n",
    "%openad load mols from dataframe df\n",
    "\n",
    "df2 = pd.read_csv('/Users/themoenen/Downloads/x.csv')\n",
    "\n",
    "merge_molecule_property_data(cmd_pointer, None, df2)"
   ]
  },
  {
   "cell_type": "code",
   "execution_count": null,
   "id": "6415d8bd-48bb-4917-950d-47203f78469c",
   "metadata": {},
   "outputs": [],
   "source": []
  },
  {
   "cell_type": "code",
   "execution_count": 2,
   "id": "ba97327f-a66f-429e-b39f-273561877007",
   "metadata": {
    "tags": []
   },
   "outputs": [
    {
     "data": {
      "text/html": [
       "\n",
       "            <style>\n",
       "                #btn-wrap-1738072437 { height:12px; right:20px; display:flex; flex-direction:row-reverse; position:relative }\n",
       "                #btn-wrap-1738072437 a { color:#393939; width:24px; height:24px; padding:4px; box-sizing:border-box; background:white }\n",
       "                #btn-wrap-1738072437 a:hover { color: #0f62fe }\n",
       "            </style>\n",
       "            <div id=\"btn-wrap-1738072437\"><a target=\"_blank\" href=\"http://127.0.0.1:8024/my-mols\"><svg width=\"16\" height=\"16\" viewBox=\"0 0 16 16\" fill=\"none\" xmlns=\"http://www.w3.org/2000/svg\"><path d=\"M13 14H3C2.73489 13.9996 2.48075 13.8942 2.29329 13.7067C2.10583 13.5193 2.00036 13.2651 2 13V3C2.00036 2.73489 2.10583 2.48075 2.29329 2.29329C2.48075 2.10583 2.73489 2.00036 3 2H8V3H3V13H13V8H14V13C13.9996 13.2651 13.8942 13.5193 13.7067 13.7067C13.5193 13.8942 13.2651 13.9996 13 14Z\" fill=\"currentColor\"/><path d=\"M10 1V2H13.293L9 6.293L9.707 7L14 2.707V6H15V1H10Z\" fill=\"currentColor\"/></svg></a><a href=\"#\" onclick=\"event.preventDefault(); document.querySelector('#btn-wrap-1738072437 + iframe').src=document.querySelector('#btn-wrap-1738072437 + iframe').src;\"><svg width=\"16\" height=\"16\" viewBox=\"0 0 16 16\" fill=\"none\" xmlns=\"http://www.w3.org/2000/svg\"><path d=\"M9 14C10.1867 14 11.3467 13.6481 12.3334 12.9888C13.3201 12.3295 14.0892 11.3925 14.5433 10.2961C14.9974 9.19975 15.1162 7.99335 14.8847 6.82946C14.6532 5.66558 14.0818 4.59648 13.2426 3.75736C12.4035 2.91825 11.3344 2.3468 10.1705 2.11529C9.00666 1.88378 7.80026 2.0026 6.7039 2.45673C5.60754 2.91085 4.67047 3.67989 4.01118 4.66658C3.35189 5.65328 3 6.81331 3 8V11.1L1.2 9.3L0.5 10L3.5 13L6.5 10L5.8 9.3L4 11.1V8C4 7.0111 4.29324 6.0444 4.84265 5.22215C5.39206 4.39991 6.17295 3.75904 7.08658 3.38061C8.00021 3.00217 9.00555 2.90315 9.97545 3.09608C10.9454 3.289 11.8363 3.76521 12.5355 4.46447C13.2348 5.16373 13.711 6.05465 13.9039 7.02455C14.0969 7.99446 13.9978 8.99979 13.6194 9.91342C13.241 10.8271 12.6001 11.6079 11.7779 12.1574C10.9556 12.7068 9.98891 13 9 13V14Z\" fill=\"currentColor\"/></svg></a></div><iframe src=\"http://127.0.0.1:8024/headless/my-mols\" crossorigin=\"anonymous\" width=\"100%\" height=\"700\" style=\"border:solid 1px #ddd;box-sizing:border-box;width:calc(100% + 20px)\"></iframe>"
      ],
      "text/plain": [
       "<IPython.core.display.HTML object>"
      ]
     },
     "metadata": {},
     "output_type": "display_data"
    }
   ],
   "source": [
    "%openad show mols"
   ]
  },
  {
   "cell_type": "code",
   "execution_count": 3,
   "id": "501d08e6-b9b7-453c-a316-f60315278a2f",
   "metadata": {
    "tags": []
   },
   "outputs": [
    {
     "name": "stdout",
     "output_type": "stream",
     "text": [
      ">>> {'identifiers': {'name': None, 'inchi': 'InChI=1S/C20H24N2OS.ClH/c1-5-18(23)15-10-11-20-17(12-15)22(13-14(2)21(3)4)16-8-6-7-9-19(16)24-20;/h6-12,14H,5,13H2,1-4H3;1H', 'inchikey': 'UGVNGSMLNPWNNA-UHFFFAOYSA-N', 'canonical_smiles': 'CCC(=O)c1ccc2c(c1)N(CC(C)N(C)C)c1ccccc1S2.[Cl-].[H+]', 'isomeric_smiles': 'CCC(=O)c1ccc2c(c1)N(CC(C)N(C)C)c1ccccc1S2.[Cl-].[H+]', 'smiles': None, 'molecular_formula': 'C20H25ClN2OS', 'cid': None}, 'synonyms': [], 'properties': {'molecular_weight': 376.9530000000001, 'Unnamed: 0': '47', 'cid': '25010739', 'cas_number': 'nan', 'ec_number': 'nan', 'SMILES': '[H+].CCC(=O)C1=CC2=C(C=C1)SC3=CC=CC=C3N2CC(C)N(C)C.[Cl-]', 'chemical_name': 'nan', 'molecular weight': '376.9', 'hydrogen bond donor count': '1.0', 'hydrogen bond acceptor count': '5.0', 'rotatable bond count': '5.0', 'exact mass': '376.137612', 'monoisotopic mass': '376.137612', 'topological polar surface area': '48.8', 'heavy atom count': '25.0', 'formal charge': '0.0', 'complexity': '441.0', 'isotope atom count': '0.0', 'defined atom stereocenter count': '0.0', 'undefined atom stereocenter count': '1.0', 'covalently-bonded unit count': '3.0', 'compound is canonicalized': 'Yes', 'xlogp3': 'nan', 'bace': '[-0.49326616525650024, -0.63292396068573]'}, 'property_sources': {'name': {'source': 'RDKit', 'date': '28-01-2025, 15:53:54'}, 'inchi': {'source': 'RDKit', 'date': '28-01-2025, 15:53:54'}, 'inchikey': {'source': 'RDKit', 'date': '28-01-2025, 15:53:54'}, 'canonical_smiles': {'source': 'RDKit', 'date': '28-01-2025, 15:53:54'}, 'isomeric_smiles': {'source': 'RDKit', 'date': '28-01-2025, 15:53:54'}, 'molecular_formula': {'source': 'RDKit', 'date': '28-01-2025, 15:53:54'}, 'molecular_weight': {'source': 'RDKit', 'date': '28-01-2025, 15:53:54'}, 'bace': {'source': 'unknown', 'date': '28-01-2025, 15:53:56'}}, 'analysis': [], 'enriched': False, 'meta': {'notes': '', 'labels:': []}, 'sources': {}, 'index': 20}\n"
     ]
    }
   ],
   "source": [
    "from openad.smols.smol_functions import get_smol_from_mws, canonicalize\n",
    "cmd_pointer = %openad cmd_pointer\n",
    "# y = get_smol_from_mws(cmd_pointer, 'CCC(=O)c1ccc2c(c1)N(CC(C)N(C)C)c1ccccc1S2.Cl') # ok\n",
    "# print('>>>', y)\n",
    "\n",
    "x = get_smol_from_mws(cmd_pointer, 'CCC(=O)c1ccc2c(c1)N(CC(C)N(C)C)c1ccccc1S2.[Cl-].[H+]')\n",
    "print('>>>', x)\n",
    "\n",
    "# z = canonicalize('CCC(=O)c1ccc2c(c1)N(CC(C)N(C)C)c1ccccc1S2.[Cl-].[H+]')\n",
    "# z\n"
   ]
  },
  {
   "cell_type": "code",
   "execution_count": 4,
   "id": "2baa345f-437e-4611-a8f5-4dc90eac12c8",
   "metadata": {
    "tags": []
   },
   "outputs": [
    {
     "data": {
      "text/markdown": [
       "<span style=\"color: #d00\">Molecule already in list: <span style=\"color: #dc0\">CCC(=O)c1ccc2c(c1)N(CC(C)N(C)C)c1ccccc1S2.Cl</span></span> <br> \n"
      ],
      "text/plain": [
       "<IPython.core.display.Markdown object>"
      ]
     },
     "metadata": {},
     "output_type": "display_data"
    }
   ],
   "source": [
    "%openad add mol CCC(=O)c1ccc2c(c1)N(CC(C)N(C)C)c1ccccc1S2.Cl"
   ]
  }
 ],
 "metadata": {
  "kernelspec": {
   "display_name": "venv",
   "language": "python",
   "name": "venv"
  },
  "language_info": {
   "codemirror_mode": {
    "name": "ipython",
    "version": 3
   },
   "file_extension": ".py",
   "mimetype": "text/x-python",
   "name": "python",
   "nbconvert_exporter": "python",
   "pygments_lexer": "ipython3",
   "version": "3.11.2"
  }
 },
 "nbformat": 4,
 "nbformat_minor": 5
}
