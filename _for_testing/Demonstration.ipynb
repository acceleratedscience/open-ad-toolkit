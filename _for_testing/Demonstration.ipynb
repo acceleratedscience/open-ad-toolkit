{
 "cells": [
  {
   "cell_type": "markdown",
   "id": "8feab26e-1785-402f-83b0-9c3c5a524fc3",
   "metadata": {},
   "source": [
    "# openad-OpenToolkit Demonstration"
   ]
  },
  {
   "cell_type": "markdown",
   "id": "1b3f0d10-474d-42cd-a31d-b6889eb468ce",
   "metadata": {},
   "source": [
    "![](./media/AD_Banner.jpg)\n",
    "<a id=\"top\">"
   ]
  },
  {
   "cell_type": "markdown",
   "id": "bc76c3cb-4c43-4bda-9ad7-d66e14b6ba42",
   "metadata": {},
   "source": [
    "# ***What Commands Are Available  ?***"
   ]
  },
  {
   "cell_type": "code",
   "execution_count": 1,
   "id": "dd832ca1-f667-4f54-9a0c-88bb3c0b9799",
   "metadata": {
    "tags": []
   },
   "outputs": [
    {
     "data": {
      "text/markdown": [
       "## Available Commands - Main\n",
       "\n",
       "General:<br>`openad`<br>`get status`<br>`display history `<br>`display data '<csv_filename>'`<br>`  -> result save [as '<csv_filename>']`<br>`  -> result open`<br>`clear sessions`<br><br>LLM:<br>`tell me  <chat string>`<br>`set llm  <name of language model>`<br>`clear llm auth`<br><br>Workspaces:<br>`set workspace <workspace_name>`<br>`create workspace <workspace_name> [ description('<workspace_description>') on path '<path>' ]`<br>`remove workspace <workspace_name> `<br>`list workspaces`<br>`get workspace <workspace_name>`<br><br>Toolkits:<br>`ds4sd`<br>`rxn`<br>`st4sd`<br>`gt4sd`<br>`remove toolkit <toolkit_name>`<br>`add toolkit <toolkit_name>`<br>`list toolkits`<br>`list all toolkits`<br>`set context <toolkit_name> [reset]`<br>`unset context`<br><br>Runs:<br>`create run`<br>`save run as <run_name>`<br>`run <run_name>`<br>`list runs`<br>`display run <run_name>`<br><br>File System:<br>`list files`<br>`import from '<external_source_file>' to '<workspace_file>'`<br>`export from '<workspace_file>' to '<external_file>'`<br>`copy from '<workspace_file>' to '<other_workspace_name>'`<br>`remove '<filename>'`<br><br>GUI:<br>`show molecules using file '<mols_file>' [  as molsobject ]`<br>`show molecules using dataframe <dataframe> [  as molsobject ]`<br><br>Help:<br>`intro`<br>`docs`<br>`?`<br>`??`<br>`... ?`\n",
       "\n",
       "\n",
       "\n",
       "## Available Commands - DS4SD\n",
       "\n",
       "Queries:<br>`search for '<string>' using (index_key=<index_name> [ page_size=<int> edit_distance=<integer> ]) show (data|docs) [ estimate only|return as data|save as '<csv_filename>' ]`<br><br>Execution:<br>`exec display_collection()`<br>"
      ],
      "text/plain": [
       "<IPython.core.display.Markdown object>"
      ]
     },
     "execution_count": 1,
     "metadata": {},
     "output_type": "execute_result"
    }
   ],
   "source": [
    "%openad ?"
   ]
  },
  {
   "cell_type": "markdown",
   "id": "54cfb805-91b2-4723-9b2e-c82aa63adaf2",
   "metadata": {},
   "source": [
    "# ***Individual Toolkits Help***"
   ]
  },
  {
   "cell_type": "code",
   "execution_count": 3,
   "id": "df17751f-3059-47a9-ac78-daea954f6d8a",
   "metadata": {},
   "outputs": [
    {
     "ename": "TypeError",
     "evalue": "sequence item 1: expected str instance, Markdown found",
     "output_type": "error",
     "traceback": [
      "\u001b[0;31m---------------------------------------------------------------------------\u001b[0m",
      "\u001b[0;31mTypeError\u001b[0m                                 Traceback (most recent call last)",
      "Cell \u001b[0;32mIn[3], line 1\u001b[0m\n\u001b[0;32m----> 1\u001b[0m \u001b[43mget_ipython\u001b[49m\u001b[43m(\u001b[49m\u001b[43m)\u001b[49m\u001b[38;5;241;43m.\u001b[39;49m\u001b[43mrun_line_magic\u001b[49m\u001b[43m(\u001b[49m\u001b[38;5;124;43m'\u001b[39;49m\u001b[38;5;124;43mopenad\u001b[39;49m\u001b[38;5;124;43m'\u001b[39;49m\u001b[43m,\u001b[49m\u001b[43m \u001b[49m\u001b[38;5;124;43m'\u001b[39;49m\u001b[38;5;124;43m? rxn\u001b[39;49m\u001b[38;5;124;43m'\u001b[39;49m\u001b[43m)\u001b[49m\n",
      "File \u001b[0;32m~/openad/lib/python3.10/site-packages/IPython/core/interactiveshell.py:2414\u001b[0m, in \u001b[0;36mInteractiveShell.run_line_magic\u001b[0;34m(self, magic_name, line, _stack_depth)\u001b[0m\n\u001b[1;32m   2412\u001b[0m     kwargs[\u001b[38;5;124m'\u001b[39m\u001b[38;5;124mlocal_ns\u001b[39m\u001b[38;5;124m'\u001b[39m] \u001b[38;5;241m=\u001b[39m \u001b[38;5;28mself\u001b[39m\u001b[38;5;241m.\u001b[39mget_local_scope(stack_depth)\n\u001b[1;32m   2413\u001b[0m \u001b[38;5;28;01mwith\u001b[39;00m \u001b[38;5;28mself\u001b[39m\u001b[38;5;241m.\u001b[39mbuiltin_trap:\n\u001b[0;32m-> 2414\u001b[0m     result \u001b[38;5;241m=\u001b[39m \u001b[43mfn\u001b[49m\u001b[43m(\u001b[49m\u001b[38;5;241;43m*\u001b[39;49m\u001b[43margs\u001b[49m\u001b[43m,\u001b[49m\u001b[43m \u001b[49m\u001b[38;5;241;43m*\u001b[39;49m\u001b[38;5;241;43m*\u001b[39;49m\u001b[43mkwargs\u001b[49m\u001b[43m)\u001b[49m\n\u001b[1;32m   2416\u001b[0m \u001b[38;5;66;03m# The code below prevents the output from being displayed\u001b[39;00m\n\u001b[1;32m   2417\u001b[0m \u001b[38;5;66;03m# when using magics with decodator @output_can_be_silenced\u001b[39;00m\n\u001b[1;32m   2418\u001b[0m \u001b[38;5;66;03m# when the last Python token in the expression is a ';'.\u001b[39;00m\n\u001b[1;32m   2419\u001b[0m \u001b[38;5;28;01mif\u001b[39;00m \u001b[38;5;28mgetattr\u001b[39m(fn, magic\u001b[38;5;241m.\u001b[39mMAGIC_OUTPUT_CAN_BE_SILENCED, \u001b[38;5;28;01mFalse\u001b[39;00m):\n",
      "File \u001b[0;32m~/.ipython/profile_default/startup/openad.py:46\u001b[0m, in \u001b[0;36mAD.openad\u001b[0;34m(self, line, cell, local_ns)\u001b[0m\n\u001b[1;32m     43\u001b[0m                 \u001b[38;5;28;01mpass\u001b[39;00m\n\u001b[1;32m     44\u001b[0m         i\u001b[38;5;241m+\u001b[39m\u001b[38;5;241m=\u001b[39m\u001b[38;5;241m1\u001b[39m\n\u001b[0;32m---> 46\u001b[0m \u001b[38;5;28;01mreturn\u001b[39;00m \u001b[43mopenad_opentoolkit\u001b[49m\u001b[38;5;241;43m.\u001b[39;49m\u001b[43mapp\u001b[49m\u001b[38;5;241;43m.\u001b[39;49m\u001b[43mmain\u001b[49m\u001b[38;5;241;43m.\u001b[39;49m\u001b[43mapi_remote\u001b[49m\u001b[43m(\u001b[49m\u001b[43mline\u001b[49m\u001b[43m,\u001b[49m\u001b[43mhandle_cache\u001b[49m\u001b[43m,\u001b[49m\u001b[43mcontext_cache\u001b[49m\u001b[43m,\u001b[49m\u001b[43mapi_variable\u001b[49m\u001b[43m)\u001b[49m\n",
      "File \u001b[0;32m~/openad/lib/python3.10/site-packages/openad_opentoolkit/app/main.py:639\u001b[0m, in \u001b[0;36mapi_remote\u001b[0;34m(inp, connection_cache, api_context, api_var_list)\u001b[0m\n\u001b[1;32m    636\u001b[0m     \u001b[38;5;28;01melif\u001b[39;00m inp\u001b[38;5;241m.\u001b[39mstrip() \u001b[38;5;241m==\u001b[39m \u001b[38;5;124m'\u001b[39m\u001b[38;5;124m??\u001b[39m\u001b[38;5;124m'\u001b[39m:\n\u001b[1;32m    637\u001b[0m         inp \u001b[38;5;241m=\u001b[39m \u001b[38;5;124m'\u001b[39m\u001b[38;5;124m?\u001b[39m\u001b[38;5;124m'\u001b[39m\n\u001b[0;32m--> 639\u001b[0m     \u001b[38;5;28;01mreturn\u001b[39;00m \u001b[43mmagic_prompt\u001b[49m\u001b[38;5;241;43m.\u001b[39;49m\u001b[43mdo_help\u001b[49m\u001b[43m(\u001b[49m\u001b[43minp\u001b[49m\u001b[43m)\u001b[49m\n\u001b[1;32m    640\u001b[0m \u001b[38;5;28;01melse\u001b[39;00m:\n\u001b[1;32m    641\u001b[0m     \u001b[38;5;66;03m# if there is a argument and it is not help attemt to run the command\u001b[39;00m\n\u001b[1;32m    642\u001b[0m     \u001b[38;5;66;03m# Note, may be possible add code completion here #revisit\u001b[39;00m\n\u001b[1;32m    644\u001b[0m     magic_prompt\u001b[38;5;241m.\u001b[39mpreloop()\n",
      "File \u001b[0;32m~/openad/lib/python3.10/site-packages/openad_opentoolkit/app/main.py:223\u001b[0m, in \u001b[0;36mrun_cmd.do_help\u001b[0;34m(self, inp, **kwargs)\u001b[0m\n\u001b[1;32m    220\u001b[0m     toolkit_name \u001b[38;5;241m=\u001b[39m inp\u001b[38;5;241m.\u001b[39mupper()\n\u001b[1;32m    221\u001b[0m     ok, toolkit \u001b[38;5;241m=\u001b[39m load_toolkit(toolkit_name)\n\u001b[1;32m    222\u001b[0m     \u001b[38;5;28;01mreturn\u001b[39;00m output_text(\n\u001b[0;32m--> 223\u001b[0m         \u001b[43mopenad_help\u001b[49m\u001b[38;5;241;43m.\u001b[39;49m\u001b[43mall_commands\u001b[49m\u001b[43m(\u001b[49m\u001b[43mtoolkit\u001b[49m\u001b[38;5;241;43m.\u001b[39;49m\u001b[43mmethods_help\u001b[49m\u001b[43m,\u001b[49m\u001b[43m \u001b[49m\u001b[43mtoolkit_name\u001b[49m\u001b[43m,\u001b[49m\u001b[43m \u001b[49m\u001b[43mcmd_pointer\u001b[49m\u001b[38;5;241;43m=\u001b[39;49m\u001b[38;5;28;43mself\u001b[39;49m\u001b[43m)\u001b[49m,\n\u001b[1;32m    224\u001b[0m         \u001b[38;5;28mself\u001b[39m,\n\u001b[1;32m    225\u001b[0m         pad\u001b[38;5;241m=\u001b[39m\u001b[38;5;241m2\u001b[39m,\n\u001b[1;32m    226\u001b[0m         tabs\u001b[38;5;241m=\u001b[39m\u001b[38;5;241m1\u001b[39m,\n\u001b[1;32m    227\u001b[0m         nowrap\u001b[38;5;241m=\u001b[39m\u001b[38;5;28;01mTrue\u001b[39;00m\n\u001b[1;32m    228\u001b[0m     )\n\u001b[1;32m    230\u001b[0m \u001b[38;5;66;03m# Add toolkit commands to the list of all commands.\u001b[39;00m\n\u001b[1;32m    231\u001b[0m \u001b[38;5;28;01mtry\u001b[39;00m:\n",
      "File \u001b[0;32m~/openad/lib/python3.10/site-packages/openad_opentoolkit/core/help.py:75\u001b[0m, in \u001b[0;36mall_commands\u001b[0;34m(commands, toolkit_name, toolkit_current, cmd_pointer)\u001b[0m\n\u001b[1;32m     71\u001b[0m \u001b[38;5;66;03m#\u001b[39;00m\n\u001b[1;32m     72\u001b[0m \u001b[38;5;66;03m#\u001b[39;00m\n\u001b[1;32m     74\u001b[0m \u001b[38;5;28;01mif\u001b[39;00m toolkit_name:\n\u001b[0;32m---> 75\u001b[0m     \u001b[38;5;28;01mreturn\u001b[39;00m \u001b[43m_compile\u001b[49m\u001b[43m(\u001b[49m\u001b[43mcommands\u001b[49m\u001b[43m,\u001b[49m\u001b[43m \u001b[49m\u001b[43mtoolkit_name\u001b[49m\u001b[43m)\u001b[49m\n\u001b[1;32m     76\u001b[0m \u001b[38;5;28;01melse\u001b[39;00m:\n\u001b[1;32m     77\u001b[0m     main_commands \u001b[38;5;241m=\u001b[39m _compile(commands)\n",
      "File \u001b[0;32m~/openad/lib/python3.10/site-packages/openad_opentoolkit/core/help.py:69\u001b[0m, in \u001b[0;36mall_commands.<locals>._compile\u001b[0;34m(commands, toolkit_name)\u001b[0m\n\u001b[1;32m     67\u001b[0m \u001b[38;5;28;01melse\u001b[39;00m:\n\u001b[1;32m     68\u001b[0m     output\u001b[38;5;241m.\u001b[39mappend(\u001b[38;5;124m'\u001b[39m\u001b[38;5;124m<error>No commands found.</error>\u001b[39m\u001b[38;5;124m'\u001b[39m)\n\u001b[0;32m---> 69\u001b[0m \u001b[38;5;28;01mreturn\u001b[39;00m \u001b[38;5;124;43m'\u001b[39;49m\u001b[38;5;130;43;01m\\n\u001b[39;49;00m\u001b[38;5;124;43m'\u001b[39;49m\u001b[38;5;241;43m.\u001b[39;49m\u001b[43mjoin\u001b[49m\u001b[43m(\u001b[49m\u001b[43moutput\u001b[49m\u001b[43m)\u001b[49m\n",
      "\u001b[0;31mTypeError\u001b[0m: sequence item 1: expected str instance, Markdown found"
     ]
    }
   ],
   "source": [
    "%openad ? rxn"
   ]
  },
  {
   "cell_type": "markdown",
   "id": "da1a631c-44ce-4ff8-a071-90b140380877",
   "metadata": {},
   "source": [
    "# ***Working Within the Open ToolKit Environment***"
   ]
  },
  {
   "cell_type": "code",
   "execution_count": 3,
   "id": "162edbdd-3469-468c-94db-bbc59c87e07b",
   "metadata": {},
   "outputs": [
    {
     "data": {
      "text/html": [
       "<div>\n",
       "<style scoped>\n",
       "    .dataframe tbody tr th:only-of-type {\n",
       "        vertical-align: middle;\n",
       "    }\n",
       "\n",
       "    .dataframe tbody tr th {\n",
       "        vertical-align: top;\n",
       "    }\n",
       "\n",
       "    .dataframe thead th {\n",
       "        text-align: right;\n",
       "    }\n",
       "</style>\n",
       "<table border=\"1\" class=\"dataframe\">\n",
       "  <thead>\n",
       "    <tr style=\"text-align: right;\">\n",
       "      <th></th>\n",
       "      <th>Workspace</th>\n",
       "      <th>Description</th>\n",
       "    </tr>\n",
       "  </thead>\n",
       "  <tbody>\n",
       "    <tr>\n",
       "      <th>0</th>\n",
       "      <td>* DEFAULT</td>\n",
       "      <td>This is your default workspace.</td>\n",
       "    </tr>\n",
       "    <tr>\n",
       "      <th>1</th>\n",
       "      <td>DEFAULT_RXN</td>\n",
       "      <td>mywkspace</td>\n",
       "    </tr>\n",
       "    <tr>\n",
       "      <th>2</th>\n",
       "      <td>KEEPER</td>\n",
       "      <td>We keep this one</td>\n",
       "    </tr>\n",
       "  </tbody>\n",
       "</table>\n",
       "</div>"
      ],
      "text/plain": [
       "     Workspace                      Description\n",
       "0    * DEFAULT  This is your default workspace.\n",
       "1  DEFAULT_RXN                        mywkspace\n",
       "2       KEEPER                 We keep this one"
      ]
     },
     "execution_count": 3,
     "metadata": {},
     "output_type": "execute_result"
    }
   ],
   "source": [
    "%openad list workspaces"
   ]
  },
  {
   "cell_type": "code",
   "execution_count": 4,
   "id": "0b8cc971-0da1-4128-8345-9e8fd288d71b",
   "metadata": {},
   "outputs": [
    {
     "data": {
      "text/html": [
       "<div>\n",
       "<style scoped>\n",
       "    .dataframe tbody tr th:only-of-type {\n",
       "        vertical-align: middle;\n",
       "    }\n",
       "\n",
       "    .dataframe tbody tr th {\n",
       "        vertical-align: top;\n",
       "    }\n",
       "\n",
       "    .dataframe thead th {\n",
       "        text-align: right;\n",
       "    }\n",
       "</style>\n",
       "<table border=\"1\" class=\"dataframe\">\n",
       "  <thead>\n",
       "    <tr style=\"text-align: right;\">\n",
       "      <th></th>\n",
       "      <th>File Name</th>\n",
       "      <th>Size</th>\n",
       "      <th>Last Edited</th>\n",
       "    </tr>\n",
       "  </thead>\n",
       "  <tbody>\n",
       "    <tr>\n",
       "      <th>0</th>\n",
       "      <td>base_molecules.sdf</td>\n",
       "      <td>0.23 MB</td>\n",
       "      <td>Wed Oct 04, 2023 - 09:32</td>\n",
       "    </tr>\n",
       "    <tr>\n",
       "      <th>1</th>\n",
       "      <td>base_molecules.csv</td>\n",
       "      <td>18.93 kB</td>\n",
       "      <td>Wed Oct 04, 2023 - 09:32</td>\n",
       "    </tr>\n",
       "    <tr>\n",
       "      <th>2</th>\n",
       "      <td>sample_config-schema.json</td>\n",
       "      <td>7.44 kB</td>\n",
       "      <td>Wed Oct 04, 2023 - 10:58</td>\n",
       "    </tr>\n",
       "    <tr>\n",
       "      <th>3</th>\n",
       "      <td>sample_config.json</td>\n",
       "      <td>1.38 kB</td>\n",
       "      <td>Wed Oct 04, 2023 - 10:58</td>\n",
       "    </tr>\n",
       "    <tr>\n",
       "      <th>4</th>\n",
       "      <td>sample_data.csv</td>\n",
       "      <td>0.73 kB</td>\n",
       "      <td>Wed Oct 04, 2023 - 10:58</td>\n",
       "    </tr>\n",
       "    <tr>\n",
       "      <th>5</th>\n",
       "      <td>test.csv</td>\n",
       "      <td>0.72 kB</td>\n",
       "      <td>Fri Sep 29, 2023 - 09:36</td>\n",
       "    </tr>\n",
       "    <tr>\n",
       "      <th>6</th>\n",
       "      <td>myresults.csv</td>\n",
       "      <td>0.5 kB</td>\n",
       "      <td>Tue Sep 26, 2023 - 17:52</td>\n",
       "    </tr>\n",
       "    <tr>\n",
       "      <th>7</th>\n",
       "      <td>func_display_collection.json</td>\n",
       "      <td>0.39 kB</td>\n",
       "      <td>Fri Sep 29, 2023 - 09:36</td>\n",
       "    </tr>\n",
       "    <tr>\n",
       "      <th>8</th>\n",
       "      <td>reactions.csv</td>\n",
       "      <td>0.05 kB</td>\n",
       "      <td>Tue Oct 03, 2023 - 15:10</td>\n",
       "    </tr>\n",
       "  </tbody>\n",
       "</table>\n",
       "</div>"
      ],
      "text/plain": [
       "                      File Name      Size               Last Edited\n",
       "0            base_molecules.sdf   0.23 MB  Wed Oct 04, 2023 - 09:32\n",
       "1            base_molecules.csv  18.93 kB  Wed Oct 04, 2023 - 09:32\n",
       "2     sample_config-schema.json   7.44 kB  Wed Oct 04, 2023 - 10:58\n",
       "3            sample_config.json   1.38 kB  Wed Oct 04, 2023 - 10:58\n",
       "4               sample_data.csv   0.73 kB  Wed Oct 04, 2023 - 10:58\n",
       "5                      test.csv   0.72 kB  Fri Sep 29, 2023 - 09:36\n",
       "6                 myresults.csv    0.5 kB  Tue Sep 26, 2023 - 17:52\n",
       "7  func_display_collection.json   0.39 kB  Fri Sep 29, 2023 - 09:36\n",
       "8                 reactions.csv   0.05 kB  Tue Oct 03, 2023 - 15:10"
      ]
     },
     "execution_count": 4,
     "metadata": {},
     "output_type": "execute_result"
    }
   ],
   "source": [
    "%openad list files "
   ]
  },
  {
   "cell_type": "code",
   "execution_count": 5,
   "id": "72a6c751-654a-47da-b255-6f7b4131da96",
   "metadata": {},
   "outputs": [
    {
     "data": {
      "text/markdown": [
       "<span style=\"color: red\"><span style=\"background: #d00; color: #fff\"> The RXN toolkit is not installed. </span></span><br><span style=\"color: #ccc\">To install it, run `add toolkit rxn`.</span>"
      ],
      "text/plain": [
       "<IPython.core.display.Markdown object>"
      ]
     },
     "execution_count": 5,
     "metadata": {},
     "output_type": "execute_result"
    }
   ],
   "source": [
    "%openad set context rxn"
   ]
  },
  {
   "cell_type": "markdown",
   "id": "a032d458-4a5d-443b-8f3e-676236298374",
   "metadata": {},
   "source": [
    "# ***Runs***"
   ]
  },
  {
   "cell_type": "code",
   "execution_count": 4,
   "id": "102e0073-71ee-4ed4-bd9d-a3ea03a9ac5c",
   "metadata": {
    "tags": []
   },
   "outputs": [
    {
     "data": {
      "text/markdown": [
       "Commands containing \"run\"<br>- `create run`<br>- `save run as <run_name>`<br>- `run <run_name>`<br>- `list runs`<br>- `display run <run_name>`"
      ],
      "text/plain": [
       "<IPython.core.display.Markdown object>"
      ]
     },
     "execution_count": 4,
     "metadata": {},
     "output_type": "execute_result"
    }
   ],
   "source": [
    "%openad ? run"
   ]
  },
  {
   "cell_type": "code",
   "execution_count": null,
   "id": "8acb6a4e-db7b-4e73-993c-f6612757c4c5",
   "metadata": {},
   "outputs": [],
   "source": [
    "%openad create run"
   ]
  },
  {
   "cell_type": "code",
   "execution_count": null,
   "id": "24b927b0-d7f3-4174-9f2c-7888452a5788",
   "metadata": {},
   "outputs": [],
   "source": [
    "%openad list all toolkits"
   ]
  },
  {
   "cell_type": "code",
   "execution_count": null,
   "id": "5701c7bb-cb21-49d3-87ae-0343a2ef7d13",
   "metadata": {},
   "outputs": [],
   "source": [
    "%openad List rxn models"
   ]
  },
  {
   "cell_type": "code",
   "execution_count": null,
   "id": "0a3f391c-b380-4d9b-b4c3-a74a5d2e8014",
   "metadata": {},
   "outputs": [],
   "source": [
    "%openad list runs"
   ]
  },
  {
   "cell_type": "code",
   "execution_count": null,
   "id": "74aff36c-10bf-4c80-adc8-1c51f9337bb2",
   "metadata": {},
   "outputs": [],
   "source": [
    "%openad save run as test_run3"
   ]
  },
  {
   "cell_type": "code",
   "execution_count": null,
   "id": "2d70dd78-f717-4f68-ad11-1b579c2c4d71",
   "metadata": {},
   "outputs": [],
   "source": [
    "%openad run test_run3"
   ]
  },
  {
   "cell_type": "markdown",
   "id": "0e128d74-17fc-4b53-9995-8798b7719d39",
   "metadata": {},
   "source": [
    "# ***Deep Search to RXN Demonstration***\n",
    "\n",
    "Search for a Smiles definition of a Drug in <b>Deep Search</b> and determine retrosynthesis Paths in <b>RXN</b>"
   ]
  },
  {
   "cell_type": "code",
   "execution_count": null,
   "id": "65e1926d-af75-4b66-b46d-4966dc7a658a",
   "metadata": {},
   "outputs": [],
   "source": [
    "%openad tell me the commands to  use deepsearch to identify the molecule for  Sibofimloc from the pubchem index  and with \\\n",
    "the rxn toolkit commands how would I predict retrosynthesis on the smiles definition of the molecule and the available options for the predict retro synthesis command"
   ]
  },
  {
   "cell_type": "markdown",
   "id": "013f99ed-8ecc-4dec-b427-48d4c6c2dd97",
   "metadata": {},
   "source": [
    "### ***Set the Tool Context to Deep Search***"
   ]
  },
  {
   "cell_type": "code",
   "execution_count": null,
   "id": "9ef34ebb-46a1-40eb-9ea2-b729a784861a",
   "metadata": {},
   "outputs": [],
   "source": [
    "\n",
    "%openad set context ds4sd "
   ]
  },
  {
   "cell_type": "markdown",
   "id": "a81eb4a6-5d28-4b5d-85ba-b7b06dc28f3c",
   "metadata": {},
   "source": [
    "### ***Run our Search and return Result to a data frame***"
   ]
  },
  {
   "cell_type": "code",
   "execution_count": null,
   "id": "27562449-7a5f-47da-9c91-2fc772ecab82",
   "metadata": {},
   "outputs": [],
   "source": [
    "result = %openad SEARCH FOR  ' Sibofimloc' USING (index_key='pubchem')   SHOW (data) return as data\n"
   ]
  },
  {
   "cell_type": "code",
   "execution_count": null,
   "id": "7cc94498-e45d-4d14-b90f-22c7d90b617a",
   "metadata": {},
   "outputs": [],
   "source": [
    "result"
   ]
  },
  {
   "cell_type": "markdown",
   "id": "3d88c28f-39e4-4ae1-a067-812da2988034",
   "metadata": {},
   "source": [
    "### ***Display Results***\n",
    "use the integrated Mols2grid enhanced by IBM Research to dsiplay result and select the molecule we wish to predict retrosynthesis on"
   ]
  },
  {
   "cell_type": "code",
   "execution_count": null,
   "id": "55942c18-225a-46bf-a3b8-b02c628a1a18",
   "metadata": {},
   "outputs": [],
   "source": [
    "\n",
    "result_mol = %openad show molecules using dataframe result as molsobject\n",
    "result_mol.display()"
   ]
  },
  {
   "cell_type": "markdown",
   "id": "c4a966f4-3d71-43eb-86bf-6df7d8ae3668",
   "metadata": {},
   "source": [
    "### ***Capture the Selection and Display***"
   ]
  },
  {
   "cell_type": "code",
   "execution_count": null,
   "id": "93226cd8-56b9-4db1-bf52-3f30e9a11568",
   "metadata": {},
   "outputs": [],
   "source": [
    "target_string=result_mol.get_selection().loc[0][\"SMILES\"]\n",
    "display(target_string)"
   ]
  },
  {
   "cell_type": "markdown",
   "id": "7b4b5f1a-0d80-458b-b5a8-ca93fbc88441",
   "metadata": {},
   "source": [
    "### ***Set Context to the RXN Toolkit and run Retro Synthesis Prediction***"
   ]
  },
  {
   "cell_type": "code",
   "execution_count": null,
   "id": "7adbd966-2314-4ac9-bcc5-3097ba5a9d61",
   "metadata": {},
   "outputs": [],
   "source": [
    "%openad set context rxn\n",
    "%openad predict retrosynthesis '{target_string}' using( max_steps=3 )"
   ]
  },
  {
   "cell_type": "markdown",
   "id": "95e3d699-abff-4d79-adde-ebfd94c6f420",
   "metadata": {},
   "source": [
    "## Interpreting  Recipes"
   ]
  },
  {
   "cell_type": "code",
   "execution_count": null,
   "id": "87dffbe7-e832-4205-abdc-dabb7b987805",
   "metadata": {},
   "outputs": [],
   "source": [
    "%openad interpret recipe 'To a stirred solution of 7-(difluoromethylsulfonyl)-4-fluoro-indan-1-one (110 mg, 0.42 mmol)\\\n",
    "in methanol (4 mL) was added sodium borohydride \\\n",
    "(24 mg, 0.62 mmol). The reaction mixture was stirred at ambient temperature for 1 hour.'"
   ]
  },
  {
   "cell_type": "code",
   "execution_count": null,
   "id": "aadc36c0-4642-451a-8fad-c9ad2acd0bda",
   "metadata": {},
   "outputs": [],
   "source": [
    "import pandas\n",
    "lst = ['BrBr.c1ccc2cc3ccccc3cc2c1CCO' ,'Cl.CCC(=O)NCCC.O'] \n",
    "batch_list = pandas.DataFrame(lst,columns=['reactions'])\n",
    "%openad predict reaction topn in batch from dataframe batch_list using (topn=6)"
   ]
  },
  {
   "cell_type": "markdown",
   "id": "dd026f02-2589-478b-b57b-f87ccf4352e5",
   "metadata": {},
   "source": [
    "## Predicting Reaction Outcomes"
   ]
  },
  {
   "cell_type": "markdown",
   "id": "06437709-ed2c-45a1-bdd8-8152e343495f",
   "metadata": {},
   "source": [
    "### Single Predictions"
   ]
  },
  {
   "cell_type": "code",
   "execution_count": null,
   "id": "921fff0f-796b-4923-a1b6-d3ddb0298a34",
   "metadata": {},
   "outputs": [],
   "source": [
    "%openad  predict reaction 'Cl.CCC(=O)NCCC.O'"
   ]
  },
  {
   "cell_type": "code",
   "execution_count": null,
   "id": "868c2adb-ae99-4a95-95bb-f86c7c3fc974",
   "metadata": {},
   "outputs": [],
   "source": [
    "%openad import  from '~/openad_notebooks/examples/reactions.csv' to 'reactions.csv'\n",
    "%openad predict reaction in batch from file 'reactions.csv'"
   ]
  },
  {
   "cell_type": "markdown",
   "id": "94175849-50e8-4d5d-bc97-9545d38e7116",
   "metadata": {},
   "source": [
    "### Batch Predictions"
   ]
  },
  {
   "cell_type": "code",
   "execution_count": null,
   "id": "28425cd2-289a-41cf-9017-4e9a6e48177b",
   "metadata": {},
   "outputs": [],
   "source": [
    "%openad predict reaction in batch from list ['BrBr.c1ccc2cc3ccccc3cc2c1CCO' ,'Cl.CCC(=O)NCCC.O'] "
   ]
  },
  {
   "cell_type": "markdown",
   "id": "76c2a06c-d69e-4758-a66c-069e9513b760",
   "metadata": {},
   "source": [
    "### Using the [use_saved] clause"
   ]
  },
  {
   "cell_type": "markdown",
   "id": "3be03ac3-9c8a-4692-8d53-04202df23838",
   "metadata": {},
   "source": [
    "Providing the ability to reuse recently run previous reaction runs"
   ]
  },
  {
   "cell_type": "code",
   "execution_count": null,
   "id": "cf813e5f-24b2-4757-9d31-1d8756b7b994",
   "metadata": {},
   "outputs": [],
   "source": [
    "%openad predict reaction in batch  from list ['BrBr.c1ccc2cc3ccccc3cc2c1CCO' ,'BrBr.c1ccc2cc3ccccc3cc2c1','Cl.CCC(=O)NCCC.O'] use_saved"
   ]
  },
  {
   "cell_type": "code",
   "execution_count": null,
   "id": "b93788a6-25aa-4898-8a73-c3ed20807232",
   "metadata": {},
   "outputs": [],
   "source": []
  }
 ],
 "metadata": {
  "kernelspec": {
   "display_name": "openad",
   "language": "python",
   "name": "openad"
  },
  "language_info": {
   "codemirror_mode": {
    "name": "ipython",
    "version": 3
   },
   "file_extension": ".py",
   "mimetype": "text/x-python",
   "name": "python",
   "nbconvert_exporter": "python",
   "pygments_lexer": "ipython3",
   "version": "3.10.10"
  }
 },
 "nbformat": 4,
 "nbformat_minor": 5
}
