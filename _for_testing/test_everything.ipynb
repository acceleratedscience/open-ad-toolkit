{
 "cells": [
  {
   "cell_type": "markdown",
   "id": "5ca1c979-7eed-4be1-822f-68c2dcb3f3c2",
   "metadata": {},
   "source": [
    "# Help Outputs\n",
    "\n",
    "This file displays the help output for all available commands by executing a bunch of runs.\n",
    "\n",
    "The first step is to copy over the `run` directory from the `_for_testing` directory."
   ]
  },
  {
   "cell_type": "code",
   "execution_count": null,
   "id": "f64b0020-2704-48a2-aaaa-eade9b960f09",
   "metadata": {},
   "outputs": [],
   "source": [
    "import os\n",
    "from IPython.display import Markdown\n",
    "from openad.app.global_var_lib import _repo_dir\n",
    "\n",
    "os.chdir(_repo_dir + '/../../') # todo: _repo_dir should point to repo folder, not app\n",
    "os.getcwd()\n",
    "\n",
    "success = %openad import from '_for_testing/runs' to '_runs'\n",
    "success_str = success.data\n",
    "if 'Import failed' in success_str:\n",
    "    print('Please rename or delete your current `_runs` folder first.')\n",
    "else:\n",
    "    print('Successfully copied over _runs folder to your workspace.')\n",
    "\n",
    "# To display separators\n",
    "def sep():\n",
    "    print('\\n\\n\\n' + '- '*60 + '\\n\\n\\n')"
   ]
  },
  {
   "cell_type": "markdown",
   "id": "12f05f0f-ff8b-4f06-910b-c476658e2eb0",
   "metadata": {},
   "source": [
    "<br><br><br>\n",
    "\n",
    "### Copy over test files"
   ]
  },
  {
   "cell_type": "code",
   "execution_count": null,
   "id": "e29e37da-13b1-4a90-bce6-e121ac23aac4",
   "metadata": {},
   "outputs": [],
   "source": [
    "import os\n",
    "from pathlib import Path\n",
    "\n",
    "%openad import from '_for_testing/test_files/sample.csv' to 'sample.csv'\n",
    "%openad import from '_for_testing/test_files/base_molecules.sdf' to 'base_molecules.sdf'\n",
    "%openad import from '_for_testing/test_files/base_molecules.csv' to 'base_molecules.csv'"
   ]
  },
  {
   "cell_type": "code",
   "execution_count": null,
   "id": "532c325c-2da9-481a-83a0-85620aaf6e8c",
   "metadata": {},
   "outputs": [],
   "source": []
  },
  {
   "cell_type": "markdown",
   "id": "f7a66050-8d35-437d-8bfd-3b88c115f25e",
   "metadata": {},
   "source": [
    "<br><br><br>\n",
    "\n",
    "## Display All OpenAD Help Outputs\n",
    "\n",
    "If you run into problems, you can display the help outputs by category by uncommenting the individual runs below."
   ]
  },
  {
   "cell_type": "code",
   "execution_count": null,
   "id": "6b8a2d72-ca5a-4691-a1f2-bf63dac70097",
   "metadata": {},
   "outputs": [],
   "source": [
    "# Display all\n",
    "%openad run help_all\n",
    "\n",
    "# # Or display individual\n",
    "# %openad run help_workspaces\n",
    "# %openad run help_util\n",
    "# %openad run help_filesystem\n",
    "# %openad run help_general\n",
    "# %openad run help_gui\n",
    "# %openad run help_help\n",
    "# %openad run help_llm\n",
    "# %openad run help_runs\n",
    "# %openad run help_toolkits"
   ]
  },
  {
   "cell_type": "markdown",
   "id": "d7f3024b-bb2a-40e5-8734-4b908761ab97",
   "metadata": {},
   "source": [
    "<br><br>\n",
    "\n",
    "## Display All Toolkit Help Outputs"
   ]
  },
  {
   "cell_type": "code",
   "execution_count": null,
   "id": "3aa7ef8f-bab1-4b0c-9485-17543b801ec1",
   "metadata": {},
   "outputs": [],
   "source": [
    "# Install all toolkits\n",
    "%openad clear sessions\n",
    "%openad add toolkit ds4sd\n",
    "%openad add toolkit rxn\n",
    "%openad add toolkit st4sd\n",
    "%openad add toolkit gt4sd\n",
    "%openad add toolkit demo"
   ]
  },
  {
   "cell_type": "code",
   "execution_count": null,
   "id": "86573dab-1bc9-451b-aba3-37124271a112",
   "metadata": {},
   "outputs": [],
   "source": [
    "# DS4SD\n",
    "%openad set context ds4sd\n",
    "%openad run help_tk_ds4sd\n",
    "\n",
    "# RXN\n",
    "%openad set context rxn\n",
    "%openad run help_tk_rxn\n",
    "\n",
    "#ST4SD\n",
    "%openad set context st4sd\n",
    "%openad run help_tk_st4sd\n",
    "\n",
    "# GT4SD\n",
    "%openad set context gt4sd\n",
    "%openad run help_tk_gt4sd\n",
    "\n",
    "# Demo\n",
    "%openad set context demo\n",
    "%openad run help_tk_demo"
   ]
  },
  {
   "cell_type": "markdown",
   "id": "d2de699e-425d-4d5a-9a5b-bdc29dfc458e",
   "metadata": {},
   "source": [
    "<br><br><br><br>\n",
    "\n",
    "# Command Outputs"
   ]
  },
  {
   "cell_type": "code",
   "execution_count": 1,
   "id": "ee3ec129-f457-4d19-a9d3-b86dfa0a9091",
   "metadata": {},
   "outputs": [
    {
     "data": {
      "text/markdown": [
       "<span style=\"color: #0d0\">logging into RXN as: </span> moenen@shapish.com<br>\n",
       " Workspace:  DEFAULT<br>\n"
      ],
      "text/plain": [
       "<IPython.core.display.Markdown object>"
      ]
     },
     "metadata": {},
     "output_type": "display_data"
    },
    {
     "data": {
      "text/markdown": [
       "RXN Project has been set to DEFAULT for this Workspace"
      ],
      "text/plain": [
       "<IPython.core.display.Markdown object>"
      ]
     },
     "metadata": {},
     "output_type": "display_data"
    },
    {
     "data": {
      "application/vnd.jupyter.widget-view+json": {
       "model_id": "de168b7ef5f040f2aaec37f352a3f9aa",
       "version_major": 2,
       "version_minor": 0
      },
      "text/plain": [
       "MolGridWidget(grid_id='base_molecules.sdf')"
      ]
     },
     "metadata": {},
     "output_type": "display_data"
    },
    {
     "data": {
      "text/markdown": [
       "Tip: To select what parameters to display:<br>\n",
       "`result.display(**{ subset:['name'], tooltip:['smiles'] })`<br>\n",
       "\n",
       "For more options, see: https://mols2grid.readthedocs.io/en/latest/notebooks/customization.html<br>\n"
      ],
      "text/plain": [
       "<IPython.core.display.Markdown object>"
      ]
     },
     "metadata": {},
     "output_type": "display_data"
    },
    {
     "data": {
      "text/plain": [
       "<mols2grid.molgrid.MolGrid at 0x103379810>"
      ]
     },
     "metadata": {},
     "output_type": "display_data"
    }
   ],
   "source": [
    "# %openad clear sessions\n",
    "\n",
    "# # Display all\n",
    "# %openad run all\n",
    "\n",
    "# # Or display individual\n",
    "%openad run workspaces\n",
    "# %openad run util\n",
    "# %openad run filesystem\n",
    "# %openad run general\n",
    "# %openad run gui\n",
    "# %openad run help\n",
    "# %openad run llm\n",
    "# %openad run molecules\n",
    "# %openad run runs\n",
    "# %openad run toolkits"
   ]
  }
 ],
 "metadata": {
  "kernelspec": {
   "display_name": "venv-A",
   "language": "python",
   "name": "venv-a"
  },
  "language_info": {
   "codemirror_mode": {
    "name": "ipython",
    "version": 3
   },
   "file_extension": ".py",
   "mimetype": "text/x-python",
   "name": "python",
   "nbconvert_exporter": "python",
   "pygments_lexer": "ipython3",
   "version": "3.11.2"
  }
 },
 "nbformat": 4,
 "nbformat_minor": 5
}
