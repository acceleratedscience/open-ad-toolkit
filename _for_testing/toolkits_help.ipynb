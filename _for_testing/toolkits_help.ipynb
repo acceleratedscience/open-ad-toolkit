{
 "cells": [
  {
   "cell_type": "markdown",
   "id": "a1dbbbbc-eb10-4c20-9a2d-d360c4e0b9ab",
   "metadata": {},
   "source": [
    "# DS4SD"
   ]
  },
  {
   "cell_type": "code",
   "execution_count": 2,
   "id": "81093d2e-8c8a-439f-962c-df82c6d66348",
   "metadata": {},
   "outputs": [
    {
     "data": {
      "text/markdown": [
       "<span style=\"color: green\">loggining into DeepSearch as: </success> phil.downey1@ibm.com<br>\n",
       " <success>Workspace: </span> DEFAULT<br>\n"
      ],
      "text/plain": [
       "<IPython.core.display.Markdown object>"
      ]
     },
     "metadata": {},
     "output_type": "display_data"
    },
    {
     "data": {
      "text/markdown": [
       "<span style=\"color: green\">You successfully logged in to DS4SD</span><br>\n",
       "<span style=\"color: #ccc\">Your access token expires on Mon Dec  4, 2023  at 23:53</span><br>\n"
      ],
      "text/plain": [
       "<IPython.core.display.Markdown object>"
      ]
     },
     "metadata": {},
     "output_type": "display_data"
    }
   ],
   "source": [
    "%openad set context ds4sd"
   ]
  },
  {
   "cell_type": "code",
   "execution_count": 3,
   "id": "39d0f6e2-a0d2-4cc3-802f-70ef55f826a7",
   "metadata": {},
   "outputs": [
    {
     "data": {
      "text/markdown": [
       "## Available Commands - DS4SD\n",
       "\n",
       "Search Molecules:<br>\n",
       "`search for patents containing molecule '<smiles>' | '<inchi>' | '<inchi_key>' [ save as '<csv_filename>' ]`<br>\n",
       "`search for similar molecules to '<smiles>' [ save as '<csv_filename>' ]`<br>\n",
       "`search for molecules in patents from list ['<patent1>', '<patent2>', ...] | dataframe <dataframe_name> | file '<csv_filename>' [ save as '<csv_filename>' ]`<br>\n",
       "`search for substructure instances of '<smiles>' [ save as '<csv_filename>' ]`<br>\n",
       "\n",
       "Search Collections:<br>\n",
       "`search collection '<collection_name_or_key>' for '<search_string>' [ using (page_size=<int> system_id=<system_id> edit_distance=<integer> display_first=<integer>) ] show (data | docs) [ estimate only | return as data | save as '<csv_filename>' ]`<br>\n",
       "`display collection matches for '<search_string>' [ save as '<csv_filename>' ]`<br>\n",
       "\n",
       "Collections:<br>\n",
       "`display collections for domain '<domain_name>' `<br>\n",
       "`display all collections [ save as '<csv_filename>' ]`<br>\n",
       "`display collections in domains from list <list_of_domains> [ save as '<csv_filename>' ] `<br>\n",
       "`display collection details '<collection_name_or_key>'`<br>\n",
       "\n",
       " i  <span style=\"color: #ccc\">To learn more about the DS4SD toolkit, run `ds4sd`.</span><br>\n"
      ],
      "text/plain": [
       "<IPython.core.display.Markdown object>"
      ]
     },
     "execution_count": 3,
     "metadata": {},
     "output_type": "execute_result"
    }
   ],
   "source": [
    "%openad ds4sd ?"
   ]
  },
  {
   "cell_type": "markdown",
   "id": "eae9f00c-c4aa-417b-9951-c3bd116fe77f",
   "metadata": {},
   "source": [
    "<br><br><br><br>"
   ]
  },
  {
   "cell_type": "code",
   "execution_count": 1,
   "id": "1819fe9d-0462-421e-b0e7-dc2e84e23cda",
   "metadata": {},
   "outputs": [
    {
     "data": {
      "text/markdown": [
       "<span style=\"color: green\">loggining into DeepSearch as: </success> phil.downey1@ibm.com<br>\n",
       " <success>Workspace: </span> DEFAULT<br>\n"
      ],
      "text/plain": [
       "<IPython.core.display.Markdown object>"
      ]
     },
     "metadata": {},
     "output_type": "display_data"
    },
    {
     "data": {
      "text/markdown": [
       "`search for patents containing molecule '<smiles>' | '<inchi>' | '<inchi_key>' [ save as '<csv_filename>' ]`<br>\n",
       "<span style=\"color: #ccc\">---------------------------------------------------------------------------</span><br>\n",
       "Search for mentions of a specified molecules in registered patents. The queried molecule can be described as a SMILES string, InChI or InChiKey.<br>\n",
       "\n",
       "Use the `save as` clause to save the results as a csv file in your current workspace.<br>\n",
       "\n",
       "Example:<br>\n",
       "`search for patents containing molecule 'CC(C)(c1ccccn1)C(CC(=O)O)Nc1nc(-c2c[nH]c3ncc(Cl)cc23)c(C#N)cc1F'`<br>\n"
      ],
      "text/plain": [
       "<IPython.core.display.Markdown object>"
      ]
     },
     "execution_count": 1,
     "metadata": {},
     "output_type": "execute_result"
    }
   ],
   "source": [
    "%openad search for patents containing ?"
   ]
  },
  {
   "cell_type": "markdown",
   "id": "d597c2bc-1527-44ec-a4e8-ffadd68c7be4",
   "metadata": {},
   "source": [
    "<br><br><br><br>"
   ]
  },
  {
   "cell_type": "code",
   "execution_count": 2,
   "id": "1a5e1a77-4e7d-4399-9304-6ff0575c796d",
   "metadata": {},
   "outputs": [
    {
     "data": {
      "text/markdown": [
       "`search for similar molecules to '<smiles>' [ save as '<csv_filename>' ]`<br>\n",
       "<span style=\"color: #ccc\">---------------------------------------------------------------------------</span><br>\n",
       "Search for molecules that are similar to the provided molecule or molecule substructure as provided in the `<smiles_string>`.<br>\n",
       "\n",
       "Use the `save as` clause to save the results as a csv file in your current workspace.<br>\n",
       "\n",
       "Example:<br>\n",
       "`search for similar molecules to 'C1(C(=C)C([O-])C1C)=O'`<br>\n",
       "\n",
       "\n"
      ],
      "text/plain": [
       "<IPython.core.display.Markdown object>"
      ]
     },
     "execution_count": 2,
     "metadata": {},
     "output_type": "execute_result"
    }
   ],
   "source": [
    "%openad search for similar molecules ?"
   ]
  },
  {
   "cell_type": "markdown",
   "id": "144c8849-e326-48cf-83b0-9b82e5ccd9b6",
   "metadata": {},
   "source": [
    "<br><br><br><br>"
   ]
  },
  {
   "cell_type": "code",
   "execution_count": 3,
   "id": "19d170cc-33b1-47d7-9a23-4008b1857604",
   "metadata": {},
   "outputs": [
    {
     "data": {
      "text/markdown": [
       "`search for molecules in patents from list ['<patent1>', '<patent2>', ...] | dataframe <dataframe_name> | file '<csv_filename>' [ save as '<csv_filename>' ]`<br>\n",
       "<span style=\"color: #ccc\">---------------------------------------------------------------------------</span><br>\n",
       "Search for molecules mentioned in a defined list of patents. When sourcing patents from a CSV or DataFrame, there must be column named \"PATENT ID\" or \"patent id\".<br>\n",
       "\n",
       "Use the `save as` clause to save the results as a csv file in your current workspace.<br>\n",
       "\n",
       "Example:<br>\n",
       "`search for molecules in patents from list ['CN108473493B','US20190023713A1']`<br>\n"
      ],
      "text/plain": [
       "<IPython.core.display.Markdown object>"
      ]
     },
     "execution_count": 3,
     "metadata": {},
     "output_type": "execute_result"
    }
   ],
   "source": [
    "%openad search for molecules in patents ?"
   ]
  },
  {
   "cell_type": "markdown",
   "id": "f95dbf0f-abd4-400e-ac52-e7151b5d0072",
   "metadata": {},
   "source": [
    "<br><br><br><br>"
   ]
  },
  {
   "cell_type": "code",
   "execution_count": 4,
   "id": "cfe5380c-e4dc-43f6-982f-a86ecf7df575",
   "metadata": {},
   "outputs": [
    {
     "data": {
      "text/markdown": [
       "`search for substructure instances of '<smiles>' [ save as '<csv_filename>' ]`<br>\n",
       "<span style=\"color: #ccc\">---------------------------------------------------------------------------</span><br>\n",
       "Search for molecules by substructure, as defined by the `<smiles_string>`.<br>\n",
       "\n",
       "Use the `save as` clause to save the results as a csv file in your current workspace.<br>\n",
       "\n",
       "Example:<br>\n",
       "`search for substructure instances of 'C1(C(=C)C([O-])C1C)=O' save as 'my_mol'`<br>\n"
      ],
      "text/plain": [
       "<IPython.core.display.Markdown object>"
      ]
     },
     "execution_count": 4,
     "metadata": {},
     "output_type": "execute_result"
    }
   ],
   "source": [
    "%openad search for substructure instances ?"
   ]
  },
  {
   "cell_type": "markdown",
   "id": "99550712-309f-4a31-a3d6-3eee67d60e42",
   "metadata": {},
   "source": [
    "<br><br><br><br>"
   ]
  },
  {
   "cell_type": "code",
   "execution_count": 5,
   "id": "b685f725-fee1-4e70-bf84-99344a200592",
   "metadata": {},
   "outputs": [
    {
     "data": {
      "text/markdown": [
       "`search collection '<collection_name_or_key>' for '<search_string>' [ using (page_size=<int> system_id=<system_id> edit_distance=<integer> display_first=<integer>) ] show (data | docs) [ estimate only | return as data | save as '<csv_filename>' ]`<br>\n",
       "<span style=\"color: #ccc\">---------------------------------------------------------------------------</span><br>\n",
       "Performs a document search of the Deep Search repository based on a given collection. The required `using` clause specifies the collection to search. Use `estimate only` to return only the potential number of hits.<br>\n",
       "\n",
       "Parameters:<br>\n",
       "- `<collection_name_or_key>` The name or index key for a collection. Use the command `display all collections` to list available collections.<br>\n",
       "- `<search_string>` The search string for the search.<br>\n",
       "\n",
       "The `<search_string>` supports elastic search string query syntax:<br>\n",
       "- `+` Signifies AND operation.<br>\n",
       "- `|` Signifies OR operation.<br>\n",
       "- `-` Negates a single token.<br>\n",
       "- `\\\"` Wraps a number of tokens to signify a phrase for searching.<br>\n",
       "- `*` At the end of a term -> signifies a prefix query<br>\n",
       "- `(` & `)` Signifies precedence<br>\n",
       "- `~N` After a word -> signifies edit distance (fuzziness)<br>\n",
       "- `~N` After a phrase -> signifies slop amount<br>\n",
       "\n",
       "Options for the `using` clause:<br>\n",
       "**Note:** The `using` clause requires all enclosed parameters to be defined in the same order as documented below.<br>\n",
       "- `page_size=<integer>` Result pagination, the default is None.<br>\n",
       "- `system_id=<system_id>` System cluster id, the default is 'default'.<br>\n",
       "- `edit_distance=<integer>` (0-5) Sets the search word span criteria for key words for document searches, the default is 5. When set to 0, no snippets will be be returned.<br>\n",
       "- `display_first=<integer>` When set, the displayed result set will be truncated at the given number.<br>\n",
       "\n",
       "Clauses:<br>\n",
       "- `show (data | docs)`:<br>\n",
       "    - `data` Display structured data from within the documents.<br>\n",
       "    - `docs` Display document context.<br>\n",
       "    Both can be combined in a single command, e.g. `show (data docs)`<br>\n",
       "- `estimate only` Determine the potential number of hits.<br>\n",
       "- `return as data` For Notebook or API mode. Removes all styling from the Pandas DataFrame, ready for further processing.<br>\n",
       "\n",
       "Examples:<br>\n",
       "- Look for documents that contain discussions on power conversion efficiency:<br>\n",
       "`search collection 'arxiv-abstract' for 'ide(\\\"power conversion efficiency\\\" OR PCE) AND organ*' using ( edit_distance=20 system_id=default) show (docs)`<br>\n",
       "\n",
       "- Search the PubChem archive for 'Ibuprofen' and display related molecules' data:<br>\n",
       "`search collection 'pubchem' for 'Ibuprofen' show (data)`<br>\n",
       "\n",
       "- Search for patents which mention a specific smiles molecule:<br>\n",
       "`search collection 'patent-uspto' for '\\\"smiles#ccc(coc(=o)cs)(c(=o)c(=o)cs)c(=o)c(=o)cs\\\"' show (data)`<br>\n"
      ],
      "text/plain": [
       "<IPython.core.display.Markdown object>"
      ]
     },
     "execution_count": 5,
     "metadata": {},
     "output_type": "execute_result"
    }
   ],
   "source": [
    "%openad search collection ?"
   ]
  },
  {
   "cell_type": "markdown",
   "id": "cc39ca87-90db-494e-9dd5-77693fff634f",
   "metadata": {},
   "source": [
    "<br><br><br><br>"
   ]
  },
  {
   "cell_type": "code",
   "execution_count": 6,
   "id": "48c07ee7-413b-4df4-a623-dd36bf6e33b4",
   "metadata": {},
   "outputs": [
    {
     "data": {
      "text/markdown": [
       "`display collection matches for '<search_string>' [ save as '<csv_filename>' ]`<br>\n",
       "<span style=\"color: #ccc\">---------------------------------------------------------------------------</span><br>\n",
       "Search all collections for documents that contain a given Deep Search `<search_string>`. This is useful when narrowing down document collection(s) for subsequent search. You can use the `<index_key>` from the returned table in your next search.<br>\n",
       "\n",
       "Use the `save as` clause to save the results as a csv file in your current workspace.<br>\n",
       "\n",
       "Example:<br>\n",
       "`display collection matches for 'Ibuprofen'`<br>\n"
      ],
      "text/plain": [
       "<IPython.core.display.Markdown object>"
      ]
     },
     "execution_count": 6,
     "metadata": {},
     "output_type": "execute_result"
    }
   ],
   "source": [
    "%openad display collection matches ?"
   ]
  },
  {
   "cell_type": "markdown",
   "id": "7ddd3020-5a5a-40d6-95aa-228f550038a4",
   "metadata": {},
   "source": [
    "<br><br><br><br>"
   ]
  },
  {
   "cell_type": "code",
   "execution_count": 7,
   "id": "0b54f573-6f27-451b-af70-ced82e24fc5b",
   "metadata": {},
   "outputs": [
    {
     "data": {
      "text/markdown": [
       "`display collections for domain '<domain_name>' `<br>\n",
       "<span style=\"color: #ccc\">----------------------------------------------------------</span><br>\n",
       "Display the available collections in a given Deep Search domain.<br>\n",
       "\n",
       "Use the command `display all collections` to find available domains.<br>\n",
       "\n",
       "Example:<br>\n",
       "`display collections for domain 'Business Insights'`<br>\n"
      ],
      "text/plain": [
       "<IPython.core.display.Markdown object>"
      ]
     },
     "execution_count": 7,
     "metadata": {},
     "output_type": "execute_result"
    }
   ],
   "source": [
    "%openad display collections for domain ?"
   ]
  },
  {
   "cell_type": "markdown",
   "id": "cc2ccc42-b98a-4079-9cea-e463feaf416f",
   "metadata": {},
   "source": [
    "<br><br><br><br>"
   ]
  },
  {
   "cell_type": "code",
   "execution_count": 8,
   "id": "a22306f6-7d89-49b4-be6e-c8810c9cb0f9",
   "metadata": {},
   "outputs": [
    {
     "data": {
      "text/html": [
       "<div>\n",
       "<style scoped>\n",
       "    .dataframe tbody tr th:only-of-type {\n",
       "        vertical-align: middle;\n",
       "    }\n",
       "\n",
       "    .dataframe tbody tr th {\n",
       "        vertical-align: top;\n",
       "    }\n",
       "\n",
       "    .dataframe thead th {\n",
       "        text-align: right;\n",
       "    }\n",
       "</style>\n",
       "<table border=\"1\" class=\"dataframe\">\n",
       "  <thead>\n",
       "    <tr style=\"text-align: right;\">\n",
       "      <th></th>\n",
       "      <th>Domains</th>\n",
       "      <th>Collection Name</th>\n",
       "      <th>Collection key</th>\n",
       "      <th>Type</th>\n",
       "      <th>Num entries</th>\n",
       "      <th>Date</th>\n",
       "      <th>System</th>\n",
       "    </tr>\n",
       "  </thead>\n",
       "  <tbody>\n",
       "    <tr>\n",
       "      <th>0</th>\n",
       "      <td>Scientific Literature</td>\n",
       "      <td>ACL Anthology</td>\n",
       "      <td>acl</td>\n",
       "      <td>Document</td>\n",
       "      <td>55278</td>\n",
       "      <td>2023-10-05</td>\n",
       "      <td>default</td>\n",
       "    </tr>\n",
       "    <tr>\n",
       "      <th>1</th>\n",
       "      <td>Business Insights</td>\n",
       "      <td>Annual Reports</td>\n",
       "      <td>annual-report</td>\n",
       "      <td>Document</td>\n",
       "      <td>79787</td>\n",
       "      <td>2023-07-21</td>\n",
       "      <td>default</td>\n",
       "    </tr>\n",
       "    <tr>\n",
       "      <th>2</th>\n",
       "      <td>Scientific Literature</td>\n",
       "      <td>arXiv abstracts</td>\n",
       "      <td>arxiv-abstract</td>\n",
       "      <td>Document</td>\n",
       "      <td>2346838</td>\n",
       "      <td>2023-10-24</td>\n",
       "      <td>default</td>\n",
       "    </tr>\n",
       "    <tr>\n",
       "      <th>3</th>\n",
       "      <td>Healthcare &amp; Life Sciences</td>\n",
       "      <td>ClinicalTrials</td>\n",
       "      <td>clinical-trials</td>\n",
       "      <td>Document</td>\n",
       "      <td>426424</td>\n",
       "      <td>2023-06-01</td>\n",
       "      <td>default</td>\n",
       "    </tr>\n",
       "    <tr>\n",
       "      <th>4</th>\n",
       "      <td>Healthcare &amp; Life Sciences/ Scientific Literature</td>\n",
       "      <td>Cord19</td>\n",
       "      <td>cord19</td>\n",
       "      <td>Document</td>\n",
       "      <td>655447</td>\n",
       "      <td>2023-04-14</td>\n",
       "      <td>default</td>\n",
       "    </tr>\n",
       "    <tr>\n",
       "      <th>5</th>\n",
       "      <td>Scientific Literature</td>\n",
       "      <td>Crossref</td>\n",
       "      <td>crossref</td>\n",
       "      <td>Document</td>\n",
       "      <td>131857641</td>\n",
       "      <td>2023-04-15</td>\n",
       "      <td>default</td>\n",
       "    </tr>\n",
       "    <tr>\n",
       "      <th>6</th>\n",
       "      <td>Business Insights</td>\n",
       "      <td>ESG Reports</td>\n",
       "      <td>esg-report</td>\n",
       "      <td>Document</td>\n",
       "      <td>10932</td>\n",
       "      <td>2023-10-03</td>\n",
       "      <td>default</td>\n",
       "    </tr>\n",
       "    <tr>\n",
       "      <th>7</th>\n",
       "      <td>Business Insights</td>\n",
       "      <td>IBM Redbooks</td>\n",
       "      <td>ibm-redbooks</td>\n",
       "      <td>Document</td>\n",
       "      <td>2751</td>\n",
       "      <td>2023-08-02</td>\n",
       "      <td>default</td>\n",
       "    </tr>\n",
       "    <tr>\n",
       "      <th>8</th>\n",
       "      <td>Climate &amp; Sustainability</td>\n",
       "      <td>IPCC</td>\n",
       "      <td>ipcc</td>\n",
       "      <td>Document</td>\n",
       "      <td>819</td>\n",
       "      <td>2023-06-15</td>\n",
       "      <td>default</td>\n",
       "    </tr>\n",
       "    <tr>\n",
       "      <th>9</th>\n",
       "      <td>Materials Science</td>\n",
       "      <td>PatCID</td>\n",
       "      <td>patcid</td>\n",
       "      <td>Record</td>\n",
       "      <td>50831401</td>\n",
       "      <td>2023-09-05</td>\n",
       "      <td>default</td>\n",
       "    </tr>\n",
       "    <tr>\n",
       "      <th>10</th>\n",
       "      <td>Scientific Literature</td>\n",
       "      <td>Patent SMILES</td>\n",
       "      <td>patent-smiles</td>\n",
       "      <td>Document</td>\n",
       "      <td>2836952</td>\n",
       "      <td>2023-10-06</td>\n",
       "      <td>default</td>\n",
       "    </tr>\n",
       "    <tr>\n",
       "      <th>11</th>\n",
       "      <td>Scientific Literature</td>\n",
       "      <td>Patents from USPTO</td>\n",
       "      <td>patent-uspto</td>\n",
       "      <td>Document</td>\n",
       "      <td>15758950</td>\n",
       "      <td>2023-09-07</td>\n",
       "      <td>default</td>\n",
       "    </tr>\n",
       "    <tr>\n",
       "      <th>12</th>\n",
       "      <td>Materials Science</td>\n",
       "      <td>PubChem</td>\n",
       "      <td>pubchem</td>\n",
       "      <td>Record</td>\n",
       "      <td>118240842</td>\n",
       "      <td>2023-10-06</td>\n",
       "      <td>default</td>\n",
       "    </tr>\n",
       "    <tr>\n",
       "      <th>13</th>\n",
       "      <td>Healthcare &amp; Life Sciences</td>\n",
       "      <td>PubMed Central</td>\n",
       "      <td>pubmed</td>\n",
       "      <td>Document</td>\n",
       "      <td>5084756</td>\n",
       "      <td>2023-04-12</td>\n",
       "      <td>default</td>\n",
       "    </tr>\n",
       "    <tr>\n",
       "      <th>14</th>\n",
       "      <td>Business Insights</td>\n",
       "      <td>Red Hat</td>\n",
       "      <td>redhat</td>\n",
       "      <td>Document</td>\n",
       "      <td>6213</td>\n",
       "      <td>2023-07-14</td>\n",
       "      <td>default</td>\n",
       "    </tr>\n",
       "    <tr>\n",
       "      <th>15</th>\n",
       "      <td>Scientific Literature</td>\n",
       "      <td>Semantic Scholar Academic Graph</td>\n",
       "      <td>semantic-scholar</td>\n",
       "      <td>Document</td>\n",
       "      <td>212110410</td>\n",
       "      <td>2023-05-28</td>\n",
       "      <td>default</td>\n",
       "    </tr>\n",
       "  </tbody>\n",
       "</table>\n",
       "</div>"
      ],
      "text/plain": [
       "                                              Domains   \n",
       "0                               Scientific Literature  \\\n",
       "1                                   Business Insights   \n",
       "2                               Scientific Literature   \n",
       "3                          Healthcare & Life Sciences   \n",
       "4   Healthcare & Life Sciences/ Scientific Literature   \n",
       "5                               Scientific Literature   \n",
       "6                                   Business Insights   \n",
       "7                                   Business Insights   \n",
       "8                            Climate & Sustainability   \n",
       "9                                   Materials Science   \n",
       "10                              Scientific Literature   \n",
       "11                              Scientific Literature   \n",
       "12                                  Materials Science   \n",
       "13                         Healthcare & Life Sciences   \n",
       "14                                  Business Insights   \n",
       "15                              Scientific Literature   \n",
       "\n",
       "                    Collection Name    Collection key      Type  Num entries   \n",
       "0                     ACL Anthology               acl  Document        55278  \\\n",
       "1                    Annual Reports     annual-report  Document        79787   \n",
       "2                   arXiv abstracts    arxiv-abstract  Document      2346838   \n",
       "3                    ClinicalTrials   clinical-trials  Document       426424   \n",
       "4                            Cord19            cord19  Document       655447   \n",
       "5                          Crossref          crossref  Document    131857641   \n",
       "6                       ESG Reports        esg-report  Document        10932   \n",
       "7                      IBM Redbooks      ibm-redbooks  Document         2751   \n",
       "8                              IPCC              ipcc  Document          819   \n",
       "9                            PatCID            patcid    Record     50831401   \n",
       "10                    Patent SMILES     patent-smiles  Document      2836952   \n",
       "11               Patents from USPTO      patent-uspto  Document     15758950   \n",
       "12                          PubChem           pubchem    Record    118240842   \n",
       "13                   PubMed Central            pubmed  Document      5084756   \n",
       "14                          Red Hat            redhat  Document         6213   \n",
       "15  Semantic Scholar Academic Graph  semantic-scholar  Document    212110410   \n",
       "\n",
       "          Date   System  \n",
       "0   2023-10-05  default  \n",
       "1   2023-07-21  default  \n",
       "2   2023-10-24  default  \n",
       "3   2023-06-01  default  \n",
       "4   2023-04-14  default  \n",
       "5   2023-04-15  default  \n",
       "6   2023-10-03  default  \n",
       "7   2023-08-02  default  \n",
       "8   2023-06-15  default  \n",
       "9   2023-09-05  default  \n",
       "10  2023-10-06  default  \n",
       "11  2023-09-07  default  \n",
       "12  2023-10-06  default  \n",
       "13  2023-04-12  default  \n",
       "14  2023-07-14  default  \n",
       "15  2023-05-28  default  "
      ]
     },
     "execution_count": 8,
     "metadata": {},
     "output_type": "execute_result"
    }
   ],
   "source": [
    "%openad display all collections"
   ]
  },
  {
   "cell_type": "markdown",
   "id": "edbb7c22-7d29-4ac0-8456-ebf37baedb10",
   "metadata": {},
   "source": [
    "<br><br><br><br>"
   ]
  },
  {
   "cell_type": "code",
   "execution_count": 9,
   "id": "efe81c72-7644-4bc1-b05f-7bad2051e915",
   "metadata": {},
   "outputs": [
    {
     "data": {
      "text/markdown": [
       "`display collections in domains from list <list_of_domains> [ save as '<csv_filename>' ] `<br>\n",
       "<span style=\"color: #ccc\">---------------------------------------------------------------------------</span><br>\n",
       "Display collections that belong to the listed domains.<br>\n",
       "\n",
       "Use the `save as` clause to save the results as a csv file in your current workspace.<br>\n",
       "\n",
       "Use the command `display all collections` to find available domains.<br>\n",
       "\n",
       "Example:<br>\n",
       "`display collections in domains from list ['Scientific Literature']`<br>\n"
      ],
      "text/plain": [
       "<IPython.core.display.Markdown object>"
      ]
     },
     "execution_count": 9,
     "metadata": {},
     "output_type": "execute_result"
    }
   ],
   "source": [
    "%openad display collections in domains ?"
   ]
  },
  {
   "cell_type": "markdown",
   "id": "08447e47-a69c-4f6a-983b-398a151c9cc8",
   "metadata": {},
   "source": [
    "<br><br><br><br>"
   ]
  },
  {
   "cell_type": "code",
   "execution_count": 10,
   "id": "cb0fe8ac-9096-4032-a993-9eeae19f8fe0",
   "metadata": {},
   "outputs": [
    {
     "data": {
      "text/markdown": [
       "`display collection details '<collection_name_or_key>'`<br>\n",
       "<span style=\"color: #ccc\">----------------------------------------------------------------</span><br>\n",
       "Display the details for a specified collection. You can specify a collection by its name or key.<br>\n",
       "\n",
       "Use the command `display all collections` to list available collections.<br>\n",
       "\n",
       "Example:<br>\n",
       "`display collection details 'Patents from USPTO'`<br>\n"
      ],
      "text/plain": [
       "<IPython.core.display.Markdown object>"
      ]
     },
     "execution_count": 10,
     "metadata": {},
     "output_type": "execute_result"
    }
   ],
   "source": [
    "%openad display collection details ?"
   ]
  },
  {
   "cell_type": "markdown",
   "id": "7c0758d7-1253-403b-a637-4d6c951c0feb",
   "metadata": {},
   "source": [
    "<br><br><br><br><br>\n",
    "# RXN"
   ]
  },
  {
   "cell_type": "code",
   "execution_count": 11,
   "id": "51d48027-5132-4f4b-8d00-b59902cf8aa4",
   "metadata": {},
   "outputs": [
    {
     "data": {
      "text/markdown": [
       "<span style=\"color: green\">logging into RXN as: </success> moenen@shapish.com<br>\n",
       " <success>Workspace: </span> DEFAULT<br>\n"
      ],
      "text/plain": [
       "<IPython.core.display.Markdown object>"
      ]
     },
     "metadata": {},
     "output_type": "display_data"
    },
    {
     "data": {
      "text/markdown": [
       "RXN Project has been set to DEFAULT for this Workspace"
      ],
      "text/plain": [
       "<IPython.core.display.Markdown object>"
      ]
     },
     "metadata": {},
     "output_type": "display_data"
    },
    {
     "data": {
      "text/markdown": [
       "<span style=\"color: green\">You successfully logged in to RXN</span><br>\n",
       "<span style=\"color: #ccc\">Your access token does not have an expiration date</span><br>\n"
      ],
      "text/plain": [
       "<IPython.core.display.Markdown object>"
      ]
     },
     "metadata": {},
     "output_type": "display_data"
    }
   ],
   "source": [
    "%openad set context rxn"
   ]
  },
  {
   "cell_type": "code",
   "execution_count": 12,
   "id": "fda68ec2-4365-41c3-b19f-863e76bc187e",
   "metadata": {},
   "outputs": [
    {
     "data": {
      "text/markdown": [
       "## Available Commands - RXN\n",
       "\n",
       "Queries:<br>\n",
       "`list rxn models`<br>\n",
       "\n",
       "Retrosynthesis:<br>\n",
       "`predict retrosynthesis '<smiles>' [ using (option1=<value> option2=<value>) ]`<br>\n",
       "`interpret recipe '<recipe_paragraph>' | '<txt_filename>' `<br>\n",
       "\n",
       "Prediction:<br>\n",
       "`predict reaction in batch from dataframe <dataframe_name> | file '<csv_filename>' | list '<smiles>.<smiles>'  [ using (ai_model='<ai_model>') ] [ use_saved ]`<br>\n",
       "`predict reaction '<smiles>.<smiles>' [ using (ai_model='<ai_model>') ] [ use_saved ]`<br>\n",
       "`predict reaction topn in batch from dataframe <dataframe_name> | file '<csv_filename>' | list ['<smiles>.<smiles>','<smiles>.<smiles>'] [ using (topn=<integer> ai_model='<ai_model>') ] [ use_saved ]`<br>\n",
       "\n",
       " i  <span style=\"color: #ccc\">To learn more about the RXN toolkit, run `rxn`.</span><br>\n"
      ],
      "text/plain": [
       "<IPython.core.display.Markdown object>"
      ]
     },
     "execution_count": 12,
     "metadata": {},
     "output_type": "execute_result"
    }
   ],
   "source": [
    "%openad rxn ?"
   ]
  },
  {
   "cell_type": "markdown",
   "id": "b79adde7-f3c0-4297-b8ed-eed40b3c25ca",
   "metadata": {},
   "source": [
    "<br><br><br><br>"
   ]
  },
  {
   "cell_type": "code",
   "execution_count": 13,
   "id": "2179fd27-5a99-4a9f-8f8b-592a9db3981c",
   "metadata": {},
   "outputs": [
    {
     "data": {
      "text/markdown": [
       "`list rxn models`<br>\n",
       "<span style=\"color: #ccc\">--------------------------</span><br>\n",
       "Lists all RXN AI models currently available.<br>\n"
      ],
      "text/plain": [
       "<IPython.core.display.Markdown object>"
      ]
     },
     "execution_count": 13,
     "metadata": {},
     "output_type": "execute_result"
    }
   ],
   "source": [
    "%openad list rxn models ?"
   ]
  },
  {
   "cell_type": "markdown",
   "id": "93a85864-c4ee-4d2f-bf36-660b1335421a",
   "metadata": {},
   "source": [
    "<br><br><br><br>"
   ]
  },
  {
   "cell_type": "code",
   "execution_count": 14,
   "id": "947c55c8-bdc7-4a83-8003-caf98fcdb1b2",
   "metadata": {},
   "outputs": [
    {
     "data": {
      "text/markdown": [
       "`predict retrosynthesis '<smiles>' [ using (option1=<value> option2=<value>) ]`<br>\n",
       "<span style=\"color: #ccc\">---------------------------------------------------------------------------</span><br>\n",
       "Perform a retrosynthesis route prediction on a molecule.<br>\n",
       "\n",
       "Options for the optional `using` clause:<br>\n",
       "- `availability_pricing_threshold=<int>` Maximum price in USD per g/ml of compounds. Default: no threshold.<br>\n",
       "- `available_smiles='<smiles>.<smiles>.<smiles>'` List of molecules available as precursors, delimited with a period.<br>\n",
       "- `exclude_smiles='<smiles>.<smiles>.<smiles>'` List of molecules to exlude from the set of precursors, delimited with a period.<br>\n",
       "- `exclude_substructures='<smiles>.<smiles>.<smiles>'` List of substructures to excludefrom the set of precursors, delimited with a period.<br>\n",
       "- `exclude_target_molecule=<boolean>` Excluded target molecule. The default is True<br>\n",
       "- `fap=<float>` Every retrosynthetic step is evaluated with the FAP, and is only retained when forward confidence is greater than the FAP value. The default is 0.6.<br>\n",
       "- `max_steps=<int>` The maximum number steps in the results. The default is 3.<br>\n",
       "- `nbeams=<int>` The maximum number of beams exploring the hypertree. The default is 10.<br>\n",
       "- `pruning_steps=<int>` The number of steps to prune a hypertree. The default is 2.<br>\n",
       "- `ai_model='<model_name>'` What model to use. Use the command `list rxn models` to list all available models. The default is '2020-07-01'.<br>\n",
       "\n",
       "Example:<br>\n",
       "`predict retrosynthesis 'BrCCc1cccc2c(Br)c3ccccc3cc12' using (max_steps=3)`<br>\n"
      ],
      "text/plain": [
       "<IPython.core.display.Markdown object>"
      ]
     },
     "execution_count": 14,
     "metadata": {},
     "output_type": "execute_result"
    }
   ],
   "source": [
    "%openad predict retrosynthesis ?"
   ]
  },
  {
   "cell_type": "markdown",
   "id": "5c9b568b-dd6e-41be-83ae-dd3b44c37cda",
   "metadata": {},
   "source": [
    "<br><br><br><br>"
   ]
  },
  {
   "cell_type": "code",
   "execution_count": 15,
   "id": "3f350ecd-e898-4c09-86ab-b22480381ec9",
   "metadata": {},
   "outputs": [
    {
     "data": {
      "text/markdown": [
       "`interpret recipe '<recipe_paragraph>' | '<txt_filename>' `<br>\n",
       "<span style=\"color: #ccc\">--------------------------------------------------------------------</span><br>\n",
       "Build a ordered list of actions interpreted from a provided text-based recipe. The recipe can be provided as a string or as a text file from your current workspace.<br>\n",
       "\n",
       "Examples:<br>\n",
       "- `interpret recipe 'my_recipe.txt'`<br>\n",
       "- `interpret recipe 'A solution of ((1S,2S)-1-{[(methoxymethyl-biphenyl-4-yl)-(2-pyridin-2-yl-cyclopropanecarbonyl)-amino]-methyl}-2-methyl-butyl)-carbamic acid tert-butyl ester (25 mg, 0.045 mmol) and dichloromethane (4 mL) was treated with a solution of HCl in dioxane (4 N, 0.5 mL) and the resulting reaction mixture was maintained at room temperature for 12 h. The reaction was then concentrated to dryness to afford (1R,2R)-2-pyridin-2-yl-cyclopropanecarboxylic acid ((2S,3S)-2-amino-3-methylpentyl)-(methoxymethyl-biphenyl-4-yl)-amide (18 mg, 95% yield) as a white solid.'`<br>\n"
      ],
      "text/plain": [
       "<IPython.core.display.Markdown object>"
      ]
     },
     "execution_count": 15,
     "metadata": {},
     "output_type": "execute_result"
    }
   ],
   "source": [
    "%openad interpret recipe ?"
   ]
  },
  {
   "cell_type": "markdown",
   "id": "422ca58e-13bc-46ae-a92b-52e1738ff043",
   "metadata": {},
   "source": [
    "<br><br><br><br>"
   ]
  },
  {
   "cell_type": "code",
   "execution_count": 16,
   "id": "0684f0d6-1924-4f95-9d11-fca2b2be3fc9",
   "metadata": {},
   "outputs": [
    {
     "data": {
      "text/markdown": [
       "`predict reaction in batch from dataframe <dataframe_name> | file '<csv_filename>' | list '<smiles>.<smiles>'  [ using (ai_model='<ai_model>') ] [ use_saved ]`<br>\n",
       "<span style=\"color: #ccc\">---------------------------------------------------------------------------</span><br>\n",
       "Run a batch of reaction predictions. The provided list of reactions can be specified as a DataFrame, a CSV file from your current workspace or a list of strings. When proving a DataFrame or CSV file, we will look for the \"reactions\" column.<br>\n",
       "\n",
       "Reactions are defined by combining two SMILES strings delimited by a period. For example: `'BrBr.c1ccc2cc3ccccc3cc2c1'`<br>\n",
       "\n",
       "Options for the optional `using` clause:<br>\n",
       "- `ai_model='<model_name>'` What model to use. Use the command `list rxn models` to list all available models. The default is '2020-07-01'.<br>\n",
       "\n",
       "You can reuse previously generated results by appending the optional `use_saved` clause. This will reuse the results of a previously run command with the same parameters, if available.<br>\n",
       "\n",
       "Examples:<br>\n",
       "- `predict reaction in batch from list ['BrBr.c1ccc2cc3ccccc3cc2c1CCO' , 'BrBr.c1ccc2cc3ccccc3cc2c1']`<br>\n",
       "- `predict reaction in batch from list ['BrBr.c1ccc2cc3ccccc3cc2c1CCO' , 'BrBr.c1ccc2cc3ccccc3cc2c1'] use_saved`<br>\n"
      ],
      "text/plain": [
       "<IPython.core.display.Markdown object>"
      ]
     },
     "execution_count": 16,
     "metadata": {},
     "output_type": "execute_result"
    }
   ],
   "source": [
    "%openad predict reaction in batch ?"
   ]
  },
  {
   "cell_type": "markdown",
   "id": "7e3a4e5b-f0c8-4c4f-82f9-83b438632ba4",
   "metadata": {},
   "source": [
    "<br><br><br><br>"
   ]
  },
  {
   "cell_type": "code",
   "execution_count": 17,
   "id": "7315585c-f177-4fb9-beb2-43097ec95a7f",
   "metadata": {},
   "outputs": [
    {
     "data": {
      "text/markdown": [
       "`predict reaction '<smiles>.<smiles>' [ using (ai_model='<ai_model>') ] [ use_saved ]`<br>\n",
       "<span style=\"color: #ccc\">---------------------------------------------------------------------------</span><br>\n",
       "Predict the reaction between two molecules.<br>\n",
       "\n",
       "Reactions are defined by combining two SMILES strings delimited by a period. For example: `'BrBr.c1ccc2cc3ccccc3cc2c1'`<br>\n",
       "\n",
       "Options for the optional `using` clause:<br>\n",
       "- `ai_model='<model_name>'` What model to use. Use the command `list rxn models` to list all available models. The default is '2020-07-01'.<br>\n",
       "\n",
       "You can reuse previously generated results by appending the optional `use_saved` clause. This will reuse the results of a previously run command with the same parameters, if available.<br>\n",
       "\n",
       "Examples:<br>\n",
       "- `predict reaction 'BrBr.c1ccc2cc3ccccc3cc2c1CCO'`<br>\n",
       "- `predict reaction 'BrBr.c1ccc2cc3ccccc3cc2c1CCO' use_saved`<br>\n"
      ],
      "text/plain": [
       "<IPython.core.display.Markdown object>"
      ]
     },
     "execution_count": 17,
     "metadata": {},
     "output_type": "execute_result"
    }
   ],
   "source": [
    "%openad predict reaction '<smiles>.<smiles>' ?"
   ]
  },
  {
   "cell_type": "markdown",
   "id": "443d52a0-3ffd-4a52-a03a-dff44d8d2bd1",
   "metadata": {},
   "source": [
    "<br><br><br><br>"
   ]
  },
  {
   "cell_type": "code",
   "execution_count": 18,
   "id": "106081f1-9474-499d-86a6-dd41abc735a3",
   "metadata": {},
   "outputs": [
    {
     "data": {
      "text/markdown": [
       "`predict reaction topn in batch from dataframe <dataframe_name> | file '<csv_filename>' | list ['<smiles>.<smiles>','<smiles>.<smiles>'] [ using (topn=<integer> ai_model='<ai_model>') ] [ use_saved ]`<br>\n",
       "<span style=\"color: #ccc\">---------------------------------------------------------------------------</span><br>\n",
       "Run a batch of reaction predictions for topn. The provided list of reactions can be specified as a DataFrame, a CSV file from your current workspace or a list of strings. When proving a DataFrame or CSV file, we will look for the \"reactions\" column.<br>\n",
       "\n",
       "Reactions are defined by combining two SMILES strings delimited by a period. For example: `'BrBr.c1ccc2cc3ccccc3cc2c1'`<br>\n",
       "\n",
       "Options for the optional `using` clause:<br>\n",
       "- `ai_model='<model_name>'` What model to use. Use the command `list rxn models` to list all available models. The default is '2020-07-01'.<br>\n",
       "- `topn=<integer>` Defined the number of results being returned. The default value is 3.<br>\n",
       "\n",
       "You can reuse previously generated results by appending the optional `use_saved` clause. This will reuse the results of a previously run command with the same parameters, if available.<br>\n",
       "\n",
       "Examples:<br>\n",
       "- `predict reaction topn in batch from list ['BrBr.c1ccc2cc3ccccc3cc2c1CCO' , 'BrBr.c1ccc2cc3ccccc3cc2c1']`<br>\n",
       "- `predict reaction topn in batch from list ['BrBr.c1ccc2cc3ccccc3cc2c1CCO' , 'BrBr.c1ccc2cc3ccccc3cc2c1'] using (topn=6)`<br>\n",
       "- `predict reaction topn in batch from list ['BrBr.c1ccc2cc3ccccc3cc2c1CCO' , 'BrBr.c1ccc2cc3ccccc3cc2c1'] use_saved `<br>\n"
      ],
      "text/plain": [
       "<IPython.core.display.Markdown object>"
      ]
     },
     "execution_count": 18,
     "metadata": {},
     "output_type": "execute_result"
    }
   ],
   "source": [
    "%openad predict reaction topn in batch ?"
   ]
  },
  {
   "cell_type": "markdown",
   "id": "1d19f265-89f1-49ea-9427-37a035425a0d",
   "metadata": {},
   "source": [
    "<br><br><br><br>"
   ]
  }
 ],
 "metadata": {
  "kernelspec": {
   "display_name": "ad-venv",
   "language": "python",
   "name": "ad-venv"
  },
  "language_info": {
   "codemirror_mode": {
    "name": "ipython",
    "version": 3
   },
   "file_extension": ".py",
   "mimetype": "text/x-python",
   "name": "python",
   "nbconvert_exporter": "python",
   "pygments_lexer": "ipython3",
   "version": "3.11.3"
  }
 },
 "nbformat": 4,
 "nbformat_minor": 5
}
