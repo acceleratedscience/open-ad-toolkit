{
 "cells": [
  {
   "cell_type": "markdown",
   "id": "c1667d30",
   "metadata": {},
   "source": [
    "# Accelerated Discovery Common Client Running in a Terminal"
   ]
  },
  {
   "cell_type": "markdown",
   "id": "98613e79-edb0-47cd-a038-7bd6193c6378",
   "metadata": {},
   "source": [
    "![](./media/AD_Banner.jpg)\n",
    "<a id=\"top\">"
   ]
  },
  {
   "cell_type": "markdown",
   "id": "5dddd2f1-bf0e-4b74-ad72-3b0a6eb47b6a",
   "metadata": {
    "tags": []
   },
   "source": [
    "the Accelerated Discovery Common Client is a plugin driven interface designed to consolidate differen IBM and parner API's into one common client experience across Accelerated Discovery Systems.It aims to provide a Common API and Domain Specific Language for operating with Discovery Science focused systems.\n",
    "\n",
    "### ***Run the below to setup the notebook then run all cells..***"
   ]
  },
  {
   "cell_type": "code",
   "execution_count": 27,
   "id": "4c99ec38-bdd7-46bd-b4d7-171739486255",
   "metadata": {},
   "outputs": [
    {
     "data": {
      "application/javascript": [
       "\n",
       "// Scan the entire notebook for cells that have refresh tags and execute them\n",
       "\n",
       "window.findCellIndicesByTag = function findCellIndicesByTag(tagName) {\n",
       "  return (IPython.notebook.get_cells()\n",
       "    .filter(\n",
       "({metadata: {tags}}) => tags && tags.includes(tagName)\n",
       "  )\n",
       "   .map((cell) => IPython.notebook.find_cell_index(cell))\n",
       "  );\n",
       "};\n",
       "\n",
       "window.refresh = function runRefreshCells() {\n",
       "    var c = window.findCellIndicesByTag('refresh');\n",
       "    IPython.notebook.execute_cells(c);\n",
       "};\n",
       "\n",
       "\n",
       "// Search for a Markdown cell that contains a comment line with the name of the code we are looking for\n",
       "\n",
       "window.copySearch = function copySearch(id) {\n",
       "    var cells = IPython.notebook.get_cells();\n",
       "    for(var i in cells) {\n",
       "        var cell = cells[i];\n",
       "        if (cell['cell_type'] == 'markdown') {\n",
       "            var text = cell.get_text();\n",
       "            var n = text.search(\"<!--\"+id+\"-->\");\n",
       "            if (n != -1) {  \n",
       "                var content = text.replace(/(^<!.*-->.*\\n?)|(```.*\\n?)/g, \"\");\n",
       "                navigator.clipboard.writeText(content);  \n",
       "                return\n",
       "                }\n",
       "        }\n",
       "    }\n",
       "    navigator.clipboard.writeText(\"Cell \" + id + \" not found\"); \n",
       "}\n",
       "\n",
       "// Highlight the background of the current cell and copy the contents onto the clipboard\n",
       "\n",
       "window.clipline = function clipline(codeIndex) {\n",
       "    var cell = document.getElementById(codeIndex);\n",
       "    var code = cell.textContent;\n",
       "    var parent = cell.parentNode;\n",
       "    parent.style.backgroundColor = \"lightBlue\"; // backcolor\n",
       "    navigator.clipboard.writeText(code);\n",
       "}\n",
       "\n",
       "window.reset = function reset(codeIndex) {\n",
       "    var cell = document.getElementById(codeIndex);\n",
       "    var parent = cell.parentNode;\n",
       "    parent.style.backgroundColor = \"#000000\" // backcolor\n",
       "}\n",
       "window.reset2 = function reset2(codeIndex) {\n",
       "    var cell = document.getElementById(codeIndex);\n",
       "    var parent = cell.parentNode;\n",
       "    parent.style.backgroundColor = \"white\" // backcolor\n",
       "}\n"
      ],
      "text/plain": [
       "<IPython.core.display.Javascript object>"
      ]
     },
     "metadata": {},
     "output_type": "display_data"
    },
    {
     "data": {
      "text/html": [
       " <style> div.input{display:none} </style>"
      ],
      "text/plain": [
       "<IPython.core.display.HTML object>"
      ]
     },
     "execution_count": 27,
     "metadata": {},
     "output_type": "execute_result"
    }
   ],
   "source": [
    "from IPython.display import HTML\n",
    "%run refresh.ipynb\n",
    "from IPython.display import Javascript\n",
    "HTML(''' <style> div.input{display:none} </style>''')\n"
   ]
  },
  {
   "cell_type": "markdown",
   "id": "71ce180e-6d9f-4f36-95ca-8e2638d7c787",
   "metadata": {},
   "source": [
    "## ***Getting Started*** ##\n",
    " \n",
    "First you will need to start yourself a terminal."
   ]
  },
  {
   "cell_type": "markdown",
   "id": "260bbc68-c97d-41eb-9343-e2015048649f",
   "metadata": {},
   "source": [
    "If you are running this notebook from Jupyter lab Use the following button:\n",
    "    <button  data-commandlinker-command=\"terminal:create-new\"  href=\"\"> Launch Jupyterlab Terminal </button>"
   ]
  },
  {
   "cell_type": "markdown",
   "id": "0450d3c1-8a02-4dc8-8721-a48f48f771ab",
   "metadata": {},
   "source": [
    "If you are Running this notebook from a linux Desktop you can press the below button or manually open a terminal"
   ]
  },
  {
   "cell_type": "code",
   "execution_count": 28,
   "id": "ff7df44f-c719-4da0-b3eb-505a5c744fbf",
   "metadata": {
    "jupyter": {
     "source_hidden": true
    },
    "tags": []
   },
   "outputs": [
    {
     "data": {
      "application/vnd.jupyter.widget-view+json": {
       "model_id": "ad9b0fec07944d159c9a388727a89ba6",
       "version_major": 2,
       "version_minor": 0
      },
      "text/plain": [
       "Button(description='Linux Command Line', style=ButtonStyle())"
      ]
     },
     "metadata": {},
     "output_type": "display_data"
    },
    {
     "data": {
      "application/vnd.jupyter.widget-view+json": {
       "model_id": "21799f3d096a45cd91d97892679f1b44",
       "version_major": 2,
       "version_minor": 0
      },
      "text/plain": [
       "Output()"
      ]
     },
     "metadata": {},
     "output_type": "display_data"
    }
   ],
   "source": [
    "import ipywidgets as widgets\n",
    "from IPython.display import HTML\n",
    "\n",
    "button = widgets.Button(description=\"Linux Command Line\")\n",
    "output = widgets.Output()\n",
    "display(button, output)\n",
    "def on_button_clicked(b):\n",
    "        ! gnome-terminal --window-with-profile=db2pot --working-directory=./\n",
    "button.on_click(on_button_clicked)"
   ]
  },
  {
   "cell_type": "markdown",
   "id": "53116d4b-51d5-4f89-80b9-cc94b8e745a2",
   "metadata": {},
   "source": [
    "Otherwise Open a terminal window on your Mac or linux system."
   ]
  },
  {
   "cell_type": "markdown",
   "id": "470374dd-67c8-427d-b61f-d7250afce91e",
   "metadata": {
    "tags": []
   },
   "source": [
    "### ***How to Copy Code and Examples***\n",
    "Throughout this lab there are code samples that need to be copied and modified in a text editor. Any commands that need to be executed from a command line are found in black boxes (an example is found below) have been designed to be easily copied.\n",
    "Simply click on the black boxes and they will be coped to the keyboard.\n",
    "\n",
    "Depending on the terminal you are using ctrl-c will  copy into the terminal or check your terminal for better information if this fails."
   ]
  },
  {
   "cell_type": "code",
   "execution_count": 29,
   "id": "cbdf6a24-8538-4f7f-a367-6a9680c6c4cf",
   "metadata": {
    "jupyter": {
     "source_hidden": true
    },
    "tags": []
   },
   "outputs": [
    {
     "data": {
      "text/html": [
       "<div style=\"margin-right:50%;margin-left: 35px; border-style: solid; border-width: 2px; padding: 2px;background-Color:black;max-height:20px\" >\n",
       "<p style=\" color:white ;font-family:courier;background-Color:black;font-size:20px;line-height:20px\" \n",
       "\"\"<pre id=112 onmousedown=\"window.clipline(112)\" onmouseup=\"window.reset(112)  \">Sample commands are found in cells like this.</pre></div>\n"
      ],
      "text/plain": [
       "<IPython.core.display.HTML object>"
      ]
     },
     "metadata": {},
     "output_type": "display_data"
    }
   ],
   "source": [
    "%%html\n",
    "<div style=\"margin-right:50%;margin-left: 35px; border-style: solid; border-width: 2px; padding: 2px;background-Color:black;max-height:20px\" >\n",
    "<p style=\" color:white ;font-family:courier;background-Color:black;font-size:20px;line-height:20px\" \n",
    "\"\"<pre id=112 onmousedown=\"window.clipline(112)\" onmouseup=\"window.reset(112)  \">Sample commands are found in cells like this.</pre></div>"
   ]
  },
  {
   "cell_type": "code",
   "execution_count": 1,
   "id": "5ffaa14d-2a0d-4ae3-8144-2a59ef53ba43",
   "metadata": {
    "jupyter": {
     "source_hidden": true
    },
    "tags": []
   },
   "outputs": [
    {
     "data": {
      "text/html": [
       "<div style=\"margin-right:75%;margin-left: 35px; border-style: solid; border-width: 2px; padding: 2px;background-Color:black;max-height:20px\" >\n",
       "<p style=\" color:white ;font-family:courier;background-Color:black;font-size:20px;line-height:20px\" \n",
       "<pre id=1.111 onmousedown=\"window.clipline(1.111)\" onmouseup=\"window.reset(1.111)\">\n",
       "python3 main.py\n",
       "</pre>\n",
       "</div>\n"
      ],
      "text/plain": [
       "<IPython.core.display.HTML object>"
      ]
     },
     "metadata": {},
     "output_type": "display_data"
    }
   ],
   "source": [
    "%%html\n",
    "<div style=\"margin-right:75%;margin-left: 35px; border-style: solid; border-width: 2px; padding: 2px;background-Color:black;max-height:20px\" >\n",
    "<p style=\" color:white ;font-family:courier;background-Color:black;font-size:20px;line-height:20px\" \n",
    "<pre id=1.111 onmousedown=\"window.clipline(1.111)\" onmouseup=\"window.reset(1.111)\">\n",
    "python3 main.py\n",
    "</pre>\n",
    "</div>"
   ]
  },
  {
   "cell_type": "markdown",
   "id": "7b6f8058-c930-4691-a009-c555c1acd939",
   "metadata": {},
   "source": [
    "There are 2 Important concepts you need to understand with the client, \n",
    "1. Workspaces: a workspace is where you can work on a distinct set of task and store all working files and logs for the related activities. Workspaces exist as a directory under ```~/.addcl/workspaces```\n",
    "2. Contexts: Contexts are the current Plugin you are working with, they ensure you are logged onto the a plugins corresponding system and all the functionality for that system is loaded."
   ]
  },
  {
   "cell_type": "markdown",
   "id": "2b50c5a2-a393-4592-98a0-c0d7a283b76a",
   "metadata": {},
   "source": [
    "### ***Obtaining Workspace and Context Status***"
   ]
  },
  {
   "cell_type": "markdown",
   "id": "07231173-7532-4e06-a5ac-a7bdd3bcc3a8",
   "metadata": {},
   "source": [
    "to get your current workspace and status simpy run ```get status```.\n",
    "\n",
    "You will notice if you have previously been logged into the system and you are calling the command from jupyter, the first command you run in that session will try to log you into the current plugin."
   ]
  },
  {
   "cell_type": "code",
   "execution_count": 31,
   "id": "06a155ec",
   "metadata": {
    "jupyter": {
     "source_hidden": true
    }
   },
   "outputs": [
    {
     "data": {
      "text/html": [
       "<div style=\"margin-right:75%;margin-left: 35px; border-style: solid; border-width: 2px; padding: 2px;background-Color:black;max-height:20px\" >\n",
       "<p style=\" color:white ;font-family:courier;background-Color:black;font-size:20px;line-height:20px\" \n",
       "<pre id=1.12 onmousedown=\"window.clipline(1.12)\" onmouseup=\"window.reset(1.12)\"> get status</pre></div>\n"
      ],
      "text/plain": [
       "<IPython.core.display.HTML object>"
      ]
     },
     "metadata": {},
     "output_type": "display_data"
    }
   ],
   "source": [
    "\n",
    "%%html\n",
    "<div style=\"margin-right:75%;margin-left: 35px; border-style: solid; border-width: 2px; padding: 2px;background-Color:black;max-height:20px\" >\n",
    "<p style=\" color:white ;font-family:courier;background-Color:black;font-size:20px;line-height:20px\" \n",
    "<pre id=1.12 onmousedown=\"window.clipline(1.12)\" onmouseup=\"window.reset(1.12)\"> get status</pre></div>"
   ]
  },
  {
   "cell_type": "markdown",
   "id": "7b283cf9",
   "metadata": {},
   "source": [
    "### ***Create and work with Workspaces***"
   ]
  },
  {
   "cell_type": "markdown",
   "id": "69dc26c6",
   "metadata": {},
   "source": [
    "Workspaces can be created and set as the current working directory\n",
    "A workspace is created in the ```~/.addcl/workspaces/``` Directory\n",
    "Each Workspace has it's own History file and directory to store runs an working data.\n",
    "\n",
    "Command ```CREATE WORKSPACE <workspacename> optional{ DESCRIPTION(<quoted description>) }```"
   ]
  },
  {
   "cell_type": "code",
   "execution_count": 32,
   "id": "71d00411-c2b4-4d5c-869d-61c1fc8e74b5",
   "metadata": {
    "jupyter": {
     "source_hidden": true
    }
   },
   "outputs": [
    {
     "data": {
      "text/html": [
       "<div style=\"margin-right:75%;margin-left: 35px; border-style: solid; border-width: 2px; padding: 2px;background-Color:black;max-height:20px\" >\n",
       "<p style=\" color:white ;font-family:courier;background-Color:black;font-size:20px;line-height:20px\" \n",
       "<pre id=1.13 onmousedown=\"window.clipline(1.13)\" onmouseup=\"window.reset(1.13)\">create Workspace wk6</pre></div>\n"
      ],
      "text/plain": [
       "<IPython.core.display.HTML object>"
      ]
     },
     "metadata": {},
     "output_type": "display_data"
    }
   ],
   "source": [
    "%%html\n",
    "<div style=\"margin-right:75%;margin-left: 35px; border-style: solid; border-width: 2px; padding: 2px;background-Color:black;max-height:20px\" >\n",
    "<p style=\" color:white ;font-family:courier;background-Color:black;font-size:20px;line-height:20px\" \n",
    "<pre id=1.13 onmousedown=\"window.clipline(1.13)\" onmouseup=\"window.reset(1.13)\">create Workspace wk6</pre></div>"
   ]
  },
  {
   "cell_type": "markdown",
   "id": "c054d439-ae02-4285-b40c-a3b969a00be0",
   "metadata": {},
   "source": [
    "To List Current Workspaces simply run ```LIST WORKSPACES```"
   ]
  },
  {
   "cell_type": "code",
   "execution_count": 33,
   "id": "98015ad0",
   "metadata": {
    "jupyter": {
     "source_hidden": true
    }
   },
   "outputs": [
    {
     "data": {
      "text/html": [
       "<div style=\"margin-right:75%;margin-left: 35px; border-style: solid; border-width: 2px; padding: 2px;background-Color:black;max-height:20px\" >\n",
       "<p style=\" color:white ;font-family:courier;background-Color:black;font-size:20px;line-height:20px\" \n",
       "<pre id=1.14 onmousedown=\"window.clipline(1.14)\" onmouseup=\"window.reset(1.14)\" \\pre> list workspaces</pre></div>\n"
      ],
      "text/plain": [
       "<IPython.core.display.HTML object>"
      ]
     },
     "metadata": {},
     "output_type": "display_data"
    }
   ],
   "source": [
    "%%html\n",
    "<div style=\"margin-right:75%;margin-left: 35px; border-style: solid; border-width: 2px; padding: 2px;background-Color:black;max-height:20px\" >\n",
    "<p style=\" color:white ;font-family:courier;background-Color:black;font-size:20px;line-height:20px\" \n",
    "<pre id=1.14 onmousedown=\"window.clipline(1.14)\" onmouseup=\"window.reset(1.14)\" \\pre> list workspaces</pre></div>"
   ]
  },
  {
   "cell_type": "markdown",
   "id": "1786199f-1cf2-4cd0-ae95-37ccd8b6f762",
   "metadata": {
    "tags": []
   },
   "source": [
    "To remove a workspace simply run ```REMOVE WORKSPACE <workspace_name> ``` if you are currently in that workspace your current workspace will be set to ```DEFAULT```"
   ]
  },
  {
   "cell_type": "code",
   "execution_count": 34,
   "id": "fa2a2126-7b10-4bb0-92d1-c71cc5a9c779",
   "metadata": {
    "jupyter": {
     "source_hidden": true
    }
   },
   "outputs": [
    {
     "data": {
      "text/html": [
       "<div style=\"margin-right:75%;margin-left: 35px; border-style: solid; border-width: 2px; padding: 2px;background-Color:black;max-height:20px\" >\n",
       "<p style=\" color:white ;font-family:courier;background-Color:black;font-size:20px;line-height:20px\" \n",
       "<pre id=1.15 onmousedown=\"window.clipline(1.15)\" onmouseup=\"window.reset(1.15)\">remove Workspace wk6</pre></div>\n"
      ],
      "text/plain": [
       "<IPython.core.display.HTML object>"
      ]
     },
     "metadata": {},
     "output_type": "display_data"
    }
   ],
   "source": [
    "%%html\n",
    "<div style=\"margin-right:75%;margin-left: 35px; border-style: solid; border-width: 2px; padding: 2px;background-Color:black;max-height:20px\" >\n",
    "<p style=\" color:white ;font-family:courier;background-Color:black;font-size:20px;line-height:20px\" \n",
    "<pre id=1.15 onmousedown=\"window.clipline(1.15)\" onmouseup=\"window.reset(1.15)\">remove Workspace wk6</pre></div>"
   ]
  },
  {
   "cell_type": "code",
   "execution_count": 35,
   "id": "f3ef7c39-d1d7-4231-9d17-8e07f8e0b5be",
   "metadata": {
    "jupyter": {
     "source_hidden": true
    }
   },
   "outputs": [
    {
     "data": {
      "text/html": [
       "<div style=\"margin-right:75%;margin-left: 35px; border-style: solid; border-width: 2px; padding: 2px;background-Color:black;max-height:20px\" >\n",
       "<p style=\" color:white ;font-family:courier;background-Color:black;font-size:20px;line-height:20px\" \n",
       "<pre id=1.16 onmousedown=\"window.clipline(1.16)\" onmouseup=\"window.reset(1.16)\"> list workspaces</pre></div>\n"
      ],
      "text/plain": [
       "<IPython.core.display.HTML object>"
      ]
     },
     "metadata": {},
     "output_type": "display_data"
    }
   ],
   "source": [
    "%%html\n",
    "<div style=\"margin-right:75%;margin-left: 35px; border-style: solid; border-width: 2px; padding: 2px;background-Color:black;max-height:20px\" >\n",
    "<p style=\" color:white ;font-family:courier;background-Color:black;font-size:20px;line-height:20px\" \n",
    "<pre id=1.16 onmousedown=\"window.clipline(1.16)\" onmouseup=\"window.reset(1.16)\"> list workspaces</pre></div>"
   ]
  },
  {
   "cell_type": "markdown",
   "id": "9fcff181",
   "metadata": {
    "tags": []
   },
   "source": [
    "### ***Command History***"
   ]
  },
  {
   "cell_type": "markdown",
   "id": "3e240157",
   "metadata": {},
   "source": [
    "Th Notebooks write to the same execution history as command line executions.\n",
    "This is used to help create runs and enable paging back through history at the\n",
    "command line inteerface.\n"
   ]
  },
  {
   "cell_type": "code",
   "execution_count": 36,
   "id": "1023ccdf",
   "metadata": {
    "jupyter": {
     "source_hidden": true
    }
   },
   "outputs": [
    {
     "data": {
      "text/html": [
       "<div style=\"margin-right:75%;margin-left: 35px; border-style: solid; border-width: 2px; padding: 2px;background-Color:black;max-height:20px\" >\n",
       "<p style=\" color:white ;font-family:courier;background-Color:black;font-size:20px;line-height:20px\" \n",
       "<pre id=1.17 onmousedown=\"window.clipline(1.17)\" onmouseup=\"window.reset(1.17)\"> display history</pre></div>\n"
      ],
      "text/plain": [
       "<IPython.core.display.HTML object>"
      ]
     },
     "metadata": {},
     "output_type": "display_data"
    }
   ],
   "source": [
    "%%html\n",
    "<div style=\"margin-right:75%;margin-left: 35px; border-style: solid; border-width: 2px; padding: 2px;background-Color:black;max-height:20px\" >\n",
    "<p style=\" color:white ;font-family:courier;background-Color:black;font-size:20px;line-height:20px\" \n",
    "<pre id=1.17 onmousedown=\"window.clipline(1.17)\" onmouseup=\"window.reset(1.17)\"> display history</pre></div>"
   ]
  },
  {
   "cell_type": "markdown",
   "id": "ad265904",
   "metadata": {},
   "source": [
    "### ***Setting the Current Plugin***"
   ]
  },
  {
   "cell_type": "markdown",
   "id": "ce138a97",
   "metadata": {},
   "source": [
    "To set the current Plugin you are operating in you use the ```Set CONTEXT <plugin_name>``` command and the plugin name. the Plugin, if this is the first time it is activated in the current session the client will try and and log onto the desitination system.\n",
    "\n",
    "In this example we will set it to the Deep Search Plugin DS4SD"
   ]
  },
  {
   "cell_type": "code",
   "execution_count": 37,
   "id": "de0129c4",
   "metadata": {
    "jupyter": {
     "source_hidden": true
    }
   },
   "outputs": [
    {
     "data": {
      "text/html": [
       "<div style=\"margin-right:75%;margin-left: 35px; border-style: solid; border-width: 2px; padding: 2px;background-Color:black;max-height:20px\" >\n",
       "<p style=\" color:white ;font-family:courier;background-Color:black;font-size:20px;line-height:20px\" \n",
       "<pre id=1.18 onmousedown=\"window.clipline(1.18)\" onmouseup=\"window.reset(1.18)\"> set context  DS4SD</pre></div>\n"
      ],
      "text/plain": [
       "<IPython.core.display.HTML object>"
      ]
     },
     "metadata": {},
     "output_type": "display_data"
    }
   ],
   "source": [
    "%%html\n",
    "<div style=\"margin-right:75%;margin-left: 35px; border-style: solid; border-width: 2px; padding: 2px;background-Color:black;max-height:20px\" >\n",
    "<p style=\" color:white ;font-family:courier;background-Color:black;font-size:20px;line-height:20px\" \n",
    "<pre id=1.18 onmousedown=\"window.clipline(1.18)\" onmouseup=\"window.reset(1.18)\"> set context  DS4SD</pre></div>"
   ]
  },
  {
   "cell_type": "markdown",
   "id": "1607a6f6-9271-4096-b284-200d2a0865eb",
   "metadata": {},
   "source": [
    "### ***Setting the Current Workspace*** ###\n",
    "\n",
    "To set the current workspace you runn the following command ```SET WORKSPACE <workspacename>```as you chance the workspace the history for the cursor will be loaded into the current cursor"
   ]
  },
  {
   "cell_type": "code",
   "execution_count": 38,
   "id": "e47d4dbf",
   "metadata": {
    "jupyter": {
     "source_hidden": true
    }
   },
   "outputs": [
    {
     "data": {
      "text/html": [
       "<div style=\"margin-right:70%;margin-left: 35px; border-style: solid; border-width: 2px; padding: 2px;background-Color:black;max-height:20px\" >\n",
       "<p style=\" color:white ;font-family:courier;background-Color:black;font-size:20px;line-height:20px\" \n",
       "<pre id=2.1 onmousedown=\"window.clipline(2.1)\" onmouseup=\"window.reset(2.1)\"> set workspace DSEXAMPLE</pre></div> \n"
      ],
      "text/plain": [
       "<IPython.core.display.HTML object>"
      ]
     },
     "metadata": {},
     "output_type": "display_data"
    }
   ],
   "source": [
    "%%html\n",
    "<div style=\"margin-right:70%;margin-left: 35px; border-style: solid; border-width: 2px; padding: 2px;background-Color:black;max-height:20px\" >\n",
    "<p style=\" color:white ;font-family:courier;background-Color:black;font-size:20px;line-height:20px\" \n",
    "<pre id=2.1 onmousedown=\"window.clipline(2.1)\" onmouseup=\"window.reset(2.1)\"> set workspace DSEXAMPLE</pre></div> "
   ]
  },
  {
   "cell_type": "markdown",
   "id": "00f3f923",
   "metadata": {},
   "source": [
    "### ***Help***"
   ]
  },
  {
   "cell_type": "markdown",
   "id": "665004cb",
   "metadata": {},
   "source": [
    "Help uses the same help as the command line but uses markup language. it is accessed by using  ```?``` before any command. if there is not a unique command for the help hint given it will list all options "
   ]
  },
  {
   "cell_type": "code",
   "execution_count": 39,
   "id": "10b1c305",
   "metadata": {
    "jupyter": {
     "source_hidden": true
    }
   },
   "outputs": [
    {
     "data": {
      "text/html": [
       "<div style=\"margin-right:75%;margin-left: 35px; border-style: solid; border-width: 2px; padding: 2px;background-Color:black;max-height:20px\" >\n",
       "<p style=\" color:white ;font-family:courier;background-Color:black;font-size:20px;line-height:20px\" \n",
       "<pre id=2.2 onmousedown=\"window.clipline(2.2)\" onmouseup=\"window.reset(2.2)\"> ?</pre></div>\n"
      ],
      "text/plain": [
       "<IPython.core.display.HTML object>"
      ]
     },
     "metadata": {},
     "output_type": "display_data"
    }
   ],
   "source": [
    "%%html\n",
    "<div style=\"margin-right:75%;margin-left: 35px; border-style: solid; border-width: 2px; padding: 2px;background-Color:black;max-height:20px\" >\n",
    "<p style=\" color:white ;font-family:courier;background-Color:black;font-size:20px;line-height:20px\" \n",
    "<pre id=2.2 onmousedown=\"window.clipline(2.2)\" onmouseup=\"window.reset(2.2)\"> ?</pre></div>"
   ]
  },
  {
   "cell_type": "code",
   "execution_count": 40,
   "id": "7541c085",
   "metadata": {
    "jupyter": {
     "source_hidden": true
    }
   },
   "outputs": [
    {
     "data": {
      "text/html": [
       "<div style=\"margin-right:75%;margin-left: 35px; border-style: solid; border-width: 2px; padding: 2px;background-Color:black;max-height:20px\" >\n",
       "<p style=\" color:white ;font-family:courier;background-Color:black;font-size:20px;line-height:20px\" \n",
       "<pre id=2.3 onmousedown=\"window.clipline(2.3)\" onmouseup=\"window.reset(2.3)\"> ? list</pre></div> \n"
      ],
      "text/plain": [
       "<IPython.core.display.HTML object>"
      ]
     },
     "metadata": {},
     "output_type": "display_data"
    }
   ],
   "source": [
    "%%html\n",
    "<div style=\"margin-right:75%;margin-left: 35px; border-style: solid; border-width: 2px; padding: 2px;background-Color:black;max-height:20px\" >\n",
    "<p style=\" color:white ;font-family:courier;background-Color:black;font-size:20px;line-height:20px\" \n",
    "<pre id=2.3 onmousedown=\"window.clipline(2.3)\" onmouseup=\"window.reset(2.3)\"> ? list</pre></div> "
   ]
  },
  {
   "cell_type": "code",
   "execution_count": 41,
   "id": "3494c788",
   "metadata": {
    "jupyter": {
     "source_hidden": true
    }
   },
   "outputs": [
    {
     "data": {
      "text/html": [
       "<div style=\"margin-right:75%;margin-left: 35px; border-style: solid; border-width: 2px; padding: 2px;background-Color:black;max-height:20px\" >\n",
       "<p style=\" color:white ;font-family:courier;background-Color:black;font-size:20px;line-height:20px\" \n",
       "<pre id=2.4 onmousedown=\"window.clipline(2.4)\" onmouseup=\"window.reset(2.4)\"> ? search for </pre></div>\n"
      ],
      "text/plain": [
       "<IPython.core.display.HTML object>"
      ]
     },
     "metadata": {},
     "output_type": "display_data"
    }
   ],
   "source": [
    "%%html\n",
    "<div style=\"margin-right:75%;margin-left: 35px; border-style: solid; border-width: 2px; padding: 2px;background-Color:black;max-height:20px\" >\n",
    "<p style=\" color:white ;font-family:courier;background-Color:black;font-size:20px;line-height:20px\" \n",
    "<pre id=2.4 onmousedown=\"window.clipline(2.4)\" onmouseup=\"window.reset(2.4)\"> ? search for </pre></div>"
   ]
  },
  {
   "cell_type": "markdown",
   "id": "22618561",
   "metadata": {},
   "source": [
    "### ***Creating and Using Runs***"
   ]
  },
  {
   "cell_type": "markdown",
   "id": "349ec38d-21d1-466b-819f-4eb1a4a01c32",
   "metadata": {},
   "source": [
    "Runs are created from the command History. To create a run you first run ```create run```, this places a place holder in the command history file. You then run the commands you wish to execute in your run then issue the comand ```SAVE RUN AS <run_name>``` and the commands ran are saved to a ```*.run``` file in the workspace directory. To then execute the run you simply issue the command ```RUN <run_name>``` and the run will sequentially execute all the comands. To list what runs are available you can run ```LIST RUNS``` and to view what commands are in a run you can issue the following command ```DISPLAY RUN <run_name>```\n"
   ]
  },
  {
   "cell_type": "code",
   "execution_count": 42,
   "id": "4946c6f2",
   "metadata": {
    "jupyter": {
     "source_hidden": true
    },
    "scrolled": true
   },
   "outputs": [
    {
     "data": {
      "text/html": [
       "<div style=\"margin-right:75%;margin-left: 35px; border-style: solid; border-width: 2px; padding: 2px;background-Color:black;max-height:20px\" >\n",
       "<p style=\" color:white ;font-family:courier;background-Color:black;font-size:20px;line-height:20px\" \n",
       "<pre id=3.1 onmousedown=\"window.clipline(3.1)\" onmouseup=\"window.reset(3.1)\"> list Runs</pre></div> \n"
      ],
      "text/plain": [
       "<IPython.core.display.HTML object>"
      ]
     },
     "metadata": {},
     "output_type": "display_data"
    }
   ],
   "source": [
    "%%html\n",
    "<div style=\"margin-right:75%;margin-left: 35px; border-style: solid; border-width: 2px; padding: 2px;background-Color:black;max-height:20px\" >\n",
    "<p style=\" color:white ;font-family:courier;background-Color:black;font-size:20px;line-height:20px\" \n",
    "<pre id=3.1 onmousedown=\"window.clipline(3.1)\" onmouseup=\"window.reset(3.1)\"> list Runs</pre></div> "
   ]
  },
  {
   "cell_type": "markdown",
   "id": "e70c9708",
   "metadata": {},
   "source": [
    "To Create a Run we simply enter Create Run, run a set of commands then entner \"Save run as \\<name\\> \""
   ]
  },
  {
   "cell_type": "code",
   "execution_count": 43,
   "id": "be07da3e",
   "metadata": {
    "jupyter": {
     "source_hidden": true
    }
   },
   "outputs": [
    {
     "data": {
      "text/html": [
       "<div style=\"margin-right:75%;margin-left: 35px; border-style: solid; border-width: 2px; padding: 2px;background-Color:black;max-height:20px\" >\n",
       "<p style=\" color:white ;font-family:courier;background-Color:black;font-size:20px;line-height:20px\" \n",
       "<pre id=3.2 onmousedown=\"window.clipline(3.2)\" onmouseup=\"window.reset(3.2)\"> create run</pre></div> \n"
      ],
      "text/plain": [
       "<IPython.core.display.HTML object>"
      ]
     },
     "metadata": {},
     "output_type": "display_data"
    }
   ],
   "source": [
    "%%html\n",
    "<div style=\"margin-right:75%;margin-left: 35px; border-style: solid; border-width: 2px; padding: 2px;background-Color:black;max-height:20px\" >\n",
    "<p style=\" color:white ;font-family:courier;background-Color:black;font-size:20px;line-height:20px\" \n",
    "<pre id=3.2 onmousedown=\"window.clipline(3.2)\" onmouseup=\"window.reset(3.2)\"> create run</pre></div> "
   ]
  },
  {
   "cell_type": "markdown",
   "id": "57c7eda0-1c92-4061-80f5-cd9cb2bb8111",
   "metadata": {},
   "source": [
    "now running a set of commands"
   ]
  },
  {
   "cell_type": "code",
   "execution_count": 44,
   "id": "5264c836",
   "metadata": {
    "jupyter": {
     "source_hidden": true
    }
   },
   "outputs": [
    {
     "data": {
      "text/html": [
       "<div style=\"margin-right:75%;margin-left: 35px; border-style: solid; border-width: 2px; padding: 2px;background-Color:black;max-height:20px\" >\n",
       "<p style=\" color:white ;font-family:courier;background-Color:black;font-size:20px;line-height:20px\" \n",
       "<pre id=3.3 onmousedown=\"window.clipline(3.3)\" onmouseup=\"window.reset(3.3)\"> list runs</pre></div> \n"
      ],
      "text/plain": [
       "<IPython.core.display.HTML object>"
      ]
     },
     "metadata": {},
     "output_type": "display_data"
    }
   ],
   "source": [
    "%%html\n",
    "<div style=\"margin-right:75%;margin-left: 35px; border-style: solid; border-width: 2px; padding: 2px;background-Color:black;max-height:20px\" >\n",
    "<p style=\" color:white ;font-family:courier;background-Color:black;font-size:20px;line-height:20px\" \n",
    "<pre id=3.3 onmousedown=\"window.clipline(3.3)\" onmouseup=\"window.reset(3.3)\"> list runs</pre></div> "
   ]
  },
  {
   "cell_type": "code",
   "execution_count": 45,
   "id": "250d3780",
   "metadata": {
    "jupyter": {
     "source_hidden": true
    }
   },
   "outputs": [
    {
     "data": {
      "text/html": [
       "<div style=\"margin-right:75%;margin-left: 35px; border-style: solid; border-width: 2px; padding: 2px;background-Color:black;max-height:20px\" >\n",
       "<p style=\" color:white ;font-family:courier;background-Color:black;font-size:20px;line-height:20px\" \n",
       "<pre id=3.4 onmousedown=\"window.clipline(3.4)\" onmouseup=\"window.reset(3.4)\">list plugins</pre></div>\n"
      ],
      "text/plain": [
       "<IPython.core.display.HTML object>"
      ]
     },
     "metadata": {},
     "output_type": "display_data"
    }
   ],
   "source": [
    "%%html\n",
    "<div style=\"margin-right:75%;margin-left: 35px; border-style: solid; border-width: 2px; padding: 2px;background-Color:black;max-height:20px\" >\n",
    "<p style=\" color:white ;font-family:courier;background-Color:black;font-size:20px;line-height:20px\" \n",
    "<pre id=3.4 onmousedown=\"window.clipline(3.4)\" onmouseup=\"window.reset(3.4)\">list plugins</pre></div>"
   ]
  },
  {
   "cell_type": "code",
   "execution_count": 46,
   "id": "0dfe09d7",
   "metadata": {
    "jupyter": {
     "source_hidden": true
    }
   },
   "outputs": [
    {
     "data": {
      "text/html": [
       "<div style=\"margin-right:75%;margin-left: 35px; border-style: solid; border-width: 2px; padding: 2px;background-Color:black;max-height:20px\" >\n",
       "<p style=\" color:white ;font-family:courier;background-Color:black;font-size:20px;line-height:20px\" \n",
       "<pre id=3.5 onmousedown=\"window.clipline(3.5)\" onmouseup=\"window.reset(3.5)\"> list workspaces</pre></div> \n"
      ],
      "text/plain": [
       "<IPython.core.display.HTML object>"
      ]
     },
     "metadata": {},
     "output_type": "display_data"
    }
   ],
   "source": [
    "%%html\n",
    "<div style=\"margin-right:75%;margin-left: 35px; border-style: solid; border-width: 2px; padding: 2px;background-Color:black;max-height:20px\" >\n",
    "<p style=\" color:white ;font-family:courier;background-Color:black;font-size:20px;line-height:20px\" \n",
    "<pre id=3.5 onmousedown=\"window.clipline(3.5)\" onmouseup=\"window.reset(3.5)\"> list workspaces</pre></div> "
   ]
  },
  {
   "cell_type": "code",
   "execution_count": 47,
   "id": "baa20f7a",
   "metadata": {
    "jupyter": {
     "source_hidden": true
    }
   },
   "outputs": [
    {
     "data": {
      "text/html": [
       "<div style=\"margin-right:75%;margin-left: 35px; border-style: solid; border-width: 2px; padding: 2px;background-Color:black;max-height:20px\" >\n",
       "<p style=\" color:white ;font-family:courier;background-Color:black;font-size:20px;line-height:20px\" \n",
       "<pre id=3.6 onmousedown=\"window.clipline(3.6)\" onmouseup=\"window.reset(3.6)\"> save run as test1</pre></div> \n"
      ],
      "text/plain": [
       "<IPython.core.display.HTML object>"
      ]
     },
     "metadata": {},
     "output_type": "display_data"
    }
   ],
   "source": [
    "%%html\n",
    "<div style=\"margin-right:75%;margin-left: 35px; border-style: solid; border-width: 2px; padding: 2px;background-Color:black;max-height:20px\" >\n",
    "<p style=\" color:white ;font-family:courier;background-Color:black;font-size:20px;line-height:20px\" \n",
    "<pre id=3.6 onmousedown=\"window.clipline(3.6)\" onmouseup=\"window.reset(3.6)\"> save run as test1</pre></div> "
   ]
  },
  {
   "cell_type": "markdown",
   "id": "e407de2c",
   "metadata": {},
   "source": [
    "### displaying a Run "
   ]
  },
  {
   "cell_type": "code",
   "execution_count": 48,
   "id": "f69629e3",
   "metadata": {
    "jupyter": {
     "source_hidden": true
    }
   },
   "outputs": [
    {
     "data": {
      "text/html": [
       "<div style=\"margin-right:75%;margin-left: 35px; border-style: solid; border-width: 2px; padding: 2px;background-Color:black;max-height:20px\" >\n",
       "<p style=\" color:white ;font-family:courier;background-Color:black;font-size:20px;line-height:20px\" \n",
       "<pre id=3.7 onmousedown=\"window.clipline(3.7)\" onmouseup=\"window.reset(3.7)\"> display run test1</pre></div>\n"
      ],
      "text/plain": [
       "<IPython.core.display.HTML object>"
      ]
     },
     "metadata": {},
     "output_type": "display_data"
    }
   ],
   "source": [
    "%%html\n",
    "<div style=\"margin-right:75%;margin-left: 35px; border-style: solid; border-width: 2px; padding: 2px;background-Color:black;max-height:20px\" >\n",
    "<p style=\" color:white ;font-family:courier;background-Color:black;font-size:20px;line-height:20px\" \n",
    "<pre id=3.7 onmousedown=\"window.clipline(3.7)\" onmouseup=\"window.reset(3.7)\"> display run test1</pre></div>"
   ]
  },
  {
   "cell_type": "markdown",
   "id": "c4bc6f87-1a4c-4a69-bcd0-3962a03527de",
   "metadata": {},
   "source": [
    "### Runnning a Run"
   ]
  },
  {
   "cell_type": "code",
   "execution_count": 49,
   "id": "a1bc7b99",
   "metadata": {
    "jupyter": {
     "source_hidden": true
    }
   },
   "outputs": [
    {
     "data": {
      "text/html": [
       "<div style=\"margin-right:75%;margin-left: 35px; border-style: solid; border-width: 2px; padding: 2px;background-Color:black;max-height:20px\" >\n",
       "<p style=\" color:white ;font-family:courier;background-Color:black;font-size:20px;line-height:20px\" \n",
       "<pre id=3.8 onmousedown=\"window.clipline(3.8\" onmouseup=\"window.reset(3.8)\"> run test1</pre></div>\n"
      ],
      "text/plain": [
       "<IPython.core.display.HTML object>"
      ]
     },
     "metadata": {},
     "output_type": "display_data"
    }
   ],
   "source": [
    "%%html\n",
    "<div style=\"margin-right:75%;margin-left: 35px; border-style: solid; border-width: 2px; padding: 2px;background-Color:black;max-height:20px\" >\n",
    "<p style=\" color:white ;font-family:courier;background-Color:black;font-size:20px;line-height:20px\" \n",
    "<pre id=3.8 onmousedown=\"window.clipline(3.8\" onmouseup=\"window.reset(3.8)\"> run test1</pre></div>"
   ]
  },
  {
   "cell_type": "code",
   "execution_count": null,
   "id": "770b6d9f",
   "metadata": {},
   "outputs": [],
   "source": []
  },
  {
   "cell_type": "code",
   "execution_count": null,
   "id": "b2019103",
   "metadata": {},
   "outputs": [],
   "source": []
  }
 ],
 "metadata": {
  "celltoolbar": "Tags",
  "kernelspec": {
   "display_name": "openad",
   "language": "python",
   "name": "openad"
  },
  "language_info": {
   "codemirror_mode": {
    "name": "ipython",
    "version": 3
   },
   "file_extension": ".py",
   "mimetype": "text/x-python",
   "name": "python",
   "nbconvert_exporter": "python",
   "pygments_lexer": "ipython3",
   "version": "3.10.10"
  }
 },
 "nbformat": 4,
 "nbformat_minor": 5
}
