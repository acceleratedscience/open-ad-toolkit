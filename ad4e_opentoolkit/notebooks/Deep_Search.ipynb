{
 "cells": [
  {
   "cell_type": "markdown",
   "id": "1b8cb3dc-ac48-4deb-b31a-2396f366f753",
   "metadata": {},
   "source": [
    "# Deep Search and the Common Client"
   ]
  },
  {
   "cell_type": "markdown",
   "id": "d606a12e-8fdd-46ee-b622-474d4c3e1bef",
   "metadata": {},
   "source": [
    "![](./media/AD_Banner.jpg)\n",
    "<a id=\"top\">"
   ]
  },
  {
   "cell_type": "markdown",
   "id": "70340295-2619-4ba9-953f-3f8c7c331bb6",
   "metadata": {},
   "source": [
    "## You only need to run the Magic command %run if you did not execute init_magic from the command line "
   ]
  },
  {
   "cell_type": "code",
   "execution_count": null,
   "id": "82b322bf-fec9-4cab-aaa0-43c3d4f41b4b",
   "metadata": {},
   "outputs": [],
   "source": [
    "# %run adccl.ipynb #Not required if you have run init_magic"
   ]
  },
  {
   "cell_type": "markdown",
   "id": "7d343048-0db8-4a3a-b7e4-0bd29c0f01c3",
   "metadata": {},
   "source": [
    "## If you setup the Tell Me Large Language Model interface the below will run for you"
   ]
  },
  {
   "cell_type": "code",
   "execution_count": null,
   "id": "b3368152-a56f-4b41-8e25-7d4868b16128",
   "metadata": {
    "tags": []
   },
   "outputs": [],
   "source": [
    "%adccl tell me how would I create a workspace then search for ibuprofen using deepsearch  then display them with a viewer\n"
   ]
  },
  {
   "cell_type": "code",
   "execution_count": null,
   "id": "e6522cdc-65b7-4fac-9881-309337e34777",
   "metadata": {},
   "outputs": [],
   "source": [
    "%adccl get workspace default"
   ]
  },
  {
   "cell_type": "code",
   "execution_count": null,
   "id": "1921293a-5791-4eca-ae1e-2f8e5854f5ce",
   "metadata": {},
   "outputs": [],
   "source": [
    "%adccl remove toolkit DS4SD"
   ]
  },
  {
   "cell_type": "code",
   "execution_count": null,
   "id": "7d90a277-6507-4e14-a5f4-7f334a90d2b7",
   "metadata": {},
   "outputs": [],
   "source": [
    "%adccl get status"
   ]
  },
  {
   "cell_type": "code",
   "execution_count": null,
   "id": "ebdcf4a4-001f-41da-bf1d-d03faa762674",
   "metadata": {},
   "outputs": [],
   "source": [
    "%adccl add toolkit DS4SD"
   ]
  },
  {
   "cell_type": "code",
   "execution_count": null,
   "id": "70d496b5-2aff-46d8-a014-c12984d750a4",
   "metadata": {},
   "outputs": [],
   "source": [
    "%adccl get status"
   ]
  },
  {
   "cell_type": "code",
   "execution_count": null,
   "id": "a83d54e3-2b6e-42e2-a49e-4bb72fa2808f",
   "metadata": {},
   "outputs": [],
   "source": [
    "%adccl set context DS4SD"
   ]
  },
  {
   "cell_type": "markdown",
   "id": "a7e1d598-f4a8-47f9-9c0c-0862f4b7b0d9",
   "metadata": {},
   "source": [
    "## Displaying Domains ##"
   ]
  },
  {
   "cell_type": "markdown",
   "id": "394ebfed-d68a-4078-a026-c7cdf2b823c9",
   "metadata": {},
   "source": [
    "**Display Domains:**\n",
    "\n",
    "This is going to query the Deep Search system for the data collections available on the _Materials Science_ domain.\n",
    "In the list we will find a combination of database and document collections.\n",
    "\n",
    "Interesting data collections for this examples are PubChem and USTPO pre-processed patents.\n",
    "Deep Search is regularly parsing the PubChem database to index molecules and their properties.\n",
    "\n",
    "![displayDomains](data:image/svg+xml,%3Csvg%20xmlns%3D%22http%3A%2F%2Fwww.w3.org%2F2000%2Fsvg%22%20width%3D%22683%22%20height%3D%2237%22%3E%3Cdefs%3E%3Cstyle%20type%3D%22text%2Fcss%22%3E%40namespace%20%22http%3A%2F%2Fwww.w3.org%2F2000%2Fsvg%22%3B%20.line%20%7Bfill%3A%20none%3B%20stroke%3A%20%23002233%3B%20stroke-width%3A%201%3B%7D%20.bold-line%20%7Bstroke%3A%20%23000E14%3B%20shape-rendering%3A%20crispEdges%3B%20stroke-width%3A%202%3B%7D%20.thin-line%20%7Bstroke%3A%20%2300141F%3B%20shape-rendering%3A%20crispEdges%7D%20.filled%20%7Bfill%3A%20%23002233%3B%20stroke%3A%20none%3B%7D%20text.terminal%20%7Bfont-family%3A%20Verdana%2C%20Sans-serif%3B%20font-size%3A%2012px%3B%20fill%3A%20%23000E14%3B%20font-weight%3A%20bold%3B%20%7D%20text.nonterminal%20%7Bfont-family%3A%20Verdana%2C%20Sans-serif%3B%20font-size%3A%2012px%3B%20fill%3A%20%2300111A%3B%20font-weight%3A%20normal%3B%20%7D%20text.regexp%20%7Bfont-family%3A%20Verdana%2C%20Sans-serif%3B%20font-size%3A%2012px%3B%20fill%3A%20%2300141F%3B%20font-weight%3A%20normal%3B%20%7D%20rect%2C%20circle%2C%20polygon%20%7Bfill%3A%20%23002233%3B%20stroke%3A%20%23002233%3B%7D%20rect.terminal%20%7Bfill%3A%20%234DC3FF%3B%20stroke%3A%20%23002233%3B%20stroke-width%3A%201%3B%7D%20rect.nonterminal%20%7Bfill%3A%20%239EDFFF%3B%20stroke%3A%20%23002233%3B%20stroke-width%3A%201%3B%7D%20rect.text%20%7Bfill%3A%20none%3B%20stroke%3A%20none%3B%7D%20polygon.regexp%20%7Bfill%3A%20%23C7ECFF%3B%20stroke%3A%20%23002233%3B%20stroke-width%3A%201%3B%7D%3C%2Fstyle%3E%3C%2Fdefs%3E%3Cpolygon%20points%3D%229%2017%201%2013%201%2021%22%2F%3E%3Cpolygon%20points%3D%2217%2017%209%2013%209%2021%22%2F%3E%3Crect%20x%3D%2231%22%20y%3D%223%22%20width%3D%2250%22%20height%3D%2232%22%20rx%3D%2210%22%2F%3E%3Crect%20x%3D%2229%22%20y%3D%221%22%20width%3D%2250%22%20height%3D%2232%22%20class%3D%22terminal%22%20rx%3D%2210%22%2F%3E%3Ctext%20class%3D%22terminal%22%20x%3D%2239%22%20y%3D%2221%22%3Eexec%3C%2Ftext%3E%3Crect%20x%3D%22101%22%20y%3D%223%22%20width%3D%22178%22%20height%3D%2232%22%20rx%3D%2210%22%2F%3E%3Crect%20x%3D%2299%22%20y%3D%221%22%20width%3D%22178%22%20height%3D%2232%22%20class%3D%22terminal%22%20rx%3D%2210%22%2F%3E%3Ctext%20class%3D%22terminal%22%20x%3D%22109%22%20y%3D%2221%22%3EDISPLAY_COLLECTION%3C%2Ftext%3E%3Crect%20x%3D%22299%22%20y%3D%223%22%20width%3D%2226%22%20height%3D%2232%22%20rx%3D%2210%22%2F%3E%3Crect%20x%3D%22297%22%20y%3D%221%22%20width%3D%2226%22%20height%3D%2232%22%20class%3D%22terminal%22%20rx%3D%2210%22%2F%3E%3Ctext%20class%3D%22terminal%22%20x%3D%22307%22%20y%3D%2221%22%3E%28%3C%2Ftext%3E%3Crect%20x%3D%22345%22%20y%3D%223%22%20width%3D%2280%22%20height%3D%2232%22%20rx%3D%2210%22%2F%3E%3Crect%20x%3D%22343%22%20y%3D%221%22%20width%3D%2280%22%20height%3D%2232%22%20class%3D%22terminal%22%20rx%3D%2210%22%2F%3E%3Ctext%20class%3D%22terminal%22%20x%3D%22353%22%20y%3D%2221%22%3Edomain%3D%3C%2Ftext%3E%3Crect%20x%3D%22445%22%20y%3D%223%22%20width%3D%22164%22%20height%3D%2232%22%2F%3E%3Crect%20x%3D%22443%22%20y%3D%221%22%20width%3D%22164%22%20height%3D%2232%22%20class%3D%22nonterminal%22%2F%3E%3Ctext%20class%3D%22nonterminal%22%20x%3D%22453%22%20y%3D%2221%22%3Equoted_domain_name%3C%2Ftext%3E%3Crect%20x%3D%22629%22%20y%3D%223%22%20width%3D%2226%22%20height%3D%2232%22%20rx%3D%2210%22%2F%3E%3Crect%20x%3D%22627%22%20y%3D%221%22%20width%3D%2226%22%20height%3D%2232%22%20class%3D%22terminal%22%20rx%3D%2210%22%2F%3E%3Ctext%20class%3D%22terminal%22%20x%3D%22637%22%20y%3D%2221%22%3E%29%3C%2Ftext%3E%3Cpath%20class%3D%22line%22%20d%3D%22m17%2017%20h2%20m0%200%20h10%20m50%200%20h10%20m0%200%20h10%20m178%200%20h10%20m0%200%20h10%20m26%200%20h10%20m0%200%20h10%20m80%200%20h10%20m0%200%20h10%20m164%200%20h10%20m0%200%20h10%20m26%200%20h10%20m3%200%20h-3%22%2F%3E%3Cpolygon%20points%3D%22673%2017%20681%2013%20681%2021%22%2F%3E%3Cpolygon%20points%3D%22673%2017%20665%2013%20665%2021%22%2F%3E%3C%2Fsvg%3E)\n",
    "```\n",
    "Example Command:  exec display_collection( domain='Materials Science' ) ```"
   ]
  },
  {
   "cell_type": "code",
   "execution_count": null,
   "id": "e6b808da-d724-4362-9ccc-44b364f5a3a3",
   "metadata": {},
   "outputs": [],
   "source": [
    "%adccl exec display_collection( domain='Materials Science' )"
   ]
  },
  {
   "cell_type": "markdown",
   "id": "d7b57b2b-45a8-439a-8637-28c7732a1577",
   "metadata": {
    "tags": []
   },
   "source": [
    "## Searching the Deep Search Repository"
   ]
  },
  {
   "cell_type": "markdown",
   "id": "a43eb0c1-180e-4978-94c2-ff5ad8ac3fb1",
   "metadata": {},
   "source": [
    "The Deep Search command for searching repositories uses the below syntax:"
   ]
  },
  {
   "cell_type": "markdown",
   "id": "3a29db3a-31da-4bd5-bc2d-68ec069ed5df",
   "metadata": {},
   "source": [
    "![search](data:image/svg+xml,%3Csvg%20xmlns%3D%22http%3A%2F%2Fwww.w3.org%2F2000%2Fsvg%22%20width%3D%22823%22%20height%3D%22277%22%3E%3Cdefs%3E%3Cstyle%20type%3D%22text%2Fcss%22%3E%40namespace%20%22http%3A%2F%2Fwww.w3.org%2F2000%2Fsvg%22%3B%20.line%20%7Bfill%3A%20none%3B%20stroke%3A%20%23002233%3B%20stroke-width%3A%201%3B%7D%20.bold-line%20%7Bstroke%3A%20%23000E14%3B%20shape-rendering%3A%20crispEdges%3B%20stroke-width%3A%202%3B%7D%20.thin-line%20%7Bstroke%3A%20%2300141F%3B%20shape-rendering%3A%20crispEdges%7D%20.filled%20%7Bfill%3A%20%23002233%3B%20stroke%3A%20none%3B%7D%20text.terminal%20%7Bfont-family%3A%20Verdana%2C%20Sans-serif%3B%20font-size%3A%2012px%3B%20fill%3A%20%23000E14%3B%20font-weight%3A%20bold%3B%20%7D%20text.nonterminal%20%7Bfont-family%3A%20Verdana%2C%20Sans-serif%3B%20font-size%3A%2012px%3B%20fill%3A%20%2300111A%3B%20font-weight%3A%20normal%3B%20%7D%20text.regexp%20%7Bfont-family%3A%20Verdana%2C%20Sans-serif%3B%20font-size%3A%2012px%3B%20fill%3A%20%2300141F%3B%20font-weight%3A%20normal%3B%20%7D%20rect%2C%20circle%2C%20polygon%20%7Bfill%3A%20%23002233%3B%20stroke%3A%20%23002233%3B%7D%20rect.terminal%20%7Bfill%3A%20%234DC3FF%3B%20stroke%3A%20%23002233%3B%20stroke-width%3A%201%3B%7D%20rect.nonterminal%20%7Bfill%3A%20%239EDFFF%3B%20stroke%3A%20%23002233%3B%20stroke-width%3A%201%3B%7D%20rect.text%20%7Bfill%3A%20none%3B%20stroke%3A%20none%3B%7D%20polygon.regexp%20%7Bfill%3A%20%23C7ECFF%3B%20stroke%3A%20%23002233%3B%20stroke-width%3A%201%3B%7D%3C%2Fstyle%3E%3C%2Fdefs%3E%3Cpolygon%20points%3D%229%2017%201%2013%201%2021%22%2F%3E%3Cpolygon%20points%3D%2217%2017%209%2013%209%2021%22%2F%3E%3Crect%20x%3D%2231%22%20y%3D%223%22%20width%3D%2264%22%20height%3D%2232%22%20rx%3D%2210%22%2F%3E%3Crect%20x%3D%2229%22%20y%3D%221%22%20width%3D%2264%22%20height%3D%2232%22%20class%3D%22terminal%22%20rx%3D%2210%22%2F%3E%3Ctext%20class%3D%22terminal%22%20x%3D%2239%22%20y%3D%2221%22%3Esearch%3C%2Ftext%3E%3Crect%20x%3D%22115%22%20y%3D%223%22%20width%3D%2248%22%20height%3D%2232%22%20rx%3D%2210%22%2F%3E%3Crect%20x%3D%22113%22%20y%3D%221%22%20width%3D%2248%22%20height%3D%2232%22%20class%3D%22terminal%22%20rx%3D%2210%22%2F%3E%3Ctext%20class%3D%22terminal%22%20x%3D%22123%22%20y%3D%2221%22%3EFOR%3C%2Ftext%3E%3Crect%20x%3D%22183%22%20y%3D%223%22%20width%3D%22160%22%20height%3D%2232%22%2F%3E%3Crect%20x%3D%22181%22%20y%3D%221%22%20width%3D%22160%22%20height%3D%2232%22%20class%3D%22nonterminal%22%2F%3E%3Ctext%20class%3D%22nonterminal%22%20x%3D%22191%22%20y%3D%2221%22%3Equoted_search_string%3C%2Ftext%3E%3Crect%20x%3D%22363%22%20y%3D%223%22%20width%3D%2264%22%20height%3D%2232%22%20rx%3D%2210%22%2F%3E%3Crect%20x%3D%22361%22%20y%3D%221%22%20width%3D%2264%22%20height%3D%2232%22%20class%3D%22terminal%22%20rx%3D%2210%22%2F%3E%3Ctext%20class%3D%22terminal%22%20x%3D%22371%22%20y%3D%2221%22%3EUSING%3C%2Ftext%3E%3Crect%20x%3D%22447%22%20y%3D%223%22%20width%3D%2226%22%20height%3D%2232%22%20rx%3D%2210%22%2F%3E%3Crect%20x%3D%22445%22%20y%3D%221%22%20width%3D%2226%22%20height%3D%2232%22%20class%3D%22terminal%22%20rx%3D%2210%22%2F%3E%3Ctext%20class%3D%22terminal%22%20x%3D%22455%22%20y%3D%2221%22%3E%28%3C%2Ftext%3E%3Crect%20x%3D%22493%22%20y%3D%223%22%20width%3D%22106%22%20height%3D%2232%22%20rx%3D%2210%22%2F%3E%3Crect%20x%3D%22491%22%20y%3D%221%22%20width%3D%22106%22%20height%3D%2232%22%20class%3D%22terminal%22%20rx%3D%2210%22%2F%3E%3Ctext%20class%3D%22terminal%22%20x%3D%22501%22%20y%3D%2221%22%3Eindex_type%3D%3C%2Ftext%3E%3Crect%20x%3D%22619%22%20y%3D%223%22%20width%3D%22150%22%20height%3D%2232%22%2F%3E%3Crect%20x%3D%22617%22%20y%3D%221%22%20width%3D%22150%22%20height%3D%2232%22%20class%3D%22nonterminal%22%2F%3E%3Ctext%20class%3D%22nonterminal%22%20x%3D%22627%22%20y%3D%2221%22%3Equoted_index_name%3C%2Ftext%3E%3Crect%20x%3D%2245%22%20y%3D%2269%22%20width%3D%2296%22%20height%3D%2232%22%20rx%3D%2210%22%2F%3E%3Crect%20x%3D%2243%22%20y%3D%2267%22%20width%3D%2296%22%20height%3D%2232%22%20class%3D%22terminal%22%20rx%3D%2210%22%2F%3E%3Ctext%20class%3D%22terminal%22%20x%3D%2253%22%20y%3D%2287%22%3Eelastic_id%3D%3C%2Ftext%3E%3Crect%20x%3D%22161%22%20y%3D%2269%22%20width%3D%2256%22%20height%3D%2232%22%2F%3E%3Crect%20x%3D%22159%22%20y%3D%2267%22%20width%3D%2256%22%20height%3D%2232%22%20class%3D%22nonterminal%22%2F%3E%3Ctext%20class%3D%22nonterminal%22%20x%3D%22169%22%20y%3D%2287%22%3Estring%3C%2Ftext%3E%3Crect%20x%3D%2265%22%20y%3D%22113%22%20width%3D%2298%22%20height%3D%2232%22%20rx%3D%2210%22%2F%3E%3Crect%20x%3D%2263%22%20y%3D%22111%22%20width%3D%2298%22%20height%3D%2232%22%20class%3D%22terminal%22%20rx%3D%2210%22%2F%3E%3Ctext%20class%3D%22terminal%22%20x%3D%2273%22%20y%3D%22131%22%3Epage_size%3D%3C%2Ftext%3E%3Crect%20x%3D%2265%22%20y%3D%22157%22%20width%3D%22122%22%20height%3D%2232%22%20rx%3D%2210%22%2F%3E%3Crect%20x%3D%2263%22%20y%3D%22155%22%20width%3D%22122%22%20height%3D%2232%22%20class%3D%22terminal%22%20rx%3D%2210%22%2F%3E%3Ctext%20class%3D%22terminal%22%20x%3D%2273%22%20y%3D%22175%22%3Eedit_distance%3D%3C%2Ftext%3E%3Crect%20x%3D%22227%22%20y%3D%22113%22%20width%3D%2264%22%20height%3D%2232%22%2F%3E%3Crect%20x%3D%22225%22%20y%3D%22111%22%20width%3D%2264%22%20height%3D%2232%22%20class%3D%22nonterminal%22%2F%3E%3Ctext%20class%3D%22nonterminal%22%20x%3D%22235%22%20y%3D%22131%22%3Einteger%3C%2Ftext%3E%3Crect%20x%3D%22331%22%20y%3D%2269%22%20width%3D%2226%22%20height%3D%2232%22%20rx%3D%2210%22%2F%3E%3Crect%20x%3D%22329%22%20y%3D%2267%22%20width%3D%2226%22%20height%3D%2232%22%20class%3D%22terminal%22%20rx%3D%2210%22%2F%3E%3Ctext%20class%3D%22terminal%22%20x%3D%22339%22%20y%3D%2287%22%3E%29%3C%2Ftext%3E%3Crect%20x%3D%22377%22%20y%3D%2269%22%20width%3D%2270%22%20height%3D%2232%22%20rx%3D%2210%22%2F%3E%3Crect%20x%3D%22375%22%20y%3D%2267%22%20width%3D%2270%22%20height%3D%2232%22%20class%3D%22terminal%22%20rx%3D%2210%22%2F%3E%3Ctext%20class%3D%22terminal%22%20x%3D%22385%22%20y%3D%2287%22%3ESHOW%28%3C%2Ftext%3E%3Crect%20x%3D%22487%22%20y%3D%2269%22%20width%3D%2258%22%20height%3D%2232%22%20rx%3D%2210%22%2F%3E%3Crect%20x%3D%22485%22%20y%3D%2267%22%20width%3D%2258%22%20height%3D%2232%22%20class%3D%22terminal%22%20rx%3D%2210%22%2F%3E%3Ctext%20class%3D%22terminal%22%20x%3D%22495%22%20y%3D%2287%22%3EDOCS%3C%2Ftext%3E%3Crect%20x%3D%22487%22%20y%3D%22113%22%20width%3D%2256%22%20height%3D%2232%22%20rx%3D%2210%22%2F%3E%3Crect%20x%3D%22485%22%20y%3D%22111%22%20width%3D%2256%22%20height%3D%2232%22%20class%3D%22terminal%22%20rx%3D%2210%22%2F%3E%3Ctext%20class%3D%22terminal%22%20x%3D%22495%22%20y%3D%22131%22%3EDATA%3C%2Ftext%3E%3Crect%20x%3D%22585%22%20y%3D%2269%22%20width%3D%2226%22%20height%3D%2232%22%20rx%3D%2210%22%2F%3E%3Crect%20x%3D%22583%22%20y%3D%2267%22%20width%3D%2226%22%20height%3D%2232%22%20class%3D%22terminal%22%20rx%3D%2210%22%2F%3E%3Ctext%20class%3D%22terminal%22%20x%3D%22593%22%20y%3D%2287%22%3E%29%3C%2Ftext%3E%3Crect%20x%3D%22651%22%20y%3D%22101%22%20width%3D%22130%22%20height%3D%2232%22%20rx%3D%2210%22%2F%3E%3Crect%20x%3D%22649%22%20y%3D%2299%22%20width%3D%22130%22%20height%3D%2232%22%20class%3D%22terminal%22%20rx%3D%2210%22%2F%3E%3Ctext%20class%3D%22terminal%22%20x%3D%22659%22%20y%3D%22119%22%3EESTIMATE%20ONLY%3C%2Ftext%3E%3Crect%20x%3D%22363%22%20y%3D%22243%22%20width%3D%22118%22%20height%3D%2232%22%20rx%3D%2210%22%2F%3E%3Crect%20x%3D%22361%22%20y%3D%22241%22%20width%3D%22118%22%20height%3D%2232%22%20class%3D%22terminal%22%20rx%3D%2210%22%2F%3E%3Ctext%20class%3D%22terminal%22%20x%3D%22371%22%20y%3D%22261%22%3EReturn%20as%20data%3C%2Ftext%3E%3Crect%20x%3D%22541%22%20y%3D%22243%22%20width%3D%2278%22%20height%3D%2232%22%20rx%3D%2210%22%2F%3E%3Crect%20x%3D%22539%22%20y%3D%22241%22%20width%3D%2278%22%20height%3D%2232%22%20class%3D%22terminal%22%20rx%3D%2210%22%2F%3E%3Ctext%20class%3D%22terminal%22%20x%3D%22549%22%20y%3D%22261%22%3ESAVE%20AS%3C%2Ftext%3E%3Crect%20x%3D%22639%22%20y%3D%22243%22%20width%3D%22136%22%20height%3D%2232%22%2F%3E%3Crect%20x%3D%22637%22%20y%3D%22241%22%20width%3D%22136%22%20height%3D%2232%22%20class%3D%22nonterminal%22%2F%3E%3Ctext%20class%3D%22nonterminal%22%20x%3D%22647%22%20y%3D%22261%22%3Equoted_csv_name%3C%2Ftext%3E%3Cpath%20class%3D%22line%22%20d%3D%22m17%2017%20h2%20m0%200%20h10%20m64%200%20h10%20m0%200%20h10%20m48%200%20h10%20m0%200%20h10%20m160%200%20h10%20m0%200%20h10%20m64%200%20h10%20m0%200%20h10%20m26%200%20h10%20m0%200%20h10%20m106%200%20h10%20m0%200%20h10%20m150%200%20h10%20m2%200%20l2%200%20m2%200%20l2%200%20m2%200%20l2%200%20m-788%2066%20l2%200%20m2%200%20l2%200%20m2%200%20l2%200%20m22%200%20h10%20m96%200%20h10%20m0%200%20h10%20m56%200%20h10%20m0%200%20h74%20m-286%200%20h20%20m266%200%20h20%20m-306%200%20q10%200%2010%2010%20m286%200%20q0%20-10%2010%20-10%20m-296%2010%20v24%20m286%200%20v-24%20m-286%2024%20q0%2010%2010%2010%20m266%200%20q10%200%2010%20-10%20m-256%2010%20h10%20m98%200%20h10%20m0%200%20h24%20m-162%200%20h20%20m142%200%20h20%20m-182%200%20q10%200%2010%2010%20m162%200%20q0%20-10%2010%20-10%20m-172%2010%20v24%20m162%200%20v-24%20m-162%2024%20q0%2010%2010%2010%20m142%200%20q10%200%2010%20-10%20m-152%2010%20h10%20m122%200%20h10%20m20%20-44%20h10%20m64%200%20h10%20m20%20-44%20h10%20m26%200%20h10%20m0%200%20h10%20m70%200%20h10%20m20%200%20h10%20m58%200%20h10%20m-98%200%20h20%20m78%200%20h20%20m-118%200%20q10%200%2010%2010%20m98%200%20q0%20-10%2010%20-10%20m-108%2010%20v24%20m98%200%20v-24%20m-98%2024%20q0%2010%2010%2010%20m78%200%20q10%200%2010%20-10%20m-88%2010%20h10%20m56%200%20h10%20m0%200%20h2%20m20%20-44%20h10%20m26%200%20h10%20m20%200%20h10%20m0%200%20h140%20m-170%200%20h20%20m150%200%20h20%20m-190%200%20q10%200%2010%2010%20m170%200%20q0%20-10%2010%20-10%20m-180%2010%20v12%20m170%200%20v-12%20m-170%2012%20q0%2010%2010%2010%20m150%200%20q10%200%2010%20-10%20m-160%2010%20h10%20m130%200%20h10%20m22%20-32%20l2%200%20m2%200%20l2%200%20m2%200%20l2%200%20m-502%20142%20l2%200%20m2%200%20l2%200%20m2%200%20l2%200%20m22%200%20h10%20m0%200%20h128%20m-158%200%20h20%20m138%200%20h20%20m-178%200%20q10%200%2010%2010%20m158%200%20q0%20-10%2010%20-10%20m-168%2010%20v12%20m158%200%20v-12%20m-158%2012%20q0%2010%2010%2010%20m138%200%20q10%200%2010%20-10%20m-148%2010%20h10%20m118%200%20h10%20m40%20-32%20h10%20m0%200%20h244%20m-274%200%20h20%20m254%200%20h20%20m-294%200%20q10%200%2010%2010%20m274%200%20q0%20-10%2010%20-10%20m-284%2010%20v12%20m274%200%20v-12%20m-274%2012%20q0%2010%2010%2010%20m254%200%20q10%200%2010%20-10%20m-264%2010%20h10%20m78%200%20h10%20m0%200%20h10%20m136%200%20h10%20m23%20-32%20h-3%22%2F%3E%3Cpolygon%20points%3D%22813%20225%20821%20221%20821%20229%22%2F%3E%3Cpolygon%20points%3D%22813%20225%20805%20221%20805%20229%22%2F%3E%3C%2Fsvg%3E)\n",
    "\n",
    "**For Example:** search for 'ide(\"power conversion efficiency\" OR PCE) AND organ* ' using (index_key='arxiv' elastic_id=default ) show (docs) estimate only"
   ]
  },
  {
   "cell_type": "markdown",
   "id": "8700f365-e212-4b78-bdc0-781c027f3775",
   "metadata": {
    "tags": []
   },
   "source": [
    "### **Searching for Documents on a Subject**\n",
    "\n",
    "\n",
    "\n",
    "In this section we search for documents in the arXiv.org data collection matching the input query. For each matched document we return the title, authors as well as the link to the original document on arXix.org\n",
    "\n",
    "***This example will demonstrate***\n",
    "\n",
    "1. How to address a specific data collection\n",
    "2. How to choose which component of the documents should be returned\n",
    "3. How to iterate through the complete data collection by fetching page_size=50 results at the time"
   ]
  },
  {
   "cell_type": "markdown",
   "id": "743ea361-1e02-4795-a0b1-1764e69c7aa1",
   "metadata": {},
   "source": [
    "First we will run and get an estimate of how many documents may appear in the search so we know we are pulling back a manageable amount"
   ]
  },
  {
   "cell_type": "code",
   "execution_count": null,
   "id": "4f492f6b-d7ab-4981-a81c-4ed42eb82c81",
   "metadata": {},
   "outputs": [],
   "source": [
    "%adccl search for 'ide(\"power conversion efficiency\" OR PCE) AND organ* ' using \\\n",
    "(index_key='arxiv' elastic_id=default ) show (docs) estimate only"
   ]
  },
  {
   "cell_type": "markdown",
   "id": "d52fd429-85b2-4f5d-a73a-1d3f37d1cbf3",
   "metadata": {},
   "source": [
    "### Retrieving results ###\n",
    "Now we will pull back all results, if we do not use the `return as data` clause the results will be returned as pandas styler object."
   ]
  },
  {
   "cell_type": "code",
   "execution_count": null,
   "id": "97e328f1-ac99-4d67-8517-64ca56dba2d5",
   "metadata": {
    "scrolled": true,
    "tags": []
   },
   "outputs": [],
   "source": [
    "df_styler= %adccl search for 'ide(\"power conversion efficiency\" OR PCE) AND organ* ' using \\\n",
    "(index_key='arxiv' elastic_id=default edit_distance=20 ) show (data docs) "
   ]
  },
  {
   "cell_type": "markdown",
   "id": "1683041a-8cf5-418f-9232-5902b0ae4ef4",
   "metadata": {},
   "source": [
    "The Styler object can be viewed straight away or assigned as a variable, to extract the raw data we would reference `df_styler.data` to return the base data in a data frame.\n",
    "make sure the cell you are referencing has scrolling enalbled by setting the properties for the cell, this way you can scroll through all the data, a window rather than taking up the entire notebook."
   ]
  },
  {
   "cell_type": "code",
   "execution_count": null,
   "id": "ee2cc625-b015-4b2f-b097-0b9fa2f23946",
   "metadata": {
    "scrolled": true,
    "tags": []
   },
   "outputs": [],
   "source": [
    "df_styler"
   ]
  },
  {
   "cell_type": "markdown",
   "id": "42c838be-9fb3-4d3b-b624-80e2b2489322",
   "metadata": {},
   "source": [
    "### Simply viewing the Results ###\n",
    "here we will run the search straight from the magic command view it straight away"
   ]
  },
  {
   "cell_type": "code",
   "execution_count": null,
   "id": "eb4c3915-4440-4e41-a3a0-b0952113909f",
   "metadata": {},
   "outputs": [],
   "source": [
    "%adccl search for '\" carbon capture membrane\" ' using (index_key='arxiv' elastic_id=default  ) show (data docs)  "
   ]
  },
  {
   "cell_type": "markdown",
   "id": "af894515-2b5d-49cd-97f1-282714cc5d60",
   "metadata": {},
   "source": [
    "## **Search _Ibuprofen_ on PubChem** \n",
    "\n",
    "In this section we search for all PubChem entries which contain the string _Ibuprofen_.\n",
    "\n",
    "In the results table we see the name of the chemical, its molecule SMILES and some properties such as the molecular weight and the solubility.\n"
   ]
  },
  {
   "cell_type": "code",
   "execution_count": null,
   "id": "a2c1e2c1-c938-48bb-baba-325620f71911",
   "metadata": {
    "scrolled": true,
    "tags": []
   },
   "outputs": [],
   "source": [
    "%adccl SEARCH FOR  'Ibuprofen' USING (index_key='pubchem')   SHOW (data) "
   ]
  },
  {
   "cell_type": "markdown",
   "id": "2133fdd5-1533-4198-8bf9-5df1a0a3907d",
   "metadata": {},
   "source": [
    "### Working with the results as Data ###\n",
    "By using the `return as data` clause we will return the data as a raw data frame , this way we will be able to pass it to other utilities."
   ]
  },
  {
   "cell_type": "code",
   "execution_count": null,
   "id": "18caff2e-5f7d-4c45-8731-e0487e8208f4",
   "metadata": {},
   "outputs": [],
   "source": [
    "smiles_molecules = %adccl search for 'identifiers._name:\"smiles#ccc(coc(=o)cs)(c(=o)c(=o)cs)c(=o)c(=o)cs\" ' using (index_key='patent-uspto-smiles') show (data) return as data"
   ]
  },
  {
   "cell_type": "code",
   "execution_count": null,
   "id": "f9353c38-2bc5-48cf-9a49-510dbe40efcc",
   "metadata": {},
   "outputs": [],
   "source": [
    "display(smiles_molecules)"
   ]
  },
  {
   "cell_type": "markdown",
   "id": "88006b59-5d61-47aa-accd-467ef63c6390",
   "metadata": {},
   "source": [
    "### Displaying the molecules in a viewer ###\n",
    "Now we will view the molecules and select to subset the moleculess for further viewing."
   ]
  },
  {
   "cell_type": "code",
   "execution_count": null,
   "id": "95bc4bad-158a-41b2-99a6-a4b0b1c24360",
   "metadata": {},
   "outputs": [],
   "source": [
    "\n",
    "%adccl show molecules using dataframe smiles_molecules"
   ]
  },
  {
   "cell_type": "markdown",
   "id": "4aa8081c-e339-4bf5-9c2c-4f442cfb7db3",
   "metadata": {},
   "source": [
    "## **Now We display via mols2grid object and do selections to a data frame** \n",
    "\n"
   ]
  },
  {
   "cell_type": "code",
   "execution_count": null,
   "id": "79e93e24-a0e9-465b-8680-0fded813fbc9",
   "metadata": {},
   "outputs": [],
   "source": [
    "x = %adccl show molecules using dataframe smiles_molecules as molsobject"
   ]
  },
  {
   "cell_type": "code",
   "execution_count": null,
   "id": "db773284-037e-4528-9022-7fe3f0f11b76",
   "metadata": {},
   "outputs": [],
   "source": [
    "x.display(**{'subset': ['NAME']})"
   ]
  },
  {
   "cell_type": "markdown",
   "id": "16bb52f0-8442-40ca-9d5a-89101511b914",
   "metadata": {},
   "source": [
    "Select an option then run the next celll"
   ]
  },
  {
   "cell_type": "code",
   "execution_count": null,
   "id": "2e427648-8c73-4ce1-999f-774e53218423",
   "metadata": {},
   "outputs": [],
   "source": [
    "x.get_selection()"
   ]
  },
  {
   "cell_type": "code",
   "execution_count": null,
   "id": "542c7a83-1cd3-48e6-b079-b84cc66c7146",
   "metadata": {},
   "outputs": [],
   "source": []
  },
  {
   "cell_type": "code",
   "execution_count": null,
   "id": "da3ecfcc-0578-4862-83de-bdbdcbddff29",
   "metadata": {},
   "outputs": [],
   "source": []
  },
  {
   "cell_type": "code",
   "execution_count": null,
   "id": "3f5251a2-9ae3-4cd1-9224-0d9c65c9ccf3",
   "metadata": {},
   "outputs": [],
   "source": []
  }
 ],
 "metadata": {
  "kernelspec": {
   "display_name": "openad",
   "language": "python",
   "name": "openad"
  },
  "language_info": {
   "codemirror_mode": {
    "name": "ipython",
    "version": 3
   },
   "file_extension": ".py",
   "mimetype": "text/x-python",
   "name": "python",
   "nbconvert_exporter": "python",
   "pygments_lexer": "ipython3",
   "version": "3.10.10"
  }
 },
 "nbformat": 4,
 "nbformat_minor": 5
}
