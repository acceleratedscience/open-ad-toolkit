{
 "cells": [
  {
   "cell_type": "markdown",
   "id": "8feab26e-1785-402f-83b0-9c3c5a524fc3",
   "metadata": {},
   "source": [
    "# AD4E-OpenToolkit Demonstration"
   ]
  },
  {
   "cell_type": "markdown",
   "id": "1b3f0d10-474d-42cd-a31d-b6889eb468ce",
   "metadata": {},
   "source": [
    "![](./media/AD_Banner.jpg)\n",
    "<a id=\"top\">"
   ]
  },
  {
   "cell_type": "markdown",
   "id": "bc76c3cb-4c43-4bda-9ad7-d66e14b6ba42",
   "metadata": {},
   "source": [
    "# ***What Commands Are Available  ?***"
   ]
  },
  {
   "cell_type": "code",
   "execution_count": null,
   "id": "dd832ca1-f667-4f54-9a0c-88bb3c0b9799",
   "metadata": {
    "tags": []
   },
   "outputs": [],
   "source": [
    "%adccl ?"
   ]
  },
  {
   "cell_type": "markdown",
   "id": "54cfb805-91b2-4723-9b2e-c82aa63adaf2",
   "metadata": {},
   "source": [
    "# ***Individual Toolkits Help***"
   ]
  },
  {
   "cell_type": "code",
   "execution_count": null,
   "id": "df17751f-3059-47a9-ac78-daea954f6d8a",
   "metadata": {},
   "outputs": [],
   "source": [
    "%adccl ? rxn"
   ]
  },
  {
   "cell_type": "markdown",
   "id": "da1a631c-44ce-4ff8-a071-90b140380877",
   "metadata": {},
   "source": [
    "# ***Working Within the Open ToolKit Environment***"
   ]
  },
  {
   "cell_type": "code",
   "execution_count": null,
   "id": "162edbdd-3469-468c-94db-bbc59c87e07b",
   "metadata": {},
   "outputs": [],
   "source": [
    "%adccl list workspaces"
   ]
  },
  {
   "cell_type": "code",
   "execution_count": null,
   "id": "0b8cc971-0da1-4128-8345-9e8fd288d71b",
   "metadata": {},
   "outputs": [],
   "source": [
    "%adccl list files "
   ]
  },
  {
   "cell_type": "code",
   "execution_count": null,
   "id": "72a6c751-654a-47da-b255-6f7b4131da96",
   "metadata": {},
   "outputs": [],
   "source": [
    "%adccl set context rxn"
   ]
  },
  {
   "cell_type": "markdown",
   "id": "a032d458-4a5d-443b-8f3e-676236298374",
   "metadata": {},
   "source": [
    "# ***Runs***"
   ]
  },
  {
   "cell_type": "code",
   "execution_count": null,
   "id": "102e0073-71ee-4ed4-bd9d-a3ea03a9ac5c",
   "metadata": {
    "tags": []
   },
   "outputs": [],
   "source": [
    "%adccl ? run"
   ]
  },
  {
   "cell_type": "code",
   "execution_count": null,
   "id": "8acb6a4e-db7b-4e73-993c-f6612757c4c5",
   "metadata": {},
   "outputs": [],
   "source": [
    "%adccl create run"
   ]
  },
  {
   "cell_type": "code",
   "execution_count": null,
   "id": "24b927b0-d7f3-4174-9f2c-7888452a5788",
   "metadata": {},
   "outputs": [],
   "source": [
    "%adccl list all toolkits"
   ]
  },
  {
   "cell_type": "code",
   "execution_count": null,
   "id": "5701c7bb-cb21-49d3-87ae-0343a2ef7d13",
   "metadata": {},
   "outputs": [],
   "source": [
    "%adccl List rxn models"
   ]
  },
  {
   "cell_type": "code",
   "execution_count": null,
   "id": "0a3f391c-b380-4d9b-b4c3-a74a5d2e8014",
   "metadata": {},
   "outputs": [],
   "source": [
    "%adccl list runs"
   ]
  },
  {
   "cell_type": "code",
   "execution_count": null,
   "id": "74aff36c-10bf-4c80-adc8-1c51f9337bb2",
   "metadata": {},
   "outputs": [],
   "source": [
    "%adccl save run as test_run3"
   ]
  },
  {
   "cell_type": "code",
   "execution_count": null,
   "id": "2d70dd78-f717-4f68-ad11-1b579c2c4d71",
   "metadata": {},
   "outputs": [],
   "source": [
    "%adccl run test_run3"
   ]
  },
  {
   "cell_type": "markdown",
   "id": "0e128d74-17fc-4b53-9995-8798b7719d39",
   "metadata": {},
   "source": [
    "# ***Deep Search to RXN Demonstration***\n",
    "\n",
    "Search for a Smiles definition of a Drug in <b>Deep Search</b> and determine retrosynthesis Paths in <b>RXN</b>"
   ]
  },
  {
   "cell_type": "code",
   "execution_count": null,
   "id": "65e1926d-af75-4b66-b46d-4966dc7a658a",
   "metadata": {},
   "outputs": [],
   "source": [
    "%adccl tell me the commands to  use deepsearch to identify the molecule for  Sibofimloc from the pubchem index  and with \\\n",
    "the rxn toolkit commands how would I predict retrosynthesis on the smiles definition of the molecule and the available options for the predict retro synthesis command"
   ]
  },
  {
   "cell_type": "markdown",
   "id": "013f99ed-8ecc-4dec-b427-48d4c6c2dd97",
   "metadata": {},
   "source": [
    "### ***Set the Tool Context to Deep Search***"
   ]
  },
  {
   "cell_type": "code",
   "execution_count": null,
   "id": "9ef34ebb-46a1-40eb-9ea2-b729a784861a",
   "metadata": {},
   "outputs": [],
   "source": [
    "%adccl remove toolkit ds4sd\n",
    "%adccl add toolkit ds4sd\n",
    "%adccl set context ds4sd "
   ]
  },
  {
   "cell_type": "markdown",
   "id": "a81eb4a6-5d28-4b5d-85ba-b7b06dc28f3c",
   "metadata": {},
   "source": [
    "### ***Run our Search and return Result to a data frame***"
   ]
  },
  {
   "cell_type": "code",
   "execution_count": null,
   "id": "27562449-7a5f-47da-9c91-2fc772ecab82",
   "metadata": {},
   "outputs": [],
   "source": [
    "result = %adccl SEARCH FOR  ' Sibofimloc' USING (index_key='pubchem')   SHOW (data)"
   ]
  },
  {
   "cell_type": "markdown",
   "id": "3d88c28f-39e4-4ae1-a067-812da2988034",
   "metadata": {},
   "source": [
    "### ***Display Results***\n",
    "use the integrated Mols2grid enhanced by IBM Research to dsiplay result and select the molecule we wish to predict retrosynthesis on"
   ]
  },
  {
   "cell_type": "code",
   "execution_count": null,
   "id": "55942c18-225a-46bf-a3b8-b02c628a1a18",
   "metadata": {},
   "outputs": [],
   "source": [
    "result_display = %adccl show molecules using dataframe result as molsobject\n",
    "result_display.display()"
   ]
  },
  {
   "cell_type": "markdown",
   "id": "c4a966f4-3d71-43eb-86bf-6df7d8ae3668",
   "metadata": {},
   "source": [
    "### ***Capture the Selection and Display***"
   ]
  },
  {
   "cell_type": "code",
   "execution_count": null,
   "id": "93226cd8-56b9-4db1-bf52-3f30e9a11568",
   "metadata": {},
   "outputs": [],
   "source": [
    "target_string=result_display.get_selection().loc[0][\"SMILES\"]\n",
    "display(target_string)"
   ]
  },
  {
   "cell_type": "markdown",
   "id": "7b4b5f1a-0d80-458b-b5a8-ca93fbc88441",
   "metadata": {},
   "source": [
    "### ***Set Context to the RXN Toolkit and run Retro Synthesis Prediction***"
   ]
  },
  {
   "cell_type": "code",
   "execution_count": null,
   "id": "7adbd966-2314-4ac9-bcc5-3097ba5a9d61",
   "metadata": {},
   "outputs": [],
   "source": [
    "%adccl set context rxn\n",
    "%adccl predict retrosynthesis '{target_string}' using( max_steps=3 )"
   ]
  },
  {
   "cell_type": "markdown",
   "id": "95e3d699-abff-4d79-adde-ebfd94c6f420",
   "metadata": {},
   "source": [
    "## Interpreting  Recipes"
   ]
  },
  {
   "cell_type": "code",
   "execution_count": null,
   "id": "87dffbe7-e832-4205-abdc-dabb7b987805",
   "metadata": {},
   "outputs": [],
   "source": [
    "%adccl interpret recipe 'To a stirred solution of 7-(difluoromethylsulfonyl)-4-fluoro-indan-1-one (110 mg, 0.42 mmol)\\\n",
    "in methanol (4 mL) was added sodium borohydride \\\n",
    "(24 mg, 0.62 mmol). The reaction mixture was stirred at ambient temperature for 1 hour.'"
   ]
  },
  {
   "cell_type": "code",
   "execution_count": null,
   "id": "aadc36c0-4642-451a-8fad-c9ad2acd0bda",
   "metadata": {},
   "outputs": [],
   "source": [
    "import pandas\n",
    "lst = ['BrBr.c1ccc2cc3ccccc3cc2c1CCO' ,'Cl.CCC(=O)NCCC.O'] \n",
    "batch_list = pandas.DataFrame(lst,columns=['reactions'])\n",
    "%adccl predict reaction topn in batch from dataframe batch_list using (topn=6)"
   ]
  },
  {
   "cell_type": "markdown",
   "id": "dd026f02-2589-478b-b57b-f87ccf4352e5",
   "metadata": {},
   "source": [
    "## Predicting Reaction Outcomes"
   ]
  },
  {
   "cell_type": "markdown",
   "id": "06437709-ed2c-45a1-bdd8-8152e343495f",
   "metadata": {},
   "source": [
    "### Single Predictions"
   ]
  },
  {
   "cell_type": "code",
   "execution_count": null,
   "id": "921fff0f-796b-4923-a1b6-d3ddb0298a34",
   "metadata": {},
   "outputs": [],
   "source": [
    "%adccl  predict reaction 'Cl.CCC(=O)NCCC.O'"
   ]
  },
  {
   "cell_type": "code",
   "execution_count": null,
   "id": "868c2adb-ae99-4a95-95bb-f86c7c3fc974",
   "metadata": {},
   "outputs": [],
   "source": [
    "%adccl predict reaction in batch from file 'reactions.csv'"
   ]
  },
  {
   "cell_type": "markdown",
   "id": "94175849-50e8-4d5d-bc97-9545d38e7116",
   "metadata": {},
   "source": [
    "### Batch Predictions"
   ]
  },
  {
   "cell_type": "code",
   "execution_count": null,
   "id": "28425cd2-289a-41cf-9017-4e9a6e48177b",
   "metadata": {},
   "outputs": [],
   "source": [
    "%adccl predict reaction in batch from list ['BrBr.c1ccc2cc3ccccc3cc2c1CCO' ,'Cl.CCC(=O)NCCC.O'] "
   ]
  },
  {
   "cell_type": "markdown",
   "id": "76c2a06c-d69e-4758-a66c-069e9513b760",
   "metadata": {},
   "source": [
    "### Using the [use_saved] clause"
   ]
  },
  {
   "cell_type": "markdown",
   "id": "3be03ac3-9c8a-4692-8d53-04202df23838",
   "metadata": {},
   "source": [
    "Providing the ability to reuse recently run previous reaction runs"
   ]
  },
  {
   "cell_type": "code",
   "execution_count": null,
   "id": "cf813e5f-24b2-4757-9d31-1d8756b7b994",
   "metadata": {},
   "outputs": [],
   "source": [
    "%adccl predict reaction in batch  from list ['BrBr.c1ccc2cc3ccccc3cc2c1CCO' ,'BrBr.c1ccc2cc3ccccc3cc2c1','Cl.CCC(=O)NCCC.O'] use_saved"
   ]
  },
  {
   "cell_type": "code",
   "execution_count": null,
   "id": "b93788a6-25aa-4898-8a73-c3ed20807232",
   "metadata": {},
   "outputs": [],
   "source": []
  }
 ],
 "metadata": {
  "kernelspec": {
   "display_name": "myenv",
   "language": "python",
   "name": "myenv"
  },
  "language_info": {
   "codemirror_mode": {
    "name": "ipython",
    "version": 3
   },
   "file_extension": ".py",
   "mimetype": "text/x-python",
   "name": "python",
   "nbconvert_exporter": "python",
   "pygments_lexer": "ipython3",
   "version": "3.10.10"
  }
 },
 "nbformat": 4,
 "nbformat_minor": 5
}
