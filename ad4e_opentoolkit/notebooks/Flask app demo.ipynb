{
 "cells": [
  {
   "cell_type": "markdown",
   "id": "dc82446c",
   "metadata": {},
   "source": [
    "# Mols2grid"
   ]
  },
  {
   "cell_type": "code",
   "execution_count": null,
   "id": "47307cc6",
   "metadata": {
    "tags": []
   },
   "outputs": [],
   "source": [
    "result = %openad show molecules using file '_mols/base_molecules.sdf' as molsobject\n",
    "result.display()"
   ]
  },
  {
   "cell_type": "code",
   "execution_count": null,
   "id": "3ac81264",
   "metadata": {
    "tags": []
   },
   "outputs": [],
   "source": [
    "selection = result.get_selection()\n",
    "display(selection)"
   ]
  },
  {
   "cell_type": "markdown",
   "id": "a7c5f49c",
   "metadata": {},
   "source": [
    "<br><br><br><br>\n",
    "# Data Viewer"
   ]
  },
  {
   "cell_type": "code",
   "execution_count": null,
   "id": "544045f2",
   "metadata": {},
   "outputs": [],
   "source": [
    "result = %openad display data 'data/sample1.csv'"
   ]
  },
  {
   "cell_type": "code",
   "execution_count": null,
   "id": "f210516c",
   "metadata": {
    "scrolled": false
   },
   "outputs": [],
   "source": [
    "%openad result open"
   ]
  },
  {
   "cell_type": "code",
   "execution_count": null,
   "id": "bf949e5c",
   "metadata": {},
   "outputs": [],
   "source": [
    "%openad result open"
   ]
  },
  {
   "cell_type": "markdown",
   "id": "9fedd931",
   "metadata": {},
   "source": [
    "<br><br><br><br>\n",
    "# Example app"
   ]
  },
  {
   "cell_type": "code",
   "execution_count": null,
   "id": "9c4bdf5b",
   "metadata": {},
   "outputs": [],
   "source": [
    "result = %openad flask example"
   ]
  },
  {
   "cell_type": "code",
   "execution_count": null,
   "id": "f4158406",
   "metadata": {},
   "outputs": [],
   "source": [
    "submitted_text = None\n",
    "if 'form' in result:\n",
    "    if 'someAjaxInput' in result['form']:\n",
    "        submitted_text = result['form']['someAjaxInput']\n",
    "    elif 'someInput' in result['form']:\n",
    "        submitted_text = result['form']['someInput']\n",
    "else:\n",
    "    print('Form not submitted.')\n",
    "\n",
    "if submitted_text:    \n",
    "    print(f'The submited value: \"{submitted_text}\"')\n",
    "    print('\\nThe returned result object looks like this:')\n",
    "    print(result)"
   ]
  }
 ],
 "metadata": {
  "kernelspec": {
   "display_name": "venv",
   "language": "python",
   "name": "venv"
  },
  "language_info": {
   "codemirror_mode": {
    "name": "ipython",
    "version": 3
   },
   "file_extension": ".py",
   "mimetype": "text/x-python",
   "name": "python",
   "nbconvert_exporter": "python",
   "pygments_lexer": "ipython3",
   "version": "3.11.2"
  }
 },
 "nbformat": 4,
 "nbformat_minor": 5
}
