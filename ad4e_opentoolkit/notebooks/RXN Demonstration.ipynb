{
 "cells": [
  {
   "cell_type": "markdown",
   "id": "8feab26e-1785-402f-83b0-9c3c5a524fc3",
   "metadata": {},
   "source": [
    "# RXN and Common Client"
   ]
  },
  {
   "cell_type": "markdown",
   "id": "1b3f0d10-474d-42cd-a31d-b6889eb468ce",
   "metadata": {},
   "source": [
    "![](./media/blog_rxn_automatically_cleaning_1920x1060_11b17a1b75.gif)\n",
    "<a id=\"top\">"
   ]
  },
  {
   "cell_type": "code",
   "execution_count": null,
   "id": "dd832ca1-f667-4f54-9a0c-88bb3c0b9799",
   "metadata": {},
   "outputs": [],
   "source": [
    "%openad set workspace default"
   ]
  },
  {
   "cell_type": "code",
   "execution_count": null,
   "id": "24b927b0-d7f3-4174-9f2c-7888452a5788",
   "metadata": {},
   "outputs": [],
   "source": [
    "%openad add toolkit rxn"
   ]
  },
  {
   "cell_type": "code",
   "execution_count": null,
   "id": "8364ac38-e5f3-4fcf-a634-487b6d421bff",
   "metadata": {},
   "outputs": [],
   "source": [
    "%openad tell me how to create a workspace and run retrosynthesis with the predict retro command\n"
   ]
  },
  {
   "cell_type": "code",
   "execution_count": null,
   "id": "b089a7c4-be38-4447-9e05-335e8f4d08e6",
   "metadata": {},
   "outputs": [],
   "source": [
    "%openad ? rxn"
   ]
  },
  {
   "cell_type": "code",
   "execution_count": null,
   "id": "54ebf6bc-930f-4182-aa93-c18f77297adc",
   "metadata": {},
   "outputs": [],
   "source": [
    "%openad set context rxn"
   ]
  },
  {
   "cell_type": "code",
   "execution_count": null,
   "id": "32d57cbe-36a3-4472-bbb4-4bb26a592c2c",
   "metadata": {},
   "outputs": [],
   "source": [
    "%openad tell me how to predict a chemical reaction in batch using rxn"
   ]
  },
  {
   "cell_type": "code",
   "execution_count": null,
   "id": "8893fa59-1def-45ef-8e59-c71405af4f80",
   "metadata": {},
   "outputs": [],
   "source": [
    "%openad create workspace default_rxn"
   ]
  },
  {
   "cell_type": "code",
   "execution_count": null,
   "id": "17d816e2-21ad-4927-9f61-8ab5c2568bc5",
   "metadata": {},
   "outputs": [],
   "source": [
    "openad add toolkit ds4sd"
   ]
  },
  {
   "cell_type": "code",
   "execution_count": null,
   "id": "a5e69a41-fd2a-466a-bf60-a8bcaf0dd7e7",
   "metadata": {},
   "outputs": [],
   "source": [
    "%openad tell me the syntax for the command predict retrosynthesis with Options"
   ]
  },
  {
   "cell_type": "code",
   "execution_count": null,
   "id": "9aeae512-2716-4bb8-abac-03d8a583ee9f",
   "metadata": {},
   "outputs": [],
   "source": []
  },
  {
   "cell_type": "code",
   "execution_count": null,
   "id": "65e1926d-af75-4b66-b46d-4966dc7a658a",
   "metadata": {},
   "outputs": [],
   "source": [
    "%openad tell me the commands  to create a new workspace, use deepsearch to identify the molecule for  Sibofimloc from its repository  and with \\\n",
    "the rxn toolkit commands how would I predict retrosynthesis on the smiles definition of the molecule"
   ]
  },
  {
   "cell_type": "code",
   "execution_count": null,
   "id": "9ef34ebb-46a1-40eb-9ea2-b729a784861a",
   "metadata": {},
   "outputs": [],
   "source": [
    "%openad set context ds4sd"
   ]
  },
  {
   "cell_type": "code",
   "execution_count": null,
   "id": "27562449-7a5f-47da-9c91-2fc772ecab82",
   "metadata": {},
   "outputs": [],
   "source": [
    "result=%openad SEARCH FOR  ' Sibofimloc' USING (index_key='pubchem')   SHOW (data) return as data"
   ]
  },
  {
   "cell_type": "code",
   "execution_count": null,
   "id": "e63e8924-f0b0-48e5-b624-700fad5f9ba8",
   "metadata": {},
   "outputs": [],
   "source": [
    "result"
   ]
  },
  {
   "cell_type": "code",
   "execution_count": null,
   "id": "55942c18-225a-46bf-a3b8-b02c628a1a18",
   "metadata": {},
   "outputs": [],
   "source": [
    "%openad show molecules using dataframe result"
   ]
  },
  {
   "cell_type": "code",
   "execution_count": null,
   "id": "93226cd8-56b9-4db1-bf52-3f30e9a11568",
   "metadata": {},
   "outputs": [],
   "source": [
    "target_string=result.loc[0][\"SMILES\"]"
   ]
  },
  {
   "cell_type": "code",
   "execution_count": null,
   "id": "8776804e-0c55-4c2a-922b-feb32713b1e0",
   "metadata": {},
   "outputs": [],
   "source": [
    "display(target_string)"
   ]
  },
  {
   "cell_type": "code",
   "execution_count": null,
   "id": "7adbd966-2314-4ac9-bcc5-3097ba5a9d61",
   "metadata": {},
   "outputs": [],
   "source": [
    "%openad set context rxn"
   ]
  },
  {
   "cell_type": "code",
   "execution_count": null,
   "id": "21e9e8bc-57ae-4771-8df2-0194f11f7af4",
   "metadata": {},
   "outputs": [],
   "source": [
    "%openad predict retrosynthesis '{target_string}' using( max_steps=5 )"
   ]
  },
  {
   "cell_type": "markdown",
   "id": "f54a23c6-af48-4ae0-b047-107f432882d7",
   "metadata": {},
   "source": [
    "## RXN Administrative Functions"
   ]
  },
  {
   "cell_type": "code",
   "execution_count": null,
   "id": "9726ad22-5fc7-4dfe-8f9c-57f17d2b47ae",
   "metadata": {},
   "outputs": [],
   "source": [
    "%openad list rxn models"
   ]
  },
  {
   "cell_type": "markdown",
   "id": "95e3d699-abff-4d79-adde-ebfd94c6f420",
   "metadata": {},
   "source": [
    "## Interpreting  Recipes"
   ]
  },
  {
   "cell_type": "code",
   "execution_count": null,
   "id": "87dffbe7-e832-4205-abdc-dabb7b987805",
   "metadata": {},
   "outputs": [],
   "source": [
    "%openad interpret recipe 'To a stirred solution of 7-(difluoromethylsulfonyl)-4-fluoro-indan-1-one (110 mg, 0.42 mmol)\\\n",
    "in methanol (4 mL) was added sodium borohydride \\\n",
    "(24 mg, 0.62 mmol). The reaction mixture was stirred at ambient temperature for 1 hour.'"
   ]
  },
  {
   "cell_type": "markdown",
   "id": "d0802fa5-10c5-4917-8666-98e2f051ab5b",
   "metadata": {},
   "source": [
    "## Working with Predictions and Batch"
   ]
  },
  {
   "cell_type": "markdown",
   "id": "dd026f02-2589-478b-b57b-f87ccf4352e5",
   "metadata": {},
   "source": [
    "## Predicting Reaction Outcomes"
   ]
  },
  {
   "cell_type": "code",
   "execution_count": null,
   "id": "89e1192e-01da-4023-98b9-84800db337b7",
   "metadata": {},
   "outputs": [],
   "source": [
    "%openad Tell me about predicting Reactions and the available commands for both single and batch predictions"
   ]
  },
  {
   "cell_type": "markdown",
   "id": "06437709-ed2c-45a1-bdd8-8152e343495f",
   "metadata": {},
   "source": [
    "### Single Predictions"
   ]
  },
  {
   "cell_type": "code",
   "execution_count": null,
   "id": "921fff0f-796b-4923-a1b6-d3ddb0298a34",
   "metadata": {},
   "outputs": [],
   "source": [
    "%openad  predict reaction 'Cl.CCC(=O)NCCC.O'"
   ]
  },
  {
   "cell_type": "markdown",
   "id": "94175849-50e8-4d5d-bc97-9545d38e7116",
   "metadata": {},
   "source": [
    "### Batch Predictions"
   ]
  },
  {
   "cell_type": "code",
   "execution_count": null,
   "id": "28425cd2-289a-41cf-9017-4e9a6e48177b",
   "metadata": {},
   "outputs": [],
   "source": [
    "%openad predict reaction in batch  from list ['BrBr.c1ccc2cc3ccccc3cc2c1CCO' ,'Cl.CCC(=O)NCCC.O'] "
   ]
  },
  {
   "cell_type": "code",
   "execution_count": null,
   "id": "c8c590e9-360a-48f0-8a30-454196eac7fe",
   "metadata": {},
   "outputs": [],
   "source": []
  },
  {
   "cell_type": "code",
   "execution_count": null,
   "id": "345c13d9-23b9-440d-93f2-3f012cb2e268",
   "metadata": {},
   "outputs": [],
   "source": [
    "%openad remove toolkit rxn\n",
    "%openad add toolkit rxn\n",
    "%openad set context rxn"
   ]
  },
  {
   "cell_type": "markdown",
   "id": "76c2a06c-d69e-4758-a66c-069e9513b760",
   "metadata": {},
   "source": [
    "### Using the [use_saved] clause"
   ]
  },
  {
   "cell_type": "code",
   "execution_count": null,
   "id": "cf813e5f-24b2-4757-9d31-1d8756b7b994",
   "metadata": {},
   "outputs": [],
   "source": [
    "%openad predict reaction in batch  from list ['BrBr.c1ccc2cc3ccccc3cc2c1CCO' ,'BrBr.c1ccc2cc3ccccc3cc2c1','Cl.CCC(=O)NCCC.O'] use_saved"
   ]
  },
  {
   "cell_type": "code",
   "execution_count": null,
   "id": "de5bd75a-fa00-4e54-9711-2933105b6560",
   "metadata": {},
   "outputs": [],
   "source": [
    "%openad predict reaction 'BrBr.c1ccc2cc3ccccc3cc2c1' "
   ]
  },
  {
   "cell_type": "code",
   "execution_count": null,
   "id": "89659e93-cac1-4146-90cd-df82140c1884",
   "metadata": {},
   "outputs": [],
   "source": [
    "%openad predict reaction 'BrBr.c1ccc2cc3ccccc3cc2c1' use_saved"
   ]
  },
  {
   "cell_type": "markdown",
   "id": "432a8b1b-d553-4593-a2fd-16984a038682",
   "metadata": {},
   "source": [
    "## Recall Saved Results if Available otherwise run the prediction"
   ]
  },
  {
   "cell_type": "code",
   "execution_count": null,
   "id": "438287cb-0fc5-46c0-8dd1-123ce6f9df39",
   "metadata": {},
   "outputs": [],
   "source": [
    "%openad predict reaction in batch  from list ['BrBr.c1ccc2cc3ccccc3cc2c1CCO' ,'BrBr.c1ccc2cc3ccccc3cc2c1','Cl.CCC(=O)NCCC.O'] use_saved"
   ]
  },
  {
   "cell_type": "markdown",
   "id": "1df7b9c4-f12f-4c46-b1aa-4efe61f80ebd",
   "metadata": {},
   "source": [
    "## Working With Predictions and Topn "
   ]
  },
  {
   "cell_type": "code",
   "execution_count": null,
   "id": "35803778-3d8f-468d-9f1d-26f98eb56bd3",
   "metadata": {},
   "outputs": [],
   "source": [
    "%openad ? predict reaction topn"
   ]
  },
  {
   "cell_type": "code",
   "execution_count": null,
   "id": "2116d35d-ca5f-4489-9e14-bcc044ae6407",
   "metadata": {},
   "outputs": [],
   "source": [
    "%openad predict reaction topn in batch  from list ['BrBr.c1ccc2cc3ccccc3cc2c1CCO' ,'BrBr.c1ccc2cc3ccccc3cc2c1','Cl.CCC(=O)NCCC.O'] using (topn=6) "
   ]
  },
  {
   "cell_type": "code",
   "execution_count": null,
   "id": "83510fa1-3889-4161-b770-f2042f18ebf5",
   "metadata": {},
   "outputs": [],
   "source": [
    "%openad ?"
   ]
  },
  {
   "cell_type": "code",
   "execution_count": null,
   "id": "16541239",
   "metadata": {},
   "outputs": [],
   "source": [
    "%openad ? rxn"
   ]
  },
  {
   "cell_type": "code",
   "execution_count": null,
   "id": "a1503878-9ae2-49d8-955e-38f9100809e6",
   "metadata": {},
   "outputs": [],
   "source": [
    "%openad list toolkits"
   ]
  },
  {
   "cell_type": "code",
   "execution_count": null,
   "id": "86e561d7-95af-4a56-a4ce-7f7216e70244",
   "metadata": {},
   "outputs": [],
   "source": [
    "%openad list all toolkits"
   ]
  },
  {
   "cell_type": "code",
   "execution_count": null,
   "id": "2a5ae5b1-e387-49cf-8df7-d82bda605715",
   "metadata": {},
   "outputs": [],
   "source": []
  },
  {
   "cell_type": "code",
   "execution_count": null,
   "id": "01db3e06-4489-4a23-a0f0-5841dc034c40",
   "metadata": {},
   "outputs": [],
   "source": []
  }
 ],
 "metadata": {
  "kernelspec": {
   "display_name": "openad",
   "language": "python",
   "name": "python3"
  },
  "language_info": {
   "codemirror_mode": {
    "name": "ipython",
    "version": 3
   },
   "file_extension": ".py",
   "mimetype": "text/x-python",
   "name": "python",
   "nbconvert_exporter": "python",
   "pygments_lexer": "ipython3",
   "version": "3.10.10"
  }
 },
 "nbformat": 4,
 "nbformat_minor": 5
}
