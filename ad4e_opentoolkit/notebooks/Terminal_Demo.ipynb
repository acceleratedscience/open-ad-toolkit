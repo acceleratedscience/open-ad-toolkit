{
 "cells": [
  {
   "cell_type": "markdown",
   "id": "dab28faf-fc4a-40a1-a31d-bbc016a8f652",
   "metadata": {},
   "source": [
    "# Learn to Use Common Client from an Terminal"
   ]
  },
  {
   "cell_type": "code",
   "execution_count": 27,
   "id": "e440b7aa-fd85-468d-b3f1-db13d6043b9b",
   "metadata": {},
   "outputs": [],
   "source": [
    "%run adccl.ipynb"
   ]
  },
  {
   "cell_type": "code",
   "execution_count": 26,
   "id": "8b72f6c9-1e83-4f25-9bed-25aef18bef72",
   "metadata": {
    "tags": []
   },
   "outputs": [
    {
     "data": {
      "application/javascript": [
       "\n",
       "// Scan the entire notebook for cells that have refresh tags and execute them\n",
       "\n",
       "window.findCellIndicesByTag = function findCellIndicesByTag(tagName) {\n",
       "  return (IPython.notebook.get_cells()\n",
       "    .filter(\n",
       "({metadata: {tags}}) => tags && tags.includes(tagName)\n",
       "  )\n",
       "   .map((cell) => IPython.notebook.find_cell_index(cell))\n",
       "  );\n",
       "};\n",
       "\n",
       "window.refresh = function runRefreshCells() {\n",
       "    var c = window.findCellIndicesByTag('refresh');\n",
       "    IPython.notebook.execute_cells(c);\n",
       "};\n",
       "\n",
       "\n",
       "// Search for a Markdown cell that contains a comment line with the name of the code we are looking for\n",
       "\n",
       "window.copySearch = function copySearch(id) {\n",
       "    var cells = IPython.notebook.get_cells();\n",
       "    for(var i in cells) {\n",
       "        var cell = cells[i];\n",
       "        if (cell['cell_type'] == 'markdown') {\n",
       "            var text = cell.get_text();\n",
       "            var n = text.search(\"<!--\"+id+\"-->\");\n",
       "            if (n != -1) {  \n",
       "                var content = text.replace(/(^<!.*-->.*\\n?)|(```.*\\n?)/g, \"\");\n",
       "                navigator.clipboard.writeText(content);  \n",
       "                return\n",
       "                }\n",
       "        }\n",
       "    }\n",
       "    navigator.clipboard.writeText(\"Cell \" + id + \" not found\"); \n",
       "}\n",
       "\n",
       "// Highlight the background of the current cell and copy the contents onto the clipboard\n",
       "\n",
       "window.clipline = function clipline(codeIndex) {\n",
       "    var cell = document.getElementById(codeIndex);\n",
       "    var code = cell.textContent;\n",
       "    var parent = cell.parentNode;\n",
       "    parent.style.backgroundColor = \"lightBlue\"; // backcolor\n",
       "    navigator.clipboard.writeText(code);\n",
       "}\n",
       "\n",
       "window.reset = function reset(codeIndex) {\n",
       "    var cell = document.getElementById(codeIndex);\n",
       "    var parent = cell.parentNode;\n",
       "    parent.style.backgroundColor = \"#000000\" // backcolor\n",
       "}\n",
       "window.reset2 = function reset2(codeIndex) {\n",
       "    var cell = document.getElementById(codeIndex);\n",
       "    var parent = cell.parentNode;\n",
       "    parent.style.backgroundColor = \"white\" // backcolor\n",
       "}\n"
      ],
      "text/plain": [
       "<IPython.core.display.Javascript object>"
      ]
     },
     "metadata": {},
     "output_type": "display_data"
    }
   ],
   "source": [
    "%run refresh.ipynb"
   ]
  },
  {
   "cell_type": "code",
   "execution_count": 25,
   "id": "a09f4c37-bc2f-4ac4-9880-a0570665e618",
   "metadata": {
    "tags": []
   },
   "outputs": [
    {
     "data": {
      "application/vnd.jupyter.widget-view+json": {
       "model_id": "ac8ec03931254c2e9ee01ec4c78963bc",
       "version_major": 2,
       "version_minor": 0
      },
      "text/plain": [
       "Button(description='Linux Command Line', style=ButtonStyle())"
      ]
     },
     "metadata": {},
     "output_type": "display_data"
    },
    {
     "data": {
      "application/vnd.jupyter.widget-view+json": {
       "model_id": "6a4ff4eb66544fccb0a1da81acfe8216",
       "version_major": 2,
       "version_minor": 0
      },
      "text/plain": [
       "Output()"
      ]
     },
     "metadata": {},
     "output_type": "display_data"
    }
   ],
   "source": [
    "import ipywidgets as widgets\n",
    "from IPython.display import HTML\n",
    "\n",
    "button = widgets.Button(description=\"Linux Command Line\")\n",
    "output = widgets.Output()\n",
    "display(button, output)\n",
    "def on_button_clicked(b):\n",
    "        ! gnome-terminal --window-with-profile=db2pot --working-directory=./\n",
    "button.on_click(on_button_clicked)"
   ]
  },
  {
   "cell_type": "markdown",
   "id": "6b2b993f-e801-457c-a9d6-892c98975f1f",
   "metadata": {
    "tags": []
   },
   "source": [
    "<button  data-commandlinker-command=\"terminal:create-new\"  href=\"\"> Launch Jupyterlab Terminal </button>"
   ]
  },
  {
   "cell_type": "markdown",
   "id": "53e67d6f-cd78-4cef-a919-97ff465b90df",
   "metadata": {},
   "source": [
    "## Launching the Command Line Application"
   ]
  },
  {
   "cell_type": "code",
   "execution_count": null,
   "id": "77c44390-c6af-4f2e-9880-880817fb361b",
   "metadata": {},
   "outputs": [],
   "source": []
  },
  {
   "cell_type": "code",
   "execution_count": 1,
   "id": "b9b5bdcd-590b-49d2-8c62-f722cc003349",
   "metadata": {
    "tags": []
   },
   "outputs": [
    {
     "data": {
      "text/html": [
       "<div style=\"margin-left: 35px; border-style: solid; border-width: 1px; padding: 10px;background-Color:black\" >\n",
       "<p style=\" color:white ;font-family:courier;background-Color:black\"\n",
       "<pre id=1.1 onmousedown=\"window.clipline(1.1)\" onmouseup=\"window.reset(1.1)\">\n",
       "python3 main.py\n"
      ],
      "text/plain": [
       "<IPython.core.display.HTML object>"
      ]
     },
     "metadata": {},
     "output_type": "display_data"
    }
   ],
   "source": [
    "%%html\n",
    "<div style=\"margin-left: 35px; border-style: solid; border-width: 1px; padding: 10px;background-Color:black\" >\n",
    "<p style=\" color:white ;font-family:courier;background-Color:black\"\n",
    "<pre id=1.1 onmousedown=\"window.clipline(1.1)\" onmouseup=\"window.reset(1.1)\">\n",
    "python3 main.py"
   ]
  },
  {
   "cell_type": "code",
   "execution_count": 2,
   "id": "0af9a542-4698-4493-8cb0-312e877d3f4c",
   "metadata": {},
   "outputs": [
    {
     "data": {
      "text/html": [
       "<div style=\"margin-left: 35px; border-style: solid; border-width: 1px; padding: 10px;background-Color:black\" >\n",
       "<p style=\" color:white ;font-family:courier;background-Color:black\"\n",
       "<pre id=1.1 onmousedown=\"window.clipline(1.1)\" onmouseup=\"window.reset(1.1)\">\n",
       "python3 main.py\n"
      ],
      "text/plain": [
       "<IPython.core.display.HTML object>"
      ]
     },
     "metadata": {},
     "output_type": "display_data"
    }
   ],
   "source": [
    "%%html\n",
    "<div style=\"margin-left: 35px; border-style: solid; border-width: 1px; padding: 10px;background-Color:black\" >\n",
    "<p style=\" color:white ;font-family:courier;background-Color:black\"\n",
    "<pre id=1.1 onmousedown=\"window.clipline(1.1)\" onmouseup=\"window.reset(1.1)\">\n",
    "python3 main.py\n"
   ]
  },
  {
   "cell_type": "code",
   "execution_count": 22,
   "id": "d781c165-a9bd-4554-98a5-627094068ba8",
   "metadata": {},
   "outputs": [
    {
     "ename": "SyntaxError",
     "evalue": "cannot assign to expression here. Maybe you meant '==' instead of '='? (2502201725.py, line 7)",
     "output_type": "error",
     "traceback": [
      "\u001b[0;36m  Cell \u001b[0;32mIn[22], line 7\u001b[0;36m\u001b[0m\n\u001b[0;31m    data-commandlinker-command=\"terminal:create-new\"\u001b[0m\n\u001b[0m    ^\u001b[0m\n\u001b[0;31mSyntaxError\u001b[0m\u001b[0;31m:\u001b[0m cannot assign to expression here. Maybe you meant '==' instead of '='?\n"
     ]
    }
   ],
   "source": [
    "\n",
    "python3 main.py\n"
   ]
  },
  {
   "cell_type": "code",
   "execution_count": 22,
   "id": "bb7aa43b-d631-4079-bbb8-0ee3a0bebd06",
   "metadata": {},
   "outputs": [
    {
     "ename": "SyntaxError",
     "evalue": "cannot assign to expression here. Maybe you meant '==' instead of '='? (2502201725.py, line 7)",
     "output_type": "error",
     "traceback": [
      "\u001b[0;36m  Cell \u001b[0;32mIn[22], line 7\u001b[0;36m\u001b[0m\n\u001b[0;31m    data-commandlinker-command=\"terminal:create-new\"\u001b[0m\n\u001b[0m    ^\u001b[0m\n\u001b[0;31mSyntaxError\u001b[0m\u001b[0;31m:\u001b[0m cannot assign to expression here. Maybe you meant '==' instead of '='?\n"
     ]
    }
   ],
   "source": [
    "\n",
    "python3 main.py\n"
   ]
  },
  {
   "cell_type": "code",
   "execution_count": 22,
   "id": "174f8c29-78e2-4281-8b9d-75c4183e5310",
   "metadata": {},
   "outputs": [
    {
     "ename": "SyntaxError",
     "evalue": "cannot assign to expression here. Maybe you meant '==' instead of '='? (2502201725.py, line 7)",
     "output_type": "error",
     "traceback": [
      "\u001b[0;36m  Cell \u001b[0;32mIn[22], line 7\u001b[0;36m\u001b[0m\n\u001b[0;31m    data-commandlinker-command=\"terminal:create-new\"\u001b[0m\n\u001b[0m    ^\u001b[0m\n\u001b[0;31mSyntaxError\u001b[0m\u001b[0;31m:\u001b[0m cannot assign to expression here. Maybe you meant '==' instead of '='?\n"
     ]
    }
   ],
   "source": [
    "\n",
    "python3 main.py\n"
   ]
  },
  {
   "cell_type": "code",
   "execution_count": 23,
   "id": "ed5678e2-ea56-4b08-87e9-6ae1e93781f7",
   "metadata": {},
   "outputs": [
    {
     "ename": "SyntaxError",
     "evalue": "invalid syntax (2286351305.py, line 1)",
     "output_type": "error",
     "traceback": [
      "\u001b[0;36m  Cell \u001b[0;32mIn[23], line 1\u001b[0;36m\u001b[0m\n\u001b[0;31m    `<button data-commandLinker-command=\"help:about\" href=\"#\">TEST</button>`\u001b[0m\n\u001b[0m    ^\u001b[0m\n\u001b[0;31mSyntaxError\u001b[0m\u001b[0;31m:\u001b[0m invalid syntax\n"
     ]
    }
   ],
   "source": [
    "`<button data-commandLinker-command=\"help:about\" href=\"#\">TEST</button>`"
   ]
  },
  {
   "cell_type": "code",
   "execution_count": 45,
   "id": "26ab9781-595f-4864-87a5-f98292f70127",
   "metadata": {},
   "outputs": [
    {
     "data": {
      "application/javascript": [
       "\n",
       "    var cells = IPython.notebook.get_cells();\n",
       "    cells.forEach(function(cell) {\n",
       "        if(cell.get_text().includes('Delete me') || cell.get_text().includes('Test Cell')) {\n",
       "            var index = IPython.notebook.find_cell_index(cell);\n",
       "            if(index > 1){\n",
       "                IPython.notebook.delete_cell(index);\n",
       "            }\n",
       "        }\n",
       "    });\n"
      ],
      "text/plain": [
       "<IPython.core.display.Javascript object>"
      ]
     },
     "metadata": {},
     "output_type": "display_data"
    }
   ],
   "source": [
    "from IPython.core.display import display, HTML, Javascript\n",
    "display(\n",
    "    Javascript(\n",
    "        \"\"\"\n",
    "    var cells = IPython.notebook.get_cells();\n",
    "    cells.forEach(function(cell) {\n",
    "        if(cell.get_text().includes('Delete me') || cell.get_text().includes('Test Cell')) {\n",
    "            var index = IPython.notebook.find_cell_index(cell);\n",
    "            if(index > 1){\n",
    "                IPython.notebook.delete_cell(index);\n",
    "            }\n",
    "        }\n",
    "    });\n",
    "\"\"\"\n",
    "    )\n",
    ")"
   ]
  },
  {
   "cell_type": "code",
   "execution_count": 15,
   "id": "f485f9ac-1678-4153-b8f2-a69cb30b2a97",
   "metadata": {},
   "outputs": [
    {
     "ename": "SyntaxError",
     "evalue": "invalid syntax (4176700060.py, line 1)",
     "output_type": "error",
     "traceback": [
      "\u001b[0;36m  Cell \u001b[0;32mIn[15], line 1\u001b[0;36m\u001b[0m\n\u001b[0;31m    [terminal:create-new]\u001b[0m\n\u001b[0m             ^\u001b[0m\n\u001b[0;31mSyntaxError\u001b[0m\u001b[0;31m:\u001b[0m invalid syntax\n"
     ]
    }
   ],
   "source": [
    "\n",
    "\n"
   ]
  },
  {
   "cell_type": "code",
   "execution_count": 17,
   "id": "7b20e567-ee0e-4c02-bd5a-d61a73962bd8",
   "metadata": {},
   "outputs": [
    {
     "data": {
      "text/html": [
       "<a href=\"\" data-commandlinker-command=\"terminal:create-new\"> Test"
      ],
      "text/plain": [
       "<IPython.core.display.HTML object>"
      ]
     },
     "execution_count": 17,
     "metadata": {},
     "output_type": "execute_result"
    }
   ],
   "source": []
  },
  {
   "cell_type": "code",
   "execution_count": null,
   "id": "423f1491-478b-4551-9d57-90f3606ed803",
   "metadata": {},
   "outputs": [],
   "source": []
  }
 ],
 "metadata": {
  "kernelspec": {
   "display_name": "openad",
   "language": "python",
   "name": "openad"
  },
  "language_info": {
   "codemirror_mode": {
    "name": "ipython",
    "version": 3
   },
   "file_extension": ".py",
   "mimetype": "text/x-python",
   "name": "python",
   "nbconvert_exporter": "python",
   "pygments_lexer": "ipython3",
   "version": "3.10.10"
  }
 },
 "nbformat": 4,
 "nbformat_minor": 5
}
