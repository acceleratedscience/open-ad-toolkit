{
 "cells": [
  {
   "cell_type": "code",
   "execution_count": 4,
   "id": "a93581f9",
   "metadata": {
    "scrolled": false
   },
   "outputs": [
    {
     "data": {
      "text/html": [
       "<iframe src=\"http://127.0.0.1:5002\" width=\"100%\" height=\"700\" style=\"border: solid 1px #ddd;\"></iframe>"
      ],
      "text/plain": [
       "<IPython.core.display.HTML object>"
      ]
     },
     "metadata": {},
     "output_type": "display_data"
    }
   ],
   "source": [
    "x = %openad flask example"
   ]
  },
  {
   "cell_type": "code",
   "execution_count": 5,
   "id": "753f0551",
   "metadata": {},
   "outputs": [
    {
     "name": "stdout",
     "output_type": "stream",
     "text": [
      "{'form': {'someInput': 'phil test'}}\n"
     ]
    }
   ],
   "source": [
    "print(x)"
   ]
  },
  {
   "cell_type": "code",
   "execution_count": 3,
   "id": "7694c5c1",
   "metadata": {},
   "outputs": [
    {
     "data": {
      "text/markdown": [
       "<br><br><br>\u001b[90m|\u001b[0m      ░░░░░░    ░░░░░░    ░░░░░░░░  ░░      ░░    ░░░░    ░░░░░░  <br>\u001b[90m\u001b[90m|\u001b[0m    ░░      ░░  ░░    ░░  ░░        ░░░░    ░░  ░░    ░░  ░░    ░░<br>\u001b[90m\u001b[90m\u001b[90m|\u001b[0m    ░░      ░░  ░░    ░░  ░░░░░░    ░░  ░░  ░░  ░░░░░░░░  ░░    ░░<br>\u001b[90m\u001b[90m\u001b[90m\u001b[90m|\u001b[0m    ░░      ░░  ░░░░░░    ░░        ░░    ░░░░  ░░    ░░  ░░    ░░<br>\u001b[90m\u001b[90m\u001b[90m\u001b[90m\u001b[90m|\u001b[0m      ░░░░░░    ░░        ░░░░░░░░  ░░      ░░  ░░    ░░  ░░░░░░  <br>\u001b[90m\u001b[90m\u001b[90m\u001b[90m\u001b[90m\u001b[90m|\u001b[0m    <br>\u001b[90m\u001b[90m\u001b[90m\u001b[90m\u001b[90m\u001b[90m\u001b[90m|\u001b[0m    <br>\u001b[90m\u001b[90m\u001b[90m\u001b[90m\u001b[90m\u001b[90m\u001b[90m\u001b[90m|\u001b[0m    \u001b[0mWelcome to the Open Accelerated Discovery CLI\u001b[0m\u001b[0m<br>\u001b[90m\u001b[90m\u001b[90m\u001b[90m\u001b[90m\u001b[90m\u001b[90m\u001b[90m\u001b[90m|\u001b[0m\u001b[0m    \u001b[33m---------------------------------------------\u001b[0m\u001b[0m<br>\u001b[90m\u001b[90m\u001b[90m\u001b[90m\u001b[90m\u001b[90m\u001b[90m\u001b[90m\u001b[90m\u001b[90m|\u001b[0m\u001b[0m\u001b[0m    <br>\u001b[90m\u001b[90m\u001b[90m\u001b[90m\u001b[90m\u001b[90m\u001b[90m\u001b[90m\u001b[90m\u001b[90m\u001b[90m|\u001b[0m\u001b[0m\u001b[0m    \u001b[36mintro\u001b[0m\u001b[0m               If this is your first time, let us help you getting started.<br>\u001b[90m\u001b[90m\u001b[90m\u001b[90m\u001b[90m\u001b[90m\u001b[90m\u001b[90m\u001b[90m\u001b[90m\u001b[90m\u001b[90m|\u001b[0m\u001b[0m\u001b[0m\u001b[0m    <br>\u001b[90m\u001b[90m\u001b[90m\u001b[90m\u001b[90m\u001b[90m\u001b[90m\u001b[90m\u001b[90m\u001b[90m\u001b[90m\u001b[90m\u001b[90m|\u001b[0m\u001b[0m\u001b[0m\u001b[0m    \u001b[36mlist all toolkits\u001b[0m\u001b[0m   See what toolkits are available.<br>\u001b[90m\u001b[90m\u001b[90m\u001b[90m\u001b[90m\u001b[90m\u001b[90m\u001b[90m\u001b[90m\u001b[90m\u001b[90m\u001b[90m\u001b[90m\u001b[90m|\u001b[0m\u001b[0m\u001b[0m\u001b[0m\u001b[0m    <br>\u001b[90m\u001b[90m\u001b[90m\u001b[90m\u001b[90m\u001b[90m\u001b[90m\u001b[90m\u001b[90m\u001b[90m\u001b[90m\u001b[90m\u001b[90m\u001b[90m\u001b[90m|\u001b[0m\u001b[0m\u001b[0m\u001b[0m\u001b[0m    \u001b[36m?\u001b[0m\u001b[0m                   See what you can do.<br>\u001b[90m\u001b[90m\u001b[90m\u001b[90m\u001b[90m\u001b[90m\u001b[90m\u001b[90m\u001b[90m\u001b[90m\u001b[90m\u001b[90m\u001b[90m\u001b[90m\u001b[90m\u001b[90m|\u001b[0m\u001b[0m\u001b[0m\u001b[0m\u001b[0m\u001b[0m    <br>\u001b[90m\u001b[90m\u001b[90m\u001b[90m\u001b[90m\u001b[90m\u001b[90m\u001b[90m\u001b[90m\u001b[90m\u001b[90m\u001b[90m\u001b[90m\u001b[90m\u001b[90m\u001b[90m\u001b[90m|\u001b[0m\u001b[0m\u001b[0m\u001b[0m\u001b[0m\u001b[0m    \u001b[36m??\u001b[0m\u001b[0m                  Open advanced help.<br>\u001b[90m\u001b[90m\u001b[90m\u001b[90m\u001b[90m\u001b[90m\u001b[90m\u001b[90m\u001b[90m\u001b[90m\u001b[90m\u001b[90m\u001b[90m\u001b[90m\u001b[90m\u001b[90m\u001b[90m\u001b[90m|\u001b[0m\u001b[0m\u001b[0m\u001b[0m\u001b[0m\u001b[0m\u001b[0m    <br>\u001b[90m\u001b[90m\u001b[90m\u001b[90m\u001b[90m\u001b[90m\u001b[90m\u001b[90m\u001b[90m\u001b[90m\u001b[90m\u001b[90m\u001b[90m\u001b[90m\u001b[90m\u001b[90m\u001b[90m\u001b[90m\u001b[90m|\u001b[0m\u001b[0m\u001b[0m\u001b[0m\u001b[0m\u001b[0m\u001b[0m    \u001b[36m\u001b[90m...\u001b[0m\u001b[36m ?\u001b[0m\u001b[0m               Get help whenever you get stuck.<br>\u001b[90m\u001b[90m\u001b[90m\u001b[90m\u001b[90m\u001b[90m\u001b[90m\u001b[90m\u001b[90m\u001b[90m\u001b[90m\u001b[90m\u001b[90m\u001b[90m\u001b[90m\u001b[90m\u001b[90m\u001b[90m\u001b[90m\u001b[90m|\u001b[0m\u001b[0m\u001b[0m\u001b[0m\u001b[0m\u001b[0m\u001b[0m\u001b[0m    <br>\u001b[90m\u001b[90m\u001b[90m\u001b[90m\u001b[90m\u001b[90m\u001b[90m\u001b[90m\u001b[90m\u001b[90m\u001b[90m\u001b[90m\u001b[90m\u001b[90m\u001b[90m\u001b[90m\u001b[90m\u001b[90m\u001b[90m\u001b[90m\u001b[90m|\u001b[0m\u001b[0m\u001b[0m\u001b[0m\u001b[0m\u001b[0m\u001b[0m\u001b[0m    \u001b[36mdocs\u001b[0m\u001b[0m                Read the docs in your browser.<br><br><br>"
      ],
      "text/plain": [
       "<IPython.core.display.Markdown object>"
      ]
     },
     "execution_count": 3,
     "metadata": {},
     "output_type": "execute_result"
    }
   ],
   "source": [
    "%openad openad"
   ]
  }
 ],
 "metadata": {
  "kernelspec": {
   "display_name": "Python 3 (ipykernel)",
   "language": "python",
   "name": "python3"
  },
  "language_info": {
   "codemirror_mode": {
    "name": "ipython",
    "version": 3
   },
   "file_extension": ".py",
   "mimetype": "text/x-python",
   "name": "python",
   "nbconvert_exporter": "python",
   "pygments_lexer": "ipython3",
   "version": "3.11.2"
  }
 },
 "nbformat": 4,
 "nbformat_minor": 5
}
