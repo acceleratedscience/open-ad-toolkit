{
 "cells": [
  {
   "cell_type": "code",
   "execution_count": 1,
   "id": "7694c5c1",
   "metadata": {},
   "outputs": [
    {
     "name": "stdout",
     "output_type": "stream",
     "text": [
      "\n",
      "\n",
      "\n",
      "|      ░░░░░░    ░░░░░░    ░░░░░░░░  ░░      ░░    ░░░░    ░░░░░░  \n",
      "|    ░░      ░░  ░░    ░░  ░░        ░░░░    ░░  ░░    ░░  ░░    ░░\n",
      "|    ░░      ░░  ░░    ░░  ░░░░░░    ░░  ░░  ░░  ░░░░░░░░  ░░    ░░\n",
      "|    ░░      ░░  ░░░░░░    ░░        ░░    ░░░░  ░░    ░░  ░░    ░░\n",
      "|      ░░░░░░    ░░        ░░░░░░░░  ░░      ░░  ░░    ░░  ░░░░░░  \n",
      "|    \n",
      "|    \n",
      "|    Welcome to the Open Accelerated Discovery CLI\n",
      "|    ---------------------------------------------\n",
      "|    \n",
      "|    intro               If this is your first time, let us help you getting started.\n",
      "|    \n",
      "|    list all toolkits   See what toolkits are available.\n",
      "|    \n",
      "|    ?                   See what you can do.\n",
      "|    \n",
      "|    ??                  Open advanced help.\n",
      "|    \n",
      "|    ... ?               Get help whenever you get stuck.\n",
      "|    \n",
      "|    docs                Read the docs in your browser.\n",
      "\n",
      "\n",
      "\n"
     ]
    },
    {
     "data": {
      "text/markdown": [
       "<br><br><br>\u001b[90m|\u001b[0m      ░░░░░░    ░░░░░░    ░░░░░░░░  ░░      ░░    ░░░░    ░░░░░░  <br>\u001b[90m\u001b[90m|\u001b[0m    ░░      ░░  ░░    ░░  ░░        ░░░░    ░░  ░░    ░░  ░░    ░░<br>\u001b[90m\u001b[90m\u001b[90m|\u001b[0m    ░░      ░░  ░░    ░░  ░░░░░░    ░░  ░░  ░░  ░░░░░░░░  ░░    ░░<br>\u001b[90m\u001b[90m\u001b[90m\u001b[90m|\u001b[0m    ░░      ░░  ░░░░░░    ░░        ░░    ░░░░  ░░    ░░  ░░    ░░<br>\u001b[90m\u001b[90m\u001b[90m\u001b[90m\u001b[90m|\u001b[0m      ░░░░░░    ░░        ░░░░░░░░  ░░      ░░  ░░    ░░  ░░░░░░  <br>\u001b[90m\u001b[90m\u001b[90m\u001b[90m\u001b[90m\u001b[90m|\u001b[0m    <br>\u001b[90m\u001b[90m\u001b[90m\u001b[90m\u001b[90m\u001b[90m\u001b[90m|\u001b[0m    <br>\u001b[90m\u001b[90m\u001b[90m\u001b[90m\u001b[90m\u001b[90m\u001b[90m\u001b[90m|\u001b[0m    \u001b[0mWelcome to the Open Accelerated Discovery CLI\u001b[0m\u001b[0m<br>\u001b[90m\u001b[90m\u001b[90m\u001b[90m\u001b[90m\u001b[90m\u001b[90m\u001b[90m\u001b[90m|\u001b[0m\u001b[0m    \u001b[33m---------------------------------------------\u001b[0m\u001b[0m<br>\u001b[90m\u001b[90m\u001b[90m\u001b[90m\u001b[90m\u001b[90m\u001b[90m\u001b[90m\u001b[90m\u001b[90m|\u001b[0m\u001b[0m\u001b[0m    <br>\u001b[90m\u001b[90m\u001b[90m\u001b[90m\u001b[90m\u001b[90m\u001b[90m\u001b[90m\u001b[90m\u001b[90m\u001b[90m|\u001b[0m\u001b[0m\u001b[0m    \u001b[36mintro\u001b[0m\u001b[0m               If this is your first time, let us help you getting started.<br>\u001b[90m\u001b[90m\u001b[90m\u001b[90m\u001b[90m\u001b[90m\u001b[90m\u001b[90m\u001b[90m\u001b[90m\u001b[90m\u001b[90m|\u001b[0m\u001b[0m\u001b[0m\u001b[0m    <br>\u001b[90m\u001b[90m\u001b[90m\u001b[90m\u001b[90m\u001b[90m\u001b[90m\u001b[90m\u001b[90m\u001b[90m\u001b[90m\u001b[90m\u001b[90m|\u001b[0m\u001b[0m\u001b[0m\u001b[0m    \u001b[36mlist all toolkits\u001b[0m\u001b[0m   See what toolkits are available.<br>\u001b[90m\u001b[90m\u001b[90m\u001b[90m\u001b[90m\u001b[90m\u001b[90m\u001b[90m\u001b[90m\u001b[90m\u001b[90m\u001b[90m\u001b[90m\u001b[90m|\u001b[0m\u001b[0m\u001b[0m\u001b[0m\u001b[0m    <br>\u001b[90m\u001b[90m\u001b[90m\u001b[90m\u001b[90m\u001b[90m\u001b[90m\u001b[90m\u001b[90m\u001b[90m\u001b[90m\u001b[90m\u001b[90m\u001b[90m\u001b[90m|\u001b[0m\u001b[0m\u001b[0m\u001b[0m\u001b[0m    \u001b[36m?\u001b[0m\u001b[0m                   See what you can do.<br>\u001b[90m\u001b[90m\u001b[90m\u001b[90m\u001b[90m\u001b[90m\u001b[90m\u001b[90m\u001b[90m\u001b[90m\u001b[90m\u001b[90m\u001b[90m\u001b[90m\u001b[90m\u001b[90m|\u001b[0m\u001b[0m\u001b[0m\u001b[0m\u001b[0m\u001b[0m    <br>\u001b[90m\u001b[90m\u001b[90m\u001b[90m\u001b[90m\u001b[90m\u001b[90m\u001b[90m\u001b[90m\u001b[90m\u001b[90m\u001b[90m\u001b[90m\u001b[90m\u001b[90m\u001b[90m\u001b[90m|\u001b[0m\u001b[0m\u001b[0m\u001b[0m\u001b[0m\u001b[0m    \u001b[36m??\u001b[0m\u001b[0m                  Open advanced help.<br>\u001b[90m\u001b[90m\u001b[90m\u001b[90m\u001b[90m\u001b[90m\u001b[90m\u001b[90m\u001b[90m\u001b[90m\u001b[90m\u001b[90m\u001b[90m\u001b[90m\u001b[90m\u001b[90m\u001b[90m\u001b[90m|\u001b[0m\u001b[0m\u001b[0m\u001b[0m\u001b[0m\u001b[0m\u001b[0m    <br>\u001b[90m\u001b[90m\u001b[90m\u001b[90m\u001b[90m\u001b[90m\u001b[90m\u001b[90m\u001b[90m\u001b[90m\u001b[90m\u001b[90m\u001b[90m\u001b[90m\u001b[90m\u001b[90m\u001b[90m\u001b[90m\u001b[90m|\u001b[0m\u001b[0m\u001b[0m\u001b[0m\u001b[0m\u001b[0m\u001b[0m    \u001b[36m\u001b[90m...\u001b[0m\u001b[36m ?\u001b[0m\u001b[0m               Get help whenever you get stuck.<br>\u001b[90m\u001b[90m\u001b[90m\u001b[90m\u001b[90m\u001b[90m\u001b[90m\u001b[90m\u001b[90m\u001b[90m\u001b[90m\u001b[90m\u001b[90m\u001b[90m\u001b[90m\u001b[90m\u001b[90m\u001b[90m\u001b[90m\u001b[90m|\u001b[0m\u001b[0m\u001b[0m\u001b[0m\u001b[0m\u001b[0m\u001b[0m\u001b[0m    <br>\u001b[90m\u001b[90m\u001b[90m\u001b[90m\u001b[90m\u001b[90m\u001b[90m\u001b[90m\u001b[90m\u001b[90m\u001b[90m\u001b[90m\u001b[90m\u001b[90m\u001b[90m\u001b[90m\u001b[90m\u001b[90m\u001b[90m\u001b[90m\u001b[90m|\u001b[0m\u001b[0m\u001b[0m\u001b[0m\u001b[0m\u001b[0m\u001b[0m\u001b[0m    \u001b[36mdocs\u001b[0m\u001b[0m                Read the docs in your browser.<br><br><br>"
      ],
      "text/plain": [
       "<IPython.core.display.Markdown object>"
      ]
     },
     "execution_count": 1,
     "metadata": {},
     "output_type": "execute_result"
    }
   ],
   "source": [
    "%openad openad"
   ]
  },
  {
   "cell_type": "code",
   "execution_count": null,
   "id": "51314787",
   "metadata": {},
   "outputs": [],
   "source": []
  }
 ],
 "metadata": {
  "kernelspec": {
   "display_name": "venv",
   "language": "python",
   "name": "venv"
  },
  "language_info": {
   "codemirror_mode": {
    "name": "ipython",
    "version": 3
   },
   "file_extension": ".py",
   "mimetype": "text/x-python",
   "name": "python",
   "nbconvert_exporter": "python",
   "pygments_lexer": "ipython3",
   "version": "3.11.2"
  }
 },
 "nbformat": 4,
 "nbformat_minor": 5
}
