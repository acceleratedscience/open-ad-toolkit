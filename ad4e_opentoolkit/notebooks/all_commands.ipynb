{
 "cells": [
  {
   "cell_type": "markdown",
   "id": "abae5756",
   "metadata": {},
   "source": [
    "# Command Tester\n",
    "This file is meant to test all commands quickly. You can start from scratch and just hit play.<br>\n",
    "<br>\n",
    "Dependent on files inside `/_for testing`"
   ]
  },
  {
   "cell_type": "code",
   "execution_count": 2,
   "id": "3613832d",
   "metadata": {},
   "outputs": [
    {
     "ename": "ModuleNotFoundError",
     "evalue": "No module named 'AD'",
     "output_type": "error",
     "traceback": [
      "\u001b[0;31m---------------------------------------------------------------------------\u001b[0m",
      "\u001b[0;31mModuleNotFoundError\u001b[0m                       Traceback (most recent call last)",
      "File \u001b[0;32m/var/folders/87/0v78x1jj01n5sndjnpfjyrr80000gn/T/ipykernel_21654/1808774087.py:33\u001b[0m\n\u001b[1;32m     31\u001b[0m ip \u001b[38;5;241m=\u001b[39m get_ipython()\n\u001b[1;32m     32\u001b[0m ip\u001b[38;5;241m.\u001b[39mregister_magics(AD)\n\u001b[0;32m---> 33\u001b[0m \u001b[43mget_ipython\u001b[49m\u001b[43m(\u001b[49m\u001b[43m)\u001b[49m\u001b[38;5;241;43m.\u001b[39;49m\u001b[43mrun_line_magic\u001b[49m\u001b[43m(\u001b[49m\u001b[38;5;124;43m'\u001b[39;49m\u001b[38;5;124;43mload_ext\u001b[39;49m\u001b[38;5;124;43m'\u001b[39;49m\u001b[43m,\u001b[49m\u001b[43m \u001b[49m\u001b[38;5;124;43m'\u001b[39;49m\u001b[38;5;124;43mAD\u001b[39;49m\u001b[38;5;124;43m'\u001b[39;49m\u001b[43m)\u001b[49m\n",
      "File \u001b[0;32m~/Documents/Projects/IBM/_projects/03-AD-CLI/GitHub/ad4e-opentoolkit/venv/lib/python3.11/site-packages/IPython/core/interactiveshell.py:2414\u001b[0m, in \u001b[0;36mInteractiveShell.run_line_magic\u001b[0;34m(self, magic_name, line, _stack_depth)\u001b[0m\n\u001b[1;32m   2412\u001b[0m     kwargs[\u001b[38;5;124m'\u001b[39m\u001b[38;5;124mlocal_ns\u001b[39m\u001b[38;5;124m'\u001b[39m] \u001b[38;5;241m=\u001b[39m \u001b[38;5;28mself\u001b[39m\u001b[38;5;241m.\u001b[39mget_local_scope(stack_depth)\n\u001b[1;32m   2413\u001b[0m \u001b[38;5;28;01mwith\u001b[39;00m \u001b[38;5;28mself\u001b[39m\u001b[38;5;241m.\u001b[39mbuiltin_trap:\n\u001b[0;32m-> 2414\u001b[0m     result \u001b[38;5;241m=\u001b[39m \u001b[43mfn\u001b[49m\u001b[43m(\u001b[49m\u001b[38;5;241;43m*\u001b[39;49m\u001b[43margs\u001b[49m\u001b[43m,\u001b[49m\u001b[43m \u001b[49m\u001b[38;5;241;43m*\u001b[39;49m\u001b[38;5;241;43m*\u001b[39;49m\u001b[43mkwargs\u001b[49m\u001b[43m)\u001b[49m\n\u001b[1;32m   2416\u001b[0m \u001b[38;5;66;03m# The code below prevents the output from being displayed\u001b[39;00m\n\u001b[1;32m   2417\u001b[0m \u001b[38;5;66;03m# when using magics with decodator @output_can_be_silenced\u001b[39;00m\n\u001b[1;32m   2418\u001b[0m \u001b[38;5;66;03m# when the last Python token in the expression is a ';'.\u001b[39;00m\n\u001b[1;32m   2419\u001b[0m \u001b[38;5;28;01mif\u001b[39;00m \u001b[38;5;28mgetattr\u001b[39m(fn, magic\u001b[38;5;241m.\u001b[39mMAGIC_OUTPUT_CAN_BE_SILENCED, \u001b[38;5;28;01mFalse\u001b[39;00m):\n",
      "File \u001b[0;32m~/Documents/Projects/IBM/_projects/03-AD-CLI/GitHub/ad4e-opentoolkit/venv/lib/python3.11/site-packages/IPython/core/magics/extension.py:33\u001b[0m, in \u001b[0;36mExtensionMagics.load_ext\u001b[0;34m(self, module_str)\u001b[0m\n\u001b[1;32m     31\u001b[0m \u001b[38;5;28;01mif\u001b[39;00m \u001b[38;5;129;01mnot\u001b[39;00m module_str:\n\u001b[1;32m     32\u001b[0m     \u001b[38;5;28;01mraise\u001b[39;00m UsageError(\u001b[38;5;124m'\u001b[39m\u001b[38;5;124mMissing module name.\u001b[39m\u001b[38;5;124m'\u001b[39m)\n\u001b[0;32m---> 33\u001b[0m res \u001b[38;5;241m=\u001b[39m \u001b[38;5;28;43mself\u001b[39;49m\u001b[38;5;241;43m.\u001b[39;49m\u001b[43mshell\u001b[49m\u001b[38;5;241;43m.\u001b[39;49m\u001b[43mextension_manager\u001b[49m\u001b[38;5;241;43m.\u001b[39;49m\u001b[43mload_extension\u001b[49m\u001b[43m(\u001b[49m\u001b[43mmodule_str\u001b[49m\u001b[43m)\u001b[49m\n\u001b[1;32m     35\u001b[0m \u001b[38;5;28;01mif\u001b[39;00m res \u001b[38;5;241m==\u001b[39m \u001b[38;5;124m'\u001b[39m\u001b[38;5;124malready loaded\u001b[39m\u001b[38;5;124m'\u001b[39m:\n\u001b[1;32m     36\u001b[0m     \u001b[38;5;28mprint\u001b[39m(\u001b[38;5;124m\"\u001b[39m\u001b[38;5;124mThe \u001b[39m\u001b[38;5;132;01m%s\u001b[39;00m\u001b[38;5;124m extension is already loaded. To reload it, use:\u001b[39m\u001b[38;5;124m\"\u001b[39m \u001b[38;5;241m%\u001b[39m module_str)\n",
      "File \u001b[0;32m~/Documents/Projects/IBM/_projects/03-AD-CLI/GitHub/ad4e-opentoolkit/venv/lib/python3.11/site-packages/IPython/core/extensions.py:76\u001b[0m, in \u001b[0;36mExtensionManager.load_extension\u001b[0;34m(self, module_str)\u001b[0m\n\u001b[1;32m     69\u001b[0m \u001b[38;5;250m\u001b[39m\u001b[38;5;124;03m\"\"\"Load an IPython extension by its module name.\u001b[39;00m\n\u001b[1;32m     70\u001b[0m \n\u001b[1;32m     71\u001b[0m \u001b[38;5;124;03mReturns the string \"already loaded\" if the extension is already loaded,\u001b[39;00m\n\u001b[1;32m     72\u001b[0m \u001b[38;5;124;03m\"no load function\" if the module doesn't have a load_ipython_extension\u001b[39;00m\n\u001b[1;32m     73\u001b[0m \u001b[38;5;124;03mfunction, or None if it succeeded.\u001b[39;00m\n\u001b[1;32m     74\u001b[0m \u001b[38;5;124;03m\"\"\"\u001b[39;00m\n\u001b[1;32m     75\u001b[0m \u001b[38;5;28;01mtry\u001b[39;00m:\n\u001b[0;32m---> 76\u001b[0m     \u001b[38;5;28;01mreturn\u001b[39;00m \u001b[38;5;28;43mself\u001b[39;49m\u001b[38;5;241;43m.\u001b[39;49m\u001b[43m_load_extension\u001b[49m\u001b[43m(\u001b[49m\u001b[43mmodule_str\u001b[49m\u001b[43m)\u001b[49m\n\u001b[1;32m     77\u001b[0m \u001b[38;5;28;01mexcept\u001b[39;00m \u001b[38;5;167;01mModuleNotFoundError\u001b[39;00m:\n\u001b[1;32m     78\u001b[0m     \u001b[38;5;28;01mif\u001b[39;00m module_str \u001b[38;5;129;01min\u001b[39;00m BUILTINS_EXTS:\n",
      "File \u001b[0;32m~/Documents/Projects/IBM/_projects/03-AD-CLI/GitHub/ad4e-opentoolkit/venv/lib/python3.11/site-packages/IPython/core/extensions.py:91\u001b[0m, in \u001b[0;36mExtensionManager._load_extension\u001b[0;34m(self, module_str)\u001b[0m\n\u001b[1;32m     89\u001b[0m \u001b[38;5;28;01mwith\u001b[39;00m \u001b[38;5;28mself\u001b[39m\u001b[38;5;241m.\u001b[39mshell\u001b[38;5;241m.\u001b[39mbuiltin_trap:\n\u001b[1;32m     90\u001b[0m     \u001b[38;5;28;01mif\u001b[39;00m module_str \u001b[38;5;129;01mnot\u001b[39;00m \u001b[38;5;129;01min\u001b[39;00m sys\u001b[38;5;241m.\u001b[39mmodules:\n\u001b[0;32m---> 91\u001b[0m         mod \u001b[38;5;241m=\u001b[39m \u001b[43mimport_module\u001b[49m\u001b[43m(\u001b[49m\u001b[43mmodule_str\u001b[49m\u001b[43m)\u001b[49m\n\u001b[1;32m     92\u001b[0m     mod \u001b[38;5;241m=\u001b[39m sys\u001b[38;5;241m.\u001b[39mmodules[module_str]\n\u001b[1;32m     93\u001b[0m     \u001b[38;5;28;01mif\u001b[39;00m \u001b[38;5;28mself\u001b[39m\u001b[38;5;241m.\u001b[39m_call_load_ipython_extension(mod):\n",
      "File \u001b[0;32m/opt/homebrew/Cellar/python@3.11/3.11.2_1/Frameworks/Python.framework/Versions/3.11/lib/python3.11/importlib/__init__.py:126\u001b[0m, in \u001b[0;36mimport_module\u001b[0;34m(name, package)\u001b[0m\n\u001b[1;32m    124\u001b[0m             \u001b[38;5;28;01mbreak\u001b[39;00m\n\u001b[1;32m    125\u001b[0m         level \u001b[38;5;241m+\u001b[39m\u001b[38;5;241m=\u001b[39m \u001b[38;5;241m1\u001b[39m\n\u001b[0;32m--> 126\u001b[0m \u001b[38;5;28;01mreturn\u001b[39;00m \u001b[43m_bootstrap\u001b[49m\u001b[38;5;241;43m.\u001b[39;49m\u001b[43m_gcd_import\u001b[49m\u001b[43m(\u001b[49m\u001b[43mname\u001b[49m\u001b[43m[\u001b[49m\u001b[43mlevel\u001b[49m\u001b[43m:\u001b[49m\u001b[43m]\u001b[49m\u001b[43m,\u001b[49m\u001b[43m \u001b[49m\u001b[43mpackage\u001b[49m\u001b[43m,\u001b[49m\u001b[43m \u001b[49m\u001b[43mlevel\u001b[49m\u001b[43m)\u001b[49m\n",
      "File \u001b[0;32m<frozen importlib._bootstrap>:1206\u001b[0m, in \u001b[0;36m_gcd_import\u001b[0;34m(name, package, level)\u001b[0m\n",
      "File \u001b[0;32m<frozen importlib._bootstrap>:1178\u001b[0m, in \u001b[0;36m_find_and_load\u001b[0;34m(name, import_)\u001b[0m\n",
      "File \u001b[0;32m<frozen importlib._bootstrap>:1142\u001b[0m, in \u001b[0;36m_find_and_load_unlocked\u001b[0;34m(name, import_)\u001b[0m\n",
      "\u001b[0;31mModuleNotFoundError\u001b[0m: No module named 'AD'"
     ]
    },
    {
     "ename": "ModuleNotFoundError",
     "evalue": "No module named 'AD'",
     "output_type": "error",
     "traceback": [
      "\u001b[0;31m---------------------------------------------------------------------------\u001b[0m",
      "\u001b[0;31mModuleNotFoundError\u001b[0m                       Traceback (most recent call last)",
      "Cell \u001b[0;32mIn[2], line 2\u001b[0m\n\u001b[1;32m      1\u001b[0m \u001b[38;5;66;03m# Initiate & trigger ~/.openad creation.\u001b[39;00m\n\u001b[0;32m----> 2\u001b[0m \u001b[43mget_ipython\u001b[49m\u001b[43m(\u001b[49m\u001b[43m)\u001b[49m\u001b[38;5;241;43m.\u001b[39;49m\u001b[43mrun_line_magic\u001b[49m\u001b[43m(\u001b[49m\u001b[38;5;124;43m'\u001b[39;49m\u001b[38;5;124;43mrun\u001b[39;49m\u001b[38;5;124;43m'\u001b[39;49m\u001b[43m,\u001b[49m\u001b[43m \u001b[49m\u001b[38;5;124;43m'\u001b[39;49m\u001b[38;5;124;43mopenad.ipynb\u001b[39;49m\u001b[38;5;124;43m'\u001b[39;49m\u001b[43m)\u001b[49m\n\u001b[1;32m      3\u001b[0m get_ipython()\u001b[38;5;241m.\u001b[39mrun_line_magic(\u001b[38;5;124m'\u001b[39m\u001b[38;5;124mopenad\u001b[39m\u001b[38;5;124m'\u001b[39m, \u001b[38;5;124m'\u001b[39m\u001b[38;5;124mget status\u001b[39m\u001b[38;5;124m'\u001b[39m)\n\u001b[1;32m      5\u001b[0m \u001b[38;5;66;03m# Skip authorization.\u001b[39;00m\n",
      "File \u001b[0;32m~/Documents/Projects/IBM/_projects/03-AD-CLI/GitHub/ad4e-opentoolkit/venv/lib/python3.11/site-packages/IPython/core/interactiveshell.py:2414\u001b[0m, in \u001b[0;36mInteractiveShell.run_line_magic\u001b[0;34m(self, magic_name, line, _stack_depth)\u001b[0m\n\u001b[1;32m   2412\u001b[0m     kwargs[\u001b[38;5;124m'\u001b[39m\u001b[38;5;124mlocal_ns\u001b[39m\u001b[38;5;124m'\u001b[39m] \u001b[38;5;241m=\u001b[39m \u001b[38;5;28mself\u001b[39m\u001b[38;5;241m.\u001b[39mget_local_scope(stack_depth)\n\u001b[1;32m   2413\u001b[0m \u001b[38;5;28;01mwith\u001b[39;00m \u001b[38;5;28mself\u001b[39m\u001b[38;5;241m.\u001b[39mbuiltin_trap:\n\u001b[0;32m-> 2414\u001b[0m     result \u001b[38;5;241m=\u001b[39m \u001b[43mfn\u001b[49m\u001b[43m(\u001b[49m\u001b[38;5;241;43m*\u001b[39;49m\u001b[43margs\u001b[49m\u001b[43m,\u001b[49m\u001b[43m \u001b[49m\u001b[38;5;241;43m*\u001b[39;49m\u001b[38;5;241;43m*\u001b[39;49m\u001b[43mkwargs\u001b[49m\u001b[43m)\u001b[49m\n\u001b[1;32m   2416\u001b[0m \u001b[38;5;66;03m# The code below prevents the output from being displayed\u001b[39;00m\n\u001b[1;32m   2417\u001b[0m \u001b[38;5;66;03m# when using magics with decodator @output_can_be_silenced\u001b[39;00m\n\u001b[1;32m   2418\u001b[0m \u001b[38;5;66;03m# when the last Python token in the expression is a ';'.\u001b[39;00m\n\u001b[1;32m   2419\u001b[0m \u001b[38;5;28;01mif\u001b[39;00m \u001b[38;5;28mgetattr\u001b[39m(fn, magic\u001b[38;5;241m.\u001b[39mMAGIC_OUTPUT_CAN_BE_SILENCED, \u001b[38;5;28;01mFalse\u001b[39;00m):\n",
      "File \u001b[0;32m~/Documents/Projects/IBM/_projects/03-AD-CLI/GitHub/ad4e-opentoolkit/venv/lib/python3.11/site-packages/IPython/core/magics/execution.py:722\u001b[0m, in \u001b[0;36mExecutionMagics.run\u001b[0;34m(self, parameter_s, runner, file_finder)\u001b[0m\n\u001b[1;32m    720\u001b[0m     \u001b[38;5;28;01mwith\u001b[39;00m preserve_keys(\u001b[38;5;28mself\u001b[39m\u001b[38;5;241m.\u001b[39mshell\u001b[38;5;241m.\u001b[39muser_ns, \u001b[38;5;124m'\u001b[39m\u001b[38;5;124m__file__\u001b[39m\u001b[38;5;124m'\u001b[39m):\n\u001b[1;32m    721\u001b[0m         \u001b[38;5;28mself\u001b[39m\u001b[38;5;241m.\u001b[39mshell\u001b[38;5;241m.\u001b[39muser_ns[\u001b[38;5;124m'\u001b[39m\u001b[38;5;124m__file__\u001b[39m\u001b[38;5;124m'\u001b[39m] \u001b[38;5;241m=\u001b[39m filename\n\u001b[0;32m--> 722\u001b[0m         \u001b[38;5;28;43mself\u001b[39;49m\u001b[38;5;241;43m.\u001b[39;49m\u001b[43mshell\u001b[49m\u001b[38;5;241;43m.\u001b[39;49m\u001b[43msafe_execfile_ipy\u001b[49m\u001b[43m(\u001b[49m\u001b[43mfilename\u001b[49m\u001b[43m,\u001b[49m\u001b[43m \u001b[49m\u001b[43mraise_exceptions\u001b[49m\u001b[38;5;241;43m=\u001b[39;49m\u001b[38;5;28;43;01mTrue\u001b[39;49;00m\u001b[43m)\u001b[49m\n\u001b[1;32m    723\u001b[0m     \u001b[38;5;28;01mreturn\u001b[39;00m\n\u001b[1;32m    725\u001b[0m \u001b[38;5;66;03m# Control the response to exit() calls made by the script being run\u001b[39;00m\n",
      "File \u001b[0;32m~/Documents/Projects/IBM/_projects/03-AD-CLI/GitHub/ad4e-opentoolkit/venv/lib/python3.11/site-packages/IPython/core/interactiveshell.py:2936\u001b[0m, in \u001b[0;36mInteractiveShell.safe_execfile_ipy\u001b[0;34m(self, fname, shell_futures, raise_exceptions)\u001b[0m\n\u001b[1;32m   2934\u001b[0m result \u001b[38;5;241m=\u001b[39m \u001b[38;5;28mself\u001b[39m\u001b[38;5;241m.\u001b[39mrun_cell(cell, silent\u001b[38;5;241m=\u001b[39m\u001b[38;5;28;01mTrue\u001b[39;00m, shell_futures\u001b[38;5;241m=\u001b[39mshell_futures)\n\u001b[1;32m   2935\u001b[0m \u001b[38;5;28;01mif\u001b[39;00m raise_exceptions:\n\u001b[0;32m-> 2936\u001b[0m     \u001b[43mresult\u001b[49m\u001b[38;5;241;43m.\u001b[39;49m\u001b[43mraise_error\u001b[49m\u001b[43m(\u001b[49m\u001b[43m)\u001b[49m\n\u001b[1;32m   2937\u001b[0m \u001b[38;5;28;01melif\u001b[39;00m \u001b[38;5;129;01mnot\u001b[39;00m result\u001b[38;5;241m.\u001b[39msuccess:\n\u001b[1;32m   2938\u001b[0m     \u001b[38;5;28;01mbreak\u001b[39;00m\n",
      "File \u001b[0;32m~/Documents/Projects/IBM/_projects/03-AD-CLI/GitHub/ad4e-opentoolkit/venv/lib/python3.11/site-packages/IPython/core/interactiveshell.py:268\u001b[0m, in \u001b[0;36mExecutionResult.raise_error\u001b[0;34m(self)\u001b[0m\n\u001b[1;32m    266\u001b[0m     \u001b[38;5;28;01mraise\u001b[39;00m \u001b[38;5;28mself\u001b[39m\u001b[38;5;241m.\u001b[39merror_before_exec\n\u001b[1;32m    267\u001b[0m \u001b[38;5;28;01mif\u001b[39;00m \u001b[38;5;28mself\u001b[39m\u001b[38;5;241m.\u001b[39merror_in_exec \u001b[38;5;129;01mis\u001b[39;00m \u001b[38;5;129;01mnot\u001b[39;00m \u001b[38;5;28;01mNone\u001b[39;00m:\n\u001b[0;32m--> 268\u001b[0m     \u001b[38;5;28;01mraise\u001b[39;00m \u001b[38;5;28mself\u001b[39m\u001b[38;5;241m.\u001b[39merror_in_exec\n",
      "    \u001b[0;31m[... skipping hidden 1 frame]\u001b[0m\n",
      "File \u001b[0;32m/var/folders/87/0v78x1jj01n5sndjnpfjyrr80000gn/T/ipykernel_21654/1808774087.py:33\u001b[0m\n\u001b[1;32m     31\u001b[0m ip \u001b[38;5;241m=\u001b[39m get_ipython()\n\u001b[1;32m     32\u001b[0m ip\u001b[38;5;241m.\u001b[39mregister_magics(AD)\n\u001b[0;32m---> 33\u001b[0m \u001b[43mget_ipython\u001b[49m\u001b[43m(\u001b[49m\u001b[43m)\u001b[49m\u001b[38;5;241;43m.\u001b[39;49m\u001b[43mrun_line_magic\u001b[49m\u001b[43m(\u001b[49m\u001b[38;5;124;43m'\u001b[39;49m\u001b[38;5;124;43mload_ext\u001b[39;49m\u001b[38;5;124;43m'\u001b[39;49m\u001b[43m,\u001b[49m\u001b[43m \u001b[49m\u001b[38;5;124;43m'\u001b[39;49m\u001b[38;5;124;43mAD\u001b[39;49m\u001b[38;5;124;43m'\u001b[39;49m\u001b[43m)\u001b[49m\n",
      "File \u001b[0;32m~/Documents/Projects/IBM/_projects/03-AD-CLI/GitHub/ad4e-opentoolkit/venv/lib/python3.11/site-packages/IPython/core/interactiveshell.py:2414\u001b[0m, in \u001b[0;36mInteractiveShell.run_line_magic\u001b[0;34m(self, magic_name, line, _stack_depth)\u001b[0m\n\u001b[1;32m   2412\u001b[0m     kwargs[\u001b[38;5;124m'\u001b[39m\u001b[38;5;124mlocal_ns\u001b[39m\u001b[38;5;124m'\u001b[39m] \u001b[38;5;241m=\u001b[39m \u001b[38;5;28mself\u001b[39m\u001b[38;5;241m.\u001b[39mget_local_scope(stack_depth)\n\u001b[1;32m   2413\u001b[0m \u001b[38;5;28;01mwith\u001b[39;00m \u001b[38;5;28mself\u001b[39m\u001b[38;5;241m.\u001b[39mbuiltin_trap:\n\u001b[0;32m-> 2414\u001b[0m     result \u001b[38;5;241m=\u001b[39m \u001b[43mfn\u001b[49m\u001b[43m(\u001b[49m\u001b[38;5;241;43m*\u001b[39;49m\u001b[43margs\u001b[49m\u001b[43m,\u001b[49m\u001b[43m \u001b[49m\u001b[38;5;241;43m*\u001b[39;49m\u001b[38;5;241;43m*\u001b[39;49m\u001b[43mkwargs\u001b[49m\u001b[43m)\u001b[49m\n\u001b[1;32m   2416\u001b[0m \u001b[38;5;66;03m# The code below prevents the output from being displayed\u001b[39;00m\n\u001b[1;32m   2417\u001b[0m \u001b[38;5;66;03m# when using magics with decodator @output_can_be_silenced\u001b[39;00m\n\u001b[1;32m   2418\u001b[0m \u001b[38;5;66;03m# when the last Python token in the expression is a ';'.\u001b[39;00m\n\u001b[1;32m   2419\u001b[0m \u001b[38;5;28;01mif\u001b[39;00m \u001b[38;5;28mgetattr\u001b[39m(fn, magic\u001b[38;5;241m.\u001b[39mMAGIC_OUTPUT_CAN_BE_SILENCED, \u001b[38;5;28;01mFalse\u001b[39;00m):\n",
      "File \u001b[0;32m~/Documents/Projects/IBM/_projects/03-AD-CLI/GitHub/ad4e-opentoolkit/venv/lib/python3.11/site-packages/IPython/core/magics/extension.py:33\u001b[0m, in \u001b[0;36mExtensionMagics.load_ext\u001b[0;34m(self, module_str)\u001b[0m\n\u001b[1;32m     31\u001b[0m \u001b[38;5;28;01mif\u001b[39;00m \u001b[38;5;129;01mnot\u001b[39;00m module_str:\n\u001b[1;32m     32\u001b[0m     \u001b[38;5;28;01mraise\u001b[39;00m UsageError(\u001b[38;5;124m'\u001b[39m\u001b[38;5;124mMissing module name.\u001b[39m\u001b[38;5;124m'\u001b[39m)\n\u001b[0;32m---> 33\u001b[0m res \u001b[38;5;241m=\u001b[39m \u001b[38;5;28;43mself\u001b[39;49m\u001b[38;5;241;43m.\u001b[39;49m\u001b[43mshell\u001b[49m\u001b[38;5;241;43m.\u001b[39;49m\u001b[43mextension_manager\u001b[49m\u001b[38;5;241;43m.\u001b[39;49m\u001b[43mload_extension\u001b[49m\u001b[43m(\u001b[49m\u001b[43mmodule_str\u001b[49m\u001b[43m)\u001b[49m\n\u001b[1;32m     35\u001b[0m \u001b[38;5;28;01mif\u001b[39;00m res \u001b[38;5;241m==\u001b[39m \u001b[38;5;124m'\u001b[39m\u001b[38;5;124malready loaded\u001b[39m\u001b[38;5;124m'\u001b[39m:\n\u001b[1;32m     36\u001b[0m     \u001b[38;5;28mprint\u001b[39m(\u001b[38;5;124m\"\u001b[39m\u001b[38;5;124mThe \u001b[39m\u001b[38;5;132;01m%s\u001b[39;00m\u001b[38;5;124m extension is already loaded. To reload it, use:\u001b[39m\u001b[38;5;124m\"\u001b[39m \u001b[38;5;241m%\u001b[39m module_str)\n",
      "File \u001b[0;32m~/Documents/Projects/IBM/_projects/03-AD-CLI/GitHub/ad4e-opentoolkit/venv/lib/python3.11/site-packages/IPython/core/extensions.py:76\u001b[0m, in \u001b[0;36mExtensionManager.load_extension\u001b[0;34m(self, module_str)\u001b[0m\n\u001b[1;32m     69\u001b[0m \u001b[38;5;250m\u001b[39m\u001b[38;5;124;03m\"\"\"Load an IPython extension by its module name.\u001b[39;00m\n\u001b[1;32m     70\u001b[0m \n\u001b[1;32m     71\u001b[0m \u001b[38;5;124;03mReturns the string \"already loaded\" if the extension is already loaded,\u001b[39;00m\n\u001b[1;32m     72\u001b[0m \u001b[38;5;124;03m\"no load function\" if the module doesn't have a load_ipython_extension\u001b[39;00m\n\u001b[1;32m     73\u001b[0m \u001b[38;5;124;03mfunction, or None if it succeeded.\u001b[39;00m\n\u001b[1;32m     74\u001b[0m \u001b[38;5;124;03m\"\"\"\u001b[39;00m\n\u001b[1;32m     75\u001b[0m \u001b[38;5;28;01mtry\u001b[39;00m:\n\u001b[0;32m---> 76\u001b[0m     \u001b[38;5;28;01mreturn\u001b[39;00m \u001b[38;5;28;43mself\u001b[39;49m\u001b[38;5;241;43m.\u001b[39;49m\u001b[43m_load_extension\u001b[49m\u001b[43m(\u001b[49m\u001b[43mmodule_str\u001b[49m\u001b[43m)\u001b[49m\n\u001b[1;32m     77\u001b[0m \u001b[38;5;28;01mexcept\u001b[39;00m \u001b[38;5;167;01mModuleNotFoundError\u001b[39;00m:\n\u001b[1;32m     78\u001b[0m     \u001b[38;5;28;01mif\u001b[39;00m module_str \u001b[38;5;129;01min\u001b[39;00m BUILTINS_EXTS:\n",
      "File \u001b[0;32m~/Documents/Projects/IBM/_projects/03-AD-CLI/GitHub/ad4e-opentoolkit/venv/lib/python3.11/site-packages/IPython/core/extensions.py:91\u001b[0m, in \u001b[0;36mExtensionManager._load_extension\u001b[0;34m(self, module_str)\u001b[0m\n\u001b[1;32m     89\u001b[0m \u001b[38;5;28;01mwith\u001b[39;00m \u001b[38;5;28mself\u001b[39m\u001b[38;5;241m.\u001b[39mshell\u001b[38;5;241m.\u001b[39mbuiltin_trap:\n\u001b[1;32m     90\u001b[0m     \u001b[38;5;28;01mif\u001b[39;00m module_str \u001b[38;5;129;01mnot\u001b[39;00m \u001b[38;5;129;01min\u001b[39;00m sys\u001b[38;5;241m.\u001b[39mmodules:\n\u001b[0;32m---> 91\u001b[0m         mod \u001b[38;5;241m=\u001b[39m \u001b[43mimport_module\u001b[49m\u001b[43m(\u001b[49m\u001b[43mmodule_str\u001b[49m\u001b[43m)\u001b[49m\n\u001b[1;32m     92\u001b[0m     mod \u001b[38;5;241m=\u001b[39m sys\u001b[38;5;241m.\u001b[39mmodules[module_str]\n\u001b[1;32m     93\u001b[0m     \u001b[38;5;28;01mif\u001b[39;00m \u001b[38;5;28mself\u001b[39m\u001b[38;5;241m.\u001b[39m_call_load_ipython_extension(mod):\n",
      "File \u001b[0;32m/opt/homebrew/Cellar/python@3.11/3.11.2_1/Frameworks/Python.framework/Versions/3.11/lib/python3.11/importlib/__init__.py:126\u001b[0m, in \u001b[0;36mimport_module\u001b[0;34m(name, package)\u001b[0m\n\u001b[1;32m    124\u001b[0m             \u001b[38;5;28;01mbreak\u001b[39;00m\n\u001b[1;32m    125\u001b[0m         level \u001b[38;5;241m+\u001b[39m\u001b[38;5;241m=\u001b[39m \u001b[38;5;241m1\u001b[39m\n\u001b[0;32m--> 126\u001b[0m \u001b[38;5;28;01mreturn\u001b[39;00m \u001b[43m_bootstrap\u001b[49m\u001b[38;5;241;43m.\u001b[39;49m\u001b[43m_gcd_import\u001b[49m\u001b[43m(\u001b[49m\u001b[43mname\u001b[49m\u001b[43m[\u001b[49m\u001b[43mlevel\u001b[49m\u001b[43m:\u001b[49m\u001b[43m]\u001b[49m\u001b[43m,\u001b[49m\u001b[43m \u001b[49m\u001b[43mpackage\u001b[49m\u001b[43m,\u001b[49m\u001b[43m \u001b[49m\u001b[43mlevel\u001b[49m\u001b[43m)\u001b[49m\n",
      "File \u001b[0;32m<frozen importlib._bootstrap>:1206\u001b[0m, in \u001b[0;36m_gcd_import\u001b[0;34m(name, package, level)\u001b[0m\n",
      "File \u001b[0;32m<frozen importlib._bootstrap>:1178\u001b[0m, in \u001b[0;36m_find_and_load\u001b[0;34m(name, import_)\u001b[0m\n",
      "File \u001b[0;32m<frozen importlib._bootstrap>:1142\u001b[0m, in \u001b[0;36m_find_and_load_unlocked\u001b[0;34m(name, import_)\u001b[0m\n",
      "\u001b[0;31mModuleNotFoundError\u001b[0m: No module named 'AD'"
     ]
    }
   ],
   "source": [
    "# Initiate & trigger ~/.openad creation.\n",
    "%run openad.ipynb\n",
    "%openad get status\n",
    "\n",
    "# Skip authorization.\n",
    "auth_file_name = 'ds-auth.ext-v2.json'\n",
    "auth_file_from = '_for_testing/' + auth_file_name\n",
    "auth_file_to = os.path.expanduser('~/.openad/' + auth_file_name)\n",
    "if not os.path.exists(auth_file_to):\n",
    "    import shutil\n",
    "    import os\n",
    "    shutil.copyfile(auth_file_from, auth_file_to)\n",
    "    print('Bypassed authorization.')\n",
    "else:\n",
    "    print('Already authorized.')"
   ]
  },
  {
   "cell_type": "markdown",
   "id": "c79b229b",
   "metadata": {},
   "source": [
    "# Toolkits"
   ]
  },
  {
   "cell_type": "code",
   "execution_count": null,
   "id": "2c91192e",
   "metadata": {},
   "outputs": [],
   "source": [
    "# In case you're not starting from scratch.\n",
    "# %openad clear sessions\n",
    "%openad remove toolkit DS4SD\n",
    "%openad remove toolkit GT4SD\n",
    "%openad remove toolkit ST4SD\n",
    "%openad remove toolkit RXN"
   ]
  },
  {
   "cell_type": "code",
   "execution_count": null,
   "id": "9bea55c2",
   "metadata": {},
   "outputs": [],
   "source": [
    "# Error message.\n",
    "%openad set context DS4SD"
   ]
  },
  {
   "cell_type": "code",
   "execution_count": null,
   "id": "7612ada8",
   "metadata": {},
   "outputs": [],
   "source": [
    "# No toolkits yet.\n",
    "%openad list toolkits"
   ]
  },
  {
   "cell_type": "code",
   "execution_count": null,
   "id": "e61183e0",
   "metadata": {},
   "outputs": [],
   "source": [
    "%openad list all toolkits"
   ]
  },
  {
   "cell_type": "code",
   "execution_count": null,
   "id": "3b3bd1e0",
   "metadata": {},
   "outputs": [],
   "source": [
    "%openad add toolkit DS4SD"
   ]
  },
  {
   "cell_type": "code",
   "execution_count": null,
   "id": "1fff8c4b-e3a9-4b05-9ab1-0d587a249f17",
   "metadata": {},
   "outputs": [],
   "source": [
    "%openad clear sessions"
   ]
  },
  {
   "cell_type": "code",
   "execution_count": null,
   "id": "ca7772df",
   "metadata": {},
   "outputs": [],
   "source": [
    "%openad list all toolkits"
   ]
  },
  {
   "cell_type": "code",
   "execution_count": null,
   "id": "2086800a",
   "metadata": {},
   "outputs": [],
   "source": [
    "%openad set context DS4SD"
   ]
  },
  {
   "cell_type": "markdown",
   "id": "d30209a2",
   "metadata": {},
   "source": [
    "# Workspaces"
   ]
  },
  {
   "cell_type": "code",
   "execution_count": null,
   "id": "899a8db1",
   "metadata": {},
   "outputs": [],
   "source": [
    "# %run openad.ipynb\n",
    "%openad list workspaces"
   ]
  },
  {
   "cell_type": "code",
   "execution_count": null,
   "id": "ec7bc3b4",
   "metadata": {},
   "outputs": [],
   "source": [
    "# %openad clear sessions\n",
    "%openad remove workspace jupytest\n",
    "%openad create workspace jupytest"
   ]
  },
  {
   "cell_type": "code",
   "execution_count": null,
   "id": "5fc66a58",
   "metadata": {},
   "outputs": [],
   "source": [
    "# This doesn't create the folder in Jupyter\n",
    "%openad remove workspace jupytest1\n",
    "%openad create workspace jupytest1 description('A test workspace') on path '~/Desktop'"
   ]
  },
  {
   "cell_type": "code",
   "execution_count": null,
   "id": "1470b8cb",
   "metadata": {},
   "outputs": [],
   "source": [
    "%openad remove workspace keeper\n",
    "%openad create workspace keeper description('We keep this one')"
   ]
  },
  {
   "cell_type": "code",
   "execution_count": null,
   "id": "38d8811e",
   "metadata": {},
   "outputs": [],
   "source": [
    "%openad list workspaces"
   ]
  },
  {
   "cell_type": "code",
   "execution_count": null,
   "id": "1e1ed90f",
   "metadata": {},
   "outputs": [],
   "source": [
    "%openad get workspace keeper"
   ]
  },
  {
   "cell_type": "code",
   "execution_count": null,
   "id": "75d89f42",
   "metadata": {},
   "outputs": [],
   "source": [
    "%openad set workspace default"
   ]
  },
  {
   "cell_type": "code",
   "execution_count": null,
   "id": "0d96a137",
   "metadata": {},
   "outputs": [],
   "source": [
    "%openad remove workspace jupytest\n",
    "%openad remove workspace jupytest1"
   ]
  },
  {
   "cell_type": "markdown",
   "id": "be262514",
   "metadata": {},
   "source": [
    "# File System"
   ]
  },
  {
   "cell_type": "code",
   "execution_count": null,
   "id": "2c2f2538",
   "metadata": {},
   "outputs": [],
   "source": [
    "# No files yet\n",
    "%openad list files"
   ]
  },
  {
   "cell_type": "code",
   "execution_count": null,
   "id": "dbd503e2",
   "metadata": {},
   "outputs": [],
   "source": [
    "# Import file from repo to workspace\n",
    "%openad import from '../_for_testing/base_molecules.sdf' to 'base_molecules.sdf'\n",
    "%openad import from '../_for_testing/base_molecules.csv' to 'base_molecules.csv'"
   ]
  },
  {
   "cell_type": "code",
   "execution_count": null,
   "id": "b4c4b71a",
   "metadata": {},
   "outputs": [],
   "source": [
    "# Export from workspace to desktop\n",
    "%openad export from 'base_molecules.sdf' to '~/Desktop/exported_molecules.sdf'\n",
    "\n",
    "# Copying nested files also possible:\n",
    "# %openad export from '_runs/my_run1.run' to '/Users/themoenen/Documents/Dump/test.run'"
   ]
  },
  {
   "cell_type": "code",
   "execution_count": null,
   "id": "01eb2810",
   "metadata": {},
   "outputs": [],
   "source": [
    "# Import from desktop to workspace\n",
    "%openad import from '~/Desktop/exported_molecules.sdf' to 'imported_molecules.sdf'"
   ]
  },
  {
   "cell_type": "code",
   "execution_count": null,
   "id": "5d2402b3",
   "metadata": {},
   "outputs": [],
   "source": [
    "# Copy from workspace to another workspace\n",
    "%openad copy file 'imported_molecules.sdf' to 'keeper'"
   ]
  },
  {
   "cell_type": "raw",
   "id": "19c829d0-e589-412d-a840-7ddb7f7f220d",
   "metadata": {},
   "source": []
  },
  {
   "cell_type": "code",
   "execution_count": null,
   "id": "ded2bc47",
   "metadata": {},
   "outputs": [],
   "source": [
    "# Delete\n",
    "%openad remove 'imported_molecules.sdf'"
   ]
  },
  {
   "cell_type": "markdown",
   "id": "044a6448",
   "metadata": {},
   "source": [
    "# General"
   ]
  },
  {
   "cell_type": "code",
   "execution_count": null,
   "id": "ae18b924",
   "metadata": {},
   "outputs": [],
   "source": [
    "%openad get status"
   ]
  },
  {
   "cell_type": "code",
   "execution_count": null,
   "id": "49fee42d",
   "metadata": {},
   "outputs": [],
   "source": [
    "%openad display history"
   ]
  },
  {
   "cell_type": "code",
   "execution_count": null,
   "id": "8a580d83",
   "metadata": {},
   "outputs": [],
   "source": [
    "%openad clear sessions"
   ]
  },
  {
   "cell_type": "code",
   "execution_count": null,
   "id": "0f42ae99",
   "metadata": {},
   "outputs": [],
   "source": [
    "# Not sure how we should do this in Jupyter... let's discuss.\n",
    "# %openad edit config 'func_display_collection.json'"
   ]
  },
  {
   "cell_type": "markdown",
   "id": "3d605cb5",
   "metadata": {},
   "source": [
    "# Help"
   ]
  },
  {
   "cell_type": "code",
   "execution_count": null,
   "id": "e1140a67",
   "metadata": {},
   "outputs": [],
   "source": [
    "# TO DO: This should use iPython.display\n",
    "%run openad.ipynb\n",
    "%openad intro"
   ]
  },
  {
   "cell_type": "code",
   "execution_count": null,
   "id": "5df40f74",
   "metadata": {},
   "outputs": [],
   "source": [
    "# Welcome screens no good\n",
    "%openad openad"
   ]
  },
  {
   "cell_type": "code",
   "execution_count": null,
   "id": "e7775852",
   "metadata": {},
   "outputs": [],
   "source": [
    "%openad ?"
   ]
  },
  {
   "cell_type": "code",
   "execution_count": null,
   "id": "7520f876",
   "metadata": {},
   "outputs": [],
   "source": [
    "%openad ??"
   ]
  },
  {
   "cell_type": "code",
   "execution_count": null,
   "id": "ad83b2a5",
   "metadata": {},
   "outputs": [],
   "source": [
    "%openad r ?"
   ]
  },
  {
   "cell_type": "code",
   "execution_count": null,
   "id": "f5375458",
   "metadata": {},
   "outputs": [],
   "source": [
    "%openad run ?"
   ]
  },
  {
   "cell_type": "markdown",
   "id": "5f16f1b5",
   "metadata": {},
   "source": [
    "# Runs"
   ]
  },
  {
   "cell_type": "code",
   "execution_count": null,
   "id": "99fa4409",
   "metadata": {},
   "outputs": [],
   "source": [
    "# %run openad.ipynb\n",
    "\n",
    "# No runs yet\n",
    "%openad list runs"
   ]
  },
  {
   "cell_type": "code",
   "execution_count": null,
   "id": "f0a04e76",
   "metadata": {},
   "outputs": [],
   "source": [
    "%openad create run"
   ]
  },
  {
   "cell_type": "code",
   "execution_count": null,
   "id": "2ec23366",
   "metadata": {},
   "outputs": [],
   "source": [
    "# Just here to store somethin in the run\n",
    "%openad list files"
   ]
  },
  {
   "cell_type": "code",
   "execution_count": null,
   "id": "53516584",
   "metadata": {},
   "outputs": [],
   "source": [
    "%openad save run as tester"
   ]
  },
  {
   "cell_type": "code",
   "execution_count": null,
   "id": "c7e23337",
   "metadata": {},
   "outputs": [],
   "source": [
    "# TO DO: Clean up this function. Also find out why there's 'None' printed at the bottom\n",
    "%openad run tester"
   ]
  },
  {
   "cell_type": "code",
   "execution_count": null,
   "id": "2f3d2cb3",
   "metadata": {},
   "outputs": [],
   "source": [
    "%openad list runs"
   ]
  },
  {
   "cell_type": "markdown",
   "id": "93e865d9",
   "metadata": {},
   "source": [
    "# Mols Viewer"
   ]
  },
  {
   "cell_type": "code",
   "execution_count": null,
   "id": "ea3b08d5",
   "metadata": {},
   "outputs": [],
   "source": [
    "# %run openad.ipynb\n",
    "%openad set workspace default"
   ]
  },
  {
   "cell_type": "markdown",
   "id": "0230ad6c",
   "metadata": {},
   "source": [
    "### Display molecules from file"
   ]
  },
  {
   "cell_type": "code",
   "execution_count": 1,
   "id": "7135434e",
   "metadata": {},
   "outputs": [
    {
     "data": {
      "application/vnd.jupyter.widget-view+json": {
       "model_id": "c4ddbf63c249408099405c6111c21d10",
       "version_major": 2,
       "version_minor": 0
      },
      "text/plain": [
       "MolGridWidget(grid_id='base_molecules.sdf')"
      ]
     },
     "metadata": {},
     "output_type": "display_data"
    },
    {
     "data": {
      "text/markdown": [
       "<span style=\"color: red\">Unknown error.</span><br><span style=\"color: #ccc\">cannot unpack non-iterable HTML object</span>"
      ],
      "text/plain": [
       "<IPython.core.display.Markdown object>"
      ]
     },
     "metadata": {},
     "output_type": "display_data"
    }
   ],
   "source": [
    "# sdf\n",
    "%openad show molecules using file 'base_molecules.sdf'"
   ]
  },
  {
   "cell_type": "code",
   "execution_count": 1,
   "id": "8dce4202",
   "metadata": {},
   "outputs": [
    {
     "data": {
      "text/markdown": [
       "<span style=\"color: red\">Unknown error.</span><br><span style=\"color: #ccc\">cannot unpack non-iterable Markdown object</span>"
      ],
      "text/plain": [
       "<IPython.core.display.Markdown object>"
      ]
     },
     "metadata": {},
     "output_type": "display_data"
    }
   ],
   "source": [
    "# csv\n",
    "%openad show molecules using file 'base_molecules.csv'"
   ]
  },
  {
   "cell_type": "code",
   "execution_count": null,
   "id": "fb5c270b",
   "metadata": {},
   "outputs": [],
   "source": [
    "# Dataframe\n",
    "from rdkit.Chem import PandasTools\n",
    "df = PandasTools.LoadSDF('../_for_testing/base_molecules.sdf')\n",
    "%openad show molecules using dataframe df"
   ]
  },
  {
   "cell_type": "markdown",
   "id": "7fd86e6d",
   "metadata": {},
   "source": [
    "### Save as file\n",
    "This is currently not supported in Notebooks.\n",
    "Todo: add catch-all error message for non-supported commands in Notebook."
   ]
  },
  {
   "cell_type": "code",
   "execution_count": null,
   "id": "33fc1515",
   "metadata": {},
   "outputs": [],
   "source": [
    "# %openad show molecules using file '_for_testing/base_molecules.sdf' save as 'result.sdf'\n",
    "# %openad show molecules using file '_for_testing/base_molecules.sdf' save as 'result.csv'\n",
    "# %openad show molecules using file '_for_testing/base_molecules.sdf' save as 'folder1/folder2/result.sdf'"
   ]
  },
  {
   "cell_type": "markdown",
   "id": "decc2fa6",
   "metadata": {},
   "source": [
    "### Return as molsobject"
   ]
  },
  {
   "cell_type": "code",
   "execution_count": 1,
   "id": "2bf2bbde",
   "metadata": {},
   "outputs": [
    {
     "data": {
      "application/vnd.jupyter.widget-view+json": {
       "model_id": "bebc13f06a1b47c1ac85d035d9ca2112",
       "version_major": 2,
       "version_minor": 0
      },
      "text/plain": [
       "MolGridWidget(grid_id='base_molecules.sdf')"
      ]
     },
     "metadata": {},
     "output_type": "display_data"
    }
   ],
   "source": [
    "x = %openad show molecules using file 'base_molecules.sdf' as molsobject"
   ]
  },
  {
   "cell_type": "code",
   "execution_count": null,
   "id": "0169c034",
   "metadata": {},
   "outputs": [],
   "source": [
    "x.display()"
   ]
  },
  {
   "cell_type": "code",
   "execution_count": null,
   "id": "3699f7ac",
   "metadata": {},
   "outputs": [],
   "source": [
    "# TO DO: it seems that adding a styling function doesn't work:\n",
    "# x.display(**{'subset': ['NAME', 'SOL'], 'tooltip': ['SMILES', 'SOL_classification', 'ROMol'], style={\"SOL\": lambda x: \"color: red\" if x < -5 else \"\"}})\n",
    "x.display(**{'subset': ['NAME', 'SOL'], 'tooltip': ['SMILES', 'SOL_classification', 'ROMol']})"
   ]
  },
  {
   "cell_type": "markdown",
   "id": "c6b97b6a",
   "metadata": {},
   "source": [
    "### Display selection from dataframe"
   ]
  },
  {
   "cell_type": "code",
   "execution_count": null,
   "id": "09cbd36c",
   "metadata": {},
   "outputs": [],
   "source": [
    "%run openad.ipynb\n",
    "x = %openad show molecules using file 'base_molecules.sdf' as molsobject\n",
    "# x.display(**{'subset': ['NAME', 'SOL'], 'tooltip': ['SMILES', 'SOL_classification', 'ROMol']})\n",
    "x.display()"
   ]
  },
  {
   "cell_type": "code",
   "execution_count": null,
   "id": "deb9ea84-0e10-4d3e-b1d1-119ac82b5bdf",
   "metadata": {},
   "outputs": [],
   "source": [
    "%ls"
   ]
  },
  {
   "cell_type": "code",
   "execution_count": null,
   "id": "ecc55abb",
   "metadata": {},
   "outputs": [],
   "source": [
    "# Currently get_selection is not returning results but only bc something is messed up with my Notebooks.\n",
    "selection_df = x.get_selection()\n",
    "if not len(selection_df):\n",
    "    print('No selection results... get_selection() may not return results.')\n",
    "else:\n",
    "    # %openad show molecules using dataframe selection_df\n",
    "    display(selection_df)"
   ]
  },
  {
   "cell_type": "markdown",
   "id": "99364037",
   "metadata": {},
   "source": [
    "# DS4SD"
   ]
  },
  {
   "cell_type": "code",
   "execution_count": null,
   "id": "ce751ddc",
   "metadata": {},
   "outputs": [],
   "source": [
    "# TO DO: hide loader\n",
    "# %run openad.ipynb\n",
    "# %openad clear sessions\n",
    "%openad add toolkit DS4SD\n",
    "%openad set context DS4SD\n",
    "smiles_molecules = %openad search for 'identifiers._name:\"smiles#ccc(coc(=o)cs)(c(=o)c(=o)cs)c(=o)c(=o)cs\" ' using (index_key='patent-uspto-smiles') show (data)\n",
    "print(666, smiles_molecules)\n",
    "x = %openad show molecules using dataframe smiles_molecules as molsobject\n",
    "x.display()"
   ]
  },
  {
   "cell_type": "code",
   "execution_count": null,
   "id": "fcf107a0",
   "metadata": {},
   "outputs": [],
   "source": [
    "%run openad.ipynb\n",
    "%openad list all toolkits"
   ]
  },
  {
   "cell_type": "code",
   "execution_count": null,
   "id": "68ad1848",
   "metadata": {},
   "outputs": [],
   "source": [
    "# %openad clear sessions\n",
    "# %openad add toolkit ds4sd\n",
    "# %openad set context ds4sd\n",
    "%openad exec display_collection(domain='Materials Science')"
   ]
  },
  {
   "cell_type": "code",
   "execution_count": null,
   "id": "cd084593",
   "metadata": {},
   "outputs": [],
   "source": [
    "%openad get status"
   ]
  },
  {
   "cell_type": "code",
   "execution_count": null,
   "id": "28dd811f",
   "metadata": {},
   "outputs": [],
   "source": []
  }
 ],
 "metadata": {
  "kernelspec": {
   "display_name": "Python 3 (ipykernel)",
   "language": "python",
   "name": "python3"
  },
  "language_info": {
   "codemirror_mode": {
    "name": "ipython",
    "version": 3
   },
   "file_extension": ".py",
   "mimetype": "text/x-python",
   "name": "python",
   "nbconvert_exporter": "python",
   "pygments_lexer": "ipython3",
   "version": "3.11.2"
  }
 },
 "nbformat": 4,
 "nbformat_minor": 5
}
