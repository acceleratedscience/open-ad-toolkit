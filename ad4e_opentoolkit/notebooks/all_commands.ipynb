{
 "cells": [
  {
   "cell_type": "markdown",
   "id": "abae5756",
   "metadata": {},
   "source": [
    "# Command Tester\n",
    "This file is meant to test all commands quickly. You can start from scratch and just hit play.<br>\n",
    "<br>\n",
    "Dependent on files inside `/_for testing`"
   ]
  },
  {
   "cell_type": "code",
   "execution_count": null,
   "id": "3613832d",
   "metadata": {},
   "outputs": [],
   "source": [
    "# Initiate & trigger ~/.openad creation.\n",
    "%run openad.ipynb\n",
    "%openad get status\n",
    "\n",
    "# Skip authorization.\n",
    "auth_file_name = 'ds-auth.ext-v2.json'\n",
    "auth_file_from = '_for_testing/' + auth_file_name\n",
    "auth_file_to = os.path.expanduser('~/.openad/' + auth_file_name)\n",
    "if not os.path.exists(auth_file_to):\n",
    "    import shutil\n",
    "    import os\n",
    "    shutil.copyfile(auth_file_from, auth_file_to)\n",
    "    print('Bypassed authorization.')\n",
    "else:\n",
    "    print('Already authorized.')"
   ]
  },
  {
   "cell_type": "markdown",
   "id": "c79b229b",
   "metadata": {},
   "source": [
    "# Toolkits"
   ]
  },
  {
   "cell_type": "code",
   "execution_count": null,
   "id": "2c91192e",
   "metadata": {},
   "outputs": [],
   "source": [
    "# In case you're not starting from scratch.\n",
    "# %openad clear sessions\n",
    "%openad remove toolkit DS4SD\n",
    "%openad remove toolkit GT4SD\n",
    "%openad remove toolkit ST4SD\n",
    "%openad remove toolkit RXN"
   ]
  },
  {
   "cell_type": "code",
   "execution_count": null,
   "id": "9bea55c2",
   "metadata": {},
   "outputs": [],
   "source": [
    "# Error message.\n",
    "%openad set context DS4SD"
   ]
  },
  {
   "cell_type": "code",
   "execution_count": null,
   "id": "7612ada8",
   "metadata": {},
   "outputs": [],
   "source": [
    "# No toolkits yet.\n",
    "%openad list toolkits"
   ]
  },
  {
   "cell_type": "code",
   "execution_count": null,
   "id": "e61183e0",
   "metadata": {},
   "outputs": [],
   "source": [
    "%openad list all toolkits"
   ]
  },
  {
   "cell_type": "code",
   "execution_count": null,
   "id": "3b3bd1e0",
   "metadata": {},
   "outputs": [],
   "source": [
    "%openad add toolkit DS4SD"
   ]
  },
  {
   "cell_type": "code",
   "execution_count": null,
   "id": "1fff8c4b-e3a9-4b05-9ab1-0d587a249f17",
   "metadata": {},
   "outputs": [],
   "source": [
    "%openad clear sessions"
   ]
  },
  {
   "cell_type": "code",
   "execution_count": null,
   "id": "ca7772df",
   "metadata": {},
   "outputs": [],
   "source": [
    "%openad list all toolkits"
   ]
  },
  {
   "cell_type": "code",
   "execution_count": null,
   "id": "2086800a",
   "metadata": {},
   "outputs": [],
   "source": [
    "%openad set context DS4SD"
   ]
  },
  {
   "cell_type": "markdown",
   "id": "d30209a2",
   "metadata": {},
   "source": [
    "# Workspaces"
   ]
  },
  {
   "cell_type": "code",
   "execution_count": null,
   "id": "899a8db1",
   "metadata": {},
   "outputs": [],
   "source": [
    "# %run openad.ipynb\n",
    "%openad list workspaces"
   ]
  },
  {
   "cell_type": "code",
   "execution_count": null,
   "id": "ec7bc3b4",
   "metadata": {},
   "outputs": [],
   "source": [
    "# %openad clear sessions\n",
    "%openad remove workspace jupytest\n",
    "%openad create workspace jupytest"
   ]
  },
  {
   "cell_type": "code",
   "execution_count": null,
   "id": "5fc66a58",
   "metadata": {},
   "outputs": [],
   "source": [
    "# This doesn't create the folder in Jupyter\n",
    "%openad remove workspace jupytest1\n",
    "%openad create workspace jupytest1 description('A test workspace') on path '~/Desktop'"
   ]
  },
  {
   "cell_type": "code",
   "execution_count": null,
   "id": "1470b8cb",
   "metadata": {},
   "outputs": [],
   "source": [
    "%openad remove workspace keeper\n",
    "%openad create workspace keeper description('We keep this one')"
   ]
  },
  {
   "cell_type": "code",
   "execution_count": null,
   "id": "38d8811e",
   "metadata": {},
   "outputs": [],
   "source": [
    "%openad list workspaces"
   ]
  },
  {
   "cell_type": "code",
   "execution_count": null,
   "id": "1e1ed90f",
   "metadata": {},
   "outputs": [],
   "source": [
    "%openad get workspace keeper"
   ]
  },
  {
   "cell_type": "code",
   "execution_count": null,
   "id": "75d89f42",
   "metadata": {},
   "outputs": [],
   "source": [
    "%openad set workspace default"
   ]
  },
  {
   "cell_type": "code",
   "execution_count": null,
   "id": "0d96a137",
   "metadata": {},
   "outputs": [],
   "source": [
    "%openad remove workspace jupytest\n",
    "%openad remove workspace jupytest1"
   ]
  },
  {
   "cell_type": "markdown",
   "id": "be262514",
   "metadata": {},
   "source": [
    "# File System"
   ]
  },
  {
   "cell_type": "code",
   "execution_count": null,
   "id": "2c2f2538",
   "metadata": {},
   "outputs": [],
   "source": [
    "# No files yet\n",
    "%openad list files"
   ]
  },
  {
   "cell_type": "code",
   "execution_count": null,
   "id": "dbd503e2",
   "metadata": {},
   "outputs": [],
   "source": [
    "# Import file from repo to workspace\n",
    "%openad import from '../_for_testing/base_molecules.sdf' to 'base_molecules.sdf'\n",
    "%openad import from '../_for_testing/base_molecules.csv' to 'base_molecules.csv'"
   ]
  },
  {
   "cell_type": "code",
   "execution_count": null,
   "id": "b4c4b71a",
   "metadata": {},
   "outputs": [],
   "source": [
    "# Export from workspace to desktop\n",
    "%openad export from 'base_molecules.sdf' to '~/Desktop/exported_molecules.sdf'\n",
    "\n",
    "# Copying nested files also possible:\n",
    "# %openad export from '_runs/my_run1.run' to '/Users/themoenen/Documents/Dump/test.run'"
   ]
  },
  {
   "cell_type": "code",
   "execution_count": null,
   "id": "01eb2810",
   "metadata": {},
   "outputs": [],
   "source": [
    "# Import from desktop to workspace\n",
    "%openad import from '~/Desktop/exported_molecules.sdf' to 'imported_molecules.sdf'"
   ]
  },
  {
   "cell_type": "code",
   "execution_count": null,
   "id": "5d2402b3",
   "metadata": {},
   "outputs": [],
   "source": [
    "# Copy from workspace to another workspace\n",
    "%openad copy file 'imported_molecules.sdf' to 'keeper'"
   ]
  },
  {
   "cell_type": "raw",
   "id": "19c829d0-e589-412d-a840-7ddb7f7f220d",
   "metadata": {},
   "source": []
  },
  {
   "cell_type": "code",
   "execution_count": null,
   "id": "ded2bc47",
   "metadata": {},
   "outputs": [],
   "source": [
    "# Delete\n",
    "%openad remove 'imported_molecules.sdf'"
   ]
  },
  {
   "cell_type": "markdown",
   "id": "044a6448",
   "metadata": {},
   "source": [
    "# General"
   ]
  },
  {
   "cell_type": "code",
   "execution_count": null,
   "id": "ae18b924",
   "metadata": {},
   "outputs": [],
   "source": [
    "%openad get status"
   ]
  },
  {
   "cell_type": "code",
   "execution_count": null,
   "id": "49fee42d",
   "metadata": {},
   "outputs": [],
   "source": [
    "%openad display history"
   ]
  },
  {
   "cell_type": "code",
   "execution_count": null,
   "id": "8a580d83",
   "metadata": {},
   "outputs": [],
   "source": [
    "%openad clear sessions"
   ]
  },
  {
   "cell_type": "code",
   "execution_count": null,
   "id": "0f42ae99",
   "metadata": {},
   "outputs": [],
   "source": [
    "# Not sure how we should do this in Jupyter... let's discuss.\n",
    "# %openad edit config 'func_display_collection.json'"
   ]
  },
  {
   "cell_type": "markdown",
   "id": "3d605cb5",
   "metadata": {},
   "source": [
    "# Help"
   ]
  },
  {
   "cell_type": "code",
   "execution_count": null,
   "id": "e1140a67",
   "metadata": {},
   "outputs": [],
   "source": [
    "# TO DO: This should use iPython.display\n",
    "%run openad.ipynb\n",
    "%openad intro"
   ]
  },
  {
   "cell_type": "code",
   "execution_count": null,
   "id": "5df40f74",
   "metadata": {},
   "outputs": [],
   "source": [
    "# Welcome screens no good\n",
    "%openad openad"
   ]
  },
  {
   "cell_type": "code",
   "execution_count": null,
   "id": "e7775852",
   "metadata": {},
   "outputs": [],
   "source": [
    "%openad ?"
   ]
  },
  {
   "cell_type": "code",
   "execution_count": null,
   "id": "7520f876",
   "metadata": {},
   "outputs": [],
   "source": [
    "%openad ??"
   ]
  },
  {
   "cell_type": "code",
   "execution_count": null,
   "id": "ad83b2a5",
   "metadata": {},
   "outputs": [],
   "source": [
    "%openad r ?"
   ]
  },
  {
   "cell_type": "code",
   "execution_count": null,
   "id": "f5375458",
   "metadata": {},
   "outputs": [],
   "source": [
    "%openad run ?"
   ]
  },
  {
   "cell_type": "markdown",
   "id": "5f16f1b5",
   "metadata": {},
   "source": [
    "# Runs"
   ]
  },
  {
   "cell_type": "code",
   "execution_count": null,
   "id": "99fa4409",
   "metadata": {},
   "outputs": [],
   "source": [
    "# %run openad.ipynb\n",
    "\n",
    "# No runs yet\n",
    "%openad list runs"
   ]
  },
  {
   "cell_type": "code",
   "execution_count": null,
   "id": "f0a04e76",
   "metadata": {},
   "outputs": [],
   "source": [
    "%openad create run"
   ]
  },
  {
   "cell_type": "code",
   "execution_count": null,
   "id": "2ec23366",
   "metadata": {},
   "outputs": [],
   "source": [
    "# Just here to store somethin in the run\n",
    "%openad list files"
   ]
  },
  {
   "cell_type": "code",
   "execution_count": null,
   "id": "53516584",
   "metadata": {},
   "outputs": [],
   "source": [
    "%openad save run as tester"
   ]
  },
  {
   "cell_type": "code",
   "execution_count": null,
   "id": "c7e23337",
   "metadata": {},
   "outputs": [],
   "source": [
    "# TO DO: Clean up this function. Also find out why there's 'None' printed at the bottom\n",
    "%openad run tester"
   ]
  },
  {
   "cell_type": "code",
   "execution_count": null,
   "id": "2f3d2cb3",
   "metadata": {},
   "outputs": [],
   "source": [
    "%openad list runs"
   ]
  },
  {
   "cell_type": "markdown",
   "id": "93e865d9",
   "metadata": {},
   "source": [
    "# Mols Viewer"
   ]
  },
  {
   "cell_type": "code",
   "execution_count": null,
   "id": "ea3b08d5",
   "metadata": {},
   "outputs": [],
   "source": [
    "# %run openad.ipynb\n",
    "%openad set workspace default"
   ]
  },
  {
   "cell_type": "markdown",
   "id": "0230ad6c",
   "metadata": {},
   "source": [
    "### Display molecules from file"
   ]
  },
  {
   "cell_type": "code",
   "execution_count": null,
   "id": "7135434e",
   "metadata": {},
   "outputs": [],
   "source": [
    "# sdf\n",
    "%openad show molecules using file 'base_molecules.sdf'"
   ]
  },
  {
   "cell_type": "code",
   "execution_count": null,
   "id": "8dce4202",
   "metadata": {},
   "outputs": [],
   "source": [
    "# csv\n",
    "%openad show molecules using file 'base_molecules.csv'"
   ]
  },
  {
   "cell_type": "code",
   "execution_count": null,
   "id": "fb5c270b",
   "metadata": {},
   "outputs": [],
   "source": [
    "# Dataframe\n",
    "from rdkit.Chem import PandasTools\n",
    "df = PandasTools.LoadSDF('../_for_testing/base_molecules.sdf')\n",
    "%openad show molecules using dataframe df"
   ]
  },
  {
   "cell_type": "markdown",
   "id": "7fd86e6d",
   "metadata": {},
   "source": [
    "### Save as file\n",
    "This is currently not supported in Notebooks.\n",
    "Todo: add catch-all error message for non-supported commands in Notebook."
   ]
  },
  {
   "cell_type": "code",
   "execution_count": null,
   "id": "33fc1515",
   "metadata": {},
   "outputs": [],
   "source": [
    "# %openad show molecules using file '_for_testing/base_molecules.sdf' save as 'result.sdf'\n",
    "# %openad show molecules using file '_for_testing/base_molecules.sdf' save as 'result.csv'\n",
    "# %openad show molecules using file '_for_testing/base_molecules.sdf' save as 'folder1/folder2/result.sdf'"
   ]
  },
  {
   "cell_type": "markdown",
   "id": "decc2fa6",
   "metadata": {},
   "source": [
    "### Return as molsobject"
   ]
  },
  {
   "cell_type": "code",
   "execution_count": null,
   "id": "2bf2bbde",
   "metadata": {},
   "outputs": [],
   "source": [
    "x = %openad show molecules using file 'base_molecules.sdf' as molsobject"
   ]
  },
  {
   "cell_type": "code",
   "execution_count": null,
   "id": "0169c034",
   "metadata": {},
   "outputs": [],
   "source": [
    "x.display()"
   ]
  },
  {
   "cell_type": "code",
   "execution_count": null,
   "id": "3699f7ac",
   "metadata": {},
   "outputs": [],
   "source": [
    "# TO DO: it seems that adding a styling function doesn't work:\n",
    "# x.display(**{'subset': ['NAME', 'SOL'], 'tooltip': ['SMILES', 'SOL_classification', 'ROMol'], style={\"SOL\": lambda x: \"color: red\" if x < -5 else \"\"}})\n",
    "x.display(**{'subset': ['NAME', 'SOL'], 'tooltip': ['SMILES', 'SOL_classification', 'ROMol']})"
   ]
  },
  {
   "cell_type": "markdown",
   "id": "c6b97b6a",
   "metadata": {},
   "source": [
    "### Display selection from dataframe"
   ]
  },
  {
   "cell_type": "code",
   "execution_count": null,
   "id": "09cbd36c",
   "metadata": {},
   "outputs": [],
   "source": [
    "%run openad.ipynb\n",
    "x = %openad show molecules using file 'base_molecules.sdf' as molsobject\n",
    "# x.display(**{'subset': ['NAME', 'SOL'], 'tooltip': ['SMILES', 'SOL_classification', 'ROMol']})\n",
    "x.display()"
   ]
  },
  {
   "cell_type": "code",
   "execution_count": null,
   "id": "deb9ea84-0e10-4d3e-b1d1-119ac82b5bdf",
   "metadata": {},
   "outputs": [],
   "source": [
    "%ls"
   ]
  },
  {
   "cell_type": "code",
   "execution_count": null,
   "id": "ecc55abb",
   "metadata": {},
   "outputs": [],
   "source": [
    "# Currently get_selection is not returning results but only bc something is messed up with my Notebooks.\n",
    "selection_df = x.get_selection()\n",
    "if not len(selection_df):\n",
    "    print('No selection results... get_selection() may not return results.')\n",
    "else:\n",
    "    # %openad show molecules using dataframe selection_df\n",
    "    display(selection_df)"
   ]
  },
  {
   "cell_type": "markdown",
   "id": "99364037",
   "metadata": {},
   "source": [
    "# DS4SD"
   ]
  },
  {
   "cell_type": "code",
   "execution_count": null,
   "id": "ce751ddc",
   "metadata": {},
   "outputs": [],
   "source": [
    "# TO DO: hide loader\n",
    "# %run openad.ipynb\n",
    "# %openad clear sessions\n",
    "%openad add toolkit DS4SD\n",
    "%openad set context DS4SD\n",
    "smiles_molecules = %openad search for 'identifiers._name:\"smiles#ccc(coc(=o)cs)(c(=o)c(=o)cs)c(=o)c(=o)cs\" ' using (index_key='patent-uspto-smiles') show (data)\n",
    "print(666, smiles_molecules)\n",
    "x = %openad show molecules using dataframe smiles_molecules as molsobject\n",
    "x.display()"
   ]
  },
  {
   "cell_type": "code",
   "execution_count": null,
   "id": "fcf107a0",
   "metadata": {},
   "outputs": [],
   "source": [
    "%run openad.ipynb\n",
    "%openad list all toolkits"
   ]
  },
  {
   "cell_type": "code",
   "execution_count": null,
   "id": "68ad1848",
   "metadata": {},
   "outputs": [],
   "source": [
    "# %openad clear sessions\n",
    "# %openad add toolkit ds4sd\n",
    "# %openad set context ds4sd\n",
    "%openad exec display_collection(domain='Materials Science')"
   ]
  },
  {
   "cell_type": "code",
   "execution_count": null,
   "id": "cd084593",
   "metadata": {},
   "outputs": [],
   "source": [
    "%openad get status"
   ]
  },
  {
   "cell_type": "code",
   "execution_count": null,
   "id": "28dd811f",
   "metadata": {},
   "outputs": [],
   "source": []
  }
 ],
 "metadata": {
  "kernelspec": {
   "display_name": "Python 3 (ipykernel)",
   "language": "python",
   "name": "python3"
  },
  "language_info": {
   "codemirror_mode": {
    "name": "ipython",
    "version": 3
   },
   "file_extension": ".py",
   "mimetype": "text/x-python",
   "name": "python",
   "nbconvert_exporter": "python",
   "pygments_lexer": "ipython3",
   "version": "3.9.10"
  }
 },
 "nbformat": 4,
 "nbformat_minor": 5
}
