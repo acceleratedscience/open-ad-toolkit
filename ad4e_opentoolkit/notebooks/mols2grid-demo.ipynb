{
 "cells": [
  {
   "cell_type": "code",
   "execution_count": null,
   "id": "ce7c81c3",
   "metadata": {},
   "outputs": [],
   "source": [
    "import sys\n",
    "import os\n",
    "# sys.path.append('.molsviewer/')\n",
    "os.sys.path.append(os.path.dirname(os.path.abspath('./')))\n",
    "import molsviewer.mols2grid\n",
    "mols2grid.display('./solubility.test.sdf',\n",
    "    subset=['NAME', 'SMILES', 'SOL'],\n",
    "    tooltip=['NAME', 'SOL', 'SOL_classification', 'SMILES'],\n",
    "    style={\"SOL\": lambda x: \"color: #d00\" if x < -5 else \"\"},\n",
    ")"
   ]
  },
  {
   "cell_type": "code",
   "execution_count": null,
   "id": "dcd749e9",
   "metadata": {},
   "outputs": [],
   "source": [
    "selection = mols2grid.get_selection()\n",
    "print(selection)"
   ]
  },
  {
   "cell_type": "code",
   "execution_count": null,
   "id": "aecd3c81",
   "metadata": {},
   "outputs": [],
   "source": [
    "# import sys\n",
    "# sys.path.append('../mols2grid')\n",
    "# import mols2grid\n",
    "import mols2grid_old\n",
    "mols2grid_old.display('./solubility.test.sdf',\n",
    "    subset=['img', 'NAME', 'SMILES', 'SOL'],\n",
    "    tooltip=['NAME', 'SOL', 'SOL_classification', 'SMILES'],\n",
    "    style={\"SOL\": lambda x: \"color: #d00\" if x < -5 else \"\"},\n",
    ")"
   ]
  },
  {
   "cell_type": "code",
   "execution_count": null,
   "id": "1bafbacc",
   "metadata": {},
   "outputs": [],
   "source": [
    "selection = mols2grid_old.get_selection()\n",
    "print(selection)"
   ]
  }
 ],
 "metadata": {
  "kernelspec": {
   "display_name": "openad",
   "language": "python",
   "name": "openad"
  },
  "language_info": {
   "codemirror_mode": {
    "name": "ipython",
    "version": 3
   },
   "file_extension": ".py",
   "mimetype": "text/x-python",
   "name": "python",
   "nbconvert_exporter": "python",
   "pygments_lexer": "ipython3",
   "version": "3.10.10"
  }
 },
 "nbformat": 4,
 "nbformat_minor": 5
}
