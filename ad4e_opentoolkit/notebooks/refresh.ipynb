{
 "cells": [
  {
   "cell_type": "markdown",
   "metadata": {},
   "source": [
    "# Code for Refreshing Slideware and Youtube Videos in a Notebook\n",
    "When this file is run from within a notebook, it will search for all cells that have a tag of `refresh` and then execute the code in that cell. The cells should be used for Youtube videos or Slideshare presentations."
   ]
  },
  {
   "cell_type": "code",
   "execution_count": 4,
   "metadata": {},
   "outputs": [],
   "source": [
    "\n",
    "import warnings; warnings.simplefilter('ignore')\n",
    "from IPython.core.display import display, HTML, Javascript"
   ]
  },
  {
   "cell_type": "code",
   "execution_count": 8,
   "metadata": {},
   "outputs": [
    {
     "data": {
      "application/javascript": [
       "\n",
       "// Scan the entire notebook for cells that have refresh tags and execute them\n",
       "\n",
       "window.findCellIndicesByTag = function findCellIndicesByTag(tagName) {\n",
       "  return (IPython.notebook.get_cells()\n",
       "    .filter(\n",
       "({metadata: {tags}}) => tags && tags.includes(tagName)\n",
       "  )\n",
       "   .map((cell) => IPython.notebook.find_cell_index(cell))\n",
       "  );\n",
       "};\n",
       "\n",
       "window.refresh = function runRefreshCells() {\n",
       "    var c = window.findCellIndicesByTag('refresh');\n",
       "    IPython.notebook.execute_cells(c);\n",
       "};\n",
       "\n",
       "\n",
       "// Search for a Markdown cell that contains a comment line with the name of the code we are looking for\n",
       "\n",
       "window.copySearch = function copySearch(id) {\n",
       "    var cells = IPython.notebook.get_cells();\n",
       "    for(var i in cells) {\n",
       "        var cell = cells[i];\n",
       "        if (cell['cell_type'] == 'markdown') {\n",
       "            var text = cell.get_text();\n",
       "            var n = text.search(\"<!--\"+id+\"-->\");\n",
       "            if (n != -1) {  \n",
       "                var content = text.replace(/(^<!.*-->.*\\n?)|(```.*\\n?)/g, \"\");\n",
       "                navigator.clipboard.writeText(content);  \n",
       "                return\n",
       "                }\n",
       "        }\n",
       "    }\n",
       "    navigator.clipboard.writeText(\"Cell \" + id + \" not found\"); \n",
       "}\n",
       "\n",
       "// Highlight the background of the current cell and copy the contents onto the clipboard\n",
       "\n",
       "window.clipline = function clipline(codeIndex) {\n",
       "    var cell = document.getElementById(codeIndex);\n",
       "    var code = cell.textContent;\n",
       "    var parent = cell.parentNode;\n",
       "    parent.style.backgroundColor = \"lightBlue\"; // backcolor\n",
       "    navigator.clipboard.writeText(code);\n",
       "  \n",
       "    \n",
       "}\n",
       "\n",
       "window.reset = function reset(codeIndex) {\n",
       "    var cell = document.getElementById(codeIndex);\n",
       "    var parent = cell.parentNode;\n",
       "    parent.style.backgroundColor = \"#000000\" // backcolor\n",
       "}\n",
       "window.reset2 = function reset2(codeIndex) {\n",
       "    var cell = document.getElementById(codeIndex);\n",
       "    var parent = cell.parentNode;\n",
       "    parent.style.backgroundColor = \"white\" // backcolor\n",
       "}\n"
      ],
      "text/plain": [
       "<IPython.core.display.Javascript object>"
      ]
     },
     "metadata": {},
     "output_type": "display_data"
    }
   ],
   "source": [
    "%%javascript\n",
    "\n",
    "// Scan the entire notebook for cells that have refresh tags and execute them\n",
    "\n",
    "window.findCellIndicesByTag = function findCellIndicesByTag(tagName) {\n",
    "  return (IPython.notebook.get_cells()\n",
    "    .filter(\n",
    "({metadata: {tags}}) => tags && tags.includes(tagName)\n",
    "  )\n",
    "   .map((cell) => IPython.notebook.find_cell_index(cell))\n",
    "  );\n",
    "};\n",
    "\n",
    "window.refresh = function runRefreshCells() {\n",
    "    var c = window.findCellIndicesByTag('refresh');\n",
    "    IPython.notebook.execute_cells(c);\n",
    "};\n",
    "\n",
    "\n",
    "// Search for a Markdown cell that contains a comment line with the name of the code we are looking for\n",
    "\n",
    "window.copySearch = function copySearch(id) {\n",
    "    var cells = IPython.notebook.get_cells();\n",
    "    for(var i in cells) {\n",
    "        var cell = cells[i];\n",
    "        if (cell['cell_type'] == 'markdown') {\n",
    "            var text = cell.get_text();\n",
    "            var n = text.search(\"<!--\"+id+\"-->\");\n",
    "            if (n != -1) {  \n",
    "                var content = text.replace(/(^<!.*-->.*\\n?)|(```.*\\n?)/g, \"\");\n",
    "                navigator.clipboard.writeText(content);  \n",
    "                return\n",
    "                }\n",
    "        }\n",
    "    }\n",
    "    navigator.clipboard.writeText(\"Cell \" + id + \" not found\"); \n",
    "}\n",
    "\n",
    "// Highlight the background of the current cell and copy the contents onto the clipboard\n",
    "\n",
    "window.clipline = function clipline(codeIndex) {\n",
    "    var cell = document.getElementById(codeIndex);\n",
    "    var code = cell.textContent;\n",
    "    var parent = cell.parentNode;\n",
    "    parent.style.backgroundColor = \"lightBlue\"; // backcolor\n",
    "    navigator.clipboard.writeText(code);\n",
    "}\n",
    "\n",
    "window.reset = function reset(codeIndex) {\n",
    "    var cell = document.getElementById(codeIndex);\n",
    "    var parent = cell.parentNode;\n",
    "    parent.style.backgroundColor = \"#000000\" // backcolor\n",
    "}\n",
    "window.reset2 = function reset2(codeIndex) {\n",
    "    var cell = document.getElementById(codeIndex);\n",
    "    var parent = cell.parentNode;\n",
    "    parent.style.backgroundColor = \"white\" // backcolor\n",
    "}"
   ]
  },
  {
   "cell_type": "markdown",
   "metadata": {},
   "source": [
    "## Prototype for Copying Commands onto the Clipboard\n",
    "Place the following code block in a cell by itself where you want to copy system commands onto the clipboard. If you have multiple lines to copy (like a program code) then you should use the next copy button. "
   ]
  },
  {
   "cell_type": "markdown",
   "metadata": {},
   "source": [
    "```html\n",
    "%%html\n",
    "<div style=\"margin-left: 35px; border-style: solid; border-width: 1px; background-color:#F2F2F2; padding: 10px;\" >\n",
    "<pre id=111 onmousedown=\"window.clipline(111)\" onmouseup=\"window.reset(111)\">\n",
    "Sample code is found in cells like this.\n",
    "</pre>\n",
    "</div>\n",
    "```"
   ]
  },
  {
   "cell_type": "markdown",
   "metadata": {},
   "source": [
    "This function will copy the contents of the command that is found within the `<pre> ... </pre>` block. The user only has to click on the cell (which will have a grey background) and it will copy of the contents onto the clipboard.\n",
    "\n",
    "In all cases, the id tag `id=#` and the parameter for the `clipline` and `reset` functions must be the same. This value can be numeric or a string, as long as every code block has a unique identifier.\n",
    "```html\n",
    "<pre id=111 onmousedown=\"window.clipline(111)\" onmouseup=\"window.reset(111)\">\n",
    "```"
   ]
  },
  {
   "cell_type": "markdown",
   "metadata": {},
   "source": [
    "In addition to placing this code in a cell, you must also update the **tag** for this cell to have \"refresh\" as a value. If you do not set a tag then there is a possibility that the button will not display properly when the notebook is first displayed."
   ]
  },
  {
   "cell_type": "markdown",
   "metadata": {},
   "source": [
    "## Prototype for Copy Button with a Block of Code\n",
    "This function will copy the contents of the example block of code that is in the prior cell. "
   ]
  },
  {
   "cell_type": "markdown",
   "metadata": {
    "slideshow": {
     "slide_type": "subslide"
    }
   },
   "source": [
    "```html\n",
    "%%html\n",
    "<div style=\"margin-left: 45px\">\n",
    "<button type=\"button\" onclick=\"window.copySearch('sample.sql')\">Copy</button> \n",
    "```"
   ]
  },
  {
   "cell_type": "markdown",
   "metadata": {},
   "source": [
    "In addition to placing this code in a cell, you must also update the **tag** for this cell to have \"refresh\" as a value. If you do not set a tag then there is a possibility that the button will not display properly when the notebook is first displayed."
   ]
  },
  {
   "cell_type": "markdown",
   "metadata": {},
   "source": [
    "The sample code needs to be placed into its own markdown cell and be surrounded by markdown similar to the following:\n",
    "<pre>\n",
    "&lt;!--sample.sql--&gt;\n",
    "```sql\n",
    "SELECT * FROM EMPLOYEE;\n",
    "```\n",
    "</pre>\n",
    "The HTML comment line `<!--sample.sql-->` is required to be the first line of the block and contain the name of the code snippet (in this case it is `sample.sql`). The comment line does not display when you save the cell. The copy button is then placed below this example text and the argument to the `copySearch` function will include the name of this code section (`sample.sql`).\n",
    "\n",
    "\n",
    "\n",
    "\n",
    "The function will take the code that is between the markdown block and place it onto the clipboard. The example above will result in only the SQL being copied to the clipboard. Note that the start and end sections of the markdown block are removed.\n",
    "```sql\n",
    "SELECT * FROM EMPLOYEE;\n",
    "```"
   ]
  },
  {
   "cell_type": "markdown",
   "metadata": {},
   "source": [
    "## Refresh all Video and Slideware Cells"
   ]
  },
  {
   "cell_type": "markdown",
   "metadata": {},
   "source": [
    "Run through all of the cells and refresh everything that has a **refresh** tag in it."
   ]
  },
  {
   "cell_type": "code",
   "execution_count": null,
   "metadata": {},
   "outputs": [],
   "source": [
    "#from IPython.display import Javascript\n",
    "#display(Javascript(\"window.refresh()\"))"
   ]
  },
  {
   "cell_type": "markdown",
   "metadata": {},
   "source": [
    "#### Credits: IBM 2019, George Baklarz [baklarz@ca.ibm.com]"
   ]
  }
 ],
 "metadata": {
  "kernelspec": {
   "display_name": "Python 3 (ipykernel)",
   "language": "python",
   "name": "python3"
  },
  "language_info": {
   "codemirror_mode": {
    "name": "ipython",
    "version": 3
   },
   "file_extension": ".py",
   "mimetype": "text/x-python",
   "name": "python",
   "nbconvert_exporter": "python",
   "pygments_lexer": "ipython3",
   "version": "3.10.10"
  }
 },
 "nbformat": 4,
 "nbformat_minor": 4
}
