{
 "cells": [
  {
   "cell_type": "code",
   "execution_count": 1,
   "id": "008208f3-cb3c-4408-92c7-0dd91c174ebe",
   "metadata": {},
   "outputs": [
    {
     "ename": "ModuleNotFoundError",
     "evalue": "No module named 'rxn4chemistry'",
     "output_type": "error",
     "traceback": [
      "\u001b[0;31m---------------------------------------------------------------------------\u001b[0m",
      "\u001b[0;31mModuleNotFoundError\u001b[0m                       Traceback (most recent call last)",
      "Cell \u001b[0;32mIn[1], line 2\u001b[0m\n\u001b[1;32m      1\u001b[0m api_key \u001b[38;5;241m=\u001b[39m \u001b[38;5;124m'\u001b[39m\u001b[38;5;124mapk-b06428bd724620b04835ef5aa7505eab9309edf243e2467380602efc40528d0a1c9c3a8ffd213c2c434758fee73c406e5b10b390f8ed3b6a007f6142c95526c91708f66bcd9abae93d0a5e5400c2c3dc\u001b[39m\u001b[38;5;124m'\u001b[39m\n\u001b[0;32m----> 2\u001b[0m \u001b[38;5;28;01mfrom\u001b[39;00m \u001b[38;5;21;01mrxn4chemistry\u001b[39;00m \u001b[38;5;28;01mimport\u001b[39;00m RXN4ChemistryWrapper\n",
      "\u001b[0;31mModuleNotFoundError\u001b[0m: No module named 'rxn4chemistry'"
     ]
    }
   ],
   "source": [
    "api_key = 'apk-b06428bd724620b04835ef5aa7505eab9309edf243e2467380602efc40528d0a1c9c3a8ffd213c2c434758fee73c406e5b10b390f8ed3b6a007f6142c95526c91708f66bcd9abae93d0a5e5400c2c3dc'\n",
    "from rxn4chemistry import RXN4ChemistryWrapper\n",
    "\n"
   ]
  },
  {
   "cell_type": "code",
   "execution_count": 32,
   "id": "8cd49305-4a9c-4408-a7fe-ec5eb7b300c1",
   "metadata": {},
   "outputs": [
    {
     "name": "stdout",
     "output_type": "stream",
     "text": [
      "64b8d27867a117001f29351f\n"
     ]
    }
   ],
   "source": [
    "rxn4chemistry_wrapper = RXN4ChemistryWrapper(api_key=api_key, base_url=\"https://rxn.app.accelerate.science\")\n",
    "rxn4chemistry_wrapper.create_project('test_wrapper')\n",
    "print(rxn4chemistry_wrapper.project_id)\n"
   ]
  },
  {
   "cell_type": "code",
   "execution_count": 33,
   "id": "a7a53953-1d24-4676-af87-f3270cb715f8",
   "metadata": {},
   "outputs": [
    {
     "data": {
      "text/plain": [
       "[{'id': '64b864cd67a117001f28c6ee',\n",
       "  'metadata': {},\n",
       "  'embed': {},\n",
       "  'computedFields': {},\n",
       "  'createdOn': 1689806029535,\n",
       "  'createdBy': '70468807-204e-4bf2-95a7-1aec22140959',\n",
       "  'modifiedOn': 1689806029535,\n",
       "  'modifiedBy': '70468807-204e-4bf2-95a7-1aec22140959',\n",
       "  'name': 'cdccl_test',\n",
       "  'description': None,\n",
       "  'attempts': [],\n",
       "  'visibility': None,\n",
       "  'isFavorite': False},\n",
       " {'id': '64b8714e67a117001f28dbb2',\n",
       "  'metadata': {},\n",
       "  'embed': {},\n",
       "  'computedFields': {},\n",
       "  'createdOn': 1689809230899,\n",
       "  'createdBy': '70468807-204e-4bf2-95a7-1aec22140959',\n",
       "  'modifiedOn': 1689809230899,\n",
       "  'modifiedBy': '70468807-204e-4bf2-95a7-1aec22140959',\n",
       "  'name': 'test2',\n",
       "  'description': None,\n",
       "  'attempts': [],\n",
       "  'visibility': None,\n",
       "  'isFavorite': False},\n",
       " {'id': '64b8d27867a117001f29351f',\n",
       "  'metadata': {},\n",
       "  'embed': {},\n",
       "  'computedFields': {},\n",
       "  'createdOn': 1689834104543,\n",
       "  'createdBy': '70468807-204e-4bf2-95a7-1aec22140959',\n",
       "  'modifiedOn': 1689834104543,\n",
       "  'modifiedBy': '70468807-204e-4bf2-95a7-1aec22140959',\n",
       "  'name': 'test_wrapper',\n",
       "  'description': None,\n",
       "  'attempts': [],\n",
       "  'visibility': None,\n",
       "  'isFavorite': False}]"
      ]
     },
     "execution_count": 33,
     "metadata": {},
     "output_type": "execute_result"
    }
   ],
   "source": [
    "rxn4chemistry_wrapper.list_all_projects()['response']['payload']['content']"
   ]
  },
  {
   "cell_type": "code",
   "execution_count": 29,
   "id": "8239b315-8c00-4a33-b5f1-decce13529f3",
   "metadata": {},
   "outputs": [],
   "source": [
    "rxn4chemistry_wrapper.set_project('test2')"
   ]
  },
  {
   "cell_type": "code",
   "execution_count": 30,
   "id": "59e6c5af-e337-4c32-8f27-d245f547f7ab",
   "metadata": {},
   "outputs": [
    {
     "data": {
      "text/plain": [
       "{'sequence-to-actions': [{'name': '2020-10-20'}],\n",
       " 'paragraph-to-actions': [{'name': '2020-07-17'}],\n",
       " 'reaction-prediction-model': [{'name': '2018-08-31'}, {'name': '2020-08-10'}],\n",
       " 'retrosynthesis-prediction-model': [{'name': '12class-tokens-2021-05-14'},\n",
       "  {'name': '2019-09-12'},\n",
       "  {'name': '2020-04-24'},\n",
       "  {'name': '2020-07-01'},\n",
       "  {'name': '2020-07-31'},\n",
       "  {'name': 'aizynth-2020-06-11'},\n",
       "  {'name': 'disconnection-aware-2022-06-24'},\n",
       "  {'name': 'enzymatic-2021-04-16'},\n",
       "  {'name': 'enzymatic-2022-05-31'},\n",
       "  {'name': 'sulfonium-2020-10-27'}]}"
      ]
     },
     "execution_count": 30,
     "metadata": {},
     "output_type": "execute_result"
    }
   ],
   "source": [
    "rxn4chemistry_wrapper.list_models()"
   ]
  },
  {
   "cell_type": "code",
   "execution_count": 34,
   "id": "c03b2e31-6541-4194-a6f7-1682e7605788",
   "metadata": {},
   "outputs": [
    {
     "name": "stdout",
     "output_type": "stream",
     "text": [
      "{'prediction_id': '64b8d29367a117001f29355a', 'response': {'payload': {'id': '64b8d29367a117001f29355a', 'metadata': {}, 'embed': {}, 'computedFields': {}, 'createdOn': 1689834131850, 'createdBy': '70468807-204e-4bf2-95a7-1aec22140959', 'modifiedOn': 1689834131850, 'modifiedBy': '70468807-204e-4bf2-95a7-1aec22140959', 'request': {'reactants': 'BrBr.c1ccc2cc3ccccc3cc2c1', 'reagents': [], 'mol': None, 'aiModel': '2020-08-10', 'photochemical': False, 'thermal': False}, 'projectId': '64b8d27867a117001f29351f', 'taskId': '31fa833e-aeef-4811-b702-3897d984fbb1', 'mol': None, 'type': 'pr', 'status': 'PREDICTION_READY', 'errorMessage': None, 'attempts': None, 'canGenerateOutcomes': True, 'aiModel': '2020-08-10', 'isAiModelDeleted': False}, 'metadata': {'uiMessages': {'errors': [], 'infos': [], 'warnings': []}, 'extendedPagination': {}}}}\n"
     ]
    }
   ],
   "source": [
    "\n",
    "response = rxn4chemistry_wrapper.predict_reaction('BrBr.c1ccc2cc3ccccc3cc2c1',ai_model='2020-08-10')\n",
    "print(response)"
   ]
  },
  {
   "cell_type": "code",
   "execution_count": 6,
   "id": "c4d9e410-2105-43af-b2f5-a1f738d6aebd",
   "metadata": {},
   "outputs": [
    {
     "ename": "KeyError",
     "evalue": "'prediction_id'",
     "output_type": "error",
     "traceback": [
      "\u001b[0;31m---------------------------------------------------------------------------\u001b[0m",
      "\u001b[0;31mKeyError\u001b[0m                                  Traceback (most recent call last)",
      "Cell \u001b[0;32mIn[6], line 1\u001b[0m\n\u001b[0;32m----> 1\u001b[0m results \u001b[38;5;241m=\u001b[39m rxn4chemistry_wrapper\u001b[38;5;241m.\u001b[39mget_predict_reaction_results(\u001b[43mresponse\u001b[49m\u001b[43m[\u001b[49m\u001b[38;5;124;43m'\u001b[39;49m\u001b[38;5;124;43mprediction_id\u001b[39;49m\u001b[38;5;124;43m'\u001b[39;49m\u001b[43m]\u001b[49m)\n\u001b[1;32m      2\u001b[0m \u001b[38;5;28mprint\u001b[39m(results[\u001b[38;5;124m'\u001b[39m\u001b[38;5;124mresponse\u001b[39m\u001b[38;5;124m'\u001b[39m][\u001b[38;5;124m'\u001b[39m\u001b[38;5;124mpayload\u001b[39m\u001b[38;5;124m'\u001b[39m][\u001b[38;5;124m'\u001b[39m\u001b[38;5;124mattempts\u001b[39m\u001b[38;5;124m'\u001b[39m][\u001b[38;5;241m0\u001b[39m][\u001b[38;5;124m'\u001b[39m\u001b[38;5;124msmiles\u001b[39m\u001b[38;5;124m'\u001b[39m])\n",
      "\u001b[0;31mKeyError\u001b[0m: 'prediction_id'"
     ]
    }
   ],
   "source": [
    "results = rxn4chemistry_wrapper.get_predict_reaction_results(response['prediction_id'])\n",
    "print(results['response']['payload']['attempts'][0]['smiles'])"
   ]
  },
  {
   "cell_type": "code",
   "execution_count": null,
   "id": "1962ea3c-2304-43e2-b728-b5c1205275e2",
   "metadata": {},
   "outputs": [],
   "source": []
  }
 ],
 "metadata": {
  "kernelspec": {
   "display_name": "Python 3 (ipykernel)",
   "language": "python",
   "name": "python3"
  },
  "language_info": {
   "codemirror_mode": {
    "name": "ipython",
    "version": 3
   },
   "file_extension": ".py",
   "mimetype": "text/x-python",
   "name": "python",
   "nbconvert_exporter": "python",
   "pygments_lexer": "ipython3",
   "version": "3.9.6"
  }
 },
 "nbformat": 4,
 "nbformat_minor": 5
}
