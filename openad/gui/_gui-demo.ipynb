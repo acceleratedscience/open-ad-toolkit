{
 "cells": [
  {
   "cell_type": "markdown",
   "id": "b515acec-3107-4d3c-a814-ef66c675a642",
   "metadata": {},
   "source": [
    "<!-- When doing changes to this file, please keep them in sync with the README.md file -->\n",
    "\n",
    "# OpenAD GUI Demo\n",
    "\n",
    "The OpenAD GUI provides a visual window onto your data, helping you with evaluation and triage.\n",
    "\n",
    "<br>\n",
    "\n",
    "### <u>How it works</u>\n",
    "\n",
    "The GUI can be launched from the CLI (in the browser) or a Jupyter Notebook (in an iFrame).<br>\n",
    "Any command that requires the GUI will start the server, which will then keep on running until the application or Notebook is shut down."
   ]
  },
  {
   "cell_type": "markdown",
   "id": "6ef0d70c-5bf3-4527-bfc4-b7f44f93ccbc",
   "metadata": {},
   "source": [
    "<br>\n",
    "\n",
    "## <u>Components</u>\n",
    "\n",
    "1. File browser\n",
    "1. Molecule viewer\n",
    "2. Molecule set viewer\n",
    "1. Data viewer (to be implemented)\n",
    "1. \"My molecules\" working set\n",
    "1. Results"
   ]
  },
  {
   "cell_type": "markdown",
   "id": "4d3f6ef1-80ea-4b66-b351-bc44a31b2f40",
   "metadata": {
    "tags": []
   },
   "source": [
    "<br>\n",
    "\n",
    "### 1. File Browser\n",
    "\n",
    "The file browser lets us open our own proprietary file formats:\n",
    "\n",
    "- **.mol.json** --> Individual molecule files\n",
    "- **.molset.json** --> Sets of molecule files\n",
    "\n",
    "As well as a number of commonly used file formats:\n",
    "\n",
    "- **.mol**\n",
    "- **.sdf**\n",
    "- **.smi**\n",
    "- **.json**\n",
    "- **.csv**\n",
    "\n",
    "Files can easily be opened in your default system app, which is the default for any unsupported file formats."
   ]
  },
  {
   "cell_type": "code",
   "execution_count": 13,
   "id": "d73bfd83-6a95-4ae4-b111-fb3c95b2e375",
   "metadata": {
    "tags": []
   },
   "outputs": [
    {
     "data": {
      "text/html": [
       "\n",
       "            <style>\n",
       "                #btn-wrap-1721335435 { height:12px; right:20px; display:flex; flex-direction:row-reverse; position:relative }\n",
       "                #btn-wrap-1721335435 a { color:#393939; width:24px; height:24px; padding:4px; box-sizing:border-box; background:white }\n",
       "                #btn-wrap-1721335435 a:hover { color: #0f62fe }\n",
       "            </style>\n",
       "            <div id=\"btn-wrap-1721335435\"><a target=\"_blank\" href=\"http://localhost:8028/~/\"><svg width=\"16\" height=\"16\" viewBox=\"0 0 16 16\" fill=\"none\" xmlns=\"http://www.w3.org/2000/svg\"><path d=\"M13 14H3C2.73489 13.9996 2.48075 13.8942 2.29329 13.7067C2.10583 13.5193 2.00036 13.2651 2 13V3C2.00036 2.73489 2.10583 2.48075 2.29329 2.29329C2.48075 2.10583 2.73489 2.00036 3 2H8V3H3V13H13V8H14V13C13.9996 13.2651 13.8942 13.5193 13.7067 13.7067C13.5193 13.8942 13.2651 13.9996 13 14Z\" fill=\"currentColor\"/><path d=\"M10 1V2H13.293L9 6.293L9.707 7L14 2.707V6H15V1H10Z\" fill=\"currentColor\"/></svg></a><a href=\"#\" onclick=\"event.preventDefault(); document.querySelector('#btn-wrap-1721335435 + iframe').src=document.querySelector('#btn-wrap-1721335435 + iframe').src;\"><svg width=\"16\" height=\"16\" viewBox=\"0 0 16 16\" fill=\"none\" xmlns=\"http://www.w3.org/2000/svg\"><path d=\"M9 14C10.1867 14 11.3467 13.6481 12.3334 12.9888C13.3201 12.3295 14.0892 11.3925 14.5433 10.2961C14.9974 9.19975 15.1162 7.99335 14.8847 6.82946C14.6532 5.66558 14.0818 4.59648 13.2426 3.75736C12.4035 2.91825 11.3344 2.3468 10.1705 2.11529C9.00666 1.88378 7.80026 2.0026 6.7039 2.45673C5.60754 2.91085 4.67047 3.67989 4.01118 4.66658C3.35189 5.65328 3 6.81331 3 8V11.1L1.2 9.3L0.5 10L3.5 13L6.5 10L5.8 9.3L4 11.1V8C4 7.0111 4.29324 6.0444 4.84265 5.22215C5.39206 4.39991 6.17295 3.75904 7.08658 3.38061C8.00021 3.00217 9.00555 2.90315 9.97545 3.09608C10.9454 3.289 11.8363 3.76521 12.5355 4.46447C13.2348 5.16373 13.711 6.05465 13.9039 7.02455C14.0969 7.99446 13.9978 8.99979 13.6194 9.91342C13.241 10.8271 12.6001 11.6079 11.7779 12.1574C10.9556 12.7068 9.98891 13 9 13V14Z\" fill=\"currentColor\"/></svg></a></div><iframe src=\"http://localhost:8028/headless/~/\" width=\"100%\" height=\"700\" style=\"border:solid 1px #ddd;box-sizing:border-box;width:calc(100% + 20px)\"></iframe>"
      ],
      "text/plain": [
       "<IPython.core.display.HTML object>"
      ]
     },
     "metadata": {},
     "output_type": "display_data"
    },
    {
     "data": {
      "text/markdown": [
       "<span style=\"color: #090\">Molecule <span style=\"color: #dc0\">serotonin</span> was added</span> <br> \n"
      ],
      "text/plain": [
       "<IPython.core.display.Markdown object>"
      ]
     },
     "metadata": {},
     "output_type": "display_data"
    },
    {
     "data": {
      "text/markdown": [
       "<span style=\"color: #090\">Molecule <span style=\"color: #dc0\">alanine</span> was added</span> <br> \n"
      ],
      "text/plain": [
       "<IPython.core.display.Markdown object>"
      ]
     },
     "metadata": {},
     "output_type": "display_data"
    },
    {
     "data": {
      "text/markdown": [
       "<span style=\"color: #090\">Molecule <span style=\"color: #dc0\">cholesterol</span> was added</span> <br> \n"
      ],
      "text/plain": [
       "<IPython.core.display.Markdown object>"
      ]
     },
     "metadata": {},
     "output_type": "display_data"
    },
    {
     "data": {
      "text/markdown": [
       "<span style=\"color: #090\">Molecule <span style=\"color: #dc0\">glycine</span> was added</span> <br> \n"
      ],
      "text/plain": [
       "<IPython.core.display.Markdown object>"
      ]
     },
     "metadata": {},
     "output_type": "display_data"
    }
   ],
   "source": [
    "# The file browser is the landing page for the GUI\n",
    "%openad launch gui"
   ]
  },
  {
   "cell_type": "markdown",
   "id": "3577612b-09ad-4d41-8913-f40557ebe016",
   "metadata": {},
   "source": [
    "<br>\n",
    "\n",
    "### 2. Molecule Viewer\n",
    "\n",
    "The molecule viewer gives you an at-a-glance overview of all the information you have gathered on a particular molecule.\n",
    "\n",
    "New molecules are prepopulated with data from RDKit and PubChem by default"
   ]
  },
  {
   "cell_type": "code",
   "execution_count": 17,
   "id": "ffae7a0a-7af6-4510-b058-bf9cfc70ff81",
   "metadata": {
    "tags": []
   },
   "outputs": [
    {
     "data": {
      "text/html": [
       "\n",
       "            <style>\n",
       "                #btn-wrap-1721335979 { height:12px; right:20px; display:flex; flex-direction:row-reverse; position:relative }\n",
       "                #btn-wrap-1721335979 a { color:#393939; width:24px; height:24px; padding:4px; box-sizing:border-box; background:white }\n",
       "                #btn-wrap-1721335979 a:hover { color: #0f62fe }\n",
       "            </style>\n",
       "            <div id=\"btn-wrap-1721335979\"><a target=\"_blank\" href=\"http://localhost:8028/mol/dopamine\"><svg width=\"16\" height=\"16\" viewBox=\"0 0 16 16\" fill=\"none\" xmlns=\"http://www.w3.org/2000/svg\"><path d=\"M13 14H3C2.73489 13.9996 2.48075 13.8942 2.29329 13.7067C2.10583 13.5193 2.00036 13.2651 2 13V3C2.00036 2.73489 2.10583 2.48075 2.29329 2.29329C2.48075 2.10583 2.73489 2.00036 3 2H8V3H3V13H13V8H14V13C13.9996 13.2651 13.8942 13.5193 13.7067 13.7067C13.5193 13.8942 13.2651 13.9996 13 14Z\" fill=\"currentColor\"/><path d=\"M10 1V2H13.293L9 6.293L9.707 7L14 2.707V6H15V1H10Z\" fill=\"currentColor\"/></svg></a><a href=\"#\" onclick=\"event.preventDefault(); document.querySelector('#btn-wrap-1721335979 + iframe').src=document.querySelector('#btn-wrap-1721335979 + iframe').src;\"><svg width=\"16\" height=\"16\" viewBox=\"0 0 16 16\" fill=\"none\" xmlns=\"http://www.w3.org/2000/svg\"><path d=\"M9 14C10.1867 14 11.3467 13.6481 12.3334 12.9888C13.3201 12.3295 14.0892 11.3925 14.5433 10.2961C14.9974 9.19975 15.1162 7.99335 14.8847 6.82946C14.6532 5.66558 14.0818 4.59648 13.2426 3.75736C12.4035 2.91825 11.3344 2.3468 10.1705 2.11529C9.00666 1.88378 7.80026 2.0026 6.7039 2.45673C5.60754 2.91085 4.67047 3.67989 4.01118 4.66658C3.35189 5.65328 3 6.81331 3 8V11.1L1.2 9.3L0.5 10L3.5 13L6.5 10L5.8 9.3L4 11.1V8C4 7.0111 4.29324 6.0444 4.84265 5.22215C5.39206 4.39991 6.17295 3.75904 7.08658 3.38061C8.00021 3.00217 9.00555 2.90315 9.97545 3.09608C10.9454 3.289 11.8363 3.76521 12.5355 4.46447C13.2348 5.16373 13.711 6.05465 13.9039 7.02455C14.0969 7.99446 13.9978 8.99979 13.6194 9.91342C13.241 10.8271 12.6001 11.6079 11.7779 12.1574C10.9556 12.7068 9.98891 13 9 13V14Z\" fill=\"currentColor\"/></svg></a></div><iframe src=\"http://localhost:8028/headless/mol/dopamine\" width=\"100%\" height=\"700\" style=\"border:solid 1px #ddd;box-sizing:border-box;width:calc(100% + 20px)\"></iframe>"
      ],
      "text/plain": [
       "<IPython.core.display.HTML object>"
      ]
     },
     "metadata": {},
     "output_type": "display_data"
    }
   ],
   "source": [
    "# Visualize a single molecule\n",
    "%openad show mol dopamine"
   ]
  },
  {
   "cell_type": "markdown",
   "id": "98f7edc8-8842-4616-bc6e-afa80f6109b1",
   "metadata": {},
   "source": [
    "<br>\n",
    "\n",
    "### 3. Molset Viewer\n",
    "\n",
    "<p>The molset viewer is replacing the widely used \"mols2grid\" package. It runs a lot faster and has improved usability.</p>\n",
    "\n",
    "<p>In the future we'll also load this with more advanced functionality like filtering, subsetting, merging etc.</p>\n",
    "\n",
    "<p><span style=\"color: #d00\">Note: viewing molecule sets from a dataframe is not yet implemented.</span></p>"
   ]
  },
  {
   "cell_type": "code",
   "execution_count": 19,
   "id": "bd0e8d94-5ed6-477e-b04d-4f4bbde19baa",
   "metadata": {
    "tags": []
   },
   "outputs": [
    {
     "data": {
      "text/html": [
       "\n",
       "            <style>\n",
       "                #btn-wrap-1721335993 { height:12px; right:20px; display:flex; flex-direction:row-reverse; position:relative }\n",
       "                #btn-wrap-1721335993 a { color:#393939; width:24px; height:24px; padding:4px; box-sizing:border-box; background:white }\n",
       "                #btn-wrap-1721335993 a:hover { color: #0f62fe }\n",
       "            </style>\n",
       "            <div id=\"btn-wrap-1721335993\"><a target=\"_blank\" href=\"http://localhost:8028/~/demo%2Fmy-mols.molset.json\"><svg width=\"16\" height=\"16\" viewBox=\"0 0 16 16\" fill=\"none\" xmlns=\"http://www.w3.org/2000/svg\"><path d=\"M13 14H3C2.73489 13.9996 2.48075 13.8942 2.29329 13.7067C2.10583 13.5193 2.00036 13.2651 2 13V3C2.00036 2.73489 2.10583 2.48075 2.29329 2.29329C2.48075 2.10583 2.73489 2.00036 3 2H8V3H3V13H13V8H14V13C13.9996 13.2651 13.8942 13.5193 13.7067 13.7067C13.5193 13.8942 13.2651 13.9996 13 14Z\" fill=\"currentColor\"/><path d=\"M10 1V2H13.293L9 6.293L9.707 7L14 2.707V6H15V1H10Z\" fill=\"currentColor\"/></svg></a><a href=\"#\" onclick=\"event.preventDefault(); document.querySelector('#btn-wrap-1721335993 + iframe').src=document.querySelector('#btn-wrap-1721335993 + iframe').src;\"><svg width=\"16\" height=\"16\" viewBox=\"0 0 16 16\" fill=\"none\" xmlns=\"http://www.w3.org/2000/svg\"><path d=\"M9 14C10.1867 14 11.3467 13.6481 12.3334 12.9888C13.3201 12.3295 14.0892 11.3925 14.5433 10.2961C14.9974 9.19975 15.1162 7.99335 14.8847 6.82946C14.6532 5.66558 14.0818 4.59648 13.2426 3.75736C12.4035 2.91825 11.3344 2.3468 10.1705 2.11529C9.00666 1.88378 7.80026 2.0026 6.7039 2.45673C5.60754 2.91085 4.67047 3.67989 4.01118 4.66658C3.35189 5.65328 3 6.81331 3 8V11.1L1.2 9.3L0.5 10L3.5 13L6.5 10L5.8 9.3L4 11.1V8C4 7.0111 4.29324 6.0444 4.84265 5.22215C5.39206 4.39991 6.17295 3.75904 7.08658 3.38061C8.00021 3.00217 9.00555 2.90315 9.97545 3.09608C10.9454 3.289 11.8363 3.76521 12.5355 4.46447C13.2348 5.16373 13.711 6.05465 13.9039 7.02455C14.0969 7.99446 13.9978 8.99979 13.6194 9.91342C13.241 10.8271 12.6001 11.6079 11.7779 12.1574C10.9556 12.7068 9.98891 13 9 13V14Z\" fill=\"currentColor\"/></svg></a></div><iframe src=\"http://localhost:8028/headless/~/demo%2Fmy-mols.molset.json\" width=\"100%\" height=\"700\" style=\"border:solid 1px #ddd;box-sizing:border-box;width:calc(100% + 20px)\"></iframe>"
      ],
      "text/plain": [
       "<IPython.core.display.HTML object>"
      ]
     },
     "metadata": {},
     "output_type": "display_data"
    }
   ],
   "source": [
    "# Visualize a molecule set - from a file\n",
    "%openad show molset 'demo/my-mols.molset.json'"
   ]
  },
  {
   "cell_type": "code",
   "execution_count": null,
   "id": "7c041b55-4165-4196-9fb1-c125615dd97d",
   "metadata": {
    "tags": []
   },
   "outputs": [],
   "source": [
    "# Visualize a molecule set - from a dataframe\n",
    "\n",
    "# %openad clear sessions\n",
    "# %openad add toolkit ds4sd\n",
    "# %openad set context ds4sd\n",
    "\n",
    "my_df = %openad search for similar molecules to 'C(=C)C([O-])'\n",
    "\n",
    "# NOT YET IMPLEMENTED\n",
    "%openad show molset using dataframe my_df"
   ]
  },
  {
   "cell_type": "markdown",
   "id": "67dae3b8-d2c9-443f-820c-e90a8c82613a",
   "metadata": {},
   "source": [
    "<br>\n",
    "\n",
    "### 4. Data Viewer\n",
    "\n",
    "The data viewer lets you review, sort and triage data from a CSV file or a dataframe.\n",
    "\n",
    "<span style=\"color: #d00\">The data viewer is not yet ported into the new GUI. It still uses the deprecated Flask app architecture.</span>"
   ]
  },
  {
   "cell_type": "code",
   "execution_count": 20,
   "id": "390dc1a2-21e1-489a-bdaf-e0e82590c6a5",
   "metadata": {
    "tags": []
   },
   "outputs": [
    {
     "data": {
      "text/markdown": [
       "<span style=\"color: #ccc\">Next up, you can run: </span>`result open`/`edit`/`copy`/`display`/`as dataframe`/`save [as '<filename.csv>']` <br> \n"
      ],
      "text/plain": [
       "<IPython.core.display.Markdown object>"
      ]
     },
     "metadata": {},
     "output_type": "display_data"
    },
    {
     "data": {
      "text/html": [
       "<style type=\"text/css\">\n",
       "</style>\n",
       "<table id=\"T_87fb9\">\n",
       "  <thead>\n",
       "    <tr>\n",
       "      <th id=\"T_87fb9_level0_col0\" class=\"col_heading level0 col0\" >Organization Id</th>\n",
       "      <th id=\"T_87fb9_level0_col1\" class=\"col_heading level0 col1\" >Name</th>\n",
       "      <th id=\"T_87fb9_level0_col2\" class=\"col_heading level0 col2\" >Website</th>\n",
       "      <th id=\"T_87fb9_level0_col3\" class=\"col_heading level0 col3\" >Country</th>\n",
       "      <th id=\"T_87fb9_level0_col4\" class=\"col_heading level0 col4\" >Description</th>\n",
       "      <th id=\"T_87fb9_level0_col5\" class=\"col_heading level0 col5\" >Founded</th>\n",
       "      <th id=\"T_87fb9_level0_col6\" class=\"col_heading level0 col6\" >Industry</th>\n",
       "      <th id=\"T_87fb9_level0_col7\" class=\"col_heading level0 col7\" >Number of employees</th>\n",
       "      <th id=\"T_87fb9_level0_col8\" class=\"col_heading level0 col8\" >Boolean</th>\n",
       "      <th id=\"T_87fb9_level0_col9\" class=\"col_heading level0 col9\" >Date</th>\n",
       "    </tr>\n",
       "  </thead>\n",
       "  <tbody>\n",
       "    <tr>\n",
       "      <td id=\"T_87fb9_row0_col0\" class=\"data row0 col0\" >E84A904909dF528</td>\n",
       "      <td id=\"T_87fb9_row0_col1\" class=\"data row0 col1\" >Liu-Hoover</td>\n",
       "      <td id=\"T_87fb9_row0_col2\" class=\"data row0 col2\" >http://www.day-hartman.org/</td>\n",
       "      <td id=\"T_87fb9_row0_col3\" class=\"data row0 col3\" >Western Sahara</td>\n",
       "      <td id=\"T_87fb9_row0_col4\" class=\"data row0 col4\" >Ergonomic zero administration knowledge user</td>\n",
       "      <td id=\"T_87fb9_row0_col5\" class=\"data row0 col5\" >1980.000000</td>\n",
       "      <td id=\"T_87fb9_row0_col6\" class=\"data row0 col6\" >Online Publishing</td>\n",
       "      <td id=\"T_87fb9_row0_col7\" class=\"data row0 col7\" >6852</td>\n",
       "      <td id=\"T_87fb9_row0_col8\" class=\"data row0 col8\" >True</td>\n",
       "      <td id=\"T_87fb9_row0_col9\" class=\"data row0 col9\" >1994-05-18</td>\n",
       "    </tr>\n",
       "    <tr>\n",
       "      <td id=\"T_87fb9_row1_col0\" class=\"data row1 col0\" >AAC4f9aBF86EAeF</td>\n",
       "      <td id=\"T_87fb9_row1_col1\" class=\"data row1 col1\" >Orr-Armstrong</td>\n",
       "      <td id=\"T_87fb9_row1_col2\" class=\"data row1 col2\" >https://www.chapman.net/</td>\n",
       "      <td id=\"T_87fb9_row1_col3\" class=\"data row1 col3\" >Algeria</td>\n",
       "      <td id=\"T_87fb9_row1_col4\" class=\"data row1 col4\" >Ergonomic radical budgetary management</td>\n",
       "      <td id=\"T_87fb9_row1_col5\" class=\"data row1 col5\" >1970.000000</td>\n",
       "      <td id=\"T_87fb9_row1_col6\" class=\"data row1 col6\" >Import / Export</td>\n",
       "      <td id=\"T_87fb9_row1_col7\" class=\"data row1 col7\" >7994</td>\n",
       "      <td id=\"T_87fb9_row1_col8\" class=\"data row1 col8\" >True</td>\n",
       "      <td id=\"T_87fb9_row1_col9\" class=\"data row1 col9\" >1992-05-21</td>\n",
       "    </tr>\n",
       "    <tr>\n",
       "      <td id=\"T_87fb9_row2_col0\" class=\"data row2 col0\" >ad2eb3C8C24DB87</td>\n",
       "      <td id=\"T_87fb9_row2_col1\" class=\"data row2 col1\" >Gill-Lamb</td>\n",
       "      <td id=\"T_87fb9_row2_col2\" class=\"data row2 col2\" >http://lin.com/</td>\n",
       "      <td id=\"T_87fb9_row2_col3\" class=\"data row2 col3\" >Cote Ivoire</td>\n",
       "      <td id=\"T_87fb9_row2_col4\" class=\"data row2 col4\" >Programmable intermediate conglomeration</td>\n",
       "      <td id=\"T_87fb9_row2_col5\" class=\"data row2 col5\" ></td>\n",
       "      <td id=\"T_87fb9_row2_col6\" class=\"data row2 col6\" >Apparel / Fashion</td>\n",
       "      <td id=\"T_87fb9_row2_col7\" class=\"data row2 col7\" >5105</td>\n",
       "      <td id=\"T_87fb9_row2_col8\" class=\"data row2 col8\" >False</td>\n",
       "      <td id=\"T_87fb9_row2_col9\" class=\"data row2 col9\" >Dec 31 1993</td>\n",
       "    </tr>\n",
       "    <tr>\n",
       "      <td id=\"T_87fb9_row3_col0\" class=\"data row3 col0\" >D76BB12E5eE165B</td>\n",
       "      <td id=\"T_87fb9_row3_col1\" class=\"data row3 col1\" >Bauer-Weiss</td>\n",
       "      <td id=\"T_87fb9_row3_col2\" class=\"data row3 col2\" >https://gillespie-stout.com/</td>\n",
       "      <td id=\"T_87fb9_row3_col3\" class=\"data row3 col3\" >United States of America</td>\n",
       "      <td id=\"T_87fb9_row3_col4\" class=\"data row3 col4\" >Synergistic maximized definition</td>\n",
       "      <td id=\"T_87fb9_row3_col5\" class=\"data row3 col5\" >2015.000000</td>\n",
       "      <td id=\"T_87fb9_row3_col6\" class=\"data row3 col6\" >Dairy</td>\n",
       "      <td id=\"T_87fb9_row3_col7\" class=\"data row3 col7\" >9069</td>\n",
       "      <td id=\"T_87fb9_row3_col8\" class=\"data row3 col8\" >True</td>\n",
       "      <td id=\"T_87fb9_row3_col9\" class=\"data row3 col9\" ></td>\n",
       "    </tr>\n",
       "    <tr>\n",
       "      <td id=\"T_87fb9_row4_col0\" class=\"data row4 col0\" >2F31EddF2Db9aAE</td>\n",
       "      <td id=\"T_87fb9_row4_col1\" class=\"data row4 col1\" >Love-Palmer</td>\n",
       "      <td id=\"T_87fb9_row4_col2\" class=\"data row4 col2\" >https://kramer.com/</td>\n",
       "      <td id=\"T_87fb9_row4_col3\" class=\"data row4 col3\" >Denmark</td>\n",
       "      <td id=\"T_87fb9_row4_col4\" class=\"data row4 col4\" >Optimized optimizing moderator</td>\n",
       "      <td id=\"T_87fb9_row4_col5\" class=\"data row4 col5\" >2010.000000</td>\n",
       "      <td id=\"T_87fb9_row4_col6\" class=\"data row4 col6\" >Management Consulting</td>\n",
       "      <td id=\"T_87fb9_row4_col7\" class=\"data row4 col7\" >6991</td>\n",
       "      <td id=\"T_87fb9_row4_col8\" class=\"data row4 col8\" >True</td>\n",
       "      <td id=\"T_87fb9_row4_col9\" class=\"data row4 col9\" >1995-02-10</td>\n",
       "    </tr>\n",
       "    <tr>\n",
       "      <td id=\"T_87fb9_row5_col0\" class=\"data row5 col0\" >gF4Wk79gRK1Ga8U</td>\n",
       "      <td id=\"T_87fb9_row5_col1\" class=\"data row5 col1\" >Kram-Dorf</td>\n",
       "      <td id=\"T_87fb9_row5_col2\" class=\"data row5 col2\" >https://pluk.io/</td>\n",
       "      <td id=\"T_87fb9_row5_col3\" class=\"data row5 col3\" >Belgium</td>\n",
       "      <td id=\"T_87fb9_row5_col4\" class=\"data row5 col4\" >Scrutenid electropulsator</td>\n",
       "      <td id=\"T_87fb9_row5_col5\" class=\"data row5 col5\" >1984.000000</td>\n",
       "      <td id=\"T_87fb9_row5_col6\" class=\"data row5 col6\" >Investment Return</td>\n",
       "      <td id=\"T_87fb9_row5_col7\" class=\"data row5 col7\" >5437</td>\n",
       "      <td id=\"T_87fb9_row5_col8\" class=\"data row5 col8\" >False</td>\n",
       "      <td id=\"T_87fb9_row5_col9\" class=\"data row5 col9\" >1993-10-12</td>\n",
       "    </tr>\n",
       "    <tr>\n",
       "      <td id=\"T_87fb9_row6_col0\" class=\"data row6 col0\" >E84A904909dF528</td>\n",
       "      <td id=\"T_87fb9_row6_col1\" class=\"data row6 col1\" >Liu-Hoover</td>\n",
       "      <td id=\"T_87fb9_row6_col2\" class=\"data row6 col2\" >http://www.day-hartman.org/</td>\n",
       "      <td id=\"T_87fb9_row6_col3\" class=\"data row6 col3\" >Western Sahara</td>\n",
       "      <td id=\"T_87fb9_row6_col4\" class=\"data row6 col4\" >Ergonomic zero administration knowledge user</td>\n",
       "      <td id=\"T_87fb9_row6_col5\" class=\"data row6 col5\" >1980.000000</td>\n",
       "      <td id=\"T_87fb9_row6_col6\" class=\"data row6 col6\" >Online Publishing</td>\n",
       "      <td id=\"T_87fb9_row6_col7\" class=\"data row6 col7\" >6852</td>\n",
       "      <td id=\"T_87fb9_row6_col8\" class=\"data row6 col8\" >True</td>\n",
       "      <td id=\"T_87fb9_row6_col9\" class=\"data row6 col9\" >1994-05-18</td>\n",
       "    </tr>\n",
       "    <tr>\n",
       "      <td id=\"T_87fb9_row7_col0\" class=\"data row7 col0\" >AAC4f9aBF86EAeF</td>\n",
       "      <td id=\"T_87fb9_row7_col1\" class=\"data row7 col1\" >Orr-Armstrong</td>\n",
       "      <td id=\"T_87fb9_row7_col2\" class=\"data row7 col2\" >https://www.chapman.net/</td>\n",
       "      <td id=\"T_87fb9_row7_col3\" class=\"data row7 col3\" >Algeria</td>\n",
       "      <td id=\"T_87fb9_row7_col4\" class=\"data row7 col4\" >Ergonomic radical budgetary management</td>\n",
       "      <td id=\"T_87fb9_row7_col5\" class=\"data row7 col5\" >1970.000000</td>\n",
       "      <td id=\"T_87fb9_row7_col6\" class=\"data row7 col6\" >Import / Export</td>\n",
       "      <td id=\"T_87fb9_row7_col7\" class=\"data row7 col7\" >7994</td>\n",
       "      <td id=\"T_87fb9_row7_col8\" class=\"data row7 col8\" >True</td>\n",
       "      <td id=\"T_87fb9_row7_col9\" class=\"data row7 col9\" >1992-05-21</td>\n",
       "    </tr>\n",
       "    <tr>\n",
       "      <td id=\"T_87fb9_row8_col0\" class=\"data row8 col0\" >ad2eb3C8C24DB87</td>\n",
       "      <td id=\"T_87fb9_row8_col1\" class=\"data row8 col1\" >Gill-Lamb</td>\n",
       "      <td id=\"T_87fb9_row8_col2\" class=\"data row8 col2\" >http://lin.com/</td>\n",
       "      <td id=\"T_87fb9_row8_col3\" class=\"data row8 col3\" >Cote Ivoire</td>\n",
       "      <td id=\"T_87fb9_row8_col4\" class=\"data row8 col4\" >Programmable intermediate conglomeration</td>\n",
       "      <td id=\"T_87fb9_row8_col5\" class=\"data row8 col5\" ></td>\n",
       "      <td id=\"T_87fb9_row8_col6\" class=\"data row8 col6\" >Apparel / Fashion</td>\n",
       "      <td id=\"T_87fb9_row8_col7\" class=\"data row8 col7\" >5105</td>\n",
       "      <td id=\"T_87fb9_row8_col8\" class=\"data row8 col8\" >False</td>\n",
       "      <td id=\"T_87fb9_row8_col9\" class=\"data row8 col9\" >Dec 31 1993</td>\n",
       "    </tr>\n",
       "    <tr>\n",
       "      <td id=\"T_87fb9_row9_col0\" class=\"data row9 col0\" >D76BB12E5eE165B</td>\n",
       "      <td id=\"T_87fb9_row9_col1\" class=\"data row9 col1\" >Bauer-Weiss</td>\n",
       "      <td id=\"T_87fb9_row9_col2\" class=\"data row9 col2\" >https://gillespie-stout.com/</td>\n",
       "      <td id=\"T_87fb9_row9_col3\" class=\"data row9 col3\" >United States of America</td>\n",
       "      <td id=\"T_87fb9_row9_col4\" class=\"data row9 col4\" >Synergistic maximized definition</td>\n",
       "      <td id=\"T_87fb9_row9_col5\" class=\"data row9 col5\" >2015.000000</td>\n",
       "      <td id=\"T_87fb9_row9_col6\" class=\"data row9 col6\" >Dairy</td>\n",
       "      <td id=\"T_87fb9_row9_col7\" class=\"data row9 col7\" >9069</td>\n",
       "      <td id=\"T_87fb9_row9_col8\" class=\"data row9 col8\" >True</td>\n",
       "      <td id=\"T_87fb9_row9_col9\" class=\"data row9 col9\" ></td>\n",
       "    </tr>\n",
       "    <tr>\n",
       "      <td id=\"T_87fb9_row10_col0\" class=\"data row10 col0\" >2F31EddF2Db9aAE</td>\n",
       "      <td id=\"T_87fb9_row10_col1\" class=\"data row10 col1\" >Love-Palmer</td>\n",
       "      <td id=\"T_87fb9_row10_col2\" class=\"data row10 col2\" >https://kramer.com/</td>\n",
       "      <td id=\"T_87fb9_row10_col3\" class=\"data row10 col3\" >Denmark</td>\n",
       "      <td id=\"T_87fb9_row10_col4\" class=\"data row10 col4\" >Optimized optimizing moderator</td>\n",
       "      <td id=\"T_87fb9_row10_col5\" class=\"data row10 col5\" >2010.000000</td>\n",
       "      <td id=\"T_87fb9_row10_col6\" class=\"data row10 col6\" >Management Consulting</td>\n",
       "      <td id=\"T_87fb9_row10_col7\" class=\"data row10 col7\" >6991</td>\n",
       "      <td id=\"T_87fb9_row10_col8\" class=\"data row10 col8\" >True</td>\n",
       "      <td id=\"T_87fb9_row10_col9\" class=\"data row10 col9\" >1995-02-10</td>\n",
       "    </tr>\n",
       "    <tr>\n",
       "      <td id=\"T_87fb9_row11_col0\" class=\"data row11 col0\" >gF4Wk79gRK1Ga8U</td>\n",
       "      <td id=\"T_87fb9_row11_col1\" class=\"data row11 col1\" >Kram-Dorf</td>\n",
       "      <td id=\"T_87fb9_row11_col2\" class=\"data row11 col2\" >https://pluk.io/</td>\n",
       "      <td id=\"T_87fb9_row11_col3\" class=\"data row11 col3\" >Belgium</td>\n",
       "      <td id=\"T_87fb9_row11_col4\" class=\"data row11 col4\" >Scrutenid electropulsator</td>\n",
       "      <td id=\"T_87fb9_row11_col5\" class=\"data row11 col5\" >1984.000000</td>\n",
       "      <td id=\"T_87fb9_row11_col6\" class=\"data row11 col6\" >Investment Return</td>\n",
       "      <td id=\"T_87fb9_row11_col7\" class=\"data row11 col7\" >5437</td>\n",
       "      <td id=\"T_87fb9_row11_col8\" class=\"data row11 col8\" >False</td>\n",
       "      <td id=\"T_87fb9_row11_col9\" class=\"data row11 col9\" >1993-10-12</td>\n",
       "    </tr>\n",
       "  </tbody>\n",
       "</table>\n"
      ],
      "text/plain": [
       "<pandas.io.formats.style.Styler at 0x17ccadcd0>"
      ]
     },
     "execution_count": 20,
     "metadata": {},
     "output_type": "execute_result"
    }
   ],
   "source": [
    "%openad display data 'demo/my-data.csv'"
   ]
  },
  {
   "cell_type": "code",
   "execution_count": 21,
   "id": "8a7a692a-1b37-4836-89f5-e070541b3fed",
   "metadata": {
    "tags": []
   },
   "outputs": [
    {
     "data": {
      "text/html": [
       "<iframe src=\"http://localhost:8029\" width=\"100%\" height=\"700\" style=\"border: solid 1px #ddd;\"></iframe>"
      ],
      "text/plain": [
       "<IPython.core.display.HTML object>"
      ]
     },
     "metadata": {},
     "output_type": "display_data"
    }
   ],
   "source": [
    "%openad result open"
   ]
  },
  {
   "cell_type": "code",
   "execution_count": 22,
   "id": "4434cab6-827d-45ff-8a33-a3cc5159e7a3",
   "metadata": {
    "tags": []
   },
   "outputs": [
    {
     "data": {
      "text/markdown": [
       "<span style=\"color: #ccc\">Next up, you can run: </span>`result open`/`edit`/`copy`/`display`/`as dataframe`/`save [as '<filename.csv>']` <br> \n"
      ],
      "text/plain": [
       "<IPython.core.display.Markdown object>"
      ]
     },
     "metadata": {},
     "output_type": "display_data"
    },
    {
     "data": {
      "text/html": [
       "<style type=\"text/css\">\n",
       "</style>\n",
       "<table id=\"T_b5056\">\n",
       "  <thead>\n",
       "    <tr>\n",
       "      <th id=\"T_b5056_level0_col0\" class=\"col_heading level0 col0\" >Organization Id</th>\n",
       "      <th id=\"T_b5056_level0_col1\" class=\"col_heading level0 col1\" >Name</th>\n",
       "      <th id=\"T_b5056_level0_col2\" class=\"col_heading level0 col2\" >Website</th>\n",
       "      <th id=\"T_b5056_level0_col3\" class=\"col_heading level0 col3\" >Country</th>\n",
       "      <th id=\"T_b5056_level0_col4\" class=\"col_heading level0 col4\" >Description</th>\n",
       "      <th id=\"T_b5056_level0_col5\" class=\"col_heading level0 col5\" >Founded</th>\n",
       "      <th id=\"T_b5056_level0_col6\" class=\"col_heading level0 col6\" >Industry</th>\n",
       "      <th id=\"T_b5056_level0_col7\" class=\"col_heading level0 col7\" >Number of employees</th>\n",
       "      <th id=\"T_b5056_level0_col8\" class=\"col_heading level0 col8\" >Boolean</th>\n",
       "      <th id=\"T_b5056_level0_col9\" class=\"col_heading level0 col9\" >Date</th>\n",
       "    </tr>\n",
       "  </thead>\n",
       "  <tbody>\n",
       "    <tr>\n",
       "      <td id=\"T_b5056_row0_col0\" class=\"data row0 col0\" >E84A904909dF528</td>\n",
       "      <td id=\"T_b5056_row0_col1\" class=\"data row0 col1\" >Liu-Hoover</td>\n",
       "      <td id=\"T_b5056_row0_col2\" class=\"data row0 col2\" >http://www.day-hartman.org/</td>\n",
       "      <td id=\"T_b5056_row0_col3\" class=\"data row0 col3\" >Western Sahara</td>\n",
       "      <td id=\"T_b5056_row0_col4\" class=\"data row0 col4\" >Ergonomic zero administration knowledge user</td>\n",
       "      <td id=\"T_b5056_row0_col5\" class=\"data row0 col5\" >1980.000000</td>\n",
       "      <td id=\"T_b5056_row0_col6\" class=\"data row0 col6\" >Online Publishing</td>\n",
       "      <td id=\"T_b5056_row0_col7\" class=\"data row0 col7\" >6852</td>\n",
       "      <td id=\"T_b5056_row0_col8\" class=\"data row0 col8\" >True</td>\n",
       "      <td id=\"T_b5056_row0_col9\" class=\"data row0 col9\" >1994-05-18</td>\n",
       "    </tr>\n",
       "    <tr>\n",
       "      <td id=\"T_b5056_row1_col0\" class=\"data row1 col0\" >AAC4f9aBF86EAeF</td>\n",
       "      <td id=\"T_b5056_row1_col1\" class=\"data row1 col1\" >Orr-Armstrong</td>\n",
       "      <td id=\"T_b5056_row1_col2\" class=\"data row1 col2\" >https://www.chapman.net/</td>\n",
       "      <td id=\"T_b5056_row1_col3\" class=\"data row1 col3\" >Algeria</td>\n",
       "      <td id=\"T_b5056_row1_col4\" class=\"data row1 col4\" >Ergonomic radical budgetary management</td>\n",
       "      <td id=\"T_b5056_row1_col5\" class=\"data row1 col5\" >1970.000000</td>\n",
       "      <td id=\"T_b5056_row1_col6\" class=\"data row1 col6\" >Import / Export</td>\n",
       "      <td id=\"T_b5056_row1_col7\" class=\"data row1 col7\" >7994</td>\n",
       "      <td id=\"T_b5056_row1_col8\" class=\"data row1 col8\" >True</td>\n",
       "      <td id=\"T_b5056_row1_col9\" class=\"data row1 col9\" >1992-05-21</td>\n",
       "    </tr>\n",
       "    <tr>\n",
       "      <td id=\"T_b5056_row2_col0\" class=\"data row2 col0\" >ad2eb3C8C24DB87</td>\n",
       "      <td id=\"T_b5056_row2_col1\" class=\"data row2 col1\" >Gill-Lamb</td>\n",
       "      <td id=\"T_b5056_row2_col2\" class=\"data row2 col2\" >http://lin.com/</td>\n",
       "      <td id=\"T_b5056_row2_col3\" class=\"data row2 col3\" >Cote Ivoire</td>\n",
       "      <td id=\"T_b5056_row2_col4\" class=\"data row2 col4\" >Programmable intermediate conglomeration</td>\n",
       "      <td id=\"T_b5056_row2_col5\" class=\"data row2 col5\" ></td>\n",
       "      <td id=\"T_b5056_row2_col6\" class=\"data row2 col6\" >Apparel / Fashion</td>\n",
       "      <td id=\"T_b5056_row2_col7\" class=\"data row2 col7\" >5105</td>\n",
       "      <td id=\"T_b5056_row2_col8\" class=\"data row2 col8\" >False</td>\n",
       "      <td id=\"T_b5056_row2_col9\" class=\"data row2 col9\" >Dec 31 1993</td>\n",
       "    </tr>\n",
       "    <tr>\n",
       "      <td id=\"T_b5056_row3_col0\" class=\"data row3 col0\" >D76BB12E5eE165B</td>\n",
       "      <td id=\"T_b5056_row3_col1\" class=\"data row3 col1\" >Bauer-Weiss</td>\n",
       "      <td id=\"T_b5056_row3_col2\" class=\"data row3 col2\" >https://gillespie-stout.com/</td>\n",
       "      <td id=\"T_b5056_row3_col3\" class=\"data row3 col3\" >United States of America</td>\n",
       "      <td id=\"T_b5056_row3_col4\" class=\"data row3 col4\" >Synergistic maximized definition</td>\n",
       "      <td id=\"T_b5056_row3_col5\" class=\"data row3 col5\" >2015.000000</td>\n",
       "      <td id=\"T_b5056_row3_col6\" class=\"data row3 col6\" >Dairy</td>\n",
       "      <td id=\"T_b5056_row3_col7\" class=\"data row3 col7\" >9069</td>\n",
       "      <td id=\"T_b5056_row3_col8\" class=\"data row3 col8\" >True</td>\n",
       "      <td id=\"T_b5056_row3_col9\" class=\"data row3 col9\" ></td>\n",
       "    </tr>\n",
       "    <tr>\n",
       "      <td id=\"T_b5056_row4_col0\" class=\"data row4 col0\" >2F31EddF2Db9aAE</td>\n",
       "      <td id=\"T_b5056_row4_col1\" class=\"data row4 col1\" >Love-Palmer</td>\n",
       "      <td id=\"T_b5056_row4_col2\" class=\"data row4 col2\" >https://kramer.com/</td>\n",
       "      <td id=\"T_b5056_row4_col3\" class=\"data row4 col3\" >Denmark</td>\n",
       "      <td id=\"T_b5056_row4_col4\" class=\"data row4 col4\" >Optimized optimizing moderator</td>\n",
       "      <td id=\"T_b5056_row4_col5\" class=\"data row4 col5\" >2010.000000</td>\n",
       "      <td id=\"T_b5056_row4_col6\" class=\"data row4 col6\" >Management Consulting</td>\n",
       "      <td id=\"T_b5056_row4_col7\" class=\"data row4 col7\" >6991</td>\n",
       "      <td id=\"T_b5056_row4_col8\" class=\"data row4 col8\" >True</td>\n",
       "      <td id=\"T_b5056_row4_col9\" class=\"data row4 col9\" >1995-02-10</td>\n",
       "    </tr>\n",
       "    <tr>\n",
       "      <td id=\"T_b5056_row5_col0\" class=\"data row5 col0\" >gF4Wk79gRK1Ga8U</td>\n",
       "      <td id=\"T_b5056_row5_col1\" class=\"data row5 col1\" >Kram-Dorf</td>\n",
       "      <td id=\"T_b5056_row5_col2\" class=\"data row5 col2\" >https://pluk.io/</td>\n",
       "      <td id=\"T_b5056_row5_col3\" class=\"data row5 col3\" >Belgium</td>\n",
       "      <td id=\"T_b5056_row5_col4\" class=\"data row5 col4\" >Scrutenid electropulsator</td>\n",
       "      <td id=\"T_b5056_row5_col5\" class=\"data row5 col5\" >1984.000000</td>\n",
       "      <td id=\"T_b5056_row5_col6\" class=\"data row5 col6\" >Investment Return</td>\n",
       "      <td id=\"T_b5056_row5_col7\" class=\"data row5 col7\" >5437</td>\n",
       "      <td id=\"T_b5056_row5_col8\" class=\"data row5 col8\" >False</td>\n",
       "      <td id=\"T_b5056_row5_col9\" class=\"data row5 col9\" >1993-10-12</td>\n",
       "    </tr>\n",
       "    <tr>\n",
       "      <td id=\"T_b5056_row6_col0\" class=\"data row6 col0\" >E84A904909dF528</td>\n",
       "      <td id=\"T_b5056_row6_col1\" class=\"data row6 col1\" >Liu-Hoover</td>\n",
       "      <td id=\"T_b5056_row6_col2\" class=\"data row6 col2\" >http://www.day-hartman.org/</td>\n",
       "      <td id=\"T_b5056_row6_col3\" class=\"data row6 col3\" >Western Sahara</td>\n",
       "      <td id=\"T_b5056_row6_col4\" class=\"data row6 col4\" >Ergonomic zero administration knowledge user</td>\n",
       "      <td id=\"T_b5056_row6_col5\" class=\"data row6 col5\" >1980.000000</td>\n",
       "      <td id=\"T_b5056_row6_col6\" class=\"data row6 col6\" >Online Publishing</td>\n",
       "      <td id=\"T_b5056_row6_col7\" class=\"data row6 col7\" >6852</td>\n",
       "      <td id=\"T_b5056_row6_col8\" class=\"data row6 col8\" >True</td>\n",
       "      <td id=\"T_b5056_row6_col9\" class=\"data row6 col9\" >1994-05-18</td>\n",
       "    </tr>\n",
       "    <tr>\n",
       "      <td id=\"T_b5056_row7_col0\" class=\"data row7 col0\" >AAC4f9aBF86EAeF</td>\n",
       "      <td id=\"T_b5056_row7_col1\" class=\"data row7 col1\" >Orr-Armstrong</td>\n",
       "      <td id=\"T_b5056_row7_col2\" class=\"data row7 col2\" >https://www.chapman.net/</td>\n",
       "      <td id=\"T_b5056_row7_col3\" class=\"data row7 col3\" >Algeria</td>\n",
       "      <td id=\"T_b5056_row7_col4\" class=\"data row7 col4\" >Ergonomic radical budgetary management</td>\n",
       "      <td id=\"T_b5056_row7_col5\" class=\"data row7 col5\" >1970.000000</td>\n",
       "      <td id=\"T_b5056_row7_col6\" class=\"data row7 col6\" >Import / Export</td>\n",
       "      <td id=\"T_b5056_row7_col7\" class=\"data row7 col7\" >7994</td>\n",
       "      <td id=\"T_b5056_row7_col8\" class=\"data row7 col8\" >True</td>\n",
       "      <td id=\"T_b5056_row7_col9\" class=\"data row7 col9\" >1992-05-21</td>\n",
       "    </tr>\n",
       "    <tr>\n",
       "      <td id=\"T_b5056_row8_col0\" class=\"data row8 col0\" >ad2eb3C8C24DB87</td>\n",
       "      <td id=\"T_b5056_row8_col1\" class=\"data row8 col1\" >Gill-Lamb</td>\n",
       "      <td id=\"T_b5056_row8_col2\" class=\"data row8 col2\" >http://lin.com/</td>\n",
       "      <td id=\"T_b5056_row8_col3\" class=\"data row8 col3\" >Cote Ivoire</td>\n",
       "      <td id=\"T_b5056_row8_col4\" class=\"data row8 col4\" >Programmable intermediate conglomeration</td>\n",
       "      <td id=\"T_b5056_row8_col5\" class=\"data row8 col5\" ></td>\n",
       "      <td id=\"T_b5056_row8_col6\" class=\"data row8 col6\" >Apparel / Fashion</td>\n",
       "      <td id=\"T_b5056_row8_col7\" class=\"data row8 col7\" >5105</td>\n",
       "      <td id=\"T_b5056_row8_col8\" class=\"data row8 col8\" >False</td>\n",
       "      <td id=\"T_b5056_row8_col9\" class=\"data row8 col9\" >Dec 31 1993</td>\n",
       "    </tr>\n",
       "    <tr>\n",
       "      <td id=\"T_b5056_row9_col0\" class=\"data row9 col0\" >D76BB12E5eE165B</td>\n",
       "      <td id=\"T_b5056_row9_col1\" class=\"data row9 col1\" >Bauer-Weiss</td>\n",
       "      <td id=\"T_b5056_row9_col2\" class=\"data row9 col2\" >https://gillespie-stout.com/</td>\n",
       "      <td id=\"T_b5056_row9_col3\" class=\"data row9 col3\" >United States of America</td>\n",
       "      <td id=\"T_b5056_row9_col4\" class=\"data row9 col4\" >Synergistic maximized definition</td>\n",
       "      <td id=\"T_b5056_row9_col5\" class=\"data row9 col5\" >2015.000000</td>\n",
       "      <td id=\"T_b5056_row9_col6\" class=\"data row9 col6\" >Dairy</td>\n",
       "      <td id=\"T_b5056_row9_col7\" class=\"data row9 col7\" >9069</td>\n",
       "      <td id=\"T_b5056_row9_col8\" class=\"data row9 col8\" >True</td>\n",
       "      <td id=\"T_b5056_row9_col9\" class=\"data row9 col9\" ></td>\n",
       "    </tr>\n",
       "    <tr>\n",
       "      <td id=\"T_b5056_row10_col0\" class=\"data row10 col0\" >2F31EddF2Db9aAE</td>\n",
       "      <td id=\"T_b5056_row10_col1\" class=\"data row10 col1\" >Love-Palmer</td>\n",
       "      <td id=\"T_b5056_row10_col2\" class=\"data row10 col2\" >https://kramer.com/</td>\n",
       "      <td id=\"T_b5056_row10_col3\" class=\"data row10 col3\" >Denmark</td>\n",
       "      <td id=\"T_b5056_row10_col4\" class=\"data row10 col4\" >Optimized optimizing moderator</td>\n",
       "      <td id=\"T_b5056_row10_col5\" class=\"data row10 col5\" >2010.000000</td>\n",
       "      <td id=\"T_b5056_row10_col6\" class=\"data row10 col6\" >Management Consulting</td>\n",
       "      <td id=\"T_b5056_row10_col7\" class=\"data row10 col7\" >6991</td>\n",
       "      <td id=\"T_b5056_row10_col8\" class=\"data row10 col8\" >True</td>\n",
       "      <td id=\"T_b5056_row10_col9\" class=\"data row10 col9\" >1995-02-10</td>\n",
       "    </tr>\n",
       "    <tr>\n",
       "      <td id=\"T_b5056_row11_col0\" class=\"data row11 col0\" >gF4Wk79gRK1Ga8U</td>\n",
       "      <td id=\"T_b5056_row11_col1\" class=\"data row11 col1\" >Kram-Dorf</td>\n",
       "      <td id=\"T_b5056_row11_col2\" class=\"data row11 col2\" >https://pluk.io/</td>\n",
       "      <td id=\"T_b5056_row11_col3\" class=\"data row11 col3\" >Belgium</td>\n",
       "      <td id=\"T_b5056_row11_col4\" class=\"data row11 col4\" >Scrutenid electropulsator</td>\n",
       "      <td id=\"T_b5056_row11_col5\" class=\"data row11 col5\" >1984.000000</td>\n",
       "      <td id=\"T_b5056_row11_col6\" class=\"data row11 col6\" >Investment Return</td>\n",
       "      <td id=\"T_b5056_row11_col7\" class=\"data row11 col7\" >5437</td>\n",
       "      <td id=\"T_b5056_row11_col8\" class=\"data row11 col8\" >False</td>\n",
       "      <td id=\"T_b5056_row11_col9\" class=\"data row11 col9\" >1993-10-12</td>\n",
       "    </tr>\n",
       "  </tbody>\n",
       "</table>\n"
      ],
      "text/plain": [
       "<pandas.io.formats.style.Styler at 0x141bf1290>"
      ]
     },
     "execution_count": 22,
     "metadata": {},
     "output_type": "execute_result"
    }
   ],
   "source": [
    "%openad result display"
   ]
  },
  {
   "cell_type": "code",
   "execution_count": 23,
   "id": "25c3ad7c-11a2-497c-9759-9b08e5e8f910",
   "metadata": {
    "tags": []
   },
   "outputs": [
    {
     "data": {
      "text/markdown": [
       "<span style=\"color: #dc0\">The destination file already exists, overwrite?</span> <br> \n"
      ],
      "text/plain": [
       "<IPython.core.display.Markdown object>"
      ]
     },
     "metadata": {},
     "output_type": "display_data"
    },
    {
     "name": "stdin",
     "output_type": "stream",
     "text": [
      "(y/n):  y\n"
     ]
    },
    {
     "data": {
      "text/markdown": [
       "<span style=\"color: #090\">Your data was successfully stored as <span style=\"color: #dc0\">demo/manipulated-data.csv</span></span> <br> \n"
      ],
      "text/plain": [
       "<IPython.core.display.Markdown object>"
      ]
     },
     "execution_count": 23,
     "metadata": {},
     "output_type": "execute_result"
    }
   ],
   "source": [
    "%openad result save as 'demo/manipulated-data.csv'"
   ]
  },
  {
   "cell_type": "code",
   "execution_count": 24,
   "id": "5aedb3d9-4a15-49f6-8423-f7bba7310c8f",
   "metadata": {
    "tags": []
   },
   "outputs": [
    {
     "data": {
      "text/html": [
       "\n",
       "            <style>\n",
       "                #btn-wrap-1721336091 { height:12px; right:20px; display:flex; flex-direction:row-reverse; position:relative }\n",
       "                #btn-wrap-1721336091 a { color:#393939; width:24px; height:24px; padding:4px; box-sizing:border-box; background:white }\n",
       "                #btn-wrap-1721336091 a:hover { color: #0f62fe }\n",
       "            </style>\n",
       "            <div id=\"btn-wrap-1721336091\"><a target=\"_blank\" href=\"http://localhost:8028/~/\"><svg width=\"16\" height=\"16\" viewBox=\"0 0 16 16\" fill=\"none\" xmlns=\"http://www.w3.org/2000/svg\"><path d=\"M13 14H3C2.73489 13.9996 2.48075 13.8942 2.29329 13.7067C2.10583 13.5193 2.00036 13.2651 2 13V3C2.00036 2.73489 2.10583 2.48075 2.29329 2.29329C2.48075 2.10583 2.73489 2.00036 3 2H8V3H3V13H13V8H14V13C13.9996 13.2651 13.8942 13.5193 13.7067 13.7067C13.5193 13.8942 13.2651 13.9996 13 14Z\" fill=\"currentColor\"/><path d=\"M10 1V2H13.293L9 6.293L9.707 7L14 2.707V6H15V1H10Z\" fill=\"currentColor\"/></svg></a><a href=\"#\" onclick=\"event.preventDefault(); document.querySelector('#btn-wrap-1721336091 + iframe').src=document.querySelector('#btn-wrap-1721336091 + iframe').src;\"><svg width=\"16\" height=\"16\" viewBox=\"0 0 16 16\" fill=\"none\" xmlns=\"http://www.w3.org/2000/svg\"><path d=\"M9 14C10.1867 14 11.3467 13.6481 12.3334 12.9888C13.3201 12.3295 14.0892 11.3925 14.5433 10.2961C14.9974 9.19975 15.1162 7.99335 14.8847 6.82946C14.6532 5.66558 14.0818 4.59648 13.2426 3.75736C12.4035 2.91825 11.3344 2.3468 10.1705 2.11529C9.00666 1.88378 7.80026 2.0026 6.7039 2.45673C5.60754 2.91085 4.67047 3.67989 4.01118 4.66658C3.35189 5.65328 3 6.81331 3 8V11.1L1.2 9.3L0.5 10L3.5 13L6.5 10L5.8 9.3L4 11.1V8C4 7.0111 4.29324 6.0444 4.84265 5.22215C5.39206 4.39991 6.17295 3.75904 7.08658 3.38061C8.00021 3.00217 9.00555 2.90315 9.97545 3.09608C10.9454 3.289 11.8363 3.76521 12.5355 4.46447C13.2348 5.16373 13.711 6.05465 13.9039 7.02455C14.0969 7.99446 13.9978 8.99979 13.6194 9.91342C13.241 10.8271 12.6001 11.6079 11.7779 12.1574C10.9556 12.7068 9.98891 13 9 13V14Z\" fill=\"currentColor\"/></svg></a></div><iframe src=\"http://localhost:8028/headless/~/\" width=\"100%\" height=\"700\" style=\"border:solid 1px #ddd;box-sizing:border-box;width:calc(100% + 20px)\"></iframe>"
      ],
      "text/plain": [
       "<IPython.core.display.HTML object>"
      ]
     },
     "metadata": {},
     "output_type": "display_data"
    }
   ],
   "source": [
    "%openad launch gui"
   ]
  },
  {
   "cell_type": "markdown",
   "id": "96a6a492-126b-42d1-acf1-735dcbf1081d",
   "metadata": {
    "tags": []
   },
   "source": [
    "<br>\n",
    "\n",
    "### 5. \"My Molecules\" Working Set\n",
    "\n",
    "Your working set of molecules(*) is a molset that lives in memory and is meant as a bucket for gathering candidates from various processesses and sources, before storing them into a new file and processing them further.\n",
    "\n",
    "\\(*) Currently the working set is called \"mymols\", but this name may change.\n",
    "\n",
    "\n",
    "<span style=\"color: #d00\">Note: loading and merging molecule sets is still using a different architecture which is not compatible with the GUI.</span>"
   ]
  },
  {
   "cell_type": "code",
   "execution_count": null,
   "id": "12fc5909-8f40-4333-961b-83b4827f656b",
   "metadata": {
    "tags": []
   },
   "outputs": [],
   "source": [
    "# Add individual molecules by name\n",
    "%openad add molecule dopamine\n",
    "%openad add molecule serotonin\n",
    "%openad add molecule glutamate"
   ]
  },
  {
   "cell_type": "code",
   "execution_count": null,
   "id": "ba474fe2-b702-40c1-ad76-9ba5a1fae96e",
   "metadata": {
    "tags": []
   },
   "outputs": [],
   "source": [
    "# Add molecules from a molset\n",
    "%openad show molset 'demo/my-mols.molset.json'"
   ]
  },
  {
   "cell_type": "code",
   "execution_count": null,
   "id": "7dc19646-0d6d-445c-b3fa-bda02d6d646a",
   "metadata": {
    "tags": []
   },
   "outputs": [],
   "source": [
    "# Add molecule sets - NOT YET INTEGRATED WITH GUI\n",
    "# %openad load molecule-set 'file_types/molset---neurotransmitters.molset.json'"
   ]
  },
  {
   "cell_type": "code",
   "execution_count": null,
   "id": "2bc05106-0774-4a88-baa3-46c7f352329c",
   "metadata": {
    "tags": []
   },
   "outputs": [],
   "source": [
    "%openad show mols"
   ]
  },
  {
   "cell_type": "markdown",
   "id": "a06c43d9-3a18-4263-b5cb-05fc4ec51abf",
   "metadata": {},
   "source": [
    "<br>\n",
    "\n",
    "### 6. Results\n",
    "\n",
    "Whenever data is displayed in the CLI or a Notebook using `output_table()`, the data is stored in memory so it can be used for follow up commands like `result open`, `result edit`, `result copy` etc.\n",
    "\n",
    "The result dataset stored in memory can also be viewed and manipulated in the GUI, either through the molecule viewer or the data viewer (yet to be implemented)."
   ]
  },
  {
   "cell_type": "code",
   "execution_count": 25,
   "id": "df973191-b513-4e64-9142-c55d5416b272",
   "metadata": {
    "tags": []
   },
   "outputs": [
    {
     "data": {
      "text/markdown": [
       "<span style=\"color: #ccc\">Next up, you can run: </span>`result open`/`edit`/`copy`/`display`/`as dataframe`/`save [as '<filename.csv>']` <br> \n"
      ],
      "text/plain": [
       "<IPython.core.display.Markdown object>"
      ]
     },
     "metadata": {},
     "output_type": "display_data"
    },
    {
     "data": {
      "text/html": [
       "<style type=\"text/css\">\n",
       "</style>\n",
       "<table id=\"T_441a8\">\n",
       "  <thead>\n",
       "    <tr>\n",
       "      <th id=\"T_441a8_level0_col0\" class=\"col_heading level0 col0\" >ID</th>\n",
       "      <th id=\"T_441a8_level0_col1\" class=\"col_heading level0 col1\" >NAME</th>\n",
       "      <th id=\"T_441a8_level0_col2\" class=\"col_heading level0 col2\" >SOL</th>\n",
       "      <th id=\"T_441a8_level0_col3\" class=\"col_heading level0 col3\" >SMILES</th>\n",
       "      <th id=\"T_441a8_level0_col4\" class=\"col_heading level0 col4\" >SOL_classification</th>\n",
       "      <th id=\"T_441a8_level0_col5\" class=\"col_heading level0 col5\" >mols2grid-id</th>\n",
       "      <th id=\"T_441a8_level0_col6\" class=\"col_heading level0 col6\" >img</th>\n",
       "    </tr>\n",
       "  </thead>\n",
       "  <tbody>\n",
       "    <tr>\n",
       "      <td id=\"T_441a8_row0_col0\" class=\"data row0 col0\" >3-methylpentane</td>\n",
       "      <td id=\"T_441a8_row0_col1\" class=\"data row0 col1\" >3-methylpentane</td>\n",
       "      <td id=\"T_441a8_row0_col2\" class=\"data row0 col2\" >-3.680000</td>\n",
       "      <td id=\"T_441a8_row0_col3\" class=\"data row0 col3\" >CCC(C)CC</td>\n",
       "      <td id=\"T_441a8_row0_col4\" class=\"data row0 col4\" >(A) low</td>\n",
       "      <td id=\"T_441a8_row0_col5\" class=\"data row0 col5\" >0</td>\n",
       "      <td id=\"T_441a8_row0_col6\" class=\"data row0 col6\" ></td>\n",
       "    </tr>\n",
       "    <tr>\n",
       "      <td id=\"T_441a8_row1_col0\" class=\"data row1 col0\" >2,4-dimethylpentane</td>\n",
       "      <td id=\"T_441a8_row1_col1\" class=\"data row1 col1\" >2,4-dimethylpentane</td>\n",
       "      <td id=\"T_441a8_row1_col2\" class=\"data row1 col2\" >-4.260000</td>\n",
       "      <td id=\"T_441a8_row1_col3\" class=\"data row1 col3\" >CC(C)CC(C)C</td>\n",
       "      <td id=\"T_441a8_row1_col4\" class=\"data row1 col4\" >(A) low</td>\n",
       "      <td id=\"T_441a8_row1_col5\" class=\"data row1 col5\" >1</td>\n",
       "      <td id=\"T_441a8_row1_col6\" class=\"data row1 col6\" ></td>\n",
       "    </tr>\n",
       "    <tr>\n",
       "      <td id=\"T_441a8_row2_col0\" class=\"data row2 col0\" >1-pentene</td>\n",
       "      <td id=\"T_441a8_row2_col1\" class=\"data row2 col1\" >1-pentene</td>\n",
       "      <td id=\"T_441a8_row2_col2\" class=\"data row2 col2\" >-2.680000</td>\n",
       "      <td id=\"T_441a8_row2_col3\" class=\"data row2 col3\" >CCCC=C</td>\n",
       "      <td id=\"T_441a8_row2_col4\" class=\"data row2 col4\" >(B) medium</td>\n",
       "      <td id=\"T_441a8_row2_col5\" class=\"data row2 col5\" >2</td>\n",
       "      <td id=\"T_441a8_row2_col6\" class=\"data row2 col6\" ></td>\n",
       "    </tr>\n",
       "    <tr>\n",
       "      <td id=\"T_441a8_row3_col0\" class=\"data row3 col0\" >cyclohexene</td>\n",
       "      <td id=\"T_441a8_row3_col1\" class=\"data row3 col1\" >cyclohexene</td>\n",
       "      <td id=\"T_441a8_row3_col2\" class=\"data row3 col2\" >-2.590000</td>\n",
       "      <td id=\"T_441a8_row3_col3\" class=\"data row3 col3\" >C1CC=CCC1</td>\n",
       "      <td id=\"T_441a8_row3_col4\" class=\"data row3 col4\" >(B) medium</td>\n",
       "      <td id=\"T_441a8_row3_col5\" class=\"data row3 col5\" >3</td>\n",
       "      <td id=\"T_441a8_row3_col6\" class=\"data row3 col6\" ></td>\n",
       "    </tr>\n",
       "    <tr>\n",
       "      <td id=\"T_441a8_row4_col0\" class=\"data row4 col0\" >1,4-pentadiene</td>\n",
       "      <td id=\"T_441a8_row4_col1\" class=\"data row4 col1\" >1,4-pentadiene</td>\n",
       "      <td id=\"T_441a8_row4_col2\" class=\"data row4 col2\" >-2.090000</td>\n",
       "      <td id=\"T_441a8_row4_col3\" class=\"data row4 col3\" >C=CCC=C</td>\n",
       "      <td id=\"T_441a8_row4_col4\" class=\"data row4 col4\" >(B) medium</td>\n",
       "      <td id=\"T_441a8_row4_col5\" class=\"data row4 col5\" >4</td>\n",
       "      <td id=\"T_441a8_row4_col6\" class=\"data row4 col6\" ></td>\n",
       "    </tr>\n",
       "    <tr>\n",
       "      <td id=\"T_441a8_row5_col0\" class=\"data row5 col0\" >cycloheptatriene</td>\n",
       "      <td id=\"T_441a8_row5_col1\" class=\"data row5 col1\" >cycloheptatriene</td>\n",
       "      <td id=\"T_441a8_row5_col2\" class=\"data row5 col2\" >-2.150000</td>\n",
       "      <td id=\"T_441a8_row5_col3\" class=\"data row5 col3\" >C1=CC=CC=CC1</td>\n",
       "      <td id=\"T_441a8_row5_col4\" class=\"data row5 col4\" >(B) medium</td>\n",
       "      <td id=\"T_441a8_row5_col5\" class=\"data row5 col5\" >5</td>\n",
       "      <td id=\"T_441a8_row5_col6\" class=\"data row5 col6\" ></td>\n",
       "    </tr>\n",
       "    <tr>\n",
       "      <td id=\"T_441a8_row6_col0\" class=\"data row6 col0\" >1-octyne</td>\n",
       "      <td id=\"T_441a8_row6_col1\" class=\"data row6 col1\" >1-octyne</td>\n",
       "      <td id=\"T_441a8_row6_col2\" class=\"data row6 col2\" >-3.660000</td>\n",
       "      <td id=\"T_441a8_row6_col3\" class=\"data row6 col3\" >CCCCCCC#C</td>\n",
       "      <td id=\"T_441a8_row6_col4\" class=\"data row6 col4\" >(A) low</td>\n",
       "      <td id=\"T_441a8_row6_col5\" class=\"data row6 col5\" >6</td>\n",
       "      <td id=\"T_441a8_row6_col6\" class=\"data row6 col6\" ></td>\n",
       "    </tr>\n",
       "    <tr>\n",
       "      <td id=\"T_441a8_row7_col0\" class=\"data row7 col0\" >ethylbenzene</td>\n",
       "      <td id=\"T_441a8_row7_col1\" class=\"data row7 col1\" >ethylbenzene</td>\n",
       "      <td id=\"T_441a8_row7_col2\" class=\"data row7 col2\" >-2.770000</td>\n",
       "      <td id=\"T_441a8_row7_col3\" class=\"data row7 col3\" >c1ccccc1CC</td>\n",
       "      <td id=\"T_441a8_row7_col4\" class=\"data row7 col4\" >(B) medium</td>\n",
       "      <td id=\"T_441a8_row7_col5\" class=\"data row7 col5\" >7</td>\n",
       "      <td id=\"T_441a8_row7_col6\" class=\"data row7 col6\" ></td>\n",
       "    </tr>\n",
       "    <tr>\n",
       "      <td id=\"T_441a8_row8_col0\" class=\"data row8 col0\" >1,3,5-trimethylbenzene</td>\n",
       "      <td id=\"T_441a8_row8_col1\" class=\"data row8 col1\" >1,3,5-trimethylbenzene</td>\n",
       "      <td id=\"T_441a8_row8_col2\" class=\"data row8 col2\" >-3.400000</td>\n",
       "      <td id=\"T_441a8_row8_col3\" class=\"data row8 col3\" >c1c(C)cc(C)cc1C</td>\n",
       "      <td id=\"T_441a8_row8_col4\" class=\"data row8 col4\" >(A) low</td>\n",
       "      <td id=\"T_441a8_row8_col5\" class=\"data row8 col5\" >8</td>\n",
       "      <td id=\"T_441a8_row8_col6\" class=\"data row8 col6\" ></td>\n",
       "    </tr>\n",
       "    <tr>\n",
       "      <td id=\"T_441a8_row9_col0\" class=\"data row9 col0\" >indane</td>\n",
       "      <td id=\"T_441a8_row9_col1\" class=\"data row9 col1\" >indane</td>\n",
       "      <td id=\"T_441a8_row9_col2\" class=\"data row9 col2\" >-3.040000</td>\n",
       "      <td id=\"T_441a8_row9_col3\" class=\"data row9 col3\" >c(c(ccc1)CC2)(c1)C2</td>\n",
       "      <td id=\"T_441a8_row9_col4\" class=\"data row9 col4\" >(A) low</td>\n",
       "      <td id=\"T_441a8_row9_col5\" class=\"data row9 col5\" >9</td>\n",
       "      <td id=\"T_441a8_row9_col6\" class=\"data row9 col6\" ></td>\n",
       "    </tr>\n",
       "    <tr>\n",
       "      <td id=\"T_441a8_row10_col0\" class=\"data row10 col0\" >isobutylbenzene</td>\n",
       "      <td id=\"T_441a8_row10_col1\" class=\"data row10 col1\" >isobutylbenzene</td>\n",
       "      <td id=\"T_441a8_row10_col2\" class=\"data row10 col2\" >-4.120000</td>\n",
       "      <td id=\"T_441a8_row10_col3\" class=\"data row10 col3\" >c1ccccc1CC(C)C</td>\n",
       "      <td id=\"T_441a8_row10_col4\" class=\"data row10 col4\" >(A) low</td>\n",
       "      <td id=\"T_441a8_row10_col5\" class=\"data row10 col5\" >10</td>\n",
       "      <td id=\"T_441a8_row10_col6\" class=\"data row10 col6\" ></td>\n",
       "    </tr>\n",
       "    <tr>\n",
       "      <td id=\"T_441a8_row11_col0\" class=\"data row11 col0\" >n-hexylbenzene</td>\n",
       "      <td id=\"T_441a8_row11_col1\" class=\"data row11 col1\" >n-hexylbenzene</td>\n",
       "      <td id=\"T_441a8_row11_col2\" class=\"data row11 col2\" >-5.210000</td>\n",
       "      <td id=\"T_441a8_row11_col3\" class=\"data row11 col3\" >c1ccccc1CCCCCC</td>\n",
       "      <td id=\"T_441a8_row11_col4\" class=\"data row11 col4\" >(A) low</td>\n",
       "      <td id=\"T_441a8_row11_col5\" class=\"data row11 col5\" >11</td>\n",
       "      <td id=\"T_441a8_row11_col6\" class=\"data row11 col6\" ></td>\n",
       "    </tr>\n",
       "    <tr>\n",
       "      <td id=\"T_441a8_row12_col0\" class=\"data row12 col0\" >bibenzyl</td>\n",
       "      <td id=\"T_441a8_row12_col1\" class=\"data row12 col1\" >bibenzyl</td>\n",
       "      <td id=\"T_441a8_row12_col2\" class=\"data row12 col2\" >-4.620000</td>\n",
       "      <td id=\"T_441a8_row12_col3\" class=\"data row12 col3\" >c1ccccc1CCc2ccccc2</td>\n",
       "      <td id=\"T_441a8_row12_col4\" class=\"data row12 col4\" >(A) low</td>\n",
       "      <td id=\"T_441a8_row12_col5\" class=\"data row12 col5\" >12</td>\n",
       "      <td id=\"T_441a8_row12_col6\" class=\"data row12 col6\" ></td>\n",
       "    </tr>\n",
       "    <tr>\n",
       "      <td id=\"T_441a8_row13_col0\" class=\"data row13 col0\" >1-ethylnaphthalene</td>\n",
       "      <td id=\"T_441a8_row13_col1\" class=\"data row13 col1\" >1-ethylnaphthalene</td>\n",
       "      <td id=\"T_441a8_row13_col2\" class=\"data row13 col2\" >-4.170000</td>\n",
       "      <td id=\"T_441a8_row13_col3\" class=\"data row13 col3\" >c1ccc2ccccc2c1CC</td>\n",
       "      <td id=\"T_441a8_row13_col4\" class=\"data row13 col4\" >(A) low</td>\n",
       "      <td id=\"T_441a8_row13_col5\" class=\"data row13 col5\" >13</td>\n",
       "      <td id=\"T_441a8_row13_col6\" class=\"data row13 col6\" ></td>\n",
       "    </tr>\n",
       "    <tr>\n",
       "      <td id=\"T_441a8_row14_col0\" class=\"data row14 col0\" >1,3-dimethylnaphthalene</td>\n",
       "      <td id=\"T_441a8_row14_col1\" class=\"data row14 col1\" >1,3-dimethylnaphthalene</td>\n",
       "      <td id=\"T_441a8_row14_col2\" class=\"data row14 col2\" >-4.290000</td>\n",
       "      <td id=\"T_441a8_row14_col3\" class=\"data row14 col3\" >c1c(C)cc2ccccc2c1C</td>\n",
       "      <td id=\"T_441a8_row14_col4\" class=\"data row14 col4\" >(A) low</td>\n",
       "      <td id=\"T_441a8_row14_col5\" class=\"data row14 col5\" >14</td>\n",
       "      <td id=\"T_441a8_row14_col6\" class=\"data row14 col6\" ></td>\n",
       "    </tr>\n",
       "    <tr>\n",
       "      <td id=\"T_441a8_row15_col0\" class=\"data row15 col0\" >anthracene</td>\n",
       "      <td id=\"T_441a8_row15_col1\" class=\"data row15 col1\" >anthracene</td>\n",
       "      <td id=\"T_441a8_row15_col2\" class=\"data row15 col2\" >-6.350000</td>\n",
       "      <td id=\"T_441a8_row15_col3\" class=\"data row15 col3\" >c(c(ccc1)cc(c2ccc3)c3)(c1)c2</td>\n",
       "      <td id=\"T_441a8_row15_col4\" class=\"data row15 col4\" >(A) low</td>\n",
       "      <td id=\"T_441a8_row15_col5\" class=\"data row15 col5\" >15</td>\n",
       "      <td id=\"T_441a8_row15_col6\" class=\"data row15 col6\" ></td>\n",
       "    </tr>\n",
       "    <tr>\n",
       "      <td id=\"T_441a8_row16_col0\" class=\"data row16 col0\" >9,10-dimethylanthracene</td>\n",
       "      <td id=\"T_441a8_row16_col1\" class=\"data row16 col1\" >9,10-dimethylanthracene</td>\n",
       "      <td id=\"T_441a8_row16_col2\" class=\"data row16 col2\" >-6.570000</td>\n",
       "      <td id=\"T_441a8_row16_col3\" class=\"data row16 col3\" >Cc2c1ccccc1c(C)c3ccccc23</td>\n",
       "      <td id=\"T_441a8_row16_col4\" class=\"data row16 col4\" >(A) low</td>\n",
       "      <td id=\"T_441a8_row16_col5\" class=\"data row16 col5\" >16</td>\n",
       "      <td id=\"T_441a8_row16_col6\" class=\"data row16 col6\" ></td>\n",
       "    </tr>\n",
       "    <tr>\n",
       "      <td id=\"T_441a8_row17_col0\" class=\"data row17 col0\" >naphthacene</td>\n",
       "      <td id=\"T_441a8_row17_col1\" class=\"data row17 col1\" >naphthacene</td>\n",
       "      <td id=\"T_441a8_row17_col2\" class=\"data row17 col2\" >-8.600000</td>\n",
       "      <td id=\"T_441a8_row17_col3\" class=\"data row17 col3\" >c(c(cc(c1ccc2)c2)cc(c3ccc4)c4)(c1)c3</td>\n",
       "      <td id=\"T_441a8_row17_col4\" class=\"data row17 col4\" >(A) low</td>\n",
       "      <td id=\"T_441a8_row17_col5\" class=\"data row17 col5\" >17</td>\n",
       "      <td id=\"T_441a8_row17_col6\" class=\"data row17 col6\" ></td>\n",
       "    </tr>\n",
       "    <tr>\n",
       "      <td id=\"T_441a8_row18_col0\" class=\"data row18 col0\" >chrysene</td>\n",
       "      <td id=\"T_441a8_row18_col1\" class=\"data row18 col1\" >chrysene</td>\n",
       "      <td id=\"T_441a8_row18_col2\" class=\"data row18 col2\" >-8.060000</td>\n",
       "      <td id=\"T_441a8_row18_col3\" class=\"data row18 col3\" >c1ccc2ccc3c4ccccc4ccc3c2c1</td>\n",
       "      <td id=\"T_441a8_row18_col4\" class=\"data row18 col4\" >(A) low</td>\n",
       "      <td id=\"T_441a8_row18_col5\" class=\"data row18 col5\" >18</td>\n",
       "      <td id=\"T_441a8_row18_col6\" class=\"data row18 col6\" ></td>\n",
       "    </tr>\n",
       "    <tr>\n",
       "      <td id=\"T_441a8_row19_col0\" class=\"data row19 col0\" >1,7-phenantroline</td>\n",
       "      <td id=\"T_441a8_row19_col1\" class=\"data row19 col1\" >1,7-phenantroline</td>\n",
       "      <td id=\"T_441a8_row19_col2\" class=\"data row19 col2\" >-2.680000</td>\n",
       "      <td id=\"T_441a8_row19_col3\" class=\"data row19 col3\" >c1ccc2ccc3nccnc3c2c1</td>\n",
       "      <td id=\"T_441a8_row19_col4\" class=\"data row19 col4\" >(B) medium</td>\n",
       "      <td id=\"T_441a8_row19_col5\" class=\"data row19 col5\" >19</td>\n",
       "      <td id=\"T_441a8_row19_col6\" class=\"data row19 col6\" ></td>\n",
       "    </tr>\n",
       "    <tr>\n",
       "      <td id=\"T_441a8_row20_col0\" class=\"data row20 col0\" >6-aminochrysene</td>\n",
       "      <td id=\"T_441a8_row20_col1\" class=\"data row20 col1\" >6-aminochrysene</td>\n",
       "      <td id=\"T_441a8_row20_col2\" class=\"data row20 col2\" >-6.200000</td>\n",
       "      <td id=\"T_441a8_row20_col3\" class=\"data row20 col3\" >Nc3cc2c1ccccc1ccc2c4ccccc34</td>\n",
       "      <td id=\"T_441a8_row20_col4\" class=\"data row20 col4\" >(A) low</td>\n",
       "      <td id=\"T_441a8_row20_col5\" class=\"data row20 col5\" >20</td>\n",
       "      <td id=\"T_441a8_row20_col6\" class=\"data row20 col6\" ></td>\n",
       "    </tr>\n",
       "    <tr>\n",
       "      <td id=\"T_441a8_row21_col0\" class=\"data row21 col0\" >3-methylcholanthrene</td>\n",
       "      <td id=\"T_441a8_row21_col1\" class=\"data row21 col1\" >3-methylcholanthrene</td>\n",
       "      <td id=\"T_441a8_row21_col2\" class=\"data row21 col2\" >-7.920000</td>\n",
       "      <td id=\"T_441a8_row21_col3\" class=\"data row21 col3\" >c(c(ccc1C)cc(c2ccc3cccc4)c34)(c1CC5)c25</td>\n",
       "      <td id=\"T_441a8_row21_col4\" class=\"data row21 col4\" >(A) low</td>\n",
       "      <td id=\"T_441a8_row21_col5\" class=\"data row21 col5\" >21</td>\n",
       "      <td id=\"T_441a8_row21_col6\" class=\"data row21 col6\" ></td>\n",
       "    </tr>\n",
       "    <tr>\n",
       "      <td id=\"T_441a8_row22_col0\" class=\"data row22 col0\" >dibromomethane</td>\n",
       "      <td id=\"T_441a8_row22_col1\" class=\"data row22 col1\" >dibromomethane</td>\n",
       "      <td id=\"T_441a8_row22_col2\" class=\"data row22 col2\" >-1.170000</td>\n",
       "      <td id=\"T_441a8_row22_col3\" class=\"data row22 col3\" >BrCBr</td>\n",
       "      <td id=\"T_441a8_row22_col4\" class=\"data row22 col4\" >(B) medium</td>\n",
       "      <td id=\"T_441a8_row22_col5\" class=\"data row22 col5\" >22</td>\n",
       "      <td id=\"T_441a8_row22_col6\" class=\"data row22 col6\" ></td>\n",
       "    </tr>\n",
       "    <tr>\n",
       "      <td id=\"T_441a8_row23_col0\" class=\"data row23 col0\" >tetrachloromethane</td>\n",
       "      <td id=\"T_441a8_row23_col1\" class=\"data row23 col1\" >tetrachloromethane</td>\n",
       "      <td id=\"T_441a8_row23_col2\" class=\"data row23 col2\" >-2.310000</td>\n",
       "      <td id=\"T_441a8_row23_col3\" class=\"data row23 col3\" >ClC(Cl)(Cl)Cl</td>\n",
       "      <td id=\"T_441a8_row23_col4\" class=\"data row23 col4\" >(B) medium</td>\n",
       "      <td id=\"T_441a8_row23_col5\" class=\"data row23 col5\" >23</td>\n",
       "      <td id=\"T_441a8_row23_col6\" class=\"data row23 col6\" ></td>\n",
       "    </tr>\n",
       "    <tr>\n",
       "      <td id=\"T_441a8_row24_col0\" class=\"data row24 col0\" >1,2-dichloroethane</td>\n",
       "      <td id=\"T_441a8_row24_col1\" class=\"data row24 col1\" >1,2-dichloroethane</td>\n",
       "      <td id=\"T_441a8_row24_col2\" class=\"data row24 col2\" >-1.060000</td>\n",
       "      <td id=\"T_441a8_row24_col3\" class=\"data row24 col3\" >ClCCCl</td>\n",
       "      <td id=\"T_441a8_row24_col4\" class=\"data row24 col4\" >(B) medium</td>\n",
       "      <td id=\"T_441a8_row24_col5\" class=\"data row24 col5\" >24</td>\n",
       "      <td id=\"T_441a8_row24_col6\" class=\"data row24 col6\" ></td>\n",
       "    </tr>\n",
       "    <tr>\n",
       "      <td id=\"T_441a8_row25_col0\" class=\"data row25 col0\" >1,1,2,2-tetrachloroethane</td>\n",
       "      <td id=\"T_441a8_row25_col1\" class=\"data row25 col1\" >1,1,2,2-tetrachloroethane</td>\n",
       "      <td id=\"T_441a8_row25_col2\" class=\"data row25 col2\" >-1.740000</td>\n",
       "      <td id=\"T_441a8_row25_col3\" class=\"data row25 col3\" >ClC(Cl)C(Cl)Cl</td>\n",
       "      <td id=\"T_441a8_row25_col4\" class=\"data row25 col4\" >(B) medium</td>\n",
       "      <td id=\"T_441a8_row25_col5\" class=\"data row25 col5\" >25</td>\n",
       "      <td id=\"T_441a8_row25_col6\" class=\"data row25 col6\" ></td>\n",
       "    </tr>\n",
       "    <tr>\n",
       "      <td id=\"T_441a8_row26_col0\" class=\"data row26 col0\" >1-chloropropane</td>\n",
       "      <td id=\"T_441a8_row26_col1\" class=\"data row26 col1\" >1-chloropropane</td>\n",
       "      <td id=\"T_441a8_row26_col2\" class=\"data row26 col2\" >-1.470000</td>\n",
       "      <td id=\"T_441a8_row26_col3\" class=\"data row26 col3\" >CCCCl</td>\n",
       "      <td id=\"T_441a8_row26_col4\" class=\"data row26 col4\" >(B) medium</td>\n",
       "      <td id=\"T_441a8_row26_col5\" class=\"data row26 col5\" >26</td>\n",
       "      <td id=\"T_441a8_row26_col6\" class=\"data row26 col6\" ></td>\n",
       "    </tr>\n",
       "    <tr>\n",
       "      <td id=\"T_441a8_row27_col0\" class=\"data row27 col0\" >2-iodopropane</td>\n",
       "      <td id=\"T_441a8_row27_col1\" class=\"data row27 col1\" >2-iodopropane</td>\n",
       "      <td id=\"T_441a8_row27_col2\" class=\"data row27 col2\" >-2.090000</td>\n",
       "      <td id=\"T_441a8_row27_col3\" class=\"data row27 col3\" >CC(I)C</td>\n",
       "      <td id=\"T_441a8_row27_col4\" class=\"data row27 col4\" >(B) medium</td>\n",
       "      <td id=\"T_441a8_row27_col5\" class=\"data row27 col5\" >27</td>\n",
       "      <td id=\"T_441a8_row27_col6\" class=\"data row27 col6\" ></td>\n",
       "    </tr>\n",
       "    <tr>\n",
       "      <td id=\"T_441a8_row28_col0\" class=\"data row28 col0\" >1,2-dibromopropane</td>\n",
       "      <td id=\"T_441a8_row28_col1\" class=\"data row28 col1\" >1,2-dibromopropane</td>\n",
       "      <td id=\"T_441a8_row28_col2\" class=\"data row28 col2\" >-2.150000</td>\n",
       "      <td id=\"T_441a8_row28_col3\" class=\"data row28 col3\" >BrCC(Br)C</td>\n",
       "      <td id=\"T_441a8_row28_col4\" class=\"data row28 col4\" >(B) medium</td>\n",
       "      <td id=\"T_441a8_row28_col5\" class=\"data row28 col5\" >28</td>\n",
       "      <td id=\"T_441a8_row28_col6\" class=\"data row28 col6\" ></td>\n",
       "    </tr>\n",
       "    <tr>\n",
       "      <td id=\"T_441a8_row29_col0\" class=\"data row29 col0\" >1-bromobutane</td>\n",
       "      <td id=\"T_441a8_row29_col1\" class=\"data row29 col1\" >1-bromobutane</td>\n",
       "      <td id=\"T_441a8_row29_col2\" class=\"data row29 col2\" >-2.370000</td>\n",
       "      <td id=\"T_441a8_row29_col3\" class=\"data row29 col3\" >BrCCCC</td>\n",
       "      <td id=\"T_441a8_row29_col4\" class=\"data row29 col4\" >(B) medium</td>\n",
       "      <td id=\"T_441a8_row29_col5\" class=\"data row29 col5\" >29</td>\n",
       "      <td id=\"T_441a8_row29_col6\" class=\"data row29 col6\" ></td>\n",
       "    </tr>\n",
       "    <tr>\n",
       "      <td id=\"T_441a8_row30_col0\" class=\"data row30 col0\" >2,3-dichlorobutane</td>\n",
       "      <td id=\"T_441a8_row30_col1\" class=\"data row30 col1\" >2,3-dichlorobutane</td>\n",
       "      <td id=\"T_441a8_row30_col2\" class=\"data row30 col2\" >-2.700000</td>\n",
       "      <td id=\"T_441a8_row30_col3\" class=\"data row30 col3\" >CC(Cl)C(Cl)C</td>\n",
       "      <td id=\"T_441a8_row30_col4\" class=\"data row30 col4\" >(B) medium</td>\n",
       "      <td id=\"T_441a8_row30_col5\" class=\"data row30 col5\" >30</td>\n",
       "      <td id=\"T_441a8_row30_col6\" class=\"data row30 col6\" ></td>\n",
       "    </tr>\n",
       "    <tr>\n",
       "      <td id=\"T_441a8_row31_col0\" class=\"data row31 col0\" >1-bromo-3-methylbutane</td>\n",
       "      <td id=\"T_441a8_row31_col1\" class=\"data row31 col1\" >1-bromo-3-methylbutane</td>\n",
       "      <td id=\"T_441a8_row31_col2\" class=\"data row31 col2\" >-2.890000</td>\n",
       "      <td id=\"T_441a8_row31_col3\" class=\"data row31 col3\" >BrCCC(C)C</td>\n",
       "      <td id=\"T_441a8_row31_col4\" class=\"data row31 col4\" >(B) medium</td>\n",
       "      <td id=\"T_441a8_row31_col5\" class=\"data row31 col5\" >31</td>\n",
       "      <td id=\"T_441a8_row31_col6\" class=\"data row31 col6\" ></td>\n",
       "    </tr>\n",
       "    <tr>\n",
       "      <td id=\"T_441a8_row32_col0\" class=\"data row32 col0\" >1-bromooctane</td>\n",
       "      <td id=\"T_441a8_row32_col1\" class=\"data row32 col1\" >1-bromooctane</td>\n",
       "      <td id=\"T_441a8_row32_col2\" class=\"data row32 col2\" >-5.060000</td>\n",
       "      <td id=\"T_441a8_row32_col3\" class=\"data row32 col3\" >CCCCCCCCBr</td>\n",
       "      <td id=\"T_441a8_row32_col4\" class=\"data row32 col4\" >(A) low</td>\n",
       "      <td id=\"T_441a8_row32_col5\" class=\"data row32 col5\" >32</td>\n",
       "      <td id=\"T_441a8_row32_col6\" class=\"data row32 col6\" ></td>\n",
       "    </tr>\n",
       "    <tr>\n",
       "      <td id=\"T_441a8_row33_col0\" class=\"data row33 col0\" >1-bromoheptane</td>\n",
       "      <td id=\"T_441a8_row33_col1\" class=\"data row33 col1\" >1-bromoheptane</td>\n",
       "      <td id=\"T_441a8_row33_col2\" class=\"data row33 col2\" >-4.430000</td>\n",
       "      <td id=\"T_441a8_row33_col3\" class=\"data row33 col3\" >CCCCCCCBr</td>\n",
       "      <td id=\"T_441a8_row33_col4\" class=\"data row33 col4\" >(A) low</td>\n",
       "      <td id=\"T_441a8_row33_col5\" class=\"data row33 col5\" >33</td>\n",
       "      <td id=\"T_441a8_row33_col6\" class=\"data row33 col6\" ></td>\n",
       "    </tr>\n",
       "    <tr>\n",
       "      <td id=\"T_441a8_row34_col0\" class=\"data row34 col0\" >1,2-dibromoethylene</td>\n",
       "      <td id=\"T_441a8_row34_col1\" class=\"data row34 col1\" >1,2-dibromoethylene</td>\n",
       "      <td id=\"T_441a8_row34_col2\" class=\"data row34 col2\" >-1.320000</td>\n",
       "      <td id=\"T_441a8_row34_col3\" class=\"data row34 col3\" >BrC=CBr</td>\n",
       "      <td id=\"T_441a8_row34_col4\" class=\"data row34 col4\" >(B) medium</td>\n",
       "      <td id=\"T_441a8_row34_col5\" class=\"data row34 col5\" >34</td>\n",
       "      <td id=\"T_441a8_row34_col6\" class=\"data row34 col6\" ></td>\n",
       "    </tr>\n",
       "    <tr>\n",
       "      <td id=\"T_441a8_row35_col0\" class=\"data row35 col0\" >heptachlor</td>\n",
       "      <td id=\"T_441a8_row35_col1\" class=\"data row35 col1\" >heptachlor</td>\n",
       "      <td id=\"T_441a8_row35_col2\" class=\"data row35 col2\" >-6.320000</td>\n",
       "      <td id=\"T_441a8_row35_col3\" class=\"data row35 col3\" >ClC1C=CC2C1C3(Cl)C(=C(Cl)C2(Cl)C3(Cl)Cl)Cl</td>\n",
       "      <td id=\"T_441a8_row35_col4\" class=\"data row35 col4\" >(A) low</td>\n",
       "      <td id=\"T_441a8_row35_col5\" class=\"data row35 col5\" >35</td>\n",
       "      <td id=\"T_441a8_row35_col6\" class=\"data row35 col6\" ></td>\n",
       "    </tr>\n",
       "    <tr>\n",
       "      <td id=\"T_441a8_row36_col0\" class=\"data row36 col0\" >hexachlorobutadiene</td>\n",
       "      <td id=\"T_441a8_row36_col1\" class=\"data row36 col1\" >hexachlorobutadiene</td>\n",
       "      <td id=\"T_441a8_row36_col2\" class=\"data row36 col2\" >-4.910000</td>\n",
       "      <td id=\"T_441a8_row36_col3\" class=\"data row36 col3\" >ClC(Cl)=C(Cl)C(Cl)=C(Cl)Cl</td>\n",
       "      <td id=\"T_441a8_row36_col4\" class=\"data row36 col4\" >(A) low</td>\n",
       "      <td id=\"T_441a8_row36_col5\" class=\"data row36 col5\" >36</td>\n",
       "      <td id=\"T_441a8_row36_col6\" class=\"data row36 col6\" ></td>\n",
       "    </tr>\n",
       "    <tr>\n",
       "      <td id=\"T_441a8_row37_col0\" class=\"data row37 col0\" >bromobenzene</td>\n",
       "      <td id=\"T_441a8_row37_col1\" class=\"data row37 col1\" >bromobenzene</td>\n",
       "      <td id=\"T_441a8_row37_col2\" class=\"data row37 col2\" >-2.550000</td>\n",
       "      <td id=\"T_441a8_row37_col3\" class=\"data row37 col3\" >c1ccccc1Br</td>\n",
       "      <td id=\"T_441a8_row37_col4\" class=\"data row37 col4\" >(B) medium</td>\n",
       "      <td id=\"T_441a8_row37_col5\" class=\"data row37 col5\" >37</td>\n",
       "      <td id=\"T_441a8_row37_col6\" class=\"data row37 col6\" ></td>\n",
       "    </tr>\n",
       "    <tr>\n",
       "      <td id=\"T_441a8_row38_col0\" class=\"data row38 col0\" >1-bromo-2-chlorobenzene</td>\n",
       "      <td id=\"T_441a8_row38_col1\" class=\"data row38 col1\" >1-bromo-2-chlorobenzene</td>\n",
       "      <td id=\"T_441a8_row38_col2\" class=\"data row38 col2\" >-3.190000</td>\n",
       "      <td id=\"T_441a8_row38_col3\" class=\"data row38 col3\" >c1cccc(Cl)c1Br</td>\n",
       "      <td id=\"T_441a8_row38_col4\" class=\"data row38 col4\" >(A) low</td>\n",
       "      <td id=\"T_441a8_row38_col5\" class=\"data row38 col5\" >38</td>\n",
       "      <td id=\"T_441a8_row38_col6\" class=\"data row38 col6\" ></td>\n",
       "    </tr>\n",
       "    <tr>\n",
       "      <td id=\"T_441a8_row39_col0\" class=\"data row39 col0\" >1,3-dibromobenzene</td>\n",
       "      <td id=\"T_441a8_row39_col1\" class=\"data row39 col1\" >1,3-dibromobenzene</td>\n",
       "      <td id=\"T_441a8_row39_col2\" class=\"data row39 col2\" >-3.540000</td>\n",
       "      <td id=\"T_441a8_row39_col3\" class=\"data row39 col3\" >c1ccc(Br)cc1Br</td>\n",
       "      <td id=\"T_441a8_row39_col4\" class=\"data row39 col4\" >(A) low</td>\n",
       "      <td id=\"T_441a8_row39_col5\" class=\"data row39 col5\" >39</td>\n",
       "      <td id=\"T_441a8_row39_col6\" class=\"data row39 col6\" ></td>\n",
       "    </tr>\n",
       "    <tr>\n",
       "      <td id=\"T_441a8_row40_col0\" class=\"data row40 col0\" >1,2,4-tribromobenzene</td>\n",
       "      <td id=\"T_441a8_row40_col1\" class=\"data row40 col1\" >1,2,4-tribromobenzene</td>\n",
       "      <td id=\"T_441a8_row40_col2\" class=\"data row40 col2\" >-4.500000</td>\n",
       "      <td id=\"T_441a8_row40_col3\" class=\"data row40 col3\" >c1cc(Br)cc(Br)c1Br</td>\n",
       "      <td id=\"T_441a8_row40_col4\" class=\"data row40 col4\" >(A) low</td>\n",
       "      <td id=\"T_441a8_row40_col5\" class=\"data row40 col5\" >40</td>\n",
       "      <td id=\"T_441a8_row40_col6\" class=\"data row40 col6\" ></td>\n",
       "    </tr>\n",
       "    <tr>\n",
       "      <td id=\"T_441a8_row41_col0\" class=\"data row41 col0\" >pentachlorobenzene</td>\n",
       "      <td id=\"T_441a8_row41_col1\" class=\"data row41 col1\" >pentachlorobenzene</td>\n",
       "      <td id=\"T_441a8_row41_col2\" class=\"data row41 col2\" >-5.650000</td>\n",
       "      <td id=\"T_441a8_row41_col3\" class=\"data row41 col3\" >c1c(Cl)c(Cl)c(Cl)c(Cl)c1Cl</td>\n",
       "      <td id=\"T_441a8_row41_col4\" class=\"data row41 col4\" >(A) low</td>\n",
       "      <td id=\"T_441a8_row41_col5\" class=\"data row41 col5\" >41</td>\n",
       "      <td id=\"T_441a8_row41_col6\" class=\"data row41 col6\" ></td>\n",
       "    </tr>\n",
       "    <tr>\n",
       "      <td id=\"T_441a8_row42_col0\" class=\"data row42 col0\" >m-difluorobenzene</td>\n",
       "      <td id=\"T_441a8_row42_col1\" class=\"data row42 col1\" >m-difluorobenzene</td>\n",
       "      <td id=\"T_441a8_row42_col2\" class=\"data row42 col2\" >-2.000000</td>\n",
       "      <td id=\"T_441a8_row42_col3\" class=\"data row42 col3\" >c1ccc(F)cc1F</td>\n",
       "      <td id=\"T_441a8_row42_col4\" class=\"data row42 col4\" >(B) medium</td>\n",
       "      <td id=\"T_441a8_row42_col5\" class=\"data row42 col5\" >42</td>\n",
       "      <td id=\"T_441a8_row42_col6\" class=\"data row42 col6\" ></td>\n",
       "    </tr>\n",
       "    <tr>\n",
       "      <td id=\"T_441a8_row43_col0\" class=\"data row43 col0\" >4-chlorobiphenyl</td>\n",
       "      <td id=\"T_441a8_row43_col1\" class=\"data row43 col1\" >4-chlorobiphenyl</td>\n",
       "      <td id=\"T_441a8_row43_col2\" class=\"data row43 col2\" >-5.200000</td>\n",
       "      <td id=\"T_441a8_row43_col3\" class=\"data row43 col3\" >c1ccccc1c2ccc(Cl)cc2</td>\n",
       "      <td id=\"T_441a8_row43_col4\" class=\"data row43 col4\" >(A) low</td>\n",
       "      <td id=\"T_441a8_row43_col5\" class=\"data row43 col5\" >43</td>\n",
       "      <td id=\"T_441a8_row43_col6\" class=\"data row43 col6\" ></td>\n",
       "    </tr>\n",
       "    <tr>\n",
       "      <td id=\"T_441a8_row44_col0\" class=\"data row44 col0\" >2,4ﾴ-PCB</td>\n",
       "      <td id=\"T_441a8_row44_col1\" class=\"data row44 col1\" >2,4ﾴ-PCB</td>\n",
       "      <td id=\"T_441a8_row44_col2\" class=\"data row44 col2\" >-5.280000</td>\n",
       "      <td id=\"T_441a8_row44_col3\" class=\"data row44 col3\" >c1cc(Cl)ccc1c2c(Cl)cccc2</td>\n",
       "      <td id=\"T_441a8_row44_col4\" class=\"data row44 col4\" >(A) low</td>\n",
       "      <td id=\"T_441a8_row44_col5\" class=\"data row44 col5\" >44</td>\n",
       "      <td id=\"T_441a8_row44_col6\" class=\"data row44 col6\" ></td>\n",
       "    </tr>\n",
       "    <tr>\n",
       "      <td id=\"T_441a8_row45_col0\" class=\"data row45 col0\" >2,2ﾴ,5-PCB</td>\n",
       "      <td id=\"T_441a8_row45_col1\" class=\"data row45 col1\" >2,2ﾴ,5-PCB</td>\n",
       "      <td id=\"T_441a8_row45_col2\" class=\"data row45 col2\" >-6.020000</td>\n",
       "      <td id=\"T_441a8_row45_col3\" class=\"data row45 col3\" >c1cccc(Cl)c1c2c(Cl)ccc(Cl)c2</td>\n",
       "      <td id=\"T_441a8_row45_col4\" class=\"data row45 col4\" >(A) low</td>\n",
       "      <td id=\"T_441a8_row45_col5\" class=\"data row45 col5\" >45</td>\n",
       "      <td id=\"T_441a8_row45_col6\" class=\"data row45 col6\" ></td>\n",
       "    </tr>\n",
       "    <tr>\n",
       "      <td id=\"T_441a8_row46_col0\" class=\"data row46 col0\" >2ﾴ,3,4-PCB</td>\n",
       "      <td id=\"T_441a8_row46_col1\" class=\"data row46 col1\" >2ﾴ,3,4-PCB</td>\n",
       "      <td id=\"T_441a8_row46_col2\" class=\"data row46 col2\" >-6.290000</td>\n",
       "      <td id=\"T_441a8_row46_col3\" class=\"data row46 col3\" >c1cc(Cl)c(Cl)cc1c2c(Cl)cccc2</td>\n",
       "      <td id=\"T_441a8_row46_col4\" class=\"data row46 col4\" >(A) low</td>\n",
       "      <td id=\"T_441a8_row46_col5\" class=\"data row46 col5\" >46</td>\n",
       "      <td id=\"T_441a8_row46_col6\" class=\"data row46 col6\" ></td>\n",
       "    </tr>\n",
       "    <tr>\n",
       "      <td id=\"T_441a8_row47_col0\" class=\"data row47 col0\" >2,3,4,5-PCB</td>\n",
       "      <td id=\"T_441a8_row47_col1\" class=\"data row47 col1\" >2,3,4,5-PCB</td>\n",
       "      <td id=\"T_441a8_row47_col2\" class=\"data row47 col2\" >-7.160000</td>\n",
       "      <td id=\"T_441a8_row47_col3\" class=\"data row47 col3\" >c1ccccc1c2c(Cl)c(Cl)c(Cl)c(Cl)c2</td>\n",
       "      <td id=\"T_441a8_row47_col4\" class=\"data row47 col4\" >(A) low</td>\n",
       "      <td id=\"T_441a8_row47_col5\" class=\"data row47 col5\" >47</td>\n",
       "      <td id=\"T_441a8_row47_col6\" class=\"data row47 col6\" ></td>\n",
       "    </tr>\n",
       "    <tr>\n",
       "      <td id=\"T_441a8_row48_col0\" class=\"data row48 col0\" >2,2ﾴ,5,6ﾴ-PCB</td>\n",
       "      <td id=\"T_441a8_row48_col1\" class=\"data row48 col1\" >2,2ﾴ,5,6ﾴ-PCB</td>\n",
       "      <td id=\"T_441a8_row48_col2\" class=\"data row48 col2\" >-6.800000</td>\n",
       "      <td id=\"T_441a8_row48_col3\" class=\"data row48 col3\" >c1c(Cl)ccc(Cl)c1c2c(Cl)cccc2Cl</td>\n",
       "      <td id=\"T_441a8_row48_col4\" class=\"data row48 col4\" >(A) low</td>\n",
       "      <td id=\"T_441a8_row48_col5\" class=\"data row48 col5\" >48</td>\n",
       "      <td id=\"T_441a8_row48_col6\" class=\"data row48 col6\" ></td>\n",
       "    </tr>\n",
       "    <tr>\n",
       "      <td id=\"T_441a8_row49_col0\" class=\"data row49 col0\" >2,2ﾴ,3,4,5ﾴ-PCB</td>\n",
       "      <td id=\"T_441a8_row49_col1\" class=\"data row49 col1\" >2,2ﾴ,3,4,5ﾴ-PCB</td>\n",
       "      <td id=\"T_441a8_row49_col2\" class=\"data row49 col2\" >-7.910000</td>\n",
       "      <td id=\"T_441a8_row49_col3\" class=\"data row49 col3\" >c1c(Cl)ccc(Cl)c1c2c(Cl)c(Cl)c(Cl)cc2</td>\n",
       "      <td id=\"T_441a8_row49_col4\" class=\"data row49 col4\" >(A) low</td>\n",
       "      <td id=\"T_441a8_row49_col5\" class=\"data row49 col5\" >49</td>\n",
       "      <td id=\"T_441a8_row49_col6\" class=\"data row49 col6\" ></td>\n",
       "    </tr>\n",
       "    <tr>\n",
       "      <td id=\"T_441a8_row50_col0\" class=\"data row50 col0\" >2,3,4,5,6-PCB</td>\n",
       "      <td id=\"T_441a8_row50_col1\" class=\"data row50 col1\" >2,3,4,5,6-PCB</td>\n",
       "      <td id=\"T_441a8_row50_col2\" class=\"data row50 col2\" >-7.920000</td>\n",
       "      <td id=\"T_441a8_row50_col3\" class=\"data row50 col3\" >Clc1c(Cl)c(Cl)c(Cl)c(Cl)c1c2ccccc2</td>\n",
       "      <td id=\"T_441a8_row50_col4\" class=\"data row50 col4\" >(A) low</td>\n",
       "      <td id=\"T_441a8_row50_col5\" class=\"data row50 col5\" >50</td>\n",
       "      <td id=\"T_441a8_row50_col6\" class=\"data row50 col6\" ></td>\n",
       "    </tr>\n",
       "    <tr>\n",
       "      <td id=\"T_441a8_row51_col0\" class=\"data row51 col0\" >2,2ﾴ,3,4,5,5ﾴ-PCB</td>\n",
       "      <td id=\"T_441a8_row51_col1\" class=\"data row51 col1\" >2,2ﾴ,3,4,5,5ﾴ-PCB</td>\n",
       "      <td id=\"T_441a8_row51_col2\" class=\"data row51 col2\" >-7.680000</td>\n",
       "      <td id=\"T_441a8_row51_col3\" class=\"data row51 col3\" >c1c(Cl)ccc(Cl)c1c2c(Cl)c(Cl)c(Cl)c(Cl)c2</td>\n",
       "      <td id=\"T_441a8_row51_col4\" class=\"data row51 col4\" >(A) low</td>\n",
       "      <td id=\"T_441a8_row51_col5\" class=\"data row51 col5\" >51</td>\n",
       "      <td id=\"T_441a8_row51_col6\" class=\"data row51 col6\" ></td>\n",
       "    </tr>\n",
       "    <tr>\n",
       "      <td id=\"T_441a8_row52_col0\" class=\"data row52 col0\" >2,2ﾴ,3,3ﾴ,4,4ﾴ-PCB</td>\n",
       "      <td id=\"T_441a8_row52_col1\" class=\"data row52 col1\" >2,2ﾴ,3,3ﾴ,4,4ﾴ-PCB</td>\n",
       "      <td id=\"T_441a8_row52_col2\" class=\"data row52 col2\" >-8.010000</td>\n",
       "      <td id=\"T_441a8_row52_col3\" class=\"data row52 col3\" >c1cc(Cl)c(Cl)c(Cl)c1c2c(Cl)c(Cl)c(Cl)cc2</td>\n",
       "      <td id=\"T_441a8_row52_col4\" class=\"data row52 col4\" >(A) low</td>\n",
       "      <td id=\"T_441a8_row52_col5\" class=\"data row52 col5\" >52</td>\n",
       "      <td id=\"T_441a8_row52_col6\" class=\"data row52 col6\" ></td>\n",
       "    </tr>\n",
       "    <tr>\n",
       "      <td id=\"T_441a8_row53_col0\" class=\"data row53 col0\" >2,2ﾴ,3,3ﾴ,5,5ﾴ,6,6ﾴ-PCB</td>\n",
       "      <td id=\"T_441a8_row53_col1\" class=\"data row53 col1\" >2,2ﾴ,3,3ﾴ,5,5ﾴ,6,6ﾴ-PCB</td>\n",
       "      <td id=\"T_441a8_row53_col2\" class=\"data row53 col2\" >-9.150000</td>\n",
       "      <td id=\"T_441a8_row53_col3\" class=\"data row53 col3\" >Clc1c(Cl)cc(Cl)c(Cl)c1c2c(Cl)c(Cl)cc(Cl)c2Cl</td>\n",
       "      <td id=\"T_441a8_row53_col4\" class=\"data row53 col4\" >(A) low</td>\n",
       "      <td id=\"T_441a8_row53_col5\" class=\"data row53 col5\" >53</td>\n",
       "      <td id=\"T_441a8_row53_col6\" class=\"data row53 col6\" ></td>\n",
       "    </tr>\n",
       "    <tr>\n",
       "      <td id=\"T_441a8_row54_col0\" class=\"data row54 col0\" >p,pﾴ-DDD</td>\n",
       "      <td id=\"T_441a8_row54_col1\" class=\"data row54 col1\" >p,pﾴ-DDD</td>\n",
       "      <td id=\"T_441a8_row54_col2\" class=\"data row54 col2\" >-7.200000</td>\n",
       "      <td id=\"T_441a8_row54_col3\" class=\"data row54 col3\" >ClC(Cl)C(c1ccc(Cl)cc1)c2ccc(Cl)cc2</td>\n",
       "      <td id=\"T_441a8_row54_col4\" class=\"data row54 col4\" >(A) low</td>\n",
       "      <td id=\"T_441a8_row54_col5\" class=\"data row54 col5\" >54</td>\n",
       "      <td id=\"T_441a8_row54_col6\" class=\"data row54 col6\" ></td>\n",
       "    </tr>\n",
       "    <tr>\n",
       "      <td id=\"T_441a8_row55_col0\" class=\"data row55 col0\" >2-bromonaphthalene</td>\n",
       "      <td id=\"T_441a8_row55_col1\" class=\"data row55 col1\" >2-bromonaphthalene</td>\n",
       "      <td id=\"T_441a8_row55_col2\" class=\"data row55 col2\" >-4.400000</td>\n",
       "      <td id=\"T_441a8_row55_col3\" class=\"data row55 col3\" >c(c(ccc1Br)ccc2)(c2)c1</td>\n",
       "      <td id=\"T_441a8_row55_col4\" class=\"data row55 col4\" >(A) low</td>\n",
       "      <td id=\"T_441a8_row55_col5\" class=\"data row55 col5\" >55</td>\n",
       "      <td id=\"T_441a8_row55_col6\" class=\"data row55 col6\" ></td>\n",
       "    </tr>\n",
       "    <tr>\n",
       "      <td id=\"T_441a8_row56_col0\" class=\"data row56 col0\" >2-pentanol</td>\n",
       "      <td id=\"T_441a8_row56_col1\" class=\"data row56 col1\" >2-pentanol</td>\n",
       "      <td id=\"T_441a8_row56_col2\" class=\"data row56 col2\" >-0.290000</td>\n",
       "      <td id=\"T_441a8_row56_col3\" class=\"data row56 col3\" >CCCC(O)C</td>\n",
       "      <td id=\"T_441a8_row56_col4\" class=\"data row56 col4\" >(C) high</td>\n",
       "      <td id=\"T_441a8_row56_col5\" class=\"data row56 col5\" >56</td>\n",
       "      <td id=\"T_441a8_row56_col6\" class=\"data row56 col6\" ></td>\n",
       "    </tr>\n",
       "  </tbody>\n",
       "</table>\n"
      ],
      "text/plain": [
       "<pandas.io.formats.style.Styler at 0x1418f8750>"
      ]
     },
     "execution_count": 25,
     "metadata": {},
     "output_type": "execute_result"
    }
   ],
   "source": [
    "%openad display data 'demo/my-mols.csv'"
   ]
  },
  {
   "cell_type": "code",
   "execution_count": 26,
   "id": "ad903ad3-a929-4ab1-83f6-e95f7e13aae5",
   "metadata": {
    "tags": []
   },
   "outputs": [
    {
     "data": {
      "text/html": [
       "\n",
       "            <style>\n",
       "                #btn-wrap-1721336125 { height:12px; right:20px; display:flex; flex-direction:row-reverse; position:relative }\n",
       "                #btn-wrap-1721336125 a { color:#393939; width:24px; height:24px; padding:4px; box-sizing:border-box; background:white }\n",
       "                #btn-wrap-1721336125 a:hover { color: #0f62fe }\n",
       "            </style>\n",
       "            <div id=\"btn-wrap-1721336125\"><a target=\"_blank\" href=\"http://localhost:8028/result\"><svg width=\"16\" height=\"16\" viewBox=\"0 0 16 16\" fill=\"none\" xmlns=\"http://www.w3.org/2000/svg\"><path d=\"M13 14H3C2.73489 13.9996 2.48075 13.8942 2.29329 13.7067C2.10583 13.5193 2.00036 13.2651 2 13V3C2.00036 2.73489 2.10583 2.48075 2.29329 2.29329C2.48075 2.10583 2.73489 2.00036 3 2H8V3H3V13H13V8H14V13C13.9996 13.2651 13.8942 13.5193 13.7067 13.7067C13.5193 13.8942 13.2651 13.9996 13 14Z\" fill=\"currentColor\"/><path d=\"M10 1V2H13.293L9 6.293L9.707 7L14 2.707V6H15V1H10Z\" fill=\"currentColor\"/></svg></a><a href=\"#\" onclick=\"event.preventDefault(); document.querySelector('#btn-wrap-1721336125 + iframe').src=document.querySelector('#btn-wrap-1721336125 + iframe').src;\"><svg width=\"16\" height=\"16\" viewBox=\"0 0 16 16\" fill=\"none\" xmlns=\"http://www.w3.org/2000/svg\"><path d=\"M9 14C10.1867 14 11.3467 13.6481 12.3334 12.9888C13.3201 12.3295 14.0892 11.3925 14.5433 10.2961C14.9974 9.19975 15.1162 7.99335 14.8847 6.82946C14.6532 5.66558 14.0818 4.59648 13.2426 3.75736C12.4035 2.91825 11.3344 2.3468 10.1705 2.11529C9.00666 1.88378 7.80026 2.0026 6.7039 2.45673C5.60754 2.91085 4.67047 3.67989 4.01118 4.66658C3.35189 5.65328 3 6.81331 3 8V11.1L1.2 9.3L0.5 10L3.5 13L6.5 10L5.8 9.3L4 11.1V8C4 7.0111 4.29324 6.0444 4.84265 5.22215C5.39206 4.39991 6.17295 3.75904 7.08658 3.38061C8.00021 3.00217 9.00555 2.90315 9.97545 3.09608C10.9454 3.289 11.8363 3.76521 12.5355 4.46447C13.2348 5.16373 13.711 6.05465 13.9039 7.02455C14.0969 7.99446 13.9978 8.99979 13.6194 9.91342C13.241 10.8271 12.6001 11.6079 11.7779 12.1574C10.9556 12.7068 9.98891 13 9 13V14Z\" fill=\"currentColor\"/></svg></a></div><iframe src=\"http://localhost:8028/headless/result\" width=\"100%\" height=\"700\" style=\"border:solid 1px #ddd;box-sizing:border-box;width:calc(100% + 20px)\"></iframe>"
      ],
      "text/plain": [
       "<IPython.core.display.HTML object>"
      ]
     },
     "metadata": {},
     "output_type": "display_data"
    }
   ],
   "source": [
    "%openad result open"
   ]
  }
 ],
 "metadata": {
  "kernelspec": {
   "display_name": "venv",
   "language": "python",
   "name": "venv"
  },
  "language_info": {
   "codemirror_mode": {
    "name": "ipython",
    "version": 3
   },
   "file_extension": ".py",
   "mimetype": "text/x-python",
   "name": "python",
   "nbconvert_exporter": "python",
   "pygments_lexer": "ipython3",
   "version": "3.11.2"
  }
 },
 "nbformat": 4,
 "nbformat_minor": 5
}
