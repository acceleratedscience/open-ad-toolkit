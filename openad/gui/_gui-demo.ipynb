{
 "cells": [
  {
   "cell_type": "markdown",
   "id": "b515acec-3107-4d3c-a814-ef66c675a642",
   "metadata": {},
   "source": [
    "<!-- When doing changes to this file, please keep them in sync with the README.md file -->\n",
    "\n",
    "# OpenAD GUI Demo\n",
    "\n",
    "The OpenAD GUI provides a visual window onto your data, helping you with evaluation and triage.\n",
    "\n",
    "<br>\n",
    "\n",
    "### <u>How it works</u>\n",
    "\n",
    "The GUI can be launched from the CLI (in the browser) or a Jupyter Notebook (in an iFrame).<br>\n",
    "Any command that requires the GUI will start the server, which will then keep on running until the application or Notebook is shut down."
   ]
  },
  {
   "cell_type": "markdown",
   "id": "6ef0d70c-5bf3-4527-bfc4-b7f44f93ccbc",
   "metadata": {},
   "source": [
    "<br>\n",
    "\n",
    "## <u>Components</u>\n",
    "\n",
    "1. File browser\n",
    "1. Molecule viewer\n",
    "2. Molecule set viewer\n",
    "1. Data viewer (to be implemented)\n",
    "1. \"My molecules\" working set\n",
    "1. Results"
   ]
  },
  {
   "cell_type": "markdown",
   "id": "4d3f6ef1-80ea-4b66-b351-bc44a31b2f40",
   "metadata": {
    "tags": []
   },
   "source": [
    "<br>\n",
    "\n",
    "### 1. File Browser\n",
    "\n",
    "The file browser lets us open our own proprietary file formats:\n",
    "\n",
    "- **.mol.json** --> Individual molecule files\n",
    "- **.molset.json** --> Sets of molecule files\n",
    "\n",
    "As well as a number of commonly used file formats:\n",
    "\n",
    "- **.mol**\n",
    "- **.sdf**\n",
    "- **.smi**\n",
    "- **.json**\n",
    "- **.csv**\n",
    "\n",
    "Files can easily be opened in your default system app, which is the default for any unsupported file formats."
   ]
  },
  {
   "cell_type": "code",
   "execution_count": null,
   "id": "d73bfd83-6a95-4ae4-b111-fb3c95b2e375",
   "metadata": {
    "tags": []
   },
   "outputs": [],
   "source": [
    "# The file browser is the landing page for the GUI\n",
    "%openad launch gui"
   ]
  },
  {
   "cell_type": "markdown",
   "id": "3577612b-09ad-4d41-8913-f40557ebe016",
   "metadata": {},
   "source": [
    "<br>\n",
    "\n",
    "### 2. Molecule Viewer\n",
    "\n",
    "The molecule viewer gives you an at-a-glance overview of all the information you have gathered on a particular molecule.\n",
    "\n",
    "New molecules are prepopulated with data from RDKit and PubChem by default"
   ]
  },
  {
   "cell_type": "code",
   "execution_count": null,
   "id": "ffae7a0a-7af6-4510-b058-bf9cfc70ff81",
   "metadata": {
    "tags": []
   },
   "outputs": [],
   "source": [
    "# Visualize a single molecule\n",
    "%openad show mol dopamine"
   ]
  },
  {
   "cell_type": "markdown",
   "id": "98f7edc8-8842-4616-bc6e-afa80f6109b1",
   "metadata": {},
   "source": [
    "<br>\n",
    "\n",
    "### 3. Molset Viewer\n",
    "\n",
    "<p>The molset viewer is replacing the widely used \"mols2grid\" package. It runs a lot faster and has improved usability.</p>\n",
    "\n",
    "<p>In the future we'll also load this with more advanced functionality like filtering, subsetting, merging etc.</p>\n",
    "\n",
    "<p><span style=\"color: #d00\">Note: viewing molecule sets from a dataframe is not yet implemented.</span></p>"
   ]
  },
  {
   "cell_type": "code",
   "execution_count": null,
   "id": "bd0e8d94-5ed6-477e-b04d-4f4bbde19baa",
   "metadata": {
    "tags": []
   },
   "outputs": [],
   "source": [
    "# Visualize a molecule set - from a file\n",
    "%openad show molset 'demo/my_mols.molset.json'"
   ]
  },
  {
   "cell_type": "code",
   "execution_count": null,
   "id": "7c041b55-4165-4196-9fb1-c125615dd97d",
   "metadata": {
    "tags": []
   },
   "outputs": [],
   "source": [
    "# Visualize a molecule set - from a dataframe\n",
    "\n",
    "# %openad clear sessions\n",
    "# %openad add toolkit ds4sd\n",
    "# %openad set context ds4sd\n",
    "\n",
    "my_df = %openad search for similar molecules to 'C(=C)C([O-])'\n",
    "\n",
    "# NOT YET IMPLEMENTED\n",
    "%openad show molset using dataframe my_df"
   ]
  },
  {
   "cell_type": "markdown",
   "id": "67dae3b8-d2c9-443f-820c-e90a8c82613a",
   "metadata": {},
   "source": [
    "<br>\n",
    "\n",
    "### 4. Data Viewer\n",
    "\n",
    "The data viewer lets you review, sort and triage data from a CSV file or a dataframe.\n",
    "\n",
    "<span style=\"color: #d00\">The data viewer is not yet ported into the new GUI. It still uses the deprecated Flask app architecture.</span>"
   ]
  },
  {
   "cell_type": "code",
   "execution_count": null,
   "id": "390dc1a2-21e1-489a-bdaf-e0e82590c6a5",
   "metadata": {
    "tags": []
   },
   "outputs": [],
   "source": [
    "%openad display data 'demo/my-data.csv'"
   ]
  },
  {
   "cell_type": "code",
   "execution_count": null,
   "id": "8a7a692a-1b37-4836-89f5-e070541b3fed",
   "metadata": {
    "tags": []
   },
   "outputs": [],
   "source": [
    "%openad result open"
   ]
  },
  {
   "cell_type": "code",
   "execution_count": null,
   "id": "4434cab6-827d-45ff-8a33-a3cc5159e7a3",
   "metadata": {
    "tags": []
   },
   "outputs": [],
   "source": [
    "%openad result display"
   ]
  },
  {
   "cell_type": "code",
   "execution_count": null,
   "id": "25c3ad7c-11a2-497c-9759-9b08e5e8f910",
   "metadata": {
    "tags": []
   },
   "outputs": [],
   "source": [
    "%openad result save as 'demo/manipulated-data.csv'"
   ]
  },
  {
   "cell_type": "code",
   "execution_count": null,
   "id": "5aedb3d9-4a15-49f6-8423-f7bba7310c8f",
   "metadata": {
    "tags": []
   },
   "outputs": [],
   "source": [
    "%openad launch gui"
   ]
  },
  {
   "cell_type": "markdown",
   "id": "96a6a492-126b-42d1-acf1-735dcbf1081d",
   "metadata": {
    "tags": []
   },
   "source": [
    "<br>\n",
    "\n",
    "### 5. \"My Molecules\" Working Set\n",
    "\n",
    "Your working set of molecules(*) is a molset that lives in memory and is meant as a bucket for gathering candidates from various processesses and sources, before storing them into a new file and processing them further.\n",
    "\n",
    "\\(*) Currently the working set is called \"mymols\", but this name may change.\n",
    "\n",
    "\n",
    "<span style=\"color: #d00\">Note: loading and merging molecule sets is still using a different architecture which is not compatible with the GUI.</span>"
   ]
  },
  {
   "cell_type": "code",
   "execution_count": null,
   "id": "12fc5909-8f40-4333-961b-83b4827f656b",
   "metadata": {
    "tags": []
   },
   "outputs": [],
   "source": [
    "# Add individual molecules by name\n",
    "%openad add molecule dopamine\n",
    "%openad add molecule serotonin\n",
    "%openad add molecule glutamate"
   ]
  },
  {
   "cell_type": "code",
   "execution_count": null,
   "id": "ba474fe2-b702-40c1-ad76-9ba5a1fae96e",
   "metadata": {
    "tags": []
   },
   "outputs": [],
   "source": [
    "# Add molecules from a molset\n",
    "%openad show molset 'demo/my-mols.molset.json'"
   ]
  },
  {
   "cell_type": "code",
   "execution_count": null,
   "id": "7dc19646-0d6d-445c-b3fa-bda02d6d646a",
   "metadata": {
    "tags": []
   },
   "outputs": [],
   "source": [
    "# Add molecule sets - NOT YET INTEGRATED WITH GUI\n",
    "# %openad load molecule-set 'file_types/molset---neurotransmitters.molset.json'"
   ]
  },
  {
   "cell_type": "code",
   "execution_count": null,
   "id": "2bc05106-0774-4a88-baa3-46c7f352329c",
   "metadata": {
    "tags": []
   },
   "outputs": [],
   "source": [
    "%openad show mols"
   ]
  },
  {
   "cell_type": "markdown",
   "id": "a06c43d9-3a18-4263-b5cb-05fc4ec51abf",
   "metadata": {},
   "source": [
    "<br>\n",
    "\n",
    "### 6. Results\n",
    "\n",
    "Whenever data is displayed in the CLI or a Notebook using `output_table()`, the data is stored in memory so it can be used for follow up commands like `result open`, `result edit`, `result copy` etc.\n",
    "\n",
    "The result dataset stored in memory can also be viewed and manipulated in the GUI, either through the molecule viewer or the data viewer (yet to be implemented)."
   ]
  },
  {
   "cell_type": "code",
   "execution_count": null,
   "id": "df973191-b513-4e64-9142-c55d5416b272",
   "metadata": {
    "tags": []
   },
   "outputs": [],
   "source": [
    "%openad display data 'demo/my-mols.csv'"
   ]
  },
  {
   "cell_type": "code",
   "execution_count": null,
   "id": "ad903ad3-a929-4ab1-83f6-e95f7e13aae5",
   "metadata": {
    "tags": []
   },
   "outputs": [],
   "source": [
    "%openad result open"
   ]
  }
 ],
 "metadata": {
  "kernelspec": {
   "display_name": "venv",
   "language": "python",
   "name": "venv"
  },
  "language_info": {
   "codemirror_mode": {
    "name": "ipython",
    "version": 3
   },
   "file_extension": ".py",
   "mimetype": "text/x-python",
   "name": "python",
   "nbconvert_exporter": "python",
   "pygments_lexer": "ipython3",
   "version": "3.11.2"
  }
 },
 "nbformat": 4,
 "nbformat_minor": 5
}
