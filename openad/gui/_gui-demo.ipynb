{
 "cells": [
  {
   "cell_type": "markdown",
   "id": "b515acec-3107-4d3c-a814-ef66c675a642",
   "metadata": {},
   "source": [
    "# OpenAD GUI Demo\n",
    "\n",
    "_This is a showcase of the OpenAD GUI, aka Graphical User Interface._\n",
    "\n",
    "- <u>**The GUI is:**</u> a visual window onto your data, helping you with decision making and triage.\n",
    "- <u>**The GUI is NOT:**</u> a replacement for CLI/Notebook functionality."
   ]
  },
  {
   "cell_type": "markdown",
   "id": "d50adb92-b0d7-4d68-8229-fb23d916840d",
   "metadata": {
    "tags": []
   },
   "source": [
    "<br>\n",
    "\n",
    "## <u>How it works</u>\n",
    "\n",
    "The GUI can be launched from the CLI (in the browser) or a Jupyter Notebook (in an iFrame).<br>\n",
    "Any command that requires the GUI will start the server, which will then keep on running until the application or Notebook is shut down."
   ]
  },
  {
   "cell_type": "markdown",
   "id": "6ef0d70c-5bf3-4527-bfc4-b7f44f93ccbc",
   "metadata": {},
   "source": [
    "<br>\n",
    "\n",
    "## <u>Components</u>\n",
    "\n",
    "1. File browser\n",
    "1. Molecule viewer\n",
    "2. Molecule set viewer\n",
    "1. Data viewer (to be implemented)\n",
    "1. \"My molecules\" working set\n",
    "1. Results"
   ]
  },
  {
   "cell_type": "markdown",
   "id": "4d3f6ef1-80ea-4b66-b351-bc44a31b2f40",
   "metadata": {
    "tags": []
   },
   "source": [
    "<br>\n",
    "\n",
    "### 1. File browser\n",
    "\n",
    "The file browser lets us open our own proprietary file formats:\n",
    "\n",
    "- **.mol.json** --> Individual molecule files\n",
    "- **.molset.json** --> Sets of molecule files\n",
    "\n",
    "As well as a number of commonly used file formats:\n",
    "\n",
    "- **.mol**\n",
    "- **.sdf**\n",
    "- **.smi**\n",
    "- **.json**\n",
    "- **.csv**\n",
    "\n",
    "Files can easily be opened in your default system app, which is the default for any unsupported file formats."
   ]
  },
  {
   "cell_type": "code",
   "execution_count": 17,
   "id": "d73bfd83-6a95-4ae4-b111-fb3c95b2e375",
   "metadata": {
    "tags": []
   },
   "outputs": [
    {
     "data": {
      "text/html": [
       "\n",
       "            <style>\n",
       "                #btn-wrap-1721313925 { height:12px; right:20px; display:flex; flex-direction:row-reverse; position:relative }\n",
       "                #btn-wrap-1721313925 a { color:#393939; width:24px; height:24px; padding:4px; box-sizing:border-box; background:white }\n",
       "                #btn-wrap-1721313925 a:hover { color: #0f62fe }\n",
       "            </style>\n",
       "            <div id=\"btn-wrap-1721313925\"><a target=\"_blank\" href=\"http://0.0.0.0:8024/~/\"><svg width=\"16\" height=\"16\" viewBox=\"0 0 16 16\" fill=\"none\" xmlns=\"http://www.w3.org/2000/svg\"><path d=\"M13 14H3C2.73489 13.9996 2.48075 13.8942 2.29329 13.7067C2.10583 13.5193 2.00036 13.2651 2 13V3C2.00036 2.73489 2.10583 2.48075 2.29329 2.29329C2.48075 2.10583 2.73489 2.00036 3 2H8V3H3V13H13V8H14V13C13.9996 13.2651 13.8942 13.5193 13.7067 13.7067C13.5193 13.8942 13.2651 13.9996 13 14Z\" fill=\"currentColor\"/><path d=\"M10 1V2H13.293L9 6.293L9.707 7L14 2.707V6H15V1H10Z\" fill=\"currentColor\"/></svg></a><a href=\"#\" onclick=\"event.preventDefault(); document.querySelector('#btn-wrap-1721313925 + iframe').src=document.querySelector('#btn-wrap-1721313925 + iframe').src;\"><svg width=\"16\" height=\"16\" viewBox=\"0 0 16 16\" fill=\"none\" xmlns=\"http://www.w3.org/2000/svg\"><path d=\"M9 14C10.1867 14 11.3467 13.6481 12.3334 12.9888C13.3201 12.3295 14.0892 11.3925 14.5433 10.2961C14.9974 9.19975 15.1162 7.99335 14.8847 6.82946C14.6532 5.66558 14.0818 4.59648 13.2426 3.75736C12.4035 2.91825 11.3344 2.3468 10.1705 2.11529C9.00666 1.88378 7.80026 2.0026 6.7039 2.45673C5.60754 2.91085 4.67047 3.67989 4.01118 4.66658C3.35189 5.65328 3 6.81331 3 8V11.1L1.2 9.3L0.5 10L3.5 13L6.5 10L5.8 9.3L4 11.1V8C4 7.0111 4.29324 6.0444 4.84265 5.22215C5.39206 4.39991 6.17295 3.75904 7.08658 3.38061C8.00021 3.00217 9.00555 2.90315 9.97545 3.09608C10.9454 3.289 11.8363 3.76521 12.5355 4.46447C13.2348 5.16373 13.711 6.05465 13.9039 7.02455C14.0969 7.99446 13.9978 8.99979 13.6194 9.91342C13.241 10.8271 12.6001 11.6079 11.7779 12.1574C10.9556 12.7068 9.98891 13 9 13V14Z\" fill=\"currentColor\"/></svg></a></div><iframe src=\"http://0.0.0.0:8024/headless/~/\" width=\"100%\" height=\"700\" style=\"border:solid 1px #ddd;box-sizing:border-box;width:calc(100% + 20px)\"></iframe>"
      ],
      "text/plain": [
       "<IPython.core.display.HTML object>"
      ]
     },
     "metadata": {},
     "output_type": "display_data"
    }
   ],
   "source": [
    "# The file browser is the landing page for the GUI\n",
    "%openad launch gui"
   ]
  },
  {
   "cell_type": "markdown",
   "id": "3577612b-09ad-4d41-8913-f40557ebe016",
   "metadata": {},
   "source": [
    "<br>\n",
    "\n",
    "### 2. Molecule viewer\n",
    "\n",
    "<p>Our molecule viewer gives you an at-a-glance overview of all the information you have on a particular molecule.</p>\n",
    "<p>By default we'll prepopulate this with what we get from RDKit and PubChem</p>"
   ]
  },
  {
   "cell_type": "code",
   "execution_count": null,
   "id": "ffae7a0a-7af6-4510-b058-bf9cfc70ff81",
   "metadata": {
    "tags": []
   },
   "outputs": [],
   "source": [
    "# Visualize a single molecule\n",
    "%openad show mol dopamine"
   ]
  },
  {
   "cell_type": "markdown",
   "id": "98f7edc8-8842-4616-bc6e-afa80f6109b1",
   "metadata": {},
   "source": [
    "<br>\n",
    "\n",
    "### 3. Molecule set viewer\n",
    "\n",
    "<p>This is replacing the widely used \"mols2grid\" package. It runs a lot faster and has improved usability.</p>\n",
    "\n",
    "<p>In the future we'll also load this with more advanced functionality like filtering, subsetting, merging etc.</p>\n",
    "\n",
    "<p><span style=\"color: #d00\">Note: viewing molecule sets from a dataframe is not yet implemented.</span></p>"
   ]
  },
  {
   "cell_type": "code",
   "execution_count": null,
   "id": "bd0e8d94-5ed6-477e-b04d-4f4bbde19baa",
   "metadata": {
    "tags": []
   },
   "outputs": [],
   "source": [
    "# Visualize a molecule set - from a file\n",
    "%openad show molset 'demo/my_mols.molset.json'"
   ]
  },
  {
   "cell_type": "code",
   "execution_count": null,
   "id": "7c041b55-4165-4196-9fb1-c125615dd97d",
   "metadata": {
    "tags": []
   },
   "outputs": [],
   "source": [
    "# Visualize a molecule set - from a dataframe\n",
    "\n",
    "# %openad clear sessions\n",
    "# %openad add toolkit ds4sd\n",
    "# %openad set context ds4sd\n",
    "\n",
    "my_df = %openad search for similar molecules to 'C(=C)C([O-])'\n",
    "\n",
    "# NOT YET IMPLEMENTED\n",
    "%openad show molset using dataframe my_df"
   ]
  },
  {
   "cell_type": "markdown",
   "id": "67dae3b8-d2c9-443f-820c-e90a8c82613a",
   "metadata": {},
   "source": [
    "<br>\n",
    "\n",
    "### 4. Data viewer\n",
    "\n",
    "<p><span style=\"color: #d00\">The data viewer is not yet ported into the new GUI. It still uses the deprecated Flask app architecture.</span></p>\n",
    "<p>The data viewer lets you review, sort and triage data from a CSV file or a dataframe</p>"
   ]
  },
  {
   "cell_type": "code",
   "execution_count": null,
   "id": "390dc1a2-21e1-489a-bdaf-e0e82590c6a5",
   "metadata": {
    "tags": []
   },
   "outputs": [],
   "source": [
    "%openad display data 'demo/my-data.csv'"
   ]
  },
  {
   "cell_type": "code",
   "execution_count": null,
   "id": "3127d32b-bda7-4133-9b93-740019fdb325",
   "metadata": {},
   "outputs": [],
   "source": [
    "%openad result open"
   ]
  },
  {
   "cell_type": "code",
   "execution_count": null,
   "id": "707f00ed-08ac-4a40-b8ff-39421b00bf66",
   "metadata": {
    "tags": []
   },
   "outputs": [],
   "source": [
    "# Manipulate the data and submit\n",
    "%openad result display"
   ]
  },
  {
   "cell_type": "code",
   "execution_count": null,
   "id": "62183d44-1659-4985-ae85-b2f2e622f5df",
   "metadata": {
    "tags": []
   },
   "outputs": [],
   "source": [
    "%openad result save as 'demo/manipulated-data.csv'"
   ]
  },
  {
   "cell_type": "code",
   "execution_count": null,
   "id": "5aedb3d9-4a15-49f6-8423-f7bba7310c8f",
   "metadata": {
    "tags": []
   },
   "outputs": [],
   "source": [
    "%openad launch gui"
   ]
  },
  {
   "cell_type": "markdown",
   "id": "96a6a492-126b-42d1-acf1-735dcbf1081d",
   "metadata": {
    "tags": []
   },
   "source": [
    "<br>\n",
    "\n",
    "### 5. \"My Molecules\" working set\n",
    "\n",
    "<p>Currently this is called \"mymols\" but may possibly be renamed. It is an molecule set that lives in memory and is meant as a neutral place to gather candidates from various processesses and sources, before storing them into a new file.</p>\n",
    "\n",
    "<p><span style=\"color: #d00\">Note: loading and merging molecule sets is still using a different architecture which is not compatible with the GUI.</span></p>"
   ]
  },
  {
   "cell_type": "code",
   "execution_count": null,
   "id": "12fc5909-8f40-4333-961b-83b4827f656b",
   "metadata": {
    "tags": []
   },
   "outputs": [],
   "source": [
    "# Add individual molecules by name\n",
    "%openad add molecule dopamine\n",
    "%openad add molecule serotonin\n",
    "%openad add molecule glutamate"
   ]
  },
  {
   "cell_type": "code",
   "execution_count": null,
   "id": "ba474fe2-b702-40c1-ad76-9ba5a1fae96e",
   "metadata": {
    "tags": []
   },
   "outputs": [],
   "source": [
    "# Add molecules from a molset\n",
    "%openad show molset 'file_types/molset---neurotransmitters.molset.json'"
   ]
  },
  {
   "cell_type": "code",
   "execution_count": null,
   "id": "7dc19646-0d6d-445c-b3fa-bda02d6d646a",
   "metadata": {
    "tags": []
   },
   "outputs": [],
   "source": [
    "# Add molecule sets - NOT YET INTEGRATED WITH GUI\n",
    "# %openad load molecule-set 'file_types/molset---neurotransmitters.molset.json'"
   ]
  },
  {
   "cell_type": "markdown",
   "id": "a06c43d9-3a18-4263-b5cb-05fc4ec51abf",
   "metadata": {},
   "source": [
    "<br>\n",
    "\n",
    "### 6. Results\n",
    "\n",
    "Whenever data is displayed in the CLI or a Notebook using `output_table()`, the data is stored in memory so it can be used for follow up commands like `result open`, `result edit`, `result copy` etc.\n",
    "<br><br>\n",
    "The result dataset stored in memory can also be viewed and manipulated in the GUI, either through the data viewer (yet to be implemented) or the molecule viewer."
   ]
  },
  {
   "cell_type": "code",
   "execution_count": null,
   "id": "df973191-b513-4e64-9142-c55d5416b272",
   "metadata": {
    "tags": []
   },
   "outputs": [],
   "source": [
    "%openad display data 'demo/my-mols.csv'"
   ]
  },
  {
   "cell_type": "code",
   "execution_count": null,
   "id": "ad903ad3-a929-4ab1-83f6-e95f7e13aae5",
   "metadata": {
    "tags": []
   },
   "outputs": [],
   "source": [
    "%openad result open"
   ]
  }
 ],
 "metadata": {
  "kernelspec": {
   "display_name": "venv",
   "language": "python",
   "name": "venv"
  },
  "language_info": {
   "codemirror_mode": {
    "name": "ipython",
    "version": 3
   },
   "file_extension": ".py",
   "mimetype": "text/x-python",
   "name": "python",
   "nbconvert_exporter": "python",
   "pygments_lexer": "ipython3",
   "version": "3.11.2"
  }
 },
 "nbformat": 4,
 "nbformat_minor": 5
}
