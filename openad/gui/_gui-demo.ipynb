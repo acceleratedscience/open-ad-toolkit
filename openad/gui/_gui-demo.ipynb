{
 "cells": [
  {
   "cell_type": "markdown",
   "id": "b515acec-3107-4d3c-a814-ef66c675a642",
   "metadata": {},
   "source": [
    "<!-- When doing changes to this file, please keep them in sync with the README.md file -->\n",
    "\n",
    "# OpenAD GUI Demo\n",
    "\n",
    "The OpenAD GUI provides a visual window onto your data, helping you with evaluation and triage.\n",
    "\n",
    "<br>\n",
    "\n",
    "### <u>How it works</u>\n",
    "\n",
    "The GUI can be launched from the CLI (in the browser) or a Jupyter Notebook (in an iFrame).<br>\n",
    "Any command that requires the GUI will start the server, which will then keep on running until the application or Notebook is shut down."
   ]
  },
  {
   "cell_type": "markdown",
   "id": "6ef0d70c-5bf3-4527-bfc4-b7f44f93ccbc",
   "metadata": {},
   "source": [
    "<br>\n",
    "\n",
    "## <u>Components</u>\n",
    "\n",
    "1. File browser\n",
    "1. Molecule viewer\n",
    "2. Molecule set viewer\n",
    "1. Data viewer (to be implemented)\n",
    "1. \"My molecules\" working set\n",
    "1. Results"
   ]
  },
  {
   "cell_type": "markdown",
   "id": "4d3f6ef1-80ea-4b66-b351-bc44a31b2f40",
   "metadata": {
    "tags": []
   },
   "source": [
    "<br>\n",
    "\n",
    "### 1. File Browser\n",
    "\n",
    "The file browser lets us open our own proprietary file formats:\n",
    "\n",
    "- **.mol.json** --> Individual molecule files\n",
    "- **.molset.json** --> Sets of molecule files\n",
    "\n",
    "As well as a number of commonly used file formats:\n",
    "\n",
    "- **.mol**\n",
    "- **.sdf**\n",
    "- **.smi**\n",
    "- **.json**\n",
    "- **.csv**\n",
    "\n",
    "Files can easily be opened in your default system app, which is the default for any unsupported file formats."
   ]
  },
  {
   "cell_type": "code",
   "execution_count": null,
   "id": "d73bfd83-6a95-4ae4-b111-fb3c95b2e375",
   "metadata": {
    "tags": []
   },
   "outputs": [],
   "source": [
    "# The file browser is the landing page for the GUI\n",
    "%openad launch gui"
   ]
  },
  {
   "cell_type": "markdown",
   "id": "3577612b-09ad-4d41-8913-f40557ebe016",
   "metadata": {},
   "source": [
    "<br>\n",
    "\n",
    "### 2. Molecule Viewer\n",
    "\n",
    "The molecule viewer gives you an at-a-glance overview of all the information you have gathered on a particular molecule.\n",
    "\n",
    "New molecules are prepopulated with data from RDKit and PubChem by default"
   ]
  },
  {
   "cell_type": "code",
   "execution_count": null,
   "id": "ffae7a0a-7af6-4510-b058-bf9cfc70ff81",
   "metadata": {
    "tags": []
   },
   "outputs": [],
   "source": [
    "# Visualize a single molecule\n",
    "%openad show mol dopamine"
   ]
  },
  {
   "cell_type": "markdown",
   "id": "98f7edc8-8842-4616-bc6e-afa80f6109b1",
   "metadata": {},
   "source": [
    "<br>\n",
    "\n",
    "### 3. Molset Viewer\n",
    "\n",
    "<p>The molset viewer is replacing the widely used \"mols2grid\" package. It runs a lot faster and has improved usability.</p>\n",
    "\n",
    "<p>In the future we'll also load this with more advanced functionality like filtering, subsetting, merging etc.</p>"
   ]
  },
  {
   "cell_type": "code",
   "execution_count": null,
   "id": "bd0e8d94-5ed6-477e-b04d-4f4bbde19baa",
   "metadata": {
    "tags": []
   },
   "outputs": [],
   "source": [
    "# Visualize a molecule set - from a file\n",
    "%openad show molset 'demo/my-mols.molset.json'"
   ]
  },
  {
   "cell_type": "code",
   "execution_count": 3,
   "id": "7c041b55-4165-4196-9fb1-c125615dd97d",
   "metadata": {
    "tags": []
   },
   "outputs": [
    {
     "data": {
      "text/markdown": [
       "**We found 10 molecules similar to the provided SMILES** <br> \n"
      ],
      "text/plain": [
       "<IPython.core.display.Markdown object>"
      ]
     },
     "metadata": {},
     "output_type": "display_data"
    },
    {
     "data": {
      "text/markdown": [
       "C(=C)C([O-]) <br> \n"
      ],
      "text/plain": [
       "<IPython.core.display.Markdown object>"
      ]
     },
     "metadata": {},
     "output_type": "display_data"
    },
    {
     "data": {
      "image/png": "[encoded data removed]",
      "text/plain": [
       "<PIL.PngImagePlugin.PngImageFile image mode=RGB size=200x200>"
      ]
     },
     "metadata": {},
     "output_type": "display_data"
    },
    {
     "data": {
      "text/markdown": [
       "<span style=\"color: #ccc\">Next up, you can run: </span>`result open`/`edit`/`copy`/`display`/`as dataframe`/`save [as '<filename.csv>']` <br> \n"
      ],
      "text/plain": [
       "<IPython.core.display.Markdown object>"
      ]
     },
     "metadata": {},
     "output_type": "display_data"
    },
    {
     "data": {
      "text/html": [
       "\n",
       "            <style>\n",
       "                #btn-wrap-1721407637 { height:12px; right:20px; display:flex; flex-direction:row-reverse; position:relative }\n",
       "                #btn-wrap-1721407637 a { color:#393939; width:24px; height:24px; padding:4px; box-sizing:border-box; background:white }\n",
       "                #btn-wrap-1721407637 a:hover { color: #0f62fe }\n",
       "            </style>\n",
       "            <div id=\"btn-wrap-1721407637\"><a target=\"_blank\" href=\"http://localhost:8026/dataframe/my_df\"><svg width=\"16\" height=\"16\" viewBox=\"0 0 16 16\" fill=\"none\" xmlns=\"http://www.w3.org/2000/svg\"><path d=\"M13 14H3C2.73489 13.9996 2.48075 13.8942 2.29329 13.7067C2.10583 13.5193 2.00036 13.2651 2 13V3C2.00036 2.73489 2.10583 2.48075 2.29329 2.29329C2.48075 2.10583 2.73489 2.00036 3 2H8V3H3V13H13V8H14V13C13.9996 13.2651 13.8942 13.5193 13.7067 13.7067C13.5193 13.8942 13.2651 13.9996 13 14Z\" fill=\"currentColor\"/><path d=\"M10 1V2H13.293L9 6.293L9.707 7L14 2.707V6H15V1H10Z\" fill=\"currentColor\"/></svg></a><a href=\"#\" onclick=\"event.preventDefault(); document.querySelector('#btn-wrap-1721407637 + iframe').src=document.querySelector('#btn-wrap-1721407637 + iframe').src;\"><svg width=\"16\" height=\"16\" viewBox=\"0 0 16 16\" fill=\"none\" xmlns=\"http://www.w3.org/2000/svg\"><path d=\"M9 14C10.1867 14 11.3467 13.6481 12.3334 12.9888C13.3201 12.3295 14.0892 11.3925 14.5433 10.2961C14.9974 9.19975 15.1162 7.99335 14.8847 6.82946C14.6532 5.66558 14.0818 4.59648 13.2426 3.75736C12.4035 2.91825 11.3344 2.3468 10.1705 2.11529C9.00666 1.88378 7.80026 2.0026 6.7039 2.45673C5.60754 2.91085 4.67047 3.67989 4.01118 4.66658C3.35189 5.65328 3 6.81331 3 8V11.1L1.2 9.3L0.5 10L3.5 13L6.5 10L5.8 9.3L4 11.1V8C4 7.0111 4.29324 6.0444 4.84265 5.22215C5.39206 4.39991 6.17295 3.75904 7.08658 3.38061C8.00021 3.00217 9.00555 2.90315 9.97545 3.09608C10.9454 3.289 11.8363 3.76521 12.5355 4.46447C13.2348 5.16373 13.711 6.05465 13.9039 7.02455C14.0969 7.99446 13.9978 8.99979 13.6194 9.91342C13.241 10.8271 12.6001 11.6079 11.7779 12.1574C10.9556 12.7068 9.98891 13 9 13V14Z\" fill=\"currentColor\"/></svg></a></div><iframe src=\"http://localhost:8026/headless/dataframe/my_df\" width=\"100%\" height=\"700\" style=\"border:solid 1px #ddd;box-sizing:border-box;width:calc(100% + 20px)\"></iframe>"
      ],
      "text/plain": [
       "<IPython.core.display.HTML object>"
      ]
     },
     "metadata": {},
     "output_type": "display_data"
    }
   ],
   "source": [
    "# Visualize a molecule set - from a dataframe\n",
    "\n",
    "# %openad clear sessions\n",
    "# %openad add toolkit ds4sd\n",
    "# %openad set context ds4sd\n",
    "\n",
    "my_df = %openad search for similar molecules to 'C(=C)C([O-])'\n",
    "%openad show molset using dataframe my_df"
   ]
  },
  {
   "cell_type": "code",
   "execution_count": 2,
   "id": "78d35df9-5961-486c-bc44-c26041005839",
   "metadata": {
    "tags": []
   },
   "outputs": [
    {
     "data": {
      "text/html": [
       "<style type=\"text/css\">\n",
       "</style>\n",
       "<table id=\"T_5b517\">\n",
       "  <thead>\n",
       "    <tr>\n",
       "      <th id=\"T_5b517_level0_col0\" class=\"col_heading level0 col0\" >ROMol</th>\n",
       "      <th id=\"T_5b517_level0_col1\" class=\"col_heading level0 col1\" >SMILES</th>\n",
       "      <th id=\"T_5b517_level0_col2\" class=\"col_heading level0 col2\" >id</th>\n",
       "      <th id=\"T_5b517_level0_col3\" class=\"col_heading level0 col3\" >InChIKey</th>\n",
       "      <th id=\"T_5b517_level0_col4\" class=\"col_heading level0 col4\" >InChI</th>\n",
       "    </tr>\n",
       "  </thead>\n",
       "  <tbody>\n",
       "    <tr>\n",
       "      <td id=\"T_5b517_row0_col0\" class=\"data row0 col0\" ><rdkit.Chem.rdchem.Mol object at 0x14b48fed0></td>\n",
       "      <td id=\"T_5b517_row0_col1\" class=\"data row0 col1\" >C=CCOC</td>\n",
       "      <td id=\"T_5b517_row0_col2\" class=\"data row0 col2\" >2395ee34978d96a950c877ea1590d7b73c711bcab807685cbf2e6874c0704695</td>\n",
       "      <td id=\"T_5b517_row0_col3\" class=\"data row0 col3\" >FASUFOTUSHAIHG-UHFFFAOYSA-N</td>\n",
       "      <td id=\"T_5b517_row0_col4\" class=\"data row0 col4\" >InChI=1S/C4H8O/c1-3-4-5-2/h3H,1,4H2,2H3</td>\n",
       "    </tr>\n",
       "    <tr>\n",
       "      <td id=\"T_5b517_row1_col0\" class=\"data row1 col0\" ><rdkit.Chem.rdchem.Mol object at 0x14b64cc10></td>\n",
       "      <td id=\"T_5b517_row1_col1\" class=\"data row1 col1\" >OCC=CCO</td>\n",
       "      <td id=\"T_5b517_row1_col2\" class=\"data row1 col2\" >c1b8d3e21472a0054a56103dd621710d5ff7bdf1750b2aa96059613f09228722</td>\n",
       "      <td id=\"T_5b517_row1_col3\" class=\"data row1 col3\" >ORTVZLZNOYNASJ-UHFFFAOYSA-N</td>\n",
       "      <td id=\"T_5b517_row1_col4\" class=\"data row1 col4\" >InChI=1S/C4H8O2/c5-3-1-2-4-6/h1-2,5-6H,3-4H2</td>\n",
       "    </tr>\n",
       "    <tr>\n",
       "      <td id=\"T_5b517_row2_col0\" class=\"data row2 col0\" ><rdkit.Chem.rdchem.Mol object at 0x14b64ce40></td>\n",
       "      <td id=\"T_5b517_row2_col1\" class=\"data row2 col1\" >C=CCO</td>\n",
       "      <td id=\"T_5b517_row2_col2\" class=\"data row2 col2\" >85adb08bd7eb56501c27cc486d3a0c5223ea5d13e89af5358698cc3fea73fcf4</td>\n",
       "      <td id=\"T_5b517_row2_col3\" class=\"data row2 col3\" >XXROGKLTLUQVRX-UHFFFAOYSA-N</td>\n",
       "      <td id=\"T_5b517_row2_col4\" class=\"data row2 col4\" >InChI=1S/C3H6O/c1-2-3-4/h2,4H,1,3H2</td>\n",
       "    </tr>\n",
       "    <tr>\n",
       "      <td id=\"T_5b517_row3_col0\" class=\"data row3 col0\" ><rdkit.Chem.rdchem.Mol object at 0x14b64ceb0></td>\n",
       "      <td id=\"T_5b517_row3_col1\" class=\"data row3 col1\" >C=C=CCO</td>\n",
       "      <td id=\"T_5b517_row3_col2\" class=\"data row3 col2\" >a2811f5500c06a1239a06ca5179b2a2d671285ccb3c6782a825f4532ae31adba</td>\n",
       "      <td id=\"T_5b517_row3_col3\" class=\"data row3 col3\" >JXKCVRNKAPHWJG-UHFFFAOYSA-N</td>\n",
       "      <td id=\"T_5b517_row3_col4\" class=\"data row3 col4\" >InChI=1S/C4H6O/c1-2-3-4-5/h3,5H,1,4H2</td>\n",
       "    </tr>\n",
       "    <tr>\n",
       "      <td id=\"T_5b517_row4_col0\" class=\"data row4 col0\" ><rdkit.Chem.rdchem.Mol object at 0x14b64cf20></td>\n",
       "      <td id=\"T_5b517_row4_col1\" class=\"data row4 col1\" >OC=CCO</td>\n",
       "      <td id=\"T_5b517_row4_col2\" class=\"data row4 col2\" >d0f880370e7bf0b2de6f5a8d1d5141135c56ad14274bd86e03a03380fcda9fd5</td>\n",
       "      <td id=\"T_5b517_row4_col3\" class=\"data row4 col3\" >MTTKOBXFUGIESR-UHFFFAOYSA-N</td>\n",
       "      <td id=\"T_5b517_row4_col4\" class=\"data row4 col4\" >InChI=1S/C3H6O2/c4-2-1-3-5/h1-2,4-5H,3H2</td>\n",
       "    </tr>\n",
       "    <tr>\n",
       "      <td id=\"T_5b517_row5_col0\" class=\"data row5 col0\" ><rdkit.Chem.rdchem.Mol object at 0x14b64cf90></td>\n",
       "      <td id=\"T_5b517_row5_col1\" class=\"data row5 col1\" >C=CC[O-]</td>\n",
       "      <td id=\"T_5b517_row5_col2\" class=\"data row5 col2\" >8cfb0013b5615b131273b6e9308a58eb6f1cd1b2b2e80c9b1968c5402c61bd01</td>\n",
       "      <td id=\"T_5b517_row5_col3\" class=\"data row5 col3\" >YKIDUUVWSDFROA-UHFFFAOYSA-N</td>\n",
       "      <td id=\"T_5b517_row5_col4\" class=\"data row5 col4\" >InChI=1S/C3H5O/c1-2-3-4/h2H,1,3H2/q-1</td>\n",
       "    </tr>\n",
       "    <tr>\n",
       "      <td id=\"T_5b517_row6_col0\" class=\"data row6 col0\" ><rdkit.Chem.rdchem.Mol object at 0x14b64d000></td>\n",
       "      <td id=\"T_5b517_row6_col1\" class=\"data row6 col1\" >NC=CCO</td>\n",
       "      <td id=\"T_5b517_row6_col2\" class=\"data row6 col2\" >a81ec25ec44bdb281d97a2a6a46d0e4451a8ed095613b47f1fa3646fe8d15fe1</td>\n",
       "      <td id=\"T_5b517_row6_col3\" class=\"data row6 col3\" >YLSRJDYISLSJLI-UHFFFAOYSA-N</td>\n",
       "      <td id=\"T_5b517_row6_col4\" class=\"data row6 col4\" >InChI=1S/C3H7NO/c4-2-1-3-5/h1-2,5H,3-4H2</td>\n",
       "    </tr>\n",
       "    <tr>\n",
       "      <td id=\"T_5b517_row7_col0\" class=\"data row7 col0\" ><rdkit.Chem.rdchem.Mol object at 0x14b64d070></td>\n",
       "      <td id=\"T_5b517_row7_col1\" class=\"data row7 col1\" >[O-]CC=CCO</td>\n",
       "      <td id=\"T_5b517_row7_col2\" class=\"data row7 col2\" >9d4d9fa4d68ba5176798b69472353f745f176b4b3948c271aca7156d87cf5d85</td>\n",
       "      <td id=\"T_5b517_row7_col3\" class=\"data row7 col3\" >WQDBVIWWJDGJHW-UHFFFAOYSA-N</td>\n",
       "      <td id=\"T_5b517_row7_col4\" class=\"data row7 col4\" >InChI=1S/C4H7O2/c5-3-1-2-4-6/h1-2,5H,3-4H2/q-1</td>\n",
       "    </tr>\n",
       "    <tr>\n",
       "      <td id=\"T_5b517_row8_col0\" class=\"data row8 col0\" ><rdkit.Chem.rdchem.Mol object at 0x14b64d0e0></td>\n",
       "      <td id=\"T_5b517_row8_col1\" class=\"data row8 col1\" >C=CC(O)O</td>\n",
       "      <td id=\"T_5b517_row8_col2\" class=\"data row8 col2\" >5493b38ebcd501c007b783686006ed41ecf252a3428297ee95d64990917a11f7</td>\n",
       "      <td id=\"T_5b517_row8_col3\" class=\"data row8 col3\" >GXZLBUYKJFLNLF-UHFFFAOYSA-N</td>\n",
       "      <td id=\"T_5b517_row8_col4\" class=\"data row8 col4\" >InChI=1S/C3H6O2/c1-2-3(4)5/h2-5H,1H2</td>\n",
       "    </tr>\n",
       "    <tr>\n",
       "      <td id=\"T_5b517_row9_col0\" class=\"data row9 col0\" ><rdkit.Chem.rdchem.Mol object at 0x14b64d150></td>\n",
       "      <td id=\"T_5b517_row9_col1\" class=\"data row9 col1\" >CC=CCO</td>\n",
       "      <td id=\"T_5b517_row9_col2\" class=\"data row9 col2\" >93d61bac36827bc3359878d41560944b15ec2a49e65477b2a176ed4c502acb04</td>\n",
       "      <td id=\"T_5b517_row9_col3\" class=\"data row9 col3\" >WCASXYBKJHWFMY-UHFFFAOYSA-N</td>\n",
       "      <td id=\"T_5b517_row9_col4\" class=\"data row9 col4\" >InChI=1S/C4H8O/c1-2-3-4-5/h2-3,5H,4H2,1H3</td>\n",
       "    </tr>\n",
       "  </tbody>\n",
       "</table>\n"
      ],
      "text/plain": [
       "<pandas.io.formats.style.Styler at 0x14b65f710>"
      ]
     },
     "execution_count": 2,
     "metadata": {},
     "output_type": "execute_result"
    }
   ],
   "source": [
    "my_df"
   ]
  },
  {
   "cell_type": "markdown",
   "id": "67dae3b8-d2c9-443f-820c-e90a8c82613a",
   "metadata": {},
   "source": [
    "<br>\n",
    "\n",
    "### 4. Data Viewer\n",
    "\n",
    "The data viewer lets you review, sort and triage data from a CSV file or a dataframe.\n",
    "\n",
    "<span style=\"color: #d00\">The data viewer is not yet ported into the new GUI. It still uses the deprecated Flask app architecture.</span>"
   ]
  },
  {
   "cell_type": "code",
   "execution_count": null,
   "id": "390dc1a2-21e1-489a-bdaf-e0e82590c6a5",
   "metadata": {
    "tags": []
   },
   "outputs": [],
   "source": [
    "%openad display data 'demo/my-data.csv'"
   ]
  },
  {
   "cell_type": "code",
   "execution_count": null,
   "id": "8a7a692a-1b37-4836-89f5-e070541b3fed",
   "metadata": {
    "tags": []
   },
   "outputs": [],
   "source": [
    "%openad result open"
   ]
  },
  {
   "cell_type": "code",
   "execution_count": null,
   "id": "4434cab6-827d-45ff-8a33-a3cc5159e7a3",
   "metadata": {
    "tags": []
   },
   "outputs": [],
   "source": [
    "%openad result display"
   ]
  },
  {
   "cell_type": "code",
   "execution_count": null,
   "id": "25c3ad7c-11a2-497c-9759-9b08e5e8f910",
   "metadata": {
    "tags": []
   },
   "outputs": [],
   "source": [
    "%openad result save as 'demo/manipulated-data.csv'"
   ]
  },
  {
   "cell_type": "code",
   "execution_count": null,
   "id": "5aedb3d9-4a15-49f6-8423-f7bba7310c8f",
   "metadata": {
    "tags": []
   },
   "outputs": [],
   "source": [
    "%openad launch gui"
   ]
  },
  {
   "cell_type": "markdown",
   "id": "96a6a492-126b-42d1-acf1-735dcbf1081d",
   "metadata": {
    "tags": []
   },
   "source": [
    "<br>\n",
    "\n",
    "### 5. \"My Molecules\" Working Set\n",
    "\n",
    "Your working set of molecules(*) is a molset that lives in memory and is meant as a bucket for gathering candidates from various processesses and sources, before storing them into a new file and processing them further.\n",
    "\n",
    "\\(*) Currently the working set is called \"mymols\", but this name may change.\n",
    "\n",
    "\n",
    "<span style=\"color: #d00\">Note: loading and merging molecule sets is still using a different architecture which is not compatible with the GUI.</span>"
   ]
  },
  {
   "cell_type": "code",
   "execution_count": null,
   "id": "12fc5909-8f40-4333-961b-83b4827f656b",
   "metadata": {
    "tags": []
   },
   "outputs": [],
   "source": [
    "# Add individual molecules by name\n",
    "%openad add molecule dopamine\n",
    "%openad add molecule serotonin\n",
    "%openad add molecule glutamate"
   ]
  },
  {
   "cell_type": "code",
   "execution_count": null,
   "id": "ba474fe2-b702-40c1-ad76-9ba5a1fae96e",
   "metadata": {
    "tags": []
   },
   "outputs": [],
   "source": [
    "# Add molecules from a molset\n",
    "%openad show molset 'demo/my-mols.molset.json'"
   ]
  },
  {
   "cell_type": "code",
   "execution_count": null,
   "id": "7dc19646-0d6d-445c-b3fa-bda02d6d646a",
   "metadata": {
    "tags": []
   },
   "outputs": [],
   "source": [
    "# Add molecule sets - NOT YET INTEGRATED WITH GUI\n",
    "# %openad load molecule-set 'file_types/molset---neurotransmitters.molset.json'"
   ]
  },
  {
   "cell_type": "code",
   "execution_count": null,
   "id": "2bc05106-0774-4a88-baa3-46c7f352329c",
   "metadata": {
    "tags": []
   },
   "outputs": [],
   "source": [
    "%openad show mols"
   ]
  },
  {
   "cell_type": "markdown",
   "id": "a06c43d9-3a18-4263-b5cb-05fc4ec51abf",
   "metadata": {},
   "source": [
    "<br>\n",
    "\n",
    "### 6. Results\n",
    "\n",
    "Whenever data is displayed in the CLI or a Notebook using `output_table()`, the data is stored in memory so it can be used for follow up commands like `result open`, `result edit`, `result copy` etc.\n",
    "\n",
    "The result dataset stored in memory can also be viewed and manipulated in the GUI, either through the molecule viewer or the data viewer (yet to be implemented)."
   ]
  },
  {
   "cell_type": "code",
   "execution_count": null,
   "id": "df973191-b513-4e64-9142-c55d5416b272",
   "metadata": {
    "tags": []
   },
   "outputs": [],
   "source": [
    "%openad display data 'demo/my-mols.csv'"
   ]
  },
  {
   "cell_type": "code",
   "execution_count": null,
   "id": "ad903ad3-a929-4ab1-83f6-e95f7e13aae5",
   "metadata": {
    "tags": []
   },
   "outputs": [],
   "source": [
    "%openad result open"
   ]
  }
 ],
 "metadata": {
  "kernelspec": {
   "display_name": "venv",
   "language": "python",
   "name": "venv"
  },
  "language_info": {
   "codemirror_mode": {
    "name": "ipython",
    "version": 3
   },
   "file_extension": ".py",
   "mimetype": "text/x-python",
   "name": "python",
   "nbconvert_exporter": "python",
   "pygments_lexer": "ipython3",
   "version": "3.11.2"
  }
 },
 "nbformat": 4,
 "nbformat_minor": 5
}
