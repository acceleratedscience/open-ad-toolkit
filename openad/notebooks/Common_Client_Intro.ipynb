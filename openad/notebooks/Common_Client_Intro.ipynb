{
 "cells": [
  {
   "cell_type": "code",
   "execution_count": null,
   "id": "6b8a0da0-f81c-4872-8ac0-081189c73d35",
   "metadata": {
    "jupyter": {
     "source_hidden": true
    },
    "tags": []
   },
   "outputs": [],
   "source": [
    "import sys\n",
    "sys.path.append('./styles')\n",
    "from init_style import init\n",
    "init()"
   ]
  },
  {
   "cell_type": "markdown",
   "id": "d0ba370f-8c65-491c-a3f5-f4b76835bf77",
   "metadata": {
    "tags": []
   },
   "source": [
    "<div class=\"banner\"><div>Open Accelerated Discovery</div><b>OpenAD <span>Introduction</span></b></div>"
   ]
  },
  {
   "cell_type": "markdown",
   "id": "c4e36703-47ad-4458-8e96-ff690d2e1db2",
   "metadata": {
    "jp-MarkdownHeadingCollapsed": true,
    "tags": []
   },
   "source": [
    "### Table of Contents\n",
    "\n",
    "- [Getting Started](#Getting-Started)\n",
    "- [Magic Commands](#Magic-Commands)\n",
    "- [Workspaces](#Workspaces)\n",
    "- [Plugins](#Plugins)\n",
    "- [Runs](#Runs)\n",
    "- [Managing files](#Managing-Files)\n",
    "- [Working with Molecules](#Working-with-Molecules)"
   ]
  },
  {
   "cell_type": "markdown",
   "id": "4d847a42-5561-4540-828b-9f752110cca1",
   "metadata": {
    "jp-MarkdownHeadingCollapsed": true,
    "tags": []
   },
   "source": [
    "### Getting Started\n",
    "If you're a first-time user, it's recommended to read the OpenAD introduction, which explains a number of key concepts."
   ]
  },
  {
   "cell_type": "code",
   "execution_count": null,
   "id": "2e80d478-bcda-4642-92af-40c90fc3e648",
   "metadata": {
    "tags": []
   },
   "outputs": [],
   "source": [
    "%openad intro"
   ]
  },
  {
   "cell_type": "markdown",
   "id": "3847d227-481d-4729-b0e8-9a2f9524a3ae",
   "metadata": {
    "tags": []
   },
   "source": [
    "#### Online Documentation\n",
    "This opens the OpenAD documentation website:<br><a href=\"https://acceleratedscience.github.io/openad-docs/\">acceleratedscience.github.io/openad-docs</a>\n",
    "\n",
    "    docs"
   ]
  },
  {
   "cell_type": "code",
   "execution_count": null,
   "id": "d23e8ad1-d1c5-414e-9df2-817f29213ce7",
   "metadata": {
    "tags": []
   },
   "outputs": [],
   "source": [
    "%openad docs"
   ]
  },
  {
   "cell_type": "markdown",
   "id": "fbb2ecea-204e-41ba-817b-b0f7f435bb41",
   "metadata": {},
   "source": [
    "#### List available commands\n",
    "This lists all available commands by category.\n",
    "\n",
    "    ?"
   ]
  },
  {
   "cell_type": "code",
   "execution_count": null,
   "id": "10b1c305",
   "metadata": {
    "tags": []
   },
   "outputs": [],
   "source": [
    "%openad ?"
   ]
  },
  {
   "cell_type": "markdown",
   "id": "fdd6c4b9",
   "metadata": {},
   "source": [
    "#### List commands starting with ...\n",
    "This lists all commands _starting_ with a certain string.\n",
    "\n",
    "    <string> ?"
   ]
  },
  {
   "cell_type": "code",
   "execution_count": null,
   "id": "7541c085",
   "metadata": {
    "tags": []
   },
   "outputs": [],
   "source": [
    "%openad list ?"
   ]
  },
  {
   "cell_type": "markdown",
   "id": "4d5c991f-97d4-4fa1-a384-ca687716ab3d",
   "metadata": {
    "tags": []
   },
   "source": [
    "#### List commands containing ...\n",
    "This lists all commands _containing_ a certain string.\n",
    "\n",
    "    ? <string>"
   ]
  },
  {
   "cell_type": "code",
   "execution_count": null,
   "id": "3494c788",
   "metadata": {
    "tags": []
   },
   "outputs": [],
   "source": [
    "%openad ? list"
   ]
  },
  {
   "cell_type": "markdown",
   "id": "ef1d600a-4316-4aed-9251-75c18041d1a7",
   "metadata": {},
   "source": [
    "#### Individual command documentation\n",
    "To see the documentation of a single command, append a questionmark to the unique beginning of the command so that only one result is returned.\n",
    "\n",
    "    <unique_beginning> ?"
   ]
  },
  {
   "cell_type": "code",
   "execution_count": null,
   "id": "35ce4625-bf49-4bcc-b206-25879cad4f54",
   "metadata": {
    "tags": []
   },
   "outputs": [],
   "source": [
    "# Bad: this returns more than one command.\n",
    "# %openad list molecule ?\n",
    "\n",
    "# Good: this returns only one command.\n",
    "%openad list molecule ?"
   ]
  },
  {
   "cell_type": "markdown",
   "id": "e5f0fe06-7d2d-4d31-bf07-d978db467db7",
   "metadata": {
    "jp-MarkdownHeadingCollapsed": true,
    "tags": []
   },
   "source": [
    "## Magic Commands\n",
    "\n",
    "Magic commands are special commands that provide additional functionality beyond standard Python syntax. They begin with the `%` character."
   ]
  },
  {
   "cell_type": "markdown",
   "id": "e919a0fd-afb0-4fd2-b5b6-347d657b20ea",
   "metadata": {
    "tags": []
   },
   "source": [
    "### Activating Magic Commands\n",
    "\n",
    "Per our [installation instructions](https://github.com/acceleratedscience/open-ad-toolkit), running `init_magic` from the CLI should have activated Magic Commands across all Notebooks.\n",
    "\n",
    "If Magic Commands were not previously activated, you can activate them in an individual file by running the `openad_magic.ipynb` Notebook."
   ]
  },
  {
   "cell_type": "code",
   "execution_count": null,
   "id": "1a1e2958",
   "metadata": {
    "scrolled": true,
    "tags": []
   },
   "outputs": [],
   "source": [
    "# Not required if you ran `init_magic` before.\n",
    "%run openad_magic.ipynb"
   ]
  },
  {
   "cell_type": "markdown",
   "id": "9c3cb184-7781-4b42-833b-eaa8aec0cd02",
   "metadata": {
    "tags": []
   },
   "source": [
    "### Working with Magic Commands\n",
    "\n",
    "#### Default vs. Data mode\n",
    "When using Magic Commands to access OpenAD, you have two modes:"
   ]
  },
  {
   "cell_type": "markdown",
   "id": "e6e0f271-c5ee-457e-88d0-70665201d70d",
   "metadata": {
    "jp-MarkdownHeadingCollapsed": true
   },
   "source": [
    "1. **Default mode:** `%openad`<br>\n",
    "This is the recommended mode, which will display your data and warnings visually in your Notebook.<br>\n",
    "Whenever displaying data, follow-up commands are displayed that allow you to further process the data, eg. `result open`, `result edit`, `result copy`<br><br>\n",
    "Example usage:\n",
    "    \n",
    "        %openad display data 'sample.csv'\n",
    "\n",
    "\n",
    "<br>\n",
    "\n",
    "2. **Data mode:** `%openadd`<br>\n",
    "This mode skips visualisation and returns your results in a dataframe or list format that can then be used programatically in functions or flows in your Notebook. This is useful for prebuilt Notebook process flows.<br><br>\n",
    "Example usage:\n",
    "\n",
    "        my_data = %openadd display data 'sample.csv'\n",
    "\n",
    "    This is essentially shorthand for:\n",
    "    \n",
    "        %openad display data 'sample.csv'\n",
    "        my_data = %openad result as dataframe\n",
    "\n",
    "#### Using variables\n",
    "Magic commands can access variables from your Notebook, using the `{variable_name}` syntax.\n",
    "\n",
    "    external_file = '~/openad_notebooks/examples/base_molecules.csv'\n",
    "    new_filename = '<imported_data.csv>'\n",
    "    import from '{molecules_file}' to '{new_filename}'"
   ]
  },
  {
   "cell_type": "markdown",
   "id": "9fcff181",
   "metadata": {
    "tags": []
   },
   "source": [
    "### Command History\n",
    "\n",
    "Your command history is tied to your workspace and will record executions from both the CLI and your Notebooks."
   ]
  },
  {
   "cell_type": "markdown",
   "id": "243bf75a-03ca-4b01-a3fe-a246ef9ef0ab",
   "metadata": {},
   "source": [
    "#### Displaying your command history\n",
    "\n",
    "    display history"
   ]
  },
  {
   "cell_type": "code",
   "execution_count": null,
   "id": "1023ccdf",
   "metadata": {
    "tags": []
   },
   "outputs": [],
   "source": [
    "%openad display history"
   ]
  },
  {
   "cell_type": "markdown",
   "id": "2b50c5a2-a393-4592-98a0-c0d7a283b76a",
   "metadata": {
    "jp-MarkdownHeadingCollapsed": true,
    "tags": []
   },
   "source": [
    "## Workspaces\n",
    "\n",
    "Your workspace represents an isolated environment where your molecules, molecule sets and other files related to your research are stored. OpenAD comes loaded with a default workspace called `default`."
   ]
  },
  {
   "cell_type": "markdown",
   "id": "dc30aac9-588c-430e-8f11-0eb0b544d73b",
   "metadata": {
    "tags": []
   },
   "source": [
    "#### Creating a new workspace\n",
    "Unless a custom path is set, a corresponding directory is created under <span class=\"path\">~/.openad/workspaces/</span>.\n",
    "\n",
    "    create workspace <workspace_name> [ description('<description>') on path '<path>' ]"
   ]
  },
  {
   "cell_type": "code",
   "execution_count": null,
   "id": "6973df02",
   "metadata": {
    "tags": []
   },
   "outputs": [],
   "source": [
    "# %openad clear sessions\n",
    "%openad create workspace foobar"
   ]
  },
  {
   "cell_type": "markdown",
   "id": "21dd6095-b5b5-4201-830f-73ba2d764414",
   "metadata": {},
   "source": [
    "#### Listing workspaces\n",
    "\n",
    "    list workspaces"
   ]
  },
  {
   "cell_type": "code",
   "execution_count": null,
   "id": "f3ef7c39-d1d7-4231-9d17-8e07f8e0b5be",
   "metadata": {
    "tags": []
   },
   "outputs": [],
   "source": [
    "%openad list workspaces"
   ]
  },
  {
   "cell_type": "markdown",
   "id": "1d2a235a-70a9-4604-a3c2-f8e4d315a3a2",
   "metadata": {
    "tags": []
   },
   "source": [
    "#### Current workspace info\n",
    "\n",
    "    get workspace"
   ]
  },
  {
   "cell_type": "code",
   "execution_count": null,
   "id": "06a155ec",
   "metadata": {
    "scrolled": true,
    "tags": []
   },
   "outputs": [],
   "source": [
    "%openad get workspace"
   ]
  },
  {
   "cell_type": "markdown",
   "id": "e429673c-08bf-404f-9387-eb7e0e8c8e6a",
   "metadata": {
    "tags": []
   },
   "source": [
    "#### Switching workspaces\n",
    "\n",
    "    set workspace <workspace_name>"
   ]
  },
  {
   "cell_type": "code",
   "execution_count": null,
   "id": "e47d4dbf",
   "metadata": {
    "tags": []
   },
   "outputs": [],
   "source": [
    "%openad set workspace default"
   ]
  },
  {
   "cell_type": "markdown",
   "id": "0e40d0a6-fef4-4745-ad44-239a4adce8d1",
   "metadata": {
    "tags": []
   },
   "source": [
    "#### Removing a workspace"
   ]
  },
  {
   "cell_type": "markdown",
   "id": "fc2926b0-d240-4a9f-a787-8bfaacbe7486",
   "metadata": {},
   "source": [
    "A workspace's directory and its files are never removed. This is intentional to avoid accidental data loss. If you recreate the workspace on the same path, it will simply inherit the files and command history from the removed workspace.\n",
    "\n",
    "If you wish to permanently delete all files and settings associated with a workspace, you can delete the workspace folder under <span class=\"path\">~/.openad/workspaces/</span> after running the `remove workspace` command.\n",
    "\n",
    "    remove workspace <workspace_name>"
   ]
  },
  {
   "cell_type": "code",
   "execution_count": null,
   "id": "fa2a2126-7b10-4bb0-92d1-c71cc5a9c779",
   "metadata": {
    "tags": []
   },
   "outputs": [],
   "source": [
    "%openad remove workspace foobar"
   ]
  },
  {
   "cell_type": "markdown",
   "id": "ffeeaea5-659d-46a0-bbb1-46196397b286",
   "metadata": {
    "jp-MarkdownHeadingCollapsed": true,
    "tags": []
   },
   "source": [
    "## Plugins\n",
    "\n",
    "Plugins are tools that are made available to the OpenAD client. Plugins are currently referred to as \"toolkits\" by the commands, however this language will be updated soon."
   ]
  },
  {
   "cell_type": "markdown",
   "id": "f31d1744-9576-4f81-941f-fa255fcd9b8b",
   "metadata": {
    "tags": []
   },
   "source": [
    "#### Installing a plugin\n",
    "\n",
    "When installing a plugin, the context will automatically be set to this plugin.\n",
    "\n",
    "    add toolkit <plugin_name>"
   ]
  },
  {
   "cell_type": "markdown",
   "id": "ca0a5aa8-3e17-4129-be41-cc9f5db57219",
   "metadata": {},
   "source": [
    "#### Listing installed plugins\n",
    "\n",
    "    list toolkits"
   ]
  },
  {
   "cell_type": "code",
   "execution_count": null,
   "id": "78f6068e-8c91-4213-b43b-9f7c7af7d958",
   "metadata": {
    "tags": []
   },
   "outputs": [],
   "source": [
    "%openad list toolkits"
   ]
  },
  {
   "cell_type": "markdown",
   "id": "9b4df5b9-451b-49ee-97a3-e7ab49d9bc04",
   "metadata": {},
   "source": [
    "#### Listing all available plugins\n",
    "\n",
    "    list all toolkits"
   ]
  },
  {
   "cell_type": "code",
   "execution_count": null,
   "id": "795d31ad-bfc7-4a0c-80a4-17cef108a5af",
   "metadata": {
    "tags": []
   },
   "outputs": [],
   "source": [
    "%openad list all toolkits"
   ]
  },
  {
   "cell_type": "markdown",
   "id": "fda9def7-d481-447a-817b-941766f0f40e",
   "metadata": {
    "tags": []
   },
   "source": [
    "#### Setting the context\n",
    "\n",
    "To switch to the functionality of a different plugin, you need to set the context to that plugin. If this is the first time the plugin is activated in the current session, the client will log onto the desitination system.\n",
    "\n",
    "    set context <plugin_name>"
   ]
  },
  {
   "cell_type": "code",
   "execution_count": null,
   "id": "de0129c4",
   "metadata": {
    "tags": []
   },
   "outputs": [],
   "source": [
    "%openad set context ds4sd"
   ]
  },
  {
   "cell_type": "markdown",
   "id": "b23f2966-ac2e-43aa-a2f8-ce9ee8e8c2c8",
   "metadata": {},
   "source": [
    "#### Unsetting the context\n",
    "\n",
    "When your context is set to a certain plugin, all plugin related commands will be displayed under help. This can be undesirable when you're not actively using the plugin, in which case you can unset the context.\n",
    "\n",
    "    unset context"
   ]
  },
  {
   "cell_type": "code",
   "execution_count": null,
   "id": "7c67d2cc-0d71-4479-b079-8f6e318e4b7f",
   "metadata": {
    "tags": []
   },
   "outputs": [],
   "source": [
    "%openad unset context"
   ]
  },
  {
   "cell_type": "markdown",
   "id": "22618561",
   "metadata": {
    "jp-MarkdownHeadingCollapsed": true,
    "tags": []
   },
   "source": [
    "## Runs\n",
    "A run is a recorded chain of commands that can be reused to automate certain workflows."
   ]
  },
  {
   "cell_type": "markdown",
   "id": "e781c053-11de-45d3-83c2-a2ab7ea4bb2c",
   "metadata": {},
   "source": [
    "#### Creating a run\n",
    "A run is created by recording your chain of commands. It is then saved to a <span class=\"path\">.run</span> file in your workspace directory.\n",
    "\n",
    "    create run\n",
    "\n",
    "    <run>\n",
    "    <series>\n",
    "    <of>\n",
    "    <commands>\n",
    "\n",
    "    save run as <run_name>"
   ]
  },
  {
   "cell_type": "code",
   "execution_count": null,
   "id": "1b86bd2a-5c39-42b9-81cc-eee3a3d51e90",
   "metadata": {
    "tags": []
   },
   "outputs": [],
   "source": [
    "# Start recording.\n",
    "%openad create run"
   ]
  },
  {
   "cell_type": "code",
   "execution_count": null,
   "id": "8235a2c0-ab36-49f1-a251-6d8ef012c56a",
   "metadata": {
    "tags": []
   },
   "outputs": [],
   "source": [
    "# Run any number of commands to be recorded.\n",
    "%openad list files\n",
    "%openad display history"
   ]
  },
  {
   "cell_type": "code",
   "execution_count": null,
   "id": "a6630d3d-b9f4-4608-9f03-e279625f987e",
   "metadata": {
    "tags": []
   },
   "outputs": [],
   "source": [
    "# Store the chain as a run.\n",
    "%openad save run as foobar"
   ]
  },
  {
   "cell_type": "markdown",
   "id": "17efa2fd-45df-4b89-9b36-ebba10c315cf",
   "metadata": {},
   "source": [
    "#### Listing all runs\n",
    "\n",
    "    list runs"
   ]
  },
  {
   "cell_type": "code",
   "execution_count": null,
   "id": "4946c6f2",
   "metadata": {
    "scrolled": true,
    "tags": []
   },
   "outputs": [],
   "source": [
    "%openad list runs"
   ]
  },
  {
   "cell_type": "markdown",
   "id": "7681ebc3-a1c7-4957-871a-9b7dc4ed8ffe",
   "metadata": {},
   "source": [
    "#### Displaying a run\n",
    "This lets you review the chain of commands stored in a run.\n",
    "\n",
    "\n",
    "    display run <run_name>"
   ]
  },
  {
   "cell_type": "code",
   "execution_count": null,
   "id": "ffde19a5-f08b-43c5-abdf-a4e5e9a27313",
   "metadata": {
    "tags": []
   },
   "outputs": [],
   "source": [
    "%openad display run foobar"
   ]
  },
  {
   "cell_type": "markdown",
   "id": "f20ee844-7eea-42a3-850b-d63f24446ca7",
   "metadata": {},
   "source": [
    "#### Executing a Run\n",
    "\n",
    "    run <run_name>"
   ]
  },
  {
   "cell_type": "code",
   "execution_count": null,
   "id": "a1bc7b99",
   "metadata": {
    "tags": []
   },
   "outputs": [],
   "source": [
    "%openad run foobar"
   ]
  },
  {
   "cell_type": "markdown",
   "id": "3054fbb6-a9fb-4da7-9830-e71ea585288b",
   "metadata": {},
   "source": [
    "#### Removing a Run\n",
    "\n",
    "    remove run <run_name>"
   ]
  },
  {
   "cell_type": "code",
   "execution_count": null,
   "id": "4a02c9f5-7943-4db2-9af8-d6bcef900978",
   "metadata": {
    "tags": []
   },
   "outputs": [],
   "source": [
    "%openad remove run foobar"
   ]
  },
  {
   "cell_type": "markdown",
   "id": "20c79373-3b87-425e-8a96-f848e74a53e6",
   "metadata": {
    "jp-MarkdownHeadingCollapsed": true,
    "tags": []
   },
   "source": [
    "## Managing Files\n",
    "\n",
    "You can easily import and export files into and from your workspace, as well as move them between workspaces."
   ]
  },
  {
   "cell_type": "markdown",
   "id": "3b5894e5-1cd8-49ae-835b-c16c1a1dc5f9",
   "metadata": {},
   "source": [
    "#### Importing files into your workspace\n",
    "\n",
    "    import from '<external_source_file>' to '<workspace_file>'"
   ]
  },
  {
   "cell_type": "code",
   "execution_count": null,
   "id": "9675ddb5-33b2-4e5d-973c-0adc272acff5",
   "metadata": {
    "tags": []
   },
   "outputs": [],
   "source": [
    "%openad import from '~/openad_notebooks/examples/base_molecules.csv' to 'imported_molecules.csv'"
   ]
  },
  {
   "cell_type": "code",
   "execution_count": null,
   "id": "102bb752-55e3-4a11-9146-0df46db45a86",
   "metadata": {
    "tags": []
   },
   "outputs": [],
   "source": [
    "# Confirm that the file has been copied.\n",
    "%openad list files"
   ]
  },
  {
   "cell_type": "markdown",
   "id": "e4d4d7dd-50b5-4e3d-b6d0-5edb297b3074",
   "metadata": {},
   "source": [
    "#### Exporting files from your workspace\n",
    "\n",
    "    export from '<workspace_file>' to '<external_file>'"
   ]
  },
  {
   "cell_type": "code",
   "execution_count": null,
   "id": "3f4c2ac8-0e81-4452-a9a8-714e0a4136cd",
   "metadata": {
    "tags": []
   },
   "outputs": [],
   "source": [
    "%openad export from 'imported_molecules.csv' to '~/exported_molecules.csv'"
   ]
  },
  {
   "cell_type": "markdown",
   "id": "eb737a0c-1b59-415e-b0f4-a2e64900f04b",
   "metadata": {
    "tags": []
   },
   "source": [
    "#### Copying files between workspaces\n",
    "\n",
    "    copy file '<workspace_file>' to '<other_workspace_name>'\n",
    "    \n",
    "You may need to [create a workspace](#Creating-a-new-workspace) called \"foobar\" for this example to work."
   ]
  },
  {
   "cell_type": "code",
   "execution_count": null,
   "id": "39748577-c7f1-4f43-a08c-755766d0b4dd",
   "metadata": {
    "tags": []
   },
   "outputs": [],
   "source": [
    "# %openad clear sessions\n",
    "# %openad create workspace foobar\n",
    "# %openad set workspace default\n",
    "%openad copy file 'imported_molecules.csv' to 'foobar'"
   ]
  },
  {
   "cell_type": "markdown",
   "id": "53f2df31-cd75-4887-b600-8ba40980c771",
   "metadata": {
    "jp-MarkdownHeadingCollapsed": true,
    "tags": []
   },
   "source": [
    "## Working with Molecules\n",
    "OpenAD makes it easy to manage and visualize molecules and molecule sets."
   ]
  },
  {
   "cell_type": "markdown",
   "id": "16267f11-0b0e-482d-a4db-7ddbca928a82",
   "metadata": {
    "tags": []
   },
   "source": [
    "### Visualizing molecules\n",
    "The OpenAD GUI lets you visualize individual molecules as well as molecule sets. When launched from the CLI, this will open your web browser, while Jupyter Notebook will open the GUI inside an iframe with the option to open it in a separate tab."
   ]
  },
  {
   "cell_type": "markdown",
   "id": "de90a261-d7e2-452f-b13a-94029020c8c5",
   "metadata": {
    "tags": []
   },
   "source": [
    "#### Individual molecule\n",
    "\n",
    "    show molecule|mol <name> | <smiles> | <inchi> | <inchikey> | <cid>"
   ]
  },
  {
   "cell_type": "code",
   "execution_count": null,
   "id": "ff83af13-2666-41e2-9591-680117931c9d",
   "metadata": {
    "tags": []
   },
   "outputs": [],
   "source": [
    "%openad show mol dopamine"
   ]
  },
  {
   "cell_type": "markdown",
   "id": "46b6a0cd-22a4-4303-98ff-c0897f81856b",
   "metadata": {},
   "source": [
    "#### Molecule set\n",
    "\n",
    "    show molset|molecule-set '<molset_or_sdf_or_smi_path>' | using dataframe <dataframe>"
   ]
  },
  {
   "cell_type": "code",
   "execution_count": null,
   "id": "3712116b-6725-4f11-9ae7-0ce74d6ea9ba",
   "metadata": {
    "tags": []
   },
   "outputs": [],
   "source": [
    "%openad import from '~/openad_notebooks/examples/base_molecules.sdf' to 'base_molecules.sdf'\n",
    "%openad show molset 'base_molecules.sdf'"
   ]
  },
  {
   "cell_type": "markdown",
   "id": "ff2477bb-78fd-4442-a983-a1018d37d40d",
   "metadata": {
    "tags": []
   },
   "source": [
    "### Molecule Working Set\n",
    "Your working set is an in-memory list of molecules which is meant as a scrap book where you can add, remove and enrich molecules before saving them into a permanent file."
   ]
  },
  {
   "cell_type": "markdown",
   "id": "e0bcaf02-cd77-4c95-8132-de7cc8d1c266",
   "metadata": {},
   "source": [
    "#### Adding a molecule\n",
    "\n",
    "    add molecule|mol <name> | <smiles> | <inchi> | <inchikey> | <cid> [ as '<name>' ] [ basic ] [ force ]"
   ]
  },
  {
   "cell_type": "code",
   "execution_count": null,
   "id": "48abb284-81b5-4694-b0f8-12d7ecaf7c98",
   "metadata": {
    "tags": []
   },
   "outputs": [],
   "source": [
    "%openad add mol dopamine\n",
    "%openad add mol C1=CC2=C(C=C1O)C(=CN2)CCN force"
   ]
  },
  {
   "cell_type": "markdown",
   "id": "cd1631ed-da00-417a-9395-c34d47145e11",
   "metadata": {
    "tags": []
   },
   "source": [
    "#### Removing a molecule\n",
    "    \n",
    "    remove molecule|mol <name> | <smiles> | <inchi> | <inchikey> | <cid> [ force ]"
   ]
  },
  {
   "cell_type": "code",
   "execution_count": null,
   "id": "0d02d350-4240-4911-814e-052c104e1408",
   "metadata": {
    "tags": []
   },
   "outputs": [],
   "source": [
    "%openad remove mol dopamine\n",
    "%openad remove mol C1=CC2=C(C=C1O)C(=CN2)CCN"
   ]
  },
  {
   "cell_type": "markdown",
   "id": "1d40f632-9d16-417a-bc1c-c3c7ada40cab",
   "metadata": {},
   "source": [
    "#### Adding a molecule set\n",
    "You can load a set of molecules from a file or a dataframe.\n",
    "\n",
    "<div class=\"alert alert-block alert-danger\">Note that unless `append` is added, this will overwrite whatever is in your current working set.</div>\n",
    "\n",
    "```\n",
    "load molecules using file '<csv_or_sdf_filename>' [ merge with pubchem ] [append]\n",
    "```"
   ]
  },
  {
   "cell_type": "code",
   "execution_count": null,
   "id": "693f0843-e970-4e17-b706-8a7a7bf208d3",
   "metadata": {
    "tags": []
   },
   "outputs": [],
   "source": [
    "%openad load molecules using file 'imported_molecules.csv'"
   ]
  },
  {
   "cell_type": "markdown",
   "id": "bef94e59-4c91-486f-81e4-f7a7734bef1c",
   "metadata": {},
   "source": [
    "```\n",
    "load molecules using dataframe <dataframe> [ merge with pubchem ] [append]\n",
    "```"
   ]
  },
  {
   "cell_type": "code",
   "execution_count": null,
   "id": "e0e3e7c9-c877-40ff-98d3-49293e4e5258",
   "metadata": {
    "tags": []
   },
   "outputs": [],
   "source": [
    "my_mols = %openadd display data 'imported_molecules.csv'\n",
    "%openad load molecules using dataframe my_mols"
   ]
  },
  {
   "cell_type": "markdown",
   "id": "4e1fed9e-df59-46af-b351-3f4aa842d3e4",
   "metadata": {},
   "source": [
    "#### Viewing your working set\n",
    "When run from the CLI, this will open the molset viewer in the browser. When launched from a Notebook, the viewer will be opened inside an iframe, with the option to open it into a separate browser window.\n",
    "\n",
    "     show molecules|mols"
   ]
  },
  {
   "cell_type": "code",
   "execution_count": null,
   "id": "36e528c9-e440-40e9-86ec-ed9d804d01c8",
   "metadata": {
    "tags": []
   },
   "outputs": [],
   "source": [
    "%openad show mols"
   ]
  }
 ],
 "metadata": {
  "kernelspec": {
   "display_name": "venv",
   "language": "python",
   "name": "venv"
  },
  "language_info": {
   "codemirror_mode": {
    "name": "ipython",
    "version": 3
   },
   "file_extension": ".py",
   "mimetype": "text/x-python",
   "name": "python",
   "nbconvert_exporter": "python",
   "pygments_lexer": "ipython3",
   "version": "3.10.14"
  }
 },
 "nbformat": 4,
 "nbformat_minor": 5
}
