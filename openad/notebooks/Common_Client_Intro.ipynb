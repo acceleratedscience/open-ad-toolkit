{
 "cells": [
  {
   "cell_type": "markdown",
   "id": "71361960",
   "metadata": {},
   "source": []
  },
  {
   "cell_type": "markdown",
   "id": "c1667d30",
   "metadata": {},
   "source": [
    "# Open Accelerated Discovery"
   ]
  },
  {
   "cell_type": "markdown",
   "id": "98613e79-edb0-47cd-a038-7bd6193c6378",
   "metadata": {},
   "source": [
    "![](./media/AD_Banner.jpg)\n",
    "<a id=\"top\">"
   ]
  },
  {
   "cell_type": "markdown",
   "id": "5dddd2f1-bf0e-4b74-ad72-3b0a6eb47b6a",
   "metadata": {},
   "source": [
    "The Open Accelerated Discovery  Client is a plugin driven interface designed to consolidate differen IBM and parner API's into one common client experience across Accelerated Discovery services. It aims to provide a Common API and Domain Specific Language for operating with Discovery Science focused systems."
   ]
  },
  {
   "cell_type": "markdown",
   "id": "53ef560c-2ae5-4846-b09a-fe0d8cce266c",
   "metadata": {},
   "source": [
    "It currently enables access though its DSL via a command line interface and shell, and through an Jupyter Magic Command extension. "
   ]
  },
  {
   "cell_type": "markdown",
   "id": "eeeabad6",
   "metadata": {},
   "source": [
    "### Activate Magic Commands "
   ]
  },
  {
   "cell_type": "markdown",
   "id": "7f27810e",
   "metadata": {},
   "source": [
    "To activate Magic Commands per notebook if you have not done an init_magic command from the command line for use in the Notebook you must run the openad notebook.\n",
    "The first command will attempt to log the client onto the current Plugins system.\n",
    "\n",
    "***Note:*** if you have run init_magic from command line you can ignore this."
   ]
  },
  {
   "cell_type": "code",
   "execution_count": null,
   "id": "1a1e2958",
   "metadata": {
    "scrolled": true,
    "tags": []
   },
   "outputs": [],
   "source": [
    "# %run openad_magic.ipynb #Not required if you have run init_magic"
   ]
  },
  {
   "cell_type": "markdown",
   "id": "7b6f8058-c930-4691-a009-c555c1acd939",
   "metadata": {},
   "source": [
    "There are 2 Important concepts you need to understand with the client, \n",
    "1. Workspaces: a workspace is where you can work on a distinct set of task and store all working files and logs for the related activities. Workspaces exist as a directory under ```~/.addcl/workspaces```<br><br>\n",
    "2. Contexts: Contexts are the current Plugin you are working with, they ensure you are logged onto the a plugins corresponding system and all the functionality for that system is loaded."
   ]
  },
  {
   "cell_type": "markdown",
   "id": "2b50c5a2-a393-4592-98a0-c0d7a283b76a",
   "metadata": {},
   "source": [
    "### ***Obtaining Workspace and Context Status***"
   ]
  },
  {
   "cell_type": "markdown",
   "id": "07231173-7532-4e06-a5ac-a7bdd3bcc3a8",
   "metadata": {},
   "source": [
    "To see your current workspace and context status simpy run ```get status```.\n",
    "\n",
    "You will notice if you have previously been logged into the system and you are calling the command from jupyter, the first command you run in that session will try to log you into the current plugin."
   ]
  },
  {
   "cell_type": "code",
   "execution_count": null,
   "id": "06a155ec",
   "metadata": {
    "scrolled": true
   },
   "outputs": [],
   "source": [
    "%openad get status"
   ]
  },
  {
   "cell_type": "markdown",
   "id": "7b283cf9",
   "metadata": {},
   "source": [
    "### ***Create and work with Workspaces***"
   ]
  },
  {
   "cell_type": "markdown",
   "id": "69dc26c6",
   "metadata": {},
   "source": [
    "Workspaces can be created and set as the current working directory\n",
    "A workspace is created in the ```~/.addcl/workspaces/``` Directory\n",
    "Each Workspace has it's own History file and directory to store runs an working data.\n",
    "\n",
    "Command ```CREATE WORKSPACE <workspace_name> [ DESCRIPTION('<description>') ON PATH '<path>' ]```"
   ]
  },
  {
   "cell_type": "code",
   "execution_count": null,
   "id": "6973df02",
   "metadata": {
    "tags": []
   },
   "outputs": [],
   "source": [
    "%openad create workspace wk6"
   ]
  },
  {
   "cell_type": "markdown",
   "id": "669d01d0",
   "metadata": {},
   "source": [
    "Now we have created the workspace we will list the available workspaces using the list workspace command  \n",
    "`LIST WORKSPACES`"
   ]
  },
  {
   "cell_type": "code",
   "execution_count": null,
   "id": "968a9e0a",
   "metadata": {},
   "outputs": [],
   "source": [
    "%openad list workspaces"
   ]
  },
  {
   "cell_type": "markdown",
   "id": "cd712826",
   "metadata": {},
   "source": [
    "Now lets look at what toolkits are installed using the comand `LIST TOOLKITS`"
   ]
  },
  {
   "cell_type": "code",
   "execution_count": null,
   "id": "795d31ad-bfc7-4a0c-80a4-17cef108a5af",
   "metadata": {},
   "outputs": [],
   "source": [
    "%openad list toolkits"
   ]
  },
  {
   "cell_type": "markdown",
   "id": "0e370e4f",
   "metadata": {},
   "source": [
    "Now lets see what Toolkits are available to install with the command `LIST ALL TOOLKITS`"
   ]
  },
  {
   "cell_type": "code",
   "execution_count": null,
   "id": "ca5d4e66-ec1c-43b7-9f57-c9bc442ec059",
   "metadata": {},
   "outputs": [],
   "source": [
    "%openad list all toolkits "
   ]
  },
  {
   "cell_type": "markdown",
   "id": "4534020a-8876-4761-9be0-92f93e4f3caf",
   "metadata": {},
   "source": [
    "To install a Toolkit simply run ```add toolkit <toolkit name>``` e.g ```add toolkit rxn```"
   ]
  },
  {
   "cell_type": "markdown",
   "id": "1786199f-1cf2-4cd0-ae95-37ccd8b6f762",
   "metadata": {},
   "source": [
    "To remove a workspace simply run ```REMOVE WORKSPACE <workspace_name> ``` if you are currently in that workspace your current workspace will be set to ```DEFAULT```"
   ]
  },
  {
   "cell_type": "code",
   "execution_count": null,
   "id": "fa2a2126-7b10-4bb0-92d1-c71cc5a9c779",
   "metadata": {},
   "outputs": [],
   "source": [
    "%openad remove Workspace wk6"
   ]
  },
  {
   "cell_type": "markdown",
   "id": "f6cfcbcf",
   "metadata": {},
   "source": [
    "Now let’s list all workspaces again and see if the Workspace has been removed.\n",
    "***Note:*** a Workspaces directory and files are never removed, if you add the workspace again on the same path it will inherit the properties in that directory"
   ]
  },
  {
   "cell_type": "code",
   "execution_count": null,
   "id": "f3ef7c39-d1d7-4231-9d17-8e07f8e0b5be",
   "metadata": {},
   "outputs": [],
   "source": [
    "%openad list workspaces"
   ]
  },
  {
   "cell_type": "markdown",
   "id": "9fcff181",
   "metadata": {},
   "source": [
    "### ***Command History***"
   ]
  },
  {
   "cell_type": "markdown",
   "id": "3e240157",
   "metadata": {},
   "source": [
    "The Notebooks write to the same execution history as command line executions.\n",
    "This is used to help create runs and enable paging back through history at the\n",
    "command line interface. History is kept per workspace, not for the entire tool set an records history for both command line and Notebooks.\n",
    "\n",
    "To display command history simply type `DISPLAY HISTORY`\n"
   ]
  },
  {
   "cell_type": "code",
   "execution_count": null,
   "id": "1023ccdf",
   "metadata": {},
   "outputs": [],
   "source": [
    "\n",
    "%openad display history"
   ]
  },
  {
   "cell_type": "markdown",
   "id": "ad265904",
   "metadata": {},
   "source": [
    "### ***Setting the Current Plugin***"
   ]
  },
  {
   "cell_type": "markdown",
   "id": "ce138a97",
   "metadata": {},
   "source": [
    "To set the current Plugin you are operating in you use the ```Set CONTEXT <plugin_name>``` command and the plugin name. the Plugin, if this is the first time it is activated in the current session the client will try and and log onto the desitination system.\n",
    "\n",
    "In this example we will set it to the Deep Search Plugin DS4SD but first we need to add the toolkit to the environment with `ADD TOOLKIT <toolkit_name> `"
   ]
  },
  {
   "cell_type": "code",
   "execution_count": null,
   "id": "15e61171",
   "metadata": {},
   "outputs": [],
   "source": [
    "%openad add toolkit ds4sd"
   ]
  },
  {
   "cell_type": "markdown",
   "id": "9e24d49d",
   "metadata": {},
   "source": [
    "Now we will set the context to DS4SD"
   ]
  },
  {
   "cell_type": "code",
   "execution_count": null,
   "id": "de0129c4",
   "metadata": {},
   "outputs": [],
   "source": [
    "%openad set context DS4SD"
   ]
  },
  {
   "cell_type": "markdown",
   "id": "1607a6f6-9271-4096-b284-200d2a0865eb",
   "metadata": {},
   "source": [
    "### ***Setting the Current Workspace*** ###\n",
    "\n",
    "To set the current workspace you runn the following command ```SET WORKSPACE <workspacename>``` as you chance the workspace the history for the cursor will be loaded into the current cursor."
   ]
  },
  {
   "cell_type": "code",
   "execution_count": null,
   "id": "e47d4dbf",
   "metadata": {
    "tags": []
   },
   "outputs": [],
   "source": [
    "%openad set workspace Default"
   ]
  },
  {
   "cell_type": "markdown",
   "id": "00f3f923",
   "metadata": {},
   "source": [
    "### ***Help***"
   ]
  },
  {
   "cell_type": "markdown",
   "id": "665004cb",
   "metadata": {},
   "source": [
    "Help uses the same help as the command line but uses markup language. it is accessed by using  ```?``` before any command. If there is not a unique command for the help hint given it will list all options "
   ]
  },
  {
   "cell_type": "code",
   "execution_count": null,
   "id": "10b1c305",
   "metadata": {},
   "outputs": [],
   "source": [
    "%openad ?"
   ]
  },
  {
   "cell_type": "markdown",
   "id": "fdd6c4b9",
   "metadata": {},
   "source": [
    "By placing a whole command or the start of a command after `?` we can ask help to display the available commands starting with that word(s), if only one command matches the full help for that command will be supplied."
   ]
  },
  {
   "cell_type": "code",
   "execution_count": null,
   "id": "7541c085",
   "metadata": {},
   "outputs": [],
   "source": [
    "%openad ? list "
   ]
  },
  {
   "cell_type": "code",
   "execution_count": null,
   "id": "3494c788",
   "metadata": {},
   "outputs": [],
   "source": [
    "%openad ? search coll "
   ]
  },
  {
   "cell_type": "markdown",
   "id": "22618561",
   "metadata": {},
   "source": [
    "### ***Creating and Using Runs***"
   ]
  },
  {
   "cell_type": "markdown",
   "id": "349ec38d-21d1-466b-819f-4eb1a4a01c32",
   "metadata": {},
   "source": [
    "Runs are created from the command History. To create a run you first run ```create run```, this places a place holder in the command history file. You then run the commands you wish to execute in your run then issue the comand ```SAVE RUN AS <run_name>``` and the commands ran are saved to a ```*.run``` file in the workspace directory. To then execute the run you simply issue the command ```RUN <run_name>``` and the run will sequentially execute all the comands. To list what runs are available you can run ```LIST RUNS``` and to view what commands are in a run you can issue the following command ```DISPLAY RUN <run_name>```\n"
   ]
  },
  {
   "cell_type": "code",
   "execution_count": null,
   "id": "4946c6f2",
   "metadata": {
    "scrolled": true
   },
   "outputs": [],
   "source": [
    "%openad list Runs"
   ]
  },
  {
   "cell_type": "markdown",
   "id": "e70c9708",
   "metadata": {},
   "source": [
    "To Create a Run we simply enter Create Run, run a set of commands then entner \"Save run as \\<name\\> \""
   ]
  },
  {
   "cell_type": "markdown",
   "id": "902f632a",
   "metadata": {},
   "source": [
    "Lets start by creating the beginning of a run"
   ]
  },
  {
   "cell_type": "code",
   "execution_count": null,
   "id": "be07da3e",
   "metadata": {},
   "outputs": [],
   "source": [
    "%openad create run"
   ]
  },
  {
   "cell_type": "markdown",
   "id": "f7d78462",
   "metadata": {},
   "source": [
    "Now lets run some simple commands to demonstrate and record the run."
   ]
  },
  {
   "cell_type": "code",
   "execution_count": null,
   "id": "5264c836",
   "metadata": {},
   "outputs": [],
   "source": [
    "%openad list runs"
   ]
  },
  {
   "cell_type": "code",
   "execution_count": null,
   "id": "250d3780",
   "metadata": {},
   "outputs": [],
   "source": [
    "%openad list toolkits"
   ]
  },
  {
   "cell_type": "code",
   "execution_count": null,
   "id": "0dfe09d7",
   "metadata": {},
   "outputs": [],
   "source": [
    "%openad list workspaces"
   ]
  },
  {
   "cell_type": "markdown",
   "id": "10a2fe45",
   "metadata": {},
   "source": [
    "Now lets finish and save the run with the command `SAVE RUN AS <run name>`"
   ]
  },
  {
   "cell_type": "code",
   "execution_count": null,
   "id": "baa20f7a",
   "metadata": {},
   "outputs": [],
   "source": [
    "%openad save run as test1"
   ]
  },
  {
   "cell_type": "markdown",
   "id": "e407de2c",
   "metadata": {},
   "source": [
    "### displaying a Run "
   ]
  },
  {
   "cell_type": "markdown",
   "id": "671ed026",
   "metadata": {},
   "source": [
    "Now lets display the run with `DISPLAY RUN <run name>`"
   ]
  },
  {
   "cell_type": "code",
   "execution_count": null,
   "id": "f69629e3",
   "metadata": {},
   "outputs": [],
   "source": [
    "%openad display run test1"
   ]
  },
  {
   "cell_type": "markdown",
   "id": "f20ee844-7eea-42a3-850b-d63f24446ca7",
   "metadata": {},
   "source": [
    "### Running a Run"
   ]
  },
  {
   "cell_type": "markdown",
   "id": "f616922f",
   "metadata": {},
   "source": [
    "Now lets run the run simply with the command `RUN <run name>`"
   ]
  },
  {
   "cell_type": "code",
   "execution_count": null,
   "id": "a1bc7b99",
   "metadata": {},
   "outputs": [],
   "source": [
    "%openad run test1"
   ]
  },
  {
   "cell_type": "code",
   "execution_count": null,
   "id": "37210f25-c118-4ff9-8ae8-01db722bca1c",
   "metadata": {},
   "outputs": [],
   "source": [
    "%openad get status"
   ]
  },
  {
   "cell_type": "markdown",
   "id": "20c79373-3b87-425e-8a96-f848e74a53e6",
   "metadata": {},
   "source": [
    "##  Importing Files into your Workspace "
   ]
  },
  {
   "cell_type": "markdown",
   "id": "e4d4d7dd-50b5-4e3d-b6d0-5edb297b3074",
   "metadata": {},
   "source": [
    "Now we are going to Import a File from an external source into the current workspace using the command `IMPORT FROM '<external_source_file>' TO '<workspace_file>'`"
   ]
  },
  {
   "cell_type": "markdown",
   "id": "355a61de",
   "metadata": {},
   "source": [
    "First we will use a variable in python to pass the path to the file into the command, rather than specify it as a string to demonstrate the capability."
   ]
  },
  {
   "cell_type": "code",
   "execution_count": null,
   "id": "2ade8fd4-b028-4e0c-b030-465d90480edf",
   "metadata": {},
   "outputs": [],
   "source": [
    "\n",
    "molecules_file = '~/openad_notebooks/examples/base_molecules.sdf'"
   ]
  },
  {
   "cell_type": "code",
   "execution_count": null,
   "id": "bafae450-99a6-495c-9db2-419289fbe5da",
   "metadata": {},
   "outputs": [],
   "source": [
    "molecules_file"
   ]
  },
  {
   "cell_type": "markdown",
   "id": "6740ba75",
   "metadata": {},
   "source": [
    "Now lets import the file into our workspace"
   ]
  },
  {
   "cell_type": "code",
   "execution_count": null,
   "id": "c02bfe7b-d657-4138-81d5-bb9c1a805ce3",
   "metadata": {},
   "outputs": [],
   "source": [
    "%openad import from '{molecules_file}' to 'base_molecules.sdf'"
   ]
  },
  {
   "cell_type": "markdown",
   "id": "3d2935cb",
   "metadata": {},
   "source": [
    "Lets list the files and see if it is there."
   ]
  },
  {
   "cell_type": "code",
   "execution_count": null,
   "id": "85882d05-1b5a-436a-889f-f139540456df",
   "metadata": {},
   "outputs": [],
   "source": [
    "%openad list files"
   ]
  },
  {
   "cell_type": "markdown",
   "id": "53f2df31-cd75-4887-b600-8ba40980c771",
   "metadata": {},
   "source": [
    "## Viewing Molecules"
   ]
  },
  {
   "cell_type": "markdown",
   "id": "bc3e6600-7b1f-417a-9e3b-1b5fcc1f6388",
   "metadata": {},
   "source": [
    "Through an enhanced version of mols2grid, from the command line or from within a notebook you can view molecules and select from them for further work. From the commandline a web application will be launched to provide you the same cabilities as below.\n",
    "In Notebooks you can simply display from a file or a dataframe and return selections to a dataframe or file."
   ]
  },
  {
   "cell_type": "markdown",
   "id": "d32b0ae3-ad7d-4a46-86d2-d9d94ef0d5d1",
   "metadata": {},
   "source": [
    "To show molecules we use the following command \n",
    "`SHOW MOLECULES USING ( FILE '<mols_file>' | DATAFRAME <dataframe> ) [ SAVE AS '<sdf_or_csv_file>' | AS MOLSOBJECT ]`\n",
    "\n",
    "In Notebooks Data frames can be passed as well as via `csv` or `sdf` files from within the workspace.\n",
    "\n",
    "The result is displayed by default an can be saved as a sdf or csv file. If you specify `AS MOLSOBJECT` it will return in notebooks as a mols2grid object which will allow you to view the molecules and return any selections as a dataframe."
   ]
  },
  {
   "cell_type": "code",
   "execution_count": null,
   "id": "68482cec-6355-4b5b-8b39-ccb1ae794840",
   "metadata": {},
   "outputs": [],
   "source": [
    "%openad  show molecules using file 'base_molecules.sdf'"
   ]
  },
  {
   "cell_type": "markdown",
   "id": "39db6b62-b51d-4f88-9d96-9cab72263ff7",
   "metadata": {},
   "source": [
    "## Working with Show molecules as a Molsboject to get selected molecules into a data frame"
   ]
  },
  {
   "cell_type": "markdown",
   "id": "9b6edcb5-e594-46de-81f4-9f9b3aa51b97",
   "metadata": {},
   "source": [
    "First we load the Show Molecules as an object and display it "
   ]
  },
  {
   "cell_type": "code",
   "execution_count": null,
   "id": "b44e5fa8-12e4-4064-ba1d-3cc521a76fe9",
   "metadata": {},
   "outputs": [],
   "source": [
    "x = %openad  show molecules using file 'base_molecules.sdf' as molsobject\n",
    "x.display()"
   ]
  },
  {
   "cell_type": "markdown",
   "id": "5d38f400-42fa-43a1-80c8-66f50becb71f",
   "metadata": {},
   "source": [
    "Now after selecting molecules we return them as a data frame"
   ]
  },
  {
   "cell_type": "code",
   "execution_count": null,
   "id": "e067bc2f-2c25-4a3b-be14-82fd93aeccdb",
   "metadata": {},
   "outputs": [],
   "source": [
    "y = x.get_selection()"
   ]
  },
  {
   "cell_type": "markdown",
   "id": "03290273",
   "metadata": {},
   "source": [
    "Now lets display the selections"
   ]
  },
  {
   "cell_type": "code",
   "execution_count": null,
   "id": "9a0f35b7-20e6-4fd6-a896-2eb9716b6add",
   "metadata": {},
   "outputs": [],
   "source": [
    "display(y)"
   ]
  },
  {
   "cell_type": "markdown",
   "id": "e350084f-c33e-4739-937c-13da16570549",
   "metadata": {},
   "source": [
    "And we can show them again sourcing the data from the data frame."
   ]
  },
  {
   "cell_type": "code",
   "execution_count": null,
   "id": "59d7066e-2b1d-4f65-89a4-9194a3ea712e",
   "metadata": {},
   "outputs": [],
   "source": [
    "%openad  show molecules using dataframe y"
   ]
  }
 ],
 "metadata": {
  "kernelspec": {
   "display_name": "venv-A",
   "language": "python",
   "name": "venv-a"
  },
  "language_info": {
   "codemirror_mode": {
    "name": "ipython",
    "version": 3
   },
   "file_extension": ".py",
   "mimetype": "text/x-python",
   "name": "python",
   "nbconvert_exporter": "python",
   "pygments_lexer": "ipython3",
   "version": "3.11.2"
  }
 },
 "nbformat": 4,
 "nbformat_minor": 5
}
