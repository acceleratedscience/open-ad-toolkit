{
 "cells": [
  {
   "cell_type": "code",
   "execution_count": null,
   "id": "6310e4b0-3682-49c4-a843-91d29fa09e2f",
   "metadata": {
    "tags": []
   },
   "outputs": [],
   "source": [
    "%reload_ext openad.notebooks.styles"
   ]
  },
  {
   "cell_type": "markdown",
   "id": "6caee604-5ebd-4412-be5a-79c9bbfc9b36",
   "metadata": {},
   "source": [
    "<div class=\"banner\"><div>Introduction</div><b>OpenAD Deep Search Commands</b></div>"
   ]
  },
  {
   "cell_type": "markdown",
   "id": "1b8cb3dc-ac48-4deb-b31a-2396f366f753",
   "metadata": {},
   "source": [
    "# Deep Search Command Introduction\n",
    "_The Deep Search toolkit is called **DS4SD** which stands for Deep Search for Scientific Discovery._"
   ]
  },
  {
   "cell_type": "markdown",
   "id": "d7b57b2b-45a8-439a-8637-28c7732a1577",
   "metadata": {
    "tags": []
   },
   "source": [
    "<br><br>\n",
    "\n",
    "## 3. Searching a Collection\n",
    "<hr>"
   ]
  },
  {
   "cell_type": "markdown",
   "id": "eceff19d-24f2-40ea-a1be-4d2684e534fa",
   "metadata": {
    "tags": []
   },
   "source": [
    "<pre style=\"color:#eec;background:#2f2d3a;padding:20px;margin:0;border-radius:5px\">search collection '&lt;collection_name_or_key&gt;' for '&lt;search_string&gt;' [ using (page_size=&lt;int&gt; system_id=&lt;system_id&gt; edit_distance=&lt;integer&gt; display_first=&lt;integer&gt;) ] show (data | docs) [ estimate only | return as data | save as '&lt;filename.csv&gt;' ]</pre>\n",
    "\n",
    "This command allows you to execute a search against a variety of collections letting you to pull back documents with snippets highlighting the data mathcing the search criteria.\n",
    "\n",
    "Our examples will cover its simplest form plus a variety of options."
   ]
  },
  {
   "cell_type": "code",
   "execution_count": null,
   "id": "4729cd72-ca1f-4509-8f8c-01831a2359c0",
   "metadata": {
    "tags": []
   },
   "outputs": [],
   "source": [
    "%openad search collection ?"
   ]
  },
  {
   "cell_type": "markdown",
   "id": "8bebbd32-a449-4155-9898-02c672e24e00",
   "metadata": {
    "tags": []
   },
   "source": [
    "<br><br>\n",
    "\n",
    "### <span style=\"color: green\">Example A:</span> Query arXiv for \"*power conversion efficiency*\"\n",
    "\n",
    "In this example we'll search for the input query in documents from the arXiv.org data collection. For each matched document we'll return the title, authors as well as the link to the original document on arXix.org\n",
    "\n",
    "#### What we'll cover:\n",
    "1. How to address a specific data collection\n",
    "2. How to choose which component of the documents should be returned\n",
    "3. How to iterate through the complete data collection by fetching page_size=50 results at the time"
   ]
  },
  {
   "cell_type": "markdown",
   "id": "fd3aa6c2-6bbe-4c24-8890-70f439067704",
   "metadata": {
    "tags": []
   },
   "source": [
    "<br>\n",
    "\n",
    "### Getting the result estimate\n",
    "\n",
    "First we will run and get an estimate of how many documents may appear in the search so we know we are pulling back a manageable amount."
   ]
  },
  {
   "cell_type": "code",
   "execution_count": null,
   "id": "4f492f6b-d7ab-4981-a81c-4ed42eb82c81",
   "metadata": {
    "tags": []
   },
   "outputs": [],
   "source": [
    "%openad search collection 'arXiv abstracts' for 'ide(\"power conversion efficiency\" OR PCE) AND organ* ' show (docs) estimate only"
   ]
  },
  {
   "cell_type": "markdown",
   "id": "d52fd429-85b2-4f5d-a73a-1d3f37d1cbf3",
   "metadata": {},
   "source": [
    "<br>\n",
    "\n",
    "### Retrieving results\n",
    "Unless the `return as data` clause is set, results be returned as a ***pandas styler object*** which provides an enhanced snippet display of the data.\n",
    "\n",
    "The styler object can be displayed straightaway, or assigned to a variable. To extract the raw data from the dataframe, you can reference `df_styler.data`."
   ]
  },
  {
   "cell_type": "code",
   "execution_count": null,
   "id": "97e328f1-ac99-4d67-8517-64ca56dba2d5",
   "metadata": {
    "tags": []
   },
   "outputs": [],
   "source": [
    "df_styler = %openad search collection 'arXiv abstracts' for 'ide(\"power conversion efficiency\" OR PCE) AND organ* ' using \\\n",
    "(system_id=default edit_distance=20) show (data docs)"
   ]
  },
  {
   "cell_type": "markdown",
   "id": "1683041a-8cf5-418f-9232-5902b0ae4ef4",
   "metadata": {},
   "source": [
    "Now the data is store in our variable, we can display it in a next step. By right-clicking the cell's output, you can enable cell scrolling, which may be easier to review the output rather than it taking up the entire notebook."
   ]
  },
  {
   "cell_type": "code",
   "execution_count": null,
   "id": "ee2cc625-b015-4b2f-b097-0b9fa2f23946",
   "metadata": {
    "scrolled": true,
    "tags": []
   },
   "outputs": [],
   "source": [
    "df_styler"
   ]
  },
  {
   "cell_type": "markdown",
   "id": "42c838be-9fb3-4d3b-b624-80e2b2489322",
   "metadata": {},
   "source": [
    "<br>\n",
    "\n",
    "### Simply viewing the Results\n",
    "If the results are not stored in a variable, they will be displayed straightaway. Notice we are using the `page_size` and `edit_distance` options to finetune our results. You can try experiment with  different values for these options."
   ]
  },
  {
   "cell_type": "code",
   "execution_count": null,
   "id": "eb4c3915-4440-4e41-a3a0-b0952113909f",
   "metadata": {
    "tags": []
   },
   "outputs": [],
   "source": [
    "%openad search collection 'arXiv abstracts' for ' \" carbon capture\" AND \"membrane\" ' using (page_size=10 edit_distance=5) show (data docs)"
   ]
  },
  {
   "cell_type": "markdown",
   "id": "af894515-2b5d-49cd-97f1-282714cc5d60",
   "metadata": {
    "tags": []
   },
   "source": [
    "<br><br>\n",
    "\n",
    "### <span style=\"color: green\">Example B:</span> Search for \"_Ibuprofen_\" on PubChem\n",
    "\n",
    "In this example we'll search for all PubChem entries which contain the string _Ibuprofen_. In the results table we see the name of the chemical, its molecule SMILES and some properties such as the molecular weight and the solubility.\n"
   ]
  },
  {
   "cell_type": "code",
   "execution_count": null,
   "id": "a2c1e2c1-c938-48bb-baba-325620f71911",
   "metadata": {
    "scrolled": true,
    "tags": []
   },
   "outputs": [],
   "source": [
    "ibuprofen_df = %openad search collection 'pubchem' for 'Ibuprofen' SHOW (data)\n",
    "display(ibuprofen_df)"
   ]
  }
 ],
 "metadata": {
  "kernelspec": {
   "display_name": "ad-venv",
   "language": "python",
   "name": "ad-venv"
  },
  "language_info": {
   "codemirror_mode": {
    "name": "ipython",
    "version": 3
   },
   "file_extension": ".py",
   "mimetype": "text/x-python",
   "name": "python",
   "nbconvert_exporter": "python",
   "pygments_lexer": "ipython3",
   "version": "3.10.14"
  }
 },
 "nbformat": 4,
 "nbformat_minor": 5
}
