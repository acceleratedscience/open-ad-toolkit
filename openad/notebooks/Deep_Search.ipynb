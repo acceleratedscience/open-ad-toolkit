{
 "cells": [
  {
   "cell_type": "markdown",
   "id": "1b8cb3dc-ac48-4deb-b31a-2396f366f753",
   "metadata": {},
   "source": [
    "# Deep Search and the Common Client"
   ]
  },
  {
   "cell_type": "markdown",
   "id": "d606a12e-8fdd-46ee-b622-474d4c3e1bef",
   "metadata": {},
   "source": [
    "![](./media/AD_Banner.jpg)\n",
    "<a id=\"top\">"
   ]
  },
  {
   "cell_type": "markdown",
   "id": "70340295-2619-4ba9-953f-3f8c7c331bb6",
   "metadata": {},
   "source": [
    "## You only need to run the Magic command %run if you did not execute init_magic from the command line "
   ]
  },
  {
   "cell_type": "code",
   "execution_count": null,
   "id": "82b322bf-fec9-4cab-aaa0-43c3d4f41b4b",
   "metadata": {},
   "outputs": [],
   "source": [
    "# %run openad_magic.ipynb #Not required if you have run init_magic"
   ]
  },
  {
   "cell_type": "markdown",
   "id": "7d343048-0db8-4a3a-b7e4-0bd29c0f01c3",
   "metadata": {},
   "source": [
    "## If you setup the Tell Me Large Language Model interface the below will run for you"
   ]
  },
  {
   "cell_type": "markdown",
   "id": "c334141e",
   "metadata": {},
   "source": [
    "The below will only run if you have a large language model account. Currently only OPENAI supported."
   ]
  },
  {
   "cell_type": "code",
   "execution_count": null,
   "id": "b3368152-a56f-4b41-8e25-7d4868b16128",
   "metadata": {
    "tags": []
   },
   "outputs": [],
   "source": [
    "\n",
    "%openad tell me how would I create a workspace then search for ibuprofen using deepsearch  then display them with a viewer\n"
   ]
  },
  {
   "cell_type": "markdown",
   "id": "b6904d45",
   "metadata": {},
   "source": [
    "Let's now remove the Deep Search Toolkit and re-add it to make sure we have the latest version."
   ]
  },
  {
   "cell_type": "code",
   "execution_count": null,
   "id": "1921293a-5791-4eca-ae1e-2f8e5854f5ce",
   "metadata": {},
   "outputs": [],
   "source": [
    "%openad remove toolkit DS4SD"
   ]
  },
  {
   "cell_type": "markdown",
   "id": "914ff746",
   "metadata": {},
   "source": [
    "Let's check to make sure it is removed."
   ]
  },
  {
   "cell_type": "code",
   "execution_count": null,
   "id": "7d90a277-6507-4e14-a5f4-7f334a90d2b7",
   "metadata": {},
   "outputs": [],
   "source": [
    "%openad get status"
   ]
  },
  {
   "cell_type": "markdown",
   "id": "edffbebd",
   "metadata": {},
   "source": [
    "Now let's in batch add the DS4SD Deep Search Toolkit, set it to the current context and call get status to check what workspace we are in, and that the toolkit is set."
   ]
  },
  {
   "cell_type": "code",
   "execution_count": null,
   "id": "70d496b5-2aff-46d8-a014-c12984d750a4",
   "metadata": {},
   "outputs": [],
   "source": [
    "%openad add toolkit DS4SD\n",
    "%openad set context ds4sd\n",
    "%openad get status"
   ]
  },
  {
   "cell_type": "markdown",
   "id": "1ed401d5-35fd-4fc0-adf3-f331fe9fe610",
   "metadata": {},
   "source": [
    "## What Deep Search Commands Exist ?"
   ]
  },
  {
   "cell_type": "markdown",
   "id": "26246760",
   "metadata": {},
   "source": [
    "Now we will list all commands are available for the Deep Search Toolkit (DS4SD)"
   ]
  },
  {
   "cell_type": "code",
   "execution_count": null,
   "id": "a83d54e3-2b6e-42e2-a49e-4bb72fa2808f",
   "metadata": {},
   "outputs": [],
   "source": [
    "%openad ?  DS4SD"
   ]
  },
  {
   "cell_type": "markdown",
   "id": "a7e1d598-f4a8-47f9-9c0c-0862f4b7b0d9",
   "metadata": {},
   "source": [
    "## Displaying Domains "
   ]
  },
  {
   "cell_type": "markdown",
   "id": "1d067616-1635-4987-b379-d987d6068f3a",
   "metadata": {},
   "source": [
    "### Displaying all Collections and Domains"
   ]
  },
  {
   "cell_type": "markdown",
   "id": "e5f46f18",
   "metadata": {},
   "source": [
    "You can display all collections with the following command \n",
    "`DISPLAY ALL COLLECTIONS [SAVE AS '<csv_file_name>']`\n"
   ]
  },
  {
   "cell_type": "code",
   "execution_count": null,
   "id": "de5a9caf-1bbc-4548-8af3-b1a2e829494a",
   "metadata": {},
   "outputs": [],
   "source": [
    "%openad display all collections"
   ]
  },
  {
   "cell_type": "markdown",
   "id": "ba73763a",
   "metadata": {},
   "source": [
    "### Let's find out what Collections contain what documents we might be interested in."
   ]
  },
  {
   "cell_type": "markdown",
   "id": "8b2444f0-a139-43f1-98f7-f924fe7967c3",
   "metadata": {},
   "source": [
    "Display collection matches searches all collections for documents that contain a given search string.<BR><br>\n",
    "`DISPLAY COLLECTION MATCHES FOR '<search_string>' [SAVE AS '<csv_file_name>']`"
   ]
  },
  {
   "cell_type": "code",
   "execution_count": null,
   "id": "c1ca0f3c-b4d9-456b-9833-f6299dd46bf5",
   "metadata": {},
   "outputs": [],
   "source": [
    "%openad display collection matches for 'carbon capture'"
   ]
  },
  {
   "cell_type": "markdown",
   "id": "952d4f57",
   "metadata": {},
   "source": [
    "Display collections for a specific Domain Name.<BR><br>\n",
    "`DISPLAY COLLECTIONS FOR  DOMAIN `<domain_name>`"
   ]
  },
  {
   "cell_type": "code",
   "execution_count": null,
   "id": "d08d299a",
   "metadata": {},
   "outputs": [],
   "source": [
    "%openad display collections for domain 'Business Insights'"
   ]
  },
  {
   "cell_type": "markdown",
   "id": "17aab893-250d-4f6e-b42f-9e69fdee9302",
   "metadata": {},
   "source": [
    "### Subset our list by a set of Domains"
   ]
  },
  {
   "cell_type": "markdown",
   "id": "d1209214-c422-4e22-9bd6-e1eac1ac2359",
   "metadata": {},
   "source": [
    "Given a list of domain names, the below command will give a list of Collections within those domains<BR><br>\n",
    "`DISPLAY COLLECTIONS IN DOMAINS FROM LIST [<list_of_domains>] [SAVE AS '<csv_file_name>']`"
   ]
  },
  {
   "cell_type": "code",
   "execution_count": null,
   "id": "70fbec40-7b8b-4384-9a21-7734cd263441",
   "metadata": {
    "tags": []
   },
   "outputs": [],
   "source": [
    "%openad display collections in domains from list [ 'Business Insights','Climate & Sustainability']"
   ]
  },
  {
   "cell_type": "markdown",
   "id": "98f21d84-b272-48f6-8b29-a4e561de5dc0",
   "metadata": {},
   "source": [
    "### Drill into the details behing a Collection"
   ]
  },
  {
   "cell_type": "markdown",
   "id": "6aa2649c",
   "metadata": {},
   "source": [
    "To drill down on the description of a document collection, its source and date <br> <br>\n",
    "`DISPLAY COLLECTION DETAILS '<collection_name>' | '<collection_key>'`"
   ]
  },
  {
   "cell_type": "code",
   "execution_count": null,
   "id": "d718d063-a4d6-4900-9239-77ed6cd5ee18",
   "metadata": {},
   "outputs": [],
   "source": [
    "%openad display collection details 'ESG Reports'"
   ]
  },
  {
   "cell_type": "markdown",
   "id": "d7b57b2b-45a8-439a-8637-28c7732a1577",
   "metadata": {
    "tags": []
   },
   "source": [
    "## Searching a collection inside the Deep Search Repository"
   ]
  },
  {
   "cell_type": "markdown",
   "id": "a43eb0c1-180e-4978-94c2-ff5ad8ac3fb1",
   "metadata": {},
   "source": [
    "The Deep Search command for searching repositories uses the below syntax:"
   ]
  },
  {
   "cell_type": "markdown",
   "id": "8700f365-e212-4b78-bdc0-781c027f3775",
   "metadata": {
    "tags": []
   },
   "source": [
    "### **Searching for Documents on a Subject**\n",
    "\n",
    "\n",
    "\n",
    "In this section we search for documents in the arXiv.org data collection matching the input query. For each matched document we return the title, authors as well as the link to the original document on arXix.org\n",
    "\n",
    "***This example will demonstrate***\n",
    "\n",
    "1. How to address a specific data collection\n",
    "2. How to choose which component of the documents should be returned\n",
    "3. How to iterate through the complete data collection by fetching page_size=50 results at the time"
   ]
  },
  {
   "cell_type": "markdown",
   "id": "77b69596",
   "metadata": {},
   "source": [
    "The searching of a Collection command provides a flexible way that can be used in its simplest form or with a variety of options to execute a search against a variety of collections allowing you simply to pull back documents with snippets that meet the search criteria or data stored within those documents. The command syntax is as follows.<br> <br>"
   ]
  },
  {
   "cell_type": "markdown",
   "id": "ee2e273c",
   "metadata": {},
   "source": [
    "To see more about the command lets run the help for it."
   ]
  },
  {
   "cell_type": "code",
   "execution_count": null,
   "id": "4729cd72-ca1f-4509-8f8c-01831a2359c0",
   "metadata": {},
   "outputs": [],
   "source": [
    " \n",
    "%openad search collection  ?"
   ]
  },
  {
   "cell_type": "markdown",
   "id": "743ea361-1e02-4795-a0b1-1764e69c7aa1",
   "metadata": {},
   "source": [
    "First we will run and get an estimate of how many documents may appear in the search so we know we are pulling back a manageable amount"
   ]
  },
  {
   "cell_type": "code",
   "execution_count": null,
   "id": "4f492f6b-d7ab-4981-a81c-4ed42eb82c81",
   "metadata": {},
   "outputs": [],
   "source": [
    "%openad search collection 'arXiv abstracts' for 'ide(\"power conversion efficiency\" OR PCE) AND organ* '  show (docs) estimate only"
   ]
  },
  {
   "cell_type": "markdown",
   "id": "d52fd429-85b2-4f5d-a73a-1d3f37d1cbf3",
   "metadata": {},
   "source": [
    "### Retrieving results ###\n",
    "Now we will retrieve and view all results, if we do not use the `return as data` clause the results will be returned as ***pandas styler*** object that provides an enhanced snippet display of the data."
   ]
  },
  {
   "cell_type": "code",
   "execution_count": null,
   "id": "97e328f1-ac99-4d67-8517-64ca56dba2d5",
   "metadata": {
    "scrolled": true,
    "tags": []
   },
   "outputs": [],
   "source": [
    "df_styler= %openad search collection 'arXiv abstracts'  for 'ide(\"power conversion efficiency\" OR PCE) AND organ* ' using \\\n",
    "( system_id=default edit_distance=20  ) show (data docs) "
   ]
  },
  {
   "cell_type": "markdown",
   "id": "1683041a-8cf5-418f-9232-5902b0ae4ef4",
   "metadata": {},
   "source": [
    "The Styler object can be viewed straight away or assigned as a variable, to extract the raw data we would reference `df_styler.data` to return the base data in a data frame.\n",
    "make sure the cell you are referencing has scrolling enabled by setting the properties for the cell, this way you can scroll through all the data, a window rather than taking up the entire notebook.\n"
   ]
  },
  {
   "cell_type": "code",
   "execution_count": null,
   "id": "ee2cc625-b015-4b2f-b097-0b9fa2f23946",
   "metadata": {
    "scrolled": true,
    "tags": []
   },
   "outputs": [],
   "source": [
    "df_styler"
   ]
  },
  {
   "cell_type": "markdown",
   "id": "42c838be-9fb3-4d3b-b624-80e2b2489322",
   "metadata": {},
   "source": [
    "### Simply viewing the Results ###\n",
    "Here we will run the search straight from the magic command view it straight away, notice we are using the `page_size` and `edit_distance` options to fine tune our result, try different values for these options."
   ]
  },
  {
   "cell_type": "code",
   "execution_count": null,
   "id": "eb4c3915-4440-4e41-a3a0-b0952113909f",
   "metadata": {},
   "outputs": [],
   "source": [
    "%openad search collection 'arXiv abstracts' for ' \" carbon capture\" AND \"membrane\" ' using (  page_size=10 edit_distance=5 ) show (data docs)  "
   ]
  },
  {
   "cell_type": "markdown",
   "id": "af894515-2b5d-49cd-97f1-282714cc5d60",
   "metadata": {},
   "source": [
    "## **Search _Ibuprofen_ in PubChem** \n",
    "\n",
    "In this section we search for all PubChem entries which contain the string _Ibuprofen_.\n",
    "\n",
    "In the results table we see the name of the chemical, its molecule SMILES and some properties such as the molecular weight and the solubility.\n"
   ]
  },
  {
   "cell_type": "code",
   "execution_count": null,
   "id": "a2c1e2c1-c938-48bb-baba-325620f71911",
   "metadata": {
    "scrolled": true,
    "tags": []
   },
   "outputs": [],
   "source": [
    "ibuprofen_df = %openad search collection 'pubchem' for 'Ibuprofen' SHOW (data) \n",
    "display(ibuprofen_df)"
   ]
  },
  {
   "cell_type": "markdown",
   "id": "2133fdd5-1533-4198-8bf9-5df1a0a3907d",
   "metadata": {},
   "source": [
    "### Working with the results as Data ###\n",
    "By using the `return as data` clause we will return the data as a raw data frame, this way we will be able to pass it to other utilities."
   ]
  },
  {
   "cell_type": "code",
   "execution_count": null,
   "id": "85a73d6c",
   "metadata": {},
   "outputs": [],
   "source": [
    "%openad search collection 'pubchem' for   'Ibuprofen'  SHOW (data) "
   ]
  },
  {
   "cell_type": "markdown",
   "id": "88006b59-5d61-47aa-accd-467ef63c6390",
   "metadata": {},
   "source": [
    "### Displaying the molecules in a viewer ###\n",
    "Now we will view the molecules and select to subset the molecules for further viewing.<br>\n",
    "We will do this using the show molecules command that invokes mols2grid and manages launching it for us.<br>\n",
    "\n",
    "`SHOW MOLECULES USING ( FILE '<mols_file>' | DATAFRAME <dataframe> ) [ SAVE AS '<sdf_or_csv_file>' | AS MOLSOBJECT ]`"
   ]
  },
  {
   "cell_type": "code",
   "execution_count": null,
   "id": "8b389df4-5a9a-4df9-bb34-0ccbf852eeca",
   "metadata": {},
   "outputs": [],
   "source": [
    "%openad show molecules using ?"
   ]
  },
  {
   "cell_type": "markdown",
   "id": "2b2127c5",
   "metadata": {},
   "source": [
    "So first we will will search for molecular data records related to 'Ibuprofen' and return the data set as data to a dataframe, then pass this data fram to `show molecules` for display."
   ]
  },
  {
   "cell_type": "code",
   "execution_count": null,
   "id": "95bc4bad-158a-41b2-99a6-a4b0b1c24360",
   "metadata": {},
   "outputs": [],
   "source": [
    "my_df= %openad search collection 'pubchem' for 'Ibuprofen' SHOW (data) return as data\n",
    "%openad show molecules using dataframe my_df"
   ]
  },
  {
   "cell_type": "markdown",
   "id": "4aa8081c-e339-4bf5-9c2c-4f442cfb7db3",
   "metadata": {},
   "source": [
    "## **Now We display via mols2grid object and do selections to a data frame** \n",
    "\n"
   ]
  },
  {
   "cell_type": "markdown",
   "id": "3ae4dc24",
   "metadata": {},
   "source": [
    "So we will now take the same data frame and run `show molecules` but this time we will have the search return a mols2grid object so we can use the data selection capability of mols2grid within out notebook environment."
   ]
  },
  {
   "cell_type": "code",
   "execution_count": null,
   "id": "79e93e24-a0e9-465b-8680-0fded813fbc9",
   "metadata": {},
   "outputs": [],
   "source": [
    "x = %openad show molecules using dataframe my_df as molsobject"
   ]
  },
  {
   "cell_type": "markdown",
   "id": "cf5c90d0",
   "metadata": {},
   "source": [
    "Now lets display the object formatting the subset display using the \"name\" field"
   ]
  },
  {
   "cell_type": "code",
   "execution_count": null,
   "id": "db773284-037e-4528-9022-7fe3f0f11b76",
   "metadata": {},
   "outputs": [],
   "source": [
    "x.display(**{'subset': ['NAME']})"
   ]
  },
  {
   "cell_type": "markdown",
   "id": "16bb52f0-8442-40ca-9d5a-89101511b914",
   "metadata": {},
   "source": [
    "Now, select one or more tiles in the mols2grid display then run the below cell to display the selected Molecules records."
   ]
  },
  {
   "cell_type": "code",
   "execution_count": null,
   "id": "2e427648-8c73-4ce1-999f-774e53218423",
   "metadata": {},
   "outputs": [],
   "source": [
    "x.get_selection()"
   ]
  },
  {
   "cell_type": "markdown",
   "id": "1095a027-161c-4c91-894e-c320d573050a",
   "metadata": {},
   "source": [
    "# Searching Molecules"
   ]
  },
  {
   "cell_type": "markdown",
   "id": "f2b3ceb0-256a-4dc0-9878-8c413d2da1e4",
   "metadata": {},
   "source": [
    "## Search for Similar Molecules"
   ]
  },
  {
   "cell_type": "markdown",
   "id": "7a88ec11",
   "metadata": {},
   "source": [
    "Now lets consider the functions that allow us to specifically search documents containing molecules for relationships between molecules, patents and other information."
   ]
  },
  {
   "cell_type": "markdown",
   "id": "efc87285",
   "metadata": {},
   "source": [
    "First Look at a search that can look for molecules that have similar make up to a provided molecule in SMILES string format.<br><br>\n",
    "`SEARCH FOR SIMILAR MOLECULES '<SMILES_string>' [SAVE AS '<csv_file_name>']`"
   ]
  },
  {
   "cell_type": "code",
   "execution_count": null,
   "id": "e7c0dffb-4a8c-4064-85b2-e781f6fb5bc5",
   "metadata": {},
   "outputs": [],
   "source": [
    "# define molecule\n",
    "smiles_Molecule='CC(C)(c1ccccn1)C(CC(=O)O)Nc1nc(-c2c[nH]c3ncc(Cl)cc23)c(C#N)cc1F' \n",
    "# now substitute the variable into the %openad command\n",
    "mols = %openad search for similar molecules to '{smiles_Molecule}'  \n",
    "# then display the results\n",
    "display(mols) "
   ]
  },
  {
   "cell_type": "markdown",
   "id": "1481c911-30ab-4265-8013-80014680115a",
   "metadata": {},
   "source": [
    "## Search for Patents Containing a Specified Molecule"
   ]
  },
  {
   "cell_type": "markdown",
   "id": "097d5771",
   "metadata": {},
   "source": [
    "We can also search for patents that mention a specfic SMILES defined molecule using the command. <br><br> `SEARCH FOR PATENTS CONTAINING MOLECULE ['<SMILES_molecule>'| '<inchi_molecule>'] [SAVE AS '<csv_file_name>']`"
   ]
  },
  {
   "cell_type": "code",
   "execution_count": null,
   "id": "5fb99bc3-b710-4cf9-bd42-8f40ec7650a6",
   "metadata": {},
   "outputs": [],
   "source": [
    "%openad search for patents ?"
   ]
  },
  {
   "cell_type": "code",
   "execution_count": null,
   "id": "01fa5e6e-7e5d-4fc5-94ca-164f7ec657bf",
   "metadata": {},
   "outputs": [],
   "source": [
    "\n",
    "patents = %openad search for patents containing molecule '{smiles_Molecule}'\n",
    "display(patents)"
   ]
  },
  {
   "cell_type": "markdown",
   "id": "5ee77b87-3280-4695-9d25-e6a6a7c3e70c",
   "metadata": {},
   "source": [
    "## Search for Molecules in a defined List of Patents"
   ]
  },
  {
   "cell_type": "markdown",
   "id": "3ce3d621",
   "metadata": {},
   "source": [
    "Now lets consider we now have a list of patents of interest, but we want to find out what molecules are additionally mentioned in these patents. We can do this using the following command.<br><br>\n",
    "`SEARCH FOR MOLECULES IN PATENTS FROM [LIST ['<patent1>', '<patent2>' .....] | DATAFRAME <dataframe_name> | FILE '<workspace_file name>'] [SAVE AS '<csv_file_name>']`"
   ]
  },
  {
   "cell_type": "code",
   "execution_count": null,
   "id": "3f5251a2-9ae3-4cd1-9224-0d9c65c9ccf3",
   "metadata": {
    "tags": []
   },
   "outputs": [],
   "source": [
    "mylist = list(patents['PATENT ID'])\n",
    "myframe =  %openad search for molecules in patents from list {mylist}\n",
    "display(myframe)"
   ]
  },
  {
   "cell_type": "markdown",
   "id": "9110d933",
   "metadata": {},
   "source": [
    "We can also take the resulting data frame and show them in the molecules selection viewer mols2grid using the `show molecules` command"
   ]
  },
  {
   "cell_type": "code",
   "execution_count": null,
   "id": "249a7814-e627-441c-a2cf-a6e19877a8c4",
   "metadata": {},
   "outputs": [],
   "source": [
    "%openad show molecules using dataframe myframe"
   ]
  },
  {
   "cell_type": "markdown",
   "id": "1a42aec5-46e9-4073-8db4-b38123a2f271",
   "metadata": {},
   "source": [
    "## Search for Molecules with instances of a Specified Substructure"
   ]
  },
  {
   "cell_type": "markdown",
   "id": "cfbe4c79",
   "metadata": {},
   "source": [
    "We can also search for molecules with substructure similarities to a given smiles string using the following command.\n",
    "\n",
    "`SEARCH FOR SUBSTRUCTURE INSTANCES OF '<SMILES_string>' [SAVE AS '<csv_file_name>']`"
   ]
  },
  {
   "cell_type": "markdown",
   "id": "ff8a2e7a",
   "metadata": {},
   "source": [
    "The following example searches for molecules containing a defined SMILES substructure string and saves it to a file my_mol which will be saved as a csv file 'my_mol.csv' in the current workspace."
   ]
  },
  {
   "cell_type": "code",
   "execution_count": null,
   "id": "b769b3a5-3f65-4115-bd70-611724433120",
   "metadata": {},
   "outputs": [],
   "source": [
    "%openad search for substructure instances of 'C1(C(=C)C([O-])C1C)=O' save as 'my_mol'"
   ]
  },
  {
   "cell_type": "code",
   "execution_count": null,
   "id": "7a6618fe-f1be-45d2-916b-9a243340a1bd",
   "metadata": {},
   "outputs": [],
   "source": []
  }
 ],
 "metadata": {
  "kernelspec": {
   "display_name": "Python 3 (ipykernel)",
   "language": "python",
   "name": "python3"
  },
  "language_info": {
   "codemirror_mode": {
    "name": "ipython",
    "version": 3
   },
   "file_extension": ".py",
   "mimetype": "text/x-python",
   "name": "python",
   "nbconvert_exporter": "python",
   "pygments_lexer": "ipython3",
   "version": "3.11.2"
  }
 },
 "nbformat": 4,
 "nbformat_minor": 5
}
