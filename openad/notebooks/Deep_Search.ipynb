{
 "cells": [
  {
   "cell_type": "markdown",
   "id": "1b8cb3dc-ac48-4deb-b31a-2396f366f753",
   "metadata": {},
   "source": [
    "# Deep Search and the Common Client\n",
    "_The Deep Search toolkit is called **DS4SD** which stands for Deep Search for Scientific Discovery._"
   ]
  },
  {
   "cell_type": "markdown",
   "id": "d606a12e-8fdd-46ee-b622-474d4c3e1bef",
   "metadata": {},
   "source": [
    "![](./media/AD_Banner.jpg)\n",
    "<a id=\"top\">"
   ]
  },
  {
   "cell_type": "markdown",
   "id": "b74e9136-3f61-4be5-8bed-e0953ec1dad0",
   "metadata": {},
   "source": [
    "<br><br>\n",
    "\n",
    "## 1. Getting Started\n",
    "<hr>"
   ]
  },
  {
   "cell_type": "markdown",
   "id": "70340295-2619-4ba9-953f-3f8c7c331bb6",
   "metadata": {
    "tags": []
   },
   "source": [
    "<br>\n",
    "\n",
    "### Setting up Magic Commands\n",
    "The Magic command `%run` is only required if you did not execute `init_magic` from the command line."
   ]
  },
  {
   "cell_type": "code",
   "execution_count": null,
   "id": "82b322bf-fec9-4cab-aaa0-43c3d4f41b4b",
   "metadata": {
    "tags": []
   },
   "outputs": [],
   "source": [
    "# %run openad_magic.ipynb # Not required if you have run init_magic"
   ]
  },
  {
   "cell_type": "markdown",
   "id": "c334141e",
   "metadata": {},
   "source": [
    "<br>\n",
    "\n",
    "### Setting up the AI assistant \n",
    "If you'd like to be assisted by the AI assistent, you'll need to create your own account with OpenAI for the `tell me` command to work. Please refer to the [documentation](https://acceleratedscience.github.io/openad-docs/installation.html#ai-assistant) for instructions. Support for watsonx is coming soon."
   ]
  },
  {
   "cell_type": "code",
   "execution_count": null,
   "id": "b3368152-a56f-4b41-8e25-7d4868b16128",
   "metadata": {
    "tags": []
   },
   "outputs": [],
   "source": [
    "\n",
    "%openad tell me how would I create a workspace then search for ibuprofen using deepsearch then display them with a viewer\n"
   ]
  },
  {
   "cell_type": "markdown",
   "id": "b6904d45",
   "metadata": {},
   "source": [
    "<br>\n",
    "\n",
    "### Installing the toolkit\n",
    "If this is your first time using the DS4SD toolkit, you will first have to install it. By installing, the context will be set automatically."
   ]
  },
  {
   "cell_type": "code",
   "execution_count": null,
   "id": "fcd26620-2033-406c-ab83-215e8f785608",
   "metadata": {
    "tags": []
   },
   "outputs": [],
   "source": [
    "# %openad clear sessions\n",
    "%openad add toolkit DS4SD"
   ]
  },
  {
   "cell_type": "markdown",
   "id": "f3752c9f-ea9c-4c13-b2b2-44cdc528af77",
   "metadata": {
    "tags": []
   },
   "source": [
    "<br>\n",
    "\n",
    "### Updating the toolkit\n",
    "If you've installed the Deep Search toolkit before, let's update it to ensure you're running the latest version."
   ]
  },
  {
   "cell_type": "code",
   "execution_count": null,
   "id": "1921293a-5791-4eca-ae1e-2f8e5854f5ce",
   "metadata": {},
   "outputs": [],
   "source": [
    "# %openad clear sessions\n",
    "%openad update toolkit DS4SD"
   ]
  },
  {
   "cell_type": "markdown",
   "id": "edffbebd",
   "metadata": {},
   "source": [
    "Now let's set the context to DS4SD."
   ]
  },
  {
   "cell_type": "code",
   "execution_count": null,
   "id": "70d496b5-2aff-46d8-a014-c12984d750a4",
   "metadata": {
    "tags": []
   },
   "outputs": [],
   "source": [
    "%openad set context DS4SD"
   ]
  },
  {
   "cell_type": "markdown",
   "id": "48c36f60-35f6-42ec-957f-f5fdb43de894",
   "metadata": {},
   "source": [
    "If you ever want to check what context or workspace you are in, you can run the command below."
   ]
  },
  {
   "cell_type": "code",
   "execution_count": null,
   "id": "76d1bf9a-9225-4cd7-98b2-98f9ed51c31f",
   "metadata": {
    "tags": []
   },
   "outputs": [],
   "source": [
    "%openad get status"
   ]
  },
  {
   "cell_type": "markdown",
   "id": "1ed401d5-35fd-4fc0-adf3-f331fe9fe610",
   "metadata": {},
   "source": [
    "<br>\n",
    "\n",
    "### Available DS4SD commands\n",
    "Let's list all available commands for this toolkit."
   ]
  },
  {
   "cell_type": "code",
   "execution_count": null,
   "id": "a83d54e3-2b6e-42e2-a49e-4bb72fa2808f",
   "metadata": {
    "tags": []
   },
   "outputs": [],
   "source": [
    "%openad ? DS4SD"
   ]
  },
  {
   "cell_type": "markdown",
   "id": "a7e1d598-f4a8-47f9-9c0c-0862f4b7b0d9",
   "metadata": {},
   "source": [
    "<br><br>\n",
    "\n",
    "## 2. Displaying Domains\n",
    "<hr>"
   ]
  },
  {
   "cell_type": "markdown",
   "id": "1d067616-1635-4987-b379-d987d6068f3a",
   "metadata": {},
   "source": [
    "<br>\n",
    "\n",
    "### Displaying all collections and domains\n",
    "<pre style=\"color:#eec;background:#2f2d3a;padding:20px;margin:0;border-radius:5px\">display all collections</pre>"
   ]
  },
  {
   "cell_type": "markdown",
   "id": "297ad269-fce6-423d-931b-e7750bfa2a8e",
   "metadata": {
    "tags": []
   },
   "source": [
    "This command will list all available collections in Deep Search."
   ]
  },
  {
   "cell_type": "code",
   "execution_count": null,
   "id": "de5a9caf-1bbc-4548-8af3-b1a2e829494a",
   "metadata": {
    "scrolled": true,
    "tags": []
   },
   "outputs": [],
   "source": [
    "%openad display all collections"
   ]
  },
  {
   "cell_type": "markdown",
   "id": "c8a4129a-023b-47a7-8486-da7a7e95c80b",
   "metadata": {
    "tags": []
   },
   "source": [
    "Any result tables can displayed and edited using the result commands."
   ]
  },
  {
   "cell_type": "code",
   "execution_count": null,
   "id": "9b72f480-022c-481b-85ba-9a9f46552cdf",
   "metadata": {
    "tags": []
   },
   "outputs": [],
   "source": [
    "%openad result open"
   ]
  },
  {
   "cell_type": "markdown",
   "id": "ba73763a",
   "metadata": {},
   "source": [
    "<br>\n",
    "\n",
    "### Search for relevant collections\n",
    "<pre style=\"color:#eec;background:#2f2d3a;padding:20px;margin:0;border-radius:5px\">display collection matches for '&lt;search_string&gt;' [ save as '&lt;filename.csv&gt;' ]</pre>"
   ]
  },
  {
   "cell_type": "markdown",
   "id": "4e1e17a7-3280-4ade-a362-a83a7eda0c11",
   "metadata": {},
   "source": [
    "This command lets you find out which collections hold documents that contain a given Deep Search search string."
   ]
  },
  {
   "cell_type": "code",
   "execution_count": null,
   "id": "70bc0e06-6780-48bc-bd98-d16073abf9a2",
   "metadata": {
    "tags": []
   },
   "outputs": [],
   "source": [
    "%openad display collection matches ?"
   ]
  },
  {
   "cell_type": "code",
   "execution_count": null,
   "id": "c1ca0f3c-b4d9-456b-9833-f6299dd46bf5",
   "metadata": {
    "tags": []
   },
   "outputs": [],
   "source": [
    "%openad display collection matches for 'carbon capture membrane'"
   ]
  },
  {
   "cell_type": "markdown",
   "id": "952d4f57",
   "metadata": {},
   "source": [
    "<br>\n",
    "\n",
    "### Display collections for a specific domain\n",
    "To see what domains are available, you can run `display all collections`"
   ]
  },
  {
   "cell_type": "code",
   "execution_count": null,
   "id": "d08d299a",
   "metadata": {
    "scrolled": true,
    "tags": []
   },
   "outputs": [],
   "source": [
    "%openad display collections for domain 'Business Insights'"
   ]
  },
  {
   "cell_type": "markdown",
   "id": "17aab893-250d-4f6e-b42f-9e69fdee9302",
   "metadata": {},
   "source": [
    "<br>\n",
    "\n",
    "### Subset collections by a set of domains\n",
    "Let's list all collection within a set list of domains."
   ]
  },
  {
   "cell_type": "code",
   "execution_count": null,
   "id": "70fbec40-7b8b-4384-9a21-7734cd263441",
   "metadata": {
    "tags": []
   },
   "outputs": [],
   "source": [
    "%openad display collections in domains from list [ 'Business Insights','Climate & Sustainability']"
   ]
  },
  {
   "cell_type": "markdown",
   "id": "98f21d84-b272-48f6-8b29-a4e561de5dc0",
   "metadata": {},
   "source": [
    "<br>\n",
    "\n",
    "### Get collection details\n",
    "You can drill into the details behind a collection to see its source, date and more."
   ]
  },
  {
   "cell_type": "code",
   "execution_count": null,
   "id": "d718d063-a4d6-4900-9239-77ed6cd5ee18",
   "metadata": {
    "tags": []
   },
   "outputs": [],
   "source": [
    "%openad display collection details 'ESG Reports'"
   ]
  },
  {
   "cell_type": "markdown",
   "id": "d7b57b2b-45a8-439a-8637-28c7732a1577",
   "metadata": {
    "tags": []
   },
   "source": [
    "<br><br>\n",
    "\n",
    "## 3. Searching a Collection\n",
    "<hr>\n",
    "<pre style=\"color:#eec;background:#2f2d3a;padding:20px;margin:0;border-radius:5px\">search collection '&lt;collection_name_or_key&gt;' for '&lt;search_string&gt;' [ using (page_size=&lt;int&gt; system_id=&lt;system_id&gt; edit_distance=&lt;integer&gt; display_first=&lt;integer&gt;) ] show (data | docs) [ estimate only | return as data | save as '&lt;filename.csv&gt;' ]</pre>"
   ]
  },
  {
   "cell_type": "markdown",
   "id": "eceff19d-24f2-40ea-a1be-4d2684e534fa",
   "metadata": {
    "tags": []
   },
   "source": [
    "This command allows you to execute a search against a variety of collections letting you to pull back documents with snippets highlighting the data mathcing the search criteria.\n",
    "\n",
    "Our examples will cover its simplest form plus a variety of options."
   ]
  },
  {
   "cell_type": "code",
   "execution_count": null,
   "id": "4729cd72-ca1f-4509-8f8c-01831a2359c0",
   "metadata": {},
   "outputs": [],
   "source": [
    "%openad search collection ?"
   ]
  },
  {
   "cell_type": "markdown",
   "id": "8bebbd32-a449-4155-9898-02c672e24e00",
   "metadata": {
    "tags": []
   },
   "source": [
    "<br><br>\n",
    "\n",
    "## <span style=\"color: green\">Example A:</span> Query arXiv for \"*power conversion efficiency*\"\n",
    "\n",
    "In this example we'll search for the input query in documents from the arXiv.org data collection. For each matched document we'll return the title, authors as well as the link to the original document on arXix.org\n",
    "\n",
    "#### What we'll cover:\n",
    "1. How to address a specific data collection\n",
    "2. How to choose which component of the documents should be returned\n",
    "3. How to iterate through the complete data collection by fetching page_size=50 results at the time"
   ]
  },
  {
   "cell_type": "markdown",
   "id": "fd3aa6c2-6bbe-4c24-8890-70f439067704",
   "metadata": {
    "tags": []
   },
   "source": [
    "<br>\n",
    "\n",
    "### Getting the result estimate\n",
    "\n",
    "First we will run and get an estimate of how many documents may appear in the search so we know we are pulling back a manageable amount."
   ]
  },
  {
   "cell_type": "code",
   "execution_count": null,
   "id": "4f492f6b-d7ab-4981-a81c-4ed42eb82c81",
   "metadata": {},
   "outputs": [],
   "source": [
    "%openad search collection 'arXiv abstracts' for 'ide(\"power conversion efficiency\" OR PCE) AND organ* ' show (docs) estimate only"
   ]
  },
  {
   "cell_type": "markdown",
   "id": "d52fd429-85b2-4f5d-a73a-1d3f37d1cbf3",
   "metadata": {},
   "source": [
    "<br>\n",
    "\n",
    "### Retrieving results\n",
    "Unless the `return as data` clause is set, results be returned as a ***pandas styler object*** which provides an enhanced snippet display of the data.\n",
    "\n",
    "The styler object can be displayed straightaway, or assigned to a variable. To extract the raw data from the dataframe, you can reference `df_styler.data`."
   ]
  },
  {
   "cell_type": "code",
   "execution_count": null,
   "id": "97e328f1-ac99-4d67-8517-64ca56dba2d5",
   "metadata": {
    "tags": []
   },
   "outputs": [],
   "source": [
    "df_styler = %openad search collection 'arXiv abstracts' for 'ide(\"power conversion efficiency\" OR PCE) AND organ* ' using \\\n",
    "(system_id=default edit_distance=20) show (data docs)"
   ]
  },
  {
   "cell_type": "markdown",
   "id": "1683041a-8cf5-418f-9232-5902b0ae4ef4",
   "metadata": {},
   "source": [
    "Now the data is store in our variable, we can display it in a next step. By right-clicking the cell's output, you can enable cell scrolling, which may be easier to review the output rather than it taking up the entire notebook."
   ]
  },
  {
   "cell_type": "code",
   "execution_count": null,
   "id": "ee2cc625-b015-4b2f-b097-0b9fa2f23946",
   "metadata": {
    "scrolled": true,
    "tags": []
   },
   "outputs": [],
   "source": [
    "df_styler"
   ]
  },
  {
   "cell_type": "markdown",
   "id": "42c838be-9fb3-4d3b-b624-80e2b2489322",
   "metadata": {},
   "source": [
    "<br>\n",
    "\n",
    "### Simply viewing the Results\n",
    "If the results are not stored in a variable, they will be displayed straightaway. Notice we are using the `page_size` and `edit_distance` options to finetune our results. You can try experiment with  different values for these options."
   ]
  },
  {
   "cell_type": "code",
   "execution_count": null,
   "id": "eb4c3915-4440-4e41-a3a0-b0952113909f",
   "metadata": {},
   "outputs": [],
   "source": [
    "%openad search collection 'arXiv abstracts' for ' \" carbon capture\" AND \"membrane\" ' using (page_size=10 edit_distance=5) show (data docs)"
   ]
  },
  {
   "cell_type": "markdown",
   "id": "af894515-2b5d-49cd-97f1-282714cc5d60",
   "metadata": {},
   "source": [
    "<br><br>\n",
    "\n",
    "## <span style=\"color: green\">Example B:</span> Search for \"_Ibuprofen_\" on PubChem\n",
    "\n",
    "In this example we'll search for all PubChem entries which contain the string _Ibuprofen_. In the results table we see the name of the chemical, its molecule SMILES and some properties such as the molecular weight and the solubility.\n"
   ]
  },
  {
   "cell_type": "code",
   "execution_count": null,
   "id": "a2c1e2c1-c938-48bb-baba-325620f71911",
   "metadata": {
    "scrolled": true,
    "tags": []
   },
   "outputs": [],
   "source": [
    "ibuprofen_df = %openad search collection 'pubchem' for 'Ibuprofen' SHOW (data) \n",
    "display(ibuprofen_df)"
   ]
  },
  {
   "cell_type": "markdown",
   "id": "2133fdd5-1533-4198-8bf9-5df1a0a3907d",
   "metadata": {},
   "source": [
    "<br>\n",
    "\n",
    "### Working with the results as data\n",
    "By using the `return as data` clause, results will be returned as a raw dataframe, which allows us to pass them to other utilities."
   ]
  },
  {
   "cell_type": "code",
   "execution_count": null,
   "id": "85a73d6c",
   "metadata": {
    "scrolled": true,
    "tags": []
   },
   "outputs": [],
   "source": [
    "my_mols = %openad search collection 'pubchem' for 'Ibuprofen' show (data) return as data"
   ]
  },
  {
   "cell_type": "code",
   "execution_count": null,
   "id": "4ea3362f-37ba-4080-aef1-f1061f1b7e33",
   "metadata": {
    "tags": []
   },
   "outputs": [],
   "source": [
    "%openad load molecules using dataframe my_mols"
   ]
  },
  {
   "cell_type": "code",
   "execution_count": null,
   "id": "9d5cf2d6-b1bb-4e43-8cd7-af27fc3d7ffc",
   "metadata": {
    "tags": []
   },
   "outputs": [],
   "source": [
    "%openad list molecules"
   ]
  },
  {
   "cell_type": "code",
   "execution_count": null,
   "id": "86fb8548-2b7e-4209-a75d-206bcbdd2e7e",
   "metadata": {
    "tags": []
   },
   "outputs": [],
   "source": [
    "%openad display molecule Mabuprofen"
   ]
  },
  {
   "cell_type": "markdown",
   "id": "46bb63ca-0c72-48d6-8918-ab2c9334a034",
   "metadata": {},
   "source": [
    "<br>\n",
    "\n",
    "### Larger sets of data"
   ]
  },
  {
   "cell_type": "code",
   "execution_count": null,
   "id": "c24ccd50-700c-444d-b2ba-75f29a10d8c1",
   "metadata": {
    "scrolled": true,
    "tags": []
   },
   "outputs": [],
   "source": [
    "%openad search collection 'pubchem' for 'pain' show (data)"
   ]
  },
  {
   "cell_type": "markdown",
   "id": "23a2f49d-27d8-4c49-bc3f-fd6edb13d7b1",
   "metadata": {},
   "source": [
    "Now let's edit the result set and rename the molecule Lorazepam"
   ]
  },
  {
   "cell_type": "code",
   "execution_count": null,
   "id": "cfa92e4c-cbf9-4fb9-9ecc-44af1441a853",
   "metadata": {
    "tags": []
   },
   "outputs": [],
   "source": [
    "%openad result open"
   ]
  },
  {
   "cell_type": "markdown",
   "id": "5600e4e7-c578-466d-ad75-c4beae59c4e6",
   "metadata": {},
   "source": [
    "Next we'll take the edited results and load them into our molecule working list"
   ]
  },
  {
   "cell_type": "code",
   "execution_count": null,
   "id": "4c2cbb9c-9dae-43a0-957a-25d349e8aa28",
   "metadata": {
    "tags": []
   },
   "outputs": [],
   "source": [
    "my_mols = %openad result as dataframe\n",
    "%openad load molecules using dataframe my_mols"
   ]
  },
  {
   "cell_type": "markdown",
   "id": "7f0007c8-74c5-4501-90db-6c932bc67231",
   "metadata": {},
   "source": [
    "Next we'll use the `show molecules` command to visualize and subset the results."
   ]
  },
  {
   "cell_type": "code",
   "execution_count": null,
   "id": "0860b63b-ec29-46cd-95a9-7006dccb2e3a",
   "metadata": {
    "tags": []
   },
   "outputs": [],
   "source": [
    "exp_mols = %openad export molecules\n",
    "\n",
    "selection = %openad show molecules using dataframe exp_mols as molsobject\n",
    "selection.display()"
   ]
  },
  {
   "cell_type": "code",
   "execution_count": null,
   "id": "5399436e-d010-497e-9afa-9a54c25b61d5",
   "metadata": {
    "tags": []
   },
   "outputs": [],
   "source": [
    "selection.get_selection()"
   ]
  },
  {
   "cell_type": "markdown",
   "id": "de6af186-a05b-4b17-846a-35c9131960bd",
   "metadata": {},
   "source": [
    "Next up, you could load this selection back into your working list if you wish.\n",
    "\n",
    "For this demo, we'll continue instead by displaying one of the molecules from our list."
   ]
  },
  {
   "cell_type": "code",
   "execution_count": null,
   "id": "665f36d7-3884-4597-96bb-c6f51c7123a7",
   "metadata": {
    "tags": []
   },
   "outputs": [],
   "source": [
    "%openad display mol Noscapine"
   ]
  },
  {
   "cell_type": "markdown",
   "id": "88006b59-5d61-47aa-accd-467ef63c6390",
   "metadata": {},
   "source": [
    "<br>\n",
    "\n",
    "### Visualizing the molecules\n",
    "<pre style=\"color:#eec;background:#2f2d3a;padding:20px;margin:0;border-radius:5px\">show molecules using ( file '&lt;mols_file&gt;' | dataframe &lt;dataframe&gt; ) [ save as '&lt;sdf_or_csv_file&gt;' | as molsobject ]</pre>"
   ]
  },
  {
   "cell_type": "markdown",
   "id": "205894c3-f319-4c83-9d5c-3899e90693ff",
   "metadata": {},
   "source": [
    "This command lets you visualize a list of molecules, and then subset them for further processing."
   ]
  },
  {
   "cell_type": "code",
   "execution_count": null,
   "id": "fb151216-5e05-4779-8ffb-33f94f7097da",
   "metadata": {
    "tags": []
   },
   "outputs": [],
   "source": [
    "%openad show molecules using ?"
   ]
  },
  {
   "cell_type": "markdown",
   "id": "2b2127c5",
   "metadata": {
    "tags": []
   },
   "source": [
    "In this example, we'll first search for molecular data records related to 'Ibuprofen', store the results as a dataframe in a variable, then pass it to `show molecules` to visualize the results."
   ]
  },
  {
   "cell_type": "code",
   "execution_count": null,
   "id": "95bc4bad-158a-41b2-99a6-a4b0b1c24360",
   "metadata": {
    "tags": []
   },
   "outputs": [],
   "source": [
    "my_df = %openad search collection 'pubchem' for 'Ibuprofen' show (data) return as data"
   ]
  },
  {
   "cell_type": "markdown",
   "id": "4aa8081c-e339-4bf5-9c2c-4f442cfb7db3",
   "metadata": {},
   "source": [
    "By using the `as molsobject` clause, we can access the selected molecules of the molecule grid for further processing."
   ]
  },
  {
   "cell_type": "code",
   "execution_count": null,
   "id": "79e93e24-a0e9-465b-8680-0fded813fbc9",
   "metadata": {
    "tags": []
   },
   "outputs": [],
   "source": [
    "my_mols = %openad show molecules using dataframe my_df as molsobject"
   ]
  },
  {
   "cell_type": "markdown",
   "id": "cf5c90d0",
   "metadata": {},
   "source": [
    "Now let's visualize the list of molecules and display the 'name' field under each molecule."
   ]
  },
  {
   "cell_type": "code",
   "execution_count": null,
   "id": "db773284-037e-4528-9022-7fe3f0f11b76",
   "metadata": {
    "tags": []
   },
   "outputs": [],
   "source": [
    "my_mols.display(**{'subset': ['NAME']})"
   ]
  },
  {
   "cell_type": "markdown",
   "id": "16bb52f0-8442-40ca-9d5a-89101511b914",
   "metadata": {},
   "source": [
    "Next, we can select one or more molecules and then run the snippet below to display them."
   ]
  },
  {
   "cell_type": "code",
   "execution_count": null,
   "id": "2e427648-8c73-4ce1-999f-774e53218423",
   "metadata": {
    "tags": []
   },
   "outputs": [],
   "source": [
    "my_mols.get_selection()"
   ]
  },
  {
   "cell_type": "markdown",
   "id": "1095a027-161c-4c91-894e-c320d573050a",
   "metadata": {},
   "source": [
    "<br><br>\n",
    "\n",
    "## 4. Searching Molecules\n",
    "<hr>"
   ]
  },
  {
   "cell_type": "markdown",
   "id": "f2b3ceb0-256a-4dc0-9878-8c413d2da1e4",
   "metadata": {},
   "source": [
    "<br>\n",
    "\n",
    "### Search for similar molecules\n",
    "<pre style=\"color:#eec;background:#2f2d3a;padding:20px;margin:0;border-radius:5px\">search for similar molecules to '&lt;smiles&gt;' [ save as '&lt;filename.csv&gt;' ]</pre>"
   ]
  },
  {
   "cell_type": "markdown",
   "id": "b9d74f8f-eced-4a75-9de3-897c6fd3891c",
   "metadata": {},
   "source": [
    "This command lets you search documents for any molecule that's similar to a given molecule."
   ]
  },
  {
   "cell_type": "code",
   "execution_count": null,
   "id": "ec7504dd-04b0-4439-993b-612874d7ec50",
   "metadata": {
    "tags": []
   },
   "outputs": [],
   "source": [
    "%openad search for similar ?"
   ]
  },
  {
   "cell_type": "code",
   "execution_count": null,
   "id": "e7c0dffb-4a8c-4064-85b2-e781f6fb5bc5",
   "metadata": {
    "scrolled": true,
    "tags": []
   },
   "outputs": [],
   "source": [
    "smiles_molecule='CC(C)(c1ccccn1)C(CC(=O)O)Nc1nc(-c2c[nH]c3ncc(Cl)cc23)c(C#N)cc1F'\n",
    "mols = %openad search for similar molecules to '{smiles_molecule}'  \n",
    "display(mols) "
   ]
  },
  {
   "cell_type": "markdown",
   "id": "1481c911-30ab-4265-8013-80014680115a",
   "metadata": {},
   "source": [
    "<br>\n",
    "\n",
    "### Search for patents containing a certain molecule"
   ]
  },
  {
   "cell_type": "markdown",
   "id": "097d5771",
   "metadata": {},
   "source": [
    "<pre style=\"color:#eec;background:#2f2d3a;padding:20px;margin:0;border-radius:5px\">search for patents containing molecule '&lt;smiles&gt;' | '&lt;inchi&gt;' | '&lt;inchikey&gt;' [ save as '&lt;filename.csv&gt;' ]</pre>"
   ]
  },
  {
   "cell_type": "markdown",
   "id": "d9b1d970-0045-4a50-9a33-1661cfdf821a",
   "metadata": {},
   "source": [
    "This command allows you to find patents that mention a specific molecule."
   ]
  },
  {
   "cell_type": "code",
   "execution_count": null,
   "id": "5fb99bc3-b710-4cf9-bd42-8f40ec7650a6",
   "metadata": {},
   "outputs": [],
   "source": [
    "%openad search for patents ?"
   ]
  },
  {
   "cell_type": "code",
   "execution_count": null,
   "id": "01fa5e6e-7e5d-4fc5-94ca-164f7ec657bf",
   "metadata": {},
   "outputs": [],
   "source": [
    "patents = %openad search for patents containing molecule '{smiles_molecule}'\n",
    "display(patents)"
   ]
  },
  {
   "cell_type": "markdown",
   "id": "5ee77b87-3280-4695-9d25-e6a6a7c3e70c",
   "metadata": {},
   "source": [
    "<br>\n",
    "\n",
    "### Search for molecules in a list of patents\n",
    "<pre style=\"color:#eec;background:#2f2d3a;padding:20px;margin:0;border-radius:5px\">search for molecules in patents from list ['&lt;patent1&gt;', '&lt;patent2&gt;', ...] | dataframe &lt;dataframe_name&gt; | file '&lt;filename.csv&gt;' [ save as '&lt;filename.csv&gt;' ]</pre>"
   ]
  },
  {
   "cell_type": "markdown",
   "id": "3ce3d621",
   "metadata": {},
   "source": [
    "Continuing with our list of patents of interest, this command allows you to find out what other molecules are mentioned in them."
   ]
  },
  {
   "cell_type": "code",
   "execution_count": null,
   "id": "22ceba95-47b4-437a-8e41-02bdd0a2b989",
   "metadata": {
    "tags": []
   },
   "outputs": [],
   "source": [
    "%openad search for molecules in patents ?"
   ]
  },
  {
   "cell_type": "code",
   "execution_count": null,
   "id": "3f5251a2-9ae3-4cd1-9224-0d9c65c9ccf3",
   "metadata": {
    "scrolled": true,
    "tags": []
   },
   "outputs": [],
   "source": [
    "my_list = list(patents['PATENT ID'])\n",
    "my_frame =  %openad search for molecules in patents from list {my_list}\n",
    "display(my_frame)"
   ]
  },
  {
   "cell_type": "markdown",
   "id": "9110d933",
   "metadata": {},
   "source": [
    "Next, we can take the results and visualize them the same way we did before, using the `show molecules` command."
   ]
  },
  {
   "cell_type": "code",
   "execution_count": null,
   "id": "249a7814-e627-441c-a2cf-a6e19877a8c4",
   "metadata": {},
   "outputs": [],
   "source": [
    "%openad show molecules using dataframe my_frame"
   ]
  },
  {
   "cell_type": "markdown",
   "id": "1a42aec5-46e9-4073-8db4-b38123a2f271",
   "metadata": {},
   "source": [
    "<br>\n",
    "\n",
    "### Search for molecule substructures\n",
    "<pre style=\"color:#eec;background:#2f2d3a;padding:20px;margin:0;border-radius:5px\">search for substructure instances of '&lt;smiles&gt;' [ save as '&lt;filename.csv&gt;' ]</pre>"
   ]
  },
  {
   "cell_type": "markdown",
   "id": "cfbe4c79",
   "metadata": {},
   "source": [
    "This command lets you find molecules containing certain substructures as defined by a SMILES string."
   ]
  },
  {
   "cell_type": "code",
   "execution_count": null,
   "id": "52bccd98-a3df-4433-a595-5eb57fd4ff99",
   "metadata": {},
   "outputs": [],
   "source": [
    "%openad search for substructure instances ?"
   ]
  },
  {
   "cell_type": "markdown",
   "id": "ff8a2e7a",
   "metadata": {},
   "source": [
    "The example below will write the results to a file called 'my_mol.csv' in your current workspace."
   ]
  },
  {
   "cell_type": "code",
   "execution_count": null,
   "id": "b769b3a5-3f65-4115-bd70-611724433120",
   "metadata": {},
   "outputs": [],
   "source": [
    "%openad search for substructure instances of 'C1(C(=C)C([O-])C1C)=O' save as 'my_mol'"
   ]
  }
 ],
 "metadata": {
  "kernelspec": {
   "display_name": "ad-venv",
   "language": "python",
   "name": "ad-venv"
  },
  "language_info": {
   "codemirror_mode": {
    "name": "ipython",
    "version": 3
   },
   "file_extension": ".py",
   "mimetype": "text/x-python",
   "name": "python",
   "nbconvert_exporter": "python",
   "pygments_lexer": "ipython3",
   "version": "3.11.3"
  }
 },
 "nbformat": 4,
 "nbformat_minor": 5
}
