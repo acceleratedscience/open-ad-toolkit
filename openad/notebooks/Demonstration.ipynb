{
 "cells": [
  {
   "cell_type": "code",
   "execution_count": null,
   "id": "cfd86401-463d-4ba2-92ba-d4764ef72ee4",
   "metadata": {
    "jupyter": {
     "source_hidden": true
    },
    "tags": []
   },
   "outputs": [],
   "source": [
    "import sys\n",
    "sys.path.append('./styles')\n",
    "from init_style import init\n",
    "init()"
   ]
  },
  {
   "cell_type": "markdown",
   "id": "327fb1db-8afc-4d72-b3fb-8074d1ecf4e4",
   "metadata": {},
   "source": [
    "<!-- Header banner -->\n",
    "<div class=\"banner\"><div>OpenAD Demonstration</div><b>OpenAD<span>Tutorial</span></b></div>"
   ]
  },
  {
   "cell_type": "markdown",
   "id": "8feab26e-1785-402f-83b0-9c3c5a524fc3",
   "metadata": {
    "tags": []
   },
   "source": [
    "# openad-OpenToolkit Demonstration"
   ]
  },
  {
   "cell_type": "markdown",
   "id": "4d6fe33c-36e1-40bd-b8e1-434017a704eb",
   "metadata": {},
   "source": [
    "## Working with OpenAD Magic Commands\n",
    "\n",
    "When using Magic commands to access the Openad toolkit you have 2 options \n",
    "\n",
    "1. `%openad` provides a simple user interface that provides styled and formatted objects back to the notebook. Tables use pandas Dataframe Styler object. These can be converted back to data frame objects using `.data` on the object or using the in memory assistant which will copy the last result to a file , dataframe or to the dataviewer.\n",
    "  When this is available you will see `Next up, you can run: result open/edit/copy/display/as dataframe/save [as '<filename.csv>']` in the output.\n",
    "  \n",
    "  This magic command is the recommended version to use as it willprovide all warning and results visually.\n",
    "  \n",
    "2. `%openadd` is the second form that allows you to return api style results in dataframe or list formats that can be used programatically for functions or flows in your notebook. This is good for prebuilt notebook process flows."
   ]
  },
  {
   "cell_type": "markdown",
   "id": "bc76c3cb-4c43-4bda-9ad7-d66e14b6ba42",
   "metadata": {},
   "source": [
    "# ***What Commands Are Available  ?***"
   ]
  },
  {
   "cell_type": "markdown",
   "id": "b1a5d503",
   "metadata": {},
   "source": [
    "To learn what commands available you simply need to enter a `?` at the command line or at a magic command to list avialable commands"
   ]
  },
  {
   "cell_type": "code",
   "execution_count": 2,
   "id": "dd832ca1-f667-4f54-9a0c-88bb3c0b9799",
   "metadata": {
    "tags": []
   },
   "outputs": [
    {
     "data": {
      "text/markdown": [
       "## Available Commands - Main\n",
       "\n",
       "Macromolecules: <br> \n",
       "`show mmol|protein <fasta> | '<pdb_id>'` <br> \n",
       "\n",
       "General: <br> \n",
       "`openad` <br> \n",
       "`get status` <br> \n",
       "`display history ` <br> \n",
       "`clear sessions` <br> \n",
       "\n",
       "Workspaces: <br> \n",
       "`set workspace <workspace_name>` <br> \n",
       "`get workspace [ <workspace_name> ]` <br> \n",
       "`create workspace <workspace_name> [ description('<description>') on path '<path>' ]` <br> \n",
       "`remove workspace <workspace_name> ` <br> \n",
       "`list workspaces` <br> \n",
       "\n",
       "Toolkits: <br> \n",
       "`ds4sd` <br> \n",
       "`rxn` <br> \n",
       "`list toolkits` <br> \n",
       "`list all toolkits` <br> \n",
       "`add toolkit <toolkit_name>` <br> \n",
       "`remove toolkit <toolkit_name>` <br> \n",
       "`update toolkit <toolkit_name>` <br> \n",
       "`update all toolkits` <br> \n",
       "`set context <toolkit_name> [ reset ]` <br> \n",
       "`get context` <br> \n",
       "`unset context` <br> \n",
       "\n",
       "Runs: <br> \n",
       "`create run` <br> \n",
       "`remove run <run_name>` <br> \n",
       "`save run as <run_name>` <br> \n",
       "`run <run_name>` <br> \n",
       "`list runs` <br> \n",
       "`display run <run_name>` <br> \n",
       "\n",
       "Utility: <br> \n",
       "`display data '<filename.csv>'` <br> \n",
       "`  -> result save [as '<filename.csv>']` <br> \n",
       "`  -> result open` <br> \n",
       "`  -> result edit` <br> \n",
       "`  -> result copy` <br> \n",
       "`  -> result display` <br> \n",
       "`  -> result as dataframe` <br> \n",
       "\n",
       "GUI: <br> \n",
       "`install gui` <br> \n",
       "`launch gui` <br> \n",
       "`restart gui` <br> \n",
       "`quit gui` <br> \n",
       "\n",
       "LLM: <br> \n",
       "`tell me <how to do xyz>` <br> \n",
       "`set llm  <language_model_name>` <br> \n",
       "`clear llm auth` <br> \n",
       "\n",
       "File System: <br> \n",
       "`list files [ path ]` <br> \n",
       "`import from '<external_source_file>' to '<workspace_file>'` <br> \n",
       "`export from '<workspace_file>' to '<external_file>'` <br> \n",
       "`copy file '<workspace_file>' to '<other_workspace_name>'` <br> \n",
       "`remove '<filename>'` <br> \n",
       "`open '<filename>'` <br> \n",
       "\n",
       "Help: <br> \n",
       "`intro` <br> \n",
       "`docs` <br> \n",
       "`?` <br> \n",
       "`? ...`   --> List all commands containing \"...\" <br> \n",
       "`... ?`   --> List all commands starting with \"...\" <br> \n",
       "\n",
       "Model: <br> \n",
       "`model auth list` <br> \n",
       "`model auth add group '<auth_group>'|<auth_group> with '<api_key>'` <br> \n",
       "`model auth remove group '<auth_group>' | <auth_group>` <br> \n",
       "`model auth add service '<service_name>'|,service_name> to group '<auth_group>'|<auth_group>` <br> \n",
       "`model auth remove service '<service_name>'|<service_name>` <br> \n",
       "`model service status` <br> \n",
       "`model service describe '<service_name>'|<service_name>` <br> \n",
       "`model catalog list` <br> \n",
       "`uncatalog model service '<service_name>'|<service_name>` <br> \n",
       "`catalog model service from (remote) '<path> or <github> or <service_url>' as  '<service_name>'|<service_name>   USING (<parameter>=<value> <parameter>=<value>)` <br> \n",
       "`model service up '<service_name>'|<service_name> [no_gpu]}` <br> \n",
       "`model service local up '<service_name>'|<service_name> ` <br> \n",
       "`model service down '<service_name>'|<service_name>` <br> \n",
       "`get model service '<service_name>'|<service_name> result '<result_id>' ` <br> \n",
       "\n",
       "Small Molecules: <br> \n",
       "`display molecule|mol <name> | <smiles> | <inchi> | <inchikey> | <cid>` <br> \n",
       "`show molecule|mol <name> | <smiles> | <inchi> | <inchikey> | <cid>` <br> \n",
       "`show molset|molecule-set '<molset_or_sdf_or_smi_path>' | using dataframe <dataframe>` <br> \n",
       "`@(<name> | <smiles> | <inchi> | <inchikey> | <cid>)>><molecule_property_name>` <br> \n",
       "`export molecule|mol <name> | <smiles> | <inchi> | <inchikey> | <cid> [ as file ]` <br> \n",
       "\n",
       "Molecule Working Set: <br> \n",
       "`add molecule|mol <name> | <smiles> | <inchi> | <inchikey> | <cid> [ as '<name>' ] [ basic ] [ force ]` <br> \n",
       "`remove molecule|mol <name> | <smiles> | <inchi> | <inchikey> | <cid> [ force ]` <br> \n",
       "`list molecules|mols` <br> \n",
       "`show molecules|mols` <br> \n",
       "`enrich molecules|mols with analysis` <br> \n",
       "`clear analysis cache` <br> \n",
       "`display sources <name> | <smiles> | <inchi> | <inchikey> | <cid>` <br> \n",
       "`rename molecule|mol <molecule_identifer_string> as <molecule_name>` <br> \n",
       "`load molecules|mols from file '<filename.molset.json|sdf|csv|smi>' [ enrich ] [ append ]` <br> \n",
       "`load molecules|mols from dataframe <dataframe> [ enrich ] [ append ]` <br> \n",
       "`merge molecules|mols data from dataframe <dataframe> [ enrich ]` <br> \n",
       "`export molecules|mols [ as '<filename.molset.json|sdf|csv|smi>' ]` <br> \n",
       "`clear molecules|mols [ force ]`\n",
       "\n",
       "\n",
       "\n",
       "## Available Commands - DS4SD\n",
       "\n",
       "Search Molecules: <br> \n",
       "`search for similar molecules to '<smiles>' [ save as '<filename.csv>' ]` <br> \n",
       "`search for molecules in patents from list ['<patent1>', '<patent2>', ...] | dataframe <dataframe_name> | file '<filename.csv>' [ save as '<filename.csv>' ]` <br> \n",
       "`search for patents containing molecule '<smiles>' | '<inchi>' | '<inchikey>' [ save as '<filename.csv>' ]` <br> \n",
       "`search for substructure instances of '<smiles>' [ save as '<filename.csv>' ]` <br> \n",
       "\n",
       "Search Collections: <br> \n",
       "`search collection '<collection_name_or_key>' for '<search_string>' [ using (page_size=<int> system_id=<system_id> edit_distance=<integer> display_first=<integer>) ] show (data | docs) [ estimate only | return as data | save as '<filename.csv>' ]` <br> \n",
       "`display collection matches for '<search_string>' [ save as '<filename.csv>' ]` <br> \n",
       "\n",
       "Collections: <br> \n",
       "`display collections in domains from list <list_of_domains> [ save as '<filename.csv>' ] ` <br> \n",
       "`display all collections [ save as '<filename.csv>' ]` <br> \n",
       "`display collections for domain '<domain_name>' ` <br> \n",
       "`display collection details '<collection_name_or_key>'` <br> \n",
       "\n",
       " i  <span style=\"color: #ccc\">To learn more about the DS4SD toolkit, run `ds4sd`.</span> <br> \n"
      ],
      "text/plain": [
       "<IPython.core.display.Markdown object>"
      ]
     },
     "execution_count": 2,
     "metadata": {},
     "output_type": "execute_result"
    }
   ],
   "source": [
    "%openad ?"
   ]
  },
  {
   "cell_type": "markdown",
   "id": "54cfb805-91b2-4723-9b2e-c82aa63adaf2",
   "metadata": {},
   "source": [
    "# ***Individual Toolkits Help***"
   ]
  },
  {
   "cell_type": "markdown",
   "id": "d1c3c1f1",
   "metadata": {},
   "source": [
    "To look at the help purely for a specific toolkit, you simply need to ensure the toolkit is added then run the following."
   ]
  },
  {
   "cell_type": "markdown",
   "id": "bf8a6846",
   "metadata": {},
   "source": [
    "%openad add toolkit rxn"
   ]
  },
  {
   "cell_type": "code",
   "execution_count": 3,
   "id": "df17751f-3059-47a9-ac78-daea954f6d8a",
   "metadata": {
    "tags": []
   },
   "outputs": [
    {
     "data": {
      "text/markdown": [
       "## Available Commands - RXN\n",
       "\n",
       "General: <br> \n",
       "`interpret recipe '<recipe_paragraph>' | '<txt_filename>' ` <br> \n",
       "`list rxn models` <br> \n",
       "\n",
       "Retrosynthesis: <br> \n",
       "`predict retrosynthesis '<smiles>' [ using (<parameter>=<value> <parameter>=<value>) ]` <br> \n",
       "\n",
       "Prediction: <br> \n",
       "`predict reaction in batch from dataframe <dataframe_name> | file '<filename.csv>' | list ['<smiles>.<smiles>','<smiles>.<smiles>'] [ using (ai_model='<ai_model>') ] [ use_saved ]` <br> \n",
       "`predict reaction '<smiles>.<smiles>' [ using (ai_model='<ai_model>') ] [ use_saved ]` <br> \n",
       "`predict reaction topn in batch from dataframe <dataframe_name> | file '<filename.csv>' | list ['<smiles>.<smiles>','<smiles>.<smiles>'] [ using (topn=<integer> ai_model='<ai_model>') ] [ use_saved ]` <br> \n",
       "\n",
       " i  <span style=\"color: #ccc\">To learn more about the RXN toolkit, run `rxn`.</span> <br> \n"
      ],
      "text/plain": [
       "<IPython.core.display.Markdown object>"
      ]
     },
     "execution_count": 3,
     "metadata": {},
     "output_type": "execute_result"
    }
   ],
   "source": [
    "%openad ? rxn"
   ]
  },
  {
   "cell_type": "code",
   "execution_count": 4,
   "id": "dca73a7c-0e28-4bc9-a7ee-c8a18dbe3af0",
   "metadata": {
    "tags": []
   },
   "outputs": [
    {
     "data": {
      "text/markdown": [
       "<span style=\"color: #dc0\">Terminate all other sessions? <br> \n",
       "<span style=\"color: #ccc\">Make sure you don't have any crucial processes running in other windows</span></span> <br> \n"
      ],
      "text/plain": [
       "<IPython.core.display.Markdown object>"
      ]
     },
     "metadata": {},
     "output_type": "display_data"
    },
    {
     "name": "stdin",
     "output_type": "stream",
     "text": [
      "(y/n):  y\n"
     ]
    },
    {
     "data": {
      "text/markdown": [
       "<span style=\"color: #090\">All sessions have been cleared</span> <br> \n"
      ],
      "text/plain": [
       "<IPython.core.display.Markdown object>"
      ]
     },
     "metadata": {},
     "output_type": "display_data"
    },
    {
     "data": {
      "text/markdown": [
       "<span style=\"color: #090\">The <span style=\"color: #dc0\">DS4SD</span> toolkit was removed</span> <br> \n"
      ],
      "text/plain": [
       "<IPython.core.display.Markdown object>"
      ]
     },
     "metadata": {},
     "output_type": "display_data"
    },
    {
     "data": {
      "text/markdown": [
       "<span style=\"color: #090\">The <span style=\"color: #dc0\">RXN</span> toolkit was removed</span> <br> \n"
      ],
      "text/plain": [
       "<IPython.core.display.Markdown object>"
      ]
     },
     "metadata": {},
     "output_type": "display_data"
    },
    {
     "data": {
      "text/markdown": [
       "<span style=\"color: #090\">You successfully logged in to <span style=\"color: #dc0\">DS4SD</span></span> <br> \n",
       "<span style=\"color: #ccc\">Your access token expires on Wed Dec 11, 2024  at 20:55</span> <br> \n"
      ],
      "text/plain": [
       "<IPython.core.display.Markdown object>"
      ]
     },
     "metadata": {},
     "output_type": "display_data"
    },
    {
     "data": {
      "text/markdown": [
       "<span style=\"color: #090\">The <span style=\"color: #dc0\">DS4SD</span> toolkit was successfully installed</span> <br> \n",
       "<span style=\"color: #ccc\">To see what you can do, run `? ds4sd`</span> <br> \n"
      ],
      "text/plain": [
       "<IPython.core.display.Markdown object>"
      ]
     },
     "metadata": {},
     "output_type": "display_data"
    },
    {
     "data": {
      "text/markdown": [
       "<span style=\"color: #090\">You successfully logged in to <span style=\"color: #dc0\">RXN</span></span> <br> \n",
       "<span style=\"color: #ccc\">Your access token does not have an expiration date</span> <br> \n"
      ],
      "text/plain": [
       "<IPython.core.display.Markdown object>"
      ]
     },
     "metadata": {},
     "output_type": "display_data"
    },
    {
     "data": {
      "text/markdown": [
       "<span style=\"color: #090\">The <span style=\"color: #dc0\">RXN</span> toolkit was successfully installed</span> <br> \n",
       "<span style=\"color: #ccc\">To see what you can do, run `? rxn`</span> <br> \n"
      ],
      "text/plain": [
       "<IPython.core.display.Markdown object>"
      ]
     },
     "metadata": {},
     "output_type": "display_data"
    },
    {
     "data": {
      "text/markdown": [
       "<span style=\"color: #090\">You successfully logged in to <span style=\"color: #dc0\">DS4SD</span></span> <br> \n",
       "<span style=\"color: #ccc\">Your access token expires on Wed Dec 11, 2024  at 20:55</span> <br> \n"
      ],
      "text/plain": [
       "<IPython.core.display.Markdown object>"
      ]
     },
     "metadata": {},
     "output_type": "display_data"
    }
   ],
   "source": [
    "%openad clear sessions\n",
    "%openad remove toolkit ds4sd\n",
    "%openad remove toolkit rxn\n",
    "%openad add toolkit ds4sd\n",
    "%openad add toolkit rxn\n",
    "%openad set context ds4sd"
   ]
  },
  {
   "cell_type": "markdown",
   "id": "da1a631c-44ce-4ff8-a071-90b140380877",
   "metadata": {},
   "source": [
    "# ***Working Within the Open ToolKit Environment***"
   ]
  },
  {
   "cell_type": "markdown",
   "id": "0e4dd088",
   "metadata": {},
   "source": [
    "There are a Range of different commands that can be run to navigate through the toolkit, looking at `workspaces`, `toolkits`, `files` and `runs` within `workspaces` etc.<br> For example:"
   ]
  },
  {
   "cell_type": "code",
   "execution_count": 5,
   "id": "162edbdd-3469-468c-94db-bbc59c87e07b",
   "metadata": {
    "tags": []
   },
   "outputs": [
    {
     "data": {
      "text/markdown": [
       "<span style=\"color: #ccc\">To see what you can do with a workspace, run `? workspace`.</span> <br> \n"
      ],
      "text/plain": [
       "<IPython.core.display.Markdown object>"
      ]
     },
     "metadata": {},
     "output_type": "display_data"
    },
    {
     "data": {
      "text/html": [
       "<style type=\"text/css\">\n",
       "</style>\n",
       "<table id=\"T_ca583\">\n",
       "  <thead>\n",
       "    <tr>\n",
       "      <th id=\"T_ca583_level0_col0\" class=\"col_heading level0 col0\" >Workspace</th>\n",
       "      <th id=\"T_ca583_level0_col1\" class=\"col_heading level0 col1\" >Description</th>\n",
       "    </tr>\n",
       "  </thead>\n",
       "  <tbody>\n",
       "    <tr>\n",
       "      <td id=\"T_ca583_row0_col0\" class=\"data row0 col0\" >* DEFAULT</td>\n",
       "      <td id=\"T_ca583_row0_col1\" class=\"data row0 col1\" >This is your default workspace.</td>\n",
       "    </tr>\n",
       "  </tbody>\n",
       "</table>\n"
      ],
      "text/plain": [
       "<pandas.io.formats.style.Styler at 0x1771ecac0>"
      ]
     },
     "execution_count": 5,
     "metadata": {},
     "output_type": "execute_result"
    }
   ],
   "source": [
    "%openad list workspaces"
   ]
  },
  {
   "cell_type": "code",
   "execution_count": 6,
   "id": "0b8cc971-0da1-4128-8345-9e8fd288d71b",
   "metadata": {
    "tags": []
   },
   "outputs": [
    {
     "data": {
      "text/html": [
       "<style type=\"text/css\">\n",
       "</style>\n",
       "<table id=\"T_fe594\">\n",
       "  <thead>\n",
       "    <tr>\n",
       "      <th id=\"T_fe594_level0_col0\" class=\"col_heading level0 col0\" >File Name</th>\n",
       "      <th id=\"T_fe594_level0_col1\" class=\"col_heading level0 col1\" >Size</th>\n",
       "      <th id=\"T_fe594_level0_col2\" class=\"col_heading level0 col2\" >Last Edited</th>\n",
       "    </tr>\n",
       "  </thead>\n",
       "  <tbody>\n",
       "    <tr>\n",
       "      <td id=\"T_fe594_row0_col0\" class=\"data row0 col0\" >_mols/</td>\n",
       "      <td id=\"T_fe594_row0_col1\" class=\"data row0 col1\" >None</td>\n",
       "      <td id=\"T_fe594_row0_col2\" class=\"data row0 col2\" >None</td>\n",
       "    </tr>\n",
       "    <tr>\n",
       "      <td id=\"T_fe594_row1_col0\" class=\"data row1 col0\" >_result_cache/</td>\n",
       "      <td id=\"T_fe594_row1_col1\" class=\"data row1 col1\" >None</td>\n",
       "      <td id=\"T_fe594_row1_col2\" class=\"data row1 col2\" >None</td>\n",
       "    </tr>\n",
       "    <tr>\n",
       "      <td id=\"T_fe594_row2_col0\" class=\"data row2 col0\" >_runs/</td>\n",
       "      <td id=\"T_fe594_row2_col1\" class=\"data row2 col1\" >None</td>\n",
       "      <td id=\"T_fe594_row2_col2\" class=\"data row2 col2\" >None</td>\n",
       "    </tr>\n",
       "    <tr>\n",
       "      <td id=\"T_fe594_row3_col0\" class=\"data row3 col0\" >a/</td>\n",
       "      <td id=\"T_fe594_row3_col1\" class=\"data row3 col1\" >None</td>\n",
       "      <td id=\"T_fe594_row3_col2\" class=\"data row3 col2\" >None</td>\n",
       "    </tr>\n",
       "    <tr>\n",
       "      <td id=\"T_fe594_row4_col0\" class=\"data row4 col0\" >carbohydrates/</td>\n",
       "      <td id=\"T_fe594_row4_col1\" class=\"data row4 col1\" >None</td>\n",
       "      <td id=\"T_fe594_row4_col2\" class=\"data row4 col2\" >None</td>\n",
       "    </tr>\n",
       "    <tr>\n",
       "      <td id=\"T_fe594_row5_col0\" class=\"data row5 col0\" >nucleic acid/</td>\n",
       "      <td id=\"T_fe594_row5_col1\" class=\"data row5 col1\" >None</td>\n",
       "      <td id=\"T_fe594_row5_col2\" class=\"data row5 col2\" >None</td>\n",
       "    </tr>\n",
       "    <tr>\n",
       "      <td id=\"T_fe594_row6_col0\" class=\"data row6 col0\" >proteins/</td>\n",
       "      <td id=\"T_fe594_row6_col1\" class=\"data row6 col1\" >None</td>\n",
       "      <td id=\"T_fe594_row6_col2\" class=\"data row6 col2\" >None</td>\n",
       "    </tr>\n",
       "    <tr>\n",
       "      <td id=\"T_fe594_row7_col0\" class=\"data row7 col0\" >-</td>\n",
       "      <td id=\"T_fe594_row7_col1\" class=\"data row7 col1\" >-</td>\n",
       "      <td id=\"T_fe594_row7_col2\" class=\"data row7 col2\" >-</td>\n",
       "    </tr>\n",
       "    <tr>\n",
       "      <td id=\"T_fe594_row8_col0\" class=\"data row8 col0\" >2,4-dimethylpentane.mol.json</td>\n",
       "      <td id=\"T_fe594_row8_col1\" class=\"data row8 col1\" >34.26 kB</td>\n",
       "      <td id=\"T_fe594_row8_col2\" class=\"data row8 col2\" >Mon Sep 16, 2024 - 17:15</td>\n",
       "    </tr>\n",
       "    <tr>\n",
       "      <td id=\"T_fe594_row9_col0\" class=\"data row9 col0\" >3-methylpentane.mol.json</td>\n",
       "      <td id=\"T_fe594_row9_col1\" class=\"data row9 col1\" >32.79 kB</td>\n",
       "      <td id=\"T_fe594_row9_col2\" class=\"data row9 col2\" >Mon Sep 16, 2024 - 17:15</td>\n",
       "    </tr>\n",
       "    <tr>\n",
       "      <td id=\"T_fe594_row10_col0\" class=\"data row10 col0\" >4-(2-aminoethyl)benzene-1,2-diol.json</td>\n",
       "      <td id=\"T_fe594_row10_col1\" class=\"data row10 col1\" >19.23 kB</td>\n",
       "      <td id=\"T_fe594_row10_col2\" class=\"data row10 col2\" >Fri Oct 04, 2024 - 01:12</td>\n",
       "    </tr>\n",
       "    <tr>\n",
       "      <td id=\"T_fe594_row11_col0\" class=\"data row11 col0\" >_molprop.csv</td>\n",
       "      <td id=\"T_fe594_row11_col1\" class=\"data row11 col1\" >0.06 kB</td>\n",
       "      <td id=\"T_fe594_row11_col2\" class=\"data row11 col2\" >Wed Oct 16, 2024 - 09:57</td>\n",
       "    </tr>\n",
       "    <tr>\n",
       "      <td id=\"T_fe594_row12_col0\" class=\"data row12 col0\" >a1.smol.json</td>\n",
       "      <td id=\"T_fe594_row12_col1\" class=\"data row12 col1\" >32.79 kB</td>\n",
       "      <td id=\"T_fe594_row12_col2\" class=\"data row12 col2\" >Fri Sep 20, 2024 - 14:02</td>\n",
       "    </tr>\n",
       "    <tr>\n",
       "      <td id=\"T_fe594_row13_col0\" class=\"data row13 col0\" >aaa.sdf</td>\n",
       "      <td id=\"T_fe594_row13_col1\" class=\"data row13 col1\" >0.94 kB</td>\n",
       "      <td id=\"T_fe594_row13_col2\" class=\"data row13 col2\" >Fri Sep 20, 2024 - 13:49</td>\n",
       "    </tr>\n",
       "    <tr>\n",
       "      <td id=\"T_fe594_row14_col0\" class=\"data row14 col0\" >aaa.smi</td>\n",
       "      <td id=\"T_fe594_row14_col1\" class=\"data row14 col1\" >0.14 kB</td>\n",
       "      <td id=\"T_fe594_row14_col2\" class=\"data row14 col2\" >Fri Sep 20, 2024 - 13:49</td>\n",
       "    </tr>\n",
       "    <tr>\n",
       "      <td id=\"T_fe594_row15_col0\" class=\"data row15 col0\" >all_collections-1.csv</td>\n",
       "      <td id=\"T_fe594_row15_col1\" class=\"data row15 col1\" >1.7 kB</td>\n",
       "      <td id=\"T_fe594_row15_col2\" class=\"data row15 col2\" >Tue Dec 10, 2024 - 15:18</td>\n",
       "    </tr>\n",
       "    <tr>\n",
       "      <td id=\"T_fe594_row16_col0\" class=\"data row16 col0\" >all_collections-2.csv</td>\n",
       "      <td id=\"T_fe594_row16_col1\" class=\"data row16 col1\" >1.7 kB</td>\n",
       "      <td id=\"T_fe594_row16_col2\" class=\"data row16 col2\" >Tue Dec 10, 2024 - 15:56</td>\n",
       "    </tr>\n",
       "    <tr>\n",
       "      <td id=\"T_fe594_row17_col0\" class=\"data row17 col0\" >all_collections-3.csv</td>\n",
       "      <td id=\"T_fe594_row17_col1\" class=\"data row17 col1\" >1.7 kB</td>\n",
       "      <td id=\"T_fe594_row17_col2\" class=\"data row17 col2\" >Tue Dec 10, 2024 - 18:16</td>\n",
       "    </tr>\n",
       "    <tr>\n",
       "      <td id=\"T_fe594_row18_col0\" class=\"data row18 col0\" >all_collections.csv</td>\n",
       "      <td id=\"T_fe594_row18_col1\" class=\"data row18 col1\" >1.7 kB</td>\n",
       "      <td id=\"T_fe594_row18_col2\" class=\"data row18 col2\" >Sun Dec 08, 2024 - 16:40</td>\n",
       "    </tr>\n",
       "    <tr>\n",
       "      <td id=\"T_fe594_row19_col0\" class=\"data row19 col0\" >all_domains-1.csv</td>\n",
       "      <td id=\"T_fe594_row19_col1\" class=\"data row19 col1\" >0.14 kB</td>\n",
       "      <td id=\"T_fe594_row19_col2\" class=\"data row19 col2\" >Tue Dec 10, 2024 - 15:19</td>\n",
       "    </tr>\n",
       "    <tr>\n",
       "      <td id=\"T_fe594_row20_col0\" class=\"data row20 col0\" >all_domains-2.csv</td>\n",
       "      <td id=\"T_fe594_row20_col1\" class=\"data row20 col1\" >0.14 kB</td>\n",
       "      <td id=\"T_fe594_row20_col2\" class=\"data row20 col2\" >Tue Dec 10, 2024 - 15:56</td>\n",
       "    </tr>\n",
       "    <tr>\n",
       "      <td id=\"T_fe594_row21_col0\" class=\"data row21 col0\" >all_domains-3.csv</td>\n",
       "      <td id=\"T_fe594_row21_col1\" class=\"data row21 col1\" >0.14 kB</td>\n",
       "      <td id=\"T_fe594_row21_col2\" class=\"data row21 col2\" >Tue Dec 10, 2024 - 18:16</td>\n",
       "    </tr>\n",
       "    <tr>\n",
       "      <td id=\"T_fe594_row22_col0\" class=\"data row22 col0\" >all_domains.csv</td>\n",
       "      <td id=\"T_fe594_row22_col1\" class=\"data row22 col1\" >0.14 kB</td>\n",
       "      <td id=\"T_fe594_row22_col2\" class=\"data row22 col2\" >Sun Dec 08, 2024 - 16:42</td>\n",
       "    </tr>\n",
       "    <tr>\n",
       "      <td id=\"T_fe594_row23_col0\" class=\"data row23 col0\" >base_molecules.csv</td>\n",
       "      <td id=\"T_fe594_row23_col1\" class=\"data row23 col1\" >77.39 kB</td>\n",
       "      <td id=\"T_fe594_row23_col2\" class=\"data row23 col2\" >Fri Oct 04, 2024 - 00:42</td>\n",
       "    </tr>\n",
       "    <tr>\n",
       "      <td id=\"T_fe594_row24_col0\" class=\"data row24 col0\" >base_molecules.molset.json</td>\n",
       "      <td id=\"T_fe594_row24_col1\" class=\"data row24 col1\" >0.51 MB</td>\n",
       "      <td id=\"T_fe594_row24_col2\" class=\"data row24 col2\" >Fri Sep 20, 2024 - 14:02</td>\n",
       "    </tr>\n",
       "    <tr>\n",
       "      <td id=\"T_fe594_row25_col0\" class=\"data row25 col0\" >base_molecules.sdf</td>\n",
       "      <td id=\"T_fe594_row25_col1\" class=\"data row25 col1\" >0.23 MB</td>\n",
       "      <td id=\"T_fe594_row25_col2\" class=\"data row25 col2\" >Tue Aug 06, 2024 - 18:41</td>\n",
       "    </tr>\n",
       "    <tr>\n",
       "      <td id=\"T_fe594_row26_col0\" class=\"data row26 col0\" >base_molecules.smi</td>\n",
       "      <td id=\"T_fe594_row26_col1\" class=\"data row26 col1\" >5.77 kB</td>\n",
       "      <td id=\"T_fe594_row26_col2\" class=\"data row26 col2\" >Mon Sep 16, 2024 - 18:41</td>\n",
       "    </tr>\n",
       "    <tr>\n",
       "      <td id=\"T_fe594_row27_col0\" class=\"data row27 col0\" >c6h6-beautiful.smol.json</td>\n",
       "      <td id=\"T_fe594_row27_col1\" class=\"data row27 col1\" >34.07 kB</td>\n",
       "      <td id=\"T_fe594_row27_col2\" class=\"data row27 col2\" >Wed Sep 18, 2024 - 13:39</td>\n",
       "    </tr>\n",
       "    <tr>\n",
       "      <td id=\"T_fe594_row28_col0\" class=\"data row28 col0\" >collections-1.csv</td>\n",
       "      <td id=\"T_fe594_row28_col1\" class=\"data row28 col1\" >1.71 kB</td>\n",
       "      <td id=\"T_fe594_row28_col2\" class=\"data row28 col2\" >Thu Dec 05, 2024 - 20:40</td>\n",
       "    </tr>\n",
       "    <tr>\n",
       "      <td id=\"T_fe594_row29_col0\" class=\"data row29 col0\" >collections-2.csv</td>\n",
       "      <td id=\"T_fe594_row29_col1\" class=\"data row29 col1\" >1.71 kB</td>\n",
       "      <td id=\"T_fe594_row29_col2\" class=\"data row29 col2\" >Thu Dec 05, 2024 - 20:41</td>\n",
       "    </tr>\n",
       "    <tr>\n",
       "      <td id=\"T_fe594_row30_col0\" class=\"data row30 col0\" >collections.csv</td>\n",
       "      <td id=\"T_fe594_row30_col1\" class=\"data row30 col1\" >1.71 kB</td>\n",
       "      <td id=\"T_fe594_row30_col2\" class=\"data row30 col2\" >Thu Dec 05, 2024 - 20:35</td>\n",
       "    </tr>\n",
       "    <tr>\n",
       "      <td id=\"T_fe594_row31_col0\" class=\"data row31 col0\" >collectionsx.csv</td>\n",
       "      <td id=\"T_fe594_row31_col1\" class=\"data row31 col1\" >1.71 kB</td>\n",
       "      <td id=\"T_fe594_row31_col2\" class=\"data row31 col2\" >Thu Dec 05, 2024 - 20:41</td>\n",
       "    </tr>\n",
       "    <tr>\n",
       "      <td id=\"T_fe594_row32_col0\" class=\"data row32 col0\" >cyclohexene.mol.json</td>\n",
       "      <td id=\"T_fe594_row32_col1\" class=\"data row32 col1\" >31.97 kB</td>\n",
       "      <td id=\"T_fe594_row32_col2\" class=\"data row32 col2\" >Fri Aug 09, 2024 - 18:39</td>\n",
       "    </tr>\n",
       "    <tr>\n",
       "      <td id=\"T_fe594_row33_col0\" class=\"data row33 col0\" >dopamine.json</td>\n",
       "      <td id=\"T_fe594_row33_col1\" class=\"data row33 col1\" >19.21 kB</td>\n",
       "      <td id=\"T_fe594_row33_col2\" class=\"data row33 col2\" >Fri Oct 04, 2024 - 01:12</td>\n",
       "    </tr>\n",
       "    <tr>\n",
       "      <td id=\"T_fe594_row34_col0\" class=\"data row34 col0\" >dopamine.smol.json</td>\n",
       "      <td id=\"T_fe594_row34_col1\" class=\"data row34 col1\" >19.2 kB</td>\n",
       "      <td id=\"T_fe594_row34_col2\" class=\"data row34 col2\" >Fri Oct 04, 2024 - 01:13</td>\n",
       "    </tr>\n",
       "    <tr>\n",
       "      <td id=\"T_fe594_row35_col0\" class=\"data row35 col0\" >dynorphin.smi</td>\n",
       "      <td id=\"T_fe594_row35_col1\" class=\"data row35 col1\" >0.26 kB</td>\n",
       "      <td id=\"T_fe594_row35_col2\" class=\"data row35 col2\" >Sat Oct 05, 2024 - 12:26</td>\n",
       "    </tr>\n",
       "    <tr>\n",
       "      <td id=\"T_fe594_row36_col0\" class=\"data row36 col0\" >foo.json</td>\n",
       "      <td id=\"T_fe594_row36_col1\" class=\"data row36 col1\" >19.2 kB</td>\n",
       "      <td id=\"T_fe594_row36_col2\" class=\"data row36 col2\" >Thu Sep 19, 2024 - 17:04</td>\n",
       "    </tr>\n",
       "    <tr>\n",
       "      <td id=\"T_fe594_row37_col0\" class=\"data row37 col0\" >foo.molset.json</td>\n",
       "      <td id=\"T_fe594_row37_col1\" class=\"data row37 col1\" >99.73 kB</td>\n",
       "      <td id=\"T_fe594_row37_col2\" class=\"data row37 col2\" >Wed Oct 02, 2024 - 16:22</td>\n",
       "    </tr>\n",
       "    <tr>\n",
       "      <td id=\"T_fe594_row38_col0\" class=\"data row38 col0\" >foo.sdf</td>\n",
       "      <td id=\"T_fe594_row38_col1\" class=\"data row38 col1\" >33.15 kB</td>\n",
       "      <td id=\"T_fe594_row38_col2\" class=\"data row38 col2\" >Wed Oct 02, 2024 - 16:22</td>\n",
       "    </tr>\n",
       "    <tr>\n",
       "      <td id=\"T_fe594_row39_col0\" class=\"data row39 col0\" >foobar.smi</td>\n",
       "      <td id=\"T_fe594_row39_col1\" class=\"data row39 col1\" >0.04 kB</td>\n",
       "      <td id=\"T_fe594_row39_col2\" class=\"data row39 col2\" >Thu Oct 03, 2024 - 23:29</td>\n",
       "    </tr>\n",
       "    <tr>\n",
       "      <td id=\"T_fe594_row40_col0\" class=\"data row40 col0\" >foobar1.csv</td>\n",
       "      <td id=\"T_fe594_row40_col1\" class=\"data row40 col1\" >0.6 kB</td>\n",
       "      <td id=\"T_fe594_row40_col2\" class=\"data row40 col2\" >Fri Nov 15, 2024 - 17:18</td>\n",
       "    </tr>\n",
       "    <tr>\n",
       "      <td id=\"T_fe594_row41_col0\" class=\"data row41 col0\" >foobar3.csv</td>\n",
       "      <td id=\"T_fe594_row41_col1\" class=\"data row41 col1\" >0.27 MB</td>\n",
       "      <td id=\"T_fe594_row41_col2\" class=\"data row41 col2\" >Fri Nov 15, 2024 - 17:30</td>\n",
       "    </tr>\n",
       "    <tr>\n",
       "      <td id=\"T_fe594_row42_col0\" class=\"data row42 col0\" >foobar4.smi</td>\n",
       "      <td id=\"T_fe594_row42_col1\" class=\"data row42 col1\" >0.94 kB</td>\n",
       "      <td id=\"T_fe594_row42_col2\" class=\"data row42 col2\" >Fri Nov 15, 2024 - 17:31</td>\n",
       "    </tr>\n",
       "    <tr>\n",
       "      <td id=\"T_fe594_row43_col0\" class=\"data row43 col0\" >foopbar2.molset.json</td>\n",
       "      <td id=\"T_fe594_row43_col1\" class=\"data row43 col1\" >0.95 MB</td>\n",
       "      <td id=\"T_fe594_row43_col2\" class=\"data row43 col2\" >Fri Nov 15, 2024 - 17:19</td>\n",
       "    </tr>\n",
       "    <tr>\n",
       "      <td id=\"T_fe594_row44_col0\" class=\"data row44 col0\" >for_testing.sdf</td>\n",
       "      <td id=\"T_fe594_row44_col1\" class=\"data row44 col1\" >0.23 MB</td>\n",
       "      <td id=\"T_fe594_row44_col2\" class=\"data row44 col2\" >Sat Oct 05, 2024 - 11:56</td>\n",
       "    </tr>\n",
       "    <tr>\n",
       "      <td id=\"T_fe594_row45_col0\" class=\"data row45 col0\" >geraniol.mol</td>\n",
       "      <td id=\"T_fe594_row45_col1\" class=\"data row45 col1\" >17.87 kB</td>\n",
       "      <td id=\"T_fe594_row45_col2\" class=\"data row45 col2\" >Sat Oct 05, 2024 - 20:03</td>\n",
       "    </tr>\n",
       "    <tr>\n",
       "      <td id=\"T_fe594_row46_col0\" class=\"data row46 col0\" >imported_base_molecules.sdf</td>\n",
       "      <td id=\"T_fe594_row46_col1\" class=\"data row46 col1\" >0.23 MB</td>\n",
       "      <td id=\"T_fe594_row46_col2\" class=\"data row46 col2\" >Tue Aug 06, 2024 - 16:52</td>\n",
       "    </tr>\n",
       "    <tr>\n",
       "      <td id=\"T_fe594_row47_col0\" class=\"data row47 col0\" >imported_molecules.csv</td>\n",
       "      <td id=\"T_fe594_row47_col1\" class=\"data row47 col1\" >18.93 kB</td>\n",
       "      <td id=\"T_fe594_row47_col2\" class=\"data row47 col2\" >Tue Aug 06, 2024 - 19:08</td>\n",
       "    </tr>\n",
       "    <tr>\n",
       "      <td id=\"T_fe594_row48_col0\" class=\"data row48 col0\" >jup_mols_export_test-1.csv</td>\n",
       "      <td id=\"T_fe594_row48_col1\" class=\"data row48 col1\" >1.88 kB</td>\n",
       "      <td id=\"T_fe594_row48_col2\" class=\"data row48 col2\" >Fri Oct 04, 2024 - 04:13</td>\n",
       "    </tr>\n",
       "    <tr>\n",
       "      <td id=\"T_fe594_row49_col0\" class=\"data row49 col0\" >jup_mols_export_test-1.molset.json</td>\n",
       "      <td id=\"T_fe594_row49_col1\" class=\"data row49 col1\" >14.45 kB</td>\n",
       "      <td id=\"T_fe594_row49_col2\" class=\"data row49 col2\" >Fri Oct 04, 2024 - 04:13</td>\n",
       "    </tr>\n",
       "    <tr>\n",
       "      <td id=\"T_fe594_row50_col0\" class=\"data row50 col0\" >jup_mols_export_test-1.sdf</td>\n",
       "      <td id=\"T_fe594_row50_col1\" class=\"data row50 col1\" >15.83 kB</td>\n",
       "      <td id=\"T_fe594_row50_col2\" class=\"data row50 col2\" >Fri Oct 04, 2024 - 04:13</td>\n",
       "    </tr>\n",
       "    <tr>\n",
       "      <td id=\"T_fe594_row51_col0\" class=\"data row51 col0\" >jup_mols_export_test-1.smi</td>\n",
       "      <td id=\"T_fe594_row51_col1\" class=\"data row51 col1\" >0.32 kB</td>\n",
       "      <td id=\"T_fe594_row51_col2\" class=\"data row51 col2\" >Fri Oct 04, 2024 - 04:13</td>\n",
       "    </tr>\n",
       "    <tr>\n",
       "      <td id=\"T_fe594_row52_col0\" class=\"data row52 col0\" >jup_mols_export_test.csv</td>\n",
       "      <td id=\"T_fe594_row52_col1\" class=\"data row52 col1\" >1.88 kB</td>\n",
       "      <td id=\"T_fe594_row52_col2\" class=\"data row52 col2\" >Fri Oct 04, 2024 - 04:13</td>\n",
       "    </tr>\n",
       "    <tr>\n",
       "      <td id=\"T_fe594_row53_col0\" class=\"data row53 col0\" >jup_mols_export_test.molset.json</td>\n",
       "      <td id=\"T_fe594_row53_col1\" class=\"data row53 col1\" >14.45 kB</td>\n",
       "      <td id=\"T_fe594_row53_col2\" class=\"data row53 col2\" >Fri Oct 04, 2024 - 04:13</td>\n",
       "    </tr>\n",
       "    <tr>\n",
       "      <td id=\"T_fe594_row54_col0\" class=\"data row54 col0\" >jup_mols_export_test.sdf</td>\n",
       "      <td id=\"T_fe594_row54_col1\" class=\"data row54 col1\" >15.83 kB</td>\n",
       "      <td id=\"T_fe594_row54_col2\" class=\"data row54 col2\" >Fri Oct 04, 2024 - 04:13</td>\n",
       "    </tr>\n",
       "    <tr>\n",
       "      <td id=\"T_fe594_row55_col0\" class=\"data row55 col0\" >jup_mols_export_test.smi</td>\n",
       "      <td id=\"T_fe594_row55_col1\" class=\"data row55 col1\" >0.32 kB</td>\n",
       "      <td id=\"T_fe594_row55_col2\" class=\"data row55 col2\" >Fri Oct 04, 2024 - 04:13</td>\n",
       "    </tr>\n",
       "    <tr>\n",
       "      <td id=\"T_fe594_row56_col0\" class=\"data row56 col0\" >merged_smol-v1.smol.json</td>\n",
       "      <td id=\"T_fe594_row56_col1\" class=\"data row56 col1\" >1.46 kB</td>\n",
       "      <td id=\"T_fe594_row56_col2\" class=\"data row56 col2\" >Fri Oct 04, 2024 - 16:54</td>\n",
       "    </tr>\n",
       "    <tr>\n",
       "      <td id=\"T_fe594_row57_col0\" class=\"data row57 col0\" >merged_smol.smol.json</td>\n",
       "      <td id=\"T_fe594_row57_col1\" class=\"data row57 col1\" >1.43 kB</td>\n",
       "      <td id=\"T_fe594_row57_col2\" class=\"data row57 col2\" >Fri Oct 04, 2024 - 17:00</td>\n",
       "    </tr>\n",
       "    <tr>\n",
       "      <td id=\"T_fe594_row58_col0\" class=\"data row58 col0\" >mol1.smol.json</td>\n",
       "      <td id=\"T_fe594_row58_col1\" class=\"data row58 col1\" >0.78 kB</td>\n",
       "      <td id=\"T_fe594_row58_col2\" class=\"data row58 col2\" >Fri Oct 04, 2024 - 16:58</td>\n",
       "    </tr>\n",
       "    <tr>\n",
       "      <td id=\"T_fe594_row59_col0\" class=\"data row59 col0\" >mol2.smol.json</td>\n",
       "      <td id=\"T_fe594_row59_col1\" class=\"data row59 col1\" >0.9 kB</td>\n",
       "      <td id=\"T_fe594_row59_col2\" class=\"data row59 col2\" >Fri Oct 04, 2024 - 17:00</td>\n",
       "    </tr>\n",
       "    <tr>\n",
       "      <td id=\"T_fe594_row60_col0\" class=\"data row60 col0\" >my_mol-1.csv</td>\n",
       "      <td id=\"T_fe594_row60_col1\" class=\"data row60 col1\" >3.1 kB</td>\n",
       "      <td id=\"T_fe594_row60_col2\" class=\"data row60 col2\" >Tue Dec 03, 2024 - 10:43</td>\n",
       "    </tr>\n",
       "    <tr>\n",
       "      <td id=\"T_fe594_row61_col0\" class=\"data row61 col0\" >my_mol-2.csv</td>\n",
       "      <td id=\"T_fe594_row61_col1\" class=\"data row61 col1\" >4.12 kB</td>\n",
       "      <td id=\"T_fe594_row61_col2\" class=\"data row61 col2\" >Sun Dec 08, 2024 - 16:37</td>\n",
       "    </tr>\n",
       "    <tr>\n",
       "      <td id=\"T_fe594_row62_col0\" class=\"data row62 col0\" >my_mol-3.csv</td>\n",
       "      <td id=\"T_fe594_row62_col1\" class=\"data row62 col1\" >4.04 kB</td>\n",
       "      <td id=\"T_fe594_row62_col2\" class=\"data row62 col2\" >Tue Dec 10, 2024 - 14:30</td>\n",
       "    </tr>\n",
       "    <tr>\n",
       "      <td id=\"T_fe594_row63_col0\" class=\"data row63 col0\" >my_mol-4.csv</td>\n",
       "      <td id=\"T_fe594_row63_col1\" class=\"data row63 col1\" >4.04 kB</td>\n",
       "      <td id=\"T_fe594_row63_col2\" class=\"data row63 col2\" >Tue Dec 10, 2024 - 15:15</td>\n",
       "    </tr>\n",
       "    <tr>\n",
       "      <td id=\"T_fe594_row64_col0\" class=\"data row64 col0\" >my_mol-5.csv</td>\n",
       "      <td id=\"T_fe594_row64_col1\" class=\"data row64 col1\" >3.43 kB</td>\n",
       "      <td id=\"T_fe594_row64_col2\" class=\"data row64 col2\" >Tue Dec 10, 2024 - 15:55</td>\n",
       "    </tr>\n",
       "    <tr>\n",
       "      <td id=\"T_fe594_row65_col0\" class=\"data row65 col0\" >my_mol-6.csv</td>\n",
       "      <td id=\"T_fe594_row65_col1\" class=\"data row65 col1\" >3.43 kB</td>\n",
       "      <td id=\"T_fe594_row65_col2\" class=\"data row65 col2\" >Tue Dec 10, 2024 - 18:16</td>\n",
       "    </tr>\n",
       "    <tr>\n",
       "      <td id=\"T_fe594_row66_col0\" class=\"data row66 col0\" >my_mol.csv</td>\n",
       "      <td id=\"T_fe594_row66_col1\" class=\"data row66 col1\" >3.32 kB</td>\n",
       "      <td id=\"T_fe594_row66_col2\" class=\"data row66 col2\" >Tue Dec 03, 2024 - 10:42</td>\n",
       "    </tr>\n",
       "    <tr>\n",
       "      <td id=\"T_fe594_row67_col0\" class=\"data row67 col0\" >my_patents-1.csv</td>\n",
       "      <td id=\"T_fe594_row67_col1\" class=\"data row67 col1\" >0.04 kB</td>\n",
       "      <td id=\"T_fe594_row67_col2\" class=\"data row67 col2\" >Tue Dec 10, 2024 - 15:01</td>\n",
       "    </tr>\n",
       "    <tr>\n",
       "      <td id=\"T_fe594_row68_col0\" class=\"data row68 col0\" >my_patents.csv</td>\n",
       "      <td id=\"T_fe594_row68_col1\" class=\"data row68 col1\" >0.04 kB</td>\n",
       "      <td id=\"T_fe594_row68_col2\" class=\"data row68 col2\" >Tue Dec 10, 2024 - 15:01</td>\n",
       "    </tr>\n",
       "    <tr>\n",
       "      <td id=\"T_fe594_row69_col0\" class=\"data row69 col0\" >my_patents_testfile.csv</td>\n",
       "      <td id=\"T_fe594_row69_col1\" class=\"data row69 col1\" >0.04 kB</td>\n",
       "      <td id=\"T_fe594_row69_col2\" class=\"data row69 col2\" >Tue Dec 10, 2024 - 15:08</td>\n",
       "    </tr>\n",
       "    <tr>\n",
       "      <td id=\"T_fe594_row70_col0\" class=\"data row70 col0\" >neurotransmitters.csv</td>\n",
       "      <td id=\"T_fe594_row70_col1\" class=\"data row70 col1\" >0.32 MB</td>\n",
       "      <td id=\"T_fe594_row70_col2\" class=\"data row70 col2\" >Sat Oct 05, 2024 - 12:10</td>\n",
       "    </tr>\n",
       "    <tr>\n",
       "      <td id=\"T_fe594_row71_col0\" class=\"data row71 col0\" >neurotransmitters.molset.json</td>\n",
       "      <td id=\"T_fe594_row71_col1\" class=\"data row71 col1\" >0.38 MB</td>\n",
       "      <td id=\"T_fe594_row71_col2\" class=\"data row71 col2\" >Sat Oct 05, 2024 - 12:10</td>\n",
       "    </tr>\n",
       "    <tr>\n",
       "      <td id=\"T_fe594_row72_col0\" class=\"data row72 col0\" >neurotransmitters.sdf</td>\n",
       "      <td id=\"T_fe594_row72_col1\" class=\"data row72 col1\" >0.37 MB</td>\n",
       "      <td id=\"T_fe594_row72_col2\" class=\"data row72 col2\" >Sat Oct 05, 2024 - 12:10</td>\n",
       "    </tr>\n",
       "    <tr>\n",
       "      <td id=\"T_fe594_row73_col0\" class=\"data row73 col0\" >neurotransmitters.smi</td>\n",
       "      <td id=\"T_fe594_row73_col1\" class=\"data row73 col1\" >0.9 kB</td>\n",
       "      <td id=\"T_fe594_row73_col2\" class=\"data row73 col2\" >Sat Oct 05, 2024 - 12:17</td>\n",
       "    </tr>\n",
       "    <tr>\n",
       "      <td id=\"T_fe594_row74_col0\" class=\"data row74 col0\" >patents-1.csv</td>\n",
       "      <td id=\"T_fe594_row74_col1\" class=\"data row74 col1\" >0.11 kB</td>\n",
       "      <td id=\"T_fe594_row74_col2\" class=\"data row74 col2\" >Mon Dec 02, 2024 - 19:31</td>\n",
       "    </tr>\n",
       "    <tr>\n",
       "      <td id=\"T_fe594_row75_col0\" class=\"data row75 col0\" >patents-10.csv</td>\n",
       "      <td id=\"T_fe594_row75_col1\" class=\"data row75 col1\" >0.11 kB</td>\n",
       "      <td id=\"T_fe594_row75_col2\" class=\"data row75 col2\" >Tue Dec 10, 2024 - 15:57</td>\n",
       "    </tr>\n",
       "    <tr>\n",
       "      <td id=\"T_fe594_row76_col0\" class=\"data row76 col0\" >patents-11.csv</td>\n",
       "      <td id=\"T_fe594_row76_col1\" class=\"data row76 col1\" >0.11 kB</td>\n",
       "      <td id=\"T_fe594_row76_col2\" class=\"data row76 col2\" >Tue Dec 10, 2024 - 18:17</td>\n",
       "    </tr>\n",
       "    <tr>\n",
       "      <td id=\"T_fe594_row77_col0\" class=\"data row77 col0\" >patents-12.csv</td>\n",
       "      <td id=\"T_fe594_row77_col1\" class=\"data row77 col1\" >0.11 kB</td>\n",
       "      <td id=\"T_fe594_row77_col2\" class=\"data row77 col2\" >Tue Dec 10, 2024 - 18:17</td>\n",
       "    </tr>\n",
       "    <tr>\n",
       "      <td id=\"T_fe594_row78_col0\" class=\"data row78 col0\" >patents-2.csv</td>\n",
       "      <td id=\"T_fe594_row78_col1\" class=\"data row78 col1\" >0.11 kB</td>\n",
       "      <td id=\"T_fe594_row78_col2\" class=\"data row78 col2\" >Mon Dec 02, 2024 - 19:33</td>\n",
       "    </tr>\n",
       "    <tr>\n",
       "      <td id=\"T_fe594_row79_col0\" class=\"data row79 col0\" >patents-3.csv</td>\n",
       "      <td id=\"T_fe594_row79_col1\" class=\"data row79 col1\" >0.11 kB</td>\n",
       "      <td id=\"T_fe594_row79_col2\" class=\"data row79 col2\" >Tue Dec 03, 2024 - 11:05</td>\n",
       "    </tr>\n",
       "    <tr>\n",
       "      <td id=\"T_fe594_row80_col0\" class=\"data row80 col0\" >patents-4.csv</td>\n",
       "      <td id=\"T_fe594_row80_col1\" class=\"data row80 col1\" >0.11 kB</td>\n",
       "      <td id=\"T_fe594_row80_col2\" class=\"data row80 col2\" >Sun Dec 08, 2024 - 16:53</td>\n",
       "    </tr>\n",
       "    <tr>\n",
       "      <td id=\"T_fe594_row81_col0\" class=\"data row81 col0\" >patents-5.csv</td>\n",
       "      <td id=\"T_fe594_row81_col1\" class=\"data row81 col1\" >0.11 kB</td>\n",
       "      <td id=\"T_fe594_row81_col2\" class=\"data row81 col2\" >Sun Dec 08, 2024 - 16:54</td>\n",
       "    </tr>\n",
       "    <tr>\n",
       "      <td id=\"T_fe594_row82_col0\" class=\"data row82 col0\" >patents-6.csv</td>\n",
       "      <td id=\"T_fe594_row82_col1\" class=\"data row82 col1\" >0.11 kB</td>\n",
       "      <td id=\"T_fe594_row82_col2\" class=\"data row82 col2\" >Sun Dec 08, 2024 - 16:55</td>\n",
       "    </tr>\n",
       "    <tr>\n",
       "      <td id=\"T_fe594_row83_col0\" class=\"data row83 col0\" >patents-7.csv</td>\n",
       "      <td id=\"T_fe594_row83_col1\" class=\"data row83 col1\" >0.11 kB</td>\n",
       "      <td id=\"T_fe594_row83_col2\" class=\"data row83 col2\" >Tue Dec 10, 2024 - 15:40</td>\n",
       "    </tr>\n",
       "    <tr>\n",
       "      <td id=\"T_fe594_row84_col0\" class=\"data row84 col0\" >patents-8.csv</td>\n",
       "      <td id=\"T_fe594_row84_col1\" class=\"data row84 col1\" >0.11 kB</td>\n",
       "      <td id=\"T_fe594_row84_col2\" class=\"data row84 col2\" >Tue Dec 10, 2024 - 15:41</td>\n",
       "    </tr>\n",
       "    <tr>\n",
       "      <td id=\"T_fe594_row85_col0\" class=\"data row85 col0\" >patents-9.csv</td>\n",
       "      <td id=\"T_fe594_row85_col1\" class=\"data row85 col1\" >0.11 kB</td>\n",
       "      <td id=\"T_fe594_row85_col2\" class=\"data row85 col2\" >Tue Dec 10, 2024 - 15:57</td>\n",
       "    </tr>\n",
       "    <tr>\n",
       "      <td id=\"T_fe594_row86_col0\" class=\"data row86 col0\" >patents.csv</td>\n",
       "      <td id=\"T_fe594_row86_col1\" class=\"data row86 col1\" >0.06 kB</td>\n",
       "      <td id=\"T_fe594_row86_col2\" class=\"data row86 col2\" >Mon Dec 02, 2024 - 14:23</td>\n",
       "    </tr>\n",
       "    <tr>\n",
       "      <td id=\"T_fe594_row87_col0\" class=\"data row87 col0\" >pfsa.csv</td>\n",
       "      <td id=\"T_fe594_row87_col1\" class=\"data row87 col1\" >1.58 kB</td>\n",
       "      <td id=\"T_fe594_row87_col2\" class=\"data row87 col2\" >Fri Sep 20, 2024 - 16:48</td>\n",
       "    </tr>\n",
       "    <tr>\n",
       "      <td id=\"T_fe594_row88_col0\" class=\"data row88 col0\" >sample.csv</td>\n",
       "      <td id=\"T_fe594_row88_col1\" class=\"data row88 col1\" >0.03 kB</td>\n",
       "      <td id=\"T_fe594_row88_col2\" class=\"data row88 col2\" >Sat Aug 03, 2024 - 01:40</td>\n",
       "    </tr>\n",
       "    <tr>\n",
       "      <td id=\"T_fe594_row89_col0\" class=\"data row89 col0\" >sample_data.csv</td>\n",
       "      <td id=\"T_fe594_row89_col1\" class=\"data row89 col1\" >5.13 kB</td>\n",
       "      <td id=\"T_fe594_row89_col2\" class=\"data row89 col2\" >Sun Oct 06, 2024 - 08:06</td>\n",
       "    </tr>\n",
       "    <tr>\n",
       "      <td id=\"T_fe594_row90_col0\" class=\"data row90 col0\" >serotonin.smol.json</td>\n",
       "      <td id=\"T_fe594_row90_col1\" class=\"data row90 col1\" >24.55 kB</td>\n",
       "      <td id=\"T_fe594_row90_col2\" class=\"data row90 col2\" >Wed Oct 02, 2024 - 12:52</td>\n",
       "    </tr>\n",
       "    <tr>\n",
       "      <td id=\"T_fe594_row91_col0\" class=\"data row91 col0\" >similar_mols-1.csv</td>\n",
       "      <td id=\"T_fe594_row91_col1\" class=\"data row91 col1\" >2.41 kB</td>\n",
       "      <td id=\"T_fe594_row91_col2\" class=\"data row91 col2\" >Mon Dec 02, 2024 - 19:02</td>\n",
       "    </tr>\n",
       "    <tr>\n",
       "      <td id=\"T_fe594_row92_col0\" class=\"data row92 col0\" >similar_mols-10.csv</td>\n",
       "      <td id=\"T_fe594_row92_col1\" class=\"data row92 col1\" >1.95 kB</td>\n",
       "      <td id=\"T_fe594_row92_col2\" class=\"data row92 col2\" >Tue Dec 10, 2024 - 18:15</td>\n",
       "    </tr>\n",
       "    <tr>\n",
       "      <td id=\"T_fe594_row93_col0\" class=\"data row93 col0\" >similar_mols-11.csv</td>\n",
       "      <td id=\"T_fe594_row93_col1\" class=\"data row93 col1\" >1.91 kB</td>\n",
       "      <td id=\"T_fe594_row93_col2\" class=\"data row93 col2\" >Tue Dec 10, 2024 - 18:15</td>\n",
       "    </tr>\n",
       "    <tr>\n",
       "      <td id=\"T_fe594_row94_col0\" class=\"data row94 col0\" >similar_mols-2.csv</td>\n",
       "      <td id=\"T_fe594_row94_col1\" class=\"data row94 col1\" >1.95 kB</td>\n",
       "      <td id=\"T_fe594_row94_col2\" class=\"data row94 col2\" >Sun Dec 08, 2024 - 16:28</td>\n",
       "    </tr>\n",
       "    <tr>\n",
       "      <td id=\"T_fe594_row95_col0\" class=\"data row95 col0\" >similar_mols-3.csv</td>\n",
       "      <td id=\"T_fe594_row95_col1\" class=\"data row95 col1\" >1.91 kB</td>\n",
       "      <td id=\"T_fe594_row95_col2\" class=\"data row95 col2\" >Sun Dec 08, 2024 - 16:28</td>\n",
       "    </tr>\n",
       "    <tr>\n",
       "      <td id=\"T_fe594_row96_col0\" class=\"data row96 col0\" >similar_mols-4.csv</td>\n",
       "      <td id=\"T_fe594_row96_col1\" class=\"data row96 col1\" >1.95 kB</td>\n",
       "      <td id=\"T_fe594_row96_col2\" class=\"data row96 col2\" >Tue Dec 10, 2024 - 14:01</td>\n",
       "    </tr>\n",
       "    <tr>\n",
       "      <td id=\"T_fe594_row97_col0\" class=\"data row97 col0\" >similar_mols-5.csv</td>\n",
       "      <td id=\"T_fe594_row97_col1\" class=\"data row97 col1\" >1.95 kB</td>\n",
       "      <td id=\"T_fe594_row97_col2\" class=\"data row97 col2\" >Tue Dec 10, 2024 - 14:25</td>\n",
       "    </tr>\n",
       "    <tr>\n",
       "      <td id=\"T_fe594_row98_col0\" class=\"data row98 col0\" >similar_mols-6.csv</td>\n",
       "      <td id=\"T_fe594_row98_col1\" class=\"data row98 col1\" >1.95 kB</td>\n",
       "      <td id=\"T_fe594_row98_col2\" class=\"data row98 col2\" >Tue Dec 10, 2024 - 15:14</td>\n",
       "    </tr>\n",
       "    <tr>\n",
       "      <td id=\"T_fe594_row99_col0\" class=\"data row99 col0\" >similar_mols-7.csv</td>\n",
       "      <td id=\"T_fe594_row99_col1\" class=\"data row99 col1\" >1.91 kB</td>\n",
       "      <td id=\"T_fe594_row99_col2\" class=\"data row99 col2\" >Tue Dec 10, 2024 - 15:14</td>\n",
       "    </tr>\n",
       "    <tr>\n",
       "      <td id=\"T_fe594_row100_col0\" class=\"data row100 col0\" >similar_mols-8.csv</td>\n",
       "      <td id=\"T_fe594_row100_col1\" class=\"data row100 col1\" >1.95 kB</td>\n",
       "      <td id=\"T_fe594_row100_col2\" class=\"data row100 col2\" >Tue Dec 10, 2024 - 15:55</td>\n",
       "    </tr>\n",
       "    <tr>\n",
       "      <td id=\"T_fe594_row101_col0\" class=\"data row101 col0\" >similar_mols-9.csv</td>\n",
       "      <td id=\"T_fe594_row101_col1\" class=\"data row101 col1\" >1.91 kB</td>\n",
       "      <td id=\"T_fe594_row101_col2\" class=\"data row101 col2\" >Tue Dec 10, 2024 - 15:55</td>\n",
       "    </tr>\n",
       "    <tr>\n",
       "      <td id=\"T_fe594_row102_col0\" class=\"data row102 col0\" >similar_mols.csv</td>\n",
       "      <td id=\"T_fe594_row102_col1\" class=\"data row102 col1\" >1.95 kB</td>\n",
       "      <td id=\"T_fe594_row102_col2\" class=\"data row102 col2\" >Fri Nov 29, 2024 - 13:08</td>\n",
       "    </tr>\n",
       "    <tr>\n",
       "      <td id=\"T_fe594_row103_col0\" class=\"data row103 col0\" >skatole.smol.json</td>\n",
       "      <td id=\"T_fe594_row103_col1\" class=\"data row103 col1\" >36.0 kB</td>\n",
       "      <td id=\"T_fe594_row103_col2\" class=\"data row103 col2\" >Sat Oct 05, 2024 - 20:04</td>\n",
       "    </tr>\n",
       "    <tr>\n",
       "      <td id=\"T_fe594_row104_col0\" class=\"data row104 col0\" >smol_data_for_merge.csv</td>\n",
       "      <td id=\"T_fe594_row104_col1\" class=\"data row104 col1\" >0.53 kB</td>\n",
       "      <td id=\"T_fe594_row104_col2\" class=\"data row104 col2\" >Fri Oct 04, 2024 - 03:45</td>\n",
       "    </tr>\n",
       "    <tr>\n",
       "      <td id=\"T_fe594_row105_col0\" class=\"data row105 col0\" >smol_export-1.csv</td>\n",
       "      <td id=\"T_fe594_row105_col1\" class=\"data row105 col1\" >27.43 kB</td>\n",
       "      <td id=\"T_fe594_row105_col2\" class=\"data row105 col2\" >Thu Oct 03, 2024 - 23:28</td>\n",
       "    </tr>\n",
       "    <tr>\n",
       "      <td id=\"T_fe594_row106_col0\" class=\"data row106 col0\" >smol_export-1.molset.json</td>\n",
       "      <td id=\"T_fe594_row106_col1\" class=\"data row106 col1\" >0.14 MB</td>\n",
       "      <td id=\"T_fe594_row106_col2\" class=\"data row106 col2\" >Wed Oct 02, 2024 - 16:20</td>\n",
       "    </tr>\n",
       "    <tr>\n",
       "      <td id=\"T_fe594_row107_col0\" class=\"data row107 col0\" >smol_export-2.molset.json</td>\n",
       "      <td id=\"T_fe594_row107_col1\" class=\"data row107 col1\" >99.73 kB</td>\n",
       "      <td id=\"T_fe594_row107_col2\" class=\"data row107 col2\" >Wed Oct 02, 2024 - 16:21</td>\n",
       "    </tr>\n",
       "    <tr>\n",
       "      <td id=\"T_fe594_row108_col0\" class=\"data row108 col0\" >smol_export-3.molset.json</td>\n",
       "      <td id=\"T_fe594_row108_col1\" class=\"data row108 col1\" >0.14 MB</td>\n",
       "      <td id=\"T_fe594_row108_col2\" class=\"data row108 col2\" >Wed Oct 02, 2024 - 17:50</td>\n",
       "    </tr>\n",
       "    <tr>\n",
       "      <td id=\"T_fe594_row109_col0\" class=\"data row109 col0\" >smol_export-4.molset.json</td>\n",
       "      <td id=\"T_fe594_row109_col1\" class=\"data row109 col1\" >0.14 MB</td>\n",
       "      <td id=\"T_fe594_row109_col2\" class=\"data row109 col2\" >Wed Oct 02, 2024 - 17:51</td>\n",
       "    </tr>\n",
       "    <tr>\n",
       "      <td id=\"T_fe594_row110_col0\" class=\"data row110 col0\" >smol_export-5.molset.json</td>\n",
       "      <td id=\"T_fe594_row110_col1\" class=\"data row110 col1\" >0.14 MB</td>\n",
       "      <td id=\"T_fe594_row110_col2\" class=\"data row110 col2\" >Wed Oct 02, 2024 - 17:51</td>\n",
       "    </tr>\n",
       "    <tr>\n",
       "      <td id=\"T_fe594_row111_col0\" class=\"data row111 col0\" >smol_export.csv</td>\n",
       "      <td id=\"T_fe594_row111_col1\" class=\"data row111 col1\" >27.43 kB</td>\n",
       "      <td id=\"T_fe594_row111_col2\" class=\"data row111 col2\" >Thu Oct 03, 2024 - 23:28</td>\n",
       "    </tr>\n",
       "    <tr>\n",
       "      <td id=\"T_fe594_row112_col0\" class=\"data row112 col0\" >smol_export.molset.json</td>\n",
       "      <td id=\"T_fe594_row112_col1\" class=\"data row112 col1\" >45.61 kB</td>\n",
       "      <td id=\"T_fe594_row112_col2\" class=\"data row112 col2\" >Wed Oct 02, 2024 - 16:19</td>\n",
       "    </tr>\n",
       "    <tr>\n",
       "      <td id=\"T_fe594_row113_col0\" class=\"data row113 col0\" >test.csv</td>\n",
       "      <td id=\"T_fe594_row113_col1\" class=\"data row113 col1\" >1.74 kB</td>\n",
       "      <td id=\"T_fe594_row113_col2\" class=\"data row113 col2\" >Tue Dec 03, 2024 - 14:59</td>\n",
       "    </tr>\n",
       "    <tr>\n",
       "      <td id=\"T_fe594_row114_col0\" class=\"data row114 col0\" >test.molset.json</td>\n",
       "      <td id=\"T_fe594_row114_col1\" class=\"data row114 col1\" >93.34 kB</td>\n",
       "      <td id=\"T_fe594_row114_col2\" class=\"data row114 col2\" >Wed Oct 02, 2024 - 19:17</td>\n",
       "    </tr>\n",
       "    <tr>\n",
       "      <td id=\"T_fe594_row115_col0\" class=\"data row115 col0\" >test.sdf</td>\n",
       "      <td id=\"T_fe594_row115_col1\" class=\"data row115 col1\" >31.38 kB</td>\n",
       "      <td id=\"T_fe594_row115_col2\" class=\"data row115 col2\" >Wed Oct 02, 2024 - 19:17</td>\n",
       "    </tr>\n",
       "    <tr>\n",
       "      <td id=\"T_fe594_row116_col0\" class=\"data row116 col0\" >test.smi</td>\n",
       "      <td id=\"T_fe594_row116_col1\" class=\"data row116 col1\" >0.38 kB</td>\n",
       "      <td id=\"T_fe594_row116_col2\" class=\"data row116 col2\" >Fri Oct 04, 2024 - 03:27</td>\n",
       "    </tr>\n",
       "    <tr>\n",
       "      <td id=\"T_fe594_row117_col0\" class=\"data row117 col0\" >tetets-1.csv</td>\n",
       "      <td id=\"T_fe594_row117_col1\" class=\"data row117 col1\" >2.41 kB</td>\n",
       "      <td id=\"T_fe594_row117_col2\" class=\"data row117 col2\" >Fri Nov 29, 2024 - 17:10</td>\n",
       "    </tr>\n",
       "    <tr>\n",
       "      <td id=\"T_fe594_row118_col0\" class=\"data row118 col0\" >tetets-10.csv</td>\n",
       "      <td id=\"T_fe594_row118_col1\" class=\"data row118 col1\" >2.41 kB</td>\n",
       "      <td id=\"T_fe594_row118_col2\" class=\"data row118 col2\" >Fri Nov 29, 2024 - 18:30</td>\n",
       "    </tr>\n",
       "    <tr>\n",
       "      <td id=\"T_fe594_row119_col0\" class=\"data row119 col0\" >tetets-11.csv</td>\n",
       "      <td id=\"T_fe594_row119_col1\" class=\"data row119 col1\" >1.95 kB</td>\n",
       "      <td id=\"T_fe594_row119_col2\" class=\"data row119 col2\" >Fri Nov 29, 2024 - 18:30</td>\n",
       "    </tr>\n",
       "    <tr>\n",
       "      <td id=\"T_fe594_row120_col0\" class=\"data row120 col0\" >tetets-2.csv</td>\n",
       "      <td id=\"T_fe594_row120_col1\" class=\"data row120 col1\" >2.41 kB</td>\n",
       "      <td id=\"T_fe594_row120_col2\" class=\"data row120 col2\" >Fri Nov 29, 2024 - 17:21</td>\n",
       "    </tr>\n",
       "    <tr>\n",
       "      <td id=\"T_fe594_row121_col0\" class=\"data row121 col0\" >tetets-3.csv</td>\n",
       "      <td id=\"T_fe594_row121_col1\" class=\"data row121 col1\" >2.41 kB</td>\n",
       "      <td id=\"T_fe594_row121_col2\" class=\"data row121 col2\" >Fri Nov 29, 2024 - 17:21</td>\n",
       "    </tr>\n",
       "    <tr>\n",
       "      <td id=\"T_fe594_row122_col0\" class=\"data row122 col0\" >tetets-4.csv</td>\n",
       "      <td id=\"T_fe594_row122_col1\" class=\"data row122 col1\" >2.41 kB</td>\n",
       "      <td id=\"T_fe594_row122_col2\" class=\"data row122 col2\" >Fri Nov 29, 2024 - 17:21</td>\n",
       "    </tr>\n",
       "    <tr>\n",
       "      <td id=\"T_fe594_row123_col0\" class=\"data row123 col0\" >tetets-5.csv</td>\n",
       "      <td id=\"T_fe594_row123_col1\" class=\"data row123 col1\" >2.41 kB</td>\n",
       "      <td id=\"T_fe594_row123_col2\" class=\"data row123 col2\" >Fri Nov 29, 2024 - 17:24</td>\n",
       "    </tr>\n",
       "    <tr>\n",
       "      <td id=\"T_fe594_row124_col0\" class=\"data row124 col0\" >tetets-6.csv</td>\n",
       "      <td id=\"T_fe594_row124_col1\" class=\"data row124 col1\" >2.41 kB</td>\n",
       "      <td id=\"T_fe594_row124_col2\" class=\"data row124 col2\" >Fri Nov 29, 2024 - 17:24</td>\n",
       "    </tr>\n",
       "    <tr>\n",
       "      <td id=\"T_fe594_row125_col0\" class=\"data row125 col0\" >tetets-7.csv</td>\n",
       "      <td id=\"T_fe594_row125_col1\" class=\"data row125 col1\" >2.41 kB</td>\n",
       "      <td id=\"T_fe594_row125_col2\" class=\"data row125 col2\" >Fri Nov 29, 2024 - 17:25</td>\n",
       "    </tr>\n",
       "    <tr>\n",
       "      <td id=\"T_fe594_row126_col0\" class=\"data row126 col0\" >tetets-8.csv</td>\n",
       "      <td id=\"T_fe594_row126_col1\" class=\"data row126 col1\" >2.41 kB</td>\n",
       "      <td id=\"T_fe594_row126_col2\" class=\"data row126 col2\" >Fri Nov 29, 2024 - 17:26</td>\n",
       "    </tr>\n",
       "    <tr>\n",
       "      <td id=\"T_fe594_row127_col0\" class=\"data row127 col0\" >tetets-9.csv</td>\n",
       "      <td id=\"T_fe594_row127_col1\" class=\"data row127 col1\" >2.41 kB</td>\n",
       "      <td id=\"T_fe594_row127_col2\" class=\"data row127 col2\" >Fri Nov 29, 2024 - 18:07</td>\n",
       "    </tr>\n",
       "    <tr>\n",
       "      <td id=\"T_fe594_row128_col0\" class=\"data row128 col0\" >tetets.csv</td>\n",
       "      <td id=\"T_fe594_row128_col1\" class=\"data row128 col1\" >2.41 kB</td>\n",
       "      <td id=\"T_fe594_row128_col2\" class=\"data row128 col2\" >Fri Nov 29, 2024 - 17:03</td>\n",
       "    </tr>\n",
       "    <tr>\n",
       "      <td id=\"T_fe594_row129_col0\" class=\"data row129 col0\" >tritace-analysis.mol.json</td>\n",
       "      <td id=\"T_fe594_row129_col1\" class=\"data row129 col1\" >74.67 kB</td>\n",
       "      <td id=\"T_fe594_row129_col2\" class=\"data row129 col2\" >Fri Aug 09, 2024 - 18:19</td>\n",
       "    </tr>\n",
       "    <tr>\n",
       "      <td id=\"T_fe594_row130_col0\" class=\"data row130 col0\" >unnamed-molecule.smol.json</td>\n",
       "      <td id=\"T_fe594_row130_col1\" class=\"data row130 col1\" >27.72 kB</td>\n",
       "      <td id=\"T_fe594_row130_col2\" class=\"data row130 col2\" >Wed Oct 02, 2024 - 12:14</td>\n",
       "    </tr>\n",
       "  </tbody>\n",
       "</table>\n"
      ],
      "text/plain": [
       "<pandas.io.formats.style.Styler at 0x1771eeb00>"
      ]
     },
     "execution_count": 6,
     "metadata": {},
     "output_type": "execute_result"
    }
   ],
   "source": [
    "%openad list files "
   ]
  },
  {
   "cell_type": "markdown",
   "id": "a032d458-4a5d-443b-8f3e-676236298374",
   "metadata": {},
   "source": [
    "# ***Runs***"
   ]
  },
  {
   "cell_type": "markdown",
   "id": "20c5918c",
   "metadata": {},
   "source": [
    "The concept of a run is to be able to re execute a consecutive set of commands in order, ideally that provide information to one another."
   ]
  },
  {
   "cell_type": "code",
   "execution_count": 1,
   "id": "102e0073-71ee-4ed4-bd9d-a3ea03a9ac5c",
   "metadata": {
    "tags": []
   },
   "outputs": [
    {
     "ename": "TypeError",
     "evalue": "sequence item 0: expected str instance, Markdown found",
     "output_type": "error",
     "traceback": [
      "\u001b[0;31m---------------------------------------------------------------------------\u001b[0m",
      "\u001b[0;31mTypeError\u001b[0m                                 Traceback (most recent call last)",
      "Cell \u001b[0;32mIn[1], line 1\u001b[0m\n\u001b[0;32m----> 1\u001b[0m \u001b[43mget_ipython\u001b[49m\u001b[43m(\u001b[49m\u001b[43m)\u001b[49m\u001b[38;5;241;43m.\u001b[39;49m\u001b[43mrun_line_magic\u001b[49m\u001b[43m(\u001b[49m\u001b[38;5;124;43m'\u001b[39;49m\u001b[38;5;124;43mopenad\u001b[39;49m\u001b[38;5;124;43m'\u001b[39;49m\u001b[43m,\u001b[49m\u001b[43m \u001b[49m\u001b[38;5;124;43m'\u001b[39;49m\u001b[38;5;124;43m? run\u001b[39;49m\u001b[38;5;124;43m'\u001b[39;49m\u001b[43m)\u001b[49m\n",
      "File \u001b[0;32m~/Documents/GitHub/openad/venv/lib/python3.10/site-packages/IPython/core/interactiveshell.py:2432\u001b[0m, in \u001b[0;36mInteractiveShell.run_line_magic\u001b[0;34m(self, magic_name, line, _stack_depth)\u001b[0m\n\u001b[1;32m   2430\u001b[0m     kwargs[\u001b[38;5;124m'\u001b[39m\u001b[38;5;124mlocal_ns\u001b[39m\u001b[38;5;124m'\u001b[39m] \u001b[38;5;241m=\u001b[39m \u001b[38;5;28mself\u001b[39m\u001b[38;5;241m.\u001b[39mget_local_scope(stack_depth)\n\u001b[1;32m   2431\u001b[0m \u001b[38;5;28;01mwith\u001b[39;00m \u001b[38;5;28mself\u001b[39m\u001b[38;5;241m.\u001b[39mbuiltin_trap:\n\u001b[0;32m-> 2432\u001b[0m     result \u001b[38;5;241m=\u001b[39m \u001b[43mfn\u001b[49m\u001b[43m(\u001b[49m\u001b[38;5;241;43m*\u001b[39;49m\u001b[43margs\u001b[49m\u001b[43m,\u001b[49m\u001b[43m \u001b[49m\u001b[38;5;241;43m*\u001b[39;49m\u001b[38;5;241;43m*\u001b[39;49m\u001b[43mkwargs\u001b[49m\u001b[43m)\u001b[49m\n\u001b[1;32m   2434\u001b[0m \u001b[38;5;66;03m# The code below prevents the output from being displayed\u001b[39;00m\n\u001b[1;32m   2435\u001b[0m \u001b[38;5;66;03m# when using magics with decorator @output_can_be_silenced\u001b[39;00m\n\u001b[1;32m   2436\u001b[0m \u001b[38;5;66;03m# when the last Python token in the expression is a ';'.\u001b[39;00m\n\u001b[1;32m   2437\u001b[0m \u001b[38;5;28;01mif\u001b[39;00m \u001b[38;5;28mgetattr\u001b[39m(fn, magic\u001b[38;5;241m.\u001b[39mMAGIC_OUTPUT_CAN_BE_SILENCED, \u001b[38;5;28;01mFalse\u001b[39;00m):\n",
      "File \u001b[0;32m~/.ipython/profile_default/startup/openad_magic.py:66\u001b[0m, in \u001b[0;36mAD.openad\u001b[0;34m(self, line, cell, local_ns)\u001b[0m\n\u001b[1;32m     64\u001b[0m                 \u001b[38;5;28;01mpass\u001b[39;00m\n\u001b[1;32m     65\u001b[0m         i \u001b[38;5;241m+\u001b[39m\u001b[38;5;241m=\u001b[39m \u001b[38;5;241m1\u001b[39m\n\u001b[0;32m---> 66\u001b[0m result \u001b[38;5;241m=\u001b[39m \u001b[43mopenad\u001b[49m\u001b[38;5;241;43m.\u001b[39;49m\u001b[43mapp\u001b[49m\u001b[38;5;241;43m.\u001b[39;49m\u001b[43mmain\u001b[49m\u001b[38;5;241;43m.\u001b[39;49m\u001b[43mapi_remote\u001b[49m\u001b[43m(\u001b[49m\u001b[43mline\u001b[49m\u001b[43m,\u001b[49m\u001b[43m \u001b[49m\u001b[43mcontext_cache\u001b[49m\u001b[43m,\u001b[49m\u001b[43m \u001b[49m\u001b[43mapi_variable\u001b[49m\u001b[43m)\u001b[49m\n\u001b[1;32m     68\u001b[0m \u001b[38;5;28;01mif\u001b[39;00m \u001b[38;5;28misinstance\u001b[39m(result, DataFrame):\n\u001b[1;32m     69\u001b[0m     result \u001b[38;5;241m=\u001b[39m output_table(result, return_val\u001b[38;5;241m=\u001b[39m\u001b[38;5;28;01mTrue\u001b[39;00m)\n",
      "File \u001b[0;32m~/Documents/GitHub/openad/openad/app/main.py:993\u001b[0m, in \u001b[0;36mapi_remote\u001b[0;34m(inp, api_context, api_var_list)\u001b[0m\n\u001b[1;32m    991\u001b[0m     starts_with_qmark \u001b[38;5;241m=\u001b[39m \u001b[38;5;28mlen\u001b[39m(inp) \u001b[38;5;241m>\u001b[39m \u001b[38;5;241m0\u001b[39m \u001b[38;5;129;01mand\u001b[39;00m inp\u001b[38;5;241m.\u001b[39msplit()[\u001b[38;5;241m0\u001b[39m] \u001b[38;5;241m==\u001b[39m \u001b[38;5;124m\"\u001b[39m\u001b[38;5;124m?\u001b[39m\u001b[38;5;124m\"\u001b[39m \u001b[38;5;129;01mand\u001b[39;00m inp\u001b[38;5;241m.\u001b[39mstrip() \u001b[38;5;241m!=\u001b[39m \u001b[38;5;124m\"\u001b[39m\u001b[38;5;124m??\u001b[39m\u001b[38;5;124m\"\u001b[39m\n\u001b[1;32m    992\u001b[0m     magic_prompt\u001b[38;5;241m.\u001b[39mdo_exit(\u001b[38;5;124m\"\u001b[39m\u001b[38;5;124mdummy do not remove\u001b[39m\u001b[38;5;124m\"\u001b[39m)\n\u001b[0;32m--> 993\u001b[0m     \u001b[38;5;28;01mreturn\u001b[39;00m \u001b[43mmagic_prompt\u001b[49m\u001b[38;5;241;43m.\u001b[39;49m\u001b[43mdo_help\u001b[49m\u001b[43m(\u001b[49m\u001b[43minp\u001b[49m\u001b[38;5;241;43m.\u001b[39;49m\u001b[43mstrip\u001b[49m\u001b[43m(\u001b[49m\u001b[43m)\u001b[49m\u001b[43m,\u001b[49m\u001b[43m \u001b[49m\u001b[43mjup_return_format\u001b[49m\u001b[38;5;241;43m=\u001b[39;49m\u001b[38;5;28;43;01mNone\u001b[39;49;00m\u001b[43m,\u001b[49m\u001b[43m \u001b[49m\u001b[43mdisplay_info\u001b[49m\u001b[38;5;241;43m=\u001b[39;49m\u001b[43mstarts_with_qmark\u001b[49m\u001b[43m)\u001b[49m\n\u001b[1;32m    995\u001b[0m \u001b[38;5;66;03m# If there is a argument and it is not a help attempt to run the command.\u001b[39;00m\n\u001b[1;32m    996\u001b[0m \u001b[38;5;66;03m# Note, may be possible add code completion here #revisit\u001b[39;00m\n\u001b[1;32m    997\u001b[0m \u001b[38;5;28;01melse\u001b[39;00m:\n\u001b[1;32m    998\u001b[0m     magic_prompt\u001b[38;5;241m.\u001b[39mpreloop()\n",
      "File \u001b[0;32m~/Documents/GitHub/openad/openad/app/main.py:336\u001b[0m, in \u001b[0;36mRUNCMD.do_help\u001b[0;34m(self, inp, display_info, starts_with_only, disable_category_match, **kwargs)\u001b[0m\n\u001b[1;32m    334\u001b[0m         output\u001b[38;5;241m.\u001b[39mappend(openad_help\u001b[38;5;241m.\u001b[39mall_commands(commands, no_title\u001b[38;5;241m=\u001b[39m\u001b[38;5;28;01mTrue\u001b[39;00m, cmd_pointer\u001b[38;5;241m=\u001b[39m\u001b[38;5;28mself\u001b[39m))\n\u001b[1;32m    335\u001b[0m         \u001b[38;5;66;03m# Print\u001b[39;00m\n\u001b[0;32m--> 336\u001b[0m         \u001b[38;5;28;01mreturn\u001b[39;00m output_text(\u001b[38;5;124;43m\"\u001b[39;49m\u001b[38;5;124;43m\"\u001b[39;49m\u001b[38;5;241;43m.\u001b[39;49m\u001b[43mjoin\u001b[49m\u001b[43m(\u001b[49m\u001b[43moutput\u001b[49m\u001b[43m)\u001b[49m, pad\u001b[38;5;241m=\u001b[39m\u001b[38;5;241m1\u001b[39m, edge\u001b[38;5;241m=\u001b[39m\u001b[38;5;28;01mTrue\u001b[39;00m)\n\u001b[1;32m    338\u001b[0m \u001b[38;5;66;03m# `<toolkit_name> ?` --> Display all toolkkit commands.\u001b[39;00m\n\u001b[1;32m    339\u001b[0m \u001b[38;5;28;01mif\u001b[39;00m inp\u001b[38;5;241m.\u001b[39mupper() \u001b[38;5;129;01min\u001b[39;00m _all_toolkits:\n",
      "\u001b[0;31mTypeError\u001b[0m: sequence item 0: expected str instance, Markdown found"
     ]
    }
   ],
   "source": [
    "%openad ? run"
   ]
  },
  {
   "cell_type": "markdown",
   "id": "6fca7307",
   "metadata": {},
   "source": [
    "We are now going to create a run for demostration purposes."
   ]
  },
  {
   "cell_type": "code",
   "execution_count": null,
   "id": "8acb6a4e-db7b-4e73-993c-f6612757c4c5",
   "metadata": {
    "tags": []
   },
   "outputs": [],
   "source": [
    "%openad create run"
   ]
  },
  {
   "cell_type": "code",
   "execution_count": null,
   "id": "24b927b0-d7f3-4174-9f2c-7888452a5788",
   "metadata": {
    "tags": []
   },
   "outputs": [],
   "source": [
    "%openad list all toolkits"
   ]
  },
  {
   "cell_type": "code",
   "execution_count": null,
   "id": "5701c7bb-cb21-49d3-87ae-0343a2ef7d13",
   "metadata": {
    "tags": []
   },
   "outputs": [],
   "source": [
    "%openad set context rxn\n",
    "%openad List rxn models"
   ]
  },
  {
   "cell_type": "code",
   "execution_count": null,
   "id": "0a3f391c-b380-4d9b-b4c3-a74a5d2e8014",
   "metadata": {
    "tags": []
   },
   "outputs": [],
   "source": [
    "%openad list runs"
   ]
  },
  {
   "cell_type": "markdown",
   "id": "8418c9f3",
   "metadata": {},
   "source": [
    "When we want to stop and record the run we simply execute the following."
   ]
  },
  {
   "cell_type": "code",
   "execution_count": null,
   "id": "74aff36c-10bf-4c80-adc8-1c51f9337bb2",
   "metadata": {
    "tags": []
   },
   "outputs": [],
   "source": [
    "%openad save run as test_run3"
   ]
  },
  {
   "cell_type": "markdown",
   "id": "52011da0",
   "metadata": {},
   "source": [
    "We can display its contents with the following command."
   ]
  },
  {
   "cell_type": "code",
   "execution_count": null,
   "id": "cc0a5f2c",
   "metadata": {
    "tags": []
   },
   "outputs": [],
   "source": [
    "%openad display run test_run3"
   ]
  },
  {
   "cell_type": "markdown",
   "id": "24e0a68c",
   "metadata": {},
   "source": [
    "Now lets run it !"
   ]
  },
  {
   "cell_type": "code",
   "execution_count": null,
   "id": "2d70dd78-f717-4f68-ad11-1b579c2c4d71",
   "metadata": {
    "tags": []
   },
   "outputs": [],
   "source": [
    "%openad run test_run3"
   ]
  },
  {
   "cell_type": "code",
   "execution_count": null,
   "id": "626adcaa-3d42-46a7-a456-6cb191232d5f",
   "metadata": {
    "tags": []
   },
   "outputs": [],
   "source": [
    "%openad set llm bam"
   ]
  },
  {
   "cell_type": "markdown",
   "id": "0e128d74-17fc-4b53-9995-8798b7719d39",
   "metadata": {},
   "source": [
    "# ***Deep Search to RXN Demonstration***\n",
    "\n",
    "In this Demonstration we are going to Search for a Smiles definition of a Drug in <b>Deep Search</b> and determine retrosynthesis Paths in <b>RXN</b>"
   ]
  },
  {
   "cell_type": "markdown",
   "id": "fff7d1dd",
   "metadata": {},
   "source": [
    "First lets ask the `Tell Me` Me Functionality how we should do it."
   ]
  },
  {
   "cell_type": "code",
   "execution_count": null,
   "id": "65e1926d-af75-4b66-b46d-4966dc7a658a",
   "metadata": {
    "tags": []
   },
   "outputs": [],
   "source": [
    "%openad tell me how to get the canonical smiles string for a molecule  and then what command to predict retrosynthesis"
   ]
  },
  {
   "cell_type": "code",
   "execution_count": null,
   "id": "3631ed12-6508-462e-b129-9a5742787deb",
   "metadata": {
    "tags": []
   },
   "outputs": [],
   "source": [
    "mol = %openad @aspirin>>canonical_smiles\n",
    "\n",
    "%openad set context ds4sd\n",
    "%openad search for patents containing molecule '{mol}'\n",
    "\n",
    "%openad set context rxn\n",
    "%openad predict retrosynthesis '{mol}'"
   ]
  },
  {
   "cell_type": "markdown",
   "id": "c58f14a7-5140-4172-81fd-d9b1d6e086b3",
   "metadata": {},
   "source": [
    "## ***Now lets Do a sequence of different commands and look at the results***"
   ]
  },
  {
   "cell_type": "markdown",
   "id": "013f99ed-8ecc-4dec-b427-48d4c6c2dd97",
   "metadata": {},
   "source": [
    "### ***Set the Tool Context to Deep Search***"
   ]
  },
  {
   "cell_type": "code",
   "execution_count": null,
   "id": "9ef34ebb-46a1-40eb-9ea2-b729a784861a",
   "metadata": {
    "tags": []
   },
   "outputs": [],
   "source": [
    "%openad set context ds4sd\n",
    "target_smile= %openad @tritace>>canonical_smiles"
   ]
  },
  {
   "cell_type": "code",
   "execution_count": null,
   "id": "967765ed-2db9-41f8-a970-4825e3712f2e",
   "metadata": {
    "tags": []
   },
   "outputs": [],
   "source": [
    "%openad search for patents containing molecule '{target_smile}'"
   ]
  },
  {
   "cell_type": "markdown",
   "id": "a81eb4a6-5d28-4b5d-85ba-b7b06dc28f3c",
   "metadata": {},
   "source": [
    "### ***Let's look at what Domains and Collections exist for us to search***"
   ]
  },
  {
   "cell_type": "code",
   "execution_count": null,
   "id": "28aeed51-c3a9-437e-b6f7-011e47e57dd8",
   "metadata": {
    "tags": []
   },
   "outputs": [],
   "source": [
    "%openad  display all collections "
   ]
  },
  {
   "cell_type": "markdown",
   "id": "25329683-fbb6-4686-81db-e4d3cfc1861e",
   "metadata": {},
   "source": [
    "## Let's Look at The Collection we may find the most interesting"
   ]
  },
  {
   "cell_type": "code",
   "execution_count": null,
   "id": "a7b9467a-a12d-4979-80d9-103f2b8796dd",
   "metadata": {
    "tags": []
   },
   "outputs": [],
   "source": [
    "%openad  display collection details 'Crossref'"
   ]
  },
  {
   "cell_type": "markdown",
   "id": "4fd0071d",
   "metadata": {},
   "source": [
    "Now we will Search for collections with a mention of the Molecule called  `Sibofimloc`, research it and find its SMILE returning Result to a data frame"
   ]
  },
  {
   "cell_type": "markdown",
   "id": "1d71eeed",
   "metadata": {},
   "source": [
    "What collections mention the molecule  'Sibofimloc' ?"
   ]
  },
  {
   "cell_type": "code",
   "execution_count": null,
   "id": "bf193e24-fc78-4cca-854f-d07ba543bfc9",
   "metadata": {
    "tags": []
   },
   "outputs": [],
   "source": [
    "%openad  display collection matches for 'Sibofimloc'"
   ]
  },
  {
   "cell_type": "markdown",
   "id": "74904af1-4a45-4675-88be-0f74a75fdfb6",
   "metadata": {},
   "source": [
    "### Lets Research the Drug for Safety and read the Papers where it is discused"
   ]
  },
  {
   "cell_type": "code",
   "execution_count": null,
   "id": "0b4baebf-c43a-49ec-a12b-2695edd99c25",
   "metadata": {
    "tags": []
   },
   "outputs": [],
   "source": [
    "%openad search collection 'crossref' for 'Sibofimloc AND safety'    SHOW (docs data) "
   ]
  },
  {
   "cell_type": "markdown",
   "id": "cdc5974c-773c-4e1c-8c03-5096428904b1",
   "metadata": {},
   "source": [
    "### Lets Pull the Data for the Molecule <br>\n",
    "by using the molecules Functions"
   ]
  },
  {
   "cell_type": "code",
   "execution_count": null,
   "id": "588e1d76-a044-4755-a92e-23532dbea286",
   "metadata": {
    "tags": []
   },
   "outputs": [],
   "source": [
    "%openad display molecule Sibofimloc"
   ]
  },
  {
   "cell_type": "code",
   "execution_count": null,
   "id": "888b67ff-064f-4f88-a20e-09910cdbae56",
   "metadata": {
    "tags": []
   },
   "outputs": [],
   "source": [
    "target_string=%openad @Sibofimloc>>canonical_smiles"
   ]
  },
  {
   "cell_type": "markdown",
   "id": "73b00650-8252-4225-a015-e3992548d649",
   "metadata": {},
   "source": [
    "### Let's have a look at similar molecules and Related Patents<br>\n",
    "\n",
    "This will allows us also to look at similar targets we may want to pursue if our further experiements do not work as intended."
   ]
  },
  {
   "cell_type": "code",
   "execution_count": null,
   "id": "471ad06b-2957-4d55-ad7f-99b754a95475",
   "metadata": {
    "scrolled": true,
    "tags": []
   },
   "outputs": [],
   "source": [
    "similar_targets = %openadd search for similar molecules to '{target_string}' save as 'similar_targets.csv'\n",
    "display(similar_targets)"
   ]
  },
  {
   "cell_type": "code",
   "execution_count": null,
   "id": "1e565400-e2b4-415f-92fa-a21a450607f4",
   "metadata": {
    "tags": []
   },
   "outputs": [],
   "source": [
    "%openad load molecules using dataframe similar_targets\n",
    "%openad show molecules "
   ]
  },
  {
   "cell_type": "code",
   "execution_count": null,
   "id": "bb4a3ce2-a93a-4a85-b32e-d5ba2738fd5a",
   "metadata": {
    "tags": []
   },
   "outputs": [],
   "source": [
    "\n",
    "%openad search for patents containing molecule '{target_string}'"
   ]
  },
  {
   "cell_type": "markdown",
   "id": "04657557",
   "metadata": {},
   "source": [
    "For each of those similar targets lets go and find the patents that they are mentioned in !"
   ]
  },
  {
   "cell_type": "code",
   "execution_count": null,
   "id": "97fd3059-83b8-48c7-bd48-fd406c8ced14",
   "metadata": {
    "scrolled": true,
    "tags": []
   },
   "outputs": [],
   "source": [
    "\n",
    "for similar_mol  in similar_targets['SMILES']:\n",
    "   my_patents=%openadd search for patents containing molecule '{similar_mol}'\n",
    "   %openad search for molecules in patents from dataframe  my_patents"
   ]
  },
  {
   "cell_type": "code",
   "execution_count": null,
   "id": "92b48028-3d15-421c-a6f9-1b705f199da3",
   "metadata": {
    "tags": []
   },
   "outputs": [],
   "source": [
    "%openad display molecule CCC(C)C(=O)N1CCC2(CC1)c1cc(C#CC3OC(CO)C(O)C(O)C3O)ccc1-c1ccc(C#CC3OC(CO)C(O)C(O)C3O)cc12"
   ]
  },
  {
   "cell_type": "markdown",
   "id": "7b4b5f1a-0d80-458b-b5a8-ca93fbc88441",
   "metadata": {},
   "source": [
    "### ***Set Context to the RXN Toolkit and run Retro Synthesis Prediction On our chosen Molecule***"
   ]
  },
  {
   "cell_type": "markdown",
   "id": "cbfa8033",
   "metadata": {},
   "source": [
    "Now with our Original target Molecule `Sibofimloc` lets perform retrosynthesis analyis to determine routes to snythesize the molecule."
   ]
  },
  {
   "cell_type": "code",
   "execution_count": null,
   "id": "7adbd966-2314-4ac9-bcc5-3097ba5a9d61",
   "metadata": {},
   "outputs": [],
   "source": [
    "%openad set context rxn\n",
    "%openad predict retrosynthesis '{target_string}' using( max_steps=3 )"
   ]
  },
  {
   "cell_type": "code",
   "execution_count": null,
   "id": "27692ac8-2824-49b0-8705-ff5f6ea128b1",
   "metadata": {
    "tags": []
   },
   "outputs": [],
   "source": [
    "%openad add molecule {target_string}\n",
    "%openad enrich molecules with analysis\n",
    "%openad display molecule {target_string}"
   ]
  },
  {
   "cell_type": "markdown",
   "id": "95e3d699-abff-4d79-adde-ebfd94c6f420",
   "metadata": {},
   "source": [
    "## Interpreting  Recipes"
   ]
  },
  {
   "cell_type": "code",
   "execution_count": null,
   "id": "87dffbe7-e832-4205-abdc-dabb7b987805",
   "metadata": {},
   "outputs": [],
   "source": [
    "%openad interpret recipe 'To a stirred solution of 7-(difluoromethylsulfonyl)-4-fluoro-indan-1-one (110 mg, 0.42 mmol)\\\n",
    "in methanol (4 mL) was added sodium borohydride \\\n",
    "(24 mg, 0.62 mmol). The reaction mixture was stirred at ambient temperature for 1 hour.'"
   ]
  },
  {
   "cell_type": "markdown",
   "id": "dd026f02-2589-478b-b57b-f87ccf4352e5",
   "metadata": {},
   "source": [
    "## Predicting Reaction Outcomes"
   ]
  },
  {
   "cell_type": "markdown",
   "id": "06437709-ed2c-45a1-bdd8-8152e343495f",
   "metadata": {},
   "source": [
    "### Single Predictions"
   ]
  },
  {
   "cell_type": "code",
   "execution_count": null,
   "id": "921fff0f-796b-4923-a1b6-d3ddb0298a34",
   "metadata": {},
   "outputs": [],
   "source": [
    "%openad  predict reaction 'Cl.CCC(=O)NCCC.O' use_saved"
   ]
  },
  {
   "cell_type": "code",
   "execution_count": null,
   "id": "868c2adb-ae99-4a95-95bb-f86c7c3fc974",
   "metadata": {
    "tags": []
   },
   "outputs": [],
   "source": [
    "%openad import  from '~/openad_notebooks/examples/reactions.csv' to 'reactions.csv'\n",
    "%openad predict reaction in batch from file 'reactions.csv'"
   ]
  },
  {
   "cell_type": "markdown",
   "id": "94175849-50e8-4d5d-bc97-9545d38e7116",
   "metadata": {},
   "source": [
    "### Batch Predictions"
   ]
  },
  {
   "cell_type": "code",
   "execution_count": null,
   "id": "28425cd2-289a-41cf-9017-4e9a6e48177b",
   "metadata": {},
   "outputs": [],
   "source": [
    "%openad predict reaction in batch from list ['BrBr.c1ccc2cc3ccccc3cc2c1CCO' ,'Cl.CCC(=O)NCCC.O'] "
   ]
  },
  {
   "cell_type": "markdown",
   "id": "76c2a06c-d69e-4758-a66c-069e9513b760",
   "metadata": {},
   "source": [
    "### Using the [use_saved] clause"
   ]
  },
  {
   "cell_type": "markdown",
   "id": "3be03ac3-9c8a-4692-8d53-04202df23838",
   "metadata": {},
   "source": [
    "Providing the ability to reuse recently run previous reaction runs"
   ]
  },
  {
   "cell_type": "code",
   "execution_count": null,
   "id": "cf813e5f-24b2-4757-9d31-1d8756b7b994",
   "metadata": {},
   "outputs": [],
   "source": [
    "%openad predict reaction in batch  from list ['BrBr.c1ccc2cc3ccccc3cc2c1CCO' ,'BrBr.c1ccc2cc3ccccc3cc2c1','Cl.CCC(=O)NCCC.O'] use_saved"
   ]
  },
  {
   "cell_type": "code",
   "execution_count": null,
   "id": "b93788a6-25aa-4898-8a73-c3ed20807232",
   "metadata": {},
   "outputs": [],
   "source": [
    "%openad set context rxn\n",
    "import pandas\n",
    "lst = ['BrBr.c1ccc2cc3ccccc3cc2c1CCO' ,'Cl.CCC(=O)NCCC.O'] \n",
    "batch_list = pandas.DataFrame(lst,columns=['reactions'])\n",
    "%openad predict reaction topn in batch from dataframe batch_list using (topn=3) use_saved"
   ]
  },
  {
   "cell_type": "markdown",
   "id": "9662c70d-d509-4161-85c2-8b2a52a8f476",
   "metadata": {
    "tags": []
   },
   "source": [
    "## Quickly investingation and adding to a set of molecules"
   ]
  },
  {
   "cell_type": "code",
   "execution_count": null,
   "id": "cda2b8fc-8ba8-49d1-b150-6013ac35d5ed",
   "metadata": {
    "tags": []
   },
   "outputs": [],
   "source": [
    "%openad add molecule tritace force\n",
    "%openad add molecule aspirin force\n",
    "%openad add molecule Ibuprofen force\n",
    "%openad add molecule entresto force"
   ]
  },
  {
   "cell_type": "code",
   "execution_count": null,
   "id": "35d24d54-e245-455d-8a8d-a83f4e2ffc6e",
   "metadata": {
    "tags": []
   },
   "outputs": [],
   "source": [
    "%openad list molecules"
   ]
  },
  {
   "cell_type": "code",
   "execution_count": null,
   "id": "320e8bef-06d1-4c92-8b13-8ef055f94f00",
   "metadata": {
    "tags": []
   },
   "outputs": [],
   "source": [
    "mol = %openad @tritace>>canonical_smiles\n",
    "%openad set context rxn\n",
    "%openad predict retrosynthesis '{mol}' using( max_steps=3 )"
   ]
  },
  {
   "cell_type": "code",
   "execution_count": null,
   "id": "dd77485a-c5ab-431a-9f6e-6c9d28ab24a6",
   "metadata": {
    "tags": []
   },
   "outputs": [],
   "source": [
    "%openad set context ds4sd\n",
    "%openad search for patents containing molecule '{mol}'\n",
    "%openad search for similar molecules to '{mol}'\n"
   ]
  },
  {
   "cell_type": "code",
   "execution_count": null,
   "id": "b3e727f7-7539-4016-8fa1-5760c63666bd",
   "metadata": {
    "tags": []
   },
   "outputs": [],
   "source": [
    "%openad list molecules"
   ]
  },
  {
   "cell_type": "code",
   "execution_count": null,
   "id": "232afcb9-3360-4dd4-8852-112dbaca93dd",
   "metadata": {
    "tags": []
   },
   "outputs": [],
   "source": [
    "%openad enrich molecules with analysis \n",
    "%openad display molecule tritace"
   ]
  },
  {
   "cell_type": "code",
   "execution_count": null,
   "id": "e0983057-2ad7-44a8-9d35-e3d1e737c323",
   "metadata": {
    "tags": []
   },
   "outputs": [],
   "source": []
  },
  {
   "cell_type": "code",
   "execution_count": null,
   "id": "3402bba9-60ad-4a99-b8d5-f970acdcd2c4",
   "metadata": {
    "tags": []
   },
   "outputs": [],
   "source": [
    "%openad list molecules"
   ]
  },
  {
   "cell_type": "code",
   "execution_count": null,
   "id": "4b8091b5-a046-4adb-a315-637d2be9c46b",
   "metadata": {},
   "outputs": [],
   "source": []
  }
 ],
 "metadata": {
  "kernelspec": {
   "display_name": "venv",
   "language": "python",
   "name": "venv"
  },
  "language_info": {
   "codemirror_mode": {
    "name": "ipython",
    "version": 3
   },
   "file_extension": ".py",
   "mimetype": "text/x-python",
   "name": "python",
   "nbconvert_exporter": "python",
   "pygments_lexer": "ipython3",
   "version": "3.10.14"
  }
 },
 "nbformat": 4,
 "nbformat_minor": 5
}
