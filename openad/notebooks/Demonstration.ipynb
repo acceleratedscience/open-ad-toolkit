{
 "cells": [
  {
   "cell_type": "markdown",
   "id": "8feab26e-1785-402f-83b0-9c3c5a524fc3",
   "metadata": {},
   "source": [
    "# openad-OpenToolkit Demonstration"
   ]
  },
  {
   "cell_type": "markdown",
   "id": "1b3f0d10-474d-42cd-a31d-b6889eb468ce",
   "metadata": {},
   "source": [
    "![](./media/AD_Banner.jpg)\n",
    "<a id=\"top\">"
   ]
  },
  {
   "cell_type": "markdown",
   "id": "bc76c3cb-4c43-4bda-9ad7-d66e14b6ba42",
   "metadata": {},
   "source": [
    "# ***What Commands Are Available  ?***"
   ]
  },
  {
   "cell_type": "markdown",
   "id": "b1a5d503",
   "metadata": {},
   "source": [
    "To learn what commands available you simply need to enter a `?` at the command line or at a magic command to list avialable commands"
   ]
  },
  {
   "cell_type": "code",
   "execution_count": null,
   "id": "dd832ca1-f667-4f54-9a0c-88bb3c0b9799",
   "metadata": {
    "tags": []
   },
   "outputs": [],
   "source": [
    "%openad ?"
   ]
  },
  {
   "cell_type": "markdown",
   "id": "54cfb805-91b2-4723-9b2e-c82aa63adaf2",
   "metadata": {},
   "source": [
    "# ***Individual Toolkits Help***"
   ]
  },
  {
   "cell_type": "markdown",
   "id": "d1c3c1f1",
   "metadata": {},
   "source": [
    "To look at the help purely for a specific toolkit, you simply need to ensure the toolkit is added then run the following."
   ]
  },
  {
   "cell_type": "markdown",
   "id": "bf8a6846",
   "metadata": {},
   "source": [
    "%openad add toolkit rxn"
   ]
  },
  {
   "cell_type": "code",
   "execution_count": null,
   "id": "df17751f-3059-47a9-ac78-daea954f6d8a",
   "metadata": {},
   "outputs": [],
   "source": [
    "%openad ? rxn"
   ]
  },
  {
   "cell_type": "markdown",
   "id": "da1a631c-44ce-4ff8-a071-90b140380877",
   "metadata": {},
   "source": [
    "# ***Working Within the Open ToolKit Environment***"
   ]
  },
  {
   "cell_type": "markdown",
   "id": "0e4dd088",
   "metadata": {},
   "source": [
    "There are a Range of different commands that can be run to navigate through the toolkit, looking at `workspaces`, `toolkits`, `files` and `runs` within `workspaces` etc.<br> For example:"
   ]
  },
  {
   "cell_type": "code",
   "execution_count": null,
   "id": "162edbdd-3469-468c-94db-bbc59c87e07b",
   "metadata": {},
   "outputs": [],
   "source": [
    "%openad list workspaces"
   ]
  },
  {
   "cell_type": "code",
   "execution_count": null,
   "id": "0b8cc971-0da1-4128-8345-9e8fd288d71b",
   "metadata": {},
   "outputs": [],
   "source": [
    "%openad list files "
   ]
  },
  {
   "cell_type": "markdown",
   "id": "a032d458-4a5d-443b-8f3e-676236298374",
   "metadata": {},
   "source": [
    "# ***Runs***"
   ]
  },
  {
   "cell_type": "markdown",
   "id": "20c5918c",
   "metadata": {},
   "source": [
    "The concept of a run is to be able to re execute a consecutive set of commands in order, ideally that provide information to one another."
   ]
  },
  {
   "cell_type": "code",
   "execution_count": null,
   "id": "102e0073-71ee-4ed4-bd9d-a3ea03a9ac5c",
   "metadata": {
    "tags": []
   },
   "outputs": [],
   "source": [
    "%openad ? run"
   ]
  },
  {
   "cell_type": "markdown",
   "id": "6fca7307",
   "metadata": {},
   "source": [
    "We are now going to create a run for demostration purposes."
   ]
  },
  {
   "cell_type": "code",
   "execution_count": null,
   "id": "8acb6a4e-db7b-4e73-993c-f6612757c4c5",
   "metadata": {},
   "outputs": [],
   "source": [
    "%openad create run"
   ]
  },
  {
   "cell_type": "code",
   "execution_count": null,
   "id": "24b927b0-d7f3-4174-9f2c-7888452a5788",
   "metadata": {},
   "outputs": [],
   "source": [
    "%openad list all toolkits"
   ]
  },
  {
   "cell_type": "code",
   "execution_count": null,
   "id": "5701c7bb-cb21-49d3-87ae-0343a2ef7d13",
   "metadata": {},
   "outputs": [],
   "source": [
    "%openad set context rxn\n",
    "%openad List rxn models"
   ]
  },
  {
   "cell_type": "code",
   "execution_count": null,
   "id": "0a3f391c-b380-4d9b-b4c3-a74a5d2e8014",
   "metadata": {},
   "outputs": [],
   "source": [
    "%openad list runs"
   ]
  },
  {
   "cell_type": "markdown",
   "id": "8418c9f3",
   "metadata": {},
   "source": [
    "When we want to stop and record the run we simply execute the following."
   ]
  },
  {
   "cell_type": "code",
   "execution_count": null,
   "id": "74aff36c-10bf-4c80-adc8-1c51f9337bb2",
   "metadata": {},
   "outputs": [],
   "source": [
    "%openad save run as test_run3"
   ]
  },
  {
   "cell_type": "markdown",
   "id": "52011da0",
   "metadata": {},
   "source": [
    "We can display its contents with the following command."
   ]
  },
  {
   "cell_type": "code",
   "execution_count": null,
   "id": "cc0a5f2c",
   "metadata": {},
   "outputs": [],
   "source": [
    "%openad display run test_run3"
   ]
  },
  {
   "cell_type": "markdown",
   "id": "24e0a68c",
   "metadata": {},
   "source": [
    "Now lets run it !"
   ]
  },
  {
   "cell_type": "code",
   "execution_count": null,
   "id": "2d70dd78-f717-4f68-ad11-1b579c2c4d71",
   "metadata": {},
   "outputs": [],
   "source": [
    "%openad run test_run3"
   ]
  },
  {
   "cell_type": "code",
   "execution_count": null,
   "id": "626adcaa-3d42-46a7-a456-6cb191232d5f",
   "metadata": {
    "tags": []
   },
   "outputs": [],
   "source": [
    "%openad set llm bam"
   ]
  },
  {
   "cell_type": "markdown",
   "id": "0e128d74-17fc-4b53-9995-8798b7719d39",
   "metadata": {},
   "source": [
    "# ***Deep Search to RXN Demonstration***\n",
    "\n",
    "In this Demonstration we are going to Search for a Smiles definition of a Drug in <b>Deep Search</b> and determine retrosynthesis Paths in <b>RXN</b>"
   ]
  },
  {
   "cell_type": "markdown",
   "id": "fff7d1dd",
   "metadata": {},
   "source": [
    "First lets ask the `Tell Me` Me Functionality how we should do it."
   ]
  },
  {
   "cell_type": "code",
   "execution_count": null,
   "id": "65e1926d-af75-4b66-b46d-4966dc7a658a",
   "metadata": {},
   "outputs": [],
   "source": [
    "%openad tell me how to get the canonical smiles string for a molecule  and then what command to predict retrosynthesis"
   ]
  },
  {
   "cell_type": "code",
   "execution_count": null,
   "id": "3631ed12-6508-462e-b129-9a5742787deb",
   "metadata": {},
   "outputs": [],
   "source": [
    "mol = %openad @aspirin>>canonical_smiles\n",
    "\n",
    "%openad set context ds4sd\n",
    "%openad search for patents containing molecule '{mol}'\n",
    "\n",
    "%openad set context rxn\n",
    "%openad predict retrosynthesis '{mol}'"
   ]
  },
  {
   "cell_type": "markdown",
   "id": "c58f14a7-5140-4172-81fd-d9b1d6e086b3",
   "metadata": {},
   "source": [
    "## ***Now lets Do a sequence of different commands and look at the results***"
   ]
  },
  {
   "cell_type": "markdown",
   "id": "013f99ed-8ecc-4dec-b427-48d4c6c2dd97",
   "metadata": {},
   "source": [
    "### ***Set the Tool Context to Deep Search***"
   ]
  },
  {
   "cell_type": "code",
   "execution_count": null,
   "id": "9ef34ebb-46a1-40eb-9ea2-b729a784861a",
   "metadata": {},
   "outputs": [],
   "source": [
    "%openad set context ds4sd\n",
    "target_smile= %openad @tritace>>canonical_smiles"
   ]
  },
  {
   "cell_type": "code",
   "execution_count": null,
   "id": "967765ed-2db9-41f8-a970-4825e3712f2e",
   "metadata": {},
   "outputs": [],
   "source": [
    "%openad search for patents containing molecule '{target_smile}'"
   ]
  },
  {
   "cell_type": "markdown",
   "id": "a81eb4a6-5d28-4b5d-85ba-b7b06dc28f3c",
   "metadata": {},
   "source": [
    "### ***Let's look at what Domains and Collections exist for us to search***"
   ]
  },
  {
   "cell_type": "code",
   "execution_count": null,
   "id": "28aeed51-c3a9-437e-b6f7-011e47e57dd8",
   "metadata": {},
   "outputs": [],
   "source": [
    "%openad  display all collections "
   ]
  },
  {
   "cell_type": "markdown",
   "id": "25329683-fbb6-4686-81db-e4d3cfc1861e",
   "metadata": {},
   "source": [
    "## Let's Look at The Collection we may find the most interesting"
   ]
  },
  {
   "cell_type": "code",
   "execution_count": null,
   "id": "a7b9467a-a12d-4979-80d9-103f2b8796dd",
   "metadata": {},
   "outputs": [],
   "source": [
    "%openad  display collection details 'Crossref'"
   ]
  },
  {
   "cell_type": "markdown",
   "id": "4fd0071d",
   "metadata": {},
   "source": [
    "Now we will Search for collections with a mention of the Molecule called  `Sibofimloc`, research it and find its SMILE returning Result to a data frame"
   ]
  },
  {
   "cell_type": "markdown",
   "id": "1d71eeed",
   "metadata": {},
   "source": [
    "What collections mention the molecule  'Sibofimloc' ?"
   ]
  },
  {
   "cell_type": "code",
   "execution_count": null,
   "id": "bf193e24-fc78-4cca-854f-d07ba543bfc9",
   "metadata": {},
   "outputs": [],
   "source": [
    "%openad  display collection matches for 'Sibofimloc'"
   ]
  },
  {
   "cell_type": "markdown",
   "id": "74904af1-4a45-4675-88be-0f74a75fdfb6",
   "metadata": {},
   "source": [
    "### Lets Research the Drug for Safety and read the Papers where it is discused"
   ]
  },
  {
   "cell_type": "code",
   "execution_count": null,
   "id": "0b4baebf-c43a-49ec-a12b-2695edd99c25",
   "metadata": {},
   "outputs": [],
   "source": [
    "%openad SEARCH collection 'crossref' for 'Sibofimloc AND safety'    SHOW (docs data) "
   ]
  },
  {
   "cell_type": "markdown",
   "id": "cdc5974c-773c-4e1c-8c03-5096428904b1",
   "metadata": {},
   "source": [
    "### Lets Pull the Data for the Molecule <br>\n",
    "by using the molecules Functions"
   ]
  },
  {
   "cell_type": "code",
   "execution_count": null,
   "id": "588e1d76-a044-4755-a92e-23532dbea286",
   "metadata": {},
   "outputs": [],
   "source": [
    "%openad display molecule Sibofimloc"
   ]
  },
  {
   "cell_type": "code",
   "execution_count": null,
   "id": "888b67ff-064f-4f88-a20e-09910cdbae56",
   "metadata": {},
   "outputs": [],
   "source": [
    "target_string=%openad @Sibofimloc>>canonical_smiles"
   ]
  },
  {
   "cell_type": "markdown",
   "id": "73b00650-8252-4225-a015-e3992548d649",
   "metadata": {},
   "source": [
    "### Let's have a look at similar molecules and Related Patents<br>\n",
    "\n",
    "This will allows us also to look at similar targets we may want to pursue if our further experiements do not work as intended."
   ]
  },
  {
   "cell_type": "code",
   "execution_count": null,
   "id": "471ad06b-2957-4d55-ad7f-99b754a95475",
   "metadata": {
    "scrolled": true,
    "tags": []
   },
   "outputs": [],
   "source": [
    "similar_targets = %openad search for similar molecules to '{target_string}' save as 'similar.csv'\n",
    "display(similar_targets)"
   ]
  },
  {
   "cell_type": "code",
   "execution_count": null,
   "id": "1e565400-e2b4-415f-92fa-a21a450607f4",
   "metadata": {
    "tags": []
   },
   "outputs": [],
   "source": [
    "mgrid=%openad show molecules using DATAFRAME similar_targets as molsobject"
   ]
  },
  {
   "cell_type": "code",
   "execution_count": null,
   "id": "90cc1b8e-6ad2-4c45-b1fe-c94e1236ad0a",
   "metadata": {
    "tags": []
   },
   "outputs": [],
   "source": [
    "mgrid.display()"
   ]
  },
  {
   "cell_type": "code",
   "execution_count": null,
   "id": "a2c4fab3-19dd-4a91-82ec-6d7b21eb8931",
   "metadata": {},
   "outputs": [],
   "source": [
    " similar_targets = mgrid.get_selection()"
   ]
  },
  {
   "cell_type": "code",
   "execution_count": null,
   "id": "bb4a3ce2-a93a-4a85-b32e-d5ba2738fd5a",
   "metadata": {},
   "outputs": [],
   "source": [
    "%openad search for patents containing molecule '{target_string}'"
   ]
  },
  {
   "cell_type": "markdown",
   "id": "04657557",
   "metadata": {},
   "source": [
    "For each of those similar targets lets go and find the patents that they are mentioned in !"
   ]
  },
  {
   "cell_type": "code",
   "execution_count": null,
   "id": "97fd3059-83b8-48c7-bd48-fd406c8ced14",
   "metadata": {
    "scrolled": true,
    "tags": []
   },
   "outputs": [],
   "source": [
    "for similar_mol  in similar_targets['SMILES']:\n",
    "   my_patents=%openad search for patents containing molecule '{similar_mol}'\n",
    "   \n",
    "   %openad search for molecules in patents from dataframe  my_patents"
   ]
  },
  {
   "cell_type": "markdown",
   "id": "7b4b5f1a-0d80-458b-b5a8-ca93fbc88441",
   "metadata": {},
   "source": [
    "### ***Set Context to the RXN Toolkit and run Retro Synthesis Prediction On our chosen Molecule***"
   ]
  },
  {
   "cell_type": "markdown",
   "id": "cbfa8033",
   "metadata": {},
   "source": [
    "Now with our Original target Molecule `Sibofimloc` lets perform retrosynthesis analyis to determine routes to snythesize the molecule."
   ]
  },
  {
   "cell_type": "code",
   "execution_count": null,
   "id": "7adbd966-2314-4ac9-bcc5-3097ba5a9d61",
   "metadata": {},
   "outputs": [],
   "source": [
    "%openad set context rxn\n",
    "%openad predict retrosynthesis '{target_string}' using( max_steps=3 )"
   ]
  },
  {
   "cell_type": "code",
   "execution_count": null,
   "id": "27692ac8-2824-49b0-8705-ff5f6ea128b1",
   "metadata": {},
   "outputs": [],
   "source": [
    "%openad add molecule {target_string}\n",
    "%openad enrich molecule-set with analysis\n",
    "%openad display molecule {target_string}"
   ]
  },
  {
   "cell_type": "markdown",
   "id": "95e3d699-abff-4d79-adde-ebfd94c6f420",
   "metadata": {},
   "source": [
    "## Interpreting  Recipes"
   ]
  },
  {
   "cell_type": "code",
   "execution_count": null,
   "id": "87dffbe7-e832-4205-abdc-dabb7b987805",
   "metadata": {},
   "outputs": [],
   "source": [
    "%openad interpret recipe 'To a stirred solution of 7-(difluoromethylsulfonyl)-4-fluoro-indan-1-one (110 mg, 0.42 mmol)\\\n",
    "in methanol (4 mL) was added sodium borohydride \\\n",
    "(24 mg, 0.62 mmol). The reaction mixture was stirred at ambient temperature for 1 hour.'"
   ]
  },
  {
   "cell_type": "markdown",
   "id": "dd026f02-2589-478b-b57b-f87ccf4352e5",
   "metadata": {},
   "source": [
    "## Predicting Reaction Outcomes"
   ]
  },
  {
   "cell_type": "markdown",
   "id": "06437709-ed2c-45a1-bdd8-8152e343495f",
   "metadata": {},
   "source": [
    "### Single Predictions"
   ]
  },
  {
   "cell_type": "code",
   "execution_count": null,
   "id": "921fff0f-796b-4923-a1b6-d3ddb0298a34",
   "metadata": {},
   "outputs": [],
   "source": [
    "%openad  predict reaction 'Cl.CCC(=O)NCCC.O' use_saved"
   ]
  },
  {
   "cell_type": "code",
   "execution_count": null,
   "id": "868c2adb-ae99-4a95-95bb-f86c7c3fc974",
   "metadata": {},
   "outputs": [],
   "source": [
    "%openad import  from '~/openad_notebooks/examples/reactions.csv' to 'reactions.csv'\n",
    "%openad predict reaction in batch from file 'reactions.csv'"
   ]
  },
  {
   "cell_type": "markdown",
   "id": "94175849-50e8-4d5d-bc97-9545d38e7116",
   "metadata": {},
   "source": [
    "### Batch Predictions"
   ]
  },
  {
   "cell_type": "code",
   "execution_count": null,
   "id": "28425cd2-289a-41cf-9017-4e9a6e48177b",
   "metadata": {},
   "outputs": [],
   "source": [
    "%openad predict reaction in batch from list ['BrBr.c1ccc2cc3ccccc3cc2c1CCO' ,'Cl.CCC(=O)NCCC.O'] "
   ]
  },
  {
   "cell_type": "markdown",
   "id": "76c2a06c-d69e-4758-a66c-069e9513b760",
   "metadata": {},
   "source": [
    "### Using the [use_saved] clause"
   ]
  },
  {
   "cell_type": "markdown",
   "id": "3be03ac3-9c8a-4692-8d53-04202df23838",
   "metadata": {},
   "source": [
    "Providing the ability to reuse recently run previous reaction runs"
   ]
  },
  {
   "cell_type": "code",
   "execution_count": null,
   "id": "cf813e5f-24b2-4757-9d31-1d8756b7b994",
   "metadata": {},
   "outputs": [],
   "source": [
    "%openad predict reaction in batch  from list ['BrBr.c1ccc2cc3ccccc3cc2c1CCO' ,'BrBr.c1ccc2cc3ccccc3cc2c1','Cl.CCC(=O)NCCC.O'] use_saved"
   ]
  },
  {
   "cell_type": "code",
   "execution_count": null,
   "id": "b93788a6-25aa-4898-8a73-c3ed20807232",
   "metadata": {},
   "outputs": [],
   "source": [
    "%openad set context rxn\n",
    "import pandas\n",
    "lst = ['BrBr.c1ccc2cc3ccccc3cc2c1CCO' ,'Cl.CCC(=O)NCCC.O'] \n",
    "batch_list = pandas.DataFrame(lst,columns=['reactions'])\n",
    "%openad predict reaction topn in batch from dataframe batch_list using (topn=3) use_saved"
   ]
  }
 ],
 "metadata": {
  "kernelspec": {
   "display_name": "ad-kernel",
   "language": "python",
   "name": "ad-kernel"
  },
  "language_info": {
   "codemirror_mode": {
    "name": "ipython",
    "version": 3
   },
   "file_extension": ".py",
   "mimetype": "text/x-python",
   "name": "python",
   "nbconvert_exporter": "python",
   "pygments_lexer": "ipython3",
   "version": "3.10.10"
  }
 },
 "nbformat": 4,
 "nbformat_minor": 5
}
