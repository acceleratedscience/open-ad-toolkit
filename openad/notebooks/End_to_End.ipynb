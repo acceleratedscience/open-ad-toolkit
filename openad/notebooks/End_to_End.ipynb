{
 "cells": [
  {
   "cell_type": "markdown",
   "id": "e640bc7c-7774-4802-8e92-9599f807eba2",
   "metadata": {},
   "source": [
    "# End to End Accelerated Discovery Short Demonstration"
   ]
  },
  {
   "cell_type": "markdown",
   "id": "32750bf5-c759-4e4e-8c30-d11a72351638",
   "metadata": {
    "execution": {
     "iopub.execute_input": "2024-05-20T09:16:40.651778Z",
     "iopub.status.busy": "2024-05-20T09:16:40.651473Z",
     "iopub.status.idle": "2024-05-20T09:16:40.660748Z",
     "shell.execute_reply": "2024-05-20T09:16:40.659152Z",
     "shell.execute_reply.started": "2024-05-20T09:16:40.651752Z"
    },
    "tags": []
   },
   "source": [
    "<div>\n",
    "<img src=\"./media/genai.png\" left-align style=\" width: 500px; height: 300px\"/>\n",
    "</div>"
   ]
  },
  {
   "cell_type": "markdown",
   "id": "bf2d65ac-48fc-43d6-837c-e604b1cafff9",
   "metadata": {},
   "source": [
    "To setup our services we will first catalog the services in our toolkit\n",
    "\n",
    "The first service we will name 'gen' for our generation services then for our Property Prediction services we will catalog our Property services as 'prop'.\n",
    "\n",
    "These two service names will be the Namespace prefix for their respective services.\n",
    "\n",
    "### Catalog our Model Services:\n",
    "\n",
    "***-First lets catalog our generative model  set of functions that include Paccmann,Reinvent, torch Drug and Guacamol services.***\n",
    "\n",
    "Run the followng from your Openad Command line or from a notebook `%openad`\n",
    "\n",
    " `catalog model service from 'git@github.com:acceleratedscience/generation_inference_service.git' as 'gen'`\n",
    " \n",
    "***-Secondly lets catalog the Property Prediction Services.***\n",
    "\n",
    "Run the followng from your Openad Command line or from a notebook `%openad`\n",
    "\n",
    " `catalog model service from 'git@github.com:acceleratedscience/property_inference_service.git' as 'prop'`\n",
    " \n",
    "\n",
    "***To start these two services you can run the following commands:***\n",
    " \n",
    " `model service up  'gen'`\n",
    " \n",
    " `model service up  'prop'`\n"
   ]
  },
  {
   "cell_type": "markdown",
   "id": "4f19fa20-cef5-4c22-aad3-5d7396661ac5",
   "metadata": {
    "jp-MarkdownHeadingCollapsed": true,
    "tags": []
   },
   "source": [
    "## Working with OpenAD Magic Commands\n",
    "\n",
    "When using Magic commands to access the Openad toolkit you have 2 options \n",
    "\n",
    "1. `%openad` provides a simple user interface that provides styled and formatted objects back to the notebook. Tables use pandas Dataframe Styler object. These can be converted back to data frame objects using `.data` on the object or using the in memory assistant which will copy the last result to a file , dataframe or to the dataviewer.\n",
    "  When this is available you will see `Next up, you can run: result open/edit/copy/display/as dataframe/save [as '<filename.csv>']` in the output.\n",
    "  \n",
    "  This magic command is the recommended version to use as it willprovide all warning and results visually.\n",
    "  \n",
    "2. `%openadd` is the second form that allows you to return api style results in dataframe or list formats that can be used programatically for functions or flows in your notebook. This is good for prebuilt notebook process flows."
   ]
  },
  {
   "cell_type": "markdown",
   "id": "8bb4ef70-c10a-4883-82f8-45e14d91d89b",
   "metadata": {
    "execution": {
     "iopub.execute_input": "2024-05-20T09:23:16.006846Z",
     "iopub.status.busy": "2024-05-20T09:23:16.006426Z",
     "iopub.status.idle": "2024-05-20T09:23:16.012783Z",
     "shell.execute_reply": "2024-05-20T09:23:16.012023Z",
     "shell.execute_reply.started": "2024-05-20T09:23:16.006819Z"
    },
    "tags": []
   },
   "source": [
    "# Demonstration:"
   ]
  },
  {
   "cell_type": "markdown",
   "id": "5fa42c6f-6706-48a8-b0aa-8770616d0934",
   "metadata": {},
   "source": [
    "## Generate similar molecules to PFAS molecules with similar soluability and search patents including the generated molecules."
   ]
  },
  {
   "cell_type": "markdown",
   "id": "f54412c2-22e3-4c5f-a3f3-aabf7865130c",
   "metadata": {},
   "source": [
    "### Step 1: Use Deep Search to identify molecules related to PFAS and download their PubChem collection data"
   ]
  },
  {
   "cell_type": "code",
   "execution_count": null,
   "id": "38b05b24-fd56-4248-af20-af6c6d85198d",
   "metadata": {
    "tags": []
   },
   "outputs": [],
   "source": [
    "%openad set context ds4sd\n",
    "df = %openadd search collection 'PubChem' for 'PFOA OR PFOS OR PFHxS OR PFNA OR HFPO-DA'\n"
   ]
  },
  {
   "cell_type": "markdown",
   "id": "ec328022-7087-4e02-9a02-147a0610c4db",
   "metadata": {},
   "source": [
    "### Step 3: load molecules into our OpenAD molecule set"
   ]
  },
  {
   "cell_type": "code",
   "execution_count": null,
   "id": "0ad809f9-90af-460b-9346-bffa51e6d7b4",
   "metadata": {
    "tags": []
   },
   "outputs": [],
   "source": [
    "%openad load molecules using dataframe df"
   ]
  },
  {
   "cell_type": "markdown",
   "id": "0c5fe47b-eed9-4766-ac40-6e7e9d681685",
   "metadata": {
    "execution": {
     "iopub.execute_input": "2024-05-13T07:26:03.339697Z",
     "iopub.status.busy": "2024-05-13T07:26:03.339382Z",
     "iopub.status.idle": "2024-05-13T07:26:03.346089Z",
     "shell.execute_reply": "2024-05-13T07:26:03.345276Z",
     "shell.execute_reply.started": "2024-05-13T07:26:03.339670Z"
    },
    "tags": []
   },
   "source": [
    "### Step 3: From the list of molecules generate additional properties not available from Deep Search PubChem COllection and update our molecule set using Openad Model Service"
   ]
  },
  {
   "cell_type": "code",
   "execution_count": null,
   "id": "8827ef75-1bf6-41d6-84a3-33f58f6b6745",
   "metadata": {
    "tags": []
   },
   "outputs": [],
   "source": [
    "#get list of Smiles molecules\n",
    "a_list = list(set(df['SMILES'].to_list()))\n",
    "\n",
    "#Define list of Delta to be inferred properties\n",
    "properties = ['is_scaffold', 'bertz', 'tpsa', 'logp', 'qed', 'plogp', 'penalized_logp', 'lipinski', 'sas', 'esol']\n",
    "\n",
    "# Generate SMILES properties\n",
    "properties = %openadd prop get molecule property {properties} for  {a_list} \n",
    "%openad merge molecules data using dataframe properties"
   ]
  },
  {
   "cell_type": "markdown",
   "id": "5a6bd729-2a6f-4184-99fe-b1de20f68fd7",
   "metadata": {
    "execution": {
     "iopub.execute_input": "2024-05-13T07:28:42.461718Z",
     "iopub.status.busy": "2024-05-13T07:28:42.461365Z",
     "iopub.status.idle": "2024-05-13T07:28:42.468797Z",
     "shell.execute_reply": "2024-05-13T07:28:42.467947Z",
     "shell.execute_reply.started": "2024-05-13T07:28:42.461687Z"
    },
    "tags": []
   },
   "source": [
    "### Lets Examine the available Molecules"
   ]
  },
  {
   "cell_type": "code",
   "execution_count": null,
   "id": "41c215e7-e701-4837-84ed-ffc3bbd78c8e",
   "metadata": {
    "tags": []
   },
   "outputs": [],
   "source": [
    "mol_list = %openadd export molecules\n",
    "%openad show molecules using dataframe mol_list"
   ]
  },
  {
   "cell_type": "code",
   "execution_count": null,
   "id": "9029b147-99d2-4645-843e-26bf5410ab9e",
   "metadata": {
    "tags": []
   },
   "outputs": [],
   "source": [
    "%openad display molecule 'Perfluorononanoic acid'"
   ]
  },
  {
   "cell_type": "markdown",
   "id": "7d3960d0-219f-405b-b8d4-95ec5a8b87a6",
   "metadata": {},
   "source": [
    "### Step 4: For each of the molecules use Regression Transformer to to generate similar molecules with similar soluability"
   ]
  },
  {
   "cell_type": "code",
   "execution_count": null,
   "id": "da7a67ce-522f-4553-83d4-664c4dc5a75b",
   "metadata": {
    "tags": []
   },
   "outputs": [],
   "source": [
    "datasets = []\n",
    "for row in mol_list.to_dict(\"records\"):\n",
    "    MY_SMILES= row['canonical_smiles']\n",
    "    esol= float(row['esol'])\n",
    "    MY_PARAMS = { \"fraction_to_mask\": 0.1 , \"property_goal\": { \"<esol>\": esol} }\n",
    "    print(\"Generating Molecules for \"+MY_SMILES+\" with soluability:\"+str(row['esol']) )\n",
    "    result = %openadd gen generate with RegressionTransformerMolecules data for $MY_SMILES sample 20 using(algorithm_version=solubility  search=sample temperature=1.5 tolerance=60.0 sampling_wrapper = \"$MY_PARAMS\" )\n",
    "    display(result)\n",
    "    datasets.append(result)"
   ]
  },
  {
   "cell_type": "markdown",
   "id": "79bbbac2-0f0a-47a3-8af5-6b42a0adc1f4",
   "metadata": {},
   "source": [
    "### Step 5 Now lets use Deep Search to search for patents that may contain some or all of these molecules "
   ]
  },
  {
   "cell_type": "code",
   "execution_count": null,
   "id": "c2fee715-3ec5-4766-bea8-19f89cfe16e9",
   "metadata": {
    "tags": []
   },
   "outputs": [],
   "source": [
    "x = 0\n",
    "patents_to_search=[]\n",
    "patented_molecules=[]\n",
    "for result in datasets:  \n",
    "    for mol in result['0'].to_list():\n",
    "        x = %openadd search for patents containing molecule '{mol}'\n",
    "        if isinstance(x,DataFrame):\n",
    "            patents_to_search.extend(x[\"PATENT ID\"].to_list())\n",
    "            patented_molecules.append(mol)\n",
    "\n",
    "str(patents_to_search)"
   ]
  },
  {
   "cell_type": "markdown",
   "id": "56de6738-59a5-469b-83fb-0cdede1d0677",
   "metadata": {
    "execution": {
     "iopub.execute_input": "2024-05-14T03:57:35.526422Z",
     "iopub.status.busy": "2024-05-14T03:57:35.525909Z",
     "iopub.status.idle": "2024-05-14T03:57:35.531773Z",
     "shell.execute_reply": "2024-05-14T03:57:35.531012Z",
     "shell.execute_reply.started": "2024-05-14T03:57:35.526394Z"
    },
    "tags": []
   },
   "source": [
    "### Step 6: Add Patented Molecules and generate properties for new molecules"
   ]
  },
  {
   "cell_type": "code",
   "execution_count": null,
   "id": "07c23766-a774-4342-a24d-c224f4e2a886",
   "metadata": {
    "tags": []
   },
   "outputs": [],
   "source": [
    "properties_all = ['molecular_weight', 'number_of_aromatic_rings', 'number_of_h_acceptors', 'number_of_atoms','number_of_rings', 'number_of_rotatable_bonds', 'number_of_large_rings', 'number_of_heterocycles', 'number_of_stereocenters','is_scaffold', 'bertz', 'tpsa', 'logp', 'qed', 'plogp', 'penalized_logp', 'lipinski', 'sas', 'esol']\n",
    "\n",
    "new_props = %openadd prop get molecule property {properties_all} for {patented_molecules} \n",
    "\n",
    "for x in patented_molecules:\n",
    "    %openad add molecule {x} Force\n",
    "\n",
    "%openad merge molecules data using dataframe new_props\n",
    "%openad enrich molecules with analysis\n"
   ]
  },
  {
   "cell_type": "code",
   "execution_count": null,
   "id": "670d2a53-a088-43d3-96fb-be5cc97e71ce",
   "metadata": {
    "tags": []
   },
   "outputs": [],
   "source": [
    "Full_list = %openadd export molecules\n",
    "%openad show molecules using dataframe Full_list\n"
   ]
  },
  {
   "cell_type": "code",
   "execution_count": null,
   "id": "62d5c9fa-8cb3-4675-8c0e-587b037d5ea3",
   "metadata": {
    "tags": []
   },
   "outputs": [],
   "source": [
    "%openad set context rxn"
   ]
  },
  {
   "cell_type": "code",
   "execution_count": null,
   "id": "4e447364-9493-40d6-94ba-dd8b26e73b5f",
   "metadata": {
    "tags": []
   },
   "outputs": [],
   "source": [
    "%openad predict retrosynthesis  'O=S(=O)(F)C(F)(F)C(F)(F)C(F)(F)C(F)(F)C(F)(F)C(F)(F)C(F)(F)C(F)(F)F'"
   ]
  },
  {
   "cell_type": "code",
   "execution_count": null,
   "id": "211cdf90-874e-4153-8fd9-e1c9b34e3ce1",
   "metadata": {
    "tags": []
   },
   "outputs": [],
   "source": [
    "%openad display molecule 'O=S(=O)(F)C(F)(F)C(F)(F)C(F)(F)C(F)(F)C(F)(F)C(F)(F)C(F)(F)C(F)(F)F'"
   ]
  },
  {
   "cell_type": "code",
   "execution_count": null,
   "id": "8dcf5c83-c4b3-4cab-b7af-5906c865e5e9",
   "metadata": {},
   "outputs": [],
   "source": []
  }
 ],
 "metadata": {
  "kernelspec": {
   "display_name": "ad-venv",
   "language": "python",
   "name": "ad-venv"
  },
  "language_info": {
   "codemirror_mode": {
    "name": "ipython",
    "version": 3
   },
   "file_extension": ".py",
   "mimetype": "text/x-python",
   "name": "python",
   "nbconvert_exporter": "python",
   "pygments_lexer": "ipython3",
   "version": "3.11.7"
  }
 },
 "nbformat": 4,
 "nbformat_minor": 5
}
