{
 "cells": [
  {
   "cell_type": "markdown",
   "id": "dc82446c",
   "metadata": {},
   "source": [
    "# Molecule Grid"
   ]
  },
  {
   "cell_type": "code",
   "execution_count": null,
   "id": "47307cc6",
   "metadata": {
    "tags": []
   },
   "outputs": [],
   "source": [
    "result = %openad show molecules using file '_mols/base_molecules.sdf' as molsobject\n",
    "result.display()"
   ]
  },
  {
   "cell_type": "code",
   "execution_count": null,
   "id": "3ac81264",
   "metadata": {
    "tags": []
   },
   "outputs": [],
   "source": [
    "selection = result.get_selection()\n",
    "display(selection)"
   ]
  },
  {
   "cell_type": "markdown",
   "id": "7f8c949b-5278-4982-baa4-336183785d9d",
   "metadata": {},
   "source": [
    "<br><br><br><br>\n",
    "# Molecule Viewer"
   ]
  },
  {
   "cell_type": "code",
   "execution_count": 3,
   "id": "d15fbdfe-a042-4ea6-8660-e2d451a650f6",
   "metadata": {},
   "outputs": [
    {
     "data": {
      "text/html": [
       "<iframe src=\"http://127.0.0.1:5004\" width=\"100%\" height=\"700\" style=\"border: solid 1px #ddd;\"></iframe>"
      ],
      "text/plain": [
       "<IPython.core.display.HTML object>"
      ]
     },
     "metadata": {},
     "output_type": "display_data"
    }
   ],
   "source": [
    "# SMILES\n",
    "%openad show mol 'OS(=O)(=O)O'"
   ]
  },
  {
   "cell_type": "code",
   "execution_count": 11,
   "id": "b04771be-112f-4f0e-a9b4-d4ba1e90ca0d",
   "metadata": {},
   "outputs": [
    {
     "data": {
      "text/html": [
       "<iframe src=\"http://127.0.0.1:5009\" width=\"100%\" height=\"700\" style=\"border: solid 1px #ddd;\"></iframe>"
      ],
      "text/plain": [
       "<IPython.core.display.HTML object>"
      ]
     },
     "metadata": {},
     "output_type": "display_data"
    }
   ],
   "source": [
    "# InChI\n",
    "%openad show mol 'InChI=1S/C10H14O/c1-7-5-9(11)6-8(2)10(7,3)4/h5-6H,1-4H3'"
   ]
  },
  {
   "cell_type": "code",
   "execution_count": 19,
   "id": "6a9b6caf-5089-4a11-b82a-37c57bf461c3",
   "metadata": {},
   "outputs": [
    {
     "data": {
      "text/html": [
       "<iframe src=\"http://127.0.0.1:5012\" width=\"100%\" height=\"700\" style=\"border: solid 1px #ddd;\"></iframe>"
      ],
      "text/plain": [
       "<IPython.core.display.HTML object>"
      ]
     },
     "metadata": {},
     "output_type": "display_data"
    }
   ],
   "source": [
    "# SDF file\n",
    "%openad show mol 'mol1.sdf'"
   ]
  },
  {
   "cell_type": "code",
   "execution_count": 3,
   "id": "c9fc6117-61a5-49c9-b33f-52f3f0274bdd",
   "metadata": {},
   "outputs": [
    {
     "data": {
      "text/markdown": [
       "<span style=\"color: red\">The selected SDF file is invalid</span><br><span style=\"color: #ccc\">SDF file contains more than one molecule</span>"
      ],
      "text/plain": [
       "<IPython.core.display.Markdown object>"
      ]
     },
     "metadata": {},
     "output_type": "display_data"
    }
   ],
   "source": [
    "# SDF file - invalid\n",
    "%openad show mol 'base_molecules.sdf'"
   ]
  },
  {
   "cell_type": "code",
   "execution_count": 2,
   "id": "e188963a-2d61-44e0-a040-eff05b794415",
   "metadata": {},
   "outputs": [
    {
     "data": {
      "text/html": [
       "<iframe src=\"http://127.0.0.1:5004\" width=\"100%\" height=\"700\" style=\"border: solid 1px #ddd;\"></iframe>"
      ],
      "text/plain": [
       "<IPython.core.display.HTML object>"
      ]
     },
     "metadata": {},
     "output_type": "display_data"
    }
   ],
   "source": [
    "# CSV file\n",
    "%openad show mol 'mol.csv'"
   ]
  },
  {
   "cell_type": "code",
   "execution_count": 1,
   "id": "b0b10c1c-0a88-4def-82c7-5a2d2ea0ad09",
   "metadata": {},
   "outputs": [
    {
     "data": {
      "text/markdown": [
       "<span style=\"color: red\">The selected CSV file is invalid</span><br><span style=\"color: #ccc\">cannot access local variable 'mol_pdb' where it is not associated with a value</span>"
      ],
      "text/plain": [
       "<IPython.core.display.Markdown object>"
      ]
     },
     "metadata": {},
     "output_type": "display_data"
    }
   ],
   "source": [
    "# CSV file - invalid\n",
    "%openad show mol 'base_molecules.csv'"
   ]
  },
  {
   "cell_type": "code",
   "execution_count": 1,
   "id": "91268fa1-fb7a-47d4-82f5-84cea7c0d834",
   "metadata": {},
   "outputs": [
    {
     "data": {
      "text/html": [
       "<iframe src=\"http://127.0.0.1:5002\" width=\"100%\" height=\"700\" style=\"border: solid 1px #ddd;\"></iframe>"
      ],
      "text/plain": [
       "<IPython.core.display.HTML object>"
      ]
     },
     "metadata": {},
     "output_type": "display_data"
    }
   ],
   "source": [
    "# OpenAD JSON format\n",
    "%openad show mol 'ibuprofen.json'"
   ]
  },
  {
   "cell_type": "markdown",
   "id": "a7c5f49c",
   "metadata": {},
   "source": [
    "<br><br><br><br>\n",
    "# Data Viewer"
   ]
  },
  {
   "cell_type": "code",
   "execution_count": null,
   "id": "544045f2",
   "metadata": {},
   "outputs": [],
   "source": [
    "result = %openad display data 'data/sample1.csv'"
   ]
  },
  {
   "cell_type": "code",
   "execution_count": null,
   "id": "f210516c",
   "metadata": {},
   "outputs": [],
   "source": [
    "%openad result open"
   ]
  },
  {
   "cell_type": "code",
   "execution_count": null,
   "id": "bf949e5c",
   "metadata": {},
   "outputs": [],
   "source": [
    "%openad result open"
   ]
  },
  {
   "cell_type": "markdown",
   "id": "9fedd931",
   "metadata": {},
   "source": [
    "<br><br><br><br>\n",
    "# Example app"
   ]
  },
  {
   "cell_type": "code",
   "execution_count": null,
   "id": "9c4bdf5b",
   "metadata": {},
   "outputs": [],
   "source": [
    "result = %openad flask example"
   ]
  },
  {
   "cell_type": "code",
   "execution_count": null,
   "id": "f4158406",
   "metadata": {},
   "outputs": [],
   "source": [
    "submitted_text = None\n",
    "if 'form' in result:\n",
    "    if 'someAjaxInput' in result['form']:\n",
    "        submitted_text = result['form']['someAjaxInput']\n",
    "    elif 'someInput' in result['form']:\n",
    "        submitted_text = result['form']['someInput']\n",
    "else:\n",
    "    print('Form not submitted.')\n",
    "\n",
    "if submitted_text:    \n",
    "    print(f'The submited value: \"{submitted_text}\"')\n",
    "    print('\\nThe returned result object looks like this:')\n",
    "    print(result)"
   ]
  }
 ],
 "metadata": {
  "kernelspec": {
   "display_name": "venv",
   "language": "python",
   "name": "venv"
  },
  "language_info": {
   "codemirror_mode": {
    "name": "ipython",
    "version": 3
   },
   "file_extension": ".py",
   "mimetype": "text/x-python",
   "name": "python",
   "nbconvert_exporter": "python",
   "pygments_lexer": "ipython3",
   "version": "3.11.2"
  }
 },
 "nbformat": 4,
 "nbformat_minor": 5
}
