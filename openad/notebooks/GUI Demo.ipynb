{
 "cells": [
  {
   "cell_type": "code",
   "execution_count": null,
   "id": "cacc55b9-c67e-4043-8669-97cc01a1cf21",
   "metadata": {
    "jupyter": {
     "source_hidden": true
    }
   },
   "outputs": [],
   "source": [
    "\n",
    "import sys\n",
    "sys.path.append('./styles')\n",
    "from init_style import init\n",
    "init()\n",
    "\n",
    "<div class=\"banner\"><div>Graphical User Interface</div><b>OpenAD <span>Demo</span></b></div>"
   ]
  },
  {
   "cell_type": "markdown",
   "id": "af1a5048-2868-4e3f-8764-ff63c729c9e4",
   "metadata": {},
   "source": [
    "# Working with the OpenAD GUI\n",
    "\n",
    "Our Graphical User Interface (GUI) is meant to complement the OpenAD Command Line Interface (CLI), enabling you to visualize molecules and inspect/triage your data in a more user-friendly manner.\n",
    "\n",
    "In this Notebook, we'll look into the basics of how to use the GUI in your process flows."
   ]
  },
  {
   "cell_type": "markdown",
   "id": "6799af53-d1d5-4468-9eb4-7f7b6469afa1",
   "metadata": {},
   "source": [
    "### Setup\n",
    "\n",
    "We'll start by creating a fresh demo workspace and copy some example files over."
   ]
  },
  {
   "cell_type": "code",
   "execution_count": null,
   "id": "d60f3690-2a85-48a5-af45-f948c1491652",
   "metadata": {},
   "outputs": [],
   "source": [
    "# Create a GUI_DEMO workspace\n",
    "%openad clear sessions force\n",
    "%openad create workspace gui_demo description('This workspace was created by the GUI Demo Notebook')\n",
    "\n",
    "# Import all example files into your newly created workspace\n",
    "import os\n",
    "for file in os.listdir(os.path.join(os.getcwd(), 'example_files')):\n",
    "    source = f\"{current_dir}/example_files/{file}\"\n",
    "    dest = file\n",
    "    %openad import from '{source}' to '{dest}'"
   ]
  },
  {
   "cell_type": "markdown",
   "id": "97af082d-35ed-4fc1-bdb8-ff4935ad7eff",
   "metadata": {},
   "source": [
    "## 1. File Browser\n",
    "\n",
    "The file browser lets you view the files and directories in your workspace.\n",
    "\n",
    "Its main advantage is that you can open your molecule files directly into the molecule viewer.\n",
    "\n",
    "    show workspace\n",
    "\n",
    "\n",
    "The file browser is meant for viewing only. If you need to rename or move around files, you can open your workspace directory in your operating system's file manager.\n",
    "\n",
    "    open workspace"
   ]
  },
  {
   "cell_type": "code",
   "execution_count": null,
   "id": "60c3cfac-5d89-4768-bd2d-873c3e78586c",
   "metadata": {
    "scrolled": true
   },
   "outputs": [],
   "source": [
    "%openad show workspace"
   ]
  },
  {
   "cell_type": "markdown",
   "id": "4043e12a-e64d-4a6c-81bc-b261409ed438",
   "metadata": {},
   "source": [
    "## 2. Molecule Set Viewer\n",
    "\n",
    "Inspecting molecule datasets can be done with the Molcule Set (or Molset) Viewer. This interface displays a batch of molecules in a paginated grid, lets you sort them by their properties, search them by substructures and delete the ones you don't need.\n",
    "\n",
    "The recommended format for storing molecules sets within OpenAD is `.molset.json`. These JSON files can be exported to other file formats that are also supported by the Molset Viewer.\n",
    "\n",
    "Supported file formats:\n",
    "- **JSON** (.molset.json)\n",
    "- **CSV** (.csv) (*)\n",
    "- **SDF** (.sdf)\n",
    "- **SMILES** (.smi)\n",
    "\n",
    "_(*) At the time being, CSV files can't be directly opened as a molecule set. For now you need to convert them to a dataframe first, as shown in the example below._"
   ]
  },
  {
   "cell_type": "code",
   "execution_count": null,
   "id": "47307cc6",
   "metadata": {
    "tags": []
   },
   "outputs": [],
   "source": [
    "%openad show molset 'neurotransmitters.molset.json'\n",
    "# %openad show molset 'neurotransmitters.sdf'\n",
    "# %openad show molset 'neurotransmitters.smi'"
   ]
  },
  {
   "cell_type": "markdown",
   "id": "3943f78c-f57e-4b2e-8037-496ae8ecc950",
   "metadata": {},
   "source": [
    "### Using dataframes\n",
    "\n",
    "The Molset Viewer can also visualize dataframes directly from your Notebooks, as long as they have a SMILES or an InChI column.\n",
    "\n",
    "<div class=\"alert alert-block alert-info\"><b>TIP:</b> Store your workspace path into a variable and prepend it to your file names to easily read files from your workspace.</div>"
   ]
  },
  {
   "cell_type": "code",
   "execution_count": null,
   "id": "541bc260-3965-45ad-b9f3-05c253c9a088",
   "metadata": {},
   "outputs": [],
   "source": [
    "import pandas as pd\n",
    "workspace_path = %openadd get workspace path\n",
    "df = pd.read_csv(f\"{workspace_path}/neurotransmitters.csv\")\n",
    "%openad show molset using dataframe df"
   ]
  },
  {
   "cell_type": "markdown",
   "id": "9e2b2b5a-fcaf-4e12-83d0-b99451e42d0a",
   "metadata": {},
   "source": [
    "## Molecule Viewer\n",
    "\n",
    "The Molecule Viewer lets you visualize both small molecules and macromolecules like proteins.\n",
    "\n",
    "The recommended format for storing small molecules within OpenAD is `.smol.json`, while macromolecules can be stored as `.mmol.json`. These JSON files can be exported to other file formats that are also supported by the Molecule Viewer.\n",
    "\n",
    "Supported <u>**small molecule**</u> file formats:\n",
    "- **JSON** (.smol.json)\n",
    "- **MDL** (.mol)\n",
    "\n",
    "Supported <u>**macromolecule**</u> file formats:\n",
    "- **JSON** (.mmol.json)\n",
    "- **CIF** (.cif)\n",
    "- **PDB** (.pdb)"
   ]
  },
  {
   "cell_type": "code",
   "execution_count": 16,
   "id": "740b55f5-60f9-490f-9cbb-dd2dc9c28397",
   "metadata": {},
   "outputs": [
    {
     "data": {
      "text/html": [
       "\n",
       "            <style>\n",
       "                #btn-wrap-1728190284 { height:12px; right:20px; display:flex; flex-direction:row-reverse; position:relative }\n",
       "                #btn-wrap-1728190284 a { color:#393939; width:24px; height:24px; padding:4px; box-sizing:border-box; background:white }\n",
       "                #btn-wrap-1728190284 a:hover { color: #0f62fe }\n",
       "            </style>\n",
       "            <div id=\"btn-wrap-1728190284\"><a target=\"_blank\" href=\"http://127.0.0.1:8024/smol/penguinone\"><svg width=\"16\" height=\"16\" viewBox=\"0 0 16 16\" fill=\"none\" xmlns=\"http://www.w3.org/2000/svg\"><path d=\"M13 14H3C2.73489 13.9996 2.48075 13.8942 2.29329 13.7067C2.10583 13.5193 2.00036 13.2651 2 13V3C2.00036 2.73489 2.10583 2.48075 2.29329 2.29329C2.48075 2.10583 2.73489 2.00036 3 2H8V3H3V13H13V8H14V13C13.9996 13.2651 13.8942 13.5193 13.7067 13.7067C13.5193 13.8942 13.2651 13.9996 13 14Z\" fill=\"currentColor\"/><path d=\"M10 1V2H13.293L9 6.293L9.707 7L14 2.707V6H15V1H10Z\" fill=\"currentColor\"/></svg></a><a href=\"#\" onclick=\"event.preventDefault(); document.querySelector('#btn-wrap-1728190284 + iframe').src=document.querySelector('#btn-wrap-1728190284 + iframe').src;\"><svg width=\"16\" height=\"16\" viewBox=\"0 0 16 16\" fill=\"none\" xmlns=\"http://www.w3.org/2000/svg\"><path d=\"M9 14C10.1867 14 11.3467 13.6481 12.3334 12.9888C13.3201 12.3295 14.0892 11.3925 14.5433 10.2961C14.9974 9.19975 15.1162 7.99335 14.8847 6.82946C14.6532 5.66558 14.0818 4.59648 13.2426 3.75736C12.4035 2.91825 11.3344 2.3468 10.1705 2.11529C9.00666 1.88378 7.80026 2.0026 6.7039 2.45673C5.60754 2.91085 4.67047 3.67989 4.01118 4.66658C3.35189 5.65328 3 6.81331 3 8V11.1L1.2 9.3L0.5 10L3.5 13L6.5 10L5.8 9.3L4 11.1V8C4 7.0111 4.29324 6.0444 4.84265 5.22215C5.39206 4.39991 6.17295 3.75904 7.08658 3.38061C8.00021 3.00217 9.00555 2.90315 9.97545 3.09608C10.9454 3.289 11.8363 3.76521 12.5355 4.46447C13.2348 5.16373 13.711 6.05465 13.9039 7.02455C14.0969 7.99446 13.9978 8.99979 13.6194 9.91342C13.241 10.8271 12.6001 11.6079 11.7779 12.1574C10.9556 12.7068 9.98891 13 9 13V14Z\" fill=\"currentColor\"/></svg></a></div><iframe src=\"http://127.0.0.1:8024/headless/smol/penguinone\" crossorigin=\"anonymous\" width=\"100%\" height=\"700\" style=\"border:solid 1px #ddd;box-sizing:border-box;width:calc(100% + 20px)\"></iframe>"
      ],
      "text/plain": [
       "<IPython.core.display.HTML object>"
      ]
     },
     "metadata": {},
     "output_type": "display_data"
    }
   ],
   "source": [
    "# Look up a small molecule by its different identifiers:\n",
    "\n",
    "# By name\n",
    "%openad show mol penguinone\n",
    "\n",
    "# By InChI\n",
    "# %openad show mol InChI=1S/C10H14O/c1-7-5-9(11)6-8(2)10(7,3)4/h5-6H,1-4H3\n",
    "\n",
    "# By InChIKey\n",
    "# %openad show mol RHIYIMQPIGYWEK-UHFFFAOYSA-N\n",
    "\n",
    "# By SMILES\n",
    "# %openad show mol CC1=CC(=O)C=C(C1(C)C)C\n",
    "\n",
    "# By PubChem CID\n",
    "# %openad show mol 12564106"
   ]
  },
  {
   "cell_type": "code",
   "execution_count": null,
   "id": "51f691e5-2344-4b93-8359-526dd7977894",
   "metadata": {},
   "outputs": [],
   "source": [
    "# Look up a macromolecule by its FASTA string\n",
    "%openad show mmol MKLSARNQLAGKVVSIKEGAVNGIVVLDIGGGNQISSTISMDSIRELGLQVGSDAYAVIKATSVMIGIDDWSHPQFEK"
   ]
  },
  {
   "cell_type": "code",
   "execution_count": null,
   "id": "fc2a8407-dc06-4dbb-8189-43db9f0ca26c",
   "metadata": {},
   "outputs": [],
   "source": [
    "# Look up a macromolecule by its Protein Data Bank ID\n",
    "# Note: you can use the word \"protein\" instead of \"mmol\", they are interchangeable.\n",
    "%openad show protein '2g64'"
   ]
  },
  {
   "cell_type": "markdown",
   "id": "a7c5f49c",
   "metadata": {},
   "source": [
    "# Data Viewer\n",
    "\n",
    "The Data Viewer lets you easily view, sort and edit data from CSV files.\n",
    "\n",
    "This viewer is currently not yet integrated with the rest of the GUI. As a result, you can't directly open CSV files from the File Browser into the Data Viewer, instead you have to convert them into a dataframe first."
   ]
  },
  {
   "cell_type": "code",
   "execution_count": 33,
   "id": "544045f2",
   "metadata": {
    "tags": []
   },
   "outputs": [
    {
     "data": {
      "text/html": [
       "<iframe src=\"http://127.0.0.1:8032\" width=\"100%\" height=\"700\" style=\"border: solid 1px #ddd;\"></iframe>"
      ],
      "text/plain": [
       "<IPython.core.display.HTML object>"
      ]
     },
     "metadata": {},
     "output_type": "display_data"
    }
   ],
   "source": [
    "result = %openadd display data 'air_quality.csv'\n",
    "%openad result open"
   ]
  }
 ],
 "metadata": {
  "kernelspec": {
   "display_name": "venv",
   "language": "python",
   "name": "venv"
  },
  "language_info": {
   "codemirror_mode": {
    "name": "ipython",
    "version": 3
   },
   "file_extension": ".py",
   "mimetype": "text/x-python",
   "name": "python",
   "nbconvert_exporter": "python",
   "pygments_lexer": "ipython3",
   "version": "3.10.14"
  }
 },
 "nbformat": 4,
 "nbformat_minor": 5
}
