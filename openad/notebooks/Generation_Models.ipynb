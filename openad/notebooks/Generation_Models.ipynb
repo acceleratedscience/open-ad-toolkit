{
 "cells": [
  {
   "cell_type": "markdown",
   "id": "121a3555-f177-4051-9704-056bcbf35786",
   "metadata": {},
   "source": [
    "# Generation Models"
   ]
  },
  {
   "cell_type": "markdown",
   "id": "2ac82682-e02f-4571-81b2-f7fa3ee2e861",
   "metadata": {
    "execution": {
     "iopub.execute_input": "2024-05-20T08:30:07.752786Z",
     "iopub.status.busy": "2024-05-20T08:30:07.752484Z",
     "iopub.status.idle": "2024-05-20T08:30:07.760134Z",
     "shell.execute_reply": "2024-05-20T08:30:07.758756Z",
     "shell.execute_reply.started": "2024-05-20T08:30:07.752759Z"
    },
    "tags": []
   },
   "source": [
    "<div>\n",
    "<img src=\"./media/genai.png\" left-align style=\" width: 500px; height: 300px\"/>\n",
    "</div>"
   ]
  },
  {
   "cell_type": "markdown",
   "id": "671a6d58-5324-457e-86bd-5037c6ba486f",
   "metadata": {
    "execution": {
     "iopub.execute_input": "2024-05-15T06:25:18.874985Z",
     "iopub.status.busy": "2024-05-15T06:25:18.874660Z",
     "iopub.status.idle": "2024-05-15T06:25:18.886805Z",
     "shell.execute_reply": "2024-05-15T06:25:18.884673Z",
     "shell.execute_reply.started": "2024-05-15T06:25:18.874956Z"
    },
    "tags": []
   },
   "source": [
    "\n",
    "\n",
    "To setup our model generation services we will first catalog the service in our toolkit and name it 'gen' which is the name we will give the main services that use torch framework. and 'moler' for the generation service using the tensorflow framework.\n",
    "\n",
    "These two service names will be the Namespace prefix for their respective services.\n",
    "\n",
    "### Catalog our  Generation Models:\n",
    "\n",
    "***-First lets catalog our generative model  set of functions that include Paccmann,Reinvent, torch Drug and Guacamol services.***\n",
    "\n",
    "run the followng from your Openad Command line or from a notebook %openad\n",
    "\n",
    " `catalog model service from 'git@github.com:acceleratedscience/generation_inference_service.git' as 'gen'`\n",
    " \n",
    "***-Secondly lets catalog the Moler molecule generation.***\n",
    "\n",
    "run the followng from your Openad Command line or from a notebook %openad\n",
    "\n",
    " `catalog model service from 'git@github.com:acceleratedscience/moler_inference_service.git' as 'moler'`\n",
    " \n",
    "\n",
    "***To start these two services you can run the following commands:***\n",
    " \n",
    " `model service up  'gen'`\n",
    " \n",
    " `model service up  'moler'`\n"
   ]
  },
  {
   "cell_type": "markdown",
   "id": "8987aea0-cf9e-4d05-ac8b-e9c916193578",
   "metadata": {},
   "source": [
    "Once the service is cataloged, we can set the service to start up with the `model service up` command."
   ]
  },
  {
   "cell_type": "code",
   "execution_count": null,
   "id": "dc25dd81-e0f0-4bc0-b297-0849cdd266b0",
   "metadata": {
    "tags": []
   },
   "outputs": [],
   "source": [
    "%openad model service status"
   ]
  },
  {
   "cell_type": "markdown",
   "id": "4cb87d30-5104-4671-ac82-0d992d9fd203",
   "metadata": {},
   "source": [
    "## Loading the Service Functions"
   ]
  },
  {
   "cell_type": "markdown",
   "id": "1fba7e5a-72f6-4e38-974b-2816d2845a9e",
   "metadata": {},
   "source": [
    "\n",
    "\n",
    "Once the service is cataloged, we can refresh our commands by restarting OpenAD, or in a Notebook follow the below process."
   ]
  },
  {
   "attachments": {
    "19d75859-9817-4c6a-9857-1097ba2aa3c4.png": {
     "image/png": "[encoded data removed]"
    },
    "762c912f-ee34-4845-a299-188ae920e81d.png": {
     "image/png": "[encoded data removed]"
    }
   },
   "cell_type": "markdown",
   "id": "78209b43-704f-4425-9879-0526c9996f59",
   "metadata": {
    "execution": {
     "iopub.execute_input": "2024-05-15T06:30:10.785750Z",
     "iopub.status.busy": "2024-05-15T06:30:10.785458Z",
     "iopub.status.idle": "2024-05-15T06:30:10.795746Z",
     "shell.execute_reply": "2024-05-15T06:30:10.793941Z",
     "shell.execute_reply.started": "2024-05-15T06:30:10.785724Z"
    },
    "tags": []
   },
   "source": [
    "to make the newly cataloged service functions visable and usable you will need to restart the toolkit, this can be done simply by restarting the Notebook kernel. \n",
    "\n",
    "This can be done by choosing the recycle icon in the tool bar. ![image.png](attachment:19d75859-9817-4c6a-9857-1097ba2aa3c4.png)\n",
    "\n",
    "![image.png](attachment:762c912f-ee34-4845-a299-188ae920e81d.png)"
   ]
  },
  {
   "cell_type": "markdown",
   "id": "2b74f2ec-d790-4010-9b45-8bdcd5356c39",
   "metadata": {},
   "source": [
    "### Working Model OpenAD Magic Commands."
   ]
  },
  {
   "cell_type": "markdown",
   "id": "580c4a2f-6b45-4bb2-b933-931fed43480e",
   "metadata": {},
   "source": [
    "When using Magic commands to access the Openad toolkit you have 2 options \n",
    "\n",
    "1. `%openad` provides a simple user interface that provides styled and formatted objects back to the notebook. Tables use pandas Dataframe Styler object. These can be converted back to data frame objects using `.data` on the object or using the in memory assistant which will copy the last result to a file , dataframe or to the dataviewer.\n",
    "  When this is available you will see `Next up, you can run: result open/edit/copy/display/as dataframe/save [as '<filename.csv>']` in the output.\n",
    "  \n",
    "  This magic command is the recommended version to use as it willprovide all warning and results visually.\n",
    "  \n",
    "2. `%openadd` is the second form that allows you to return api style results in dataframe or list formats that can be used programatically for functions or flows in your notebook. This is good for prebuilt notebook process flows."
   ]
  },
  {
   "cell_type": "markdown",
   "id": "168f5ff5-ac79-489f-b137-13186a471816",
   "metadata": {},
   "source": [
    "## Lets Get Started"
   ]
  },
  {
   "cell_type": "markdown",
   "id": "1f51b69e-3a41-4e6d-8e4d-20d60bb341bc",
   "metadata": {},
   "source": [
    "The following commands will show you the respective functions enabled for `moler` and `gen`"
   ]
  },
  {
   "cell_type": "code",
   "execution_count": null,
   "id": "e3600211-ef7d-4d85-a1da-a23f56c4e0e4",
   "metadata": {
    "tags": []
   },
   "outputs": [],
   "source": [
    "%openad gen ?\n",
    "%openad moler ?"
   ]
  },
  {
   "cell_type": "markdown",
   "id": "39e98f69-8e9b-41cb-9854-192bd7c67b19",
   "metadata": {},
   "source": [
    "## Moler Generator functions"
   ]
  },
  {
   "cell_type": "markdown",
   "id": "9264a792-d84b-443e-8700-bfede9899a33",
   "metadata": {},
   "source": [
    "These use Tensorflow and for GPU sharing purpses are kept on a separate system."
   ]
  },
  {
   "cell_type": "code",
   "execution_count": null,
   "id": "6bbe9c6b-e855-44e5-b688-3ea88284e521",
   "metadata": {
    "tags": []
   },
   "outputs": [],
   "source": [
    "%openad moler generate with MoLeRDefaultGenerator data  sample 10"
   ]
  },
  {
   "cell_type": "code",
   "execution_count": null,
   "id": "d3297f0f-67ee-4bce-8457-12d247ba914c",
   "metadata": {
    "tags": []
   },
   "outputs": [],
   "source": [
    "%openad moler generate with MolGXQM9Generator data sample 10"
   ]
  },
  {
   "cell_type": "markdown",
   "id": "11a643f6-1d0f-40e1-8817-5fcc4e5f7e16",
   "metadata": {},
   "source": [
    "## Now lets look at hte main set of generational Algorithms cataloged under the Name 'gen'"
   ]
  },
  {
   "cell_type": "code",
   "execution_count": null,
   "id": "de30d2ed-4703-48cd-83c8-408eb060a176",
   "metadata": {
    "tags": []
   },
   "outputs": [],
   "source": [
    "\n",
    "print('running OrganGenerator')\n",
    "%openadd gen generate with OrganGenerator data  for \"{'target':''}\"  sample 10\n",
    "\n",
    "print('running VaeGenerator')\n",
    "%openadd gen generate with VaeGenerator data  for \"{'target':''}\"  sample 10 \n",
    "\n",
    "print('running AaeGenerator')\n",
    "%openadd gen generate with AaeGenerator data  for \"{'target':''}\"  sample 10 \n",
    "\n",
    "print('running TorchDrugGraphAF')\n",
    "%openadd gen generate with TorchDrugGraphAF data  sample 10 using ( algorithm_version=zinc250k_v0 )\n",
    "\n",
    "print('running TorchDrugGCPN')\n",
    "%openadd gen generate with TorchDrugGCPN data  sample 10 using ( algorithm_version=zinc250k_v0 )\n",
    "\n",
    "print('running PaccMannVAEGenerator')\n",
    "%openadd gen generate with PaccMannVAEGenerator data  sample 10\n"
   ]
  },
  {
   "cell_type": "markdown",
   "id": "ce184184-d8b8-4aa2-bc57-684652e29c56",
   "metadata": {},
   "source": [
    "### Regression Transformer"
   ]
  },
  {
   "cell_type": "markdown",
   "id": "48c6e0b5-184c-4afe-b0a7-d097fe377ed4",
   "metadata": {},
   "source": [
    "With Regression transfomer we can substitute variables carrying masks as per below."
   ]
  },
  {
   "cell_type": "code",
   "execution_count": null,
   "id": "eb09de1a-788d-46a0-842c-6069096e9b78",
   "metadata": {
    "tags": []
   },
   "outputs": [],
   "source": [
    "mask = '<esol>-3.53|[Br][C][=C][C][MASK][MASK][=C][C][=C][C][=C][Ring1][MASK][MASK][Branch2_3][Ring1][Branch1_2]'\n",
    "%openadd gen generate with RegressionTransformerMolecules data for '{mask}' Sample 5 \\\n",
    "USING (algorithm_version=solubility search=sample temperature=1.4 tolerance=5.0 ) "
   ]
  },
  {
   "cell_type": "markdown",
   "id": "3e24089f-f557-43fc-b15e-b7a29ba01955",
   "metadata": {},
   "source": [
    "When substituting into the command dictionaries we need to use an alternate substitution method using $ due to limits in notebook parsing."
   ]
  },
  {
   "cell_type": "code",
   "execution_count": null,
   "id": "383f10a8-e0c0-44fc-bb70-615447fdd7e1",
   "metadata": {
    "tags": []
   },
   "outputs": [],
   "source": [
    "MY_SMILES= 'C12C=CC=NN1C(C#CC1=C(C)C=CC3C(NC4=CC(C(F)(F)F)=CC=C4)=NOC1=3)=CN=2'\n",
    "MY_PARAMS = { \"fraction_to_mask\": 0.1, \"property_goal\": { \"<esol>\": 0.234 } }\n",
    "%openadd gen generate with RegressionTransformerMolecules data for $MY_SMILES sample 5 \\\n",
    "using(algorithm_version=solubility  search=sample temperature=1.5 tolerance=60.0 sampling_wrapper = \"$MY_PARAMS\" )"
   ]
  },
  {
   "cell_type": "code",
   "execution_count": null,
   "id": "58e86c7a-e506-49ae-bdf4-204510496c8a",
   "metadata": {
    "tags": []
   },
   "outputs": [],
   "source": [
    "target = 'GSQEVNSNASPEEAEIARKAGATTWTEKGNKWEIRI'\n",
    "target=f\"<stab>[MASK][MASK][MASK][MASK][MASK]|{target}\"\n",
    "%openad gen generate with RegressionTransformerProteins data for '{target}' sample 1 \\\n",
    "using ( algorithm_version=stability search=greedy )"
   ]
  },
  {
   "cell_type": "code",
   "execution_count": null,
   "id": "9c055339-058c-48f7-bf33-1ba7c6a428fa",
   "metadata": {
    "tags": []
   },
   "outputs": [],
   "source": [
    "string = \"\"\"\n",
    "MSSSSWLLLSLVAVTAAQSTIEEQAKTFLDKFNHEAEDLFYQSSLASWNYNTNITEENVQ\n",
    "NMNNAGDKWSAFLKEQSTLAQMYPLQEIQNLTVKLQLQALQQNGSSVLSEDKSKRLNTIL\n",
    "NTMSTIYSTGKVCNPDNPQECLLLEPGLNEIMANSLDYNERLWAWESWRSEVGKQLRPLY\n",
    "EEYVVLKNEMARANHYEDYGDYWRGDYEVNGVDGYDYSRGQLIEDVEHTFEEIKPLYEHL\n",
    "HAYVRAKLMNAYPSYISPIGCLPAHLLGDMWGRFWTNLYSLTVPFGQKPNIDVTDAMVDQ\n",
    "AWDAQRIFKEAEKFFVSVGLPNMTQGFWENSMLTDPGNVQKAVCHPTAWDLGKGDFRILM\n",
    "CTKVTMDDFLTAHHEMGHIQYDMAYAAQPFLLRNGANEGFHEAVGEIMSLSAATPKHLKS\n",
    "IGLLSPDFQEDNETEINFLLKQALTIVGTLPFTYMLEKWRWMVFKGEIPKDQWMKKWWEM\n",
    "KREIVGVVEPVPHDETYCDPASLFHVSNDYSFIRYYTRTLYQFQFQEALCQAAKHEGPLH\n",
    "KCDISNSTEAGQKLFNMLRLGKSEPWTLALENVVGAKNMNVRPLLNYFEPLFTWLKDQNK\n",
    "NSFVGWSTDWSPYADQSIKVRISLKSALGDKAYEWNDNEMYLFRSSVAYAMRQYFLKVKN\n",
    "QMILFGEEDVRVANLKPRISFNFFVTAPKNVSDIIPRTEVEKAIRMSRSRINDAFRLNDN\n",
    "SLEFLGIQPTLGPPNQPPVSIWLIVFGVVMGVIVVGIVILIFTGIRDRKKKNKARSGENP\n",
    "YASIDISKGENNPGFQNTDDVQTSF\n",
    "\"\"\"\n",
    "target_protein = \"\".join(filter(str.isalpha, (list(string))))\n"
   ]
  },
  {
   "cell_type": "code",
   "execution_count": null,
   "id": "645e8ffc-034b-41e3-b548-62d7b047fabd",
   "metadata": {
    "tags": []
   },
   "outputs": [],
   "source": [
    "%openad gen generate with PaccMannRLProteinBasedGenerator data  for '{target_protein}' sample 20"
   ]
  },
  {
   "cell_type": "markdown",
   "id": "4330be80-674e-44c3-b8a6-a05085efbdd5",
   "metadata": {},
   "source": [
    "### Other Options for Generation and Samplying"
   ]
  },
  {
   "cell_type": "markdown",
   "id": "2d1a6a83-932e-4c26-b516-a56cb3439656",
   "metadata": {},
   "source": [
    "Other generation Functions are Demonstrated below, to understand the Parameters and required Parametera for both the Target and USING clause in the generator function use the online help to tell you."
   ]
  },
  {
   "cell_type": "code",
   "execution_count": null,
   "id": "080da001-7a06-4a2a-a88c-3cca8aba8c9a",
   "metadata": {
    "tags": []
   },
   "outputs": [],
   "source": [
    "%openad gen generate with SMILESLSTMPPOGenerator ?"
   ]
  },
  {
   "cell_type": "code",
   "execution_count": null,
   "id": "1f89921f-0c58-4efa-b206-979e6abae758",
   "metadata": {
    "tags": []
   },
   "outputs": [],
   "source": [
    "%openad gen generate with PaccMannRLProteinBasedGenerator ?"
   ]
  },
  {
   "cell_type": "code",
   "execution_count": null,
   "id": "3f8cece5-9e77-4f56-819b-50e6439d767e",
   "metadata": {
    "tags": []
   },
   "outputs": [],
   "source": [
    "%openadd gen generate with SMILESLSTMPPOGenerator data for \"{'isomer_scorer': {'target': 5.0, 'target_smile': 'NCCCCC'}}\" sample 20 using (num_epochs=2 episode_size=10 optimize_batch_size=2)"
   ]
  },
  {
   "cell_type": "code",
   "execution_count": null,
   "id": "8ed23af4-06f4-40f1-8700-01b97e1f6ba2",
   "metadata": {
    "tags": []
   },
   "outputs": [],
   "source": [
    "%openadd gen generate with CatalystGenerator data for 1 sample 20"
   ]
  },
  {
   "cell_type": "code",
   "execution_count": null,
   "id": "1d2fd7a2-15e7-4425-87de-1a7f9d8cda55",
   "metadata": {
    "tags": []
   },
   "outputs": [],
   "source": [
    " %openadd gen generate with CatalystGenerator data for 10 sample 20 using(number_of_points=32 number_of_steps=50 generated_length=100)"
   ]
  },
  {
   "cell_type": "code",
   "execution_count": null,
   "id": "2068199f-1d61-4d2e-aa59-12d9eac71479",
   "metadata": {
    "tags": []
   },
   "outputs": [],
   "source": [
    "%openadd gen generate with SMILESLSTMHCGenerator data  for  \"{'isomer_scorer': {'target': 5.0, 'target_smile': 'NCCCCC'}}\"  \\\n",
    "sample 20 using( mols_to_sample=100 max_len=2 optimize_batch_size=3 n_epochs=2 random_start=True)"
   ]
  },
  {
   "cell_type": "code",
   "execution_count": null,
   "id": "18ab1b8b-cb78-46ea-8aba-124ce31e807a",
   "metadata": {
    "tags": []
   },
   "outputs": [],
   "source": [
    "%openad gen generate with KeyBERTGenerator data for 'samples_per_protein: number of points sampled per protein.It has to be greater than 1. protein_embedding_encoder_params: parameter for the protein embedding encoder.mprotein_embedding_encoder: protein embedding encoder.'"
   ]
  }
 ],
 "metadata": {
  "kernelspec": {
   "display_name": "ad-venv",
   "language": "python",
   "name": "ad-venv"
  },
  "language_info": {
   "codemirror_mode": {
    "name": "ipython",
    "version": 3
   },
   "file_extension": ".py",
   "mimetype": "text/x-python",
   "name": "python",
   "nbconvert_exporter": "python",
   "pygments_lexer": "ipython3",
   "version": "3.11.7"
  }
 },
 "nbformat": 4,
 "nbformat_minor": 5
}
