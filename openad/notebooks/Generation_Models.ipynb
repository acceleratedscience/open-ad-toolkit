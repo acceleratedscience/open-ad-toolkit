{
 "cells": [
  {
   "cell_type": "markdown",
   "id": "121a3555-f177-4051-9704-056bcbf35786",
   "metadata": {},
   "source": [
    "# Generation Models"
   ]
  },
  {
   "cell_type": "markdown",
   "id": "671a6d58-5324-457e-86bd-5037c6ba486f",
   "metadata": {
    "execution": {
     "iopub.execute_input": "2024-05-15T06:25:18.874985Z",
     "iopub.status.busy": "2024-05-15T06:25:18.874660Z",
     "iopub.status.idle": "2024-05-15T06:25:18.886805Z",
     "shell.execute_reply": "2024-05-15T06:25:18.884673Z",
     "shell.execute_reply.started": "2024-05-15T06:25:18.874956Z"
    },
    "tags": []
   },
   "source": [
    "To setup our model generation services we will first catalog the service in our toolkit and name it 'gen' which is the name we will give the main services that use torch framework. and 'mol' for the generation service using the tensorflow framework.\n",
    "\n",
    "these two service names will be the Namespace prefix for their respective services.\n"
   ]
  },
  {
   "cell_type": "code",
   "execution_count": null,
   "id": "a49d1ecd-fe48-4202-bdfe-9d7f338d375a",
   "metadata": {},
   "outputs": [],
   "source": [
    "%openad catalog model service from 'git@github.com:acceleratedscience/generation_inference_service.git' as 'gen'"
   ]
  },
  {
   "cell_type": "markdown",
   "id": "630660d0-a228-481e-9fdf-b955eca0c60b",
   "metadata": {},
   "source": [
    "Now we will add the moler services."
   ]
  },
  {
   "cell_type": "code",
   "execution_count": null,
   "id": "24ce9318-4fe0-481d-b2ae-5b0713f7bfb4",
   "metadata": {
    "tags": []
   },
   "outputs": [],
   "source": [
    "%openad catalog model service from 'git@github.com:acceleratedscience/moler_inference_service.git' as 'moler'"
   ]
  },
  {
   "cell_type": "markdown",
   "id": "8987aea0-cf9e-4d05-ac8b-e9c916193578",
   "metadata": {},
   "source": [
    "Once the service is cataloged, we can set the service to start up with the `model service up` command."
   ]
  },
  {
   "cell_type": "code",
   "execution_count": null,
   "id": "cb71046a-197f-40d4-a623-90eedd05d0d4",
   "metadata": {},
   "outputs": [],
   "source": [
    "%openad model service up  'gen'"
   ]
  },
  {
   "cell_type": "code",
   "execution_count": null,
   "id": "be3cb6f7-13f2-427b-b4d4-49da0e973ecb",
   "metadata": {
    "tags": []
   },
   "outputs": [],
   "source": [
    "%openad model service up  'moler'"
   ]
  },
  {
   "cell_type": "code",
   "execution_count": null,
   "id": "dc25dd81-e0f0-4bc0-b297-0849cdd266b0",
   "metadata": {},
   "outputs": [],
   "source": [
    "%openad model service status"
   ]
  },
  {
   "cell_type": "markdown",
   "id": "1fba7e5a-72f6-4e38-974b-2816d2845a9e",
   "metadata": {},
   "source": [
    "Once the service is cataloged, we can set the service to start up with the model service up command."
   ]
  },
  {
   "attachments": {
    "19d75859-9817-4c6a-9857-1097ba2aa3c4.png": {
     "image/png": "[encoded data removed]"
    },
    "762c912f-ee34-4845-a299-188ae920e81d.png": {
     "image/png": "[encoded data removed]"
    }
   },
   "cell_type": "markdown",
   "id": "78209b43-704f-4425-9879-0526c9996f59",
   "metadata": {
    "execution": {
     "iopub.execute_input": "2024-05-15T06:30:10.785750Z",
     "iopub.status.busy": "2024-05-15T06:30:10.785458Z",
     "iopub.status.idle": "2024-05-15T06:30:10.795746Z",
     "shell.execute_reply": "2024-05-15T06:30:10.793941Z",
     "shell.execute_reply.started": "2024-05-15T06:30:10.785724Z"
    },
    "tags": []
   },
   "source": [
    "to make the newly cataloged service functions visable and usable you will need to restart the toolkit, this can be done simply by restarting the Notebook kernel. \n",
    "\n",
    "This can be done by choosing the recycle icon in the tool bar. ![image.png](attachment:19d75859-9817-4c6a-9857-1097ba2aa3c4.png)\n",
    "\n",
    "![image.png](attachment:762c912f-ee34-4845-a299-188ae920e81d.png)"
   ]
  },
  {
   "cell_type": "markdown",
   "id": "1f51b69e-3a41-4e6d-8e4d-20d60bb341bc",
   "metadata": {},
   "source": [
    "The following commands will show you the respective functions enabled for `moler` and `gen`"
   ]
  },
  {
   "cell_type": "code",
   "execution_count": 2,
   "id": "e3600211-ef7d-4d85-a1da-a23f56c4e0e4",
   "metadata": {
    "execution": {
     "iopub.execute_input": "2024-05-15T06:54:29.426692Z",
     "iopub.status.busy": "2024-05-15T06:54:29.426393Z",
     "iopub.status.idle": "2024-05-15T06:54:29.528072Z",
     "shell.execute_reply": "2024-05-15T06:54:29.527338Z",
     "shell.execute_reply.started": "2024-05-15T06:54:29.426665Z"
    },
    "tags": []
   },
   "outputs": [
    {
     "data": {
      "text/markdown": [
       "<span style=\"color: #dc0\">Commands starting with \"gen\"</span> <br> \n",
       "- `gen generate with AaeGenerator data  for  <object> (sample <sample_size>)  USING (<parameter>=<value> <parameter>=<value>)  (save_as '<filename.csv>')` <br> \n",
       "- `gen generate with PaccMannRLProteinBasedGenerator data  for  <string> (sample <sample_size>)  USING (<parameter>=<value> <parameter>=<value>)  (save_as '<filename.csv>')` <br> \n",
       "- `gen generate with RegressionTransformerProteins data  for  <string> (sample <sample_size>)  USING (<parameter>=<value> <parameter>=<value>)  (save_as '<filename.csv>')` <br> \n",
       "- `gen generate with CatalystGenerator data  for  <number> (sample <sample_size>)  USING (<parameter>=<value> <parameter>=<value>)  (save_as '<filename.csv>')` <br> \n",
       "- `gen generate with RegressionTransformerMolecules data  for  <string> (sample <sample_size>)  USING (<parameter>=<value> <parameter>=<value>)  (save_as '<filename.csv>')` <br> \n",
       "- `gen generate with SMILESLSTMPPOGenerator data  for  <object> (sample <sample_size>)  USING (<parameter>=<value> <parameter>=<value>)  (save_as '<filename.csv>')` <br> \n",
       "- `gen generate with OrganGenerator data  for  <object> (sample <sample_size>)  USING (<parameter>=<value> <parameter>=<value>)  (save_as '<filename.csv>')` <br> \n",
       "- `gen generate with PaccMannVAEGenerator data  (sample <sample_size>)  USING (<parameter>=<value> <parameter>=<value>)  (save_as '<filename.csv>')` <br> \n",
       "- `gen generate with MolGXQM9Generator data  (sample <sample_size>)  USING (<parameter>=<value> <parameter>=<value>)  (save_as '<filename.csv>')` <br> \n",
       "- `gen generate with GraphGAGenerator data  for  <object> (sample <sample_size>)  USING (<parameter>=<value> <parameter>=<value>)  (save_as '<filename.csv>')` <br> \n",
       "- `gen generate with SMILESGAGenerator data  for  <object> (sample <sample_size>)  USING (<parameter>=<value> <parameter>=<value>)  (save_as '<filename.csv>')` <br> \n",
       "- `gen generate with GraphMCTSGenerator data  for  <object> (sample <sample_size>)  USING (<parameter>=<value> <parameter>=<value>)  (save_as '<filename.csv>')` <br> \n",
       "- `gen generate with MoLeRDefaultGenerator data  (sample <sample_size>)  USING (<parameter>=<value> <parameter>=<value>)  (save_as '<filename.csv>')` <br> \n",
       "- `gen generate with ReinventGenerator data  for  <string> (sample <sample_size>)  USING (<parameter>=<value> <parameter>=<value>)  (save_as '<filename.csv>')` <br> \n",
       "- `gen generate with SMILESLSTMHCGenerator data  for  <object> (sample <sample_size>)  USING (<parameter>=<value> <parameter>=<value>)  (save_as '<filename.csv>')` <br> \n",
       "- `gen generate with TorchDrugGraphAF data  for (<object>) (sample <sample_size>)  USING (<parameter>=<value> <parameter>=<value>)  (save_as '<filename.csv>')` <br> \n",
       "- `gen generate with TorchDrugGCPN data  for (<object>) (sample <sample_size>)  USING (<parameter>=<value> <parameter>=<value>)  (save_as '<filename.csv>')` <br> \n",
       "- `gen generate with KeyBERTGenerator data  for  <string> (sample <sample_size>)  USING (<parameter>=<value> <parameter>=<value>)  (save_as '<filename.csv>')` <br> \n",
       "- `gen generate with VaeGenerator data  for  <object> (sample <sample_size>)  USING (<parameter>=<value> <parameter>=<value>)  (save_as '<filename.csv>')` <br> \n"
      ],
      "text/plain": [
       "<IPython.core.display.Markdown object>"
      ]
     },
     "execution_count": 2,
     "metadata": {},
     "output_type": "execute_result"
    },
    {
     "data": {
      "text/markdown": [
       "<span style=\"color: #dc0\">Commands starting with \"moler\"</span> <br> \n",
       "- `moler generate with MolGXQM9Generator data  (sample <sample_size>)  USING (<parameter>=<value> <parameter>=<value>)  (save_as '<filename.csv>')` <br> \n",
       "- `moler generate with MoLeRDefaultGenerator data  (sample <sample_size>)  USING (<parameter>=<value> <parameter>=<value>)  (save_as '<filename.csv>')` <br> \n"
      ],
      "text/plain": [
       "<IPython.core.display.Markdown object>"
      ]
     },
     "execution_count": 2,
     "metadata": {},
     "output_type": "execute_result"
    }
   ],
   "source": [
    "%openad gen ?\n",
    "%openad moler ?"
   ]
  },
  {
   "cell_type": "markdown",
   "id": "39e98f69-8e9b-41cb-9854-192bd7c67b19",
   "metadata": {},
   "source": [
    "## Moler Generator functions"
   ]
  },
  {
   "cell_type": "markdown",
   "id": "9264a792-d84b-443e-8700-bfede9899a33",
   "metadata": {},
   "source": [
    "These use Tensorflow and for GPU sharing purpses are kept on a separate system."
   ]
  },
  {
   "cell_type": "code",
   "execution_count": 3,
   "id": "6bbe9c6b-e855-44e5-b688-3ea88284e521",
   "metadata": {
    "execution": {
     "iopub.execute_input": "2024-05-15T06:54:37.971409Z",
     "iopub.status.busy": "2024-05-15T06:54:37.970790Z",
     "iopub.status.idle": "2024-05-15T06:55:14.147897Z",
     "shell.execute_reply": "2024-05-15T06:55:14.147181Z",
     "shell.execute_reply.started": "2024-05-15T06:54:37.971378Z"
    },
    "tags": []
   },
   "outputs": [
    {
     "data": {
      "application/vnd.jupyter.widget-view+json": {
       "model_id": "f6737b0145494ccca1185eb89627f9ac",
       "version_major": 2,
       "version_minor": 0
      },
      "text/plain": [
       "Output()"
      ]
     },
     "metadata": {},
     "output_type": "display_data"
    },
    {
     "data": {
      "text/markdown": [
       "<span style=\"color: #ccc\">Next up, you can run: </span>`result open`/`edit`/`copy`/`display`/`as dataframe`/`save [as '<filename.csv>']` <br> \n"
      ],
      "text/plain": [
       "<IPython.core.display.Markdown object>"
      ]
     },
     "metadata": {},
     "output_type": "display_data"
    },
    {
     "data": {
      "text/html": [
       "<style type=\"text/css\">\n",
       "</style>\n",
       "<table id=\"T_9aed0\">\n",
       "  <thead>\n",
       "    <tr>\n",
       "      <th id=\"T_9aed0_level0_col0\" class=\"col_heading level0 col0\" >result</th>\n",
       "    </tr>\n",
       "  </thead>\n",
       "  <tbody>\n",
       "    <tr>\n",
       "      <td id=\"T_9aed0_row0_col0\" class=\"data row0 col0\" >O=C1C2=CC=C(C3=CC=CC=C3)C=C=C2OC2=CC=CC=C12</td>\n",
       "    </tr>\n",
       "    <tr>\n",
       "      <td id=\"T_9aed0_row1_col0\" class=\"data row1 col0\" >CC(=O)NC1=NC2=CC(OCC3=CC=CN(CC4=CC=C(Cl)C=C4)C3=O)=CC=C2N1</td>\n",
       "    </tr>\n",
       "    <tr>\n",
       "      <td id=\"T_9aed0_row2_col0\" class=\"data row2 col0\" >CCN1C(=O)C2=CC=CC=C2N=C1NC(C)C(=O)NCC(=O)N=[N+]=[N-]</td>\n",
       "    </tr>\n",
       "    <tr>\n",
       "      <td id=\"T_9aed0_row3_col0\" class=\"data row3 col0\" >CC(=O)N1CCCC1C1=NC2=CC=C(C(C)(C)CCCC(C)C)C=C2NC1=NC1=CC=C(O)C=C1</td>\n",
       "    </tr>\n",
       "    <tr>\n",
       "      <td id=\"T_9aed0_row4_col0\" class=\"data row4 col0\" >N=C(N)NCCCCOC1=CC=C(Br)C(Cl)=N1</td>\n",
       "    </tr>\n",
       "    <tr>\n",
       "      <td id=\"T_9aed0_row5_col0\" class=\"data row5 col0\" >O=C1C2=CC=C(C3=NN=CO3)C=C2N=CN1CC1=CC=C(C2=CC=CC=C2)C=C1</td>\n",
       "    </tr>\n",
       "    <tr>\n",
       "      <td id=\"T_9aed0_row6_col0\" class=\"data row6 col0\" >O=CCCCCCN1C=CC2=CC=CC=C21</td>\n",
       "    </tr>\n",
       "    <tr>\n",
       "      <td id=\"T_9aed0_row7_col0\" class=\"data row7 col0\" >CCOC(=O)C1=CC2=CC(CC(C)C)=CC=C2N=C1C1=CC=C(Br)C=C1</td>\n",
       "    </tr>\n",
       "    <tr>\n",
       "      <td id=\"T_9aed0_row8_col0\" class=\"data row8 col0\" >CC1=C(C#N)C=C(NC(=O)NC2CCCCC2)N1CC#N</td>\n",
       "    </tr>\n",
       "    <tr>\n",
       "      <td id=\"T_9aed0_row9_col0\" class=\"data row9 col0\" >CC1=CNN=C1NC(=O)COC1=CC=C(Cl)C=C1Cl</td>\n",
       "    </tr>\n",
       "  </tbody>\n",
       "</table>\n"
      ],
      "text/plain": [
       "<pandas.io.formats.style.Styler at 0x1443b8e50>"
      ]
     },
     "execution_count": 3,
     "metadata": {},
     "output_type": "execute_result"
    }
   ],
   "source": [
    "%openad moler generate with MoLeRDefaultGenerator data  sample 10"
   ]
  },
  {
   "cell_type": "code",
   "execution_count": 4,
   "id": "d3297f0f-67ee-4bce-8457-12d247ba914c",
   "metadata": {
    "execution": {
     "iopub.execute_input": "2024-05-15T06:55:14.151558Z",
     "iopub.status.busy": "2024-05-15T06:55:14.151209Z",
     "iopub.status.idle": "2024-05-15T06:55:27.823273Z",
     "shell.execute_reply": "2024-05-15T06:55:27.822557Z",
     "shell.execute_reply.started": "2024-05-15T06:55:14.151530Z"
    },
    "tags": []
   },
   "outputs": [
    {
     "data": {
      "application/vnd.jupyter.widget-view+json": {
       "model_id": "3de4d043a2354f5baf19174769abb018",
       "version_major": 2,
       "version_minor": 0
      },
      "text/plain": [
       "Output()"
      ]
     },
     "metadata": {},
     "output_type": "display_data"
    },
    {
     "data": {
      "text/markdown": [
       "<span style=\"color: #ccc\">Next up, you can run: </span>`result open`/`edit`/`copy`/`display`/`as dataframe`/`save [as '<filename.csv>']` <br> \n"
      ],
      "text/plain": [
       "<IPython.core.display.Markdown object>"
      ]
     },
     "metadata": {},
     "output_type": "display_data"
    },
    {
     "data": {
      "text/html": [
       "<style type=\"text/css\">\n",
       "</style>\n",
       "<table id=\"T_d81de\">\n",
       "  <thead>\n",
       "    <tr>\n",
       "      <th id=\"T_d81de_level0_col0\" class=\"col_heading level0 col0\" >result</th>\n",
       "    </tr>\n",
       "  </thead>\n",
       "  <tbody>\n",
       "    <tr>\n",
       "      <td id=\"T_d81de_row0_col0\" class=\"data row0 col0\" >c1cocn1</td>\n",
       "    </tr>\n",
       "    <tr>\n",
       "      <td id=\"T_d81de_row1_col0\" class=\"data row1 col0\" >c1cnoc1</td>\n",
       "    </tr>\n",
       "    <tr>\n",
       "      <td id=\"T_d81de_row2_col0\" class=\"data row2 col0\" >c1ccoc1</td>\n",
       "    </tr>\n",
       "    <tr>\n",
       "      <td id=\"T_d81de_row3_col0\" class=\"data row3 col0\" >c1cc2n(c1)OC2</td>\n",
       "    </tr>\n",
       "    <tr>\n",
       "      <td id=\"T_d81de_row4_col0\" class=\"data row4 col0\" >c1cc2n(c1)CO2</td>\n",
       "    </tr>\n",
       "    <tr>\n",
       "      <td id=\"T_d81de_row5_col0\" class=\"data row5 col0\" >c1cc2n(c1)CC2</td>\n",
       "    </tr>\n",
       "    <tr>\n",
       "      <td id=\"T_d81de_row6_col0\" class=\"data row6 col0\" >O=c1cc[nH]cc1</td>\n",
       "    </tr>\n",
       "    <tr>\n",
       "      <td id=\"T_d81de_row7_col0\" class=\"data row7 col0\" >N=c1ccocc1</td>\n",
       "    </tr>\n",
       "    <tr>\n",
       "      <td id=\"T_d81de_row8_col0\" class=\"data row8 col0\" >N=c1cc[nH]cc1</td>\n",
       "    </tr>\n",
       "    <tr>\n",
       "      <td id=\"T_d81de_row9_col0\" class=\"data row9 col0\" >Cn1ccoc1=O</td>\n",
       "    </tr>\n",
       "  </tbody>\n",
       "</table>\n"
      ],
      "text/plain": [
       "<pandas.io.formats.style.Styler at 0x1434cdf10>"
      ]
     },
     "execution_count": 4,
     "metadata": {},
     "output_type": "execute_result"
    }
   ],
   "source": [
    "%openad moler generate with MolGXQM9Generator data sample 10"
   ]
  },
  {
   "cell_type": "markdown",
   "id": "11a643f6-1d0f-40e1-8817-5fcc4e5f7e16",
   "metadata": {},
   "source": [
    "## Now lets look at hte main set of generational Algorithms cataloged under the Name 'gen'"
   ]
  },
  {
   "cell_type": "code",
   "execution_count": 11,
   "id": "de30d2ed-4703-48cd-83c8-408eb060a176",
   "metadata": {
    "execution": {
     "iopub.execute_input": "2024-05-15T07:16:30.609299Z",
     "iopub.status.busy": "2024-05-15T07:16:30.608993Z",
     "iopub.status.idle": "2024-05-15T07:21:01.613377Z",
     "shell.execute_reply": "2024-05-15T07:21:01.612701Z",
     "shell.execute_reply.started": "2024-05-15T07:16:30.609272Z"
    },
    "tags": []
   },
   "outputs": [
    {
     "name": "stdout",
     "output_type": "stream",
     "text": [
      "running OrganGenerator\n"
     ]
    },
    {
     "data": {
      "application/vnd.jupyter.widget-view+json": {
       "model_id": "4b56acdbf0d24edcad4dd9a0a64eca56",
       "version_major": 2,
       "version_minor": 0
      },
      "text/plain": [
       "Output()"
      ]
     },
     "metadata": {},
     "output_type": "display_data"
    },
    {
     "data": {
      "text/html": [
       "<div>\n",
       "<style scoped>\n",
       "    .dataframe tbody tr th:only-of-type {\n",
       "        vertical-align: middle;\n",
       "    }\n",
       "\n",
       "    .dataframe tbody tr th {\n",
       "        vertical-align: top;\n",
       "    }\n",
       "\n",
       "    .dataframe thead th {\n",
       "        text-align: right;\n",
       "    }\n",
       "</style>\n",
       "<table border=\"1\" class=\"dataframe\">\n",
       "  <thead>\n",
       "    <tr style=\"text-align: right;\">\n",
       "      <th></th>\n",
       "      <th>result</th>\n",
       "    </tr>\n",
       "  </thead>\n",
       "  <tbody>\n",
       "    <tr>\n",
       "      <th>0</th>\n",
       "      <td>Cc1ccc(CN2C(CO)C(c3ccc(C(F)(F)F)cn3)O2)cc1</td>\n",
       "    </tr>\n",
       "    <tr>\n",
       "      <th>1</th>\n",
       "      <td>Cc1c(C(=O)CBr)c(O)nc2ccccc12</td>\n",
       "    </tr>\n",
       "    <tr>\n",
       "      <th>2</th>\n",
       "      <td>O=C1NC(=O)c2c1c1c3ccccc3[nH]c1c1c2c2ccccc2n1C(CCCl)CCl</td>\n",
       "    </tr>\n",
       "    <tr>\n",
       "      <th>3</th>\n",
       "      <td>CCOC(=O)CC(C1OC2OC(C)(C)OC2C1OC)N(C(=O)c1cccc2ccccc12)C(C)C</td>\n",
       "    </tr>\n",
       "    <tr>\n",
       "      <th>4</th>\n",
       "      <td>CCN(CC)S(=O)(=O)c1ccc(OC(C)C)c([N+](=O)[O-])c1</td>\n",
       "    </tr>\n",
       "    <tr>\n",
       "      <th>5</th>\n",
       "      <td>COc1ccccc1OCC1CO1</td>\n",
       "    </tr>\n",
       "    <tr>\n",
       "      <th>6</th>\n",
       "      <td>Cc1ccc(-c2ccccc2C2=NCCN2)cc1</td>\n",
       "    </tr>\n",
       "    <tr>\n",
       "      <th>7</th>\n",
       "      <td>O=C(NC1(C(=O)O)CCCC1)c1ccc2c(c1)Sc1ccccc1O2</td>\n",
       "    </tr>\n",
       "    <tr>\n",
       "      <th>8</th>\n",
       "      <td>CCC(=NN=C(N)C(=N)N)c1ccc(OC)c(Br)c1</td>\n",
       "    </tr>\n",
       "    <tr>\n",
       "      <th>9</th>\n",
       "      <td>Cc1nc2c(N3CCC(O)CC3)ncnc2o1</td>\n",
       "    </tr>\n",
       "  </tbody>\n",
       "</table>\n",
       "</div>"
      ],
      "text/plain": [
       "                                                        result\n",
       "0                   Cc1ccc(CN2C(CO)C(c3ccc(C(F)(F)F)cn3)O2)cc1\n",
       "1                                 Cc1c(C(=O)CBr)c(O)nc2ccccc12\n",
       "2       O=C1NC(=O)c2c1c1c3ccccc3[nH]c1c1c2c2ccccc2n1C(CCCl)CCl\n",
       "3  CCOC(=O)CC(C1OC2OC(C)(C)OC2C1OC)N(C(=O)c1cccc2ccccc12)C(C)C\n",
       "4               CCN(CC)S(=O)(=O)c1ccc(OC(C)C)c([N+](=O)[O-])c1\n",
       "5                                            COc1ccccc1OCC1CO1\n",
       "6                                 Cc1ccc(-c2ccccc2C2=NCCN2)cc1\n",
       "7                  O=C(NC1(C(=O)O)CCCC1)c1ccc2c(c1)Sc1ccccc1O2\n",
       "8                          CCC(=NN=C(N)C(=N)N)c1ccc(OC)c(Br)c1\n",
       "9                                  Cc1nc2c(N3CCC(O)CC3)ncnc2o1"
      ]
     },
     "execution_count": 11,
     "metadata": {},
     "output_type": "execute_result"
    },
    {
     "name": "stdout",
     "output_type": "stream",
     "text": [
      "running VaeGenerator\n"
     ]
    },
    {
     "data": {
      "application/vnd.jupyter.widget-view+json": {
       "model_id": "4516bf608cc1455f883d5b52ac3c7110",
       "version_major": 2,
       "version_minor": 0
      },
      "text/plain": [
       "Output()"
      ]
     },
     "metadata": {},
     "output_type": "display_data"
    },
    {
     "data": {
      "text/html": [
       "<div>\n",
       "<style scoped>\n",
       "    .dataframe tbody tr th:only-of-type {\n",
       "        vertical-align: middle;\n",
       "    }\n",
       "\n",
       "    .dataframe tbody tr th {\n",
       "        vertical-align: top;\n",
       "    }\n",
       "\n",
       "    .dataframe thead th {\n",
       "        text-align: right;\n",
       "    }\n",
       "</style>\n",
       "<table border=\"1\" class=\"dataframe\">\n",
       "  <thead>\n",
       "    <tr style=\"text-align: right;\">\n",
       "      <th></th>\n",
       "      <th>result</th>\n",
       "    </tr>\n",
       "  </thead>\n",
       "  <tbody>\n",
       "    <tr>\n",
       "      <th>0</th>\n",
       "      <td>COCCc1ccccc1CNN(NC(=O)Oc1cccc2c1C)CC2C</td>\n",
       "    </tr>\n",
       "    <tr>\n",
       "      <th>1</th>\n",
       "      <td>COS(=O)([O-])(C)c1ccccc1Nc1cn(Cc2cccc([C@H](CCC)c3ccn4ccc(OC=C)c4c3)n2)c(P2=NC2([B])C)c1CC</td>\n",
       "    </tr>\n",
       "    <tr>\n",
       "      <th>2</th>\n",
       "      <td>COc1cccc(NC(=O)Nc2cc(=S)[nH]cc2)c1</td>\n",
       "    </tr>\n",
       "    <tr>\n",
       "      <th>3</th>\n",
       "      <td>COC/C(=c1\\C(C)OCC(I)Cl)nc([CH+])n1C</td>\n",
       "    </tr>\n",
       "    <tr>\n",
       "      <th>4</th>\n",
       "      <td>Oc1ccc(O)c(C2NC(=O)C3C(CC2)n(Cc2ccncc2)CCC3)c1</td>\n",
       "    </tr>\n",
       "    <tr>\n",
       "      <th>5</th>\n",
       "      <td>CCN(CC(=O)NC(C)c1cc(C)nc2c1Cc1ccccc1O2)O</td>\n",
       "    </tr>\n",
       "    <tr>\n",
       "      <th>6</th>\n",
       "      <td>CCC(C#N)N(CC(CC)c1cc(O[C@H](C)NC(=S)CC)c(O)n(CC)c1=O)O</td>\n",
       "    </tr>\n",
       "    <tr>\n",
       "      <th>7</th>\n",
       "      <td>CCOc1ccc(N2C(CCl)N(Cl)C3=NCCC3)nc2CCC1</td>\n",
       "    </tr>\n",
       "    <tr>\n",
       "      <th>8</th>\n",
       "      <td>CC=C1C=CN(N)c2cccc3n(COC)ncc3n12</td>\n",
       "    </tr>\n",
       "    <tr>\n",
       "      <th>9</th>\n",
       "      <td>ONC(=O)CCC(N)c1cc(Br)cc(C(=O)O)c1</td>\n",
       "    </tr>\n",
       "  </tbody>\n",
       "</table>\n",
       "</div>"
      ],
      "text/plain": [
       "                                                                                       result\n",
       "0                                                      COCCc1ccccc1CNN(NC(=O)Oc1cccc2c1C)CC2C\n",
       "1  COS(=O)([O-])(C)c1ccccc1Nc1cn(Cc2cccc([C@H](CCC)c3ccn4ccc(OC=C)c4c3)n2)c(P2=NC2([B])C)c1CC\n",
       "2                                                          COc1cccc(NC(=O)Nc2cc(=S)[nH]cc2)c1\n",
       "3                                                         COC/C(=c1\\C(C)OCC(I)Cl)nc([CH+])n1C\n",
       "4                                              Oc1ccc(O)c(C2NC(=O)C3C(CC2)n(Cc2ccncc2)CCC3)c1\n",
       "5                                                    CCN(CC(=O)NC(C)c1cc(C)nc2c1Cc1ccccc1O2)O\n",
       "6                                      CCC(C#N)N(CC(CC)c1cc(O[C@H](C)NC(=S)CC)c(O)n(CC)c1=O)O\n",
       "7                                                      CCOc1ccc(N2C(CCl)N(Cl)C3=NCCC3)nc2CCC1\n",
       "8                                                            CC=C1C=CN(N)c2cccc3n(COC)ncc3n12\n",
       "9                                                           ONC(=O)CCC(N)c1cc(Br)cc(C(=O)O)c1"
      ]
     },
     "execution_count": 11,
     "metadata": {},
     "output_type": "execute_result"
    },
    {
     "name": "stdout",
     "output_type": "stream",
     "text": [
      "running AaeGenerator\n"
     ]
    },
    {
     "data": {
      "application/vnd.jupyter.widget-view+json": {
       "model_id": "6263ec4a8e284e78955654ae96f86548",
       "version_major": 2,
       "version_minor": 0
      },
      "text/plain": [
       "Output()"
      ]
     },
     "metadata": {},
     "output_type": "display_data"
    },
    {
     "data": {
      "text/html": [
       "<div>\n",
       "<style scoped>\n",
       "    .dataframe tbody tr th:only-of-type {\n",
       "        vertical-align: middle;\n",
       "    }\n",
       "\n",
       "    .dataframe tbody tr th {\n",
       "        vertical-align: top;\n",
       "    }\n",
       "\n",
       "    .dataframe thead th {\n",
       "        text-align: right;\n",
       "    }\n",
       "</style>\n",
       "<table border=\"1\" class=\"dataframe\">\n",
       "  <thead>\n",
       "    <tr style=\"text-align: right;\">\n",
       "      <th></th>\n",
       "      <th>result</th>\n",
       "    </tr>\n",
       "  </thead>\n",
       "  <tbody>\n",
       "    <tr>\n",
       "      <th>0</th>\n",
       "      <td>CN(C)C(=O)c1cccc(C(=O)N2CCC3(CC2)Oc2ccccc2C3c2cccc3ccccc23)c1</td>\n",
       "    </tr>\n",
       "    <tr>\n",
       "      <th>1</th>\n",
       "      <td>OCC1CCCN1CCCN1CCCC1=O</td>\n",
       "    </tr>\n",
       "    <tr>\n",
       "      <th>2</th>\n",
       "      <td>CCN1CCC(O)(CN(Cc2ccc(-c3ccccc3-c3nnn[nH]3)cc2)c2ccc(C(=O)NCc3ccccc3)cc2)C1</td>\n",
       "    </tr>\n",
       "    <tr>\n",
       "      <th>3</th>\n",
       "      <td>COCCOc1ccccc1C(=O)OC</td>\n",
       "    </tr>\n",
       "    <tr>\n",
       "      <th>4</th>\n",
       "      <td>CCN(CC)C(=O)CSc1nc(-c2ccc(Cl)cc2)c(C(F)(F)F)n1C</td>\n",
       "    </tr>\n",
       "    <tr>\n",
       "      <th>5</th>\n",
       "      <td>O=C(Nc1nnnn1-c1ccc2ccccc2c1)c1ccc2ccccc2c1</td>\n",
       "    </tr>\n",
       "    <tr>\n",
       "      <th>6</th>\n",
       "      <td>OC(c1ccccc1)c1ccc(Cn2ccc3ccc(C4CCCCC4)cc32)cc1</td>\n",
       "    </tr>\n",
       "    <tr>\n",
       "      <th>7</th>\n",
       "      <td>CCCCCc1nc(C(C)(C)C)c(-c2ccc(C(=O)NC(CCC(=O)O)C(=O)O)cc2)n1-c1ccc(-c2ccc(C(F)(F)F)cc2)cc1</td>\n",
       "    </tr>\n",
       "    <tr>\n",
       "      <th>8</th>\n",
       "      <td>OC(=Nc1ccccc1)c1ccc(CN2CCC(C(=O)N3CCC(c4ccccc4)CC3)CC2)cc1</td>\n",
       "    </tr>\n",
       "    <tr>\n",
       "      <th>9</th>\n",
       "      <td>CCCC1c2ccccc2CCN1C(=O)CCC(=O)Nc1ccc(S(N)(=O)=O)cc1</td>\n",
       "    </tr>\n",
       "  </tbody>\n",
       "</table>\n",
       "</div>"
      ],
      "text/plain": [
       "                                                                                     result\n",
       "0                             CN(C)C(=O)c1cccc(C(=O)N2CCC3(CC2)Oc2ccccc2C3c2cccc3ccccc23)c1\n",
       "1                                                                     OCC1CCCN1CCCN1CCCC1=O\n",
       "2                CCN1CCC(O)(CN(Cc2ccc(-c3ccccc3-c3nnn[nH]3)cc2)c2ccc(C(=O)NCc3ccccc3)cc2)C1\n",
       "3                                                                      COCCOc1ccccc1C(=O)OC\n",
       "4                                           CCN(CC)C(=O)CSc1nc(-c2ccc(Cl)cc2)c(C(F)(F)F)n1C\n",
       "5                                                O=C(Nc1nnnn1-c1ccc2ccccc2c1)c1ccc2ccccc2c1\n",
       "6                                            OC(c1ccccc1)c1ccc(Cn2ccc3ccc(C4CCCCC4)cc32)cc1\n",
       "7  CCCCCc1nc(C(C)(C)C)c(-c2ccc(C(=O)NC(CCC(=O)O)C(=O)O)cc2)n1-c1ccc(-c2ccc(C(F)(F)F)cc2)cc1\n",
       "8                                OC(=Nc1ccccc1)c1ccc(CN2CCC(C(=O)N3CCC(c4ccccc4)CC3)CC2)cc1\n",
       "9                                        CCCC1c2ccccc2CCN1C(=O)CCC(=O)Nc1ccc(S(N)(=O)=O)cc1"
      ]
     },
     "execution_count": 11,
     "metadata": {},
     "output_type": "execute_result"
    },
    {
     "name": "stdout",
     "output_type": "stream",
     "text": [
      "running TorchDrugGraphAF\n"
     ]
    },
    {
     "data": {
      "application/vnd.jupyter.widget-view+json": {
       "model_id": "7f849647a2784f788ccc6291e083e933",
       "version_major": 2,
       "version_minor": 0
      },
      "text/plain": [
       "Output()"
      ]
     },
     "metadata": {},
     "output_type": "display_data"
    },
    {
     "data": {
      "text/html": [
       "<div>\n",
       "<style scoped>\n",
       "    .dataframe tbody tr th:only-of-type {\n",
       "        vertical-align: middle;\n",
       "    }\n",
       "\n",
       "    .dataframe tbody tr th {\n",
       "        vertical-align: top;\n",
       "    }\n",
       "\n",
       "    .dataframe thead th {\n",
       "        text-align: right;\n",
       "    }\n",
       "</style>\n",
       "<table border=\"1\" class=\"dataframe\">\n",
       "  <thead>\n",
       "    <tr style=\"text-align: right;\">\n",
       "      <th></th>\n",
       "      <th>result</th>\n",
       "    </tr>\n",
       "  </thead>\n",
       "  <tbody>\n",
       "    <tr>\n",
       "      <th>0</th>\n",
       "      <td>CC1C2=CN=C3C[SH]2C(=O)C2=C1NC(=C2)C#CN=C(N)N3</td>\n",
       "    </tr>\n",
       "    <tr>\n",
       "      <th>1</th>\n",
       "      <td>C#CCCC(=O)NC1=CC=C(Cl)C(C2=CC(F)=CC=C(I)C2=CC(=O)NCC)=C1Br</td>\n",
       "    </tr>\n",
       "    <tr>\n",
       "      <th>2</th>\n",
       "      <td>CNCl</td>\n",
       "    </tr>\n",
       "    <tr>\n",
       "      <th>3</th>\n",
       "      <td>CC(=O)C1=CC=C(Cl)C1=CC1=NC(C)=NN(C)C1</td>\n",
       "    </tr>\n",
       "    <tr>\n",
       "      <th>4</th>\n",
       "      <td>CC1OCCO1</td>\n",
       "    </tr>\n",
       "    <tr>\n",
       "      <th>5</th>\n",
       "      <td>O=C(NCC(F)F)C1C=C(I)C(=P(C=CN=C2C=CC=C2I)=CS)S1</td>\n",
       "    </tr>\n",
       "    <tr>\n",
       "      <th>6</th>\n",
       "      <td>CC1=NN=NC(Cl)=C1C(N)O</td>\n",
       "    </tr>\n",
       "    <tr>\n",
       "      <th>7</th>\n",
       "      <td>C=P(=O)C(C)C#CCOC(C)=O</td>\n",
       "    </tr>\n",
       "    <tr>\n",
       "      <th>8</th>\n",
       "      <td>C#CCNC#CC1=CC(Cl)=C(CO)C(C)=N1</td>\n",
       "    </tr>\n",
       "    <tr>\n",
       "      <th>9</th>\n",
       "      <td>COC1=C(Br)C=CC=C1OC1=CC(=NC(F)=CC(C)=CC=CC(=O)O)[SH]2N=C12</td>\n",
       "    </tr>\n",
       "  </tbody>\n",
       "</table>\n",
       "</div>"
      ],
      "text/plain": [
       "                                                       result\n",
       "0               CC1C2=CN=C3C[SH]2C(=O)C2=C1NC(=C2)C#CN=C(N)N3\n",
       "1  C#CCCC(=O)NC1=CC=C(Cl)C(C2=CC(F)=CC=C(I)C2=CC(=O)NCC)=C1Br\n",
       "2                                                        CNCl\n",
       "3                       CC(=O)C1=CC=C(Cl)C1=CC1=NC(C)=NN(C)C1\n",
       "4                                                    CC1OCCO1\n",
       "5             O=C(NCC(F)F)C1C=C(I)C(=P(C=CN=C2C=CC=C2I)=CS)S1\n",
       "6                                       CC1=NN=NC(Cl)=C1C(N)O\n",
       "7                                      C=P(=O)C(C)C#CCOC(C)=O\n",
       "8                              C#CCNC#CC1=CC(Cl)=C(CO)C(C)=N1\n",
       "9  COC1=C(Br)C=CC=C1OC1=CC(=NC(F)=CC(C)=CC=CC(=O)O)[SH]2N=C12"
      ]
     },
     "execution_count": 11,
     "metadata": {},
     "output_type": "execute_result"
    },
    {
     "name": "stdout",
     "output_type": "stream",
     "text": [
      "running TorchDrugGCPN\n"
     ]
    },
    {
     "data": {
      "application/vnd.jupyter.widget-view+json": {
       "model_id": "76a598f5e1694f119e17ae7a08807db2",
       "version_major": 2,
       "version_minor": 0
      },
      "text/plain": [
       "Output()"
      ]
     },
     "metadata": {},
     "output_type": "display_data"
    },
    {
     "data": {
      "text/html": [
       "<div>\n",
       "<style scoped>\n",
       "    .dataframe tbody tr th:only-of-type {\n",
       "        vertical-align: middle;\n",
       "    }\n",
       "\n",
       "    .dataframe tbody tr th {\n",
       "        vertical-align: top;\n",
       "    }\n",
       "\n",
       "    .dataframe thead th {\n",
       "        text-align: right;\n",
       "    }\n",
       "</style>\n",
       "<table border=\"1\" class=\"dataframe\">\n",
       "  <thead>\n",
       "    <tr style=\"text-align: right;\">\n",
       "      <th></th>\n",
       "      <th>result</th>\n",
       "    </tr>\n",
       "  </thead>\n",
       "  <tbody>\n",
       "    <tr>\n",
       "      <th>0</th>\n",
       "      <td>C=C(C)CC(C)CC=O</td>\n",
       "    </tr>\n",
       "    <tr>\n",
       "      <th>1</th>\n",
       "      <td>CCCC(CO)(CCC)NC</td>\n",
       "    </tr>\n",
       "    <tr>\n",
       "      <th>2</th>\n",
       "      <td>CCCC1CC(O)CC1C</td>\n",
       "    </tr>\n",
       "    <tr>\n",
       "      <th>3</th>\n",
       "      <td>CCC(C)C1=CC(C#N)=CC=C1</td>\n",
       "    </tr>\n",
       "    <tr>\n",
       "      <th>4</th>\n",
       "      <td>CCC1=C2N=CNC2=NC=N1</td>\n",
       "    </tr>\n",
       "    <tr>\n",
       "      <th>5</th>\n",
       "      <td>CNC(=O)C=CC1=CCC(=O)NCC1</td>\n",
       "    </tr>\n",
       "    <tr>\n",
       "      <th>6</th>\n",
       "      <td>CC(C)CCOC(=O)C1=CC=CN=C1</td>\n",
       "    </tr>\n",
       "    <tr>\n",
       "      <th>7</th>\n",
       "      <td>NC1=CC=NC2=C1C1CCC2CC1</td>\n",
       "    </tr>\n",
       "    <tr>\n",
       "      <th>8</th>\n",
       "      <td>C=C(C)CC1=C2C=CC=CC2=CC=C1</td>\n",
       "    </tr>\n",
       "    <tr>\n",
       "      <th>9</th>\n",
       "      <td>FC1=C(F)C(C=C2C=CC=CN2)=CC=C1</td>\n",
       "    </tr>\n",
       "  </tbody>\n",
       "</table>\n",
       "</div>"
      ],
      "text/plain": [
       "                          result\n",
       "0                C=C(C)CC(C)CC=O\n",
       "1                CCCC(CO)(CCC)NC\n",
       "2                 CCCC1CC(O)CC1C\n",
       "3         CCC(C)C1=CC(C#N)=CC=C1\n",
       "4            CCC1=C2N=CNC2=NC=N1\n",
       "5       CNC(=O)C=CC1=CCC(=O)NCC1\n",
       "6       CC(C)CCOC(=O)C1=CC=CN=C1\n",
       "7         NC1=CC=NC2=C1C1CCC2CC1\n",
       "8     C=C(C)CC1=C2C=CC=CC2=CC=C1\n",
       "9  FC1=C(F)C(C=C2C=CC=CN2)=CC=C1"
      ]
     },
     "execution_count": 11,
     "metadata": {},
     "output_type": "execute_result"
    },
    {
     "name": "stdout",
     "output_type": "stream",
     "text": [
      "running PaccMannVAEGenerator\n"
     ]
    },
    {
     "data": {
      "application/vnd.jupyter.widget-view+json": {
       "model_id": "9f9affa90dbe48cf8688c6062bc782e1",
       "version_major": 2,
       "version_minor": 0
      },
      "text/plain": [
       "Output()"
      ]
     },
     "metadata": {},
     "output_type": "display_data"
    },
    {
     "data": {
      "text/html": [
       "<div>\n",
       "<style scoped>\n",
       "    .dataframe tbody tr th:only-of-type {\n",
       "        vertical-align: middle;\n",
       "    }\n",
       "\n",
       "    .dataframe tbody tr th {\n",
       "        vertical-align: top;\n",
       "    }\n",
       "\n",
       "    .dataframe thead th {\n",
       "        text-align: right;\n",
       "    }\n",
       "</style>\n",
       "<table border=\"1\" class=\"dataframe\">\n",
       "  <thead>\n",
       "    <tr style=\"text-align: right;\">\n",
       "      <th></th>\n",
       "      <th>result</th>\n",
       "    </tr>\n",
       "  </thead>\n",
       "  <tbody>\n",
       "    <tr>\n",
       "      <th>0</th>\n",
       "      <td>C=O</td>\n",
       "    </tr>\n",
       "    <tr>\n",
       "      <th>1</th>\n",
       "      <td>CNOCl</td>\n",
       "    </tr>\n",
       "    <tr>\n",
       "      <th>2</th>\n",
       "      <td>CCN</td>\n",
       "    </tr>\n",
       "    <tr>\n",
       "      <th>3</th>\n",
       "      <td>FC#N</td>\n",
       "    </tr>\n",
       "    <tr>\n",
       "      <th>4</th>\n",
       "      <td>COC=O</td>\n",
       "    </tr>\n",
       "    <tr>\n",
       "      <th>5</th>\n",
       "      <td>Cl</td>\n",
       "    </tr>\n",
       "    <tr>\n",
       "      <th>6</th>\n",
       "      <td>OCNC#N</td>\n",
       "    </tr>\n",
       "    <tr>\n",
       "      <th>7</th>\n",
       "      <td>CC=O</td>\n",
       "    </tr>\n",
       "    <tr>\n",
       "      <th>8</th>\n",
       "      <td>COC</td>\n",
       "    </tr>\n",
       "    <tr>\n",
       "      <th>9</th>\n",
       "      <td>O=CF</td>\n",
       "    </tr>\n",
       "  </tbody>\n",
       "</table>\n",
       "</div>"
      ],
      "text/plain": [
       "   result\n",
       "0     C=O\n",
       "1   CNOCl\n",
       "2     CCN\n",
       "3    FC#N\n",
       "4   COC=O\n",
       "5      Cl\n",
       "6  OCNC#N\n",
       "7    CC=O\n",
       "8     COC\n",
       "9    O=CF"
      ]
     },
     "execution_count": 11,
     "metadata": {},
     "output_type": "execute_result"
    }
   ],
   "source": [
    "\n",
    "print('running OrganGenerator')\n",
    "%openadd gen generate with OrganGenerator data  for \"{'target':''}\"  sample 10\n",
    "\n",
    "print('running VaeGenerator')\n",
    "%openadd gen generate with VaeGenerator data  for \"{'target':''}\"  sample 10 \n",
    "\n",
    "print('running AaeGenerator')\n",
    "%openadd gen generate with AaeGenerator data  for \"{'target':''}\"  sample 10 \n",
    "\n",
    "print('running TorchDrugGraphAF')\n",
    "%openadd gen generate with TorchDrugGraphAF data  sample 10 using ( algorithm_version=zinc250k_v0 )\n",
    "\n",
    "print('running TorchDrugGCPN')\n",
    "%openadd gen generate with TorchDrugGCPN data  sample 10 using ( algorithm_version=zinc250k_v0 )\n",
    "\n",
    "print('running PaccMannVAEGenerator')\n",
    "%openadd gen generate with PaccMannVAEGenerator data  sample 10\n"
   ]
  },
  {
   "cell_type": "markdown",
   "id": "ce184184-d8b8-4aa2-bc57-684652e29c56",
   "metadata": {},
   "source": [
    "### Regression transformer"
   ]
  },
  {
   "cell_type": "markdown",
   "id": "48c6e0b5-184c-4afe-b0a7-d097fe377ed4",
   "metadata": {},
   "source": [
    "With Regression transfomer we can substitute variables carrying masks as per below."
   ]
  },
  {
   "cell_type": "code",
   "execution_count": 12,
   "id": "eb09de1a-788d-46a0-842c-6069096e9b78",
   "metadata": {
    "execution": {
     "iopub.execute_input": "2024-05-15T07:21:01.623543Z",
     "iopub.status.busy": "2024-05-15T07:21:01.623266Z",
     "iopub.status.idle": "2024-05-15T07:21:32.340537Z",
     "shell.execute_reply": "2024-05-15T07:21:32.339794Z",
     "shell.execute_reply.started": "2024-05-15T07:21:01.623520Z"
    },
    "tags": []
   },
   "outputs": [
    {
     "data": {
      "application/vnd.jupyter.widget-view+json": {
       "model_id": "4e46968dc20741c385c02b786143928b",
       "version_major": 2,
       "version_minor": 0
      },
      "text/plain": [
       "Output()"
      ]
     },
     "metadata": {},
     "output_type": "display_data"
    },
    {
     "data": {
      "text/html": [
       "<div>\n",
       "<style scoped>\n",
       "    .dataframe tbody tr th:only-of-type {\n",
       "        vertical-align: middle;\n",
       "    }\n",
       "\n",
       "    .dataframe tbody tr th {\n",
       "        vertical-align: top;\n",
       "    }\n",
       "\n",
       "    .dataframe thead th {\n",
       "        text-align: right;\n",
       "    }\n",
       "</style>\n",
       "<table border=\"1\" class=\"dataframe\">\n",
       "  <thead>\n",
       "    <tr style=\"text-align: right;\">\n",
       "      <th></th>\n",
       "      <th>0</th>\n",
       "      <th>1</th>\n",
       "    </tr>\n",
       "  </thead>\n",
       "  <tbody>\n",
       "    <tr>\n",
       "      <th>0</th>\n",
       "      <td>BrC1=CC=CN=CC=CC=C1</td>\n",
       "      <td>&lt;esol&gt;-3.7936</td>\n",
       "    </tr>\n",
       "  </tbody>\n",
       "</table>\n",
       "</div>"
      ],
      "text/plain": [
       "                     0              1\n",
       "0  BrC1=CC=CN=CC=CC=C1  <esol>-3.7936"
      ]
     },
     "execution_count": 12,
     "metadata": {},
     "output_type": "execute_result"
    }
   ],
   "source": [
    "mask = '<esol>-3.53|[Br][C][=C][C][MASK][MASK][=C][C][=C][C][=C][Ring1][MASK][MASK][Branch2_3][Ring1][Branch1_2]'\n",
    "%openadd gen generate with RegressionTransformerMolecules data for '{mask}' Sample 5 \\\n",
    "USING (algorithm_version=solubility search=sample temperature=1.4 tolerance=5.0 ) "
   ]
  },
  {
   "cell_type": "markdown",
   "id": "3e24089f-f557-43fc-b15e-b7a29ba01955",
   "metadata": {},
   "source": [
    "When substituting into the command dictionaries we need to use an alternate substitution method using $ due to limits in notebook parsing."
   ]
  },
  {
   "cell_type": "code",
   "execution_count": 13,
   "id": "383f10a8-e0c0-44fc-bb70-615447fdd7e1",
   "metadata": {
    "execution": {
     "iopub.execute_input": "2024-05-15T07:21:32.342061Z",
     "iopub.status.busy": "2024-05-15T07:21:32.341708Z",
     "iopub.status.idle": "2024-05-15T07:21:36.980165Z",
     "shell.execute_reply": "2024-05-15T07:21:36.979436Z",
     "shell.execute_reply.started": "2024-05-15T07:21:32.342035Z"
    },
    "tags": []
   },
   "outputs": [
    {
     "data": {
      "application/vnd.jupyter.widget-view+json": {
       "model_id": "7dbf41b401c24c1fb75636ec6446a1e5",
       "version_major": 2,
       "version_minor": 0
      },
      "text/plain": [
       "Output()"
      ]
     },
     "metadata": {},
     "output_type": "display_data"
    },
    {
     "data": {
      "text/html": [
       "<div>\n",
       "<style scoped>\n",
       "    .dataframe tbody tr th:only-of-type {\n",
       "        vertical-align: middle;\n",
       "    }\n",
       "\n",
       "    .dataframe tbody tr th {\n",
       "        vertical-align: top;\n",
       "    }\n",
       "\n",
       "    .dataframe thead th {\n",
       "        text-align: right;\n",
       "    }\n",
       "</style>\n",
       "<table border=\"1\" class=\"dataframe\">\n",
       "  <thead>\n",
       "    <tr style=\"text-align: right;\">\n",
       "      <th></th>\n",
       "      <th>0</th>\n",
       "      <th>1</th>\n",
       "    </tr>\n",
       "  </thead>\n",
       "  <tbody>\n",
       "    <tr>\n",
       "      <th>0</th>\n",
       "      <td>C1C=C5C=NN1C(C#CC3=C(C)C=CC=4C(CC2=CC(C(F)(F)F)=CC=C2)=NOC3=4)CN5</td>\n",
       "      <td>&lt;esol&gt;-5.9663</td>\n",
       "    </tr>\n",
       "    <tr>\n",
       "      <th>1</th>\n",
       "      <td>C1=5C=CC=NN1C(C#CC3=C(C)C=CC=4C(NC2=CC(C(F)(F)F)=CC=C2)=NOC3=4)NN=5</td>\n",
       "      <td>&lt;esol&gt;-5.8279</td>\n",
       "    </tr>\n",
       "    <tr>\n",
       "      <th>2</th>\n",
       "      <td>C1N=CC=NN1C(C#CC3=C(C)C=CC=4C(NC2=CC(C(F)(F)F)=CC=C2)=NOC3=4)ON</td>\n",
       "      <td>&lt;esol&gt;-6.2431</td>\n",
       "    </tr>\n",
       "    <tr>\n",
       "      <th>3</th>\n",
       "      <td>C1C5=CC=NN1C(C#CC3=C(C)C=CC=4C(NC2=CC(C(F)(F)F)=CC=C2)=NOC3=4)=NN5</td>\n",
       "      <td>&lt;esol&gt;-7.2118</td>\n",
       "    </tr>\n",
       "    <tr>\n",
       "      <th>4</th>\n",
       "      <td>C1N=CC=NN1C(C#CC3=C(C)C=CC=4C(OC2=CC(C(F)(F)F)=CC5=N2)=NOC3=4)=NNO5</td>\n",
       "      <td>&lt;esol&gt;-5.9663</td>\n",
       "    </tr>\n",
       "  </tbody>\n",
       "</table>\n",
       "</div>"
      ],
      "text/plain": [
       "                                                                     0   \n",
       "0    C1C=C5C=NN1C(C#CC3=C(C)C=CC=4C(CC2=CC(C(F)(F)F)=CC=C2)=NOC3=4)CN5  \\\n",
       "1  C1=5C=CC=NN1C(C#CC3=C(C)C=CC=4C(NC2=CC(C(F)(F)F)=CC=C2)=NOC3=4)NN=5   \n",
       "2      C1N=CC=NN1C(C#CC3=C(C)C=CC=4C(NC2=CC(C(F)(F)F)=CC=C2)=NOC3=4)ON   \n",
       "3   C1C5=CC=NN1C(C#CC3=C(C)C=CC=4C(NC2=CC(C(F)(F)F)=CC=C2)=NOC3=4)=NN5   \n",
       "4  C1N=CC=NN1C(C#CC3=C(C)C=CC=4C(OC2=CC(C(F)(F)F)=CC5=N2)=NOC3=4)=NNO5   \n",
       "\n",
       "               1  \n",
       "0  <esol>-5.9663  \n",
       "1  <esol>-5.8279  \n",
       "2  <esol>-6.2431  \n",
       "3  <esol>-7.2118  \n",
       "4  <esol>-5.9663  "
      ]
     },
     "execution_count": 13,
     "metadata": {},
     "output_type": "execute_result"
    }
   ],
   "source": [
    "MY_SMILES= 'C12C=CC=NN1C(C#CC1=C(C)C=CC3C(NC4=CC(C(F)(F)F)=CC=C4)=NOC1=3)=CN=2'\n",
    "MY_PARAMS = { \"fraction_to_mask\": 0.1, \"property_goal\": { \"<esol>\": 0.234 } }\n",
    "%openadd gen generate with RegressionTransformerMolecules data for $MY_SMILES sample 5 \\\n",
    "using(algorithm_version=solubility  search=sample temperature=1.5 tolerance=60.0 sampling_wrapper = \"$MY_PARAMS\" )"
   ]
  },
  {
   "cell_type": "code",
   "execution_count": 14,
   "id": "58e86c7a-e506-49ae-bdf4-204510496c8a",
   "metadata": {
    "execution": {
     "iopub.execute_input": "2024-05-15T07:21:36.983755Z",
     "iopub.status.busy": "2024-05-15T07:21:36.983393Z",
     "iopub.status.idle": "2024-05-15T07:21:49.380962Z",
     "shell.execute_reply": "2024-05-15T07:21:49.380246Z",
     "shell.execute_reply.started": "2024-05-15T07:21:36.983727Z"
    },
    "tags": []
   },
   "outputs": [
    {
     "data": {
      "application/vnd.jupyter.widget-view+json": {
       "model_id": "f1e1fd06696d43e99b3f779636426406",
       "version_major": 2,
       "version_minor": 0
      },
      "text/plain": [
       "Output()"
      ]
     },
     "metadata": {},
     "output_type": "display_data"
    },
    {
     "data": {
      "text/markdown": [
       "<span style=\"color: #ccc\">Next up, you can run: </span>`result open`/`edit`/`copy`/`display`/`as dataframe`/`save [as '<filename.csv>']` <br> \n"
      ],
      "text/plain": [
       "<IPython.core.display.Markdown object>"
      ]
     },
     "metadata": {},
     "output_type": "display_data"
    },
    {
     "data": {
      "text/html": [
       "<style type=\"text/css\">\n",
       "</style>\n",
       "<table id=\"T_b6ecf\">\n",
       "  <thead>\n",
       "    <tr>\n",
       "      <th id=\"T_b6ecf_level0_col0\" class=\"col_heading level0 col0\" >result</th>\n",
       "    </tr>\n",
       "  </thead>\n",
       "  <tbody>\n",
       "    <tr>\n",
       "      <td id=\"T_b6ecf_row0_col0\" class=\"data row0 col0\" ><stab>0.2</td>\n",
       "    </tr>\n",
       "  </tbody>\n",
       "</table>\n"
      ],
      "text/plain": [
       "<pandas.io.formats.style.Styler at 0x1434c3b10>"
      ]
     },
     "execution_count": 14,
     "metadata": {},
     "output_type": "execute_result"
    }
   ],
   "source": [
    "target = 'GSQEVNSNASPEEAEIARKAGATTWTEKGNKWEIRI'\n",
    "target=f\"<stab>[MASK][MASK][MASK][MASK][MASK]|{target}\"\n",
    "%openad gen generate with RegressionTransformerProteins data for '{target}' sample 1 \\\n",
    "using ( algorithm_version=stability search=greedy )"
   ]
  },
  {
   "cell_type": "code",
   "execution_count": 15,
   "id": "9c055339-058c-48f7-bf33-1ba7c6a428fa",
   "metadata": {
    "execution": {
     "iopub.execute_input": "2024-05-15T07:21:49.382090Z",
     "iopub.status.busy": "2024-05-15T07:21:49.381754Z",
     "iopub.status.idle": "2024-05-15T07:21:49.388478Z",
     "shell.execute_reply": "2024-05-15T07:21:49.387752Z",
     "shell.execute_reply.started": "2024-05-15T07:21:49.382065Z"
    },
    "tags": []
   },
   "outputs": [],
   "source": [
    "string = \"\"\"\n",
    "MSSSSWLLLSLVAVTAAQSTIEEQAKTFLDKFNHEAEDLFYQSSLASWNYNTNITEENVQ\n",
    "NMNNAGDKWSAFLKEQSTLAQMYPLQEIQNLTVKLQLQALQQNGSSVLSEDKSKRLNTIL\n",
    "NTMSTIYSTGKVCNPDNPQECLLLEPGLNEIMANSLDYNERLWAWESWRSEVGKQLRPLY\n",
    "EEYVVLKNEMARANHYEDYGDYWRGDYEVNGVDGYDYSRGQLIEDVEHTFEEIKPLYEHL\n",
    "HAYVRAKLMNAYPSYISPIGCLPAHLLGDMWGRFWTNLYSLTVPFGQKPNIDVTDAMVDQ\n",
    "AWDAQRIFKEAEKFFVSVGLPNMTQGFWENSMLTDPGNVQKAVCHPTAWDLGKGDFRILM\n",
    "CTKVTMDDFLTAHHEMGHIQYDMAYAAQPFLLRNGANEGFHEAVGEIMSLSAATPKHLKS\n",
    "IGLLSPDFQEDNETEINFLLKQALTIVGTLPFTYMLEKWRWMVFKGEIPKDQWMKKWWEM\n",
    "KREIVGVVEPVPHDETYCDPASLFHVSNDYSFIRYYTRTLYQFQFQEALCQAAKHEGPLH\n",
    "KCDISNSTEAGQKLFNMLRLGKSEPWTLALENVVGAKNMNVRPLLNYFEPLFTWLKDQNK\n",
    "NSFVGWSTDWSPYADQSIKVRISLKSALGDKAYEWNDNEMYLFRSSVAYAMRQYFLKVKN\n",
    "QMILFGEEDVRVANLKPRISFNFFVTAPKNVSDIIPRTEVEKAIRMSRSRINDAFRLNDN\n",
    "SLEFLGIQPTLGPPNQPPVSIWLIVFGVVMGVIVVGIVILIFTGIRDRKKKNKARSGENP\n",
    "YASIDISKGENNPGFQNTDDVQTSF\n",
    "\"\"\"\n",
    "target_protein = \"\".join(filter(str.isalpha, (list(string))))\n"
   ]
  },
  {
   "cell_type": "code",
   "execution_count": 16,
   "id": "645e8ffc-034b-41e3-b548-62d7b047fabd",
   "metadata": {
    "execution": {
     "iopub.execute_input": "2024-05-15T07:21:49.389894Z",
     "iopub.status.busy": "2024-05-15T07:21:49.389577Z",
     "iopub.status.idle": "2024-05-15T07:22:59.667729Z",
     "shell.execute_reply": "2024-05-15T07:22:59.666897Z",
     "shell.execute_reply.started": "2024-05-15T07:21:49.389867Z"
    },
    "tags": []
   },
   "outputs": [
    {
     "data": {
      "application/vnd.jupyter.widget-view+json": {
       "model_id": "434d5ef637aa48b4b4cea5dd67219d03",
       "version_major": 2,
       "version_minor": 0
      },
      "text/plain": [
       "Output()"
      ]
     },
     "metadata": {},
     "output_type": "display_data"
    },
    {
     "data": {
      "text/markdown": [
       "<span style=\"color: #ccc\">Next up, you can run: </span>`result open`/`edit`/`copy`/`display`/`as dataframe`/`save [as '<filename.csv>']` <br> \n"
      ],
      "text/plain": [
       "<IPython.core.display.Markdown object>"
      ]
     },
     "metadata": {},
     "output_type": "display_data"
    },
    {
     "data": {
      "text/html": [
       "<style type=\"text/css\">\n",
       "</style>\n",
       "<table id=\"T_37cd9\">\n",
       "  <thead>\n",
       "    <tr>\n",
       "      <th id=\"T_37cd9_level0_col0\" class=\"col_heading level0 col0\" >result</th>\n",
       "    </tr>\n",
       "  </thead>\n",
       "  <tbody>\n",
       "    <tr>\n",
       "      <td id=\"T_37cd9_row0_col0\" class=\"data row0 col0\" >ClSS=O</td>\n",
       "    </tr>\n",
       "    <tr>\n",
       "      <td id=\"T_37cd9_row1_col0\" class=\"data row1 col0\" >CSCF</td>\n",
       "    </tr>\n",
       "    <tr>\n",
       "      <td id=\"T_37cd9_row2_col0\" class=\"data row2 col0\" >CCCl</td>\n",
       "    </tr>\n",
       "    <tr>\n",
       "      <td id=\"T_37cd9_row3_col0\" class=\"data row3 col0\" >O=CCF</td>\n",
       "    </tr>\n",
       "    <tr>\n",
       "      <td id=\"T_37cd9_row4_col0\" class=\"data row4 col0\" >O=CC=O</td>\n",
       "    </tr>\n",
       "    <tr>\n",
       "      <td id=\"T_37cd9_row5_col0\" class=\"data row5 col0\" >CC=O</td>\n",
       "    </tr>\n",
       "    <tr>\n",
       "      <td id=\"T_37cd9_row6_col0\" class=\"data row6 col0\" >CCOCPC</td>\n",
       "    </tr>\n",
       "    <tr>\n",
       "      <td id=\"T_37cd9_row7_col0\" class=\"data row7 col0\" >C</td>\n",
       "    </tr>\n",
       "    <tr>\n",
       "      <td id=\"T_37cd9_row8_col0\" class=\"data row8 col0\" >CSCCl</td>\n",
       "    </tr>\n",
       "    <tr>\n",
       "      <td id=\"T_37cd9_row9_col0\" class=\"data row9 col0\" >NOC1COO1</td>\n",
       "    </tr>\n",
       "    <tr>\n",
       "      <td id=\"T_37cd9_row10_col0\" class=\"data row10 col0\" >C1OCCNNC1=O</td>\n",
       "    </tr>\n",
       "    <tr>\n",
       "      <td id=\"T_37cd9_row11_col0\" class=\"data row11 col0\" >O=CN=O</td>\n",
       "    </tr>\n",
       "    <tr>\n",
       "      <td id=\"T_37cd9_row12_col0\" class=\"data row12 col0\" >BrCC</td>\n",
       "    </tr>\n",
       "    <tr>\n",
       "      <td id=\"T_37cd9_row13_col0\" class=\"data row13 col0\" >O=O</td>\n",
       "    </tr>\n",
       "    <tr>\n",
       "      <td id=\"T_37cd9_row14_col0\" class=\"data row14 col0\" >CC#N</td>\n",
       "    </tr>\n",
       "    <tr>\n",
       "      <td id=\"T_37cd9_row15_col0\" class=\"data row15 col0\" >N</td>\n",
       "    </tr>\n",
       "    <tr>\n",
       "      <td id=\"T_37cd9_row16_col0\" class=\"data row16 col0\" >FCF</td>\n",
       "    </tr>\n",
       "    <tr>\n",
       "      <td id=\"T_37cd9_row17_col0\" class=\"data row17 col0\" >C#N</td>\n",
       "    </tr>\n",
       "    <tr>\n",
       "      <td id=\"T_37cd9_row18_col0\" class=\"data row18 col0\" >OCF</td>\n",
       "    </tr>\n",
       "    <tr>\n",
       "      <td id=\"T_37cd9_row19_col0\" class=\"data row19 col0\" >C1NC1=O</td>\n",
       "    </tr>\n",
       "  </tbody>\n",
       "</table>\n"
      ],
      "text/plain": [
       "<pandas.io.formats.style.Styler at 0x15fe8de50>"
      ]
     },
     "execution_count": 16,
     "metadata": {},
     "output_type": "execute_result"
    }
   ],
   "source": [
    "%openad gen generate with PaccMannRLProteinBasedGenerator data  for '{target_protein}' sample 20"
   ]
  },
  {
   "cell_type": "markdown",
   "id": "4330be80-674e-44c3-b8a6-a05085efbdd5",
   "metadata": {},
   "source": [
    "### Other Options for Generation and Samplying"
   ]
  },
  {
   "cell_type": "markdown",
   "id": "2d1a6a83-932e-4c26-b516-a56cb3439656",
   "metadata": {},
   "source": [
    "Other generation Functions are Demonstrated below, to understand the Parameters and required Parametera for both the Target and USING clause in the generator function use the online help to tell you."
   ]
  },
  {
   "cell_type": "code",
   "execution_count": 9,
   "id": "080da001-7a06-4a2a-a88c-3cca8aba8c9a",
   "metadata": {
    "execution": {
     "iopub.execute_input": "2024-05-15T07:15:27.628049Z",
     "iopub.status.busy": "2024-05-15T07:15:27.627755Z",
     "iopub.status.idle": "2024-05-15T07:15:27.693082Z",
     "shell.execute_reply": "2024-05-15T07:15:27.692288Z",
     "shell.execute_reply.started": "2024-05-15T07:15:27.628024Z"
    },
    "tags": []
   },
   "outputs": [
    {
     "data": {
      "text/markdown": [
       "`gen generate with SMILESLSTMPPOGenerator data  for  <object> (sample <sample_size>)  USING (<parameter>=<value> <parameter>=<value>)  (save_as '<filename.csv>')` <br> \n",
       "<span style=\"color: #ccc\">---------------------------------------------------------------------------</span>\n",
       "### Target: <br> \n",
       "- `title` : Scoring functions with parameters <br> \n",
       "  - `description` : Scoring functions will be used to generate a score for SMILES. <br> \n",
       "  - `type` : object <br> \n",
       "  ### Parameters:\n",
       "`algorithm_version`  <br> \n",
       " - `title` : Algorithm Version <br> \n",
       "  - `default` : v0 <br> \n",
       "  - `type` : string <br> \n",
       "\n",
       "\n",
       "`batch_size`  <br> \n",
       " - `title` : Batch Size <br> \n",
       "  - `description` : Batch size used for the generative model sampling. <br> \n",
       "  - `default` : 1 <br> \n",
       "  - `type` : integer <br> \n",
       "\n",
       "\n",
       "`num_epochs`  <br> \n",
       " - `title` : Num Epochs <br> \n",
       "  - `description` : number of epochs to sample <br> \n",
       "  - `default` : 20 <br> \n",
       "  - `type` : integer <br> \n",
       "\n",
       "\n",
       "`episode_size`  <br> \n",
       " - `title` : Episode Size <br> \n",
       "  - `description` : number of molecules sampled by the policy at the start of a series of ppo updates <br> \n",
       "  - `default` : 8192 <br> \n",
       "  - `type` : integer <br> \n",
       "\n",
       "\n",
       "`optimize_batch_size`  <br> \n",
       " - `title` : Optimize Batch Size <br> \n",
       "  - `description` : batch size for the optimization <br> \n",
       "  - `default` : 1024 <br> \n",
       "  - `type` : integer <br> \n",
       "\n",
       "\n",
       "`entropy_weight`  <br> \n",
       " - `title` : Entropy Weight <br> \n",
       "  - `description` : used for calculating entropy loss <br> \n",
       "  - `default` : 1 <br> \n",
       "  - `type` : integer <br> \n",
       "\n",
       "\n",
       "`kl_div_weight`  <br> \n",
       " - `title` : Kl Div Weight <br> \n",
       "  - `description` : used for calculating Kullback-Leibler divergence loss <br> \n",
       "  - `default` : 10 <br> \n",
       "  - `type` : integer <br> \n",
       "\n",
       "\n",
       "`clip_param`  <br> \n",
       " - `title` : Clip Param <br> \n",
       "  - `description` : used for determining how far the new policy is from the old one <br> \n",
       "  - `default` : 0.2 <br> \n",
       "  - `type` : number <br> \n",
       "\n",
       "\n",
       " ###  Algorithm Versions   <br> \n",
       "\n",
       " - `v0` <br> \n",
       "### Function Description: <br> \n",
       "Configuration to generate optimizied molecules using recurrent neural networks with hill climbing algorithm <br> \n"
      ],
      "text/plain": [
       "<IPython.core.display.Markdown object>"
      ]
     },
     "execution_count": 9,
     "metadata": {},
     "output_type": "execute_result"
    }
   ],
   "source": [
    "%openad gen generate with SMILESLSTMPPOGenerator ?"
   ]
  },
  {
   "cell_type": "code",
   "execution_count": 10,
   "id": "1f89921f-0c58-4efa-b206-979e6abae758",
   "metadata": {
    "execution": {
     "iopub.execute_input": "2024-05-15T07:16:10.894134Z",
     "iopub.status.busy": "2024-05-15T07:16:10.893784Z",
     "iopub.status.idle": "2024-05-15T07:16:10.958669Z",
     "shell.execute_reply": "2024-05-15T07:16:10.957768Z",
     "shell.execute_reply.started": "2024-05-15T07:16:10.894104Z"
    },
    "tags": []
   },
   "outputs": [
    {
     "data": {
      "text/markdown": [
       "`gen generate with PaccMannRLProteinBasedGenerator data  for  <string> (sample <sample_size>)  USING (<parameter>=<value> <parameter>=<value>)  (save_as '<filename.csv>')` <br> \n",
       "<span style=\"color: #ccc\">---------------------------------------------------------------------------</span>\n",
       "### Target: <br> \n",
       "- `title` : Target protein sequence <br> \n",
       "  - `description` : AA sequence of the protein target to generate non-toxic ligands against. <br> \n",
       "  - `type` : string <br> \n",
       "  ### Parameters:\n",
       "`algorithm_version`  <br> \n",
       " - `title` : Algorithm Version <br> \n",
       "  - `default` : v0 <br> \n",
       "  - `type` : string <br> \n",
       "\n",
       "\n",
       "`batch_size`  <br> \n",
       " - `title` : Batch Size <br> \n",
       "  - `description` : Batch size used for the generative model sampling. <br> \n",
       "  - `default` : 32 <br> \n",
       "  - `type` : integer <br> \n",
       "\n",
       "\n",
       "`temperature`  <br> \n",
       " - `title` : Temperature <br> \n",
       "  - `description` : Temperature parameter for the softmax sampling in decoding. <br> \n",
       "  - `default` : 1.4 <br> \n",
       "  - `type` : number <br> \n",
       "\n",
       "\n",
       "`generated_length`  <br> \n",
       " - `title` : Generated Length <br> \n",
       "  - `description` : Maximum length in tokens of the generated molcules (relates to the SMILES length). <br> \n",
       "  - `default` : 100 <br> \n",
       "  - `type` : integer <br> \n",
       "\n",
       "\n",
       " ###  Algorithm Versions   <br> \n",
       "\n",
       " - `v0` <br> \n",
       "### Function Description: <br> \n",
       " Configuration to generate compounds with high affinity to a target protein. <br> \n",
       "\n",
       " Implementation from the paper: https://doi.org/10.1088/2632-2153/abe808. <br> \n",
       "\n",
       " Example: <br> \n",
       "\n",
       " Assuming gt4sd_gen is the service name <br> \n",
       "\n",
       " ` gt4sd_gen generate with PaccMannRLProteinBasedGenerator data for 'GSQEVNSNASPEEAEIARKAGATTWTEKGNKWEIRI' sample 20 ` <br> \n",
       "\n",
       "\n"
      ],
      "text/plain": [
       "<IPython.core.display.Markdown object>"
      ]
     },
     "execution_count": 10,
     "metadata": {},
     "output_type": "execute_result"
    }
   ],
   "source": [
    "%openad gen generate with PaccMannRLProteinBasedGenerator ?"
   ]
  },
  {
   "cell_type": "code",
   "execution_count": 17,
   "id": "3f8cece5-9e77-4f56-819b-50e6439d767e",
   "metadata": {
    "execution": {
     "iopub.execute_input": "2024-05-15T07:22:59.669155Z",
     "iopub.status.busy": "2024-05-15T07:22:59.668773Z",
     "iopub.status.idle": "2024-05-15T07:30:48.459857Z",
     "shell.execute_reply": "2024-05-15T07:30:48.459023Z",
     "shell.execute_reply.started": "2024-05-15T07:22:59.669126Z"
    },
    "tags": []
   },
   "outputs": [
    {
     "data": {
      "application/vnd.jupyter.widget-view+json": {
       "model_id": "73250d79c5c24598ac1c9760d7e5d498",
       "version_major": 2,
       "version_minor": 0
      },
      "text/plain": [
       "Output()"
      ]
     },
     "metadata": {},
     "output_type": "display_data"
    },
    {
     "data": {
      "text/html": [
       "<div>\n",
       "<style scoped>\n",
       "    .dataframe tbody tr th:only-of-type {\n",
       "        vertical-align: middle;\n",
       "    }\n",
       "\n",
       "    .dataframe tbody tr th {\n",
       "        vertical-align: top;\n",
       "    }\n",
       "\n",
       "    .dataframe thead th {\n",
       "        text-align: right;\n",
       "    }\n",
       "</style>\n",
       "<table border=\"1\" class=\"dataframe\">\n",
       "  <thead>\n",
       "    <tr style=\"text-align: right;\">\n",
       "      <th></th>\n",
       "      <th>result</th>\n",
       "    </tr>\n",
       "  </thead>\n",
       "  <tbody>\n",
       "    <tr>\n",
       "      <th>0</th>\n",
       "      <td>Nc1nc(C(F)(F)F)cs1</td>\n",
       "    </tr>\n",
       "    <tr>\n",
       "      <th>1</th>\n",
       "      <td>O=P(O)(O)CO</td>\n",
       "    </tr>\n",
       "    <tr>\n",
       "      <th>10</th>\n",
       "      <td>C1CN1</td>\n",
       "    </tr>\n",
       "    <tr>\n",
       "      <th>11</th>\n",
       "      <td>Cc1no[n+]([O-])c1[N+](=O)[O-]</td>\n",
       "    </tr>\n",
       "    <tr>\n",
       "      <th>12</th>\n",
       "      <td>CN1CCN(S(C)(=O)=O)C1=O</td>\n",
       "    </tr>\n",
       "    <tr>\n",
       "      <th>13</th>\n",
       "      <td>CN(C)N=O</td>\n",
       "    </tr>\n",
       "    <tr>\n",
       "      <th>14</th>\n",
       "      <td>O=Cc1ccc(Br)o1</td>\n",
       "    </tr>\n",
       "    <tr>\n",
       "      <th>15</th>\n",
       "      <td>CNC(=O)CSC#N</td>\n",
       "    </tr>\n",
       "    <tr>\n",
       "      <th>16</th>\n",
       "      <td>CN(CCCl)N=O</td>\n",
       "    </tr>\n",
       "    <tr>\n",
       "      <th>17</th>\n",
       "      <td>Cn1cnc([N+](=O)[O-])c1C#N</td>\n",
       "    </tr>\n",
       "    <tr>\n",
       "      <th>18</th>\n",
       "      <td>CC(N)C(CCl)C(=O)O</td>\n",
       "    </tr>\n",
       "    <tr>\n",
       "      <th>19</th>\n",
       "      <td>CSC(C)=NO</td>\n",
       "    </tr>\n",
       "    <tr>\n",
       "      <th>2</th>\n",
       "      <td>S=C=S</td>\n",
       "    </tr>\n",
       "    <tr>\n",
       "      <th>3</th>\n",
       "      <td>CN=C=S</td>\n",
       "    </tr>\n",
       "    <tr>\n",
       "      <th>4</th>\n",
       "      <td>O=CNO</td>\n",
       "    </tr>\n",
       "    <tr>\n",
       "      <th>5</th>\n",
       "      <td>Nc1nonc1-n1cnnn1</td>\n",
       "    </tr>\n",
       "    <tr>\n",
       "      <th>6</th>\n",
       "      <td>NC(=O)c1[nH]cnc1I</td>\n",
       "    </tr>\n",
       "    <tr>\n",
       "      <th>7</th>\n",
       "      <td>Nc1[nH][nH]c(=O)c1Cl</td>\n",
       "    </tr>\n",
       "    <tr>\n",
       "      <th>8</th>\n",
       "      <td>NCC=NO</td>\n",
       "    </tr>\n",
       "    <tr>\n",
       "      <th>9</th>\n",
       "      <td>O=C(O)C(CO)NP(=O)(O)O</td>\n",
       "    </tr>\n",
       "  </tbody>\n",
       "</table>\n",
       "</div>"
      ],
      "text/plain": [
       "                           result\n",
       "0              Nc1nc(C(F)(F)F)cs1\n",
       "1                     O=P(O)(O)CO\n",
       "10                          C1CN1\n",
       "11  Cc1no[n+]([O-])c1[N+](=O)[O-]\n",
       "12         CN1CCN(S(C)(=O)=O)C1=O\n",
       "13                       CN(C)N=O\n",
       "14                 O=Cc1ccc(Br)o1\n",
       "15                   CNC(=O)CSC#N\n",
       "16                    CN(CCCl)N=O\n",
       "17      Cn1cnc([N+](=O)[O-])c1C#N\n",
       "18              CC(N)C(CCl)C(=O)O\n",
       "19                      CSC(C)=NO\n",
       "2                           S=C=S\n",
       "3                          CN=C=S\n",
       "4                           O=CNO\n",
       "5                Nc1nonc1-n1cnnn1\n",
       "6               NC(=O)c1[nH]cnc1I\n",
       "7            Nc1[nH][nH]c(=O)c1Cl\n",
       "8                          NCC=NO\n",
       "9           O=C(O)C(CO)NP(=O)(O)O"
      ]
     },
     "execution_count": 17,
     "metadata": {},
     "output_type": "execute_result"
    }
   ],
   "source": [
    "%openadd gen generate with SMILESLSTMPPOGenerator data for \"{'isomer_scorer': {'target': 5.0, 'target_smile': 'NCCCCC'}}\" sample 20 using (num_epochs=2 episode_size=10 optimize_batch_size=2)"
   ]
  },
  {
   "cell_type": "code",
   "execution_count": 18,
   "id": "8ed23af4-06f4-40f1-8700-01b97e1f6ba2",
   "metadata": {
    "execution": {
     "iopub.execute_input": "2024-05-15T07:30:48.461574Z",
     "iopub.status.busy": "2024-05-15T07:30:48.461150Z",
     "iopub.status.idle": "2024-05-15T07:32:42.187949Z",
     "shell.execute_reply": "2024-05-15T07:32:42.187200Z",
     "shell.execute_reply.started": "2024-05-15T07:30:48.461547Z"
    },
    "tags": []
   },
   "outputs": [
    {
     "data": {
      "application/vnd.jupyter.widget-view+json": {
       "model_id": "12bff2ba6d334171b6e6658c47f33a70",
       "version_major": 2,
       "version_minor": 0
      },
      "text/plain": [
       "Output()"
      ]
     },
     "metadata": {},
     "output_type": "display_data"
    },
    {
     "data": {
      "text/html": [
       "<div>\n",
       "<style scoped>\n",
       "    .dataframe tbody tr th:only-of-type {\n",
       "        vertical-align: middle;\n",
       "    }\n",
       "\n",
       "    .dataframe tbody tr th {\n",
       "        vertical-align: top;\n",
       "    }\n",
       "\n",
       "    .dataframe thead th {\n",
       "        text-align: right;\n",
       "    }\n",
       "</style>\n",
       "<table border=\"1\" class=\"dataframe\">\n",
       "  <thead>\n",
       "    <tr style=\"text-align: right;\">\n",
       "      <th></th>\n",
       "      <th>result</th>\n",
       "    </tr>\n",
       "  </thead>\n",
       "  <tbody>\n",
       "    <tr>\n",
       "      <th>0</th>\n",
       "      <td>CC(C)(C)N1[C]N(C(C)(C)C)C=C1.Cc1cc(C)c(N2[C]N(c3c(C)cc(C)cc3C)CC2)c(C)c1.[Pd]</td>\n",
       "    </tr>\n",
       "    <tr>\n",
       "      <th>1</th>\n",
       "      <td>Fc1ccccc1P(c1ccccc1)c1ccccc1.CC12COP(OC1)OC2.[Pd]</td>\n",
       "    </tr>\n",
       "    <tr>\n",
       "      <th>10</th>\n",
       "      <td>c1ccc(P(c2ccccc2)C2CCCCC2)cc1.CC12COP(OC1)OC2.[Pt]</td>\n",
       "    </tr>\n",
       "    <tr>\n",
       "      <th>11</th>\n",
       "      <td>C1CCC(P(C2CCCCC2)C2CCCCC2)CC1.CP(C)c1ccccc1.[Ag]</td>\n",
       "    </tr>\n",
       "    <tr>\n",
       "      <th>12</th>\n",
       "      <td>CC12COP(OC1)OC2.CN1[C]N(C)C=C1.[Au]</td>\n",
       "    </tr>\n",
       "    <tr>\n",
       "      <th>13</th>\n",
       "      <td>CC(C)N1[C]N(C(C)C)C=C1.Cc1ccccn1.[Cu]</td>\n",
       "    </tr>\n",
       "    <tr>\n",
       "      <th>14</th>\n",
       "      <td>Cc1ccccc1P(c1ccccc1C)c1ccccc1C.CP(C)c1ccccc1.[Ag]</td>\n",
       "    </tr>\n",
       "    <tr>\n",
       "      <th>15</th>\n",
       "      <td>Cc1cccnc1.C=O.[Cu]</td>\n",
       "    </tr>\n",
       "    <tr>\n",
       "      <th>16</th>\n",
       "      <td>Fc1ccc(P(c2ccc(Cl)cc2)c2ccc(Cl)cc2)cc1.Cc1cccc(P(c2cccc(C)c2)c2cccc(C)c2)c1.[Ag]</td>\n",
       "    </tr>\n",
       "    <tr>\n",
       "      <th>17</th>\n",
       "      <td>COc1ccc(P(c2ccc(OC)cc2)c2ccc(OC)cc2)cc1.CC(C)N1CC2(C)CN(C(C)C)P1N(C(C)C)C2.[Ag]</td>\n",
       "    </tr>\n",
       "    <tr>\n",
       "      <th>18</th>\n",
       "      <td>CCc1ccccc1P(C1CCCCC1)C1CCCCC1.Cc1cc(C)c(N2[C]N(c3c(C)cc(C)cc3C)C=C2)c(C)c1.[Pt]</td>\n",
       "    </tr>\n",
       "    <tr>\n",
       "      <th>19</th>\n",
       "      <td>c1ccncc1.CN(C)c1ccncc1.[Cu]</td>\n",
       "    </tr>\n",
       "    <tr>\n",
       "      <th>2</th>\n",
       "      <td>c1ccc(P(c2ccccc2)c2ccccc2)cc1.Cc1ccccc1P(c1ccccc1C)c1ccccc1C.[Pt]</td>\n",
       "    </tr>\n",
       "    <tr>\n",
       "      <th>3</th>\n",
       "      <td>c1ccc(P(c2ccccc2)c2ccccc2)cc1.c1ccc(P(c2ccccc2)C2CCCCC2)cc1.[Pt]</td>\n",
       "    </tr>\n",
       "    <tr>\n",
       "      <th>4</th>\n",
       "      <td>c1ccc(P(c2ccccc2)c2ccccc2)cc1.Cc1ccccc1P(c1ccccc1)c1ccccc1.[Pt]</td>\n",
       "    </tr>\n",
       "    <tr>\n",
       "      <th>5</th>\n",
       "      <td>Cc1ccccc1P(c1ccccc1C)c1ccccc1C.CP(C)c1ccccc1.[Cu]</td>\n",
       "    </tr>\n",
       "    <tr>\n",
       "      <th>6</th>\n",
       "      <td>Cc1cc(C)c(P(C2CCCCC2)C2CCCCC2)c(C)c1.Fc1ccncc1.[Au]</td>\n",
       "    </tr>\n",
       "    <tr>\n",
       "      <th>7</th>\n",
       "      <td>CCOP(OCC)OCC.C=O.[Pd]</td>\n",
       "    </tr>\n",
       "    <tr>\n",
       "      <th>8</th>\n",
       "      <td>c1ccc(P(c2ccccc2)C2CCCCC2)cc1.C=O.[Pd]</td>\n",
       "    </tr>\n",
       "    <tr>\n",
       "      <th>9</th>\n",
       "      <td>c1ccc(P(c2ccccc2)c2ccccc2)cc1.Cc1ccccc1P(C1CCCCC1)C1CCCCC1.[Pt]</td>\n",
       "    </tr>\n",
       "  </tbody>\n",
       "</table>\n",
       "</div>"
      ],
      "text/plain": [
       "                                                                              result\n",
       "0      CC(C)(C)N1[C]N(C(C)(C)C)C=C1.Cc1cc(C)c(N2[C]N(c3c(C)cc(C)cc3C)CC2)c(C)c1.[Pd]\n",
       "1                                  Fc1ccccc1P(c1ccccc1)c1ccccc1.CC12COP(OC1)OC2.[Pd]\n",
       "10                                c1ccc(P(c2ccccc2)C2CCCCC2)cc1.CC12COP(OC1)OC2.[Pt]\n",
       "11                                  C1CCC(P(C2CCCCC2)C2CCCCC2)CC1.CP(C)c1ccccc1.[Ag]\n",
       "12                                               CC12COP(OC1)OC2.CN1[C]N(C)C=C1.[Au]\n",
       "13                                             CC(C)N1[C]N(C(C)C)C=C1.Cc1ccccn1.[Cu]\n",
       "14                                 Cc1ccccc1P(c1ccccc1C)c1ccccc1C.CP(C)c1ccccc1.[Ag]\n",
       "15                                                                Cc1cccnc1.C=O.[Cu]\n",
       "16  Fc1ccc(P(c2ccc(Cl)cc2)c2ccc(Cl)cc2)cc1.Cc1cccc(P(c2cccc(C)c2)c2cccc(C)c2)c1.[Ag]\n",
       "17   COc1ccc(P(c2ccc(OC)cc2)c2ccc(OC)cc2)cc1.CC(C)N1CC2(C)CN(C(C)C)P1N(C(C)C)C2.[Ag]\n",
       "18   CCc1ccccc1P(C1CCCCC1)C1CCCCC1.Cc1cc(C)c(N2[C]N(c3c(C)cc(C)cc3C)C=C2)c(C)c1.[Pt]\n",
       "19                                                       c1ccncc1.CN(C)c1ccncc1.[Cu]\n",
       "2                  c1ccc(P(c2ccccc2)c2ccccc2)cc1.Cc1ccccc1P(c1ccccc1C)c1ccccc1C.[Pt]\n",
       "3                   c1ccc(P(c2ccccc2)c2ccccc2)cc1.c1ccc(P(c2ccccc2)C2CCCCC2)cc1.[Pt]\n",
       "4                    c1ccc(P(c2ccccc2)c2ccccc2)cc1.Cc1ccccc1P(c1ccccc1)c1ccccc1.[Pt]\n",
       "5                                  Cc1ccccc1P(c1ccccc1C)c1ccccc1C.CP(C)c1ccccc1.[Cu]\n",
       "6                                Cc1cc(C)c(P(C2CCCCC2)C2CCCCC2)c(C)c1.Fc1ccncc1.[Au]\n",
       "7                                                              CCOP(OCC)OCC.C=O.[Pd]\n",
       "8                                             c1ccc(P(c2ccccc2)C2CCCCC2)cc1.C=O.[Pd]\n",
       "9                    c1ccc(P(c2ccccc2)c2ccccc2)cc1.Cc1ccccc1P(C1CCCCC1)C1CCCCC1.[Pt]"
      ]
     },
     "execution_count": 18,
     "metadata": {},
     "output_type": "execute_result"
    }
   ],
   "source": [
    "%openadd gen generate with CatalystGenerator data for 1 sample 20"
   ]
  },
  {
   "cell_type": "code",
   "execution_count": 19,
   "id": "1d2fd7a2-15e7-4425-87de-1a7f9d8cda55",
   "metadata": {
    "execution": {
     "iopub.execute_input": "2024-05-15T07:32:42.189610Z",
     "iopub.status.busy": "2024-05-15T07:32:42.189145Z",
     "iopub.status.idle": "2024-05-15T07:33:51.593389Z",
     "shell.execute_reply": "2024-05-15T07:33:51.592646Z",
     "shell.execute_reply.started": "2024-05-15T07:32:42.189584Z"
    },
    "tags": []
   },
   "outputs": [
    {
     "data": {
      "application/vnd.jupyter.widget-view+json": {
       "model_id": "a75e02f796de4452965f08619cf3649e",
       "version_major": 2,
       "version_minor": 0
      },
      "text/plain": [
       "Output()"
      ]
     },
     "metadata": {},
     "output_type": "display_data"
    },
    {
     "data": {
      "text/html": [
       "<div>\n",
       "<style scoped>\n",
       "    .dataframe tbody tr th:only-of-type {\n",
       "        vertical-align: middle;\n",
       "    }\n",
       "\n",
       "    .dataframe tbody tr th {\n",
       "        vertical-align: top;\n",
       "    }\n",
       "\n",
       "    .dataframe thead th {\n",
       "        text-align: right;\n",
       "    }\n",
       "</style>\n",
       "<table border=\"1\" class=\"dataframe\">\n",
       "  <thead>\n",
       "    <tr style=\"text-align: right;\">\n",
       "      <th></th>\n",
       "      <th>result</th>\n",
       "    </tr>\n",
       "  </thead>\n",
       "  <tbody>\n",
       "    <tr>\n",
       "      <th>0</th>\n",
       "      <td>ClC1=C(Cl)N[C]N1.C=O.[Au]</td>\n",
       "    </tr>\n",
       "    <tr>\n",
       "      <th>1</th>\n",
       "      <td>[Ni]</td>\n",
       "    </tr>\n",
       "    <tr>\n",
       "      <th>10</th>\n",
       "      <td>CC(C)N1[C]N(C(C)C)C=C1.CN(C)C.[Cu]</td>\n",
       "    </tr>\n",
       "    <tr>\n",
       "      <th>11</th>\n",
       "      <td>CC(C)N1[C]N(Cc2ccccc2)c2ccccc21.c1ccncc1.[Au]</td>\n",
       "    </tr>\n",
       "    <tr>\n",
       "      <th>12</th>\n",
       "      <td>CCOP(OCC)OCC.C=O.[Pd]</td>\n",
       "    </tr>\n",
       "    <tr>\n",
       "      <th>13</th>\n",
       "      <td>FP(F)F.CN(C)c1ccccc1.[Au]</td>\n",
       "    </tr>\n",
       "    <tr>\n",
       "      <th>14</th>\n",
       "      <td>Clc1ccc(P(c2ccc(Cl)cc2)c2ccc(Cl)cc2)cc1.CN(C)c1ccncc1.[Ag]</td>\n",
       "    </tr>\n",
       "    <tr>\n",
       "      <th>15</th>\n",
       "      <td>c1ccc(P(c2ccccc2)C2CCCCC2)cc1.Fc1ccccn1.[Pd]</td>\n",
       "    </tr>\n",
       "    <tr>\n",
       "      <th>16</th>\n",
       "      <td>c1ccc(P(c2ccccc2)c2ccccc2)cc1.[Cu]</td>\n",
       "    </tr>\n",
       "    <tr>\n",
       "      <th>17</th>\n",
       "      <td>[C]1N(C2CCCCC2)C=CN1C1CCCCC1.CN(C)C.[Pd]</td>\n",
       "    </tr>\n",
       "    <tr>\n",
       "      <th>18</th>\n",
       "      <td>CC(C)N1[C]N(C(C)C)C=C1.Cc1ccccn1.[Cu]</td>\n",
       "    </tr>\n",
       "    <tr>\n",
       "      <th>19</th>\n",
       "      <td>c1ccccc1P(c1ccccc1)c1ccccc1.CC12COP(OC1)OC2.[Pd]</td>\n",
       "    </tr>\n",
       "    <tr>\n",
       "      <th>2</th>\n",
       "      <td>Clc1ccc(P(c2ccc(Cl)cc2)c2ccc(Cl)cc2)cc1.Cc1ccc(P(c2ccc(C)cc2)c2ccc(C)cc2)cc1.[Ag]</td>\n",
       "    </tr>\n",
       "    <tr>\n",
       "      <th>3</th>\n",
       "      <td>Fc1cc(F)nc(F)c1.[Cu]</td>\n",
       "    </tr>\n",
       "    <tr>\n",
       "      <th>4</th>\n",
       "      <td>c1ccc(P(c2ccccc2)c2ccccc2)cc1.Cc1ccccc1P(c1ccccc1C)c1ccccc1C.[Pt]</td>\n",
       "    </tr>\n",
       "    <tr>\n",
       "      <th>5</th>\n",
       "      <td>c1ccc(P(c2ccccc2)C2CCCCC2)cc1.c1ccc(CP(c2ccccc2)c2ccccc2)cc1.[Cu]</td>\n",
       "    </tr>\n",
       "    <tr>\n",
       "      <th>6</th>\n",
       "      <td>c1ccc(P(c2ccccc2)c2ccccc2)cc1.Cc1ccccc1P(c1ccccc1)c1ccccc1.[Pt]</td>\n",
       "    </tr>\n",
       "    <tr>\n",
       "      <th>7</th>\n",
       "      <td>ClP(Cl)Cl.Fc1ccncc1.[Au]</td>\n",
       "    </tr>\n",
       "    <tr>\n",
       "      <th>8</th>\n",
       "      <td>ClP(Cl)Cl.CC(C)N1[C]N(Cc2ccccc2)c2ccccc21.[Ag]</td>\n",
       "    </tr>\n",
       "    <tr>\n",
       "      <th>9</th>\n",
       "      <td>CC(C)N1[C]N(C(C)C)C=C1.CCN1[C]N(CC)CC1.[Au]</td>\n",
       "    </tr>\n",
       "  </tbody>\n",
       "</table>\n",
       "</div>"
      ],
      "text/plain": [
       "                                                                               result\n",
       "0                                                           ClC1=C(Cl)N[C]N1.C=O.[Au]\n",
       "1                                                                                [Ni]\n",
       "10                                                 CC(C)N1[C]N(C(C)C)C=C1.CN(C)C.[Cu]\n",
       "11                                      CC(C)N1[C]N(Cc2ccccc2)c2ccccc21.c1ccncc1.[Au]\n",
       "12                                                              CCOP(OCC)OCC.C=O.[Pd]\n",
       "13                                                          FP(F)F.CN(C)c1ccccc1.[Au]\n",
       "14                         Clc1ccc(P(c2ccc(Cl)cc2)c2ccc(Cl)cc2)cc1.CN(C)c1ccncc1.[Ag]\n",
       "15                                       c1ccc(P(c2ccccc2)C2CCCCC2)cc1.Fc1ccccn1.[Pd]\n",
       "16                                                 c1ccc(P(c2ccccc2)c2ccccc2)cc1.[Cu]\n",
       "17                                           [C]1N(C2CCCCC2)C=CN1C1CCCCC1.CN(C)C.[Pd]\n",
       "18                                              CC(C)N1[C]N(C(C)C)C=C1.Cc1ccccn1.[Cu]\n",
       "19                                   c1ccccc1P(c1ccccc1)c1ccccc1.CC12COP(OC1)OC2.[Pd]\n",
       "2   Clc1ccc(P(c2ccc(Cl)cc2)c2ccc(Cl)cc2)cc1.Cc1ccc(P(c2ccc(C)cc2)c2ccc(C)cc2)cc1.[Ag]\n",
       "3                                                                Fc1cc(F)nc(F)c1.[Cu]\n",
       "4                   c1ccc(P(c2ccccc2)c2ccccc2)cc1.Cc1ccccc1P(c1ccccc1C)c1ccccc1C.[Pt]\n",
       "5                   c1ccc(P(c2ccccc2)C2CCCCC2)cc1.c1ccc(CP(c2ccccc2)c2ccccc2)cc1.[Cu]\n",
       "6                     c1ccc(P(c2ccccc2)c2ccccc2)cc1.Cc1ccccc1P(c1ccccc1)c1ccccc1.[Pt]\n",
       "7                                                            ClP(Cl)Cl.Fc1ccncc1.[Au]\n",
       "8                                      ClP(Cl)Cl.CC(C)N1[C]N(Cc2ccccc2)c2ccccc21.[Ag]\n",
       "9                                         CC(C)N1[C]N(C(C)C)C=C1.CCN1[C]N(CC)CC1.[Au]"
      ]
     },
     "execution_count": 19,
     "metadata": {},
     "output_type": "execute_result"
    }
   ],
   "source": [
    " %openadd gen generate with CatalystGenerator data for 10 sample 20 using(number_of_points=32 number_of_steps=50 generated_length=100)"
   ]
  },
  {
   "cell_type": "code",
   "execution_count": 20,
   "id": "2068199f-1d61-4d2e-aa59-12d9eac71479",
   "metadata": {
    "execution": {
     "iopub.execute_input": "2024-05-15T07:33:51.598484Z",
     "iopub.status.busy": "2024-05-15T07:33:51.598184Z",
     "iopub.status.idle": "2024-05-15T07:37:11.260457Z",
     "shell.execute_reply": "2024-05-15T07:37:11.259757Z",
     "shell.execute_reply.started": "2024-05-15T07:33:51.598457Z"
    },
    "tags": []
   },
   "outputs": [
    {
     "data": {
      "application/vnd.jupyter.widget-view+json": {
       "model_id": "e5e74647ddc04f18970cd5c0b5da58b1",
       "version_major": 2,
       "version_minor": 0
      },
      "text/plain": [
       "Output()"
      ]
     },
     "metadata": {},
     "output_type": "display_data"
    },
    {
     "data": {
      "text/html": [
       "<div>\n",
       "<style scoped>\n",
       "    .dataframe tbody tr th:only-of-type {\n",
       "        vertical-align: middle;\n",
       "    }\n",
       "\n",
       "    .dataframe tbody tr th {\n",
       "        vertical-align: top;\n",
       "    }\n",
       "\n",
       "    .dataframe thead th {\n",
       "        text-align: right;\n",
       "    }\n",
       "</style>\n",
       "<table border=\"1\" class=\"dataframe\">\n",
       "  <thead>\n",
       "    <tr style=\"text-align: right;\">\n",
       "      <th></th>\n",
       "      <th>result</th>\n",
       "    </tr>\n",
       "  </thead>\n",
       "  <tbody>\n",
       "    <tr>\n",
       "      <th>0</th>\n",
       "      <td>CN</td>\n",
       "    </tr>\n",
       "  </tbody>\n",
       "</table>\n",
       "</div>"
      ],
      "text/plain": [
       "  result\n",
       "0     CN"
      ]
     },
     "execution_count": 20,
     "metadata": {},
     "output_type": "execute_result"
    }
   ],
   "source": [
    "%openadd gen generate with SMILESLSTMHCGenerator data  for  \"{'isomer_scorer': {'target': 5.0, 'target_smile': 'NCCCCC'}}\"  \\\n",
    "sample 20 using( mols_to_sample=100 max_len=2 optimize_batch_size=3 n_epochs=2 random_start=True)"
   ]
  },
  {
   "cell_type": "code",
   "execution_count": 21,
   "id": "18ab1b8b-cb78-46ea-8aba-124ce31e807a",
   "metadata": {
    "execution": {
     "iopub.execute_input": "2024-05-15T07:37:11.261680Z",
     "iopub.status.busy": "2024-05-15T07:37:11.261234Z",
     "iopub.status.idle": "2024-05-15T07:37:17.248905Z",
     "shell.execute_reply": "2024-05-15T07:37:17.248177Z",
     "shell.execute_reply.started": "2024-05-15T07:37:11.261654Z"
    },
    "tags": []
   },
   "outputs": [
    {
     "data": {
      "application/vnd.jupyter.widget-view+json": {
       "model_id": "0388fb7495e54e3fa40dce07a2078bc9",
       "version_major": 2,
       "version_minor": 0
      },
      "text/plain": [
       "Output()"
      ]
     },
     "metadata": {},
     "output_type": "display_data"
    },
    {
     "data": {
      "text/markdown": [
       "<span style=\"color: #ccc\">Next up, you can run: </span>`result open`/`edit`/`copy`/`display`/`as dataframe`/`save [as '<filename.csv>']` <br> \n"
      ],
      "text/plain": [
       "<IPython.core.display.Markdown object>"
      ]
     },
     "metadata": {},
     "output_type": "display_data"
    },
    {
     "data": {
      "text/html": [
       "<style type=\"text/css\">\n",
       "</style>\n",
       "<table id=\"T_38b06\">\n",
       "  <thead>\n",
       "    <tr>\n",
       "      <th id=\"T_38b06_level0_col0\" class=\"col_heading level0 col0\" >result</th>\n",
       "    </tr>\n",
       "  </thead>\n",
       "  <tbody>\n",
       "    <tr>\n",
       "      <td id=\"T_38b06_row0_col0\" class=\"data row0 col0\" >samples_per_protein number</td>\n",
       "    </tr>\n",
       "    <tr>\n",
       "      <td id=\"T_38b06_row1_col0\" class=\"data row1 col0\" >protein_embedding_encoder_params parameter</td>\n",
       "    </tr>\n",
       "    <tr>\n",
       "      <td id=\"T_38b06_row2_col0\" class=\"data row2 col0\" >mprotein_embedding_encoder protein</td>\n",
       "    </tr>\n",
       "    <tr>\n",
       "      <td id=\"T_38b06_row3_col0\" class=\"data row3 col0\" >protein_embedding_encoder_params</td>\n",
       "    </tr>\n",
       "    <tr>\n",
       "      <td id=\"T_38b06_row4_col0\" class=\"data row4 col0\" >samples_per_protein</td>\n",
       "    </tr>\n",
       "    <tr>\n",
       "      <td id=\"T_38b06_row5_col0\" class=\"data row5 col0\" >greater protein_embedding_encoder_params</td>\n",
       "    </tr>\n",
       "    <tr>\n",
       "      <td id=\"T_38b06_row6_col0\" class=\"data row6 col0\" >protein embedding</td>\n",
       "    </tr>\n",
       "    <tr>\n",
       "      <td id=\"T_38b06_row7_col0\" class=\"data row7 col0\" >parameter protein</td>\n",
       "    </tr>\n",
       "    <tr>\n",
       "      <td id=\"T_38b06_row8_col0\" class=\"data row8 col0\" >sampled protein</td>\n",
       "    </tr>\n",
       "    <tr>\n",
       "      <td id=\"T_38b06_row9_col0\" class=\"data row9 col0\" >encoder mprotein_embedding_encoder</td>\n",
       "    </tr>\n",
       "  </tbody>\n",
       "</table>\n"
      ],
      "text/plain": [
       "<pandas.io.formats.style.Styler at 0x160bd4e50>"
      ]
     },
     "execution_count": 21,
     "metadata": {},
     "output_type": "execute_result"
    }
   ],
   "source": [
    "%openad gen generate with KeyBERTGenerator data for 'samples_per_protein: number of points sampled per protein.It has to be greater than 1. protein_embedding_encoder_params: parameter for the protein embedding encoder.mprotein_embedding_encoder: protein embedding encoder.'"
   ]
  },
  {
   "cell_type": "code",
   "execution_count": null,
   "id": "ecb14fc8-cb9b-47b9-a08f-28ef52267f70",
   "metadata": {},
   "outputs": [],
   "source": []
  },
  {
   "cell_type": "code",
   "execution_count": null,
   "id": "a8006d71-9f60-4114-a9a1-8309b93a9fc4",
   "metadata": {},
   "outputs": [],
   "source": []
  }
 ],
 "metadata": {
  "kernelspec": {
   "display_name": "ad-new",
   "language": "python",
   "name": "ad-new"
  },
  "language_info": {
   "codemirror_mode": {
    "name": "ipython",
    "version": 3
   },
   "file_extension": ".py",
   "mimetype": "text/x-python",
   "name": "python",
   "nbconvert_exporter": "python",
   "pygments_lexer": "ipython3",
   "version": "3.11.7"
  }
 },
 "nbformat": 4,
 "nbformat_minor": 5
}
