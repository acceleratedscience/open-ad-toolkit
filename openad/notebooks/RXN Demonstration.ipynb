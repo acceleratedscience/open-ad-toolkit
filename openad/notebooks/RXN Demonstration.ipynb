{
 "cells": [
  {
   "cell_type": "markdown",
   "id": "8feab26e-1785-402f-83b0-9c3c5a524fc3",
   "metadata": {},
   "source": [
    "# RXN and Common Client"
   ]
  },
  {
   "cell_type": "markdown",
   "id": "1b3f0d10-474d-42cd-a31d-b6889eb468ce",
   "metadata": {},
   "source": [
    "![](./media/blog_rxn_automatically_cleaning_1920x1060_11b17a1b75.gif)\n",
    "<a id=\"top\">"
   ]
  },
  {
   "cell_type": "markdown",
   "id": "ac5b47d3",
   "metadata": {},
   "source": [
    "First lets reset our workspace back to the 'DEFAULT' workspace."
   ]
  },
  {
   "cell_type": "code",
   "execution_count": null,
   "id": "dd832ca1-f667-4f54-9a0c-88bb3c0b9799",
   "metadata": {},
   "outputs": [],
   "source": [
    "%openad set workspace default"
   ]
  },
  {
   "cell_type": "markdown",
   "id": "3ffa8031",
   "metadata": {},
   "source": [
    "Now lets add the RXN Toolkit."
   ]
  },
  {
   "cell_type": "code",
   "execution_count": null,
   "id": "24b927b0-d7f3-4174-9f2c-7888452a5788",
   "metadata": {},
   "outputs": [],
   "source": [
    "%openad add toolkit rxn"
   ]
  },
  {
   "cell_type": "markdown",
   "id": "f3a66ee5",
   "metadata": {},
   "source": [
    "Lets have a look at what commands are available for RXN by running the following help command `?` before the toolkit name."
   ]
  },
  {
   "cell_type": "code",
   "execution_count": null,
   "id": "b089a7c4-be38-4447-9e05-335e8f4d08e6",
   "metadata": {},
   "outputs": [],
   "source": [
    "%openad ? rxn"
   ]
  },
  {
   "cell_type": "markdown",
   "id": "1bd04e0f",
   "metadata": {},
   "source": [
    "Now lets set the functional context of Openad to the RXN toolkit."
   ]
  },
  {
   "cell_type": "code",
   "execution_count": null,
   "id": "54ebf6bc-930f-4182-aa93-c18f77297adc",
   "metadata": {},
   "outputs": [],
   "source": [
    "%openad set context rxn"
   ]
  },
  {
   "cell_type": "markdown",
   "id": "f91e1272",
   "metadata": {},
   "source": [
    "Now if you have a compatible large language model api, run the following to ask the documentation about how to use Openad with certain commands or tasks."
   ]
  },
  {
   "cell_type": "code",
   "execution_count": null,
   "id": "32d57cbe-36a3-4472-bbb4-4bb26a592c2c",
   "metadata": {},
   "outputs": [],
   "source": [
    "%openad tell me how to predict a chemical reaction in batch using rxn"
   ]
  },
  {
   "cell_type": "code",
   "execution_count": null,
   "id": "a5e69a41-fd2a-466a-bf60-a8bcaf0dd7e7",
   "metadata": {},
   "outputs": [],
   "source": [
    "%openad tell me the syntax for the command predict retrosynthesis with Options"
   ]
  },
  {
   "cell_type": "markdown",
   "id": "16d88609-2f5f-4617-abec-ca0c5db48eb8",
   "metadata": {},
   "source": [
    "## Predict RetroSynthesis"
   ]
  },
  {
   "cell_type": "markdown",
   "id": "b5a6cbd7",
   "metadata": {},
   "source": [
    "The predict retrosynthesis command enables you to perform retrosynthesis on a specified molecule (in SMILES string format) providing paths for reactions to create the molecule given a set of parameters specified. <br><br>\n",
    "`PREDICT RETROSYNTHESIS '<product_SMILES_string>' [USING ( option=<valid_input> option2=<valid_input> )]` <BR><br>\n",
    "The `USING` clause enables the submission of different options including the maximum number of steps for resulting reactions, the ai model to use in the analysis as well as other tuning options.<br><br>\n",
    "Run the help command below to find out more details."
   ]
  },
  {
   "cell_type": "code",
   "execution_count": null,
   "id": "1350d863-b78f-43d6-8856-ce38879495eb",
   "metadata": {},
   "outputs": [],
   "source": [
    "%openad predict retrosynthesis ?"
   ]
  },
  {
   "cell_type": "markdown",
   "id": "d2fc79a5",
   "metadata": {},
   "source": [
    "Now lets run the the command for the molecule givent below. You will notice we are using variable substitution to provide the command with the SMILES molecule."
   ]
  },
  {
   "cell_type": "code",
   "execution_count": null,
   "id": "21e9e8bc-57ae-4771-8df2-0194f11f7af4",
   "metadata": {},
   "outputs": [],
   "source": [
    "smiles_Molecule='CC(C)(c1ccccn1)C(CC(=O)O)Nc1nc(-c2c[nH]c3ncc(Cl)cc23)c(C#N)cc1F'\n",
    "%openad predict retrosynthesis '{smiles_Molecule}' using( max_steps=5 )"
   ]
  },
  {
   "cell_type": "markdown",
   "id": "f54a23c6-af48-4ae0-b047-107f432882d7",
   "metadata": {},
   "source": [
    "## RXN Administrative Functions"
   ]
  },
  {
   "cell_type": "markdown",
   "id": "564489ea",
   "metadata": {},
   "source": [
    "Different commands allow the specification of a specific AI model for use in the inference begind the function, this will be via the `ai_model` option or parameter. The list of avsilable RXN models can be display using thre `list rxn models` command."
   ]
  },
  {
   "cell_type": "code",
   "execution_count": null,
   "id": "9726ad22-5fc7-4dfe-8f9c-57f17d2b47ae",
   "metadata": {},
   "outputs": [],
   "source": [
    "%openad list rxn models"
   ]
  },
  {
   "cell_type": "markdown",
   "id": "95e3d699-abff-4d79-adde-ebfd94c6f420",
   "metadata": {},
   "source": [
    "## Interpreting  Recipes"
   ]
  },
  {
   "cell_type": "markdown",
   "id": "961c4f1c",
   "metadata": {},
   "source": [
    "The `Interpret Recipe` command allows us to take a description of the process for performing a chemical reaction and interpet this into a set of defined steps as demonstrated below."
   ]
  },
  {
   "cell_type": "code",
   "execution_count": null,
   "id": "87dffbe7-e832-4205-abdc-dabb7b987805",
   "metadata": {},
   "outputs": [],
   "source": [
    "%openad interpret recipe 'To a stirred solution of 7-(difluoromethylsulfonyl)-4-fluoro-indan-1-one (110 mg, 0.42 mmol)\\\n",
    "in methanol (4 mL) was added sodium borohydride \\\n",
    "(24 mg, 0.62 mmol). The reaction mixture was stirred at ambient temperature for 1 hour.'"
   ]
  },
  {
   "cell_type": "markdown",
   "id": "d0802fa5-10c5-4917-8666-98e2f051ab5b",
   "metadata": {},
   "source": [
    "## Working with Predictions and Batch"
   ]
  },
  {
   "cell_type": "markdown",
   "id": "dd026f02-2589-478b-b57b-f87ccf4352e5",
   "metadata": {},
   "source": [
    "## Predicting Reaction Outcomes"
   ]
  },
  {
   "cell_type": "markdown",
   "id": "3729eb43",
   "metadata": {},
   "source": [
    "If you have the Large Language Model setting configured run the following command to get a description of how to predict reactions"
   ]
  },
  {
   "cell_type": "code",
   "execution_count": null,
   "id": "89e1192e-01da-4023-98b9-84800db337b7",
   "metadata": {},
   "outputs": [],
   "source": [
    "%openad Tell me about predicting Reactions and the available commands for both single and batch predictions"
   ]
  },
  {
   "cell_type": "markdown",
   "id": "06437709-ed2c-45a1-bdd8-8152e343495f",
   "metadata": {},
   "source": [
    "### Single Reaction Predictions"
   ]
  },
  {
   "cell_type": "markdown",
   "id": "a7205a91",
   "metadata": {},
   "source": [
    "The following command allows you to predict a reaction for a single molecule and view the highest confidence option the model comes up with.<br>\n",
    "by using the `USE_SAVED` clause you can tell the command to look for the results in a cache to see if the same command had been run previously and us that result instead of requesting it off the service.<br>\n",
    "A smiles reactions is defined by specifying multiple SMILES molecules delimited by the character `.` e.g. `Cl.CCC(=O)NCCC.O.Br` <br><br>\n",
    "`PREDICT REACTION '<reaction-smiles-string>' [USING ( ai_model='< valid_ai_model>'] [USE_SAVED]`"
   ]
  },
  {
   "cell_type": "code",
   "execution_count": null,
   "id": "921fff0f-796b-4923-a1b6-d3ddb0298a34",
   "metadata": {},
   "outputs": [],
   "source": [
    "%openad  predict reaction 'Cl.CCC(=O)NCCC.O'"
   ]
  },
  {
   "cell_type": "markdown",
   "id": "67824195",
   "metadata": {},
   "source": [
    "Lets run an example for a list of 2 reactions for a standard `predict reaction in batch` command."
   ]
  },
  {
   "cell_type": "markdown",
   "id": "94175849-50e8-4d5d-bc97-9545d38e7116",
   "metadata": {},
   "source": [
    "### Batch Predictions"
   ]
  },
  {
   "cell_type": "markdown",
   "id": "2ce025d3",
   "metadata": {},
   "source": [
    "Reaction predictions can also be run in batch. Both for straight predictions as well as providing the `topn` predictions per reaction.<br><br>\n",
    "The list of molecules can be provided in a list, a file or data frame. For files and data frames can be used to specify the list of reactions to process, the column with 'reactions' as it's header will only be read from the data frame or header.<br>\n",
    "\n",
    "`PREDICT REACTION IN BATCH FROM [DATAFRAME < dataframe_name > ] | [FILE '<file_name.csv>'] | [LIST ['#smiles','#smiles']] [USING ( ai_model='<existing_model>']) [USE_SAVED]`\n"
   ]
  },
  {
   "cell_type": "code",
   "execution_count": null,
   "id": "28425cd2-289a-41cf-9017-4e9a6e48177b",
   "metadata": {},
   "outputs": [],
   "source": [
    "%openad predict reaction in batch  from list ['BrBr.c1ccc2cc3ccccc3cc2c1CCO' ,'Cl.CCC(=O)NCCC.O'] "
   ]
  },
  {
   "cell_type": "markdown",
   "id": "6f7d15c4",
   "metadata": {},
   "source": [
    "Now lets run a topn version of the command `predict reaction topn in batch` "
   ]
  },
  {
   "cell_type": "code",
   "execution_count": null,
   "id": "c8c590e9-360a-48f0-8a30-454196eac7fe",
   "metadata": {},
   "outputs": [],
   "source": [
    "%openad predict reaction topn in batch  from list ['BrBr.c1ccc2cc3ccccc3cc2c1CCO' ,'BrBr.c1ccc2cc3ccccc3cc2c1','Cl.CCC(=O)NCCC.O'] "
   ]
  },
  {
   "cell_type": "markdown",
   "id": "76c2a06c-d69e-4758-a66c-069e9513b760",
   "metadata": {},
   "source": [
    "### Using the [use_saved] clause"
   ]
  },
  {
   "cell_type": "markdown",
   "id": "2c60e7fb",
   "metadata": {},
   "source": [
    "Below you will run the `predict reaction topn in batch` with the `use_saved` clause, you will see the command will display the previously cached results first then process the generated results."
   ]
  },
  {
   "cell_type": "code",
   "execution_count": null,
   "id": "cf813e5f-24b2-4757-9d31-1d8756b7b994",
   "metadata": {},
   "outputs": [],
   "source": [
    "%openad predict reaction in batch  from list ['BrBr.c1ccc2cc3ccccc3cc2c1CCO' ,'BrBr.c1ccc2cc3ccccc3cc2c1','Cl.CCC(=O)NCCC.O'] use_saved"
   ]
  }
 ],
 "metadata": {
  "kernelspec": {
   "display_name": "ad-kernel",
   "language": "python",
   "name": "ad-kernel"
  },
  "language_info": {
   "codemirror_mode": {
    "name": "ipython",
    "version": 3
   },
   "file_extension": ".py",
   "mimetype": "text/x-python",
   "name": "python",
   "nbconvert_exporter": "python",
   "pygments_lexer": "ipython3",
   "version": "3.10.10"
  }
 },
 "nbformat": 4,
 "nbformat_minor": 5
}
