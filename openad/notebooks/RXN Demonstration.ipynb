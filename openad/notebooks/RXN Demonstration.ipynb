{
 "cells": [
  {
   "cell_type": "markdown",
   "id": "8feab26e-1785-402f-83b0-9c3c5a524fc3",
   "metadata": {},
   "source": [
    "# RXN and Common Client"
   ]
  },
  {
   "cell_type": "markdown",
   "id": "1b3f0d10-474d-42cd-a31d-b6889eb468ce",
   "metadata": {},
   "source": [
    "![](./media/blog_rxn_automatically_cleaning_1920x1060_11b17a1b75.gif)\n",
    "<a id=\"top\">"
   ]
  },
  {
   "cell_type": "markdown",
   "id": "15d60243-2f72-4050-8663-ec79cbdf3b1f",
   "metadata": {},
   "source": [
    "<br><br>\n",
    "\n",
    "## 1. Getting Started\n",
    "<hr>"
   ]
  },
  {
   "cell_type": "markdown",
   "id": "2b99ba0e-b0c6-4322-9b94-6c027fe8ab1c",
   "metadata": {
    "tags": []
   },
   "source": [
    "<br>\n",
    "\n",
    "### Setting up Magic Commands\n",
    "The Magic command `%run` is only required if you did not execute `init_magic` from the command line."
   ]
  },
  {
   "cell_type": "code",
   "execution_count": null,
   "id": "730b293e-b55e-4a5b-a24c-6d099dba163b",
   "metadata": {
    "tags": []
   },
   "outputs": [],
   "source": [
    "# %run openad_magic.ipynb # Not required if you have run init_magic"
   ]
  },
  {
   "cell_type": "markdown",
   "id": "0d353893-413b-4b88-8329-9d6ac0075cf5",
   "metadata": {},
   "source": [
    "<br>\n",
    "\n",
    "### Setting up the AI assistant \n",
    "If you'd like to be assisted by the AI assistent, you'll need to create your own account with OpenAI for the `tell me` command to work. Please refer to the [documentation](https://acceleratedscience.github.io/openad-docs/installation.html#ai-assistant) for instructions. Support for watsonx is coming soon."
   ]
  },
  {
   "cell_type": "code",
   "execution_count": null,
   "id": "a5e69a41-fd2a-466a-bf60-a8bcaf0dd7e7",
   "metadata": {},
   "outputs": [],
   "source": [
    "%openad tell me the syntax for the command predict retrosynthesis with options"
   ]
  },
  {
   "cell_type": "code",
   "execution_count": null,
   "id": "32d57cbe-36a3-4472-bbb4-4bb26a592c2c",
   "metadata": {},
   "outputs": [],
   "source": [
    "%openad tell me how to predict a chemical reaction in batch using rxn"
   ]
  },
  {
   "cell_type": "markdown",
   "id": "ac5b47d3",
   "metadata": {},
   "source": [
    "<br>\n",
    "\n",
    "### Installing the toolkit\n",
    "If this is your first time using the RXN toolkit, you will first have to install it. By installing, the context will be set automatically."
   ]
  },
  {
   "cell_type": "code",
   "execution_count": null,
   "id": "dd832ca1-f667-4f54-9a0c-88bb3c0b9799",
   "metadata": {
    "tags": []
   },
   "outputs": [],
   "source": [
    "# %openad clear sessions\n",
    "%openad add toolkit RXN"
   ]
  },
  {
   "cell_type": "markdown",
   "id": "3ffa8031",
   "metadata": {},
   "source": [
    "<br>\n",
    "\n",
    "### Updating the toolkit\n",
    "If you've installed the RXN toolkit before, let's update it to ensure you're running the latest version."
   ]
  },
  {
   "cell_type": "code",
   "execution_count": null,
   "id": "24b927b0-d7f3-4174-9f2c-7888452a5788",
   "metadata": {
    "tags": []
   },
   "outputs": [],
   "source": [
    "# %openad clear sessions\n",
    "%openad update toolkit rxn"
   ]
  },
  {
   "cell_type": "markdown",
   "id": "c9c52f4c-dc16-4bbd-bc3e-2d9b7509897e",
   "metadata": {},
   "source": [
    "Now let's set the context to RXN."
   ]
  },
  {
   "cell_type": "code",
   "execution_count": null,
   "id": "a48fbe1d-1871-4d7e-a5e4-52c459f2dafd",
   "metadata": {
    "tags": []
   },
   "outputs": [],
   "source": [
    "%openad set context RXN"
   ]
  },
  {
   "cell_type": "markdown",
   "id": "24e96969-1488-4cfa-a838-311e66cc495c",
   "metadata": {},
   "source": [
    "If you ever want to check what context or workspace you are in, you can run the command below."
   ]
  },
  {
   "cell_type": "code",
   "execution_count": null,
   "id": "1bef0507-f256-429f-9ac3-d0112438b825",
   "metadata": {
    "tags": []
   },
   "outputs": [],
   "source": [
    "%openad get status"
   ]
  },
  {
   "cell_type": "markdown",
   "id": "f3a66ee5",
   "metadata": {},
   "source": [
    "<br>\n",
    "\n",
    "### Available RXN commands\n",
    "Let's list all available commands for this toolkit."
   ]
  },
  {
   "cell_type": "code",
   "execution_count": null,
   "id": "b089a7c4-be38-4447-9e05-335e8f4d08e6",
   "metadata": {
    "tags": []
   },
   "outputs": [],
   "source": [
    "%openad ? rxn"
   ]
  },
  {
   "cell_type": "markdown",
   "id": "f54a23c6-af48-4ae0-b047-107f432882d7",
   "metadata": {},
   "source": [
    "<br><br>\n",
    "\n",
    "## 2. Available AI Models\n",
    "<hr>"
   ]
  },
  {
   "cell_type": "markdown",
   "id": "564489ea",
   "metadata": {},
   "source": [
    "A number of commands have an `ai_model` parameter which allows you to specify which AI model to use in the inference behind the function. The list of available RXN models can be display using thre `list rxn models` command."
   ]
  },
  {
   "cell_type": "code",
   "execution_count": null,
   "id": "9726ad22-5fc7-4dfe-8f9c-57f17d2b47ae",
   "metadata": {
    "tags": []
   },
   "outputs": [],
   "source": [
    "%openad list rxn models"
   ]
  },
  {
   "cell_type": "markdown",
   "id": "16d88609-2f5f-4617-abec-ca0c5db48eb8",
   "metadata": {},
   "source": [
    "<br><br>\n",
    "\n",
    "## 3. Predicting Retrosynthesis\n",
    "<hr>\n",
    "<pre style=\"color:#eec;background:#2f2d3a;padding:20px;margin:0;border-radius:5px\">predict retrosynthesis '&lt;smiles&gt;' [ using (option1=&lt;value&gt; option2=&lt;value&gt;) ]</pre>"
   ]
  },
  {
   "cell_type": "markdown",
   "id": "b5a6cbd7",
   "metadata": {},
   "source": [
    "This command enables you to perform retrosynthesis on a specified molecule using a SMILES input, providing paths for reactions to create the desired molecule within a set of optional constraints.\n",
    "\n",
    "The `using` clause enables the submission of different options, including the maximum number of steps for resulting reactions, which AI model to use in the analysis as well as a number of other tuning options."
   ]
  },
  {
   "cell_type": "code",
   "execution_count": null,
   "id": "1350d863-b78f-43d6-8856-ce38879495eb",
   "metadata": {
    "tags": []
   },
   "outputs": [],
   "source": [
    "%openad predict retrosynthesis ?"
   ]
  },
  {
   "cell_type": "markdown",
   "id": "d2fc79a5",
   "metadata": {},
   "source": [
    "In the example below, you will notice we are using variable substitution to provide the command with the SMILES molecule."
   ]
  },
  {
   "cell_type": "code",
   "execution_count": null,
   "id": "21e9e8bc-57ae-4771-8df2-0194f11f7af4",
   "metadata": {
    "scrolled": true,
    "tags": []
   },
   "outputs": [],
   "source": [
    "smiles_molecule='CC(C)(c1ccccn1)C(CC(=O)O)Nc1nc(-c2c[nH]c3ncc(Cl)cc23)c(C#N)cc1F'\n",
    "%openad predict retrosynthesis '{smiles_molecule}' using(max_steps=5)"
   ]
  },
  {
   "cell_type": "markdown",
   "id": "95e3d699-abff-4d79-adde-ebfd94c6f420",
   "metadata": {},
   "source": [
    "<br><br>\n",
    "\n",
    "## 4. Interpreting Recipes\n",
    "<hr>\n",
    "<pre style=\"color:#eec;background:#2f2d3a;padding:20px;margin:0;border-radius:5px\">interpret recipe '&lt;recipe_paragraph&gt;' | '&lt;txt_filename&gt;'</pre>"
   ]
  },
  {
   "cell_type": "markdown",
   "id": "961c4f1c",
   "metadata": {},
   "source": [
    "This command is able to interpret a textual description of a process for performing a chemical reaction and spit it back as a set of defined steps."
   ]
  },
  {
   "cell_type": "code",
   "execution_count": null,
   "id": "87dffbe7-e832-4205-abdc-dabb7b987805",
   "metadata": {
    "tags": []
   },
   "outputs": [],
   "source": [
    "%openad interpret recipe 'To a stirred solution of 7-(difluoromethylsulfonyl)-4-fluoro-indan-1-one \\\n",
    "(110 mg, 0.42 mmol) in methanol (4 mL) was added sodium borohydride (24 mg, 0.62 mmol). \\\n",
    "The reaction mixture was stirred at ambient temperature for 1 hour.'"
   ]
  },
  {
   "cell_type": "markdown",
   "id": "d0802fa5-10c5-4917-8666-98e2f051ab5b",
   "metadata": {},
   "source": [
    "<br><br>\n",
    "\n",
    "## 5. Working with Predictions and Batch\n",
    "<hr>"
   ]
  },
  {
   "cell_type": "markdown",
   "id": "dd026f02-2589-478b-b57b-f87ccf4352e5",
   "metadata": {},
   "source": [
    "<br>\n",
    "\n",
    "### AI Helper"
   ]
  },
  {
   "cell_type": "markdown",
   "id": "3729eb43",
   "metadata": {},
   "source": [
    "If you have the LLM setting configured (see above), you can ask it to guide you through the possibilities of predicting reactions."
   ]
  },
  {
   "cell_type": "code",
   "execution_count": null,
   "id": "89e1192e-01da-4023-98b9-84800db337b7",
   "metadata": {},
   "outputs": [],
   "source": [
    "%openad tell me about predicting reactions and the available commands for both single and batch predictions"
   ]
  },
  {
   "cell_type": "markdown",
   "id": "06437709-ed2c-45a1-bdd8-8152e343495f",
   "metadata": {},
   "source": [
    "<br>\n",
    "\n",
    "### Single reaction predictions\n",
    "<pre style=\"color:#eec;background:#2f2d3a;padding:20px;margin:0;border-radius:5px\">predict reaction '&lt;smiles&gt;.&lt;smiles&gt;' [ using (ai_model='&lt;ai_model&gt;') ] [ use_saved ]</pre>"
   ]
  },
  {
   "cell_type": "markdown",
   "id": "a7205a91",
   "metadata": {},
   "source": [
    "This command allows you to predict a reaction for a single molecule and view the highest confidence option the model comes up with.\n",
    "\n",
    "By using the `use_saved` clause, you can tell the command to look for the results in a cache to see if the same command had been run previously and use that result instead of requesting it again from the service."
   ]
  },
  {
   "cell_type": "code",
   "execution_count": null,
   "id": "8b1be04b-c118-4011-9b66-5355db55961d",
   "metadata": {
    "tags": []
   },
   "outputs": [],
   "source": [
    "%openad  predict reaction ' ?"
   ]
  },
  {
   "cell_type": "markdown",
   "id": "a16a0ea8-68c7-4f2b-b572-2f9b2fe62db8",
   "metadata": {},
   "source": [
    "For our example we'll predict the reaction of chlorine, N-propylpropanamide and oxygen."
   ]
  },
  {
   "cell_type": "code",
   "execution_count": null,
   "id": "921fff0f-796b-4923-a1b6-d3ddb0298a34",
   "metadata": {
    "tags": []
   },
   "outputs": [],
   "source": [
    "%openad predict reaction 'Cl.CCC(=O)NCCC.O'"
   ]
  },
  {
   "cell_type": "markdown",
   "id": "94175849-50e8-4d5d-bc97-9545d38e7116",
   "metadata": {},
   "source": [
    "<br>\n",
    "\n",
    "### Batch predictions\n",
    "<pre style=\"color:#eec;background:#2f2d3a;padding:20px;margin:0;border-radius:5px\">predict reaction in batch from dataframe &lt;dataframe_name&gt; | file '&lt;filename.csv&gt;' | list ['&lt;smiles&gt;.&lt;smiles&gt;','&lt;smiles&gt;.&lt;smiles&gt;'] [ using (ai_model='&lt;ai_model&gt;') ] [ use_saved ]</pre>\n"
   ]
  },
  {
   "cell_type": "markdown",
   "id": "2ce025d3",
   "metadata": {},
   "source": [
    "Reaction predictions can also be run in batch.\n",
    "\n",
    "The list of molecules can be provided in a list, a CSV file or dataframe. In the case of CSV files and dataframes, the column with 'reactions' as its header will be used as input."
   ]
  },
  {
   "cell_type": "code",
   "execution_count": null,
   "id": "dbfce7df-7437-42d8-a0a8-2872cb268d95",
   "metadata": {
    "tags": []
   },
   "outputs": [],
   "source": [
    "%openad predict reaction in batch ?"
   ]
  },
  {
   "cell_type": "code",
   "execution_count": null,
   "id": "28425cd2-289a-41cf-9017-4e9a6e48177b",
   "metadata": {
    "tags": []
   },
   "outputs": [],
   "source": [
    "%openad predict reaction in batch from list ['BrBr.c1ccc2cc3ccccc3cc2c1CCO' ,'Cl.CCC(=O)NCCC.O'] "
   ]
  },
  {
   "cell_type": "markdown",
   "id": "76c2a06c-d69e-4758-a66c-069e9513b760",
   "metadata": {},
   "source": [
    "<br>\n",
    "\n",
    "#### Using the `use_saved` clause\n",
    "When running the command below with the `use_saved` clause, you will notice the previously cached result will display first before the other result is generated."
   ]
  },
  {
   "cell_type": "code",
   "execution_count": null,
   "id": "cf813e5f-24b2-4757-9d31-1d8756b7b994",
   "metadata": {
    "tags": []
   },
   "outputs": [],
   "source": [
    "%openad predict reaction in batch from list ['BrBr.c1ccc2cc3ccccc3cc2c1CCO' ,'BrBr.c1ccc2cc3ccccc3cc2c1','Cl.CCC(=O)NCCC.O'] use_saved"
   ]
  },
  {
   "cell_type": "markdown",
   "id": "6f7d15c4",
   "metadata": {},
   "source": [
    "<br>\n",
    "\n",
    "### Batch predictions with multiple results per reactions\n",
    "\n",
    "<pre style=\"color:#eec;background:#2f2d3a;padding:20px;margin:0;border-radius:5px\">predict reaction topn in batch from dataframe &lt;dataframe_name&gt; | file '&lt;filename.csv&gt;' | list ['&lt;smiles&gt;.&lt;smiles&gt;','&lt;smiles&gt;.&lt;smiles&gt;'] [ using (topn=&lt;integer&gt; ai_model='&lt;ai_model&gt;') ] [ use_saved ]</pre>"
   ]
  },
  {
   "cell_type": "markdown",
   "id": "12c8540f-0c3b-42c9-86ca-6e406e2fc655",
   "metadata": {},
   "source": [
    "This command is closely related to the previous command. The difference here is that per reaction, instead of a single result we will return a list of the top results."
   ]
  },
  {
   "cell_type": "code",
   "execution_count": null,
   "id": "1cb1750d-4afe-4905-82bf-0fe5fcff7f0f",
   "metadata": {
    "tags": []
   },
   "outputs": [],
   "source": [
    "%openad predict reaction topn ?"
   ]
  },
  {
   "cell_type": "code",
   "execution_count": null,
   "id": "c8c590e9-360a-48f0-8a30-454196eac7fe",
   "metadata": {
    "tags": []
   },
   "outputs": [],
   "source": [
    "%openad predict reaction topn in batch from list ['BrBr.c1ccc2cc3ccccc3cc2c1CCO' ,'BrBr.c1ccc2cc3ccccc3cc2c1','Cl.CCC(=O)NCCC.O'] "
   ]
  }
 ],
 "metadata": {
  "kernelspec": {
   "display_name": "ad-venv",
   "language": "python",
   "name": "ad-venv"
  },
  "language_info": {
   "codemirror_mode": {
    "name": "ipython",
    "version": 3
   },
   "file_extension": ".py",
   "mimetype": "text/x-python",
   "name": "python",
   "nbconvert_exporter": "python",
   "pygments_lexer": "ipython3",
   "version": "3.11.3"
  }
 },
 "nbformat": 4,
 "nbformat_minor": 5
}
