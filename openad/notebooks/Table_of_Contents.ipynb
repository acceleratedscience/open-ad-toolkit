{
 "cells": [
  {
   "cell_type": "code",
   "execution_count": 1,
   "metadata": {
    "execution": {
     "iopub.execute_input": "2024-07-24T21:44:57.949478Z",
     "iopub.status.busy": "2024-07-24T21:44:57.949205Z",
     "iopub.status.idle": "2024-07-24T21:44:57.958874Z",
     "shell.execute_reply": "2024-07-24T21:44:57.958170Z",
     "shell.execute_reply.started": "2024-07-24T21:44:57.949451Z"
    },
    "jupyter": {
     "source_hidden": true
    },
    "tags": []
   },
   "outputs": [
    {
     "data": {
      "text/html": [
       "<style>\n",
       "@import url('https://fonts.googleapis.com/css2?family=IBM+Plex+Sans:wght@300;400;600&display=swap');\n",
       "\n",
       "body {\n",
       "    --ibm-blue: #0f62fe;\n",
       "    --dark-blue: #2756ad;\n",
       "}\n",
       "\n",
       "h1,h2,h3,h4,p {\n",
       "    font-family: \"IBM Plex Sans\";\n",
       "    color: rgba(0,0,0,.7);\n",
       "}\n",
       "h1,h2 {\n",
       "    margin: 60px 0 10px 0 !important;\n",
       "}\n",
       "h3,h4 {\n",
       "    margin: 40px 0 10px 0 !important;\n",
       "}\n",
       "h1 {\n",
       "    font-size: 2.5em !important;\n",
       "}\n",
       "h2 {\n",
       "    font-size: 2em !important;\n",
       "    color: var(--dark-blue);\n",
       "}\n",
       "h3 {\n",
       "}\n",
       "p, ul, ol {\n",
       "    max-width: 1400px;\n",
       "}\n",
       "\n",
       "\n",
       ".banner {\n",
       "    font-family: \"IBM Plex Sans\";\n",
       "    width: 100%;\n",
       "    height: 140px;\n",
       "    color: white;\n",
       "    font-size: 30px;\n",
       "    line-height: 30px;\n",
       "    text-align: right;\n",
       "    padding: 20px;\n",
       "    position: relative;\n",
       "    z-index: 1;\n",
       "    box-sizing: border-box;\n",
       "    display: flex;\n",
       "    flex-direction: column-reverse;\n",
       "    font-weight: 300;\n",
       "}\n",
       ".banner::after {\n",
       "    content: '';\n",
       "    position: absolute;\n",
       "    bottom: 0;\n",
       "    left: 0;\n",
       "    z-index: -1;\n",
       "    width: 100%;\n",
       "    height: 100%;\n",
       "    filter: brightness(0.5);\n",
       "}\n",
       ".banner::before {\n",
       "    content: '';\n",
       "    position: absolute;\n",
       "    left: 0;\n",
       "    right: 0;\n",
       "    z-index: 1;\n",
       "    height: 2px;\n",
       "    bottom: -6px;\n",
       "    background: var(--ibm-blue);\n",
       "    \n",
       "}\n",
       ".banner b {\n",
       "    display: block;\n",
       "    font-weight: 600;\n",
       "    font-size: 14px;\n",
       "}\n",
       ".banner b span {\n",
       "    font-weight: 400;\n",
       "}\n",
       ".banner b span::before {\n",
       "    content: ' / ';\n",
       "    margin: 0 5px;\n",
       "}\n",
       "\n",
       "</style>\n"
      ],
      "text/plain": [
       "<IPython.core.display.HTML object>"
      ]
     },
     "execution_count": 1,
     "metadata": {},
     "output_type": "execute_result"
    }
   ],
   "source": [
    "from IPython.core.display import HTML\n",
    "def css_styling():\n",
    "    styles = open(\"./styles/custom.css\", \"r\").read()\n",
    "    return HTML(styles)\n",
    "css_styling()"
   ]
  },
  {
   "cell_type": "markdown",
   "metadata": {},
   "source": [
    "<!-- Header banner -->\n",
    "<div class=\"banner\"><div>OpenAD tutorial Menu</div><b>OpenAD <span>Tutorial</span></b></div>"
   ]
  },
  {
   "cell_type": "markdown",
   "metadata": {
    "tags": []
   },
   "source": [
    "# Welcome to the Open Accelerated Discovery Client"
   ]
  },
  {
   "cell_type": "markdown",
   "metadata": {},
   "source": [
    "<div style=\"font-family: 'IBM Plex Sans';\">\n",
    "<table style=\"float:left; width: 620px; height: 235px; border-spacing: 10px; border-collapse: separate; table-layout: fixed\">\n",
    "    <td style=\"padding: 15px; text-align:left; vertical-align: text-top; background-color:#F7F7F7; width: 300px; height: 250px;\">\n",
    "        <div style=\"height: 75px\"><p style=\"font-size: 24px\">Accelerated Discovery Client Introduction</div>\n",
    "        <div style=\"height: 125px\"><p style=\"font-size: 14px\">\n",
    "             This will demonstrate how to work with the OpenAD Client through Notebooks.\n",
    "        </div>\n",
    "        <div style=\"height: 25px\"><p style=\"font-size: 12px; text-align: right\">\n",
    "            <img style=\"display: inline-block;\"src=\"./media/clock.png\">&nbsp;10min\n",
    "        </div>\n",
    "        <div style=\"height: 10px\"><p style=\"font-size: 12px; text-align: right\">\n",
    "             <a href=\"./Common_Client_Intro.ipynb\">\n",
    "                 <img style=\"display: inline-block;\"src=\"./media/arrowblue.png\"></a>            \n",
    "        </div>            \n",
    "    </td>\n",
    "    <td style=\"padding: 15px; text-align:left; vertical-align: text-top; background-color:#F7F7F7; width: 300px; height:250px\">\n",
    "        <div style=\"height: 75px\"><p style=\"font-size: 24px\">Demonstration Notebook</div>\n",
    "        <div style=\"height: 125px\"><p style=\"font-size: 14px\">\n",
    "             Demonstration of flows and Magic Command Calls.\n",
    "        </div>\n",
    "        <div style=\"height: 25px\"><p style=\"font-size: 12px; text-align: right\">\n",
    "            <img style=\"display: inline-block;\"src=\"./media/clock.png\">&nbsp;5min\n",
    "        </div>  \n",
    "        <div style=\"height: 10px\"><p style=\"font-size: 12px; text-align: right\">\n",
    "             <a href=\"./Demonstration.ipynb\">\n",
    "                 <img style=\"display: inline-block;\"src=\"./media/arrowblue.png\"></a>            \n",
    "        </div>            \n",
    "    </td>\n",
    "    <td style=\"padding: 15px; text-align:left; vertical-align: text-top; background-color:#F7F7F7; width: 300px; height:250px\">\n",
    "        <div style=\"height: 75px\"><p style=\"font-size: 24px\">Notebook Slideshow Demo</div>\n",
    "        <div style=\"height: 125px\"><p style=\"font-size: 14px\">\n",
    "             End to End demonstration\n",
    "        </div>\n",
    "        <div style=\"height: 25px\"><p style=\"font-size: 12px; text-align: right\">\n",
    "            <img style=\"display: inline-block;\"src=\"./media/clock.png\">&nbsp;5min\n",
    "        </div>  \n",
    "        <div style=\"height: 10px\"><p style=\"font-size: 12px; text-align: right\">\n",
    "             <a href=\"./Slide_Show.ipynb\">\n",
    "                 <img style=\"display: inline-block;\"src=\"./media/arrowblue.png\"></a>            \n",
    "        </div>            \n",
    "    </td>\n",
    "</table>\n",
    "</div>"
   ]
  },
  {
   "cell_type": "markdown",
   "metadata": {
    "execution": {
     "iopub.execute_input": "2024-07-24T05:40:01.532585Z",
     "iopub.status.busy": "2024-07-24T05:40:01.532231Z",
     "iopub.status.idle": "2024-07-24T05:40:01.539769Z",
     "shell.execute_reply": "2024-07-24T05:40:01.539016Z",
     "shell.execute_reply.started": "2024-07-24T05:40:01.532549Z"
    },
    "tags": []
   },
   "source": [
    "# Toolkits"
   ]
  },
  {
   "cell_type": "markdown",
   "metadata": {
    "execution": {
     "iopub.execute_input": "2024-07-24T05:41:16.331615Z",
     "iopub.status.busy": "2024-07-24T05:41:16.331270Z",
     "iopub.status.idle": "2024-07-24T05:41:16.340458Z",
     "shell.execute_reply": "2024-07-24T05:41:16.338569Z",
     "shell.execute_reply.started": "2024-07-24T05:41:16.331586Z"
    },
    "tags": []
   },
   "source": [
    "<div style=\"font-family: 'IBM Plex Sans';\">\n",
    "<table style=\"float:left; width: 620px; height: 235px; border-spacing: 10px; border-collapse: separate; table-layout: fixed\">\n",
    "    <td style=\"padding: 15px; text-align:left; vertical-align: text-top; background-color:#F7F7F7; width: 300px; height:250px\">\n",
    "        <div style=\"height: 75px\"><p style=\"font-size: 24px\">IBM Deep Search</div>\n",
    "        <div style=\"height: 125px\"><p style=\"font-size: 14px\">\n",
    "             Learn how to work with Deep Search and the OpenAD Client . \n",
    "            <img style=\"float:right; width: 100px; height: 100px;\"src=\"./media/deepsearch.png\" > \n",
    "        </div>    \n",
    "        <div style=\"height: 25px\"><p style=\"font-size: 12px; text-align: right\">\n",
    "            <img style=\"display: inline-block; \"src=\"./media/clock.png\">&nbsp;5min\n",
    "        </div>  \n",
    "        <div style=\"height: 10px\"><p style=\"font-size: 12px; text-align: right\">\n",
    "             <a href=\"./Deep_Search.ipynb\">\n",
    "                 <img style=\"display: inline-block;\"src=\"./media/arrowblue.png\"></a>            \n",
    "        </div>            \n",
    "    </td>  \n",
    "    <td style=\"padding: 15px; text-align:left; vertical-align: text-top; background-color:#F7F7F7; width: 300px; height:250px\">\n",
    "        <div style=\"height: 75px\"><p style=\"font-size: 24px\">IBM RXN</div>\n",
    "        <div style=\"height: 125px\"><p style=\"font-size: 14px\">\n",
    "             Learn how to Predict and Perform Retrosynthesis with the OpenAD Client . \n",
    "            <img style=\"float:right; width: 125px; height: 100px;\"src=\"./media/rxn.png\" > \n",
    "        </div>    \n",
    "        <div style=\"height: 25px\"><p style=\"font-size: 12px; text-align: right\">\n",
    "            <img style=\"display: inline-block; \"src=\"./media/clock.png\">&nbsp;5min\n",
    "        </div>  \n",
    "        <div style=\"height: 10px\"><p style=\"font-size: 12px; text-align: right\">\n",
    "             <a href=\"./RXN Demonstration.ipynb\">\n",
    "                 <img style=\"display: inline-block;\"src=\"./media/arrowblue.png\"></a>            \n",
    "        </div>            \n",
    "    </td> \n",
    "</table>\n",
    "</div>"
   ]
  },
  {
   "cell_type": "markdown",
   "metadata": {
    "tags": []
   },
   "source": [
    "# New Generative Model Capabilities"
   ]
  },
  {
   "cell_type": "markdown",
   "metadata": {
    "execution": {
     "iopub.execute_input": "2024-05-15T04:38:02.055127Z",
     "iopub.status.busy": "2024-05-15T04:38:02.054766Z",
     "iopub.status.idle": "2024-05-15T04:38:02.063585Z",
     "shell.execute_reply": "2024-05-15T04:38:02.062082Z",
     "shell.execute_reply.started": "2024-05-15T04:38:02.055097Z"
    },
    "tags": []
   },
   "source": [
    "<div style=\"font-family: 'IBM Plex Sans';\">\n",
    "<table style=\"float:left; width: 620px; height: 235px; border-spacing: 10px; border-collapse: separate; table-layout: fixed\">\n",
    "    <td style=\"padding: 15px; text-align:left; vertical-align: text-top; background-color:#F7F7F7; width: 300px; height:250px\">\n",
    "        <div style=\"height: 75px\"><p style=\"font-size: 24px\">Generative Model Demonstration</div>\n",
    "        <div style=\"height: 125px\"><p style=\"font-size: 14px\">\n",
    "             Learn how to deploy simple workflows using Deep Search, generative AI and RXN build solutions simply and easily.\n",
    "            <img style=\"float:right; width: 100px; height: 100px;\"src=\"./media/genai.png\" > \n",
    "        </div>    \n",
    "        <div style=\"height: 25px\"><p style=\"font-size: 12px; text-align: right\">\n",
    "            <img style=\"display: inline-block; \"src=\"./media/clock.png\">&nbsp;5min\n",
    "        </div>  \n",
    "        <div style=\"height: 10px\"><p style=\"font-size: 12px; text-align: right\">\n",
    "             <a href=\"./End_to_End.ipynb\">\n",
    "                 <img style=\"display: inline-block;\"src=\"./media/arrowblue.png\"></a>            \n",
    "        </div>            \n",
    "    </td>  \n",
    "    <td style=\"padding: 15px; text-align:left; vertical-align: text-top; background-color:#F7F7F7; width: 300px; height:250px\">\n",
    "        <div style=\"height: 75px\"><p style=\"font-size: 24px\">Generative AI Property Prediction</div>\n",
    "        <div style=\"height: 125px\"><p style=\"font-size: 14px\">\n",
    "             Learn how to generate Properties for Molecules, Proteins and Crystals.\n",
    "            <img style=\"float:right; width: 125px; height: 100px;\"src=\"./media/genai.png\" > \n",
    "        </div>    \n",
    "        <div style=\"height: 25px\"><p style=\"font-size: 12px; text-align: right\">\n",
    "            <img style=\"display: inline-block; \"src=\"./media/clock.png\">&nbsp;5min\n",
    "        </div>  \n",
    "        <div style=\"height: 10px\"><p style=\"font-size: 12px; text-align: right\">\n",
    "             <a href=\"./property_generation.ipynb\">\n",
    "                 <img style=\"display: inline-block;\"src=\"./media/arrowblue.png\"></a>            \n",
    "        </div>            \n",
    "    </td> \n",
    "        <td style=\"padding: 15px; text-align:left; vertical-align: text-top; background-color:#F7F7F7; width: 300px; height:250px\">\n",
    "        <div style=\"height: 75px\"><p style=\"font-size: 24px\">Generative Model Data Set Generation</div>\n",
    "        <div style=\"height: 125px\"><p style=\"font-size: 14px\">\n",
    "             Learn how to use generate Candidate Molecule sets for  Molecule or Protein Targets..\n",
    "            <img style=\"float:right; width: 125px; height: 100px;\"src=\"./media/genai.png\" > \n",
    "        </div>    \n",
    "        <div style=\"height: 25px\"><p style=\"font-size: 12px; text-align: right\">\n",
    "            <img style=\"display: inline-block; \"src=\"./media/clock.png\">&nbsp;5min\n",
    "        </div>  \n",
    "        <div style=\"height: 10px\"><p style=\"font-size: 12px; text-align: right\">\n",
    "             <a href=\"./Generation_Models.ipynb\">\n",
    "                 <img style=\"display: inline-block;\"src=\"./media/arrowblue.png\"></a>            \n",
    "        </div>            \n",
    "    </td>\n",
    "</table>\n",
    "</div"
   ]
  },
  {
   "cell_type": "markdown",
   "metadata": {},
   "source": [
    "#### Questions and Comments: Phil Downey [phil.downey1@ibm.com]"
   ]
  }
 ],
 "metadata": {
  "kernelspec": {
   "display_name": "Python 3 (ipykernel)",
   "language": "python",
   "name": "python3"
  },
  "language_info": {
   "codemirror_mode": {
    "name": "ipython",
    "version": 3
   },
   "file_extension": ".py",
   "mimetype": "text/x-python",
   "name": "python",
   "nbconvert_exporter": "python",
   "pygments_lexer": "ipython3",
   "version": "3.11.7"
  }
 },
 "nbformat": 4,
 "nbformat_minor": 4
}
