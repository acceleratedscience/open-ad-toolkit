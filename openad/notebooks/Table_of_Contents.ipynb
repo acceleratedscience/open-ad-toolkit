{
 "cells": [
  {
   "cell_type": "markdown",
   "metadata": {},
   "source": [
    "![](./media/AD_Banner.jpg)\n",
    "<a id=\"top\">"
   ]
  },
  {
   "cell_type": "markdown",
   "metadata": {
    "tags": []
   },
   "source": [
    "# Open Accelerated Discovery Client Terminal and  Notebook Tutorial\n",
    "Welcome to the Open Accelerated Discovery Client. "
   ]
  },
  {
   "cell_type": "markdown",
   "metadata": {},
   "source": [
    "<div style=\"font-family: 'IBM Plex Sans';\">\n",
    "<table style=\"float:left; width: 620px; height: 235px; border-spacing: 10px; border-collapse: separate; table-layout: fixed\">\n",
    "    <td style=\"padding: 15px; text-align:left; vertical-align: text-top; background-color:#F7F7F7; width: 300px; height: 250px;\">\n",
    "        <div style=\"height: 75px\"><p style=\"font-size: 24px\">Accelerated Discovery Client Introduction</div>\n",
    "        <div style=\"height: 125px\"><p style=\"font-size: 14px\">\n",
    "             This will demonstrate how to work with the OpenAD Client through Notebooks.\n",
    "        </div>\n",
    "        <div style=\"height: 25px\"><p style=\"font-size: 12px; text-align: right\">\n",
    "            <img style=\"display: inline-block;\"src=\"./media/clock.png\">&nbsp;10min\n",
    "        </div>\n",
    "        <div style=\"height: 10px\"><p style=\"font-size: 12px; text-align: right\">\n",
    "             <a href=\"./Common_Client_Intro.ipynb\">\n",
    "                 <img style=\"display: inline-block;\"src=\"./media/arrowblue.png\"></a>            \n",
    "        </div>            \n",
    "    </td>\n",
    "    <td style=\"padding: 15px; text-align:left; vertical-align: text-top; background-color:#F7F7F7; width: 300px; height:250px\">\n",
    "        <div style=\"height: 75px\"><p style=\"font-size: 24px\">Demonstration Notebook</div>\n",
    "        <div style=\"height: 125px\"><p style=\"font-size: 14px\">\n",
    "             Demonstration of flows and Magic Command Calls.\n",
    "        </div>\n",
    "        <div style=\"height: 25px\"><p style=\"font-size: 12px; text-align: right\">\n",
    "            <img style=\"display: inline-block;\"src=\"./media/clock.png\">&nbsp;5min\n",
    "        </div>  \n",
    "        <div style=\"height: 10px\"><p style=\"font-size: 12px; text-align: right\">\n",
    "             <a href=\"./Demonstration.ipynb\">\n",
    "                 <img style=\"display: inline-block;\"src=\"./media/arrowblue.png\"></a>            \n",
    "        </div>            \n",
    "    </td>\n",
    "    \n",
    "</table>\n",
    "</div>"
   ]
  },
  {
   "cell_type": "markdown",
   "metadata": {},
   "source": [
    "<div style=\"font-family: 'IBM Plex Sans';\">\n",
    "<table style=\"float:left; width: 620px; height: 235px; border-spacing: 10px; border-collapse: separate; table-layout: fixed\">\n",
    "    <td style=\"padding: 15px; text-align:left; vertical-align: text-top; background-color:#F7F7F7; width: 300px; height:250px\">\n",
    "        <div style=\"height: 75px\"><p style=\"font-size: 24px\">IBM Deep Search</div>\n",
    "        <div style=\"height: 125px\"><p style=\"font-size: 14px\">\n",
    "             Learn how to work with Deep Search and the OpenAD Client . \n",
    "            <img style=\"float:right; width: 100px; height: 100px;\"src=\"./media/deepsearch.png\" > \n",
    "        </div>    \n",
    "        <div style=\"height: 25px\"><p style=\"font-size: 12px; text-align: right\">\n",
    "            <img style=\"display: inline-block; \"src=\"./media/clock.png\">&nbsp;5min\n",
    "        </div>  \n",
    "        <div style=\"height: 10px\"><p style=\"font-size: 12px; text-align: right\">\n",
    "             <a href=\"./Deep_Search.ipynb\">\n",
    "                 <img style=\"display: inline-block;\"src=\"./media/arrowblue.png\"></a>            \n",
    "        </div>            \n",
    "    </td>  \n",
    "    <td style=\"padding: 15px; text-align:left; vertical-align: text-top; background-color:#F7F7F7; width: 300px; height:250px\">\n",
    "        <div style=\"height: 75px\"><p style=\"font-size: 24px\">IBM RXN</div>\n",
    "        <div style=\"height: 125px\"><p style=\"font-size: 14px\">\n",
    "             Learn how to Preduct and Perform Retrosynthesis with the OpenAD Client . \n",
    "            <img style=\"float:right; width: 125px; height: 100px;\"src=\"./media/rxn.png\" > \n",
    "        </div>    \n",
    "        <div style=\"height: 25px\"><p style=\"font-size: 12px; text-align: right\">\n",
    "            <img style=\"display: inline-block; \"src=\"./media/clock.png\">&nbsp;5min\n",
    "        </div>  \n",
    "        <div style=\"height: 10px\"><p style=\"font-size: 12px; text-align: right\">\n",
    "             <a href=\"./RXN Demonstration.ipynb\">\n",
    "                 <img style=\"display: inline-block;\"src=\"./media/arrowblue.png\"></a>            \n",
    "        </div>            \n",
    "    </td> \n",
    "</table>\n",
    "</div>"
   ]
  },
  {
   "cell_type": "markdown",
   "metadata": {},
   "source": [
    "#### Questions and Comments: Phil Downey [phil.downey1@ibm.com]"
   ]
  }
 ],
 "metadata": {
  "kernelspec": {
   "display_name": "ad-kernel",
   "language": "python",
   "name": "ad-kernel"
  },
  "language_info": {
   "codemirror_mode": {
    "name": "ipython",
    "version": 3
   },
   "file_extension": ".py",
   "mimetype": "text/x-python",
   "name": "python",
   "nbconvert_exporter": "python",
   "pygments_lexer": "ipython3",
   "version": "3.10.10"
  }
 },
 "nbformat": 4,
 "nbformat_minor": 4
}
