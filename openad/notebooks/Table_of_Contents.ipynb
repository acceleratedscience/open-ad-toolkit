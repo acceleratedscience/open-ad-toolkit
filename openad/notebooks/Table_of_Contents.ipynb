{
 "cells": [
  {
   "cell_type": "code",
   "execution_count": 1,
   "metadata": {
    "execution": {
     "iopub.execute_input": "2024-07-24T21:44:57.949478Z",
     "iopub.status.busy": "2024-07-24T21:44:57.949205Z",
     "iopub.status.idle": "2024-07-24T21:44:57.958874Z",
     "shell.execute_reply": "2024-07-24T21:44:57.958170Z",
     "shell.execute_reply.started": "2024-07-24T21:44:57.949451Z"
    },
    "tags": []
   },
   "outputs": [
    {
     "data": {
      "text/html": [
       "<style>\n",
       "@import url('https://fonts.googleapis.com/css2?family=IBM+Plex+Sans:wght@300;400;600&display=swap');\n",
       "\n",
       "body {\n",
       "    --ibm-blue: #0f62fe;\n",
       "    --dark-blue: #2756ad;\n",
       "}\n",
       "\n",
       "h1,h2,h3,h4,p {\n",
       "    font-family: \"IBM Plex Sans\";\n",
       "    color: rgba(0,0,0,.7);\n",
       "}\n",
       "h1,h2 {\n",
       "    margin: 60px 0 10px 0 !important;\n",
       "}\n",
       "h3,h4 {\n",
       "    margin: 40px 0 10px 0 !important;\n",
       "}\n",
       "h1 {\n",
       "    font-size: 2.5em !important;\n",
       "}\n",
       "h2 {\n",
       "    font-size: 2em !important;\n",
       "    color: var(--dark-blue);\n",
       "}\n",
       "h3 {\n",
       "}\n",
       "p, ul, ol {\n",
       "    max-width: 1400px;\n",
       "}\n",
       "\n",
       "\n",
       ".banner {\n",
       "    font-family: \"IBM Plex Sans\";\n",
       "    width: 100%;\n",
       "    height: 140px;\n",
       "    color: white;\n",
       "    font-size: 30px;\n",
       "    line-height: 30px;\n",
       "    text-align: right;\n",
       "    padding: 20px;\n",
       "    position: relative;\n",
       "    z-index: 1;\n",
       "    box-sizing: border-box;\n",
       "    display: flex;\n",
       "    flex-direction: column-reverse;\n",
       "    font-weight: 300;\n",
       "}\n",
       ".banner::after {\n",
       "    content: '';\n",
       "    position: absolute;\n",
       "    bottom: 0;\n",
       "    left: 0;\n",
       "    z-index: -1;\n",
       "    width: 100%;\n",
       "    height: 100%;\n",
       "    filter: brightness(0.5);\n",
       "}\n",
       ".banner::before {\n",
       "    content: '';\n",
       "    position: absolute;\n",
       "    left: 0;\n",
       "    right: 0;\n",
       "    z-index: 1;\n",
       "    height: 2px;\n",
       "    bottom: -6px;\n",
       "    background: var(--ibm-blue);\n",
       "    \n",
       "}\n",
       ".banner b {\n",
       "    display: block;\n",
       "    font-weight: 600;\n",
       "    font-size: 14px;\n",
       "}\n",
       ".banner b span {\n",
       "    font-weight: 400;\n",
       "}\n",
       ".banner b span::before {\n",
       "    content: ' / ';\n",
       "    margin: 0 5px;\n",
       "}\n",
       "\n",
       "</style>\n"
      ],
      "text/plain": [
       "<IPython.core.display.HTML object>"
      ]
     },
     "execution_count": 1,
     "metadata": {},
     "output_type": "execute_result"
    }
   ],
   "source": [
    "from IPython.core.display import HTML\n",
    "def css_styling():\n",
    "    styles = open(\"./styles/custom.css\", \"r\").read()\n",
    "    return HTML(styles)\n",
    "css_styling()"
   ]
  },
  {
   "cell_type": "markdown",
   "metadata": {},
   "source": [
    "<!-- Header banner -->\n",
    "<div class=\"banner\"><div>OpenAD tutorial Menu</div><b>OpenAD <span>Tutorial</span></b></div>"
   ]
  },
  {
   "cell_type": "markdown",
   "metadata": {
    "tags": []
   },
   "source": [
    "# Welcome to the Open Accelerated Discovery Client"
   ]
  },
  {
   "cell_type": "markdown",
   "metadata": {},
   "source": [
    "<div style=\"font-family: 'IBM Plex Sans';\">\n",
    "<table style=\"float:left; width: 620px; height: 235px; border-spacing: 10px; border-collapse: separate; table-layout: fixed\">\n",
    "    <td style=\"padding: 15px; text-align:left; vertical-align: text-top; background-color:#F7F7F7; width: 300px; height: 250px;\">\n",
    "        <div style=\"height: 75px\"><p style=\"font-size: 24px\">Accelerated Discovery Client Introduction</div>\n",
    "        <div style=\"height: 125px\"><p style=\"font-size: 14px\">\n",
    "             This will demonstrate how to work with the OpenAD Client through Notebooks.\n",
    "        </div>\n",
    "        <div style=\"height: 25px\"><p style=\"font-size: 12px; text-align: right\">\n",
    "            <img style=\"display: inline-block;\"src=\"./media/clock.png\">&nbsp;10min\n",
    "        </div>\n",
    "        <div style=\"height: 10px\"><p style=\"font-size: 12px; text-align: right\">\n",
    "             <a href=\"./Common_Client_Intro.ipynb\">\n",
    "                 <img style=\"display: inline-block;\"src=\"./media/arrowblue.png\"></a>            \n",
    "        </div>            \n",
    "    </td>\n",
    "    <td style=\"padding: 15px; text-align:left; vertical-align: text-top; background-color:#F7F7F7; width: 300px; height:250px\">\n",
    "        <div style=\"height: 75px\"><p style=\"font-size: 24px\">Demonstration Notebook</div>\n",
    "        <div style=\"height: 125px\"><p style=\"font-size: 14px\">\n",
    "             Demonstration of flows and Magic Command Calls.\n",
    "        </div>\n",
    "        <div style=\"height: 25px\"><p style=\"font-size: 12px; text-align: right\">\n",
    "            <img style=\"display: inline-block;\"src=\"./media/clock.png\">&nbsp;5min\n",
    "        </div>  \n",
    "        <div style=\"height: 10px\"><p style=\"font-size: 12px; text-align: right\">\n",
    "             <a href=\"./Demonstration.ipynb\">\n",
    "                 <img style=\"display: inline-block;\"src=\"./media/arrowblue.png\"></a>            \n",
    "        </div>            \n",
    "    </td>\n",
    "    <td style=\"padding: 15px; text-align:left; vertical-align: text-top; background-color:#F7F7F7; width: 300px; height:250px\">\n",
    "        <div style=\"height: 75px\"><p style=\"font-size: 24px\">Notebook Slideshow Demo</div>\n",
    "        <div style=\"height: 125px\"><p style=\"font-size: 14px\">\n",
    "             End to End demonstration\n",
    "        </div>\n",
    "        <div style=\"height: 25px\"><p style=\"font-size: 12px; text-align: right\">\n",
    "            <img style=\"display: inline-block;\"src=\"./media/clock.png\">&nbsp;5min\n",
    "        </div>  \n",
    "        <div style=\"height: 10px\"><p style=\"font-size: 12px; text-align: right\">\n",
    "             <a href=\"./Slide_Show.ipynb\">\n",
    "                 <img style=\"display: inline-block;\"src=\"./media/arrowblue.png\"></a>            \n",
    "        </div>            \n",
    "    </td>\n",
    "</table>\n",
    "</div>"
   ]
  },
  {
   "cell_type": "markdown",
   "metadata": {
    "execution": {
     "iopub.execute_input": "2024-07-24T05:40:01.532585Z",
     "iopub.status.busy": "2024-07-24T05:40:01.532231Z",
     "iopub.status.idle": "2024-07-24T05:40:01.539769Z",
     "shell.execute_reply": "2024-07-24T05:40:01.539016Z",
     "shell.execute_reply.started": "2024-07-24T05:40:01.532549Z"
    },
    "jp-MarkdownHeadingCollapsed": true,
    "tags": []
   },
   "source": [
    "# Toolkits"
   ]
  },
  {
   "cell_type": "markdown",
   "metadata": {
    "execution": {
     "iopub.execute_input": "2024-07-24T05:41:16.331615Z",
     "iopub.status.busy": "2024-07-24T05:41:16.331270Z",
     "iopub.status.idle": "2024-07-24T05:41:16.340458Z",
     "shell.execute_reply": "2024-07-24T05:41:16.338569Z",
     "shell.execute_reply.started": "2024-07-24T05:41:16.331586Z"
    },
    "tags": []
   },
   "source": [
    "<div style=\"font-family: 'IBM Plex Sans';\">\n",
    "<table style=\"float:left; width: 620px; height: 235px; border-spacing: 10px; border-collapse: separate; table-layout: fixed\">\n",
    "    <td style=\"padding: 15px; text-align:left; vertical-align: text-top; background-color:#F7F7F7; width: 300px; height:250px\">\n",
    "        <div style=\"height: 75px\"><p style=\"font-size: 24px\">IBM Deep Search</div>\n",
    "        <div style=\"height: 125px\"><p style=\"font-size: 14px\">\n",
    "             Learn how to work with Deep Search and the OpenAD Client . <br>\n",
    "            <svg id=\"icon\" xmlns=\"http://www.w3.org/2000/svg\" width=\"30%\" height=\"30%\" viewBox=\"0 0 32 32\" style=\"float:right ;enable-background:new 0 0 32 32;\" >\n",
    "  <defs>\n",
    "    <style>\n",
    "      .cls-1 {\n",
    "        fill: none;\n",
    "      }\n",
    "    </style>\n",
    "  </defs>\n",
    "  <path d=\"M30,28.5859l-4.6885-4.6884a8.028,8.028,0,1,0-1.414,1.414L28.5859,30ZM19,25a6,6,0,1,1,6-6A6.0066,6.0066,0,0,1,19,25Z\"/>\n",
    "  <rect x=\"2\" y=\"12\" width=\"8\" height=\"2\"/>\n",
    "  <rect x=\"2\" y=\"2\" width=\"16\" height=\"2\"/>\n",
    "  <rect x=\"2\" y=\"7\" width=\"16\" height=\"2\"/>\n",
    "  <rect id=\"_Transparent_Rectangle_\" data-name=\"&lt;Transparent Rectangle&gt;\" class=\"cls-1\" width=\"32\" height=\"32\"/>\n",
    "</svg>\n",
    "        </div>    \n",
    "        <div style=\"height: 25px\"><p style=\"font-size: 12px; text-align: right\">\n",
    "            <img style=\"display: inline-block; \"src=\"./media/clock.png\">&nbsp;5min\n",
    "        </div>  \n",
    "        <div style=\"height: 10px\"><p style=\"font-size: 12px; text-align: right\">\n",
    "             <a href=\"./Deep_Search.ipynb\">\n",
    "                 <img style=\"display: inline-block;\"src=\"./media/arrowblue.png\"></a>            \n",
    "        </div>            \n",
    "    </td>  \n",
    "    <td style=\"padding: 15px; text-align:left; vertical-align: text-top; background-color:#F7F7F7; width: 300px; height:250px\">\n",
    "        <div style=\"height: 75px\"><p style=\"font-size: 24px\">IBM RXN</div>\n",
    "        <div style=\"height: 125px\"><p style=\"font-size: 14px\">\n",
    "             Learn how to Predict and Perform Retrosynthesis with the OpenAD Client . \n",
    "            <svg  version=\"1.1\" id=\"Layer_1\" xmlns=\"http://www.w3.org/2000/svg\" xmlns:xlink=\"http://www.w3.org/1999/xlink\" x=\"0px\" y=\"0px\" viewBox=\"0 0 32 32\" style=\"float:right ;enable-background:new 0 0 32 32;\" xml:space=\"preserve\" width=\"30%\" height=\"30%\">\n",
    "<path id=\"scientific--computing_00000054257420400815050410000015547895250347487921_\" d=\"M16,31.36\n",
    "\tc-1.952,0-3.284-3.759-3.924-8.533c-3.501,1.454-6.452,2.096-8.065,1.665c-0.553-0.148-0.947-0.422-1.17-0.813\n",
    "\tc-1.128-1.977,2.664-5.459,4.668-7.104c-0.083-0.176-0.128-0.371-0.128-0.578c0-0.205,0.045-0.4,0.127-0.574\n",
    "\tc-2.011-1.651-5.793-5.129-4.667-7.101c0.223-0.392,0.617-0.666,1.17-0.814c1.611-0.433,4.563,0.211,8.065,1.665\n",
    "\tC12.716,4.399,14.048,0.64,16,0.64c2.309,0,3.407,5.175,3.809,7.726c0.358,0.046,0.675,0.233,0.89,0.504\n",
    "\tc2.397-0.931,7.324-2.536,8.461-0.549c0.967,1.692-1.605,4.733-5.389,7.679c3.783,2.945,6.355,5.986,5.389,7.679\n",
    "\tc-1.136,1.99-6.062,0.384-8.465-0.548c-0.214,0.271-0.529,0.459-0.889,0.507C19.403,26.197,18.304,31.36,16,31.36z M12.762,22.535\n",
    "\tc0.653,4.979,1.997,8.104,3.238,8.104c0.995,0,2.324-2.198,3.093-7.1c-0.485-0.208-0.826-0.69-0.826-1.251\n",
    "\tc0-0.677,0.497-1.239,1.145-1.343c0.062-0.665,0.112-1.339,0.149-2.019c-0.463,0.29-0.932,0.572-1.401,0.847\n",
    "\tC16.303,20.858,14.475,21.788,12.762,22.535z M7.977,17.121c-3.788,3.1-5.002,5.34-4.511,6.2c0.125,0.219,0.371,0.379,0.732,0.476\n",
    "\tc1.454,0.387,4.374-0.296,7.784-1.725c-0.135-1.159-0.23-2.366-0.286-3.588c-0.723-0.462-1.428-0.937-2.111-1.423\n",
    "\tC9.148,17.41,8.44,17.438,7.977,17.121z M20.976,22.468c4.543,1.766,7.067,1.714,7.559,0.854c0.615-1.077-1.403-3.811-5.354-6.87\n",
    "\tc-0.908,0.684-1.876,1.356-2.874,2.003c-0.039,0.867-0.099,1.726-0.179,2.57c0.503,0.199,0.86,0.691,0.86,1.265\n",
    "\tC20.987,22.35,20.983,22.409,20.976,22.468z M19.627,21.649c-0.353,0-0.64,0.287-0.64,0.64s0.287,0.64,0.64,0.64\n",
    "\ts0.64-0.287,0.64-0.64S19.979,21.649,19.627,21.649z M12.437,18.95c0.053,0.991,0.132,1.936,0.232,2.827\n",
    "\tc1.647-0.725,3.391-1.611,5.126-2.624c0.625-0.365,1.228-0.732,1.806-1.101c0.025-0.681,0.038-1.366,0.038-2.053h0.721\n",
    "\tc0,0.527-0.008,1.053-0.022,1.576c0.801-0.528,1.552-1.056,2.248-1.576c-1.391-1.038-2.996-2.106-4.79-3.153\n",
    "\tc-0.602-0.351-1.201-0.687-1.795-1.004c-0.611,0.322-1.218,0.657-1.82,1.005l-0.36-0.623c0.467-0.27,0.937-0.532,1.409-0.787\n",
    "\tc-0.871-0.448-1.729-0.858-2.559-1.226C12.474,11.954,12.36,13.899,12.36,16c0,0.711,0.013,1.404,0.038,2.077\n",
    "\tc0.584,0.368,1.179,0.727,1.782,1.075l-0.36,0.623C13.354,19.507,12.893,19.231,12.437,18.95z M10.011,16.481\n",
    "\tc0.538,0.382,1.089,0.758,1.652,1.125C11.648,17.07,11.64,16.534,11.64,16c0-2.051,0.116-4.138,0.343-6.084\n",
    "\tC8.569,8.477,5.681,7.805,4.197,8.204C3.836,8.3,3.59,8.46,3.465,8.679c-0.491,0.859,0.724,3.097,4.508,6.195\n",
    "\tc0.218-0.149,0.482-0.237,0.767-0.237c0.75,0,1.36,0.61,1.36,1.36C10.1,16.167,10.069,16.331,10.011,16.481z M8.74,15.356\n",
    "\tc-0.353,0-0.64,0.287-0.64,0.64s0.287,0.64,0.64,0.64s0.64-0.287,0.64-0.64S9.093,15.356,8.74,15.356z M16.775,11.442\n",
    "\tc0.458,0.251,0.92,0.512,1.384,0.783c1.749,1.021,3.471,2.159,5.021,3.324c3.951-3.06,5.97-5.793,5.354-6.87\n",
    "\tc-0.49-0.857-3.011-0.911-7.554,0.854c0.008,0.06,0.013,0.121,0.013,0.183c0,0.75-0.61,1.36-1.36,1.36\n",
    "\tc-0.425,0-0.805-0.196-1.055-0.502C17.977,10.848,17.375,11.139,16.775,11.442z M12.762,9.464c1.044,0.456,2.132,0.979,3.242,1.564\n",
    "\tc0.759-0.393,1.521-0.766,2.283-1.114c-0.01-0.065-0.015-0.132-0.015-0.199c0-0.559,0.34-1.041,0.823-1.25\n",
    "\tC18.328,3.561,16.997,1.36,16,1.36C14.759,1.36,13.415,4.486,12.762,9.464z M19.633,9.075c-0.353,0-0.64,0.287-0.64,0.64\n",
    "\ts0.287,0.64,0.64,0.64s0.64-0.287,0.64-0.64S19.985,9.075,19.633,9.075z\"/>\n",
    "<rect id=\"_Transparent_Rectangle\" style=\"fill:none;\" width=\"50\" height=\"50\"/>\n",
    "</svg> \n",
    "        </div>    \n",
    "        <div style=\"height: 25px\"><p style=\"font-size: 12px; text-align: right\">\n",
    "            <img style=\"display: inline-block; \"src=\"./media/clock.png\">&nbsp;5min\n",
    "        </div>  \n",
    "        <div style=\"height: 10px\"><p style=\"font-size: 12px; text-align: right\">\n",
    "             <a href=\"./RXN Demonstration.ipynb\">\n",
    "                 <img style=\"display: inline-block;\"src=\"./media/arrowblue.png\"></a>            \n",
    "        </div>            \n",
    "    </td> \n",
    "</table>\n",
    "</div>"
   ]
  },
  {
   "cell_type": "markdown",
   "metadata": {
    "tags": []
   },
   "source": [
    "# New Generative Model Capabilities"
   ]
  },
  {
   "cell_type": "markdown",
   "metadata": {
    "execution": {
     "iopub.execute_input": "2024-05-15T04:38:02.055127Z",
     "iopub.status.busy": "2024-05-15T04:38:02.054766Z",
     "iopub.status.idle": "2024-05-15T04:38:02.063585Z",
     "shell.execute_reply": "2024-05-15T04:38:02.062082Z",
     "shell.execute_reply.started": "2024-05-15T04:38:02.055097Z"
    },
    "tags": []
   },
   "source": [
    "<div style=\"font-family: 'IBM Plex Sans';\">\n",
    "<table style=\"float:left; width: 620px; height: 235px; border-spacing: 10px; border-collapse: separate; table-layout: fixed\">\n",
    "    <td style=\"padding: 15px; text-align:left; vertical-align: text-top; background-color:#F7F7F7; width: 300px; height:250px\">\n",
    "        <div style=\"height: 75px\"><p style=\"font-size: 24px\">Generative Model Demonstration</div>\n",
    "        <div style=\"height: 125px\"><p style=\"font-size: 14px\">\n",
    "             Learn how to deploy simple workflows using Deep Search, generative AI and RXN build solutions simply and easily.\n",
    "            <img style=\"float:right; width: 100px; height: 100px;\"src=\"./media/genai.png\" > \n",
    "        </div>    \n",
    "        <div style=\"height: 25px\"><p style=\"font-size: 12px; text-align: right\">\n",
    "            <img style=\"display: inline-block; \"src=\"./media/clock.png\">&nbsp;5min\n",
    "        </div>  \n",
    "        <div style=\"height: 10px\"><p style=\"font-size: 12px; text-align: right\">\n",
    "             <a href=\"./End_to_End.ipynb\">\n",
    "                 <img style=\"display: inline-block;\"src=\"./media/arrowblue.png\"></a>            \n",
    "        </div>            \n",
    "    </td>  \n",
    "    <td style=\"padding: 15px; text-align:left; vertical-align: text-top; background-color:#F7F7F7; width: 300px; height:250px\">\n",
    "        <div style=\"height: 75px\"><p style=\"font-size: 24px\">Generative AI Property Prediction</div>\n",
    "        <div style=\"height: 125px\"><p style=\"font-size: 14px\">\n",
    "             Learn how to generate Properties for Molecules, Proteins and Crystals.\n",
    "            <img style=\"float:right; width: 125px; height: 100px;\"src=\"./media/genai.png\" > \n",
    "        </div>    \n",
    "        <div style=\"height: 25px\"><p style=\"font-size: 12px; text-align: right\">\n",
    "            <img style=\"display: inline-block; \"src=\"./media/clock.png\">&nbsp;5min\n",
    "        </div>  \n",
    "        <div style=\"height: 10px\"><p style=\"font-size: 12px; text-align: right\">\n",
    "             <a href=\"./property_generation.ipynb\">\n",
    "                 <img style=\"display: inline-block;\"src=\"./media/arrowblue.png\"></a>            \n",
    "        </div>            \n",
    "    </td> \n",
    "        <td style=\"padding: 15px; text-align:left; vertical-align: text-top; background-color:#F7F7F7; width: 300px; height:250px\">\n",
    "        <div style=\"height: 75px\"><p style=\"font-size: 24px\">Generative Model Data Set Generation</div>\n",
    "        <div style=\"height: 125px\"><p style=\"font-size: 14px\">\n",
    "             Learn how to use generate Candidate Molecule sets for  Molecule or Protein Targets..\n",
    "            <img style=\"float:right; width: 125px; height: 100px;\"src=\"./media/genai.png\" > \n",
    "        </div>    \n",
    "        <div style=\"height: 25px\"><p style=\"font-size: 12px; text-align: right\">\n",
    "            <img style=\"display: inline-block; \"src=\"./media/clock.png\">&nbsp;5min\n",
    "        </div>  \n",
    "        <div style=\"height: 10px\"><p style=\"font-size: 12px; text-align: right\">\n",
    "             <a href=\"./Generation_Models.ipynb\">\n",
    "                 <img style=\"display: inline-block;\"src=\"./media/arrowblue.png\"></a>            \n",
    "        </div>            \n",
    "    </td>\n",
    "</table>\n",
    "</div"
   ]
  },
  {
   "cell_type": "markdown",
   "metadata": {},
   "source": [
    "#### Questions and Comments: Phil Downey [phil.downey1@ibm.com]"
   ]
  }
 ],
 "metadata": {
  "kernelspec": {
   "display_name": "Python 3 (ipykernel)",
   "language": "python",
   "name": "python3"
  },
  "language_info": {
   "codemirror_mode": {
    "name": "ipython",
    "version": 3
   },
   "file_extension": ".py",
   "mimetype": "text/x-python",
   "name": "python",
   "nbconvert_exporter": "python",
   "pygments_lexer": "ipython3",
   "version": "3.10.14"
  }
 },
 "nbformat": 4,
 "nbformat_minor": 4
}
