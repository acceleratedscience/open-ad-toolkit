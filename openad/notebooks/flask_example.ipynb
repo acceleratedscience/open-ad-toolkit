{
 "cells": [
  {
   "cell_type": "code",
   "execution_count": 2,
   "id": "9fb9ad36-bd07-41ac-9c98-39c10869f0a5",
   "metadata": {},
   "outputs": [
    {
     "data": {
      "text/html": [
       "<iframe src=\"http://127.0.0.1:8029\" width=\"100%\" height=\"700\" style=\"border: solid 1px #ddd;\"></iframe>"
      ],
      "text/plain": [
       "<IPython.core.display.HTML object>"
      ]
     },
     "metadata": {},
     "output_type": "display_data"
    }
   ],
   "source": [
    "result = %openad flask example"
   ]
  },
  {
   "cell_type": "code",
   "execution_count": 4,
   "id": "2d012054-6e9f-4150-a342-20a09393d1a2",
   "metadata": {},
   "outputs": [
    {
     "name": "stdout",
     "output_type": "stream",
     "text": [
      "The submited value: \"hello world\"\n",
      "\n",
      "The returned result object looks like this:\n",
      "{'form': {'someInput': 'hello world'}}\n"
     ]
    }
   ],
   "source": [
    "submitted_text = None\n",
    "if 'form' in result:\n",
    "    if 'someAjaxInput' in result['form']:\n",
    "        submitted_text = result['form']['someAjaxInput']\n",
    "    elif 'someInput' in result['form']:\n",
    "        submitted_text = result['form']['someInput']\n",
    "else:\n",
    "    print('Form not submitted.')\n",
    "\n",
    "if submitted_text:    \n",
    "    print(f'The submited value: \"{submitted_text}\"')\n",
    "    print('\\nThe returned result object looks like this:')\n",
    "    print(result)"
   ]
  }
 ],
 "metadata": {
  "kernelspec": {
   "display_name": "Python 3 (ipykernel)",
   "language": "python",
   "name": "python3"
  },
  "language_info": {
   "codemirror_mode": {
    "name": "ipython",
    "version": 3
   },
   "file_extension": ".py",
   "mimetype": "text/x-python",
   "name": "python",
   "nbconvert_exporter": "python",
   "pygments_lexer": "ipython3",
   "version": "3.10.14"
  }
 },
 "nbformat": 4,
 "nbformat_minor": 5
}
