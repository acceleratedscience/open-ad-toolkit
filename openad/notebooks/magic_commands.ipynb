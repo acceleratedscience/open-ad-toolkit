{
 "cells": [
  {
   "cell_type": "code",
   "execution_count": 15,
   "id": "93aa997a-e74f-4412-915f-68a4ba8cd536",
   "metadata": {
    "tags": []
   },
   "outputs": [],
   "source": [
    "%reload_ext openad.notebooks.styles"
   ]
  },
  {
   "cell_type": "markdown",
   "id": "2449299f-920c-46d6-8b0b-69b8531cfde9",
   "metadata": {},
   "source": [
    "<!-- Header banner -->\n",
    "<div class=\"banner\"><div>Working with Magic Commands</div><b>OpenAD <span>Tutorial</span></b></div>"
   ]
  },
  {
   "cell_type": "markdown",
   "id": "eb137a6c-66b2-434d-9e0f-413994accb85",
   "metadata": {},
   "source": [
    "### What are Magic Commands?\n",
    "Magic commands are special functions in Jupyter Notebook that provide enhanced capabilities beyond the standard Python language.\n",
    "\n",
    "Jupyter comes with a number of [built-in magic commands](https://ipython.readthedocs.io/en/stable/interactive/magics.html), like `%reload_ext` which we use to load the CSS styles into this Notebook.\n",
    "\n",
    "### OpenAD Magic Commands\n",
    "OpenAD comes with its own magic commands which let you interact with the OpenAD shell.\n",
    "\n",
    "There's two ways to run any OpenAD command:\n",
    "1. `%openad` - Display results directly in your notebook<br>\n",
    "2. `%openadd` - Store the returned data in a variable\n",
    "\n",
    "#### Example A"
   ]
  },
  {
   "cell_type": "code",
   "execution_count": null,
   "id": "8172394d-582e-4e42-8047-33bb8fdd1b85",
   "metadata": {
    "tags": []
   },
   "outputs": [],
   "source": [
    "# 1. Display your workspace files directly in your notebook\n",
    "%openad list files"
   ]
  },
  {
   "cell_type": "code",
   "execution_count": null,
   "id": "c59cc6a5-a7d1-47cd-8b77-91c27d91bce0",
   "metadata": {
    "tags": []
   },
   "outputs": [],
   "source": [
    "# 2. Store your workspace files as a dataframe\n",
    "df = %openadd list files\n",
    "file_count = len(df.index)\n",
    "print(f'You have {file_count} files in your workspace.')"
   ]
  },
  {
   "cell_type": "markdown",
   "id": "7237d252-e1b3-40f0-b5bb-ec4d5f678e69",
   "metadata": {
    "tags": []
   },
   "source": [
    "#### Example B"
   ]
  },
  {
   "cell_type": "code",
   "execution_count": 20,
   "id": "53acba12-8e91-4d4c-a7ef-7544bd9869f6",
   "metadata": {
    "tags": []
   },
   "outputs": [
    {
     "data": {
      "text/markdown": [
       "CC(=O)OCC[N+](C)(C)C <br> \n"
      ],
      "text/plain": [
       "<IPython.core.display.Markdown object>"
      ]
     },
     "execution_count": 20,
     "metadata": {},
     "output_type": "execute_result"
    }
   ],
   "source": [
    "# Display a molecule's canonical SMILES\n",
    "%openad @acetylcholine>>canonical_smiles"
   ]
  },
  {
   "cell_type": "code",
   "execution_count": 22,
   "id": "78efddc9-2bab-424f-a849-51ca12d2bfae",
   "metadata": {
    "tags": []
   },
   "outputs": [
    {
     "name": "stdout",
     "output_type": "stream",
     "text": [
      "The canonical smiles of Acetylcholine is CC(=O)OCC[N+](C)(C)C\n"
     ]
    }
   ],
   "source": [
    "# Store a molecule's canonical SMILES in a variable\n",
    "smiles = %openadd @acetylcholine>>canonical_smiles\n",
    "print(f'The canonical smiles of Acetylcholine is {smiles}')"
   ]
  },
  {
   "cell_type": "markdown",
   "id": "48ff4d48-dbdc-4ea7-a2f7-4191dc9bca36",
   "metadata": {},
   "source": [
    "### Variable Substitution\n",
    "You an use variables inside a magic command."
   ]
  },
  {
   "cell_type": "code",
   "execution_count": null,
   "id": "2b53a42c-b5f7-479e-8d68-8835a67f6829",
   "metadata": {
    "tags": []
   },
   "outputs": [],
   "source": [
    "molecule_1 = 'dopamine'\n",
    "molecule_2 = 'C[C@]12CC[C@H]3[C@@H](CCC4=CC(=O)CC[C@@]43C)[C@@H]1CC[C@@H]2O'\n",
    "molecule_3 = 'VOXZDWNPVJITMN-ZBRFXRBCSA-N'\n",
    "\n",
    "%openad show mol {molecule_1}\n",
    "%openad show mol {molecule_2}\n",
    "%openad show mol {molecule_3}"
   ]
  }
 ],
 "metadata": {
  "kernelspec": {
   "display_name": "ad-venv",
   "language": "python",
   "name": "ad-venv"
  },
  "language_info": {
   "codemirror_mode": {
    "name": "ipython",
    "version": 3
   },
   "file_extension": ".py",
   "mimetype": "text/x-python",
   "name": "python",
   "nbconvert_exporter": "python",
   "pygments_lexer": "ipython3",
   "version": "3.10.14"
  }
 },
 "nbformat": 4,
 "nbformat_minor": 5
}
