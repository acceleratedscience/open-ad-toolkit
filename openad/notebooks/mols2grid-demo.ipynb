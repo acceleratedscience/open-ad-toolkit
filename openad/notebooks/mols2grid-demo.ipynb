{
 "cells": [
  {
   "cell_type": "code",
   "execution_count": null,
   "id": "ce7c81c3",
   "metadata": {},
   "outputs": [],
   "source": [
    "import mols2grid\n",
    "mols2grid.display('base_molecules.sdf',\n",
    "    subset=['NAME', 'SMILES', 'SOL'],\n",
    "    tooltip=['NAME', 'SOL', 'SOL_classification', 'SMILES'],\n",
    "    style={\"SOL\": lambda x: \"color: #d00\" if x < -5 else \"\"},\n",
    ")"
   ]
  },
  {
   "cell_type": "code",
   "execution_count": null,
   "id": "dcd749e9",
   "metadata": {},
   "outputs": [],
   "source": [
    "selection = mols2grid.get_selection()\n",
    "print(selection)"
   ]
  },
  {
   "cell_type": "code",
   "execution_count": null,
   "id": "f21f8adb-5d98-4d86-bbaf-6f74b8972a74",
   "metadata": {},
   "outputs": [],
   "source": []
  }
 ],
 "metadata": {
  "kernelspec": {
   "display_name": "ad-kernel",
   "language": "python",
   "name": "ad-kernel"
  },
  "language_info": {
   "codemirror_mode": {
    "name": "ipython",
    "version": 3
   },
   "file_extension": ".py",
   "mimetype": "text/x-python",
   "name": "python",
   "nbconvert_exporter": "python",
   "pygments_lexer": "ipython3",
   "version": "3.10.10"
  }
 },
 "nbformat": 4,
 "nbformat_minor": 5
}
