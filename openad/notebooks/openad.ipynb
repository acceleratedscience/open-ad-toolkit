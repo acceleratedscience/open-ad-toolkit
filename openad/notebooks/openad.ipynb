{
 "cells": [
  {
   "cell_type": "code",
   "execution_count": 2,
   "id": "9e8fd063",
   "metadata": {},
   "outputs": [],
   "source": [
    "import pandas\n",
    "import re\n",
    "import os\n",
    "import sys\n",
    "from IPython.core.magic import (Magics,magics_class,line_magic,cell_magic,line_cell_magic,needs_local_scope)\n",
    "from ipywidgets import HTML\n",
    "from ipywidgets.widgets import Output\n",
    "from IPython.core.interactiveshell import InteractiveShell\n",
    "InteractiveShell.ast_node_interactivity = \"all\"\n",
    "sys.path.insert(0, '../')\n",
    "os.sys.path.append(os.path.dirname(os.path.abspath('./')))\n",
    "module_path = os.path.abspath(os.path.join('..'))\n",
    "import openad.app.main\n",
    "context_cache      =  {'workspace':None,'toolkit':None}"
   ]
  },
  {
   "cell_type": "code",
   "execution_count": 2,
   "id": "d16afd52-64a5-4f4e-925e-f0b74c6ab075",
   "metadata": {},
   "outputs": [],
   "source": []
  },
  {
   "cell_type": "code",
   "execution_count": 1,
   "id": "530a0b30",
   "metadata": {},
   "outputs": [
    {
     "ename": "NameError",
     "evalue": "name 'magics_class' is not defined",
     "output_type": "error",
     "traceback": [
      "\u001b[0;31m---------------------------------------------------------------------------\u001b[0m",
      "\u001b[0;31mNameError\u001b[0m                                 Traceback (most recent call last)",
      "Cell \u001b[0;32mIn[1], line 1\u001b[0m\n\u001b[0;32m----> 1\u001b[0m \u001b[38;5;129m@magics_class\u001b[39m\n\u001b[1;32m      2\u001b[0m \u001b[38;5;28;01mclass\u001b[39;00m \u001b[38;5;21;01mAD\u001b[39;00m(Magics):\n\u001b[1;32m      3\u001b[0m     \u001b[38;5;129m@needs_local_scope\u001b[39m\n\u001b[1;32m      4\u001b[0m     \u001b[38;5;129m@line_cell_magic\u001b[39m\n\u001b[1;32m      5\u001b[0m     \n\u001b[1;32m      6\u001b[0m     \u001b[38;5;28;01mdef\u001b[39;00m \u001b[38;5;21madccl\u001b[39m(\u001b[38;5;28mself\u001b[39m,line,cell\u001b[38;5;241m=\u001b[39m\u001b[38;5;28;01mNone\u001b[39;00m, local_ns\u001b[38;5;241m=\u001b[39m\u001b[38;5;28;01mNone\u001b[39;00m):\n\u001b[1;32m      7\u001b[0m         line\u001b[38;5;241m=\u001b[39mline\u001b[38;5;241m.\u001b[39mreplace(\u001b[38;5;124m\"\u001b[39m\u001b[38;5;130;01m\\n\u001b[39;00m\u001b[38;5;124m\"\u001b[39m,\u001b[38;5;124m'\u001b[39m\u001b[38;5;124m'\u001b[39m)\n",
      "\u001b[0;31mNameError\u001b[0m: name 'magics_class' is not defined"
     ]
    }
   ],
   "source": [
    "@magics_class\n",
    "class AD(Magics):\n",
    "    \n",
    "    @needs_local_scope\n",
    "    @line_cell_magic\n",
    "    def openad(self,line,cell=None, local_ns=None):\n",
    "        \n",
    "        api_variable={}\n",
    "        \n",
    "        line_list= line.split()\n",
    "        x=len(line_list)\n",
    "        i=1\n",
    "        if x > 1:\n",
    "            while i < x:\n",
    "                if line_list[i-1].upper() == 'DATAFRAME':\n",
    "                    try:\n",
    "                        \n",
    "                        df = eval(line_list[i])\n",
    "                        \n",
    "                        if isinstance(df, pandas.DataFrame):\n",
    "                            api_variable[line_list[i]]=df\n",
    "                    except:\n",
    "                        pass\n",
    "                i+=1\n",
    "     \n",
    "        return openad.app.main.api_remote(line,context_cache,api_variable)\n",
    "      \n",
    "ip = get_ipython()\n",
    "ip.register_magics(AD)\n",
    "%load_ext AD"
   ]
  },
  {
   "cell_type": "code",
   "execution_count": null,
   "id": "73c7965c-2936-4818-8a27-eff2ab6f6d06",
   "metadata": {},
   "outputs": [],
   "source": []
  }
 ],
 "metadata": {
  "kernelspec": {
   "display_name": "ad-kernel",
   "language": "python",
   "name": "ad-kernel"
  },
  "language_info": {
   "codemirror_mode": {
    "name": "ipython",
    "version": 3
   },
   "file_extension": ".py",
   "mimetype": "text/x-python",
   "name": "python",
   "nbconvert_exporter": "python",
   "pygments_lexer": "ipython3",
   "version": "3.10.10"
  }
 },
 "nbformat": 4,
 "nbformat_minor": 5
}
