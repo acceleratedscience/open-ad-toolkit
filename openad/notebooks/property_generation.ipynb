{
 "cells": [
  {
   "cell_type": "markdown",
   "id": "1d9ab556-8ccc-43b1-ab98-3ba2060214f3",
   "metadata": {
    "tags": []
   },
   "source": [
    "# Property Generation of Molecules"
   ]
  },
  {
   "cell_type": "markdown",
   "id": "adfdb077-7f48-4dce-ad8d-87d64bbeb37d",
   "metadata": {},
   "source": [
    "<div>\n",
    "<img src=\"./media/genai.png\" left-align style=\" width: 500px; height: 300px\"/>\n",
    "</div>"
   ]
  },
  {
   "cell_type": "markdown",
   "id": "d41a375b-1f8e-4f74-b576-6f25eb25c8e5",
   "metadata": {
    "execution": {
     "iopub.execute_input": "2024-05-20T08:48:14.506325Z",
     "iopub.status.busy": "2024-05-20T08:48:14.506013Z",
     "iopub.status.idle": "2024-05-20T08:48:14.516372Z",
     "shell.execute_reply": "2024-05-20T08:48:14.514994Z",
     "shell.execute_reply.started": "2024-05-20T08:48:14.506298Z"
    },
    "tags": []
   },
   "source": [
    "To setup our services we will first catalog the services in our toolkit. The Property Prediction services we will catalog our Property services as 'prop'.\n",
    "\n",
    "This name will be the Namespace prefix for their respective services.\n",
    "\n",
    "### Catalog our Property Generation Models:\n",
    "\n",
    "Run the followng from your Openad Command line or from a notebook `%openad`\n",
    "\n",
    " `catalog model service from 'git@github.com:acceleratedscience/property_inference_service.git' as 'prop'`\n",
    "\n",
    "***To start the service:***\n",
    " \n",
    " `model service up  'prop'`\n"
   ]
  },
  {
   "cell_type": "code",
   "execution_count": null,
   "id": "427776b4-55a4-4b97-b3de-d540463a71cf",
   "metadata": {
    "tags": []
   },
   "outputs": [],
   "source": [
    "%openad model service status"
   ]
  },
  {
   "attachments": {
    "4e59c028-820d-4a5d-a293-38a0d0f4e363.png": {
     "image/png": "[encoded data removed]"
    },
    "bf84ece0-be81-428a-9978-783dc989484d.png": {
     "image/png": "[encoded data removed]"
    }
   },
   "cell_type": "markdown",
   "id": "cd062ef2-44af-402b-8336-3bd922e37d06",
   "metadata": {
    "execution": {
     "iopub.execute_input": "2024-05-15T06:04:04.652621Z",
     "iopub.status.busy": "2024-05-15T06:04:04.652025Z",
     "iopub.status.idle": "2024-05-15T06:04:04.662286Z",
     "shell.execute_reply": "2024-05-15T06:04:04.660633Z",
     "shell.execute_reply.started": "2024-05-15T06:04:04.652590Z"
    },
    "tags": []
   },
   "source": [
    "to make the newly cataloged service functions visable and usable you will need to restart the toolkit, this can be done simply by restarting the Notebook kernel. \n",
    "\n",
    "This can be done by choosing the recycle icon in the tool bar. ![Screenshot 2024-05-15 at 4.05.40 PM.png](attachment:bf84ece0-be81-428a-9978-783dc989484d.png)\n",
    "\n",
    "![Screenshot 2024-05-15 at 4.04.15 PM.png](attachment:4e59c028-820d-4a5d-a293-38a0d0f4e363.png)"
   ]
  },
  {
   "cell_type": "markdown",
   "id": "7ca5b906-ee39-4f6f-81f6-2074861f6231",
   "metadata": {},
   "source": [
    "Once you have done this we can view what functions are available for the proiperty service"
   ]
  },
  {
   "cell_type": "markdown",
   "id": "db547a07-7885-4241-85d7-a5f9779bb13e",
   "metadata": {},
   "source": [
    "## Working with OpenAD Magic Commands"
   ]
  },
  {
   "cell_type": "markdown",
   "id": "b7c7beb6-8012-4af1-be89-295dece22e8f",
   "metadata": {},
   "source": [
    "When using Magic commands to access the Openad toolkit you have 2 options \n",
    "\n",
    "1. `%openad` provides a simple user interface that provides styled and formatted objects back to the notebook. Tables use pandas Dataframe Styler object. These can be converted back to data frame objects using `.data` on the object or using the in memory assistant which will copy the last result to a file , dataframe or to the dataviewer.\n",
    "  When this is available you will see `Next up, you can run: result open/edit/copy/display/as dataframe/save [as '<filename.csv>']` in the output.\n",
    "  \n",
    "  This magic command is the recommended version to use as it willprovide all warning and results visually.\n",
    "  \n",
    "2. `%openadd` is the second form that allows you to return api style results in dataframe or list formats that can be used programatically for functions or flows in your notebook. This is good for prebuilt notebook process flows."
   ]
  },
  {
   "cell_type": "code",
   "execution_count": null,
   "id": "d9dfe610-8715-4f9f-bd57-0f0aa7825419",
   "metadata": {
    "tags": []
   },
   "outputs": [],
   "source": [
    "%openad prop get ?"
   ]
  },
  {
   "cell_type": "markdown",
   "id": "597370b0-70e1-4831-8605-59ae195a95b9",
   "metadata": {},
   "source": [
    "## Understanding Property Generation"
   ]
  },
  {
   "cell_type": "markdown",
   "id": "4737e6ee-c265-4b47-b87c-effa1de135a7",
   "metadata": {
    "tags": []
   },
   "source": [
    "Property Generation functions are available for Molecules, Proteins and Crystals.  When providing the identifier for one of those types of materials the property function will return a table with Subject of the query and the properties and their values that have been requested.\n",
    "\n",
    "Properties per function are grouped by the parameters and subject of the property request. Otherwise, a function may be able to produce multiple properties per subject. \n"
   ]
  },
  {
   "cell_type": "markdown",
   "id": "0a811710-4cf2-4b6f-af81-2861ab545334",
   "metadata": {},
   "source": [
    "When Specifying a list of properties or Subjects you need to place any subjects in multiples inside the list style brackes `[ ]`.\n",
    "\n",
    "However for for Molecules when in a list you must place spaces between the molecule Smiles string and the Opening and Closing brackets otherwise the bracket may appeart to the parser to be part of the SMILES string."
   ]
  },
  {
   "cell_type": "code",
   "execution_count": null,
   "id": "e51482e3-44fc-4172-92c7-2811365e9097",
   "metadata": {
    "tags": []
   },
   "outputs": [],
   "source": [
    "%openad prop get molecule property esol for ['C(C(C1C(=C(C(=O)O1)O)O)O)O','[H-]']\n",
    "\n",
    "# This is an example of using the `%openadd` option\n",
    "\n",
    "%openadd prop get molecule property [qed,esol] for 'C(C(C1C(=C(C(=O)O1)O)O)O)O'\n",
    "\n",
    "%openadd prop get molecule property [qed,esol] for [ C(C(C1C(=C(C(=O)O1)O)O)O)O ,[H-] ]\n",
    "\n",
    "%openadd prop get molecule property esol for C(C(C1C(=C(C(=O)O1)O)O)O)O\n",
    "\n",
    "result = %openadd prop get molecule property esol for [H-]\n",
    "print(\"This is an example of using the `%openadd` option as a variable  ! \\n\")\n",
    "print(result)"
   ]
  },
  {
   "cell_type": "markdown",
   "id": "1c021058-c097-488f-b64b-dfbff5d2785a",
   "metadata": {},
   "source": [
    "### Now lets open the result up and edit "
   ]
  },
  {
   "cell_type": "code",
   "execution_count": null,
   "id": "fd703868-61f4-43d8-b70d-55aae575f878",
   "metadata": {
    "tags": []
   },
   "outputs": [],
   "source": [
    "%openad  prop get molecule property [qed,esol] for [ C(C(C1C(=C(C(=O)O1)O)O)O)O ,[H-] ]\n"
   ]
  },
  {
   "cell_type": "code",
   "execution_count": null,
   "id": "0d6d96f3-69b8-4f25-b00c-9097f871b599",
   "metadata": {
    "tags": []
   },
   "outputs": [],
   "source": [
    "%openad result open"
   ]
  },
  {
   "cell_type": "markdown",
   "id": "33cb6e98-ea5c-4404-b758-ec71f48e89a4",
   "metadata": {
    "execution": {
     "iopub.execute_input": "2024-05-15T05:19:40.106407Z",
     "iopub.status.busy": "2024-05-15T05:19:40.106097Z",
     "iopub.status.idle": "2024-05-15T05:19:40.112016Z",
     "shell.execute_reply": "2024-05-15T05:19:40.111322Z",
     "shell.execute_reply.started": "2024-05-15T05:19:40.106381Z"
    },
    "tags": []
   },
   "source": [
    "### Here you can see different properties require different \"Required\" Parameters and Optional pattern that can use the `USING` Clause."
   ]
  },
  {
   "cell_type": "code",
   "execution_count": null,
   "id": "7067d570-a1f3-4d9f-9763-9c7aff2a5caa",
   "metadata": {
    "tags": []
   },
   "outputs": [],
   "source": [
    "%openadd prop get molecule property  scscore for 'C(C(C1C(=C(C(=O)O1)O)O)O)O'\n",
    "%openadd prop get molecule property activity_against_target for C(C(C1C(=C(C(=O)O1)O)O)O)O using(target=drd2)"
   ]
  },
  {
   "cell_type": "markdown",
   "id": "475f73ae-4627-4f1e-988c-ce1ab6c7b3e9",
   "metadata": {},
   "source": [
    "### Now lets learn about Substitution variables.\n",
    "\n",
    "When defining properties and molecules or for that matter, values in the using clause we can use Notebook substitution as you can see below with the properties molecule list variables."
   ]
  },
  {
   "cell_type": "code",
   "execution_count": null,
   "id": "ad3ec22b-359a-4085-9f9e-634613d7eae1",
   "metadata": {
    "tags": []
   },
   "outputs": [],
   "source": [
    "properties_all = ['molecular_weight', 'number_of_aromatic_rings', 'number_of_h_acceptors', 'number_of_atoms','number_of_rings', 'number_of_rotatable_bonds', 'number_of_large_rings', 'number_of_heterocycles', 'number_of_stereocenters','is_scaffold', 'bertz', 'tpsa', 'logp', 'qed', 'plogp', 'penalized_logp', 'lipinski', 'sas', 'esol']\n",
    "a_molecule_list = [ 'O=C(O)C(F)(OC(O)(F)C(F)(F)C(F)(F)F)C(F)(F)F', 'ON(O)C(F)(OC(F)(F)C(F)(F)C(F)(F)F)C(F)(F)F', 'C(C(C1C(=C(C(=O)O1)O)O)O)O' ]"
   ]
  },
  {
   "cell_type": "code",
   "execution_count": null,
   "id": "f05ef06f-860e-4923-bc31-7b814ee9dcb2",
   "metadata": {
    "scrolled": true,
    "tags": []
   },
   "outputs": [],
   "source": [
    "\n",
    "%openad prop get molecule property {properties_all} for  {a_molecule_list}"
   ]
  },
  {
   "cell_type": "code",
   "execution_count": null,
   "id": "8f12bab5-a1ac-4031-b5a2-0e85a77c9936",
   "metadata": {
    "tags": []
   },
   "outputs": [],
   "source": [
    "%openad prop get molecule property activity_against_target for {a_molecule_list} using(target=drd2)"
   ]
  },
  {
   "cell_type": "markdown",
   "id": "1802fbeb-ea56-4657-a67f-e453ca2fb61d",
   "metadata": {},
   "source": [
    "# For any property function you can view the compulsory and optional `USING` clause parameters using the interactive help"
   ]
  },
  {
   "cell_type": "code",
   "execution_count": null,
   "id": "0e4804a3-12ed-47fd-91ad-6a32982f287b",
   "metadata": {
    "tags": []
   },
   "outputs": [],
   "source": [
    "%openad prop get molecule ?"
   ]
  },
  {
   "cell_type": "markdown",
   "id": "25b15cb6-8eac-4525-94a1-f639f961ff52",
   "metadata": {
    "execution": {
     "iopub.execute_input": "2024-05-15T05:39:12.402233Z",
     "iopub.status.busy": "2024-05-15T05:39:12.401824Z",
     "iopub.status.idle": "2024-05-15T05:39:12.409873Z",
     "shell.execute_reply": "2024-05-15T05:39:12.408466Z",
     "shell.execute_reply.started": "2024-05-15T05:39:12.402207Z"
    },
    "tags": []
   },
   "source": [
    "To view individual property function help simply put ? after the unique string the command starts with and help will show you the Paramaters and Required Paramters for the using clause for the function. This will also show if the functions syntax is not used correctly."
   ]
  },
  {
   "cell_type": "code",
   "execution_count": null,
   "id": "88cb6f13-777f-432e-9444-328c6f8e8960",
   "metadata": {
    "tags": []
   },
   "outputs": [],
   "source": [
    "%openad prop get molecule property activity_against_target ?"
   ]
  },
  {
   "cell_type": "markdown",
   "id": "1d592179-0a9b-4894-8ec3-538b044448fa",
   "metadata": {},
   "source": [
    "## Now we will look at Protein Property functions, these behave similar to Molecules with multiple options "
   ]
  },
  {
   "cell_type": "code",
   "execution_count": null,
   "id": "8b52e6f9-7871-43c6-81a1-85112ece19d0",
   "metadata": {
    "tags": []
   },
   "outputs": [],
   "source": [
    "%openad prop get protein property ?"
   ]
  },
  {
   "cell_type": "code",
   "execution_count": null,
   "id": "b53edf26-f16f-491d-b244-3f0cd1be935c",
   "metadata": {
    "tags": []
   },
   "outputs": [],
   "source": [
    "proteins = ['MKYNNRKLSFNPTTVSIAGTLLTVFFLTRLVLSFFSISLFQLVTFQGIFKPYVPDFKNTPSVEFYDLRNYQGNKDGWQQGDRILFCVPLRDASEHLPMFFNHLNTMTYPHNLIDLSFLVSDSSDNTMGVLLSNLQMAQSQQDKSKRFGNIEIYEKDFGQIIGQSFSDRHGFGAQGPRRKLMARARNWLGSVALKPYHSWVYWRDVDVETIPTTIMEDLMHHDKDVIVPNVWRPLPDWLGNIQPYDLNSWKESEGGLQLADSLDEDAVIVEGYPEYATWRPHLAYMRDPNGNPEDEMELDGIGGVSILAKAKVFRTGSHFPAFSFEKHAETEAFGRLSRRMNYNVIGLPHYVIWHIYEPSSDDLKHMAWMAEEEKRKLEEERIREFYNKIWEIGFEDVRDQWNEERDSILKNIDSTLNNKVTVDWSEEGDGSELVDSKGDFVSPNNQQQQQQQQQQQQQQQQQQQQQQLDGNPQGKPLDDNDKNKKKHPKEVPLDFDPDRN','MQYLNFPRMPNIMMFLEVAILCLWVVADASASSAKFGSTTPASAQQSDVELEPINGTLNYRLYAKKGRDDKPWFDGLDSRHIQCVRRARCYPTSNATNTCFGSKLPYELSSLDLTDFHTEKELNDKLNDYYALKHVPKCWAAIQPFLCAVFKPKCEKINGEDMVYLPSYEMCRITMEPCRILYNTTFFPKFLRCNETLFPTKCTNGARGMKFNGTGQCLSPLVPTDTSASYYPGIEGCGVRCKDPLYTDDEHRQIHKLIGWAGSICLLSNLFVVSTFFIDWKNANKYPAVIVFYINLCFLIACVGWLLQFTSGSREDIVCRKDGTLRHSEPTAGENLSCIVIFVLVYYFLTAGMVWFVFLTYAWHWRAMGHVQDRIDKKGSYFHLVAWSLPLVLTITTMAFSEVDGNSIVGICFVGYINHSMRAGLLLGPLCGVILIGGYFITRGMVMLFGLKHFANDIKSTSASNKIHLIIMRMGVCALLTLVFILVAIACHVTEFRHADEWAQSFRQFIICKISSVFEEKSSCRIENRPSVGVLQLHLLCLFSSGIVMSTWCWTPSSIETWKRYIRKKCGKEVVEEVKMPKHKVIAQTWAKRKDFEDKGRLSITLYNTHTDPVGLNFDVNDLNSSETNDISSTWAAYLPQCVKRRMALTGAATGNSSSHGPRKNSLDSEISVSVRHVSVESRRNSVDSQVSVKIAEMKTKVASRSRGKHGGSSSNRRTQRRRDYIAAATGKSSRRRESSTSVESQVIALKKTTYPNASHKVGVFAHHSSKKQHNYTSSMKRRTANAGLDPSILNEFLQKNGDFIFPFLQNQDMSSSSEEDNSRASQKIQDLNVVVKQQEISEDDHDGIKIEELPNSKQVALENFLKNIKKSNESNSNRHSRNSARSQSKKSQKRHLKNPAADLDFRKDCVKYRSNDSLSCSSEELDVALDVGSLLNSSFSGISMGKPHSRNSKTSCDVGIQANPFELVPSYGEDELQQAMRLLNAASRQRTEAANEDFGGTELQGLLGHSHRHQREPTFMSESDKLKMLLLPSK']\n",
    "%openadd prop get protein property [ charge_density, charge ]  for ['MKYNNRKLSFNPTTVSIAGTLLTVFFLTRLVLSFFSISLFQLVTFQGIFKPYVPDFKNTPSVEFYDLRNYQGNKDGWQQGDRILFCVPLRDASEHLPMFFNHLNTMTYPHNLIDLSFLVSDSSDNTMGVLLSNLQMAQSQQDKSKRFGNIEIYEKDFGQIIGQSFSDRHGFGAQGPRRKLMARARNWLGSVALKPYHSWVYWRDVDVETIPTTIMEDLMHHDKDVIVPNVWRPLPDWLGNIQPYDLNSWKESEGGLQLADSLDEDAVIVEGYPEYATWRPHLAYMRDPNGNPEDEMELDGIGGVSILAKAKVFRTGSHFPAFSFEKHAETEAFGRLSRRMNYNVIGLPHYVIWHIYEPSSDDLKHMAWMAEEEKRKLEEERIREFYNKIWEIGFEDVRDQWNEERDSILKNIDSTLNNKVTVDWSEEGDGSELVDSKGDFVSPNNQQQQQQQQQQQQQQQQQQQQQQLDGNPQGKPLDDNDKNKKKHPKEVPLDFDPDRN','MQYLNFPRMPNIMMFLEVAILCLWVVADASASSAKFGSTTPASAQQSDVELEPINGTLNYRLYAKKGRDDKPWFDGLDSRHIQCVRRARCYPTSNATNTCFGSKLPYELSSLDLTDFHTEKELNDKLNDYYALKHVPKCWAAIQPFLCAVFKPKCEKINGEDMVYLPSYEMCRITMEPCRILYNTTFFPKFLRCNETLFPTKCTNGARGMKFNGTGQCLSPLVPTDTSASYYPGIEGCGVRCKDPLYTDDEHRQIHKLIGWAGSICLLSNLFVVSTFFIDWKNANKYPAVIVFYINLCFLIACVGWLLQFTSGSREDIVCRKDGTLRHSEPTAGENLSCIVIFVLVYYFLTAGMVWFVFLTYAWHWRAMGHVQDRIDKKGSYFHLVAWSLPLVLTITTMAFSEVDGNSIVGICFVGYINHSMRAGLLLGPLCGVILIGGYFITRGMVMLFGLKHFANDIKSTSASNKIHLIIMRMGVCALLTLVFILVAIACHVTEFRHADEWAQSFRQFIICKISSVFEEKSSCRIENRPSVGVLQLHLLCLFSSGIVMSTWCWTPSSIETWKRYIRKKCGKEVVEEVKMPKHKVIAQTWAKRKDFEDKGRLSITLYNTHTDPVGLNFDVNDLNSSETNDISSTWAAYLPQCVKRRMALTGAATGNSSSHGPRKNSLDSEISVSVRHVSVESRRNSVDSQVSVKIAEMKTKVASRSRGKHGGSSSNRRTQRRRDYIAAATGKSSRRRESSTSVESQVIALKKTTYPNASHKVGVFAHHSSKKQHNYTSSMKRRTANAGLDPSILNEFLQKNGDFIFPFLQNQDMSSSSEEDNSRASQKIQDLNVVVKQQEISEDDHDGIKIEELPNSKQVALENFLKNIKKSNESNSNRHSRNSARSQSKKSQKRHLKNPAADLDFRKDCVKYRSNDSLSCSSEELDVALDVGSLLNSSFSGISMGKPHSRNSKTSCDVGIQANPFELVPSYGEDELQQAMRLLNAASRQRTEAANEDFGGTELQGLLGHSHRHQREPTFMSESDKLKMLLLPSK']"
   ]
  },
  {
   "cell_type": "code",
   "execution_count": null,
   "id": "0a339d5c-33e0-4035-8a07-872bbf5bc36a",
   "metadata": {
    "tags": []
   },
   "outputs": [],
   "source": [
    "%openad prop get protein property [ charge_density ?"
   ]
  },
  {
   "cell_type": "code",
   "execution_count": null,
   "id": "fe282a33-475b-4c50-92e3-a53cb6ac43d2",
   "metadata": {
    "tags": []
   },
   "outputs": [],
   "source": [
    "%openad prop get protein property [ protein_weight, isoelectric_point ] for {proteins}"
   ]
  },
  {
   "cell_type": "code",
   "execution_count": null,
   "id": "7a39f65f-7a1c-4060-bd34-d3dee94e8974",
   "metadata": {
    "tags": []
   },
   "outputs": [],
   "source": [
    "%openad prop get protein property [ length, boman_index, aliphaticity, hydrophobicity, aromaticity, instability ]  for {proteins}"
   ]
  },
  {
   "cell_type": "markdown",
   "id": "01d9c0af-3e8a-431e-8154-1a942cfcd7ff",
   "metadata": {},
   "source": [
    "# Crystal Property functions"
   ]
  },
  {
   "cell_type": "markdown",
   "id": "8dacc8a1-ba76-4caa-8347-1043de4cb3f7",
   "metadata": {},
   "source": [
    "Crystal property functions operate differently, for all but one function they use `*.cif` files from a specified directory, and for the metal_nonmetal_classifier property uses a file named `crf_data.csv` from the provided directory."
   ]
  },
  {
   "cell_type": "code",
   "execution_count": null,
   "id": "5032f794-1cd7-462e-b7c5-b7edaf6a06d0",
   "metadata": {
    "tags": []
   },
   "outputs": [],
   "source": [
    "%openad ? crystal "
   ]
  },
  {
   "cell_type": "code",
   "execution_count": null,
   "id": "2303701b-bad1-4d08-a83e-1a76c319419c",
   "metadata": {
    "tags": []
   },
   "outputs": [],
   "source": [
    "directory = '~/openad_notebooks/crystals/'"
   ]
  },
  {
   "cell_type": "code",
   "execution_count": null,
   "id": "6ef22b0e-3b62-46a2-b8ad-760d365ffe10",
   "metadata": {
    "tags": []
   },
   "outputs": [],
   "source": [
    "%openadd prop get crystal property absolute_energy for '{directory}' using(algorithm_version=v0)"
   ]
  },
  {
   "cell_type": "code",
   "execution_count": null,
   "id": "6093d061-87d4-4291-ac9d-c2849bd1857d",
   "metadata": {
    "tags": []
   },
   "outputs": [],
   "source": [
    "\n",
    "%openadd prop get crystal property fermi_energy for '{directory}' using(algorithm_version=v0)\n",
    "%openadd prop get crystal property bulk_moduli for '{directory}' using(algorithm_version=v0)\n",
    "%openadd prop get crystal property poisson_ratio for '{directory}' using(algorithm_version=v0)\n",
    "%openadd prop get crystal property shear_moduli for '{directory}' using(algorithm_version=v0)\n",
    "%openadd prop get crystal property formation_energy for '{directory}' using(algorithm_version=v0)"
   ]
  },
  {
   "cell_type": "code",
   "execution_count": null,
   "id": "8abd5a55-9278-426f-8077-9a4a98747b28",
   "metadata": {
    "tags": []
   },
   "outputs": [],
   "source": [
    "%openadd prop get crystal property band_gap for '{directory}' using(algorithm_version=v0)"
   ]
  },
  {
   "cell_type": "code",
   "execution_count": null,
   "id": "bf735946-270e-460a-93aa-2c98aa3e45f4",
   "metadata": {
    "tags": []
   },
   "outputs": [],
   "source": [
    "%openadd prop get crystal property metal_semiconductor_classifier for '{directory}' using(algorithm_version=v0)"
   ]
  },
  {
   "cell_type": "code",
   "execution_count": null,
   "id": "e6a1a1b7-16fd-4dcb-8e95-0c490ad46ac1",
   "metadata": {
    "tags": []
   },
   "outputs": [],
   "source": [
    "file = '/Users/phildowney/services-build/Open-AD-Model-Service/openad-model-inference/gt4sd_common/gt4sd_common/properties/tests/'\n",
    "%openadd prop get crystal property metal_nonmetal_classifier for '{directory}' using(algorithm_version=v0)\n",
    "%openad prop get crystal property metal_nonmetal_classifier ?"
   ]
  },
  {
   "cell_type": "code",
   "execution_count": null,
   "id": "45e7e51a-94e0-4b89-a839-ec69a23e2880",
   "metadata": {},
   "outputs": [],
   "source": []
  },
  {
   "cell_type": "code",
   "execution_count": null,
   "id": "a8371e06-652e-4d11-a05f-b35580e945d8",
   "metadata": {},
   "outputs": [],
   "source": []
  }
 ],
 "metadata": {
  "kernelspec": {
   "display_name": "ad-venv",
   "language": "python",
   "name": "ad-venv"
  },
  "language_info": {
   "codemirror_mode": {
    "name": "ipython",
    "version": 3
   },
   "file_extension": ".py",
   "mimetype": "text/x-python",
   "name": "python",
   "nbconvert_exporter": "python",
   "pygments_lexer": "ipython3",
   "version": "3.11.7"
  }
 },
 "nbformat": 4,
 "nbformat_minor": 5
}
