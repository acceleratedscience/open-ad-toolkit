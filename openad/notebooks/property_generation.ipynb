{
 "cells": [
  {
   "cell_type": "markdown",
   "id": "1d9ab556-8ccc-43b1-ab98-3ba2060214f3",
   "metadata": {
    "tags": []
   },
   "source": [
    "# Property Generation of Molecules"
   ]
  },
  {
   "cell_type": "markdown",
   "id": "adfdb077-7f48-4dce-ad8d-87d64bbeb37d",
   "metadata": {},
   "source": [
    "<div>\n",
    "<img src=\"./media/genai.png\" left-align style=\" width: 500px; height: 300px\"/>\n",
    "</div>"
   ]
  },
  {
   "cell_type": "markdown",
   "id": "d41a375b-1f8e-4f74-b576-6f25eb25c8e5",
   "metadata": {
    "execution": {
     "iopub.execute_input": "2024-05-20T08:48:14.506325Z",
     "iopub.status.busy": "2024-05-20T08:48:14.506013Z",
     "iopub.status.idle": "2024-05-20T08:48:14.516372Z",
     "shell.execute_reply": "2024-05-20T08:48:14.514994Z",
     "shell.execute_reply.started": "2024-05-20T08:48:14.506298Z"
    },
    "tags": []
   },
   "source": [
    "To setup our services we will first catalog the services in our toolkit. The Property Prediction services we will catalog our Property services as 'prop'.\n",
    "\n",
    "This name will be the Namespace prefix for their respective services.\n",
    "\n",
    "### Catalog our Property Generation Models:\n",
    "\n",
    "Run the followng from your Openad Command line or from a notebook `%openad`\n",
    "\n",
    " `catalog model service from 'git@github.com:acceleratedscience/property_inference_service.git' as 'prop'`\n",
    "\n",
    "***To start the service:***\n",
    " \n",
    " `model service up  'prop'`\n"
   ]
  },
  {
   "cell_type": "markdown",
   "id": "9cf4bb1d-5957-42bf-a0b1-60142cfe8b56",
   "metadata": {},
   "source": [
    "### What is the Status of your Service ?"
   ]
  },
  {
   "cell_type": "code",
   "execution_count": null,
   "id": "427776b4-55a4-4b97-b3de-d540463a71cf",
   "metadata": {
    "execution": {
     "iopub.execute_input": "2024-05-23T04:44:52.588090Z",
     "iopub.status.busy": "2024-05-23T04:44:52.587791Z",
     "iopub.status.idle": "2024-05-23T04:45:05.607673Z",
     "shell.execute_reply": "2024-05-23T04:45:05.606258Z",
     "shell.execute_reply.started": "2024-05-23T04:44:52.588064Z"
    },
    "tags": []
   },
   "outputs": [],
   "source": [
    "%openad model service status"
   ]
  },
  {
   "cell_type": "markdown",
   "id": "db547a07-7885-4241-85d7-a5f9779bb13e",
   "metadata": {},
   "source": [
    "## Working with OpenAD Magic Commands"
   ]
  },
  {
   "cell_type": "markdown",
   "id": "b7c7beb6-8012-4af1-be89-295dece22e8f",
   "metadata": {},
   "source": [
    "When using Magic commands to access the Openad toolkit you have 2 options \n",
    "\n",
    "1. `%openad` provides a simple user interface that provides styled and formatted objects back to the notebook. Tables use pandas Dataframe Styler object. These can be converted back to data frame objects using `.data` on the object or using the in memory assistant which will copy the last result to a file , dataframe or to the dataviewer.\n",
    "  When this is available you will see `Next up, you can run: result open/edit/copy/display/as dataframe/save [as '<filename.csv>']` in the output.\n",
    "  \n",
    "  This magic command is the recommended version to use as it willprovide all warning and results visually.\n",
    "  \n",
    "2. `%openadd` is the second form that allows you to return api style results in dataframe or list formats that can be used programatically for functions or flows in your notebook. This is good for prebuilt notebook process flows."
   ]
  },
  {
   "cell_type": "code",
   "execution_count": null,
   "id": "d9dfe610-8715-4f9f-bd57-0f0aa7825419",
   "metadata": {
    "execution": {
     "iopub.execute_input": "2024-05-23T04:45:05.613690Z",
     "iopub.status.busy": "2024-05-23T04:45:05.613162Z",
     "iopub.status.idle": "2024-05-23T04:45:05.808284Z",
     "shell.execute_reply": "2024-05-23T04:45:05.802700Z",
     "shell.execute_reply.started": "2024-05-23T04:45:05.613641Z"
    },
    "tags": []
   },
   "outputs": [],
   "source": [
    "%openad prop get ?"
   ]
  },
  {
   "cell_type": "markdown",
   "id": "597370b0-70e1-4831-8605-59ae195a95b9",
   "metadata": {},
   "source": [
    "## Understanding Property Generation"
   ]
  },
  {
   "cell_type": "markdown",
   "id": "4737e6ee-c265-4b47-b87c-effa1de135a7",
   "metadata": {
    "tags": []
   },
   "source": [
    "Property Generation functions are available for Molecules, Proteins and Crystals.  When providing the identifier for one of those types of materials the property function will return a table with Subject of the query and the properties and their values that have been requested.\n",
    "\n",
    "Properties per function are grouped by the parameters and subject of the property request. Otherwise, a function may be able to produce multiple properties per subject. \n"
   ]
  },
  {
   "cell_type": "markdown",
   "id": "0a811710-4cf2-4b6f-af81-2861ab545334",
   "metadata": {},
   "source": [
    "When Specifying a list of properties or Subjects you need to place any subjects in multiples inside the list style brackes `[ ]`.\n",
    "\n",
    "However for for Molecules when in a list you must place spaces between the molecule Smiles string and the Opening and Closing brackets otherwise the bracket may appeart to the parser to be part of the SMILES string."
   ]
  },
  {
   "cell_type": "code",
   "execution_count": null,
   "id": "e51482e3-44fc-4172-92c7-2811365e9097",
   "metadata": {
    "execution": {
     "iopub.execute_input": "2024-05-23T04:45:05.812394Z",
     "iopub.status.busy": "2024-05-23T04:45:05.811918Z",
     "iopub.status.idle": "2024-05-23T04:45:25.942725Z",
     "shell.execute_reply": "2024-05-23T04:45:25.941934Z",
     "shell.execute_reply.started": "2024-05-23T04:45:05.812362Z"
    },
    "tags": []
   },
   "outputs": [],
   "source": [
    "%openad prop get molecule property esol for ['C(C(C1C(=C(C(=O)O1)O)O)O)O','[H-]']\n",
    "\n",
    "# This is an example of using the `%openadd` option\n",
    "\n",
    "%openadd prop get molecule property [qed,esol] for 'C(C(C1C(=C(C(=O)O1)O)O)O)O'\n",
    "\n",
    "%openadd prop get molecule property [qed,esol] for [ C(C(C1C(=C(C(=O)O1)O)O)O)O ,[H-] ]\n",
    "\n",
    "%openadd prop get molecule property esol for C(C(C1C(=C(C(=O)O1)O)O)O)O\n",
    "\n",
    "result = %openadd prop get molecule property esol for [H-]\n",
    "print(\"This is an example of using the `%openadd` option as a variable  ! \\n\")\n",
    "print(result)"
   ]
  },
  {
   "cell_type": "markdown",
   "id": "1c021058-c097-488f-b64b-dfbff5d2785a",
   "metadata": {},
   "source": [
    "### Now lets open the result up and edit "
   ]
  },
  {
   "cell_type": "code",
   "execution_count": null,
   "id": "fd703868-61f4-43d8-b70d-55aae575f878",
   "metadata": {
    "execution": {
     "iopub.execute_input": "2024-05-23T04:45:25.944332Z",
     "iopub.status.busy": "2024-05-23T04:45:25.944007Z",
     "iopub.status.idle": "2024-05-23T04:45:29.951804Z",
     "shell.execute_reply": "2024-05-23T04:45:29.951158Z",
     "shell.execute_reply.started": "2024-05-23T04:45:25.944303Z"
    },
    "tags": []
   },
   "outputs": [],
   "source": [
    "%openad  prop get molecule property [qed,esol] for [ C(C(C1C(=C(C(=O)O1)O)O)O)O ,[H-] ]\n"
   ]
  },
  {
   "cell_type": "code",
   "execution_count": null,
   "id": "0d6d96f3-69b8-4f25-b00c-9097f871b599",
   "metadata": {
    "execution": {
     "iopub.execute_input": "2024-05-23T04:45:29.955652Z",
     "iopub.status.busy": "2024-05-23T04:45:29.955439Z",
     "iopub.status.idle": "2024-05-23T04:45:30.133570Z",
     "shell.execute_reply": "2024-05-23T04:45:30.130773Z",
     "shell.execute_reply.started": "2024-05-23T04:45:29.955627Z"
    },
    "tags": []
   },
   "outputs": [],
   "source": [
    "%openad result open"
   ]
  },
  {
   "cell_type": "markdown",
   "id": "33cb6e98-ea5c-4404-b758-ec71f48e89a4",
   "metadata": {
    "execution": {
     "iopub.execute_input": "2024-05-15T05:19:40.106407Z",
     "iopub.status.busy": "2024-05-15T05:19:40.106097Z",
     "iopub.status.idle": "2024-05-15T05:19:40.112016Z",
     "shell.execute_reply": "2024-05-15T05:19:40.111322Z",
     "shell.execute_reply.started": "2024-05-15T05:19:40.106381Z"
    },
    "tags": []
   },
   "source": [
    "### Here you can see different properties require different \"Required\" Parameters and Optional pattern that can use the `USING` Clause."
   ]
  },
  {
   "cell_type": "code",
   "execution_count": null,
   "id": "7067d570-a1f3-4d9f-9763-9c7aff2a5caa",
   "metadata": {
    "execution": {
     "iopub.execute_input": "2024-05-23T04:47:13.171724Z",
     "iopub.status.busy": "2024-05-23T04:47:13.171341Z",
     "iopub.status.idle": "2024-05-23T04:47:22.142616Z",
     "shell.execute_reply": "2024-05-23T04:47:22.141809Z",
     "shell.execute_reply.started": "2024-05-23T04:47:13.171699Z"
    },
    "tags": []
   },
   "outputs": [],
   "source": [
    "%openadd prop get molecule property  scscore for 'C(C(C1C(=C(C(=O)O1)O)O)O)O'\n",
    "%openadd prop get molecule property activity_against_target for C(C(C1C(=C(C(=O)O1)O)O)O)O using(target=drd2)"
   ]
  },
  {
   "cell_type": "markdown",
   "id": "475f73ae-4627-4f1e-988c-ce1ab6c7b3e9",
   "metadata": {},
   "source": [
    "### Now lets learn about Substitution variables.\n",
    "\n",
    "When defining properties and molecules or for that matter, values in the using clause we can use Notebook substitution as you can see below with the properties molecule list variables."
   ]
  },
  {
   "cell_type": "code",
   "execution_count": null,
   "id": "ad3ec22b-359a-4085-9f9e-634613d7eae1",
   "metadata": {
    "execution": {
     "iopub.execute_input": "2024-05-23T04:47:22.161283Z",
     "iopub.status.busy": "2024-05-23T04:47:22.160928Z",
     "iopub.status.idle": "2024-05-23T04:47:22.166994Z",
     "shell.execute_reply": "2024-05-23T04:47:22.166407Z",
     "shell.execute_reply.started": "2024-05-23T04:47:22.161252Z"
    },
    "tags": []
   },
   "outputs": [],
   "source": [
    "properties_all = ['molecular_weight', 'number_of_aromatic_rings', 'number_of_h_acceptors', 'number_of_atoms','number_of_rings', 'number_of_rotatable_bonds', 'number_of_large_rings', 'number_of_heterocycles', 'number_of_stereocenters','is_scaffold', 'bertz', 'tpsa', 'logp', 'qed', 'plogp', 'penalized_logp', 'lipinski', 'sas', 'esol']\n",
    "a_molecule_list = [ 'O=C(O)C(F)(OC(O)(F)C(F)(F)C(F)(F)F)C(F)(F)F', 'ON(O)C(F)(OC(F)(F)C(F)(F)C(F)(F)F)C(F)(F)F', 'C(C(C1C(=C(C(=O)O1)O)O)O)O' ]"
   ]
  },
  {
   "cell_type": "code",
   "execution_count": null,
   "id": "f05ef06f-860e-4923-bc31-7b814ee9dcb2",
   "metadata": {
    "execution": {
     "iopub.execute_input": "2024-05-23T04:47:22.169993Z",
     "iopub.status.busy": "2024-05-23T04:47:22.169659Z",
     "iopub.status.idle": "2024-05-23T04:47:25.973527Z",
     "shell.execute_reply": "2024-05-23T04:47:25.972846Z",
     "shell.execute_reply.started": "2024-05-23T04:47:22.169965Z"
    },
    "scrolled": true,
    "tags": []
   },
   "outputs": [],
   "source": [
    "\n",
    "%openad prop get molecule property {properties_all} for  {a_molecule_list}"
   ]
  },
  {
   "cell_type": "code",
   "execution_count": null,
   "id": "8f12bab5-a1ac-4031-b5a2-0e85a77c9936",
   "metadata": {
    "execution": {
     "iopub.execute_input": "2024-05-23T04:47:25.976337Z",
     "iopub.status.busy": "2024-05-23T04:47:25.976047Z",
     "iopub.status.idle": "2024-05-23T04:47:30.364648Z",
     "shell.execute_reply": "2024-05-23T04:47:30.363858Z",
     "shell.execute_reply.started": "2024-05-23T04:47:25.976314Z"
    },
    "tags": []
   },
   "outputs": [],
   "source": [
    "%openad prop get molecule property activity_against_target for {a_molecule_list} using(target=drd2)"
   ]
  },
  {
   "cell_type": "markdown",
   "id": "1802fbeb-ea56-4657-a67f-e453ca2fb61d",
   "metadata": {},
   "source": [
    "# For any property function you can view the compulsory and optional `USING` clause parameters using the interactive help"
   ]
  },
  {
   "cell_type": "code",
   "execution_count": null,
   "id": "0e4804a3-12ed-47fd-91ad-6a32982f287b",
   "metadata": {
    "execution": {
     "iopub.execute_input": "2024-05-23T04:47:30.366224Z",
     "iopub.status.busy": "2024-05-23T04:47:30.365831Z",
     "iopub.status.idle": "2024-05-23T04:47:30.561729Z",
     "shell.execute_reply": "2024-05-23T04:47:30.561072Z",
     "shell.execute_reply.started": "2024-05-23T04:47:30.366192Z"
    },
    "tags": []
   },
   "outputs": [],
   "source": [
    "%openad prop get molecule ?"
   ]
  },
  {
   "cell_type": "markdown",
   "id": "25b15cb6-8eac-4525-94a1-f639f961ff52",
   "metadata": {
    "execution": {
     "iopub.execute_input": "2024-05-15T05:39:12.402233Z",
     "iopub.status.busy": "2024-05-15T05:39:12.401824Z",
     "iopub.status.idle": "2024-05-15T05:39:12.409873Z",
     "shell.execute_reply": "2024-05-15T05:39:12.408466Z",
     "shell.execute_reply.started": "2024-05-15T05:39:12.402207Z"
    },
    "tags": []
   },
   "source": [
    "To view individual property function help simply put ? after the unique string the command starts with and help will show you the Paramaters and Required Paramters for the using clause for the function. This will also show if the functions syntax is not used correctly."
   ]
  },
  {
   "cell_type": "code",
   "execution_count": null,
   "id": "88cb6f13-777f-432e-9444-328c6f8e8960",
   "metadata": {
    "execution": {
     "iopub.execute_input": "2024-05-23T04:47:30.564511Z",
     "iopub.status.busy": "2024-05-23T04:47:30.564177Z",
     "iopub.status.idle": "2024-05-23T04:47:30.720264Z",
     "shell.execute_reply": "2024-05-23T04:47:30.719584Z",
     "shell.execute_reply.started": "2024-05-23T04:47:30.564489Z"
    },
    "tags": []
   },
   "outputs": [],
   "source": [
    "%openad prop get molecule property activity_against_target ?"
   ]
  },
  {
   "cell_type": "markdown",
   "id": "1d592179-0a9b-4894-8ec3-538b044448fa",
   "metadata": {},
   "source": [
    "## Now we will look at Protein Property functions, these behave similar to Molecules with multiple options "
   ]
  },
  {
   "cell_type": "code",
   "execution_count": null,
   "id": "8b52e6f9-7871-43c6-81a1-85112ece19d0",
   "metadata": {
    "execution": {
     "iopub.execute_input": "2024-05-23T04:47:30.724219Z",
     "iopub.status.busy": "2024-05-23T04:47:30.723941Z",
     "iopub.status.idle": "2024-05-23T04:47:31.390342Z",
     "shell.execute_reply": "2024-05-23T04:47:31.389636Z",
     "shell.execute_reply.started": "2024-05-23T04:47:30.724198Z"
    },
    "tags": []
   },
   "outputs": [],
   "source": [
    "%openad prop get protein property ?"
   ]
  },
  {
   "cell_type": "code",
   "execution_count": null,
   "id": "b53edf26-f16f-491d-b244-3f0cd1be935c",
   "metadata": {
    "execution": {
     "iopub.execute_input": "2024-05-23T04:47:31.410996Z",
     "iopub.status.busy": "2024-05-23T04:47:31.410734Z",
     "iopub.status.idle": "2024-05-23T04:47:35.320992Z",
     "shell.execute_reply": "2024-05-23T04:47:35.320174Z",
     "shell.execute_reply.started": "2024-05-23T04:47:31.410975Z"
    },
    "tags": []
   },
   "outputs": [],
   "source": [
    "proteins = ['MKYNNRKLSFNPTTVSIAGTLLTVFFLTRLVLSFFSISLFQLVTFQGIFKPYVPDFKNTPSVEFYDLRNYQGNKDGWQQGDRILFCVPLRDASEHLPMFFNHLNTMTYPHNLIDLSFLVSDSSDNTMGVLLSNLQMAQSQQDKSKRFGNIEIYEKDFGQIIGQSFSDRHGFGAQGPRRKLMARARNWLGSVALKPYHSWVYWRDVDVETIPTTIMEDLMHHDKDVIVPNVWRPLPDWLGNIQPYDLNSWKESEGGLQLADSLDEDAVIVEGYPEYATWRPHLAYMRDPNGNPEDEMELDGIGGVSILAKAKVFRTGSHFPAFSFEKHAETEAFGRLSRRMNYNVIGLPHYVIWHIYEPSSDDLKHMAWMAEEEKRKLEEERIREFYNKIWEIGFEDVRDQWNEERDSILKNIDSTLNNKVTVDWSEEGDGSELVDSKGDFVSPNNQQQQQQQQQQQQQQQQQQQQQQLDGNPQGKPLDDNDKNKKKHPKEVPLDFDPDRN','MQYLNFPRMPNIMMFLEVAILCLWVVADASASSAKFGSTTPASAQQSDVELEPINGTLNYRLYAKKGRDDKPWFDGLDSRHIQCVRRARCYPTSNATNTCFGSKLPYELSSLDLTDFHTEKELNDKLNDYYALKHVPKCWAAIQPFLCAVFKPKCEKINGEDMVYLPSYEMCRITMEPCRILYNTTFFPKFLRCNETLFPTKCTNGARGMKFNGTGQCLSPLVPTDTSASYYPGIEGCGVRCKDPLYTDDEHRQIHKLIGWAGSICLLSNLFVVSTFFIDWKNANKYPAVIVFYINLCFLIACVGWLLQFTSGSREDIVCRKDGTLRHSEPTAGENLSCIVIFVLVYYFLTAGMVWFVFLTYAWHWRAMGHVQDRIDKKGSYFHLVAWSLPLVLTITTMAFSEVDGNSIVGICFVGYINHSMRAGLLLGPLCGVILIGGYFITRGMVMLFGLKHFANDIKSTSASNKIHLIIMRMGVCALLTLVFILVAIACHVTEFRHADEWAQSFRQFIICKISSVFEEKSSCRIENRPSVGVLQLHLLCLFSSGIVMSTWCWTPSSIETWKRYIRKKCGKEVVEEVKMPKHKVIAQTWAKRKDFEDKGRLSITLYNTHTDPVGLNFDVNDLNSSETNDISSTWAAYLPQCVKRRMALTGAATGNSSSHGPRKNSLDSEISVSVRHVSVESRRNSVDSQVSVKIAEMKTKVASRSRGKHGGSSSNRRTQRRRDYIAAATGKSSRRRESSTSVESQVIALKKTTYPNASHKVGVFAHHSSKKQHNYTSSMKRRTANAGLDPSILNEFLQKNGDFIFPFLQNQDMSSSSEEDNSRASQKIQDLNVVVKQQEISEDDHDGIKIEELPNSKQVALENFLKNIKKSNESNSNRHSRNSARSQSKKSQKRHLKNPAADLDFRKDCVKYRSNDSLSCSSEELDVALDVGSLLNSSFSGISMGKPHSRNSKTSCDVGIQANPFELVPSYGEDELQQAMRLLNAASRQRTEAANEDFGGTELQGLLGHSHRHQREPTFMSESDKLKMLLLPSK']\n",
    "%openadd prop get protein property [ charge_density, charge ]  for ['MKYNNRKLSFNPTTVSIAGTLLTVFFLTRLVLSFFSISLFQLVTFQGIFKPYVPDFKNTPSVEFYDLRNYQGNKDGWQQGDRILFCVPLRDASEHLPMFFNHLNTMTYPHNLIDLSFLVSDSSDNTMGVLLSNLQMAQSQQDKSKRFGNIEIYEKDFGQIIGQSFSDRHGFGAQGPRRKLMARARNWLGSVALKPYHSWVYWRDVDVETIPTTIMEDLMHHDKDVIVPNVWRPLPDWLGNIQPYDLNSWKESEGGLQLADSLDEDAVIVEGYPEYATWRPHLAYMRDPNGNPEDEMELDGIGGVSILAKAKVFRTGSHFPAFSFEKHAETEAFGRLSRRMNYNVIGLPHYVIWHIYEPSSDDLKHMAWMAEEEKRKLEEERIREFYNKIWEIGFEDVRDQWNEERDSILKNIDSTLNNKVTVDWSEEGDGSELVDSKGDFVSPNNQQQQQQQQQQQQQQQQQQQQQQLDGNPQGKPLDDNDKNKKKHPKEVPLDFDPDRN','MQYLNFPRMPNIMMFLEVAILCLWVVADASASSAKFGSTTPASAQQSDVELEPINGTLNYRLYAKKGRDDKPWFDGLDSRHIQCVRRARCYPTSNATNTCFGSKLPYELSSLDLTDFHTEKELNDKLNDYYALKHVPKCWAAIQPFLCAVFKPKCEKINGEDMVYLPSYEMCRITMEPCRILYNTTFFPKFLRCNETLFPTKCTNGARGMKFNGTGQCLSPLVPTDTSASYYPGIEGCGVRCKDPLYTDDEHRQIHKLIGWAGSICLLSNLFVVSTFFIDWKNANKYPAVIVFYINLCFLIACVGWLLQFTSGSREDIVCRKDGTLRHSEPTAGENLSCIVIFVLVYYFLTAGMVWFVFLTYAWHWRAMGHVQDRIDKKGSYFHLVAWSLPLVLTITTMAFSEVDGNSIVGICFVGYINHSMRAGLLLGPLCGVILIGGYFITRGMVMLFGLKHFANDIKSTSASNKIHLIIMRMGVCALLTLVFILVAIACHVTEFRHADEWAQSFRQFIICKISSVFEEKSSCRIENRPSVGVLQLHLLCLFSSGIVMSTWCWTPSSIETWKRYIRKKCGKEVVEEVKMPKHKVIAQTWAKRKDFEDKGRLSITLYNTHTDPVGLNFDVNDLNSSETNDISSTWAAYLPQCVKRRMALTGAATGNSSSHGPRKNSLDSEISVSVRHVSVESRRNSVDSQVSVKIAEMKTKVASRSRGKHGGSSSNRRTQRRRDYIAAATGKSSRRRESSTSVESQVIALKKTTYPNASHKVGVFAHHSSKKQHNYTSSMKRRTANAGLDPSILNEFLQKNGDFIFPFLQNQDMSSSSEEDNSRASQKIQDLNVVVKQQEISEDDHDGIKIEELPNSKQVALENFLKNIKKSNESNSNRHSRNSARSQSKKSQKRHLKNPAADLDFRKDCVKYRSNDSLSCSSEELDVALDVGSLLNSSFSGISMGKPHSRNSKTSCDVGIQANPFELVPSYGEDELQQAMRLLNAASRQRTEAANEDFGGTELQGLLGHSHRHQREPTFMSESDKLKMLLLPSK']"
   ]
  },
  {
   "cell_type": "code",
   "execution_count": null,
   "id": "0a339d5c-33e0-4035-8a07-872bbf5bc36a",
   "metadata": {
    "execution": {
     "iopub.execute_input": "2024-05-23T04:47:35.322564Z",
     "iopub.status.busy": "2024-05-23T04:47:35.322226Z",
     "iopub.status.idle": "2024-05-23T04:47:35.483783Z",
     "shell.execute_reply": "2024-05-23T04:47:35.483158Z",
     "shell.execute_reply.started": "2024-05-23T04:47:35.322537Z"
    },
    "tags": []
   },
   "outputs": [],
   "source": [
    "%openad prop get protein property [ charge_density ?"
   ]
  },
  {
   "cell_type": "code",
   "execution_count": null,
   "id": "fe282a33-475b-4c50-92e3-a53cb6ac43d2",
   "metadata": {
    "execution": {
     "iopub.execute_input": "2024-05-23T04:47:35.486827Z",
     "iopub.status.busy": "2024-05-23T04:47:35.486453Z",
     "iopub.status.idle": "2024-05-23T04:47:39.592640Z",
     "shell.execute_reply": "2024-05-23T04:47:39.591907Z",
     "shell.execute_reply.started": "2024-05-23T04:47:35.486804Z"
    },
    "tags": []
   },
   "outputs": [],
   "source": [
    "%openad prop get protein property [ protein_weight, isoelectric_point ] for {proteins}"
   ]
  },
  {
   "cell_type": "code",
   "execution_count": null,
   "id": "7a39f65f-7a1c-4060-bd34-d3dee94e8974",
   "metadata": {
    "execution": {
     "iopub.execute_input": "2024-05-23T04:47:39.644457Z",
     "iopub.status.busy": "2024-05-23T04:47:39.644280Z",
     "iopub.status.idle": "2024-05-23T04:47:43.595578Z",
     "shell.execute_reply": "2024-05-23T04:47:43.594727Z",
     "shell.execute_reply.started": "2024-05-23T04:47:39.644438Z"
    },
    "tags": []
   },
   "outputs": [],
   "source": [
    "%openad prop get protein property [ length, boman_index, aliphaticity, hydrophobicity, aromaticity, instability ]  for {proteins}"
   ]
  },
  {
   "cell_type": "markdown",
   "id": "01d9c0af-3e8a-431e-8154-1a942cfcd7ff",
   "metadata": {},
   "source": [
    "# Crystal Property functions"
   ]
  },
  {
   "cell_type": "markdown",
   "id": "8dacc8a1-ba76-4caa-8347-1043de4cb3f7",
   "metadata": {},
   "source": [
    "Crystal property functions operate differently, for all but one function they use `*.cif` files from a specified directory, and for the metal_nonmetal_classifier property uses a file named `crf_data.csv` from the provided directory."
   ]
  },
  {
   "cell_type": "code",
   "execution_count": null,
   "id": "5032f794-1cd7-462e-b7c5-b7edaf6a06d0",
   "metadata": {
    "execution": {
     "iopub.execute_input": "2024-05-23T02:31:16.591293Z",
     "iopub.status.busy": "2024-05-23T02:31:16.590890Z",
     "iopub.status.idle": "2024-05-23T02:31:17.132461Z",
     "shell.execute_reply": "2024-05-23T02:31:17.131719Z",
     "shell.execute_reply.started": "2024-05-23T02:31:16.591269Z"
    },
    "tags": []
   },
   "outputs": [],
   "source": [
    "%openad ? crystal "
   ]
  },
  {
   "cell_type": "code",
   "execution_count": null,
   "id": "2303701b-bad1-4d08-a83e-1a76c319419c",
   "metadata": {
    "execution": {
     "iopub.execute_input": "2024-05-23T02:31:17.133947Z",
     "iopub.status.busy": "2024-05-23T02:31:17.133662Z",
     "iopub.status.idle": "2024-05-23T02:31:17.139739Z",
     "shell.execute_reply": "2024-05-23T02:31:17.139068Z",
     "shell.execute_reply.started": "2024-05-23T02:31:17.133924Z"
    },
    "tags": []
   },
   "outputs": [],
   "source": [
    "directory = '~/openad_notebooks/crystals/'"
   ]
  },
  {
   "cell_type": "code",
   "execution_count": null,
   "id": "6ef22b0e-3b62-46a2-b8ad-760d365ffe10",
   "metadata": {
    "execution": {
     "iopub.execute_input": "2024-05-23T02:31:17.140859Z",
     "iopub.status.busy": "2024-05-23T02:31:17.140562Z",
     "iopub.status.idle": "2024-05-23T02:31:24.507549Z",
     "shell.execute_reply": "2024-05-23T02:31:24.506726Z",
     "shell.execute_reply.started": "2024-05-23T02:31:17.140836Z"
    },
    "tags": []
   },
   "outputs": [],
   "source": [
    "%openadd prop get crystal property absolute_energy for '{directory}' using(algorithm_version=v0)"
   ]
  },
  {
   "cell_type": "code",
   "execution_count": null,
   "id": "6093d061-87d4-4291-ac9d-c2849bd1857d",
   "metadata": {
    "execution": {
     "iopub.execute_input": "2024-05-23T02:31:24.509236Z",
     "iopub.status.busy": "2024-05-23T02:31:24.508806Z",
     "iopub.status.idle": "2024-05-23T02:31:56.493855Z",
     "shell.execute_reply": "2024-05-23T02:31:56.493096Z",
     "shell.execute_reply.started": "2024-05-23T02:31:24.509210Z"
    },
    "tags": []
   },
   "outputs": [],
   "source": [
    "\n",
    "%openadd prop get crystal property fermi_energy for '{directory}' using(algorithm_version=v0)\n",
    "%openadd prop get crystal property bulk_moduli for '{directory}' using(algorithm_version=v0)\n",
    "%openadd prop get crystal property poisson_ratio for '{directory}' using(algorithm_version=v0)\n",
    "%openadd prop get crystal property shear_moduli for '{directory}' using(algorithm_version=v0)\n",
    "%openadd prop get crystal property formation_energy for '{directory}' using(algorithm_version=v0)"
   ]
  },
  {
   "cell_type": "code",
   "execution_count": null,
   "id": "8abd5a55-9278-426f-8077-9a4a98747b28",
   "metadata": {
    "execution": {
     "iopub.execute_input": "2024-05-23T02:31:56.500358Z",
     "iopub.status.busy": "2024-05-23T02:31:56.500055Z",
     "iopub.status.idle": "2024-05-23T02:32:02.398209Z",
     "shell.execute_reply": "2024-05-23T02:32:02.397326Z",
     "shell.execute_reply.started": "2024-05-23T02:31:56.500335Z"
    },
    "tags": []
   },
   "outputs": [],
   "source": [
    "%openadd prop get crystal property band_gap for '{directory}' using(algorithm_version=v0)"
   ]
  },
  {
   "cell_type": "code",
   "execution_count": null,
   "id": "bf735946-270e-460a-93aa-2c98aa3e45f4",
   "metadata": {
    "execution": {
     "iopub.execute_input": "2024-05-23T02:32:02.399560Z",
     "iopub.status.busy": "2024-05-23T02:32:02.399217Z",
     "iopub.status.idle": "2024-05-23T02:32:09.057913Z",
     "shell.execute_reply": "2024-05-23T02:32:09.056789Z",
     "shell.execute_reply.started": "2024-05-23T02:32:02.399494Z"
    },
    "tags": []
   },
   "outputs": [],
   "source": [
    "%openadd prop get crystal property metal_semiconductor_classifier for '{directory}' using(algorithm_version=v0)"
   ]
  },
  {
   "cell_type": "code",
   "execution_count": null,
   "id": "e6a1a1b7-16fd-4dcb-8e95-0c490ad46ac1",
   "metadata": {
    "execution": {
     "iopub.execute_input": "2024-05-23T02:32:09.059958Z",
     "iopub.status.busy": "2024-05-23T02:32:09.059335Z",
     "iopub.status.idle": "2024-05-23T02:32:16.526046Z",
     "shell.execute_reply": "2024-05-23T02:32:16.525478Z",
     "shell.execute_reply.started": "2024-05-23T02:32:09.059929Z"
    },
    "tags": []
   },
   "outputs": [],
   "source": [
    "file = '/Users/phildowney/services-build/Open-AD-Model-Service/openad-model-inference/gt4sd_common/gt4sd_common/properties/tests/'\n",
    "%openadd prop get crystal property metal_nonmetal_classifier for '{directory}' using(algorithm_version=v0)\n",
    "%openad prop get crystal property metal_nonmetal_classifier ?"
   ]
  },
  {
   "cell_type": "markdown",
   "id": "aacd55f5-d3f7-421f-bb12-3906f8a89352",
   "metadata": {},
   "source": [
    "# Molformer Service"
   ]
  },
  {
   "cell_type": "markdown",
   "id": "9be98d7d-e90f-4d69-ba83-e5d2a1f44b88",
   "metadata": {},
   "source": [
    "If you have cataloged the molformer service the following Property Inferernces can run"
   ]
  },
  {
   "cell_type": "code",
   "execution_count": null,
   "id": "17f6b479-2a29-4557-97ce-9e53dbbe421b",
   "metadata": {
    "execution": {
     "iopub.execute_input": "2024-05-23T02:32:16.528926Z",
     "iopub.status.busy": "2024-05-23T02:32:16.528544Z",
     "iopub.status.idle": "2024-05-23T02:32:16.533738Z",
     "shell.execute_reply": "2024-05-23T02:32:16.533115Z",
     "shell.execute_reply.started": "2024-05-23T02:32:16.528904Z"
    },
    "tags": []
   },
   "outputs": [],
   "source": [
    "MOL_LIST = ['O=S(=O)(F)C(F)(F)C(F)(F)C(F)(F)C(F)(F)C(F)(F)C(F)(F)C(F)(F)C(F)(F)F','C12C=CC=NN1C(C#CC1=C(C)C=CC3C(NC4=CC(C(F)(F)F)=CC=C4)=NOC1=3)=CN=2','NCCCCC',\\\n",
    "            'BrC1=CC=NC2=CC=CC=C12', 'CCOC(=O)[C@H](CCC1=CC=CC=C1)N[C@@H](C)C(=O)N2[C@H]3CCC[C@H]3C[C@H]2C(=O)O']"
   ]
  },
  {
   "cell_type": "code",
   "execution_count": null,
   "id": "6a3c6bf1-be2a-4391-b1c7-6483987b237d",
   "metadata": {
    "execution": {
     "iopub.execute_input": "2024-05-23T02:32:16.534988Z",
     "iopub.status.busy": "2024-05-23T02:32:16.534529Z",
     "iopub.status.idle": "2024-05-23T02:32:16.757751Z",
     "shell.execute_reply": "2024-05-23T02:32:16.757144Z",
     "shell.execute_reply.started": "2024-05-23T02:32:16.534965Z"
    },
    "tags": []
   },
   "outputs": [],
   "source": [
    "%openad molf get molecule property molformer_regression for {MOL_LIST}"
   ]
  },
  {
   "cell_type": "code",
   "execution_count": null,
   "id": "a2cceae5-07e8-49e3-85e9-9458a3bc6d31",
   "metadata": {
    "execution": {
     "iopub.execute_input": "2024-05-23T02:32:16.759017Z",
     "iopub.status.busy": "2024-05-23T02:32:16.758744Z",
     "iopub.status.idle": "2024-05-23T02:32:16.968606Z",
     "shell.execute_reply": "2024-05-23T02:32:16.967908Z",
     "shell.execute_reply.started": "2024-05-23T02:32:16.758996Z"
    },
    "tags": []
   },
   "outputs": [],
   "source": [
    "%openad molf get molecule property molformer_classification for {MOL_LIST}"
   ]
  },
  {
   "cell_type": "code",
   "execution_count": null,
   "id": "1f17d407-4bd9-4734-801b-7d3a767a43ac",
   "metadata": {
    "execution": {
     "iopub.execute_input": "2024-05-23T02:32:16.970130Z",
     "iopub.status.busy": "2024-05-23T02:32:16.969731Z",
     "iopub.status.idle": "2024-05-23T02:32:17.837821Z",
     "shell.execute_reply": "2024-05-23T02:32:17.837183Z",
     "shell.execute_reply.started": "2024-05-23T02:32:16.970107Z"
    },
    "tags": []
   },
   "outputs": [],
   "source": [
    "%openad molf get molecule property molformer_multitask_classification for {MOL_LIST}"
   ]
  },
  {
   "cell_type": "code",
   "execution_count": null,
   "id": "12bd425b-b016-46cc-9e24-c7247a69e2ac",
   "metadata": {},
   "outputs": [],
   "source": []
  },
  {
   "cell_type": "code",
   "execution_count": null,
   "id": "5fadcf84-a267-478b-b3e7-86a47bb6146f",
   "metadata": {},
   "outputs": [],
   "source": []
  }
 ],
 "metadata": {
  "kernelspec": {
   "display_name": "ad-venv",
   "language": "python",
   "name": "ad-venv"
  },
  "language_info": {
   "codemirror_mode": {
    "name": "ipython",
    "version": 3
   },
   "file_extension": ".py",
   "mimetype": "text/x-python",
   "name": "python",
   "nbconvert_exporter": "python",
   "pygments_lexer": "ipython3",
   "version": "3.11.7"
  }
 },
 "nbformat": 4,
 "nbformat_minor": 5
}
