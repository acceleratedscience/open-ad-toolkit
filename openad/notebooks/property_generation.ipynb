{
 "cells": [
  {
   "cell_type": "markdown",
   "id": "1d9ab556-8ccc-43b1-ab98-3ba2060214f3",
   "metadata": {
    "tags": []
   },
   "source": [
    "# Property Generation of Molecules"
   ]
  },
  {
   "cell_type": "markdown",
   "id": "adfdb077-7f48-4dce-ad8d-87d64bbeb37d",
   "metadata": {},
   "source": [
    "<div>\n",
    "<img src=\"./media/genai.png\" left-align style=\" width: 500px; height: 300px\"/>\n",
    "</div>"
   ]
  },
  {
   "cell_type": "markdown",
   "id": "d41a375b-1f8e-4f74-b576-6f25eb25c8e5",
   "metadata": {
    "execution": {
     "iopub.execute_input": "2024-05-20T08:48:14.506325Z",
     "iopub.status.busy": "2024-05-20T08:48:14.506013Z",
     "iopub.status.idle": "2024-05-20T08:48:14.516372Z",
     "shell.execute_reply": "2024-05-20T08:48:14.514994Z",
     "shell.execute_reply.started": "2024-05-20T08:48:14.506298Z"
    },
    "tags": []
   },
   "source": [
    "To setup our services we will first catalog the services in our toolkit. The Property Prediction services we will catalog our Property services as 'prop'.\n",
    "\n",
    "This name will be the Namespace prefix for their respective services.\n",
    "\n",
    "### Catalog our Property Generation Models:\n",
    "\n",
    "Run the followng from your Openad Command line or from a notebook `%openad`\n",
    "\n",
    " `catalog model service from 'git@github.com:acceleratedscience/property_inference_service.git' as 'prop'`\n",
    "\n",
    "***To start the service:***\n",
    " \n",
    " `model service up  'prop'`\n"
   ]
  },
  {
   "cell_type": "markdown",
   "id": "9cf4bb1d-5957-42bf-a0b1-60142cfe8b56",
   "metadata": {},
   "source": [
    "### What is the Status of your Service ?"
   ]
  },
  {
   "cell_type": "code",
   "execution_count": 1,
   "id": "427776b4-55a4-4b97-b3de-d540463a71cf",
   "metadata": {
    "execution": {
     "iopub.execute_input": "2024-05-23T04:44:52.588090Z",
     "iopub.status.busy": "2024-05-23T04:44:52.587791Z",
     "iopub.status.idle": "2024-05-23T04:45:05.607673Z",
     "shell.execute_reply": "2024-05-23T04:45:05.606258Z",
     "shell.execute_reply.started": "2024-05-23T04:44:52.588064Z"
    },
    "tags": []
   },
   "outputs": [
    {
     "data": {
      "text/markdown": [
       "<span style=\"color: #090\">Logged into DS4SD as </span>phil.downey1@ibm.com<span style=\"color: #090\"> <br> \n",
       "Workspace:</span> DEFAULT <br> \n"
      ],
      "text/plain": [
       "<IPython.core.display.Markdown object>"
      ]
     },
     "metadata": {},
     "output_type": "display_data"
    },
    {
     "data": {
      "application/vnd.jupyter.widget-view+json": {
       "model_id": "6e2adc208c094806a210320a5004210f",
       "version_major": 2,
       "version_minor": 0
      },
      "text/plain": [
       "Output()"
      ]
     },
     "metadata": {},
     "output_type": "display_data"
    },
    {
     "data": {
      "text/markdown": [
       "<span style=\"color: #ccc\">Next up, you can run: </span>`result open`/`edit`/`copy`/`display`/`as dataframe`/`save [as '<filename.csv>']` <br> \n"
      ],
      "text/plain": [
       "<IPython.core.display.Markdown object>"
      ]
     },
     "metadata": {},
     "output_type": "display_data"
    },
    {
     "data": {
      "text/html": [
       "<style type=\"text/css\">\n",
       "</style>\n",
       "<table id=\"T_f49f1\">\n",
       "  <thead>\n",
       "    <tr>\n",
       "      <th id=\"T_f49f1_level0_col0\" class=\"col_heading level0 col0\" >Service</th>\n",
       "      <th id=\"T_f49f1_level0_col1\" class=\"col_heading level0 col1\" >Status</th>\n",
       "      <th id=\"T_f49f1_level0_col2\" class=\"col_heading level0 col2\" >Endpoint</th>\n",
       "      <th id=\"T_f49f1_level0_col3\" class=\"col_heading level0 col3\" >Type</th>\n",
       "    </tr>\n",
       "  </thead>\n",
       "  <tbody>\n",
       "    <tr>\n",
       "      <td id=\"T_f49f1_row0_col0\" class=\"data row0 col0\" >gen</td>\n",
       "      <td id=\"T_f49f1_row0_col1\" class=\"data row0 col1\" >DOWN</td>\n",
       "      <td id=\"T_f49f1_row0_col2\" class=\"data row0 col2\" >None</td>\n",
       "      <td id=\"T_f49f1_row0_col3\" class=\"data row0 col3\" >local</td>\n",
       "    </tr>\n",
       "    <tr>\n",
       "      <td id=\"T_f49f1_row1_col0\" class=\"data row1 col0\" >moler</td>\n",
       "      <td id=\"T_f49f1_row1_col1\" class=\"data row1 col1\" >DOWN</td>\n",
       "      <td id=\"T_f49f1_row1_col2\" class=\"data row1 col2\" >None</td>\n",
       "      <td id=\"T_f49f1_row1_col3\" class=\"data row1 col3\" >local</td>\n",
       "    </tr>\n",
       "    <tr>\n",
       "      <td id=\"T_f49f1_row2_col0\" class=\"data row2 col0\" >molf</td>\n",
       "      <td id=\"T_f49f1_row2_col1\" class=\"data row2 col1\" >DOWN</td>\n",
       "      <td id=\"T_f49f1_row2_col2\" class=\"data row2 col2\" >None</td>\n",
       "      <td id=\"T_f49f1_row2_col3\" class=\"data row2 col3\" >local</td>\n",
       "    </tr>\n",
       "    <tr>\n",
       "      <td id=\"T_f49f1_row3_col0\" class=\"data row3 col0\" >prop</td>\n",
       "      <td id=\"T_f49f1_row3_col1\" class=\"data row3 col1\" >READY</td>\n",
       "      <td id=\"T_f49f1_row3_col2\" class=\"data row3 col2\" >http://54.235.3.243:30001</td>\n",
       "      <td id=\"T_f49f1_row3_col3\" class=\"data row3 col3\" >local</td>\n",
       "    </tr>\n",
       "  </tbody>\n",
       "</table>\n"
      ],
      "text/plain": [
       "<pandas.io.formats.style.Styler at 0x12afbc3d0>"
      ]
     },
     "execution_count": 1,
     "metadata": {},
     "output_type": "execute_result"
    }
   ],
   "source": [
    "%openad model service status"
   ]
  },
  {
   "cell_type": "markdown",
   "id": "db547a07-7885-4241-85d7-a5f9779bb13e",
   "metadata": {},
   "source": [
    "## Working with OpenAD Magic Commands"
   ]
  },
  {
   "cell_type": "markdown",
   "id": "b7c7beb6-8012-4af1-be89-295dece22e8f",
   "metadata": {},
   "source": [
    "When using Magic commands to access the Openad toolkit you have 2 options \n",
    "\n",
    "1. `%openad` provides a simple user interface that provides styled and formatted objects back to the notebook. Tables use pandas Dataframe Styler object. These can be converted back to data frame objects using `.data` on the object or using the in memory assistant which will copy the last result to a file , dataframe or to the dataviewer.\n",
    "  When this is available you will see `Next up, you can run: result open/edit/copy/display/as dataframe/save [as '<filename.csv>']` in the output.\n",
    "  \n",
    "  This magic command is the recommended version to use as it willprovide all warning and results visually.\n",
    "  \n",
    "2. `%openadd` is the second form that allows you to return api style results in dataframe or list formats that can be used programatically for functions or flows in your notebook. This is good for prebuilt notebook process flows."
   ]
  },
  {
   "cell_type": "code",
   "execution_count": 2,
   "id": "d9dfe610-8715-4f9f-bd57-0f0aa7825419",
   "metadata": {
    "execution": {
     "iopub.execute_input": "2024-05-23T04:45:05.613690Z",
     "iopub.status.busy": "2024-05-23T04:45:05.613162Z",
     "iopub.status.idle": "2024-05-23T04:45:05.808284Z",
     "shell.execute_reply": "2024-05-23T04:45:05.802700Z",
     "shell.execute_reply.started": "2024-05-23T04:45:05.613641Z"
    },
    "tags": []
   },
   "outputs": [
    {
     "data": {
      "text/markdown": [
       "<span style=\"color: #dc0\">Commands starting with \"prop get\"</span> <br> \n",
       "- `prop get molecule property activity_against_target for [<list of SMILES>] | <SMILES>   USING (<parameter>=<value> <parameter>=<value>) (save_as '<filename.csv>')` <br> \n",
       "- `prop get protein property [ charge_density, charge ] | <valid_type>   for [<list of Proteins>] | <Protein>   USING (<parameter>=<value> <parameter>=<value>) (save_as '<filename.csv>')` <br> \n",
       "- `prop get protein property [ protein_weight, isoelectric_point ] | <valid_type>   for [<list of Proteins>] | <Protein>   USING (<parameter>=<value> <parameter>=<value>) (save_as '<filename.csv>')` <br> \n",
       "- `prop get crystal property absolute_energy for <directory>   USING (<parameter>=<value> <parameter>=<value>) (save_as '<filename.csv>')` <br> \n",
       "- `prop get crystal property bulk_moduli for <directory>   USING (<parameter>=<value> <parameter>=<value>) (save_as '<filename.csv>')` <br> \n",
       "- `prop get crystal property poisson_ratio for <directory>   USING (<parameter>=<value> <parameter>=<value>) (save_as '<filename.csv>')` <br> \n",
       "- `prop get molecule property similarity_seed for [<list of SMILES>] | <SMILES>   USING (<parameter>=<value> <parameter>=<value>) (save_as '<filename.csv>')` <br> \n",
       "- `prop get molecule property scscore for [<list of SMILES>] | <SMILES>   USING (<parameter>=<value> <parameter>=<value>) (save_as '<filename.csv>')` <br> \n",
       "- `prop get crystal property metal_nonmetal_classifier for <directory>   USING (<parameter>=<value> <parameter>=<value>) (save_as '<filename.csv>')` <br> \n",
       "- `prop get crystal property shear_moduli for <directory>   USING (<parameter>=<value> <parameter>=<value>) (save_as '<filename.csv>')` <br> \n",
       "- `prop get crystal property formation_energy for <directory>   USING (<parameter>=<value> <parameter>=<value>) (save_as '<filename.csv>')` <br> \n",
       "- `prop get molecule property [ molecular_weight, number_of_aromatic_rings, number_of_h_acceptors, number_of_h_donors, number_of_atoms, number_of_rings, number_of_rotatable_bonds, number_of_large_rings, number_of_heterocycles, number_of_stereocenters, is_scaffold, bertz, tpsa, logp, qed, plogp, penalized_logp, lipinski, sas, esol ] | <valid_type>   for [<list of SMILES>] | <SMILES>   (save_as '<filename.csv>')` <br> \n",
       "- `prop get crystal property metal_semiconductor_classifier for <directory>   USING (<parameter>=<value> <parameter>=<value>) (save_as '<filename.csv>')` <br> \n",
       "- `prop get crystal property band_gap for <directory>   USING (<parameter>=<value> <parameter>=<value>) (save_as '<filename.csv>')` <br> \n",
       "- `prop get protein property [ length, boman_index, aliphaticity, hydrophobicity, aromaticity, instability ] | <valid_type>   for [<list of Proteins>] | <Protein>   (save_as '<filename.csv>')` <br> \n",
       "- `prop get crystal property fermi_energy for <directory>   USING (<parameter>=<value> <parameter>=<value>) (save_as '<filename.csv>')` <br> \n"
      ],
      "text/plain": [
       "<IPython.core.display.Markdown object>"
      ]
     },
     "execution_count": 2,
     "metadata": {},
     "output_type": "execute_result"
    }
   ],
   "source": [
    "%openad prop get ?"
   ]
  },
  {
   "cell_type": "markdown",
   "id": "597370b0-70e1-4831-8605-59ae195a95b9",
   "metadata": {},
   "source": [
    "## Understanding Property Generation"
   ]
  },
  {
   "cell_type": "markdown",
   "id": "4737e6ee-c265-4b47-b87c-effa1de135a7",
   "metadata": {
    "tags": []
   },
   "source": [
    "Property Generation functions are available for Molecules, Proteins and Crystals.  When providing the identifier for one of those types of materials the property function will return a table with Subject of the query and the properties and their values that have been requested.\n",
    "\n",
    "Properties per function are grouped by the parameters and subject of the property request. Otherwise, a function may be able to produce multiple properties per subject. \n"
   ]
  },
  {
   "cell_type": "markdown",
   "id": "0a811710-4cf2-4b6f-af81-2861ab545334",
   "metadata": {},
   "source": [
    "When Specifying a list of properties or Subjects you need to place any subjects in multiples inside the list style brackes `[ ]`.\n",
    "\n",
    "However for for Molecules when in a list you must place spaces between the molecule Smiles string and the Opening and Closing brackets otherwise the bracket may appeart to the parser to be part of the SMILES string."
   ]
  },
  {
   "cell_type": "code",
   "execution_count": 3,
   "id": "e51482e3-44fc-4172-92c7-2811365e9097",
   "metadata": {
    "execution": {
     "iopub.execute_input": "2024-05-23T04:45:05.812394Z",
     "iopub.status.busy": "2024-05-23T04:45:05.811918Z",
     "iopub.status.idle": "2024-05-23T04:45:25.942725Z",
     "shell.execute_reply": "2024-05-23T04:45:25.941934Z",
     "shell.execute_reply.started": "2024-05-23T04:45:05.812362Z"
    },
    "tags": []
   },
   "outputs": [
    {
     "data": {
      "application/vnd.jupyter.widget-view+json": {
       "model_id": "ae326c4d2c2f4f43bb729b0a39209250",
       "version_major": 2,
       "version_minor": 0
      },
      "text/plain": [
       "Output()"
      ]
     },
     "metadata": {},
     "output_type": "display_data"
    },
    {
     "data": {
      "text/markdown": [
       "<span style=\"color: #ccc\">Next up, you can run: </span>`result open`/`edit`/`copy`/`display`/`as dataframe`/`save [as '<filename.csv>']` <br> \n"
      ],
      "text/plain": [
       "<IPython.core.display.Markdown object>"
      ]
     },
     "metadata": {},
     "output_type": "display_data"
    },
    {
     "data": {
      "text/html": [
       "<style type=\"text/css\">\n",
       "</style>\n",
       "<table id=\"T_87581\">\n",
       "  <thead>\n",
       "    <tr>\n",
       "      <th id=\"T_87581_level0_col0\" class=\"col_heading level0 col0\" >subject</th>\n",
       "      <th id=\"T_87581_level0_col1\" class=\"col_heading level0 col1\" >property</th>\n",
       "      <th id=\"T_87581_level0_col2\" class=\"col_heading level0 col2\" >result</th>\n",
       "    </tr>\n",
       "  </thead>\n",
       "  <tbody>\n",
       "    <tr>\n",
       "      <td id=\"T_87581_row0_col0\" class=\"data row0 col0\" >C(C(C1C(=C(C(=O)O1)O)O)O)O</td>\n",
       "      <td id=\"T_87581_row0_col1\" class=\"data row0 col1\" >esol</td>\n",
       "      <td id=\"T_87581_row0_col2\" class=\"data row0 col2\" >0.147082</td>\n",
       "    </tr>\n",
       "    <tr>\n",
       "      <td id=\"T_87581_row1_col0\" class=\"data row1 col0\" >[H-]</td>\n",
       "      <td id=\"T_87581_row1_col1\" class=\"data row1 col1\" >esol</td>\n",
       "      <td id=\"T_87581_row1_col2\" class=\"data row1 col2\" >0.171106</td>\n",
       "    </tr>\n",
       "  </tbody>\n",
       "</table>\n"
      ],
      "text/plain": [
       "<pandas.io.formats.style.Styler at 0x12afb3290>"
      ]
     },
     "execution_count": 3,
     "metadata": {},
     "output_type": "execute_result"
    },
    {
     "data": {
      "application/vnd.jupyter.widget-view+json": {
       "model_id": "319a75ab2c354375b555a41fd8c68095",
       "version_major": 2,
       "version_minor": 0
      },
      "text/plain": [
       "Output()"
      ]
     },
     "metadata": {},
     "output_type": "display_data"
    },
    {
     "data": {
      "text/html": [
       "<div>\n",
       "<style scoped>\n",
       "    .dataframe tbody tr th:only-of-type {\n",
       "        vertical-align: middle;\n",
       "    }\n",
       "\n",
       "    .dataframe tbody tr th {\n",
       "        vertical-align: top;\n",
       "    }\n",
       "\n",
       "    .dataframe thead th {\n",
       "        text-align: right;\n",
       "    }\n",
       "</style>\n",
       "<table border=\"1\" class=\"dataframe\">\n",
       "  <thead>\n",
       "    <tr style=\"text-align: right;\">\n",
       "      <th></th>\n",
       "      <th>subject</th>\n",
       "      <th>property</th>\n",
       "      <th>result</th>\n",
       "    </tr>\n",
       "  </thead>\n",
       "  <tbody>\n",
       "    <tr>\n",
       "      <th>0</th>\n",
       "      <td>C(C(C1C(=C(C(=O)O1)O)O)O)O</td>\n",
       "      <td>qed</td>\n",
       "      <td>0.385005</td>\n",
       "    </tr>\n",
       "    <tr>\n",
       "      <th>1</th>\n",
       "      <td>C(C(C1C(=C(C(=O)O1)O)O)O)O</td>\n",
       "      <td>esol</td>\n",
       "      <td>0.147082</td>\n",
       "    </tr>\n",
       "  </tbody>\n",
       "</table>\n",
       "</div>"
      ],
      "text/plain": [
       "                      subject property    result\n",
       "0  C(C(C1C(=C(C(=O)O1)O)O)O)O      qed  0.385005\n",
       "1  C(C(C1C(=C(C(=O)O1)O)O)O)O     esol  0.147082"
      ]
     },
     "execution_count": 3,
     "metadata": {},
     "output_type": "execute_result"
    },
    {
     "data": {
      "application/vnd.jupyter.widget-view+json": {
       "model_id": "7fb1e7d2167c48908a90f0dbecc97291",
       "version_major": 2,
       "version_minor": 0
      },
      "text/plain": [
       "Output()"
      ]
     },
     "metadata": {},
     "output_type": "display_data"
    },
    {
     "data": {
      "text/html": [
       "<div>\n",
       "<style scoped>\n",
       "    .dataframe tbody tr th:only-of-type {\n",
       "        vertical-align: middle;\n",
       "    }\n",
       "\n",
       "    .dataframe tbody tr th {\n",
       "        vertical-align: top;\n",
       "    }\n",
       "\n",
       "    .dataframe thead th {\n",
       "        text-align: right;\n",
       "    }\n",
       "</style>\n",
       "<table border=\"1\" class=\"dataframe\">\n",
       "  <thead>\n",
       "    <tr style=\"text-align: right;\">\n",
       "      <th></th>\n",
       "      <th>subject</th>\n",
       "      <th>property</th>\n",
       "      <th>result</th>\n",
       "    </tr>\n",
       "  </thead>\n",
       "  <tbody>\n",
       "    <tr>\n",
       "      <th>0</th>\n",
       "      <td>C(C(C1C(=C(C(=O)O1)O)O)O)O</td>\n",
       "      <td>qed</td>\n",
       "      <td>0.385005</td>\n",
       "    </tr>\n",
       "    <tr>\n",
       "      <th>1</th>\n",
       "      <td>[H-]</td>\n",
       "      <td>qed</td>\n",
       "      <td>0.342643</td>\n",
       "    </tr>\n",
       "    <tr>\n",
       "      <th>2</th>\n",
       "      <td>C(C(C1C(=C(C(=O)O1)O)O)O)O</td>\n",
       "      <td>esol</td>\n",
       "      <td>0.147082</td>\n",
       "    </tr>\n",
       "    <tr>\n",
       "      <th>3</th>\n",
       "      <td>[H-]</td>\n",
       "      <td>esol</td>\n",
       "      <td>0.171106</td>\n",
       "    </tr>\n",
       "  </tbody>\n",
       "</table>\n",
       "</div>"
      ],
      "text/plain": [
       "                      subject property    result\n",
       "0  C(C(C1C(=C(C(=O)O1)O)O)O)O      qed  0.385005\n",
       "1                        [H-]      qed  0.342643\n",
       "2  C(C(C1C(=C(C(=O)O1)O)O)O)O     esol  0.147082\n",
       "3                        [H-]     esol  0.171106"
      ]
     },
     "execution_count": 3,
     "metadata": {},
     "output_type": "execute_result"
    },
    {
     "data": {
      "application/vnd.jupyter.widget-view+json": {
       "model_id": "e0752722f7ef4fb78b62b42802750d85",
       "version_major": 2,
       "version_minor": 0
      },
      "text/plain": [
       "Output()"
      ]
     },
     "metadata": {},
     "output_type": "display_data"
    },
    {
     "data": {
      "text/html": [
       "<div>\n",
       "<style scoped>\n",
       "    .dataframe tbody tr th:only-of-type {\n",
       "        vertical-align: middle;\n",
       "    }\n",
       "\n",
       "    .dataframe tbody tr th {\n",
       "        vertical-align: top;\n",
       "    }\n",
       "\n",
       "    .dataframe thead th {\n",
       "        text-align: right;\n",
       "    }\n",
       "</style>\n",
       "<table border=\"1\" class=\"dataframe\">\n",
       "  <thead>\n",
       "    <tr style=\"text-align: right;\">\n",
       "      <th></th>\n",
       "      <th>subject</th>\n",
       "      <th>property</th>\n",
       "      <th>result</th>\n",
       "    </tr>\n",
       "  </thead>\n",
       "  <tbody>\n",
       "    <tr>\n",
       "      <th>0</th>\n",
       "      <td>C(C(C1C(=C(C(=O)O1)O)O)O)O</td>\n",
       "      <td>esol</td>\n",
       "      <td>0.147082</td>\n",
       "    </tr>\n",
       "  </tbody>\n",
       "</table>\n",
       "</div>"
      ],
      "text/plain": [
       "                      subject property    result\n",
       "0  C(C(C1C(=C(C(=O)O1)O)O)O)O     esol  0.147082"
      ]
     },
     "execution_count": 3,
     "metadata": {},
     "output_type": "execute_result"
    },
    {
     "data": {
      "application/vnd.jupyter.widget-view+json": {
       "model_id": "d09aad9470d14d14a839296a1c0551ca",
       "version_major": 2,
       "version_minor": 0
      },
      "text/plain": [
       "Output()"
      ]
     },
     "metadata": {},
     "output_type": "display_data"
    },
    {
     "name": "stdout",
     "output_type": "stream",
     "text": [
      "This is an example of using the `%openadd` option as a variable  ! \n",
      "\n",
      "  subject property    result\n",
      "0    [H-]     esol  0.171106\n"
     ]
    }
   ],
   "source": [
    "%openad prop get molecule property esol for ['C(C(C1C(=C(C(=O)O1)O)O)O)O','[H-]']\n",
    "\n",
    "# This is an example of using the `%openadd` option\n",
    "\n",
    "%openadd prop get molecule property [qed,esol] for 'C(C(C1C(=C(C(=O)O1)O)O)O)O'\n",
    "\n",
    "%openadd prop get molecule property [qed,esol] for [ C(C(C1C(=C(C(=O)O1)O)O)O)O ,[H-] ]\n",
    "\n",
    "%openadd prop get molecule property esol for C(C(C1C(=C(C(=O)O1)O)O)O)O\n",
    "\n",
    "result = %openadd prop get molecule property esol for [H-]\n",
    "print(\"This is an example of using the `%openadd` option as a variable  ! \\n\")\n",
    "print(result)"
   ]
  },
  {
   "cell_type": "markdown",
   "id": "1c021058-c097-488f-b64b-dfbff5d2785a",
   "metadata": {},
   "source": [
    "### Now lets open the result up and edit "
   ]
  },
  {
   "cell_type": "code",
   "execution_count": 4,
   "id": "fd703868-61f4-43d8-b70d-55aae575f878",
   "metadata": {
    "execution": {
     "iopub.execute_input": "2024-05-23T04:45:25.944332Z",
     "iopub.status.busy": "2024-05-23T04:45:25.944007Z",
     "iopub.status.idle": "2024-05-23T04:45:29.951804Z",
     "shell.execute_reply": "2024-05-23T04:45:29.951158Z",
     "shell.execute_reply.started": "2024-05-23T04:45:25.944303Z"
    },
    "tags": []
   },
   "outputs": [
    {
     "data": {
      "application/vnd.jupyter.widget-view+json": {
       "model_id": "f9c21ae89ac94c18a6b4726acd554c24",
       "version_major": 2,
       "version_minor": 0
      },
      "text/plain": [
       "Output()"
      ]
     },
     "metadata": {},
     "output_type": "display_data"
    },
    {
     "data": {
      "text/markdown": [
       "<span style=\"color: #ccc\">Next up, you can run: </span>`result open`/`edit`/`copy`/`display`/`as dataframe`/`save [as '<filename.csv>']` <br> \n"
      ],
      "text/plain": [
       "<IPython.core.display.Markdown object>"
      ]
     },
     "metadata": {},
     "output_type": "display_data"
    },
    {
     "data": {
      "text/html": [
       "<style type=\"text/css\">\n",
       "</style>\n",
       "<table id=\"T_f961e\">\n",
       "  <thead>\n",
       "    <tr>\n",
       "      <th id=\"T_f961e_level0_col0\" class=\"col_heading level0 col0\" >subject</th>\n",
       "      <th id=\"T_f961e_level0_col1\" class=\"col_heading level0 col1\" >property</th>\n",
       "      <th id=\"T_f961e_level0_col2\" class=\"col_heading level0 col2\" >result</th>\n",
       "    </tr>\n",
       "  </thead>\n",
       "  <tbody>\n",
       "    <tr>\n",
       "      <td id=\"T_f961e_row0_col0\" class=\"data row0 col0\" >C(C(C1C(=C(C(=O)O1)O)O)O)O</td>\n",
       "      <td id=\"T_f961e_row0_col1\" class=\"data row0 col1\" >qed</td>\n",
       "      <td id=\"T_f961e_row0_col2\" class=\"data row0 col2\" >0.385005</td>\n",
       "    </tr>\n",
       "    <tr>\n",
       "      <td id=\"T_f961e_row1_col0\" class=\"data row1 col0\" >[H-]</td>\n",
       "      <td id=\"T_f961e_row1_col1\" class=\"data row1 col1\" >qed</td>\n",
       "      <td id=\"T_f961e_row1_col2\" class=\"data row1 col2\" >0.342643</td>\n",
       "    </tr>\n",
       "    <tr>\n",
       "      <td id=\"T_f961e_row2_col0\" class=\"data row2 col0\" >C(C(C1C(=C(C(=O)O1)O)O)O)O</td>\n",
       "      <td id=\"T_f961e_row2_col1\" class=\"data row2 col1\" >esol</td>\n",
       "      <td id=\"T_f961e_row2_col2\" class=\"data row2 col2\" >0.147082</td>\n",
       "    </tr>\n",
       "    <tr>\n",
       "      <td id=\"T_f961e_row3_col0\" class=\"data row3 col0\" >[H-]</td>\n",
       "      <td id=\"T_f961e_row3_col1\" class=\"data row3 col1\" >esol</td>\n",
       "      <td id=\"T_f961e_row3_col2\" class=\"data row3 col2\" >0.171106</td>\n",
       "    </tr>\n",
       "  </tbody>\n",
       "</table>\n"
      ],
      "text/plain": [
       "<pandas.io.formats.style.Styler at 0x12e655690>"
      ]
     },
     "execution_count": 4,
     "metadata": {},
     "output_type": "execute_result"
    }
   ],
   "source": [
    "%openad  prop get molecule property [qed,esol] for [ C(C(C1C(=C(C(=O)O1)O)O)O)O ,[H-] ]\n"
   ]
  },
  {
   "cell_type": "code",
   "execution_count": 5,
   "id": "0d6d96f3-69b8-4f25-b00c-9097f871b599",
   "metadata": {
    "execution": {
     "iopub.execute_input": "2024-05-23T04:45:29.955652Z",
     "iopub.status.busy": "2024-05-23T04:45:29.955439Z",
     "iopub.status.idle": "2024-05-23T04:45:30.133570Z",
     "shell.execute_reply": "2024-05-23T04:45:30.130773Z",
     "shell.execute_reply.started": "2024-05-23T04:45:29.955627Z"
    },
    "tags": []
   },
   "outputs": [
    {
     "data": {
      "text/html": [
       "<iframe src=\"http://127.0.0.1:5001\" width=\"100%\" height=\"700\" style=\"border: solid 1px #ddd;\"></iframe>"
      ],
      "text/plain": [
       "<IPython.core.display.HTML object>"
      ]
     },
     "metadata": {},
     "output_type": "display_data"
    }
   ],
   "source": [
    "%openad result open"
   ]
  },
  {
   "cell_type": "markdown",
   "id": "33cb6e98-ea5c-4404-b758-ec71f48e89a4",
   "metadata": {
    "execution": {
     "iopub.execute_input": "2024-05-15T05:19:40.106407Z",
     "iopub.status.busy": "2024-05-15T05:19:40.106097Z",
     "iopub.status.idle": "2024-05-15T05:19:40.112016Z",
     "shell.execute_reply": "2024-05-15T05:19:40.111322Z",
     "shell.execute_reply.started": "2024-05-15T05:19:40.106381Z"
    },
    "tags": []
   },
   "source": [
    "### Here you can see different properties require different \"Required\" Parameters and Optional pattern that can use the `USING` Clause."
   ]
  },
  {
   "cell_type": "code",
   "execution_count": 14,
   "id": "7067d570-a1f3-4d9f-9763-9c7aff2a5caa",
   "metadata": {
    "execution": {
     "iopub.execute_input": "2024-05-23T04:47:13.171724Z",
     "iopub.status.busy": "2024-05-23T04:47:13.171341Z",
     "iopub.status.idle": "2024-05-23T04:47:22.142616Z",
     "shell.execute_reply": "2024-05-23T04:47:22.141809Z",
     "shell.execute_reply.started": "2024-05-23T04:47:13.171699Z"
    },
    "tags": []
   },
   "outputs": [
    {
     "data": {
      "application/vnd.jupyter.widget-view+json": {
       "model_id": "4597d213bd104e4585d62ba5c50d941d",
       "version_major": 2,
       "version_minor": 0
      },
      "text/plain": [
       "Output()"
      ]
     },
     "metadata": {},
     "output_type": "display_data"
    },
    {
     "data": {
      "text/html": [
       "<div>\n",
       "<style scoped>\n",
       "    .dataframe tbody tr th:only-of-type {\n",
       "        vertical-align: middle;\n",
       "    }\n",
       "\n",
       "    .dataframe tbody tr th {\n",
       "        vertical-align: top;\n",
       "    }\n",
       "\n",
       "    .dataframe thead th {\n",
       "        text-align: right;\n",
       "    }\n",
       "</style>\n",
       "<table border=\"1\" class=\"dataframe\">\n",
       "  <thead>\n",
       "    <tr style=\"text-align: right;\">\n",
       "      <th></th>\n",
       "      <th>subject</th>\n",
       "      <th>property</th>\n",
       "      <th>result</th>\n",
       "    </tr>\n",
       "  </thead>\n",
       "  <tbody>\n",
       "    <tr>\n",
       "      <th>0</th>\n",
       "      <td>C(C(C1C(=C(C(=O)O1)O)O)O)O</td>\n",
       "      <td>scscore</td>\n",
       "      <td>1.841397</td>\n",
       "    </tr>\n",
       "  </tbody>\n",
       "</table>\n",
       "</div>"
      ],
      "text/plain": [
       "                      subject property    result\n",
       "0  C(C(C1C(=C(C(=O)O1)O)O)O)O  scscore  1.841397"
      ]
     },
     "execution_count": 14,
     "metadata": {},
     "output_type": "execute_result"
    },
    {
     "data": {
      "application/vnd.jupyter.widget-view+json": {
       "model_id": "9ce0ca4a11d44471b987141491e7219d",
       "version_major": 2,
       "version_minor": 0
      },
      "text/plain": [
       "Output()"
      ]
     },
     "metadata": {},
     "output_type": "display_data"
    },
    {
     "data": {
      "text/html": [
       "<div>\n",
       "<style scoped>\n",
       "    .dataframe tbody tr th:only-of-type {\n",
       "        vertical-align: middle;\n",
       "    }\n",
       "\n",
       "    .dataframe tbody tr th {\n",
       "        vertical-align: top;\n",
       "    }\n",
       "\n",
       "    .dataframe thead th {\n",
       "        text-align: right;\n",
       "    }\n",
       "</style>\n",
       "<table border=\"1\" class=\"dataframe\">\n",
       "  <thead>\n",
       "    <tr style=\"text-align: right;\">\n",
       "      <th></th>\n",
       "      <th>subject</th>\n",
       "      <th>property</th>\n",
       "      <th>result</th>\n",
       "    </tr>\n",
       "  </thead>\n",
       "  <tbody>\n",
       "    <tr>\n",
       "      <th>0</th>\n",
       "      <td>C(C(C1C(=C(C(=O)O1)O)O)O)O</td>\n",
       "      <td>activity_against_target</td>\n",
       "      <td>0.003942</td>\n",
       "    </tr>\n",
       "  </tbody>\n",
       "</table>\n",
       "</div>"
      ],
      "text/plain": [
       "                      subject                 property    result\n",
       "0  C(C(C1C(=C(C(=O)O1)O)O)O)O  activity_against_target  0.003942"
      ]
     },
     "execution_count": 14,
     "metadata": {},
     "output_type": "execute_result"
    }
   ],
   "source": [
    "%openadd prop get molecule property  scscore for 'C(C(C1C(=C(C(=O)O1)O)O)O)O'\n",
    "%openadd prop get molecule property activity_against_target for C(C(C1C(=C(C(=O)O1)O)O)O)O using(target=drd2)"
   ]
  },
  {
   "cell_type": "markdown",
   "id": "475f73ae-4627-4f1e-988c-ce1ab6c7b3e9",
   "metadata": {},
   "source": [
    "### Now lets learn about Substitution variables.\n",
    "\n",
    "When defining properties and molecules or for that matter, values in the using clause we can use Notebook substitution as you can see below with the properties molecule list variables."
   ]
  },
  {
   "cell_type": "code",
   "execution_count": 15,
   "id": "ad3ec22b-359a-4085-9f9e-634613d7eae1",
   "metadata": {
    "execution": {
     "iopub.execute_input": "2024-05-23T04:47:22.161283Z",
     "iopub.status.busy": "2024-05-23T04:47:22.160928Z",
     "iopub.status.idle": "2024-05-23T04:47:22.166994Z",
     "shell.execute_reply": "2024-05-23T04:47:22.166407Z",
     "shell.execute_reply.started": "2024-05-23T04:47:22.161252Z"
    },
    "tags": []
   },
   "outputs": [],
   "source": [
    "properties_all = ['molecular_weight', 'number_of_aromatic_rings', 'number_of_h_acceptors', 'number_of_atoms','number_of_rings', 'number_of_rotatable_bonds', 'number_of_large_rings', 'number_of_heterocycles', 'number_of_stereocenters','is_scaffold', 'bertz', 'tpsa', 'logp', 'qed', 'plogp', 'penalized_logp', 'lipinski', 'sas', 'esol']\n",
    "a_molecule_list = [ 'O=C(O)C(F)(OC(O)(F)C(F)(F)C(F)(F)F)C(F)(F)F', 'ON(O)C(F)(OC(F)(F)C(F)(F)C(F)(F)F)C(F)(F)F', 'C(C(C1C(=C(C(=O)O1)O)O)O)O' ]"
   ]
  },
  {
   "cell_type": "code",
   "execution_count": 16,
   "id": "f05ef06f-860e-4923-bc31-7b814ee9dcb2",
   "metadata": {
    "execution": {
     "iopub.execute_input": "2024-05-23T04:47:22.169993Z",
     "iopub.status.busy": "2024-05-23T04:47:22.169659Z",
     "iopub.status.idle": "2024-05-23T04:47:25.973527Z",
     "shell.execute_reply": "2024-05-23T04:47:25.972846Z",
     "shell.execute_reply.started": "2024-05-23T04:47:22.169965Z"
    },
    "scrolled": true,
    "tags": []
   },
   "outputs": [
    {
     "data": {
      "application/vnd.jupyter.widget-view+json": {
       "model_id": "ccb72e01cc904816a575007b0f4708ae",
       "version_major": 2,
       "version_minor": 0
      },
      "text/plain": [
       "Output()"
      ]
     },
     "metadata": {},
     "output_type": "display_data"
    },
    {
     "data": {
      "text/markdown": [
       "<span style=\"color: #ccc\">Next up, you can run: </span>`result open`/`edit`/`copy`/`display`/`as dataframe`/`save [as '<filename.csv>']` <br> \n"
      ],
      "text/plain": [
       "<IPython.core.display.Markdown object>"
      ]
     },
     "metadata": {},
     "output_type": "display_data"
    },
    {
     "data": {
      "text/html": [
       "<style type=\"text/css\">\n",
       "</style>\n",
       "<table id=\"T_4a12c\">\n",
       "  <thead>\n",
       "    <tr>\n",
       "      <th id=\"T_4a12c_level0_col0\" class=\"col_heading level0 col0\" >subject</th>\n",
       "      <th id=\"T_4a12c_level0_col1\" class=\"col_heading level0 col1\" >property</th>\n",
       "      <th id=\"T_4a12c_level0_col2\" class=\"col_heading level0 col2\" >result</th>\n",
       "    </tr>\n",
       "  </thead>\n",
       "  <tbody>\n",
       "    <tr>\n",
       "      <td id=\"T_4a12c_row0_col0\" class=\"data row0 col0\" >O=C(O)C(F)(OC(O)(F)C(F)(F)C(F)(F)F)C(F)(F)F</td>\n",
       "      <td id=\"T_4a12c_row0_col1\" class=\"data row0 col1\" >molecular_weight</td>\n",
       "      <td id=\"T_4a12c_row0_col2\" class=\"data row0 col2\" >328.058000</td>\n",
       "    </tr>\n",
       "    <tr>\n",
       "      <td id=\"T_4a12c_row1_col0\" class=\"data row1 col0\" >ON(O)C(F)(OC(F)(F)C(F)(F)C(F)(F)F)C(F)(F)F</td>\n",
       "      <td id=\"T_4a12c_row1_col1\" class=\"data row1 col1\" >molecular_weight</td>\n",
       "      <td id=\"T_4a12c_row1_col2\" class=\"data row1 col2\" >333.053000</td>\n",
       "    </tr>\n",
       "    <tr>\n",
       "      <td id=\"T_4a12c_row2_col0\" class=\"data row2 col0\" >C(C(C1C(=C(C(=O)O1)O)O)O)O</td>\n",
       "      <td id=\"T_4a12c_row2_col1\" class=\"data row2 col1\" >molecular_weight</td>\n",
       "      <td id=\"T_4a12c_row2_col2\" class=\"data row2 col2\" >176.124000</td>\n",
       "    </tr>\n",
       "    <tr>\n",
       "      <td id=\"T_4a12c_row3_col0\" class=\"data row3 col0\" >O=C(O)C(F)(OC(O)(F)C(F)(F)C(F)(F)F)C(F)(F)F</td>\n",
       "      <td id=\"T_4a12c_row3_col1\" class=\"data row3 col1\" >number_of_aromatic_rings</td>\n",
       "      <td id=\"T_4a12c_row3_col2\" class=\"data row3 col2\" >0.000000</td>\n",
       "    </tr>\n",
       "    <tr>\n",
       "      <td id=\"T_4a12c_row4_col0\" class=\"data row4 col0\" >ON(O)C(F)(OC(F)(F)C(F)(F)C(F)(F)F)C(F)(F)F</td>\n",
       "      <td id=\"T_4a12c_row4_col1\" class=\"data row4 col1\" >number_of_aromatic_rings</td>\n",
       "      <td id=\"T_4a12c_row4_col2\" class=\"data row4 col2\" >0.000000</td>\n",
       "    </tr>\n",
       "    <tr>\n",
       "      <td id=\"T_4a12c_row5_col0\" class=\"data row5 col0\" >C(C(C1C(=C(C(=O)O1)O)O)O)O</td>\n",
       "      <td id=\"T_4a12c_row5_col1\" class=\"data row5 col1\" >number_of_aromatic_rings</td>\n",
       "      <td id=\"T_4a12c_row5_col2\" class=\"data row5 col2\" >0.000000</td>\n",
       "    </tr>\n",
       "    <tr>\n",
       "      <td id=\"T_4a12c_row6_col0\" class=\"data row6 col0\" >O=C(O)C(F)(OC(O)(F)C(F)(F)C(F)(F)F)C(F)(F)F</td>\n",
       "      <td id=\"T_4a12c_row6_col1\" class=\"data row6 col1\" >number_of_h_acceptors</td>\n",
       "      <td id=\"T_4a12c_row6_col2\" class=\"data row6 col2\" >3.000000</td>\n",
       "    </tr>\n",
       "    <tr>\n",
       "      <td id=\"T_4a12c_row7_col0\" class=\"data row7 col0\" >ON(O)C(F)(OC(F)(F)C(F)(F)C(F)(F)F)C(F)(F)F</td>\n",
       "      <td id=\"T_4a12c_row7_col1\" class=\"data row7 col1\" >number_of_h_acceptors</td>\n",
       "      <td id=\"T_4a12c_row7_col2\" class=\"data row7 col2\" >4.000000</td>\n",
       "    </tr>\n",
       "    <tr>\n",
       "      <td id=\"T_4a12c_row8_col0\" class=\"data row8 col0\" >C(C(C1C(=C(C(=O)O1)O)O)O)O</td>\n",
       "      <td id=\"T_4a12c_row8_col1\" class=\"data row8 col1\" >number_of_h_acceptors</td>\n",
       "      <td id=\"T_4a12c_row8_col2\" class=\"data row8 col2\" >6.000000</td>\n",
       "    </tr>\n",
       "    <tr>\n",
       "      <td id=\"T_4a12c_row9_col0\" class=\"data row9 col0\" >O=C(O)C(F)(OC(O)(F)C(F)(F)C(F)(F)F)C(F)(F)F</td>\n",
       "      <td id=\"T_4a12c_row9_col1\" class=\"data row9 col1\" >number_of_atoms</td>\n",
       "      <td id=\"T_4a12c_row9_col2\" class=\"data row9 col2\" >22.000000</td>\n",
       "    </tr>\n",
       "    <tr>\n",
       "      <td id=\"T_4a12c_row10_col0\" class=\"data row10 col0\" >ON(O)C(F)(OC(F)(F)C(F)(F)C(F)(F)F)C(F)(F)F</td>\n",
       "      <td id=\"T_4a12c_row10_col1\" class=\"data row10 col1\" >number_of_atoms</td>\n",
       "      <td id=\"T_4a12c_row10_col2\" class=\"data row10 col2\" >22.000000</td>\n",
       "    </tr>\n",
       "    <tr>\n",
       "      <td id=\"T_4a12c_row11_col0\" class=\"data row11 col0\" >C(C(C1C(=C(C(=O)O1)O)O)O)O</td>\n",
       "      <td id=\"T_4a12c_row11_col1\" class=\"data row11 col1\" >number_of_atoms</td>\n",
       "      <td id=\"T_4a12c_row11_col2\" class=\"data row11 col2\" >20.000000</td>\n",
       "    </tr>\n",
       "    <tr>\n",
       "      <td id=\"T_4a12c_row12_col0\" class=\"data row12 col0\" >O=C(O)C(F)(OC(O)(F)C(F)(F)C(F)(F)F)C(F)(F)F</td>\n",
       "      <td id=\"T_4a12c_row12_col1\" class=\"data row12 col1\" >number_of_rings</td>\n",
       "      <td id=\"T_4a12c_row12_col2\" class=\"data row12 col2\" >0.000000</td>\n",
       "    </tr>\n",
       "    <tr>\n",
       "      <td id=\"T_4a12c_row13_col0\" class=\"data row13 col0\" >ON(O)C(F)(OC(F)(F)C(F)(F)C(F)(F)F)C(F)(F)F</td>\n",
       "      <td id=\"T_4a12c_row13_col1\" class=\"data row13 col1\" >number_of_rings</td>\n",
       "      <td id=\"T_4a12c_row13_col2\" class=\"data row13 col2\" >0.000000</td>\n",
       "    </tr>\n",
       "    <tr>\n",
       "      <td id=\"T_4a12c_row14_col0\" class=\"data row14 col0\" >C(C(C1C(=C(C(=O)O1)O)O)O)O</td>\n",
       "      <td id=\"T_4a12c_row14_col1\" class=\"data row14 col1\" >number_of_rings</td>\n",
       "      <td id=\"T_4a12c_row14_col2\" class=\"data row14 col2\" >1.000000</td>\n",
       "    </tr>\n",
       "    <tr>\n",
       "      <td id=\"T_4a12c_row15_col0\" class=\"data row15 col0\" >O=C(O)C(F)(OC(O)(F)C(F)(F)C(F)(F)F)C(F)(F)F</td>\n",
       "      <td id=\"T_4a12c_row15_col1\" class=\"data row15 col1\" >number_of_rotatable_bonds</td>\n",
       "      <td id=\"T_4a12c_row15_col2\" class=\"data row15 col2\" >4.000000</td>\n",
       "    </tr>\n",
       "    <tr>\n",
       "      <td id=\"T_4a12c_row16_col0\" class=\"data row16 col0\" >ON(O)C(F)(OC(F)(F)C(F)(F)C(F)(F)F)C(F)(F)F</td>\n",
       "      <td id=\"T_4a12c_row16_col1\" class=\"data row16 col1\" >number_of_rotatable_bonds</td>\n",
       "      <td id=\"T_4a12c_row16_col2\" class=\"data row16 col2\" >4.000000</td>\n",
       "    </tr>\n",
       "    <tr>\n",
       "      <td id=\"T_4a12c_row17_col0\" class=\"data row17 col0\" >C(C(C1C(=C(C(=O)O1)O)O)O)O</td>\n",
       "      <td id=\"T_4a12c_row17_col1\" class=\"data row17 col1\" >number_of_rotatable_bonds</td>\n",
       "      <td id=\"T_4a12c_row17_col2\" class=\"data row17 col2\" >2.000000</td>\n",
       "    </tr>\n",
       "    <tr>\n",
       "      <td id=\"T_4a12c_row18_col0\" class=\"data row18 col0\" >O=C(O)C(F)(OC(O)(F)C(F)(F)C(F)(F)F)C(F)(F)F</td>\n",
       "      <td id=\"T_4a12c_row18_col1\" class=\"data row18 col1\" >number_of_large_rings</td>\n",
       "      <td id=\"T_4a12c_row18_col2\" class=\"data row18 col2\" >0.000000</td>\n",
       "    </tr>\n",
       "    <tr>\n",
       "      <td id=\"T_4a12c_row19_col0\" class=\"data row19 col0\" >ON(O)C(F)(OC(F)(F)C(F)(F)C(F)(F)F)C(F)(F)F</td>\n",
       "      <td id=\"T_4a12c_row19_col1\" class=\"data row19 col1\" >number_of_large_rings</td>\n",
       "      <td id=\"T_4a12c_row19_col2\" class=\"data row19 col2\" >0.000000</td>\n",
       "    </tr>\n",
       "    <tr>\n",
       "      <td id=\"T_4a12c_row20_col0\" class=\"data row20 col0\" >C(C(C1C(=C(C(=O)O1)O)O)O)O</td>\n",
       "      <td id=\"T_4a12c_row20_col1\" class=\"data row20 col1\" >number_of_large_rings</td>\n",
       "      <td id=\"T_4a12c_row20_col2\" class=\"data row20 col2\" >0.000000</td>\n",
       "    </tr>\n",
       "    <tr>\n",
       "      <td id=\"T_4a12c_row21_col0\" class=\"data row21 col0\" >O=C(O)C(F)(OC(O)(F)C(F)(F)C(F)(F)F)C(F)(F)F</td>\n",
       "      <td id=\"T_4a12c_row21_col1\" class=\"data row21 col1\" >number_of_heterocycles</td>\n",
       "      <td id=\"T_4a12c_row21_col2\" class=\"data row21 col2\" >0.000000</td>\n",
       "    </tr>\n",
       "    <tr>\n",
       "      <td id=\"T_4a12c_row22_col0\" class=\"data row22 col0\" >ON(O)C(F)(OC(F)(F)C(F)(F)C(F)(F)F)C(F)(F)F</td>\n",
       "      <td id=\"T_4a12c_row22_col1\" class=\"data row22 col1\" >number_of_heterocycles</td>\n",
       "      <td id=\"T_4a12c_row22_col2\" class=\"data row22 col2\" >0.000000</td>\n",
       "    </tr>\n",
       "    <tr>\n",
       "      <td id=\"T_4a12c_row23_col0\" class=\"data row23 col0\" >C(C(C1C(=C(C(=O)O1)O)O)O)O</td>\n",
       "      <td id=\"T_4a12c_row23_col1\" class=\"data row23 col1\" >number_of_heterocycles</td>\n",
       "      <td id=\"T_4a12c_row23_col2\" class=\"data row23 col2\" >1.000000</td>\n",
       "    </tr>\n",
       "    <tr>\n",
       "      <td id=\"T_4a12c_row24_col0\" class=\"data row24 col0\" >O=C(O)C(F)(OC(O)(F)C(F)(F)C(F)(F)F)C(F)(F)F</td>\n",
       "      <td id=\"T_4a12c_row24_col1\" class=\"data row24 col1\" >number_of_stereocenters</td>\n",
       "      <td id=\"T_4a12c_row24_col2\" class=\"data row24 col2\" >2.000000</td>\n",
       "    </tr>\n",
       "    <tr>\n",
       "      <td id=\"T_4a12c_row25_col0\" class=\"data row25 col0\" >ON(O)C(F)(OC(F)(F)C(F)(F)C(F)(F)F)C(F)(F)F</td>\n",
       "      <td id=\"T_4a12c_row25_col1\" class=\"data row25 col1\" >number_of_stereocenters</td>\n",
       "      <td id=\"T_4a12c_row25_col2\" class=\"data row25 col2\" >1.000000</td>\n",
       "    </tr>\n",
       "    <tr>\n",
       "      <td id=\"T_4a12c_row26_col0\" class=\"data row26 col0\" >C(C(C1C(=C(C(=O)O1)O)O)O)O</td>\n",
       "      <td id=\"T_4a12c_row26_col1\" class=\"data row26 col1\" >number_of_stereocenters</td>\n",
       "      <td id=\"T_4a12c_row26_col2\" class=\"data row26 col2\" >2.000000</td>\n",
       "    </tr>\n",
       "    <tr>\n",
       "      <td id=\"T_4a12c_row27_col0\" class=\"data row27 col0\" >O=C(O)C(F)(OC(O)(F)C(F)(F)C(F)(F)F)C(F)(F)F</td>\n",
       "      <td id=\"T_4a12c_row27_col1\" class=\"data row27 col1\" >is_scaffold</td>\n",
       "      <td id=\"T_4a12c_row27_col2\" class=\"data row27 col2\" >0.000000</td>\n",
       "    </tr>\n",
       "    <tr>\n",
       "      <td id=\"T_4a12c_row28_col0\" class=\"data row28 col0\" >ON(O)C(F)(OC(F)(F)C(F)(F)C(F)(F)F)C(F)(F)F</td>\n",
       "      <td id=\"T_4a12c_row28_col1\" class=\"data row28 col1\" >is_scaffold</td>\n",
       "      <td id=\"T_4a12c_row28_col2\" class=\"data row28 col2\" >0.000000</td>\n",
       "    </tr>\n",
       "    <tr>\n",
       "      <td id=\"T_4a12c_row29_col0\" class=\"data row29 col0\" >C(C(C1C(=C(C(=O)O1)O)O)O)O</td>\n",
       "      <td id=\"T_4a12c_row29_col1\" class=\"data row29 col1\" >is_scaffold</td>\n",
       "      <td id=\"T_4a12c_row29_col2\" class=\"data row29 col2\" >0.000000</td>\n",
       "    </tr>\n",
       "    <tr>\n",
       "      <td id=\"T_4a12c_row30_col0\" class=\"data row30 col0\" >O=C(O)C(F)(OC(O)(F)C(F)(F)C(F)(F)F)C(F)(F)F</td>\n",
       "      <td id=\"T_4a12c_row30_col1\" class=\"data row30 col1\" >bertz</td>\n",
       "      <td id=\"T_4a12c_row30_col2\" class=\"data row30 col2\" >384.189505</td>\n",
       "    </tr>\n",
       "    <tr>\n",
       "      <td id=\"T_4a12c_row31_col0\" class=\"data row31 col0\" >ON(O)C(F)(OC(F)(F)C(F)(F)C(F)(F)F)C(F)(F)F</td>\n",
       "      <td id=\"T_4a12c_row31_col1\" class=\"data row31 col1\" >bertz</td>\n",
       "      <td id=\"T_4a12c_row31_col2\" class=\"data row31 col2\" >348.948209</td>\n",
       "    </tr>\n",
       "    <tr>\n",
       "      <td id=\"T_4a12c_row32_col0\" class=\"data row32 col0\" >C(C(C1C(=C(C(=O)O1)O)O)O)O</td>\n",
       "      <td id=\"T_4a12c_row32_col1\" class=\"data row32 col1\" >bertz</td>\n",
       "      <td id=\"T_4a12c_row32_col2\" class=\"data row32 col2\" >232.192809</td>\n",
       "    </tr>\n",
       "    <tr>\n",
       "      <td id=\"T_4a12c_row33_col0\" class=\"data row33 col0\" >O=C(O)C(F)(OC(O)(F)C(F)(F)C(F)(F)F)C(F)(F)F</td>\n",
       "      <td id=\"T_4a12c_row33_col1\" class=\"data row33 col1\" >tpsa</td>\n",
       "      <td id=\"T_4a12c_row33_col2\" class=\"data row33 col2\" >66.760000</td>\n",
       "    </tr>\n",
       "    <tr>\n",
       "      <td id=\"T_4a12c_row34_col0\" class=\"data row34 col0\" >ON(O)C(F)(OC(F)(F)C(F)(F)C(F)(F)F)C(F)(F)F</td>\n",
       "      <td id=\"T_4a12c_row34_col1\" class=\"data row34 col1\" >tpsa</td>\n",
       "      <td id=\"T_4a12c_row34_col2\" class=\"data row34 col2\" >52.930000</td>\n",
       "    </tr>\n",
       "    <tr>\n",
       "      <td id=\"T_4a12c_row35_col0\" class=\"data row35 col0\" >C(C(C1C(=C(C(=O)O1)O)O)O)O</td>\n",
       "      <td id=\"T_4a12c_row35_col1\" class=\"data row35 col1\" >tpsa</td>\n",
       "      <td id=\"T_4a12c_row35_col2\" class=\"data row35 col2\" >107.220000</td>\n",
       "    </tr>\n",
       "    <tr>\n",
       "      <td id=\"T_4a12c_row36_col0\" class=\"data row36 col0\" >O=C(O)C(F)(OC(O)(F)C(F)(F)C(F)(F)F)C(F)(F)F</td>\n",
       "      <td id=\"T_4a12c_row36_col1\" class=\"data row36 col1\" >logp</td>\n",
       "      <td id=\"T_4a12c_row36_col2\" class=\"data row36 col2\" >2.128900</td>\n",
       "    </tr>\n",
       "    <tr>\n",
       "      <td id=\"T_4a12c_row37_col0\" class=\"data row37 col0\" >ON(O)C(F)(OC(F)(F)C(F)(F)C(F)(F)F)C(F)(F)F</td>\n",
       "      <td id=\"T_4a12c_row37_col1\" class=\"data row37 col1\" >logp</td>\n",
       "      <td id=\"T_4a12c_row37_col2\" class=\"data row37 col2\" >3.059400</td>\n",
       "    </tr>\n",
       "    <tr>\n",
       "      <td id=\"T_4a12c_row38_col0\" class=\"data row38 col0\" >C(C(C1C(=C(C(=O)O1)O)O)O)O</td>\n",
       "      <td id=\"T_4a12c_row38_col1\" class=\"data row38 col1\" >logp</td>\n",
       "      <td id=\"T_4a12c_row38_col2\" class=\"data row38 col2\" >-1.407400</td>\n",
       "    </tr>\n",
       "    <tr>\n",
       "      <td id=\"T_4a12c_row39_col0\" class=\"data row39 col0\" >O=C(O)C(F)(OC(O)(F)C(F)(F)C(F)(F)F)C(F)(F)F</td>\n",
       "      <td id=\"T_4a12c_row39_col1\" class=\"data row39 col1\" >qed</td>\n",
       "      <td id=\"T_4a12c_row39_col2\" class=\"data row39 col2\" >0.612884</td>\n",
       "    </tr>\n",
       "    <tr>\n",
       "      <td id=\"T_4a12c_row40_col0\" class=\"data row40 col0\" >ON(O)C(F)(OC(F)(F)C(F)(F)C(F)(F)F)C(F)(F)F</td>\n",
       "      <td id=\"T_4a12c_row40_col1\" class=\"data row40 col1\" >qed</td>\n",
       "      <td id=\"T_4a12c_row40_col2\" class=\"data row40 col2\" >0.359375</td>\n",
       "    </tr>\n",
       "    <tr>\n",
       "      <td id=\"T_4a12c_row41_col0\" class=\"data row41 col0\" >C(C(C1C(=C(C(=O)O1)O)O)O)O</td>\n",
       "      <td id=\"T_4a12c_row41_col1\" class=\"data row41 col1\" >qed</td>\n",
       "      <td id=\"T_4a12c_row41_col2\" class=\"data row41 col2\" >0.385005</td>\n",
       "    </tr>\n",
       "    <tr>\n",
       "      <td id=\"T_4a12c_row42_col0\" class=\"data row42 col0\" >O=C(O)C(F)(OC(O)(F)C(F)(F)C(F)(F)F)C(F)(F)F</td>\n",
       "      <td id=\"T_4a12c_row42_col1\" class=\"data row42 col1\" >plogp</td>\n",
       "      <td id=\"T_4a12c_row42_col2\" class=\"data row42 col2\" >-1.953963</td>\n",
       "    </tr>\n",
       "    <tr>\n",
       "      <td id=\"T_4a12c_row43_col0\" class=\"data row43 col0\" >ON(O)C(F)(OC(F)(F)C(F)(F)C(F)(F)F)C(F)(F)F</td>\n",
       "      <td id=\"T_4a12c_row43_col1\" class=\"data row43 col1\" >plogp</td>\n",
       "      <td id=\"T_4a12c_row43_col2\" class=\"data row43 col2\" >-0.993977</td>\n",
       "    </tr>\n",
       "    <tr>\n",
       "      <td id=\"T_4a12c_row44_col0\" class=\"data row44 col0\" >C(C(C1C(=C(C(=O)O1)O)O)O)O</td>\n",
       "      <td id=\"T_4a12c_row44_col1\" class=\"data row44 col1\" >plogp</td>\n",
       "      <td id=\"T_4a12c_row44_col2\" class=\"data row44 col2\" >-5.085876</td>\n",
       "    </tr>\n",
       "    <tr>\n",
       "      <td id=\"T_4a12c_row45_col0\" class=\"data row45 col0\" >O=C(O)C(F)(OC(O)(F)C(F)(F)C(F)(F)F)C(F)(F)F</td>\n",
       "      <td id=\"T_4a12c_row45_col1\" class=\"data row45 col1\" >penalized_logp</td>\n",
       "      <td id=\"T_4a12c_row45_col2\" class=\"data row45 col2\" >-1.953963</td>\n",
       "    </tr>\n",
       "    <tr>\n",
       "      <td id=\"T_4a12c_row46_col0\" class=\"data row46 col0\" >ON(O)C(F)(OC(F)(F)C(F)(F)C(F)(F)F)C(F)(F)F</td>\n",
       "      <td id=\"T_4a12c_row46_col1\" class=\"data row46 col1\" >penalized_logp</td>\n",
       "      <td id=\"T_4a12c_row46_col2\" class=\"data row46 col2\" >-0.993977</td>\n",
       "    </tr>\n",
       "    <tr>\n",
       "      <td id=\"T_4a12c_row47_col0\" class=\"data row47 col0\" >C(C(C1C(=C(C(=O)O1)O)O)O)O</td>\n",
       "      <td id=\"T_4a12c_row47_col1\" class=\"data row47 col1\" >penalized_logp</td>\n",
       "      <td id=\"T_4a12c_row47_col2\" class=\"data row47 col2\" >-5.085876</td>\n",
       "    </tr>\n",
       "    <tr>\n",
       "      <td id=\"T_4a12c_row48_col0\" class=\"data row48 col0\" >O=C(O)C(F)(OC(O)(F)C(F)(F)C(F)(F)F)C(F)(F)F</td>\n",
       "      <td id=\"T_4a12c_row48_col1\" class=\"data row48 col1\" >lipinski</td>\n",
       "      <td id=\"T_4a12c_row48_col2\" class=\"data row48 col2\" >1.000000</td>\n",
       "    </tr>\n",
       "    <tr>\n",
       "      <td id=\"T_4a12c_row49_col0\" class=\"data row49 col0\" >ON(O)C(F)(OC(F)(F)C(F)(F)C(F)(F)F)C(F)(F)F</td>\n",
       "      <td id=\"T_4a12c_row49_col1\" class=\"data row49 col1\" >lipinski</td>\n",
       "      <td id=\"T_4a12c_row49_col2\" class=\"data row49 col2\" >1.000000</td>\n",
       "    </tr>\n",
       "    <tr>\n",
       "      <td id=\"T_4a12c_row50_col0\" class=\"data row50 col0\" >C(C(C1C(=C(C(=O)O1)O)O)O)O</td>\n",
       "      <td id=\"T_4a12c_row50_col1\" class=\"data row50 col1\" >lipinski</td>\n",
       "      <td id=\"T_4a12c_row50_col2\" class=\"data row50 col2\" >1.000000</td>\n",
       "    </tr>\n",
       "    <tr>\n",
       "      <td id=\"T_4a12c_row51_col0\" class=\"data row51 col0\" >O=C(O)C(F)(OC(O)(F)C(F)(F)C(F)(F)F)C(F)(F)F</td>\n",
       "      <td id=\"T_4a12c_row51_col1\" class=\"data row51 col1\" >sas</td>\n",
       "      <td id=\"T_4a12c_row51_col2\" class=\"data row51 col2\" >4.082863</td>\n",
       "    </tr>\n",
       "    <tr>\n",
       "      <td id=\"T_4a12c_row52_col0\" class=\"data row52 col0\" >ON(O)C(F)(OC(F)(F)C(F)(F)C(F)(F)F)C(F)(F)F</td>\n",
       "      <td id=\"T_4a12c_row52_col1\" class=\"data row52 col1\" >sas</td>\n",
       "      <td id=\"T_4a12c_row52_col2\" class=\"data row52 col2\" >4.053377</td>\n",
       "    </tr>\n",
       "    <tr>\n",
       "      <td id=\"T_4a12c_row53_col0\" class=\"data row53 col0\" >C(C(C1C(=C(C(=O)O1)O)O)O)O</td>\n",
       "      <td id=\"T_4a12c_row53_col1\" class=\"data row53 col1\" >sas</td>\n",
       "      <td id=\"T_4a12c_row53_col2\" class=\"data row53 col2\" >3.678476</td>\n",
       "    </tr>\n",
       "    <tr>\n",
       "      <td id=\"T_4a12c_row54_col0\" class=\"data row54 col0\" >O=C(O)C(F)(OC(O)(F)C(F)(F)C(F)(F)F)C(F)(F)F</td>\n",
       "      <td id=\"T_4a12c_row54_col1\" class=\"data row54 col1\" >esol</td>\n",
       "      <td id=\"T_4a12c_row54_col2\" class=\"data row54 col2\" >-3.473671</td>\n",
       "    </tr>\n",
       "    <tr>\n",
       "      <td id=\"T_4a12c_row55_col0\" class=\"data row55 col0\" >ON(O)C(F)(OC(F)(F)C(F)(F)C(F)(F)F)C(F)(F)F</td>\n",
       "      <td id=\"T_4a12c_row55_col1\" class=\"data row55 col1\" >esol</td>\n",
       "      <td id=\"T_4a12c_row55_col2\" class=\"data row55 col2\" >-4.196835</td>\n",
       "    </tr>\n",
       "    <tr>\n",
       "      <td id=\"T_4a12c_row56_col0\" class=\"data row56 col0\" >C(C(C1C(=C(C(=O)O1)O)O)O)O</td>\n",
       "      <td id=\"T_4a12c_row56_col1\" class=\"data row56 col1\" >esol</td>\n",
       "      <td id=\"T_4a12c_row56_col2\" class=\"data row56 col2\" >0.147082</td>\n",
       "    </tr>\n",
       "  </tbody>\n",
       "</table>\n"
      ],
      "text/plain": [
       "<pandas.io.formats.style.Styler at 0x13447c510>"
      ]
     },
     "execution_count": 16,
     "metadata": {},
     "output_type": "execute_result"
    }
   ],
   "source": [
    "\n",
    "%openad prop get molecule property {properties_all} for  {a_molecule_list}"
   ]
  },
  {
   "cell_type": "code",
   "execution_count": 17,
   "id": "8f12bab5-a1ac-4031-b5a2-0e85a77c9936",
   "metadata": {
    "execution": {
     "iopub.execute_input": "2024-05-23T04:47:25.976337Z",
     "iopub.status.busy": "2024-05-23T04:47:25.976047Z",
     "iopub.status.idle": "2024-05-23T04:47:30.364648Z",
     "shell.execute_reply": "2024-05-23T04:47:30.363858Z",
     "shell.execute_reply.started": "2024-05-23T04:47:25.976314Z"
    },
    "tags": []
   },
   "outputs": [
    {
     "data": {
      "application/vnd.jupyter.widget-view+json": {
       "model_id": "ebd1498bdfa34f0ba312d344f181edae",
       "version_major": 2,
       "version_minor": 0
      },
      "text/plain": [
       "Output()"
      ]
     },
     "metadata": {},
     "output_type": "display_data"
    },
    {
     "data": {
      "text/markdown": [
       "<span style=\"color: #ccc\">Next up, you can run: </span>`result open`/`edit`/`copy`/`display`/`as dataframe`/`save [as '<filename.csv>']` <br> \n"
      ],
      "text/plain": [
       "<IPython.core.display.Markdown object>"
      ]
     },
     "metadata": {},
     "output_type": "display_data"
    },
    {
     "data": {
      "text/html": [
       "<style type=\"text/css\">\n",
       "</style>\n",
       "<table id=\"T_bcba7\">\n",
       "  <thead>\n",
       "    <tr>\n",
       "      <th id=\"T_bcba7_level0_col0\" class=\"col_heading level0 col0\" >subject</th>\n",
       "      <th id=\"T_bcba7_level0_col1\" class=\"col_heading level0 col1\" >property</th>\n",
       "      <th id=\"T_bcba7_level0_col2\" class=\"col_heading level0 col2\" >result</th>\n",
       "    </tr>\n",
       "  </thead>\n",
       "  <tbody>\n",
       "    <tr>\n",
       "      <td id=\"T_bcba7_row0_col0\" class=\"data row0 col0\" >O=C(O)C(F)(OC(O)(F)C(F)(F)C(F)(F)F)C(F)(F)F</td>\n",
       "      <td id=\"T_bcba7_row0_col1\" class=\"data row0 col1\" >activity_against_target</td>\n",
       "      <td id=\"T_bcba7_row0_col2\" class=\"data row0 col2\" >0.011451</td>\n",
       "    </tr>\n",
       "    <tr>\n",
       "      <td id=\"T_bcba7_row1_col0\" class=\"data row1 col0\" >ON(O)C(F)(OC(F)(F)C(F)(F)C(F)(F)F)C(F)(F)F</td>\n",
       "      <td id=\"T_bcba7_row1_col1\" class=\"data row1 col1\" >activity_against_target</td>\n",
       "      <td id=\"T_bcba7_row1_col2\" class=\"data row1 col2\" >0.013815</td>\n",
       "    </tr>\n",
       "    <tr>\n",
       "      <td id=\"T_bcba7_row2_col0\" class=\"data row2 col0\" >C(C(C1C(=C(C(=O)O1)O)O)O)O</td>\n",
       "      <td id=\"T_bcba7_row2_col1\" class=\"data row2 col1\" >activity_against_target</td>\n",
       "      <td id=\"T_bcba7_row2_col2\" class=\"data row2 col2\" >0.003942</td>\n",
       "    </tr>\n",
       "  </tbody>\n",
       "</table>\n"
      ],
      "text/plain": [
       "<pandas.io.formats.style.Styler at 0x134a5ba50>"
      ]
     },
     "execution_count": 17,
     "metadata": {},
     "output_type": "execute_result"
    }
   ],
   "source": [
    "%openad prop get molecule property activity_against_target for {a_molecule_list} using(target=drd2)"
   ]
  },
  {
   "cell_type": "markdown",
   "id": "1802fbeb-ea56-4657-a67f-e453ca2fb61d",
   "metadata": {},
   "source": [
    "# For any property function you can view the compulsory and optional `USING` clause parameters using the interactive help"
   ]
  },
  {
   "cell_type": "code",
   "execution_count": 18,
   "id": "0e4804a3-12ed-47fd-91ad-6a32982f287b",
   "metadata": {
    "execution": {
     "iopub.execute_input": "2024-05-23T04:47:30.366224Z",
     "iopub.status.busy": "2024-05-23T04:47:30.365831Z",
     "iopub.status.idle": "2024-05-23T04:47:30.561729Z",
     "shell.execute_reply": "2024-05-23T04:47:30.561072Z",
     "shell.execute_reply.started": "2024-05-23T04:47:30.366192Z"
    },
    "tags": []
   },
   "outputs": [
    {
     "data": {
      "text/markdown": [
       "<span style=\"color: #dc0\">Commands starting with \"prop get molecule\"</span> <br> \n",
       "- `prop get molecule property activity_against_target for [<list of SMILES>] | <SMILES>   USING (<parameter>=<value> <parameter>=<value>) (save_as '<filename.csv>')` <br> \n",
       "- `prop get molecule property similarity_seed for [<list of SMILES>] | <SMILES>   USING (<parameter>=<value> <parameter>=<value>) (save_as '<filename.csv>')` <br> \n",
       "- `prop get molecule property scscore for [<list of SMILES>] | <SMILES>   USING (<parameter>=<value> <parameter>=<value>) (save_as '<filename.csv>')` <br> \n",
       "- `prop get molecule property [ molecular_weight, number_of_aromatic_rings, number_of_h_acceptors, number_of_h_donors, number_of_atoms, number_of_rings, number_of_rotatable_bonds, number_of_large_rings, number_of_heterocycles, number_of_stereocenters, is_scaffold, bertz, tpsa, logp, qed, plogp, penalized_logp, lipinski, sas, esol ] | <valid_type>   for [<list of SMILES>] | <SMILES>   (save_as '<filename.csv>')` <br> \n"
      ],
      "text/plain": [
       "<IPython.core.display.Markdown object>"
      ]
     },
     "execution_count": 18,
     "metadata": {},
     "output_type": "execute_result"
    }
   ],
   "source": [
    "%openad prop get molecule ?"
   ]
  },
  {
   "cell_type": "markdown",
   "id": "25b15cb6-8eac-4525-94a1-f639f961ff52",
   "metadata": {
    "execution": {
     "iopub.execute_input": "2024-05-15T05:39:12.402233Z",
     "iopub.status.busy": "2024-05-15T05:39:12.401824Z",
     "iopub.status.idle": "2024-05-15T05:39:12.409873Z",
     "shell.execute_reply": "2024-05-15T05:39:12.408466Z",
     "shell.execute_reply.started": "2024-05-15T05:39:12.402207Z"
    },
    "tags": []
   },
   "source": [
    "To view individual property function help simply put ? after the unique string the command starts with and help will show you the Paramaters and Required Paramters for the using clause for the function. This will also show if the functions syntax is not used correctly."
   ]
  },
  {
   "cell_type": "code",
   "execution_count": 19,
   "id": "88cb6f13-777f-432e-9444-328c6f8e8960",
   "metadata": {
    "execution": {
     "iopub.execute_input": "2024-05-23T04:47:30.564511Z",
     "iopub.status.busy": "2024-05-23T04:47:30.564177Z",
     "iopub.status.idle": "2024-05-23T04:47:30.720264Z",
     "shell.execute_reply": "2024-05-23T04:47:30.719584Z",
     "shell.execute_reply.started": "2024-05-23T04:47:30.564489Z"
    },
    "tags": []
   },
   "outputs": [
    {
     "data": {
      "text/markdown": [
       "`prop get molecule property activity_against_target for [<list of SMILES>] | <SMILES>   USING (<parameter>=<value> <parameter>=<value>) (save_as '<filename.csv>')` <br> \n",
       "<span style=\"color: #ccc\">---------------------------------------------------------------------------</span>\n",
       "### Parameters:\n",
       "`target`  <br> \n",
       " - `title` : Target <br> \n",
       "  - `description` : name of the target. <br> \n",
       "  - `example` : drd2 <br> \n",
       "  - `type` : string <br> \n",
       "\n",
       "  \n",
       "### Required Parameters:  <br> \n",
       "\n",
       " - `target` <br> \n",
       "### Function Description: <br> \n",
       "Returns a given Property Type for:  <br> \n",
       " -`activity_against_target`: Calculate the activity of a molecule against a target molecule. <br> \n"
      ],
      "text/plain": [
       "<IPython.core.display.Markdown object>"
      ]
     },
     "execution_count": 19,
     "metadata": {},
     "output_type": "execute_result"
    }
   ],
   "source": [
    "%openad prop get molecule property activity_against_target ?"
   ]
  },
  {
   "cell_type": "markdown",
   "id": "1d592179-0a9b-4894-8ec3-538b044448fa",
   "metadata": {},
   "source": [
    "## Now we will look at Protein Property functions, these behave similar to Molecules with multiple options "
   ]
  },
  {
   "cell_type": "code",
   "execution_count": 20,
   "id": "8b52e6f9-7871-43c6-81a1-85112ece19d0",
   "metadata": {
    "execution": {
     "iopub.execute_input": "2024-05-23T04:47:30.724219Z",
     "iopub.status.busy": "2024-05-23T04:47:30.723941Z",
     "iopub.status.idle": "2024-05-23T04:47:31.390342Z",
     "shell.execute_reply": "2024-05-23T04:47:31.389636Z",
     "shell.execute_reply.started": "2024-05-23T04:47:30.724198Z"
    },
    "tags": []
   },
   "outputs": [
    {
     "data": {
      "text/markdown": [
       "<span style=\"color: #dc0\">Commands starting with \"prop get protein property\"</span> <br> \n",
       "- `prop get protein property [ charge_density, charge ] | <valid_type>   for [<list of Proteins>] | <Protein>   USING (<parameter>=<value> <parameter>=<value>) (save_as '<filename.csv>')` <br> \n",
       "- `prop get protein property [ protein_weight, isoelectric_point ] | <valid_type>   for [<list of Proteins>] | <Protein>   USING (<parameter>=<value> <parameter>=<value>) (save_as '<filename.csv>')` <br> \n",
       "- `prop get protein property [ length, boman_index, aliphaticity, hydrophobicity, aromaticity, instability ] | <valid_type>   for [<list of Proteins>] | <Protein>   (save_as '<filename.csv>')` <br> \n"
      ],
      "text/plain": [
       "<IPython.core.display.Markdown object>"
      ]
     },
     "execution_count": 20,
     "metadata": {},
     "output_type": "execute_result"
    }
   ],
   "source": [
    "%openad prop get protein property ?"
   ]
  },
  {
   "cell_type": "code",
   "execution_count": 21,
   "id": "b53edf26-f16f-491d-b244-3f0cd1be935c",
   "metadata": {
    "execution": {
     "iopub.execute_input": "2024-05-23T04:47:31.410996Z",
     "iopub.status.busy": "2024-05-23T04:47:31.410734Z",
     "iopub.status.idle": "2024-05-23T04:47:35.320992Z",
     "shell.execute_reply": "2024-05-23T04:47:35.320174Z",
     "shell.execute_reply.started": "2024-05-23T04:47:31.410975Z"
    },
    "tags": []
   },
   "outputs": [
    {
     "data": {
      "application/vnd.jupyter.widget-view+json": {
       "model_id": "a335064f634c4f88966f6a5b4445af14",
       "version_major": 2,
       "version_minor": 0
      },
      "text/plain": [
       "Output()"
      ]
     },
     "metadata": {},
     "output_type": "display_data"
    },
    {
     "data": {
      "text/html": [
       "<div>\n",
       "<style scoped>\n",
       "    .dataframe tbody tr th:only-of-type {\n",
       "        vertical-align: middle;\n",
       "    }\n",
       "\n",
       "    .dataframe tbody tr th {\n",
       "        vertical-align: top;\n",
       "    }\n",
       "\n",
       "    .dataframe thead th {\n",
       "        text-align: right;\n",
       "    }\n",
       "</style>\n",
       "<table border=\"1\" class=\"dataframe\">\n",
       "  <thead>\n",
       "    <tr style=\"text-align: right;\">\n",
       "      <th></th>\n",
       "      <th>subject</th>\n",
       "      <th>property</th>\n",
       "      <th>result</th>\n",
       "    </tr>\n",
       "  </thead>\n",
       "  <tbody>\n",
       "    <tr>\n",
       "      <th>0</th>\n",
       "      <td>MKYNNRKLSFNPTTVSIAGTLLTVFFLTRLVLSFFSISLFQLVTFQGIFKPYVPDFKNTPSVEFYDLRNYQGNKDGWQQGDRILFCVPLRDASEHLPMFFNHLNTMTYPHNLIDLSFLVSDSSDNTMGVLLSNLQMAQSQQDKSKRFGNIEIYEKDFGQIIGQSFSDRHGFGAQGPRRKLMARARNWLGSVALKPYHSWVYWRDVDVETIPTTIMEDLMHHDKDVIVPNVWRPLPDWLGNIQPYDLNSWKESEGGLQLADSLDEDAVIVEGYPEYATWRPHLAYMRDPNGNPEDEMELDGIGGVSILAKAKVFRTGSHFPAFSFEKHAETEAFGRLSRRMNYNVIGLPHYVIWHIYEPSSDDLKHMAWMAEEEKRKLEEERIREFYNKIWEIGFEDVRDQWNEERDSILKNIDSTLNNKVTVDWSEEGDGSELVDSKGDFVSPNNQQQQQQQQQQQQQQQQQQQQQQLDGNPQGKPLDDNDKNKKKHPKEVPLDFDPDRN</td>\n",
       "      <td>charge_density</td>\n",
       "      <td>-0.000338</td>\n",
       "    </tr>\n",
       "    <tr>\n",
       "      <th>1</th>\n",
       "      <td>MQYLNFPRMPNIMMFLEVAILCLWVVADASASSAKFGSTTPASAQQSDVELEPINGTLNYRLYAKKGRDDKPWFDGLDSRHIQCVRRARCYPTSNATNTCFGSKLPYELSSLDLTDFHTEKELNDKLNDYYALKHVPKCWAAIQPFLCAVFKPKCEKINGEDMVYLPSYEMCRITMEPCRILYNTTFFPKFLRCNETLFPTKCTNGARGMKFNGTGQCLSPLVPTDTSASYYPGIEGCGVRCKDPLYTDDEHRQIHKLIGWAGSICLLSNLFVVSTFFIDWKNANKYPAVIVFYINLCFLIACVGWLLQFTSGSREDIVCRKDGTLRHSEPTAGENLSCIVIFVLVYYFLTAGMVWFVFLTYAWHWRAMGHVQDRIDKKGSYFHLVAWSLPLVLTITTMAFSEVDGNSIVGICFVGYINHSMRAGLLLGPLCGVILIGGYFITRGMVMLFGLKHFANDIKSTSASNKIHLIIMRMGVCALLTLVFILVAIACHVTEFRHADEWAQSFRQFIICKISSVFEEKSSCRIENRPSVGVLQLHLLCLFSSGIVMSTWCWTPSSIETWKRYIRKKCGKEVVEEVKMPKHKVIAQTWAKRKDFEDKGRLSITLYNTHTDPVGLNFDVNDLNSSETNDISSTWAAYLPQCVKRRMALTGAATGNSSSHGPRKNSLDSEISVSVRHVSVESRRNSVDSQVSVKIAEMKTKVASRSRGKHGGSSSNRRTQRRRDYIAAATGKSSRRRESSTSVESQVIALKKTTYPNASHKVGVFAHHSSKKQHNYTSSMKRRTANAGLDPSILNEFLQKNGDFIFPFLQNQDMSSSSEEDNSRASQKIQDLNVVVKQQEISEDDHDGIKIEELPNSKQVALENFLKNIKKSNESNSNRHSRNSARSQSKKSQKRHLKNPAADLDFRKDCVKYRSNDSLSCSSEELDVALDVGSLLNSSFSGISMGKPHSRNSKTSCDVGIQANPFELVPSYGEDELQQAMRLLNAASRQRTEAANEDFGGTELQGLLGHSHRHQREPTFMSESDKLKMLLLPSK</td>\n",
       "      <td>charge_density</td>\n",
       "      <td>0.000240</td>\n",
       "    </tr>\n",
       "    <tr>\n",
       "      <th>2</th>\n",
       "      <td>MKYNNRKLSFNPTTVSIAGTLLTVFFLTRLVLSFFSISLFQLVTFQGIFKPYVPDFKNTPSVEFYDLRNYQGNKDGWQQGDRILFCVPLRDASEHLPMFFNHLNTMTYPHNLIDLSFLVSDSSDNTMGVLLSNLQMAQSQQDKSKRFGNIEIYEKDFGQIIGQSFSDRHGFGAQGPRRKLMARARNWLGSVALKPYHSWVYWRDVDVETIPTTIMEDLMHHDKDVIVPNVWRPLPDWLGNIQPYDLNSWKESEGGLQLADSLDEDAVIVEGYPEYATWRPHLAYMRDPNGNPEDEMELDGIGGVSILAKAKVFRTGSHFPAFSFEKHAETEAFGRLSRRMNYNVIGLPHYVIWHIYEPSSDDLKHMAWMAEEEKRKLEEERIREFYNKIWEIGFEDVRDQWNEERDSILKNIDSTLNNKVTVDWSEEGDGSELVDSKGDFVSPNNQQQQQQQQQQQQQQQQQQQQQQLDGNPQGKPLDDNDKNKKKHPKEVPLDFDPDRN</td>\n",
       "      <td>charge</td>\n",
       "      <td>-19.640000</td>\n",
       "    </tr>\n",
       "    <tr>\n",
       "      <th>3</th>\n",
       "      <td>MQYLNFPRMPNIMMFLEVAILCLWVVADASASSAKFGSTTPASAQQSDVELEPINGTLNYRLYAKKGRDDKPWFDGLDSRHIQCVRRARCYPTSNATNTCFGSKLPYELSSLDLTDFHTEKELNDKLNDYYALKHVPKCWAAIQPFLCAVFKPKCEKINGEDMVYLPSYEMCRITMEPCRILYNTTFFPKFLRCNETLFPTKCTNGARGMKFNGTGQCLSPLVPTDTSASYYPGIEGCGVRCKDPLYTDDEHRQIHKLIGWAGSICLLSNLFVVSTFFIDWKNANKYPAVIVFYINLCFLIACVGWLLQFTSGSREDIVCRKDGTLRHSEPTAGENLSCIVIFVLVYYFLTAGMVWFVFLTYAWHWRAMGHVQDRIDKKGSYFHLVAWSLPLVLTITTMAFSEVDGNSIVGICFVGYINHSMRAGLLLGPLCGVILIGGYFITRGMVMLFGLKHFANDIKSTSASNKIHLIIMRMGVCALLTLVFILVAIACHVTEFRHADEWAQSFRQFIICKISSVFEEKSSCRIENRPSVGVLQLHLLCLFSSGIVMSTWCWTPSSIETWKRYIRKKCGKEVVEEVKMPKHKVIAQTWAKRKDFEDKGRLSITLYNTHTDPVGLNFDVNDLNSSETNDISSTWAAYLPQCVKRRMALTGAATGNSSSHGPRKNSLDSEISVSVRHVSVESRRNSVDSQVSVKIAEMKTKVASRSRGKHGGSSSNRRTQRRRDYIAAATGKSSRRRESSTSVESQVIALKKTTYPNASHKVGVFAHHSSKKQHNYTSSMKRRTANAGLDPSILNEFLQKNGDFIFPFLQNQDMSSSSEEDNSRASQKIQDLNVVVKQQEISEDDHDGIKIEELPNSKQVALENFLKNIKKSNESNSNRHSRNSARSQSKKSQKRHLKNPAADLDFRKDCVKYRSNDSLSCSSEELDVALDVGSLLNSSFSGISMGKPHSRNSKTSCDVGIQANPFELVPSYGEDELQQAMRLLNAASRQRTEAANEDFGGTELQGLLGHSHRHQREPTFMSESDKLKMLLLPSK</td>\n",
       "      <td>charge</td>\n",
       "      <td>27.958000</td>\n",
       "    </tr>\n",
       "  </tbody>\n",
       "</table>\n",
       "</div>"
      ],
      "text/plain": [
       "                                                                                                                                                                                                                                                                                                                                                                                                                                                                                                                                                                                                                                                                                                                                                                                                                                                                                                                                                                                                                                                                        subject   \n",
       "0                                                                                                                                                                                                                                                                                                                                                                                                                                                                                                                                                          MKYNNRKLSFNPTTVSIAGTLLTVFFLTRLVLSFFSISLFQLVTFQGIFKPYVPDFKNTPSVEFYDLRNYQGNKDGWQQGDRILFCVPLRDASEHLPMFFNHLNTMTYPHNLIDLSFLVSDSSDNTMGVLLSNLQMAQSQQDKSKRFGNIEIYEKDFGQIIGQSFSDRHGFGAQGPRRKLMARARNWLGSVALKPYHSWVYWRDVDVETIPTTIMEDLMHHDKDVIVPNVWRPLPDWLGNIQPYDLNSWKESEGGLQLADSLDEDAVIVEGYPEYATWRPHLAYMRDPNGNPEDEMELDGIGGVSILAKAKVFRTGSHFPAFSFEKHAETEAFGRLSRRMNYNVIGLPHYVIWHIYEPSSDDLKHMAWMAEEEKRKLEEERIREFYNKIWEIGFEDVRDQWNEERDSILKNIDSTLNNKVTVDWSEEGDGSELVDSKGDFVSPNNQQQQQQQQQQQQQQQQQQQQQQLDGNPQGKPLDDNDKNKKKHPKEVPLDFDPDRN  \\\n",
       "1  MQYLNFPRMPNIMMFLEVAILCLWVVADASASSAKFGSTTPASAQQSDVELEPINGTLNYRLYAKKGRDDKPWFDGLDSRHIQCVRRARCYPTSNATNTCFGSKLPYELSSLDLTDFHTEKELNDKLNDYYALKHVPKCWAAIQPFLCAVFKPKCEKINGEDMVYLPSYEMCRITMEPCRILYNTTFFPKFLRCNETLFPTKCTNGARGMKFNGTGQCLSPLVPTDTSASYYPGIEGCGVRCKDPLYTDDEHRQIHKLIGWAGSICLLSNLFVVSTFFIDWKNANKYPAVIVFYINLCFLIACVGWLLQFTSGSREDIVCRKDGTLRHSEPTAGENLSCIVIFVLVYYFLTAGMVWFVFLTYAWHWRAMGHVQDRIDKKGSYFHLVAWSLPLVLTITTMAFSEVDGNSIVGICFVGYINHSMRAGLLLGPLCGVILIGGYFITRGMVMLFGLKHFANDIKSTSASNKIHLIIMRMGVCALLTLVFILVAIACHVTEFRHADEWAQSFRQFIICKISSVFEEKSSCRIENRPSVGVLQLHLLCLFSSGIVMSTWCWTPSSIETWKRYIRKKCGKEVVEEVKMPKHKVIAQTWAKRKDFEDKGRLSITLYNTHTDPVGLNFDVNDLNSSETNDISSTWAAYLPQCVKRRMALTGAATGNSSSHGPRKNSLDSEISVSVRHVSVESRRNSVDSQVSVKIAEMKTKVASRSRGKHGGSSSNRRTQRRRDYIAAATGKSSRRRESSTSVESQVIALKKTTYPNASHKVGVFAHHSSKKQHNYTSSMKRRTANAGLDPSILNEFLQKNGDFIFPFLQNQDMSSSSEEDNSRASQKIQDLNVVVKQQEISEDDHDGIKIEELPNSKQVALENFLKNIKKSNESNSNRHSRNSARSQSKKSQKRHLKNPAADLDFRKDCVKYRSNDSLSCSSEELDVALDVGSLLNSSFSGISMGKPHSRNSKTSCDVGIQANPFELVPSYGEDELQQAMRLLNAASRQRTEAANEDFGGTELQGLLGHSHRHQREPTFMSESDKLKMLLLPSK   \n",
       "2                                                                                                                                                                                                                                                                                                                                                                                                                                                                                                                                                          MKYNNRKLSFNPTTVSIAGTLLTVFFLTRLVLSFFSISLFQLVTFQGIFKPYVPDFKNTPSVEFYDLRNYQGNKDGWQQGDRILFCVPLRDASEHLPMFFNHLNTMTYPHNLIDLSFLVSDSSDNTMGVLLSNLQMAQSQQDKSKRFGNIEIYEKDFGQIIGQSFSDRHGFGAQGPRRKLMARARNWLGSVALKPYHSWVYWRDVDVETIPTTIMEDLMHHDKDVIVPNVWRPLPDWLGNIQPYDLNSWKESEGGLQLADSLDEDAVIVEGYPEYATWRPHLAYMRDPNGNPEDEMELDGIGGVSILAKAKVFRTGSHFPAFSFEKHAETEAFGRLSRRMNYNVIGLPHYVIWHIYEPSSDDLKHMAWMAEEEKRKLEEERIREFYNKIWEIGFEDVRDQWNEERDSILKNIDSTLNNKVTVDWSEEGDGSELVDSKGDFVSPNNQQQQQQQQQQQQQQQQQQQQQQLDGNPQGKPLDDNDKNKKKHPKEVPLDFDPDRN   \n",
       "3  MQYLNFPRMPNIMMFLEVAILCLWVVADASASSAKFGSTTPASAQQSDVELEPINGTLNYRLYAKKGRDDKPWFDGLDSRHIQCVRRARCYPTSNATNTCFGSKLPYELSSLDLTDFHTEKELNDKLNDYYALKHVPKCWAAIQPFLCAVFKPKCEKINGEDMVYLPSYEMCRITMEPCRILYNTTFFPKFLRCNETLFPTKCTNGARGMKFNGTGQCLSPLVPTDTSASYYPGIEGCGVRCKDPLYTDDEHRQIHKLIGWAGSICLLSNLFVVSTFFIDWKNANKYPAVIVFYINLCFLIACVGWLLQFTSGSREDIVCRKDGTLRHSEPTAGENLSCIVIFVLVYYFLTAGMVWFVFLTYAWHWRAMGHVQDRIDKKGSYFHLVAWSLPLVLTITTMAFSEVDGNSIVGICFVGYINHSMRAGLLLGPLCGVILIGGYFITRGMVMLFGLKHFANDIKSTSASNKIHLIIMRMGVCALLTLVFILVAIACHVTEFRHADEWAQSFRQFIICKISSVFEEKSSCRIENRPSVGVLQLHLLCLFSSGIVMSTWCWTPSSIETWKRYIRKKCGKEVVEEVKMPKHKVIAQTWAKRKDFEDKGRLSITLYNTHTDPVGLNFDVNDLNSSETNDISSTWAAYLPQCVKRRMALTGAATGNSSSHGPRKNSLDSEISVSVRHVSVESRRNSVDSQVSVKIAEMKTKVASRSRGKHGGSSSNRRTQRRRDYIAAATGKSSRRRESSTSVESQVIALKKTTYPNASHKVGVFAHHSSKKQHNYTSSMKRRTANAGLDPSILNEFLQKNGDFIFPFLQNQDMSSSSEEDNSRASQKIQDLNVVVKQQEISEDDHDGIKIEELPNSKQVALENFLKNIKKSNESNSNRHSRNSARSQSKKSQKRHLKNPAADLDFRKDCVKYRSNDSLSCSSEELDVALDVGSLLNSSFSGISMGKPHSRNSKTSCDVGIQANPFELVPSYGEDELQQAMRLLNAASRQRTEAANEDFGGTELQGLLGHSHRHQREPTFMSESDKLKMLLLPSK   \n",
       "\n",
       "         property     result  \n",
       "0  charge_density  -0.000338  \n",
       "1  charge_density   0.000240  \n",
       "2          charge -19.640000  \n",
       "3          charge  27.958000  "
      ]
     },
     "execution_count": 21,
     "metadata": {},
     "output_type": "execute_result"
    }
   ],
   "source": [
    "proteins = ['MKYNNRKLSFNPTTVSIAGTLLTVFFLTRLVLSFFSISLFQLVTFQGIFKPYVPDFKNTPSVEFYDLRNYQGNKDGWQQGDRILFCVPLRDASEHLPMFFNHLNTMTYPHNLIDLSFLVSDSSDNTMGVLLSNLQMAQSQQDKSKRFGNIEIYEKDFGQIIGQSFSDRHGFGAQGPRRKLMARARNWLGSVALKPYHSWVYWRDVDVETIPTTIMEDLMHHDKDVIVPNVWRPLPDWLGNIQPYDLNSWKESEGGLQLADSLDEDAVIVEGYPEYATWRPHLAYMRDPNGNPEDEMELDGIGGVSILAKAKVFRTGSHFPAFSFEKHAETEAFGRLSRRMNYNVIGLPHYVIWHIYEPSSDDLKHMAWMAEEEKRKLEEERIREFYNKIWEIGFEDVRDQWNEERDSILKNIDSTLNNKVTVDWSEEGDGSELVDSKGDFVSPNNQQQQQQQQQQQQQQQQQQQQQQLDGNPQGKPLDDNDKNKKKHPKEVPLDFDPDRN','MQYLNFPRMPNIMMFLEVAILCLWVVADASASSAKFGSTTPASAQQSDVELEPINGTLNYRLYAKKGRDDKPWFDGLDSRHIQCVRRARCYPTSNATNTCFGSKLPYELSSLDLTDFHTEKELNDKLNDYYALKHVPKCWAAIQPFLCAVFKPKCEKINGEDMVYLPSYEMCRITMEPCRILYNTTFFPKFLRCNETLFPTKCTNGARGMKFNGTGQCLSPLVPTDTSASYYPGIEGCGVRCKDPLYTDDEHRQIHKLIGWAGSICLLSNLFVVSTFFIDWKNANKYPAVIVFYINLCFLIACVGWLLQFTSGSREDIVCRKDGTLRHSEPTAGENLSCIVIFVLVYYFLTAGMVWFVFLTYAWHWRAMGHVQDRIDKKGSYFHLVAWSLPLVLTITTMAFSEVDGNSIVGICFVGYINHSMRAGLLLGPLCGVILIGGYFITRGMVMLFGLKHFANDIKSTSASNKIHLIIMRMGVCALLTLVFILVAIACHVTEFRHADEWAQSFRQFIICKISSVFEEKSSCRIENRPSVGVLQLHLLCLFSSGIVMSTWCWTPSSIETWKRYIRKKCGKEVVEEVKMPKHKVIAQTWAKRKDFEDKGRLSITLYNTHTDPVGLNFDVNDLNSSETNDISSTWAAYLPQCVKRRMALTGAATGNSSSHGPRKNSLDSEISVSVRHVSVESRRNSVDSQVSVKIAEMKTKVASRSRGKHGGSSSNRRTQRRRDYIAAATGKSSRRRESSTSVESQVIALKKTTYPNASHKVGVFAHHSSKKQHNYTSSMKRRTANAGLDPSILNEFLQKNGDFIFPFLQNQDMSSSSEEDNSRASQKIQDLNVVVKQQEISEDDHDGIKIEELPNSKQVALENFLKNIKKSNESNSNRHSRNSARSQSKKSQKRHLKNPAADLDFRKDCVKYRSNDSLSCSSEELDVALDVGSLLNSSFSGISMGKPHSRNSKTSCDVGIQANPFELVPSYGEDELQQAMRLLNAASRQRTEAANEDFGGTELQGLLGHSHRHQREPTFMSESDKLKMLLLPSK']\n",
    "%openadd prop get protein property [ charge_density, charge ]  for ['MKYNNRKLSFNPTTVSIAGTLLTVFFLTRLVLSFFSISLFQLVTFQGIFKPYVPDFKNTPSVEFYDLRNYQGNKDGWQQGDRILFCVPLRDASEHLPMFFNHLNTMTYPHNLIDLSFLVSDSSDNTMGVLLSNLQMAQSQQDKSKRFGNIEIYEKDFGQIIGQSFSDRHGFGAQGPRRKLMARARNWLGSVALKPYHSWVYWRDVDVETIPTTIMEDLMHHDKDVIVPNVWRPLPDWLGNIQPYDLNSWKESEGGLQLADSLDEDAVIVEGYPEYATWRPHLAYMRDPNGNPEDEMELDGIGGVSILAKAKVFRTGSHFPAFSFEKHAETEAFGRLSRRMNYNVIGLPHYVIWHIYEPSSDDLKHMAWMAEEEKRKLEEERIREFYNKIWEIGFEDVRDQWNEERDSILKNIDSTLNNKVTVDWSEEGDGSELVDSKGDFVSPNNQQQQQQQQQQQQQQQQQQQQQQLDGNPQGKPLDDNDKNKKKHPKEVPLDFDPDRN','MQYLNFPRMPNIMMFLEVAILCLWVVADASASSAKFGSTTPASAQQSDVELEPINGTLNYRLYAKKGRDDKPWFDGLDSRHIQCVRRARCYPTSNATNTCFGSKLPYELSSLDLTDFHTEKELNDKLNDYYALKHVPKCWAAIQPFLCAVFKPKCEKINGEDMVYLPSYEMCRITMEPCRILYNTTFFPKFLRCNETLFPTKCTNGARGMKFNGTGQCLSPLVPTDTSASYYPGIEGCGVRCKDPLYTDDEHRQIHKLIGWAGSICLLSNLFVVSTFFIDWKNANKYPAVIVFYINLCFLIACVGWLLQFTSGSREDIVCRKDGTLRHSEPTAGENLSCIVIFVLVYYFLTAGMVWFVFLTYAWHWRAMGHVQDRIDKKGSYFHLVAWSLPLVLTITTMAFSEVDGNSIVGICFVGYINHSMRAGLLLGPLCGVILIGGYFITRGMVMLFGLKHFANDIKSTSASNKIHLIIMRMGVCALLTLVFILVAIACHVTEFRHADEWAQSFRQFIICKISSVFEEKSSCRIENRPSVGVLQLHLLCLFSSGIVMSTWCWTPSSIETWKRYIRKKCGKEVVEEVKMPKHKVIAQTWAKRKDFEDKGRLSITLYNTHTDPVGLNFDVNDLNSSETNDISSTWAAYLPQCVKRRMALTGAATGNSSSHGPRKNSLDSEISVSVRHVSVESRRNSVDSQVSVKIAEMKTKVASRSRGKHGGSSSNRRTQRRRDYIAAATGKSSRRRESSTSVESQVIALKKTTYPNASHKVGVFAHHSSKKQHNYTSSMKRRTANAGLDPSILNEFLQKNGDFIFPFLQNQDMSSSSEEDNSRASQKIQDLNVVVKQQEISEDDHDGIKIEELPNSKQVALENFLKNIKKSNESNSNRHSRNSARSQSKKSQKRHLKNPAADLDFRKDCVKYRSNDSLSCSSEELDVALDVGSLLNSSFSGISMGKPHSRNSKTSCDVGIQANPFELVPSYGEDELQQAMRLLNAASRQRTEAANEDFGGTELQGLLGHSHRHQREPTFMSESDKLKMLLLPSK']"
   ]
  },
  {
   "cell_type": "code",
   "execution_count": 22,
   "id": "0a339d5c-33e0-4035-8a07-872bbf5bc36a",
   "metadata": {
    "execution": {
     "iopub.execute_input": "2024-05-23T04:47:35.322564Z",
     "iopub.status.busy": "2024-05-23T04:47:35.322226Z",
     "iopub.status.idle": "2024-05-23T04:47:35.483783Z",
     "shell.execute_reply": "2024-05-23T04:47:35.483158Z",
     "shell.execute_reply.started": "2024-05-23T04:47:35.322537Z"
    },
    "tags": []
   },
   "outputs": [
    {
     "data": {
      "text/markdown": [
       "`prop get protein property [ charge_density, charge ] | <valid_type>   for [<list of Proteins>] | <Protein>   USING (<parameter>=<value> <parameter>=<value>) (save_as '<filename.csv>')` <br> \n",
       "<span style=\"color: #ccc\">---------------------------------------------------------------------------</span>\n",
       "### Parameters:\n",
       "`amide`  <br> \n",
       " - `title` : Amide <br> \n",
       "  - `description` : whether the sequences are C-terminally amidated. <br> \n",
       "  - `default` : False <br> \n",
       "  - `example` : False <br> \n",
       "  - `type` : boolean <br> \n",
       "\n",
       "\n",
       "`ph`  <br> \n",
       " - `title` : Ph <br> \n",
       "  - `default` : 7.0 <br> \n",
       "  - `type` : number <br> \n",
       "\n",
       "\n",
       "### Function Description: <br> \n",
       "Returns a given Property Type for:  <br> \n",
       " -`charge_density`: Computes the charge density of a protein. <br> \n"
      ],
      "text/plain": [
       "<IPython.core.display.Markdown object>"
      ]
     },
     "execution_count": 22,
     "metadata": {},
     "output_type": "execute_result"
    }
   ],
   "source": [
    "%openad prop get protein property [ charge_density ?"
   ]
  },
  {
   "cell_type": "code",
   "execution_count": 23,
   "id": "fe282a33-475b-4c50-92e3-a53cb6ac43d2",
   "metadata": {
    "execution": {
     "iopub.execute_input": "2024-05-23T04:47:35.486827Z",
     "iopub.status.busy": "2024-05-23T04:47:35.486453Z",
     "iopub.status.idle": "2024-05-23T04:47:39.592640Z",
     "shell.execute_reply": "2024-05-23T04:47:39.591907Z",
     "shell.execute_reply.started": "2024-05-23T04:47:35.486804Z"
    },
    "tags": []
   },
   "outputs": [
    {
     "data": {
      "application/vnd.jupyter.widget-view+json": {
       "model_id": "2f9d18c9767e495b95f652f020c81dc7",
       "version_major": 2,
       "version_minor": 0
      },
      "text/plain": [
       "Output()"
      ]
     },
     "metadata": {},
     "output_type": "display_data"
    },
    {
     "data": {
      "text/markdown": [
       "<span style=\"color: #ccc\">Next up, you can run: </span>`result open`/`edit`/`copy`/`display`/`as dataframe`/`save [as '<filename.csv>']` <br> \n"
      ],
      "text/plain": [
       "<IPython.core.display.Markdown object>"
      ]
     },
     "metadata": {},
     "output_type": "display_data"
    },
    {
     "data": {
      "text/html": [
       "<style type=\"text/css\">\n",
       "</style>\n",
       "<table id=\"T_a1c3a\">\n",
       "  <thead>\n",
       "    <tr>\n",
       "      <th id=\"T_a1c3a_level0_col0\" class=\"col_heading level0 col0\" >subject</th>\n",
       "      <th id=\"T_a1c3a_level0_col1\" class=\"col_heading level0 col1\" >property</th>\n",
       "      <th id=\"T_a1c3a_level0_col2\" class=\"col_heading level0 col2\" >result</th>\n",
       "    </tr>\n",
       "  </thead>\n",
       "  <tbody>\n",
       "    <tr>\n",
       "      <td id=\"T_a1c3a_row0_col0\" class=\"data row0 col0\" >MKYNNRKLSFNPTTVSIAGTLLTVFFLTRLVLSFFSISLFQLVTFQGIFKPYVPDFKNTPSVEFYDLRNYQGNKDGWQQGDRILFCVPLRDASEHLPMFFNHLNTMTYPHNLIDLSFLVSDSSDNTMGVLLSNLQMAQSQQDKSKRFGNIEIYEKDFGQIIGQSFSDRHGFGAQGPRRKLMARARNWLGSVALKPYHSWVYWRDVDVETIPTTIMEDLMHHDKDVIVPNVWRPLPDWLGNIQPYDLNSWKESEGGLQLADSLDEDAVIVEGYPEYATWRPHLAYMRDPNGNPEDEMELDGIGGVSILAKAKVFRTGSHFPAFSFEKHAETEAFGRLSRRMNYNVIGLPHYVIWHIYEPSSDDLKHMAWMAEEEKRKLEEERIREFYNKIWEIGFEDVRDQWNEERDSILKNIDSTLNNKVTVDWSEEGDGSELVDSKGDFVSPNNQQQQQQQQQQQQQQQQQQQQQQLDGNPQGKPLDDNDKNKKKHPKEVPLDFDPDRN</td>\n",
       "      <td id=\"T_a1c3a_row0_col1\" class=\"data row0 col1\" >protein_weight</td>\n",
       "      <td id=\"T_a1c3a_row0_col2\" class=\"data row0 col2\" >58181.490000</td>\n",
       "    </tr>\n",
       "    <tr>\n",
       "      <td id=\"T_a1c3a_row1_col0\" class=\"data row1 col0\" >MQYLNFPRMPNIMMFLEVAILCLWVVADASASSAKFGSTTPASAQQSDVELEPINGTLNYRLYAKKGRDDKPWFDGLDSRHIQCVRRARCYPTSNATNTCFGSKLPYELSSLDLTDFHTEKELNDKLNDYYALKHVPKCWAAIQPFLCAVFKPKCEKINGEDMVYLPSYEMCRITMEPCRILYNTTFFPKFLRCNETLFPTKCTNGARGMKFNGTGQCLSPLVPTDTSASYYPGIEGCGVRCKDPLYTDDEHRQIHKLIGWAGSICLLSNLFVVSTFFIDWKNANKYPAVIVFYINLCFLIACVGWLLQFTSGSREDIVCRKDGTLRHSEPTAGENLSCIVIFVLVYYFLTAGMVWFVFLTYAWHWRAMGHVQDRIDKKGSYFHLVAWSLPLVLTITTMAFSEVDGNSIVGICFVGYINHSMRAGLLLGPLCGVILIGGYFITRGMVMLFGLKHFANDIKSTSASNKIHLIIMRMGVCALLTLVFILVAIACHVTEFRHADEWAQSFRQFIICKISSVFEEKSSCRIENRPSVGVLQLHLLCLFSSGIVMSTWCWTPSSIETWKRYIRKKCGKEVVEEVKMPKHKVIAQTWAKRKDFEDKGRLSITLYNTHTDPVGLNFDVNDLNSSETNDISSTWAAYLPQCVKRRMALTGAATGNSSSHGPRKNSLDSEISVSVRHVSVESRRNSVDSQVSVKIAEMKTKVASRSRGKHGGSSSNRRTQRRRDYIAAATGKSSRRRESSTSVESQVIALKKTTYPNASHKVGVFAHHSSKKQHNYTSSMKRRTANAGLDPSILNEFLQKNGDFIFPFLQNQDMSSSSEEDNSRASQKIQDLNVVVKQQEISEDDHDGIKIEELPNSKQVALENFLKNIKKSNESNSNRHSRNSARSQSKKSQKRHLKNPAADLDFRKDCVKYRSNDSLSCSSEELDVALDVGSLLNSSFSGISMGKPHSRNSKTSCDVGIQANPFELVPSYGEDELQQAMRLLNAASRQRTEAANEDFGGTELQGLLGHSHRHQREPTFMSESDKLKMLLLPSK</td>\n",
       "      <td id=\"T_a1c3a_row1_col1\" class=\"data row1 col1\" >protein_weight</td>\n",
       "      <td id=\"T_a1c3a_row1_col2\" class=\"data row1 col2\" >116551.410000</td>\n",
       "    </tr>\n",
       "    <tr>\n",
       "      <td id=\"T_a1c3a_row2_col0\" class=\"data row2 col0\" >MKYNNRKLSFNPTTVSIAGTLLTVFFLTRLVLSFFSISLFQLVTFQGIFKPYVPDFKNTPSVEFYDLRNYQGNKDGWQQGDRILFCVPLRDASEHLPMFFNHLNTMTYPHNLIDLSFLVSDSSDNTMGVLLSNLQMAQSQQDKSKRFGNIEIYEKDFGQIIGQSFSDRHGFGAQGPRRKLMARARNWLGSVALKPYHSWVYWRDVDVETIPTTIMEDLMHHDKDVIVPNVWRPLPDWLGNIQPYDLNSWKESEGGLQLADSLDEDAVIVEGYPEYATWRPHLAYMRDPNGNPEDEMELDGIGGVSILAKAKVFRTGSHFPAFSFEKHAETEAFGRLSRRMNYNVIGLPHYVIWHIYEPSSDDLKHMAWMAEEEKRKLEEERIREFYNKIWEIGFEDVRDQWNEERDSILKNIDSTLNNKVTVDWSEEGDGSELVDSKGDFVSPNNQQQQQQQQQQQQQQQQQQQQQQLDGNPQGKPLDDNDKNKKKHPKEVPLDFDPDRN</td>\n",
       "      <td id=\"T_a1c3a_row2_col1\" class=\"data row2 col1\" >isoelectric_point</td>\n",
       "      <td id=\"T_a1c3a_row2_col2\" class=\"data row2 col2\" >4.872742</td>\n",
       "    </tr>\n",
       "    <tr>\n",
       "      <td id=\"T_a1c3a_row3_col0\" class=\"data row3 col0\" >MQYLNFPRMPNIMMFLEVAILCLWVVADASASSAKFGSTTPASAQQSDVELEPINGTLNYRLYAKKGRDDKPWFDGLDSRHIQCVRRARCYPTSNATNTCFGSKLPYELSSLDLTDFHTEKELNDKLNDYYALKHVPKCWAAIQPFLCAVFKPKCEKINGEDMVYLPSYEMCRITMEPCRILYNTTFFPKFLRCNETLFPTKCTNGARGMKFNGTGQCLSPLVPTDTSASYYPGIEGCGVRCKDPLYTDDEHRQIHKLIGWAGSICLLSNLFVVSTFFIDWKNANKYPAVIVFYINLCFLIACVGWLLQFTSGSREDIVCRKDGTLRHSEPTAGENLSCIVIFVLVYYFLTAGMVWFVFLTYAWHWRAMGHVQDRIDKKGSYFHLVAWSLPLVLTITTMAFSEVDGNSIVGICFVGYINHSMRAGLLLGPLCGVILIGGYFITRGMVMLFGLKHFANDIKSTSASNKIHLIIMRMGVCALLTLVFILVAIACHVTEFRHADEWAQSFRQFIICKISSVFEEKSSCRIENRPSVGVLQLHLLCLFSSGIVMSTWCWTPSSIETWKRYIRKKCGKEVVEEVKMPKHKVIAQTWAKRKDFEDKGRLSITLYNTHTDPVGLNFDVNDLNSSETNDISSTWAAYLPQCVKRRMALTGAATGNSSSHGPRKNSLDSEISVSVRHVSVESRRNSVDSQVSVKIAEMKTKVASRSRGKHGGSSSNRRTQRRRDYIAAATGKSSRRRESSTSVESQVIALKKTTYPNASHKVGVFAHHSSKKQHNYTSSMKRRTANAGLDPSILNEFLQKNGDFIFPFLQNQDMSSSSEEDNSRASQKIQDLNVVVKQQEISEDDHDGIKIEELPNSKQVALENFLKNIKKSNESNSNRHSRNSARSQSKKSQKRHLKNPAADLDFRKDCVKYRSNDSLSCSSEELDVALDVGSLLNSSFSGISMGKPHSRNSKTSCDVGIQANPFELVPSYGEDELQQAMRLLNAASRQRTEAANEDFGGTELQGLLGHSHRHQREPTFMSESDKLKMLLLPSK</td>\n",
       "      <td id=\"T_a1c3a_row3_col1\" class=\"data row3 col1\" >isoelectric_point</td>\n",
       "      <td id=\"T_a1c3a_row3_col2\" class=\"data row3 col2\" >8.696594</td>\n",
       "    </tr>\n",
       "  </tbody>\n",
       "</table>\n"
      ],
      "text/plain": [
       "<pandas.io.formats.style.Styler at 0x13718a710>"
      ]
     },
     "execution_count": 23,
     "metadata": {},
     "output_type": "execute_result"
    }
   ],
   "source": [
    "%openad prop get protein property [ protein_weight, isoelectric_point ] for {proteins}"
   ]
  },
  {
   "cell_type": "code",
   "execution_count": 24,
   "id": "7a39f65f-7a1c-4060-bd34-d3dee94e8974",
   "metadata": {
    "execution": {
     "iopub.execute_input": "2024-05-23T04:47:39.644457Z",
     "iopub.status.busy": "2024-05-23T04:47:39.644280Z",
     "iopub.status.idle": "2024-05-23T04:47:43.595578Z",
     "shell.execute_reply": "2024-05-23T04:47:43.594727Z",
     "shell.execute_reply.started": "2024-05-23T04:47:39.644438Z"
    },
    "tags": []
   },
   "outputs": [
    {
     "data": {
      "application/vnd.jupyter.widget-view+json": {
       "model_id": "a47a13fea71c42c5a6efcce80a5ad22c",
       "version_major": 2,
       "version_minor": 0
      },
      "text/plain": [
       "Output()"
      ]
     },
     "metadata": {},
     "output_type": "display_data"
    },
    {
     "data": {
      "text/markdown": [
       "<span style=\"color: #ccc\">Next up, you can run: </span>`result open`/`edit`/`copy`/`display`/`as dataframe`/`save [as '<filename.csv>']` <br> \n"
      ],
      "text/plain": [
       "<IPython.core.display.Markdown object>"
      ]
     },
     "metadata": {},
     "output_type": "display_data"
    },
    {
     "data": {
      "text/html": [
       "<style type=\"text/css\">\n",
       "</style>\n",
       "<table id=\"T_d6611\">\n",
       "  <thead>\n",
       "    <tr>\n",
       "      <th id=\"T_d6611_level0_col0\" class=\"col_heading level0 col0\" >subject</th>\n",
       "      <th id=\"T_d6611_level0_col1\" class=\"col_heading level0 col1\" >property</th>\n",
       "      <th id=\"T_d6611_level0_col2\" class=\"col_heading level0 col2\" >result</th>\n",
       "    </tr>\n",
       "  </thead>\n",
       "  <tbody>\n",
       "    <tr>\n",
       "      <td id=\"T_d6611_row0_col0\" class=\"data row0 col0\" >MKYNNRKLSFNPTTVSIAGTLLTVFFLTRLVLSFFSISLFQLVTFQGIFKPYVPDFKNTPSVEFYDLRNYQGNKDGWQQGDRILFCVPLRDASEHLPMFFNHLNTMTYPHNLIDLSFLVSDSSDNTMGVLLSNLQMAQSQQDKSKRFGNIEIYEKDFGQIIGQSFSDRHGFGAQGPRRKLMARARNWLGSVALKPYHSWVYWRDVDVETIPTTIMEDLMHHDKDVIVPNVWRPLPDWLGNIQPYDLNSWKESEGGLQLADSLDEDAVIVEGYPEYATWRPHLAYMRDPNGNPEDEMELDGIGGVSILAKAKVFRTGSHFPAFSFEKHAETEAFGRLSRRMNYNVIGLPHYVIWHIYEPSSDDLKHMAWMAEEEKRKLEEERIREFYNKIWEIGFEDVRDQWNEERDSILKNIDSTLNNKVTVDWSEEGDGSELVDSKGDFVSPNNQQQQQQQQQQQQQQQQQQQQQQLDGNPQGKPLDDNDKNKKKHPKEVPLDFDPDRN</td>\n",
       "      <td id=\"T_d6611_row0_col1\" class=\"data row0 col1\" >length</td>\n",
       "      <td id=\"T_d6611_row0_col2\" class=\"data row0 col2\" >500.000000</td>\n",
       "    </tr>\n",
       "    <tr>\n",
       "      <td id=\"T_d6611_row1_col0\" class=\"data row1 col0\" >MQYLNFPRMPNIMMFLEVAILCLWVVADASASSAKFGSTTPASAQQSDVELEPINGTLNYRLYAKKGRDDKPWFDGLDSRHIQCVRRARCYPTSNATNTCFGSKLPYELSSLDLTDFHTEKELNDKLNDYYALKHVPKCWAAIQPFLCAVFKPKCEKINGEDMVYLPSYEMCRITMEPCRILYNTTFFPKFLRCNETLFPTKCTNGARGMKFNGTGQCLSPLVPTDTSASYYPGIEGCGVRCKDPLYTDDEHRQIHKLIGWAGSICLLSNLFVVSTFFIDWKNANKYPAVIVFYINLCFLIACVGWLLQFTSGSREDIVCRKDGTLRHSEPTAGENLSCIVIFVLVYYFLTAGMVWFVFLTYAWHWRAMGHVQDRIDKKGSYFHLVAWSLPLVLTITTMAFSEVDGNSIVGICFVGYINHSMRAGLLLGPLCGVILIGGYFITRGMVMLFGLKHFANDIKSTSASNKIHLIIMRMGVCALLTLVFILVAIACHVTEFRHADEWAQSFRQFIICKISSVFEEKSSCRIENRPSVGVLQLHLLCLFSSGIVMSTWCWTPSSIETWKRYIRKKCGKEVVEEVKMPKHKVIAQTWAKRKDFEDKGRLSITLYNTHTDPVGLNFDVNDLNSSETNDISSTWAAYLPQCVKRRMALTGAATGNSSSHGPRKNSLDSEISVSVRHVSVESRRNSVDSQVSVKIAEMKTKVASRSRGKHGGSSSNRRTQRRRDYIAAATGKSSRRRESSTSVESQVIALKKTTYPNASHKVGVFAHHSSKKQHNYTSSMKRRTANAGLDPSILNEFLQKNGDFIFPFLQNQDMSSSSEEDNSRASQKIQDLNVVVKQQEISEDDHDGIKIEELPNSKQVALENFLKNIKKSNESNSNRHSRNSARSQSKKSQKRHLKNPAADLDFRKDCVKYRSNDSLSCSSEELDVALDVGSLLNSSFSGISMGKPHSRNSKTSCDVGIQANPFELVPSYGEDELQQAMRLLNAASRQRTEAANEDFGGTELQGLLGHSHRHQREPTFMSESDKLKMLLLPSK</td>\n",
       "      <td id=\"T_d6611_row1_col1\" class=\"data row1 col1\" >length</td>\n",
       "      <td id=\"T_d6611_row1_col2\" class=\"data row1 col2\" >1036.000000</td>\n",
       "    </tr>\n",
       "    <tr>\n",
       "      <td id=\"T_d6611_row2_col0\" class=\"data row2 col0\" >MKYNNRKLSFNPTTVSIAGTLLTVFFLTRLVLSFFSISLFQLVTFQGIFKPYVPDFKNTPSVEFYDLRNYQGNKDGWQQGDRILFCVPLRDASEHLPMFFNHLNTMTYPHNLIDLSFLVSDSSDNTMGVLLSNLQMAQSQQDKSKRFGNIEIYEKDFGQIIGQSFSDRHGFGAQGPRRKLMARARNWLGSVALKPYHSWVYWRDVDVETIPTTIMEDLMHHDKDVIVPNVWRPLPDWLGNIQPYDLNSWKESEGGLQLADSLDEDAVIVEGYPEYATWRPHLAYMRDPNGNPEDEMELDGIGGVSILAKAKVFRTGSHFPAFSFEKHAETEAFGRLSRRMNYNVIGLPHYVIWHIYEPSSDDLKHMAWMAEEEKRKLEEERIREFYNKIWEIGFEDVRDQWNEERDSILKNIDSTLNNKVTVDWSEEGDGSELVDSKGDFVSPNNQQQQQQQQQQQQQQQQQQQQQQLDGNPQGKPLDDNDKNKKKHPKEVPLDFDPDRN</td>\n",
       "      <td id=\"T_d6611_row2_col1\" class=\"data row2 col1\" >boman_index</td>\n",
       "      <td id=\"T_d6611_row2_col2\" class=\"data row2 col2\" >2.223500</td>\n",
       "    </tr>\n",
       "    <tr>\n",
       "      <td id=\"T_d6611_row3_col0\" class=\"data row3 col0\" >MQYLNFPRMPNIMMFLEVAILCLWVVADASASSAKFGSTTPASAQQSDVELEPINGTLNYRLYAKKGRDDKPWFDGLDSRHIQCVRRARCYPTSNATNTCFGSKLPYELSSLDLTDFHTEKELNDKLNDYYALKHVPKCWAAIQPFLCAVFKPKCEKINGEDMVYLPSYEMCRITMEPCRILYNTTFFPKFLRCNETLFPTKCTNGARGMKFNGTGQCLSPLVPTDTSASYYPGIEGCGVRCKDPLYTDDEHRQIHKLIGWAGSICLLSNLFVVSTFFIDWKNANKYPAVIVFYINLCFLIACVGWLLQFTSGSREDIVCRKDGTLRHSEPTAGENLSCIVIFVLVYYFLTAGMVWFVFLTYAWHWRAMGHVQDRIDKKGSYFHLVAWSLPLVLTITTMAFSEVDGNSIVGICFVGYINHSMRAGLLLGPLCGVILIGGYFITRGMVMLFGLKHFANDIKSTSASNKIHLIIMRMGVCALLTLVFILVAIACHVTEFRHADEWAQSFRQFIICKISSVFEEKSSCRIENRPSVGVLQLHLLCLFSSGIVMSTWCWTPSSIETWKRYIRKKCGKEVVEEVKMPKHKVIAQTWAKRKDFEDKGRLSITLYNTHTDPVGLNFDVNDLNSSETNDISSTWAAYLPQCVKRRMALTGAATGNSSSHGPRKNSLDSEISVSVRHVSVESRRNSVDSQVSVKIAEMKTKVASRSRGKHGGSSSNRRTQRRRDYIAAATGKSSRRRESSTSVESQVIALKKTTYPNASHKVGVFAHHSSKKQHNYTSSMKRRTANAGLDPSILNEFLQKNGDFIFPFLQNQDMSSSSEEDNSRASQKIQDLNVVVKQQEISEDDHDGIKIEELPNSKQVALENFLKNIKKSNESNSNRHSRNSARSQSKKSQKRHLKNPAADLDFRKDCVKYRSNDSLSCSSEELDVALDVGSLLNSSFSGISMGKPHSRNSKTSCDVGIQANPFELVPSYGEDELQQAMRLLNAASRQRTEAANEDFGGTELQGLLGHSHRHQREPTFMSESDKLKMLLLPSK</td>\n",
       "      <td id=\"T_d6611_row3_col1\" class=\"data row3 col1\" >boman_index</td>\n",
       "      <td id=\"T_d6611_row3_col2\" class=\"data row3 col2\" >1.775792</td>\n",
       "    </tr>\n",
       "    <tr>\n",
       "      <td id=\"T_d6611_row4_col0\" class=\"data row4 col0\" >MKYNNRKLSFNPTTVSIAGTLLTVFFLTRLVLSFFSISLFQLVTFQGIFKPYVPDFKNTPSVEFYDLRNYQGNKDGWQQGDRILFCVPLRDASEHLPMFFNHLNTMTYPHNLIDLSFLVSDSSDNTMGVLLSNLQMAQSQQDKSKRFGNIEIYEKDFGQIIGQSFSDRHGFGAQGPRRKLMARARNWLGSVALKPYHSWVYWRDVDVETIPTTIMEDLMHHDKDVIVPNVWRPLPDWLGNIQPYDLNSWKESEGGLQLADSLDEDAVIVEGYPEYATWRPHLAYMRDPNGNPEDEMELDGIGGVSILAKAKVFRTGSHFPAFSFEKHAETEAFGRLSRRMNYNVIGLPHYVIWHIYEPSSDDLKHMAWMAEEEKRKLEEERIREFYNKIWEIGFEDVRDQWNEERDSILKNIDSTLNNKVTVDWSEEGDGSELVDSKGDFVSPNNQQQQQQQQQQQQQQQQQQQQQQLDGNPQGKPLDDNDKNKKKHPKEVPLDFDPDRN</td>\n",
       "      <td id=\"T_d6611_row4_col1\" class=\"data row4 col1\" >aliphaticity</td>\n",
       "      <td id=\"T_d6611_row4_col2\" class=\"data row4 col2\" >71.320000</td>\n",
       "    </tr>\n",
       "    <tr>\n",
       "      <td id=\"T_d6611_row5_col0\" class=\"data row5 col0\" >MQYLNFPRMPNIMMFLEVAILCLWVVADASASSAKFGSTTPASAQQSDVELEPINGTLNYRLYAKKGRDDKPWFDGLDSRHIQCVRRARCYPTSNATNTCFGSKLPYELSSLDLTDFHTEKELNDKLNDYYALKHVPKCWAAIQPFLCAVFKPKCEKINGEDMVYLPSYEMCRITMEPCRILYNTTFFPKFLRCNETLFPTKCTNGARGMKFNGTGQCLSPLVPTDTSASYYPGIEGCGVRCKDPLYTDDEHRQIHKLIGWAGSICLLSNLFVVSTFFIDWKNANKYPAVIVFYINLCFLIACVGWLLQFTSGSREDIVCRKDGTLRHSEPTAGENLSCIVIFVLVYYFLTAGMVWFVFLTYAWHWRAMGHVQDRIDKKGSYFHLVAWSLPLVLTITTMAFSEVDGNSIVGICFVGYINHSMRAGLLLGPLCGVILIGGYFITRGMVMLFGLKHFANDIKSTSASNKIHLIIMRMGVCALLTLVFILVAIACHVTEFRHADEWAQSFRQFIICKISSVFEEKSSCRIENRPSVGVLQLHLLCLFSSGIVMSTWCWTPSSIETWKRYIRKKCGKEVVEEVKMPKHKVIAQTWAKRKDFEDKGRLSITLYNTHTDPVGLNFDVNDLNSSETNDISSTWAAYLPQCVKRRMALTGAATGNSSSHGPRKNSLDSEISVSVRHVSVESRRNSVDSQVSVKIAEMKTKVASRSRGKHGGSSSNRRTQRRRDYIAAATGKSSRRRESSTSVESQVIALKKTTYPNASHKVGVFAHHSSKKQHNYTSSMKRRTANAGLDPSILNEFLQKNGDFIFPFLQNQDMSSSSEEDNSRASQKIQDLNVVVKQQEISEDDHDGIKIEELPNSKQVALENFLKNIKKSNESNSNRHSRNSARSQSKKSQKRHLKNPAADLDFRKDCVKYRSNDSLSCSSEELDVALDVGSLLNSSFSGISMGKPHSRNSKTSCDVGIQANPFELVPSYGEDELQQAMRLLNAASRQRTEAANEDFGGTELQGLLGHSHRHQREPTFMSESDKLKMLLLPSK</td>\n",
       "      <td id=\"T_d6611_row5_col1\" class=\"data row5 col1\" >aliphaticity</td>\n",
       "      <td id=\"T_d6611_row5_col2\" class=\"data row5 col2\" >79.613900</td>\n",
       "    </tr>\n",
       "    <tr>\n",
       "      <td id=\"T_d6611_row6_col0\" class=\"data row6 col0\" >MKYNNRKLSFNPTTVSIAGTLLTVFFLTRLVLSFFSISLFQLVTFQGIFKPYVPDFKNTPSVEFYDLRNYQGNKDGWQQGDRILFCVPLRDASEHLPMFFNHLNTMTYPHNLIDLSFLVSDSSDNTMGVLLSNLQMAQSQQDKSKRFGNIEIYEKDFGQIIGQSFSDRHGFGAQGPRRKLMARARNWLGSVALKPYHSWVYWRDVDVETIPTTIMEDLMHHDKDVIVPNVWRPLPDWLGNIQPYDLNSWKESEGGLQLADSLDEDAVIVEGYPEYATWRPHLAYMRDPNGNPEDEMELDGIGGVSILAKAKVFRTGSHFPAFSFEKHAETEAFGRLSRRMNYNVIGLPHYVIWHIYEPSSDDLKHMAWMAEEEKRKLEEERIREFYNKIWEIGFEDVRDQWNEERDSILKNIDSTLNNKVTVDWSEEGDGSELVDSKGDFVSPNNQQQQQQQQQQQQQQQQQQQQQQLDGNPQGKPLDDNDKNKKKHPKEVPLDFDPDRN</td>\n",
       "      <td id=\"T_d6611_row6_col1\" class=\"data row6 col1\" >hydrophobicity</td>\n",
       "      <td id=\"T_d6611_row6_col2\" class=\"data row6 col2\" >0.306000</td>\n",
       "    </tr>\n",
       "    <tr>\n",
       "      <td id=\"T_d6611_row7_col0\" class=\"data row7 col0\" >MQYLNFPRMPNIMMFLEVAILCLWVVADASASSAKFGSTTPASAQQSDVELEPINGTLNYRLYAKKGRDDKPWFDGLDSRHIQCVRRARCYPTSNATNTCFGSKLPYELSSLDLTDFHTEKELNDKLNDYYALKHVPKCWAAIQPFLCAVFKPKCEKINGEDMVYLPSYEMCRITMEPCRILYNTTFFPKFLRCNETLFPTKCTNGARGMKFNGTGQCLSPLVPTDTSASYYPGIEGCGVRCKDPLYTDDEHRQIHKLIGWAGSICLLSNLFVVSTFFIDWKNANKYPAVIVFYINLCFLIACVGWLLQFTSGSREDIVCRKDGTLRHSEPTAGENLSCIVIFVLVYYFLTAGMVWFVFLTYAWHWRAMGHVQDRIDKKGSYFHLVAWSLPLVLTITTMAFSEVDGNSIVGICFVGYINHSMRAGLLLGPLCGVILIGGYFITRGMVMLFGLKHFANDIKSTSASNKIHLIIMRMGVCALLTLVFILVAIACHVTEFRHADEWAQSFRQFIICKISSVFEEKSSCRIENRPSVGVLQLHLLCLFSSGIVMSTWCWTPSSIETWKRYIRKKCGKEVVEEVKMPKHKVIAQTWAKRKDFEDKGRLSITLYNTHTDPVGLNFDVNDLNSSETNDISSTWAAYLPQCVKRRMALTGAATGNSSSHGPRKNSLDSEISVSVRHVSVESRRNSVDSQVSVKIAEMKTKVASRSRGKHGGSSSNRRTQRRRDYIAAATGKSSRRRESSTSVESQVIALKKTTYPNASHKVGVFAHHSSKKQHNYTSSMKRRTANAGLDPSILNEFLQKNGDFIFPFLQNQDMSSSSEEDNSRASQKIQDLNVVVKQQEISEDDHDGIKIEELPNSKQVALENFLKNIKKSNESNSNRHSRNSARSQSKKSQKRHLKNPAADLDFRKDCVKYRSNDSLSCSSEELDVALDVGSLLNSSFSGISMGKPHSRNSKTSCDVGIQANPFELVPSYGEDELQQAMRLLNAASRQRTEAANEDFGGTELQGLLGHSHRHQREPTFMSESDKLKMLLLPSK</td>\n",
       "      <td id=\"T_d6611_row7_col1\" class=\"data row7 col1\" >hydrophobicity</td>\n",
       "      <td id=\"T_d6611_row7_col2\" class=\"data row7 col2\" >0.367761</td>\n",
       "    </tr>\n",
       "    <tr>\n",
       "      <td id=\"T_d6611_row8_col0\" class=\"data row8 col0\" >MKYNNRKLSFNPTTVSIAGTLLTVFFLTRLVLSFFSISLFQLVTFQGIFKPYVPDFKNTPSVEFYDLRNYQGNKDGWQQGDRILFCVPLRDASEHLPMFFNHLNTMTYPHNLIDLSFLVSDSSDNTMGVLLSNLQMAQSQQDKSKRFGNIEIYEKDFGQIIGQSFSDRHGFGAQGPRRKLMARARNWLGSVALKPYHSWVYWRDVDVETIPTTIMEDLMHHDKDVIVPNVWRPLPDWLGNIQPYDLNSWKESEGGLQLADSLDEDAVIVEGYPEYATWRPHLAYMRDPNGNPEDEMELDGIGGVSILAKAKVFRTGSHFPAFSFEKHAETEAFGRLSRRMNYNVIGLPHYVIWHIYEPSSDDLKHMAWMAEEEKRKLEEERIREFYNKIWEIGFEDVRDQWNEERDSILKNIDSTLNNKVTVDWSEEGDGSELVDSKGDFVSPNNQQQQQQQQQQQQQQQQQQQQQQLDGNPQGKPLDDNDKNKKKHPKEVPLDFDPDRN</td>\n",
       "      <td id=\"T_d6611_row8_col1\" class=\"data row8 col1\" >aromaticity</td>\n",
       "      <td id=\"T_d6611_row8_col2\" class=\"data row8 col2\" >0.112000</td>\n",
       "    </tr>\n",
       "    <tr>\n",
       "      <td id=\"T_d6611_row9_col0\" class=\"data row9 col0\" >MQYLNFPRMPNIMMFLEVAILCLWVVADASASSAKFGSTTPASAQQSDVELEPINGTLNYRLYAKKGRDDKPWFDGLDSRHIQCVRRARCYPTSNATNTCFGSKLPYELSSLDLTDFHTEKELNDKLNDYYALKHVPKCWAAIQPFLCAVFKPKCEKINGEDMVYLPSYEMCRITMEPCRILYNTTFFPKFLRCNETLFPTKCTNGARGMKFNGTGQCLSPLVPTDTSASYYPGIEGCGVRCKDPLYTDDEHRQIHKLIGWAGSICLLSNLFVVSTFFIDWKNANKYPAVIVFYINLCFLIACVGWLLQFTSGSREDIVCRKDGTLRHSEPTAGENLSCIVIFVLVYYFLTAGMVWFVFLTYAWHWRAMGHVQDRIDKKGSYFHLVAWSLPLVLTITTMAFSEVDGNSIVGICFVGYINHSMRAGLLLGPLCGVILIGGYFITRGMVMLFGLKHFANDIKSTSASNKIHLIIMRMGVCALLTLVFILVAIACHVTEFRHADEWAQSFRQFIICKISSVFEEKSSCRIENRPSVGVLQLHLLCLFSSGIVMSTWCWTPSSIETWKRYIRKKCGKEVVEEVKMPKHKVIAQTWAKRKDFEDKGRLSITLYNTHTDPVGLNFDVNDLNSSETNDISSTWAAYLPQCVKRRMALTGAATGNSSSHGPRKNSLDSEISVSVRHVSVESRRNSVDSQVSVKIAEMKTKVASRSRGKHGGSSSNRRTQRRRDYIAAATGKSSRRRESSTSVESQVIALKKTTYPNASHKVGVFAHHSSKKQHNYTSSMKRRTANAGLDPSILNEFLQKNGDFIFPFLQNQDMSSSSEEDNSRASQKIQDLNVVVKQQEISEDDHDGIKIEELPNSKQVALENFLKNIKKSNESNSNRHSRNSARSQSKKSQKRHLKNPAADLDFRKDCVKYRSNDSLSCSSEELDVALDVGSLLNSSFSGISMGKPHSRNSKTSCDVGIQANPFELVPSYGEDELQQAMRLLNAASRQRTEAANEDFGGTELQGLLGHSHRHQREPTFMSESDKLKMLLLPSK</td>\n",
       "      <td id=\"T_d6611_row9_col1\" class=\"data row9 col1\" >aromaticity</td>\n",
       "      <td id=\"T_d6611_row9_col2\" class=\"data row9 col2\" >0.089768</td>\n",
       "    </tr>\n",
       "    <tr>\n",
       "      <td id=\"T_d6611_row10_col0\" class=\"data row10 col0\" >MKYNNRKLSFNPTTVSIAGTLLTVFFLTRLVLSFFSISLFQLVTFQGIFKPYVPDFKNTPSVEFYDLRNYQGNKDGWQQGDRILFCVPLRDASEHLPMFFNHLNTMTYPHNLIDLSFLVSDSSDNTMGVLLSNLQMAQSQQDKSKRFGNIEIYEKDFGQIIGQSFSDRHGFGAQGPRRKLMARARNWLGSVALKPYHSWVYWRDVDVETIPTTIMEDLMHHDKDVIVPNVWRPLPDWLGNIQPYDLNSWKESEGGLQLADSLDEDAVIVEGYPEYATWRPHLAYMRDPNGNPEDEMELDGIGGVSILAKAKVFRTGSHFPAFSFEKHAETEAFGRLSRRMNYNVIGLPHYVIWHIYEPSSDDLKHMAWMAEEEKRKLEEERIREFYNKIWEIGFEDVRDQWNEERDSILKNIDSTLNNKVTVDWSEEGDGSELVDSKGDFVSPNNQQQQQQQQQQQQQQQQQQQQQQLDGNPQGKPLDDNDKNKKKHPKEVPLDFDPDRN</td>\n",
       "      <td id=\"T_d6611_row10_col1\" class=\"data row10 col1\" >instability</td>\n",
       "      <td id=\"T_d6611_row10_col2\" class=\"data row10 col2\" >53.340640</td>\n",
       "    </tr>\n",
       "    <tr>\n",
       "      <td id=\"T_d6611_row11_col0\" class=\"data row11 col0\" >MQYLNFPRMPNIMMFLEVAILCLWVVADASASSAKFGSTTPASAQQSDVELEPINGTLNYRLYAKKGRDDKPWFDGLDSRHIQCVRRARCYPTSNATNTCFGSKLPYELSSLDLTDFHTEKELNDKLNDYYALKHVPKCWAAIQPFLCAVFKPKCEKINGEDMVYLPSYEMCRITMEPCRILYNTTFFPKFLRCNETLFPTKCTNGARGMKFNGTGQCLSPLVPTDTSASYYPGIEGCGVRCKDPLYTDDEHRQIHKLIGWAGSICLLSNLFVVSTFFIDWKNANKYPAVIVFYINLCFLIACVGWLLQFTSGSREDIVCRKDGTLRHSEPTAGENLSCIVIFVLVYYFLTAGMVWFVFLTYAWHWRAMGHVQDRIDKKGSYFHLVAWSLPLVLTITTMAFSEVDGNSIVGICFVGYINHSMRAGLLLGPLCGVILIGGYFITRGMVMLFGLKHFANDIKSTSASNKIHLIIMRMGVCALLTLVFILVAIACHVTEFRHADEWAQSFRQFIICKISSVFEEKSSCRIENRPSVGVLQLHLLCLFSSGIVMSTWCWTPSSIETWKRYIRKKCGKEVVEEVKMPKHKVIAQTWAKRKDFEDKGRLSITLYNTHTDPVGLNFDVNDLNSSETNDISSTWAAYLPQCVKRRMALTGAATGNSSSHGPRKNSLDSEISVSVRHVSVESRRNSVDSQVSVKIAEMKTKVASRSRGKHGGSSSNRRTQRRRDYIAAATGKSSRRRESSTSVESQVIALKKTTYPNASHKVGVFAHHSSKKQHNYTSSMKRRTANAGLDPSILNEFLQKNGDFIFPFLQNQDMSSSSEEDNSRASQKIQDLNVVVKQQEISEDDHDGIKIEELPNSKQVALENFLKNIKKSNESNSNRHSRNSARSQSKKSQKRHLKNPAADLDFRKDCVKYRSNDSLSCSSEELDVALDVGSLLNSSFSGISMGKPHSRNSKTSCDVGIQANPFELVPSYGEDELQQAMRLLNAASRQRTEAANEDFGGTELQGLLGHSHRHQREPTFMSESDKLKMLLLPSK</td>\n",
       "      <td id=\"T_d6611_row11_col1\" class=\"data row11 col1\" >instability</td>\n",
       "      <td id=\"T_d6611_row11_col2\" class=\"data row11 col2\" >47.716515</td>\n",
       "    </tr>\n",
       "  </tbody>\n",
       "</table>\n"
      ],
      "text/plain": [
       "<pandas.io.formats.style.Styler at 0x137ca45d0>"
      ]
     },
     "execution_count": 24,
     "metadata": {},
     "output_type": "execute_result"
    }
   ],
   "source": [
    "%openad prop get protein property [ length, boman_index, aliphaticity, hydrophobicity, aromaticity, instability ]  for {proteins}"
   ]
  },
  {
   "cell_type": "markdown",
   "id": "01d9c0af-3e8a-431e-8154-1a942cfcd7ff",
   "metadata": {},
   "source": [
    "# Crystal Property functions"
   ]
  },
  {
   "cell_type": "markdown",
   "id": "8dacc8a1-ba76-4caa-8347-1043de4cb3f7",
   "metadata": {},
   "source": [
    "Crystal property functions operate differently, for all but one function they use `*.cif` files from a specified directory, and for the metal_nonmetal_classifier property uses a file named `crf_data.csv` from the provided directory."
   ]
  },
  {
   "cell_type": "code",
   "execution_count": 8,
   "id": "5032f794-1cd7-462e-b7c5-b7edaf6a06d0",
   "metadata": {
    "execution": {
     "iopub.execute_input": "2024-05-23T02:31:16.591293Z",
     "iopub.status.busy": "2024-05-23T02:31:16.590890Z",
     "iopub.status.idle": "2024-05-23T02:31:17.132461Z",
     "shell.execute_reply": "2024-05-23T02:31:17.131719Z",
     "shell.execute_reply.started": "2024-05-23T02:31:16.591269Z"
    },
    "tags": []
   },
   "outputs": [
    {
     "data": {
      "text/markdown": [
       "<span style=\"color: #dc0\">Commands containing \"crystal\"</span> <br> \n",
       "- `prop get crystal property absolute_energy for <directory>   USING (<parameter>=<value> <parameter>=<value>) (save_as '<filename.csv>')` <br> \n",
       "- `prop get crystal property bulk_moduli for <directory>   USING (<parameter>=<value> <parameter>=<value>) (save_as '<filename.csv>')` <br> \n",
       "- `prop get crystal property poisson_ratio for <directory>   USING (<parameter>=<value> <parameter>=<value>) (save_as '<filename.csv>')` <br> \n",
       "- `prop get crystal property metal_nonmetal_classifier for <directory>   USING (<parameter>=<value> <parameter>=<value>) (save_as '<filename.csv>')` <br> \n",
       "- `prop get crystal property shear_moduli for <directory>   USING (<parameter>=<value> <parameter>=<value>) (save_as '<filename.csv>')` <br> \n",
       "- `prop get crystal property formation_energy for <directory>   USING (<parameter>=<value> <parameter>=<value>) (save_as '<filename.csv>')` <br> \n",
       "- `prop get crystal property metal_semiconductor_classifier for <directory>   USING (<parameter>=<value> <parameter>=<value>) (save_as '<filename.csv>')` <br> \n",
       "- `prop get crystal property band_gap for <directory>   USING (<parameter>=<value> <parameter>=<value>) (save_as '<filename.csv>')` <br> \n",
       "- `prop get crystal property fermi_energy for <directory>   USING (<parameter>=<value> <parameter>=<value>) (save_as '<filename.csv>')` <br> \n"
      ],
      "text/plain": [
       "<IPython.core.display.Markdown object>"
      ]
     },
     "execution_count": 8,
     "metadata": {},
     "output_type": "execute_result"
    }
   ],
   "source": [
    "%openad ? crystal "
   ]
  },
  {
   "cell_type": "code",
   "execution_count": 9,
   "id": "2303701b-bad1-4d08-a83e-1a76c319419c",
   "metadata": {
    "execution": {
     "iopub.execute_input": "2024-05-23T02:31:17.133947Z",
     "iopub.status.busy": "2024-05-23T02:31:17.133662Z",
     "iopub.status.idle": "2024-05-23T02:31:17.139739Z",
     "shell.execute_reply": "2024-05-23T02:31:17.139068Z",
     "shell.execute_reply.started": "2024-05-23T02:31:17.133924Z"
    },
    "tags": []
   },
   "outputs": [],
   "source": [
    "directory = '~/openad_notebooks/crystals/'"
   ]
  },
  {
   "cell_type": "code",
   "execution_count": 10,
   "id": "6ef22b0e-3b62-46a2-b8ad-760d365ffe10",
   "metadata": {
    "execution": {
     "iopub.execute_input": "2024-05-23T02:31:17.140859Z",
     "iopub.status.busy": "2024-05-23T02:31:17.140562Z",
     "iopub.status.idle": "2024-05-23T02:31:24.507549Z",
     "shell.execute_reply": "2024-05-23T02:31:24.506726Z",
     "shell.execute_reply.started": "2024-05-23T02:31:17.140836Z"
    },
    "tags": []
   },
   "outputs": [
    {
     "data": {
      "application/vnd.jupyter.widget-view+json": {
       "model_id": "28f080d3a4504eb0b4c782eee133a82f",
       "version_major": 2,
       "version_minor": 0
      },
      "text/plain": [
       "Output()"
      ]
     },
     "metadata": {},
     "output_type": "display_data"
    },
    {
     "data": {
      "text/html": [
       "<div>\n",
       "<style scoped>\n",
       "    .dataframe tbody tr th:only-of-type {\n",
       "        vertical-align: middle;\n",
       "    }\n",
       "\n",
       "    .dataframe tbody tr th {\n",
       "        vertical-align: top;\n",
       "    }\n",
       "\n",
       "    .dataframe thead th {\n",
       "        text-align: right;\n",
       "    }\n",
       "</style>\n",
       "<table border=\"1\" class=\"dataframe\">\n",
       "  <thead>\n",
       "    <tr style=\"text-align: right;\">\n",
       "      <th></th>\n",
       "      <th>subject</th>\n",
       "      <th>property</th>\n",
       "      <th>key</th>\n",
       "      <th>result</th>\n",
       "    </tr>\n",
       "  </thead>\n",
       "  <tbody>\n",
       "    <tr>\n",
       "      <th>0</th>\n",
       "      <td>1000041.cif</td>\n",
       "      <td>absolute_energy</td>\n",
       "      <td>1000041</td>\n",
       "      <td>-3.3883049488067627</td>\n",
       "    </tr>\n",
       "  </tbody>\n",
       "</table>\n",
       "</div>"
      ],
      "text/plain": [
       "       subject         property      key               result\n",
       "0  1000041.cif  absolute_energy  1000041  -3.3883049488067627"
      ]
     },
     "execution_count": 10,
     "metadata": {},
     "output_type": "execute_result"
    }
   ],
   "source": [
    "%openadd prop get crystal property absolute_energy for '{directory}' using(algorithm_version=v0)"
   ]
  },
  {
   "cell_type": "code",
   "execution_count": 11,
   "id": "6093d061-87d4-4291-ac9d-c2849bd1857d",
   "metadata": {
    "execution": {
     "iopub.execute_input": "2024-05-23T02:31:24.509236Z",
     "iopub.status.busy": "2024-05-23T02:31:24.508806Z",
     "iopub.status.idle": "2024-05-23T02:31:56.493855Z",
     "shell.execute_reply": "2024-05-23T02:31:56.493096Z",
     "shell.execute_reply.started": "2024-05-23T02:31:24.509210Z"
    },
    "tags": []
   },
   "outputs": [
    {
     "data": {
      "application/vnd.jupyter.widget-view+json": {
       "model_id": "65ec5dab2ee34a1781ad73f3f945043e",
       "version_major": 2,
       "version_minor": 0
      },
      "text/plain": [
       "Output()"
      ]
     },
     "metadata": {},
     "output_type": "display_data"
    },
    {
     "data": {
      "text/html": [
       "<div>\n",
       "<style scoped>\n",
       "    .dataframe tbody tr th:only-of-type {\n",
       "        vertical-align: middle;\n",
       "    }\n",
       "\n",
       "    .dataframe tbody tr th {\n",
       "        vertical-align: top;\n",
       "    }\n",
       "\n",
       "    .dataframe thead th {\n",
       "        text-align: right;\n",
       "    }\n",
       "</style>\n",
       "<table border=\"1\" class=\"dataframe\">\n",
       "  <thead>\n",
       "    <tr style=\"text-align: right;\">\n",
       "      <th></th>\n",
       "      <th>subject</th>\n",
       "      <th>property</th>\n",
       "      <th>key</th>\n",
       "      <th>result</th>\n",
       "    </tr>\n",
       "  </thead>\n",
       "  <tbody>\n",
       "    <tr>\n",
       "      <th>0</th>\n",
       "      <td>1000041.cif</td>\n",
       "      <td>fermi_energy</td>\n",
       "      <td>1000041</td>\n",
       "      <td>-0.6838352680206299</td>\n",
       "    </tr>\n",
       "  </tbody>\n",
       "</table>\n",
       "</div>"
      ],
      "text/plain": [
       "       subject      property      key               result\n",
       "0  1000041.cif  fermi_energy  1000041  -0.6838352680206299"
      ]
     },
     "execution_count": 11,
     "metadata": {},
     "output_type": "execute_result"
    },
    {
     "data": {
      "application/vnd.jupyter.widget-view+json": {
       "model_id": "2ce4da2f8d4e40e992e428856a683657",
       "version_major": 2,
       "version_minor": 0
      },
      "text/plain": [
       "Output()"
      ]
     },
     "metadata": {},
     "output_type": "display_data"
    },
    {
     "data": {
      "text/html": [
       "<div>\n",
       "<style scoped>\n",
       "    .dataframe tbody tr th:only-of-type {\n",
       "        vertical-align: middle;\n",
       "    }\n",
       "\n",
       "    .dataframe tbody tr th {\n",
       "        vertical-align: top;\n",
       "    }\n",
       "\n",
       "    .dataframe thead th {\n",
       "        text-align: right;\n",
       "    }\n",
       "</style>\n",
       "<table border=\"1\" class=\"dataframe\">\n",
       "  <thead>\n",
       "    <tr style=\"text-align: right;\">\n",
       "      <th></th>\n",
       "      <th>subject</th>\n",
       "      <th>property</th>\n",
       "      <th>key</th>\n",
       "      <th>result</th>\n",
       "    </tr>\n",
       "  </thead>\n",
       "  <tbody>\n",
       "    <tr>\n",
       "      <th>0</th>\n",
       "      <td>1000041.cif</td>\n",
       "      <td>bulk_moduli</td>\n",
       "      <td>1000041</td>\n",
       "      <td>1.3808047771453857</td>\n",
       "    </tr>\n",
       "  </tbody>\n",
       "</table>\n",
       "</div>"
      ],
      "text/plain": [
       "       subject     property      key              result\n",
       "0  1000041.cif  bulk_moduli  1000041  1.3808047771453857"
      ]
     },
     "execution_count": 11,
     "metadata": {},
     "output_type": "execute_result"
    },
    {
     "data": {
      "application/vnd.jupyter.widget-view+json": {
       "model_id": "430a069de1cb4c3b9b638cc4dbf2a290",
       "version_major": 2,
       "version_minor": 0
      },
      "text/plain": [
       "Output()"
      ]
     },
     "metadata": {},
     "output_type": "display_data"
    },
    {
     "data": {
      "text/html": [
       "<div>\n",
       "<style scoped>\n",
       "    .dataframe tbody tr th:only-of-type {\n",
       "        vertical-align: middle;\n",
       "    }\n",
       "\n",
       "    .dataframe tbody tr th {\n",
       "        vertical-align: top;\n",
       "    }\n",
       "\n",
       "    .dataframe thead th {\n",
       "        text-align: right;\n",
       "    }\n",
       "</style>\n",
       "<table border=\"1\" class=\"dataframe\">\n",
       "  <thead>\n",
       "    <tr style=\"text-align: right;\">\n",
       "      <th></th>\n",
       "      <th>subject</th>\n",
       "      <th>property</th>\n",
       "      <th>key</th>\n",
       "      <th>result</th>\n",
       "    </tr>\n",
       "  </thead>\n",
       "  <tbody>\n",
       "    <tr>\n",
       "      <th>0</th>\n",
       "      <td>1000041.cif</td>\n",
       "      <td>poisson_ratio</td>\n",
       "      <td>1000041</td>\n",
       "      <td>0.3124755620956421</td>\n",
       "    </tr>\n",
       "  </tbody>\n",
       "</table>\n",
       "</div>"
      ],
      "text/plain": [
       "       subject       property      key              result\n",
       "0  1000041.cif  poisson_ratio  1000041  0.3124755620956421"
      ]
     },
     "execution_count": 11,
     "metadata": {},
     "output_type": "execute_result"
    },
    {
     "data": {
      "application/vnd.jupyter.widget-view+json": {
       "model_id": "8756bfe81908463ca365c9c814fafd9f",
       "version_major": 2,
       "version_minor": 0
      },
      "text/plain": [
       "Output()"
      ]
     },
     "metadata": {},
     "output_type": "display_data"
    },
    {
     "data": {
      "text/html": [
       "<div>\n",
       "<style scoped>\n",
       "    .dataframe tbody tr th:only-of-type {\n",
       "        vertical-align: middle;\n",
       "    }\n",
       "\n",
       "    .dataframe tbody tr th {\n",
       "        vertical-align: top;\n",
       "    }\n",
       "\n",
       "    .dataframe thead th {\n",
       "        text-align: right;\n",
       "    }\n",
       "</style>\n",
       "<table border=\"1\" class=\"dataframe\">\n",
       "  <thead>\n",
       "    <tr style=\"text-align: right;\">\n",
       "      <th></th>\n",
       "      <th>subject</th>\n",
       "      <th>property</th>\n",
       "      <th>key</th>\n",
       "      <th>result</th>\n",
       "    </tr>\n",
       "  </thead>\n",
       "  <tbody>\n",
       "    <tr>\n",
       "      <th>0</th>\n",
       "      <td>1000041.cif</td>\n",
       "      <td>shear_moduli</td>\n",
       "      <td>1000041</td>\n",
       "      <td>0.9817744493484497</td>\n",
       "    </tr>\n",
       "  </tbody>\n",
       "</table>\n",
       "</div>"
      ],
      "text/plain": [
       "       subject      property      key              result\n",
       "0  1000041.cif  shear_moduli  1000041  0.9817744493484497"
      ]
     },
     "execution_count": 11,
     "metadata": {},
     "output_type": "execute_result"
    },
    {
     "data": {
      "application/vnd.jupyter.widget-view+json": {
       "model_id": "8d410be434ee41a091503bda956ba7b5",
       "version_major": 2,
       "version_minor": 0
      },
      "text/plain": [
       "Output()"
      ]
     },
     "metadata": {},
     "output_type": "display_data"
    },
    {
     "data": {
      "text/html": [
       "<div>\n",
       "<style scoped>\n",
       "    .dataframe tbody tr th:only-of-type {\n",
       "        vertical-align: middle;\n",
       "    }\n",
       "\n",
       "    .dataframe tbody tr th {\n",
       "        vertical-align: top;\n",
       "    }\n",
       "\n",
       "    .dataframe thead th {\n",
       "        text-align: right;\n",
       "    }\n",
       "</style>\n",
       "<table border=\"1\" class=\"dataframe\">\n",
       "  <thead>\n",
       "    <tr style=\"text-align: right;\">\n",
       "      <th></th>\n",
       "      <th>subject</th>\n",
       "      <th>property</th>\n",
       "      <th>key</th>\n",
       "      <th>result</th>\n",
       "    </tr>\n",
       "  </thead>\n",
       "  <tbody>\n",
       "    <tr>\n",
       "      <th>0</th>\n",
       "      <td>1000041.cif</td>\n",
       "      <td>formation_energy</td>\n",
       "      <td>1000041</td>\n",
       "      <td>-2.1132538318634033</td>\n",
       "    </tr>\n",
       "  </tbody>\n",
       "</table>\n",
       "</div>"
      ],
      "text/plain": [
       "       subject          property      key               result\n",
       "0  1000041.cif  formation_energy  1000041  -2.1132538318634033"
      ]
     },
     "execution_count": 11,
     "metadata": {},
     "output_type": "execute_result"
    }
   ],
   "source": [
    "\n",
    "%openadd prop get crystal property fermi_energy for '{directory}' using(algorithm_version=v0)\n",
    "%openadd prop get crystal property bulk_moduli for '{directory}' using(algorithm_version=v0)\n",
    "%openadd prop get crystal property poisson_ratio for '{directory}' using(algorithm_version=v0)\n",
    "%openadd prop get crystal property shear_moduli for '{directory}' using(algorithm_version=v0)\n",
    "%openadd prop get crystal property formation_energy for '{directory}' using(algorithm_version=v0)"
   ]
  },
  {
   "cell_type": "code",
   "execution_count": 12,
   "id": "8abd5a55-9278-426f-8077-9a4a98747b28",
   "metadata": {
    "execution": {
     "iopub.execute_input": "2024-05-23T02:31:56.500358Z",
     "iopub.status.busy": "2024-05-23T02:31:56.500055Z",
     "iopub.status.idle": "2024-05-23T02:32:02.398209Z",
     "shell.execute_reply": "2024-05-23T02:32:02.397326Z",
     "shell.execute_reply.started": "2024-05-23T02:31:56.500335Z"
    },
    "tags": []
   },
   "outputs": [
    {
     "data": {
      "application/vnd.jupyter.widget-view+json": {
       "model_id": "08780e7507bb479193476ce224aaedf1",
       "version_major": 2,
       "version_minor": 0
      },
      "text/plain": [
       "Output()"
      ]
     },
     "metadata": {},
     "output_type": "display_data"
    },
    {
     "data": {
      "text/html": [
       "<div>\n",
       "<style scoped>\n",
       "    .dataframe tbody tr th:only-of-type {\n",
       "        vertical-align: middle;\n",
       "    }\n",
       "\n",
       "    .dataframe tbody tr th {\n",
       "        vertical-align: top;\n",
       "    }\n",
       "\n",
       "    .dataframe thead th {\n",
       "        text-align: right;\n",
       "    }\n",
       "</style>\n",
       "<table border=\"1\" class=\"dataframe\">\n",
       "  <thead>\n",
       "    <tr style=\"text-align: right;\">\n",
       "      <th></th>\n",
       "      <th>subject</th>\n",
       "      <th>property</th>\n",
       "      <th>key</th>\n",
       "      <th>result</th>\n",
       "    </tr>\n",
       "  </thead>\n",
       "  <tbody>\n",
       "    <tr>\n",
       "      <th>0</th>\n",
       "      <td>1000041.cif</td>\n",
       "      <td>band_gap</td>\n",
       "      <td>1000041</td>\n",
       "      <td>4.774054527282715</td>\n",
       "    </tr>\n",
       "  </tbody>\n",
       "</table>\n",
       "</div>"
      ],
      "text/plain": [
       "       subject  property      key             result\n",
       "0  1000041.cif  band_gap  1000041  4.774054527282715"
      ]
     },
     "execution_count": 12,
     "metadata": {},
     "output_type": "execute_result"
    }
   ],
   "source": [
    "%openadd prop get crystal property band_gap for '{directory}' using(algorithm_version=v0)"
   ]
  },
  {
   "cell_type": "code",
   "execution_count": 13,
   "id": "bf735946-270e-460a-93aa-2c98aa3e45f4",
   "metadata": {
    "execution": {
     "iopub.execute_input": "2024-05-23T02:32:02.399560Z",
     "iopub.status.busy": "2024-05-23T02:32:02.399217Z",
     "iopub.status.idle": "2024-05-23T02:32:09.057913Z",
     "shell.execute_reply": "2024-05-23T02:32:09.056789Z",
     "shell.execute_reply.started": "2024-05-23T02:32:02.399494Z"
    },
    "tags": []
   },
   "outputs": [
    {
     "data": {
      "application/vnd.jupyter.widget-view+json": {
       "model_id": "4bfca4e3151648da8271d0c4d5236175",
       "version_major": 2,
       "version_minor": 0
      },
      "text/plain": [
       "Output()"
      ]
     },
     "metadata": {},
     "output_type": "display_data"
    },
    {
     "data": {
      "text/html": [
       "<div>\n",
       "<style scoped>\n",
       "    .dataframe tbody tr th:only-of-type {\n",
       "        vertical-align: middle;\n",
       "    }\n",
       "\n",
       "    .dataframe tbody tr th {\n",
       "        vertical-align: top;\n",
       "    }\n",
       "\n",
       "    .dataframe thead th {\n",
       "        text-align: right;\n",
       "    }\n",
       "</style>\n",
       "<table border=\"1\" class=\"dataframe\">\n",
       "  <thead>\n",
       "    <tr style=\"text-align: right;\">\n",
       "      <th></th>\n",
       "      <th>subject</th>\n",
       "      <th>property</th>\n",
       "      <th>key</th>\n",
       "      <th>result</th>\n",
       "    </tr>\n",
       "  </thead>\n",
       "  <tbody>\n",
       "    <tr>\n",
       "      <th>0</th>\n",
       "      <td>1000041.cif</td>\n",
       "      <td>metal_semiconductor_classifier</td>\n",
       "      <td>1000041</td>\n",
       "      <td>4.423615337145748e-06</td>\n",
       "    </tr>\n",
       "  </tbody>\n",
       "</table>\n",
       "</div>"
      ],
      "text/plain": [
       "       subject                        property      key                 result\n",
       "0  1000041.cif  metal_semiconductor_classifier  1000041  4.423615337145748e-06"
      ]
     },
     "execution_count": 13,
     "metadata": {},
     "output_type": "execute_result"
    }
   ],
   "source": [
    "%openadd prop get crystal property metal_semiconductor_classifier for '{directory}' using(algorithm_version=v0)"
   ]
  },
  {
   "cell_type": "code",
   "execution_count": 14,
   "id": "e6a1a1b7-16fd-4dcb-8e95-0c490ad46ac1",
   "metadata": {
    "execution": {
     "iopub.execute_input": "2024-05-23T02:32:09.059958Z",
     "iopub.status.busy": "2024-05-23T02:32:09.059335Z",
     "iopub.status.idle": "2024-05-23T02:32:16.526046Z",
     "shell.execute_reply": "2024-05-23T02:32:16.525478Z",
     "shell.execute_reply.started": "2024-05-23T02:32:09.059929Z"
    },
    "tags": []
   },
   "outputs": [
    {
     "data": {
      "application/vnd.jupyter.widget-view+json": {
       "model_id": "fc8806b535c94f71a0cc6216f3492aa6",
       "version_major": 2,
       "version_minor": 0
      },
      "text/plain": [
       "Output()"
      ]
     },
     "metadata": {},
     "output_type": "display_data"
    },
    {
     "data": {
      "text/html": [
       "<div>\n",
       "<style scoped>\n",
       "    .dataframe tbody tr th:only-of-type {\n",
       "        vertical-align: middle;\n",
       "    }\n",
       "\n",
       "    .dataframe tbody tr th {\n",
       "        vertical-align: top;\n",
       "    }\n",
       "\n",
       "    .dataframe thead th {\n",
       "        text-align: right;\n",
       "    }\n",
       "</style>\n",
       "<table border=\"1\" class=\"dataframe\">\n",
       "  <thead>\n",
       "    <tr style=\"text-align: right;\">\n",
       "      <th></th>\n",
       "      <th>subject</th>\n",
       "      <th>property</th>\n",
       "      <th>key</th>\n",
       "      <th>result</th>\n",
       "    </tr>\n",
       "  </thead>\n",
       "  <tbody>\n",
       "    <tr>\n",
       "      <th>0</th>\n",
       "      <td>crf_data.csv</td>\n",
       "      <td>metal_nonmetal_classifier</td>\n",
       "      <td>AgHgHW6</td>\n",
       "      <td>metal</td>\n",
       "    </tr>\n",
       "    <tr>\n",
       "      <th>1</th>\n",
       "      <td>crf_data.csv</td>\n",
       "      <td>metal_nonmetal_classifier</td>\n",
       "      <td>AlGaH6Os</td>\n",
       "      <td>non-metal</td>\n",
       "    </tr>\n",
       "    <tr>\n",
       "      <th>2</th>\n",
       "      <td>crf_data.csv</td>\n",
       "      <td>metal_nonmetal_classifier</td>\n",
       "      <td>BaAlTlH6</td>\n",
       "      <td>non-metal</td>\n",
       "    </tr>\n",
       "    <tr>\n",
       "      <th>3</th>\n",
       "      <td>crf_data.csv</td>\n",
       "      <td>metal_nonmetal_classifier</td>\n",
       "      <td>BaCaH6Ir</td>\n",
       "      <td>non-metal</td>\n",
       "    </tr>\n",
       "    <tr>\n",
       "      <th>4</th>\n",
       "      <td>crf_data.csv</td>\n",
       "      <td>metal_nonmetal_classifier</td>\n",
       "      <td>BaCaH6Rh</td>\n",
       "      <td>non-metal</td>\n",
       "    </tr>\n",
       "    <tr>\n",
       "      <th>5</th>\n",
       "      <td>crf_data.csv</td>\n",
       "      <td>metal_nonmetal_classifier</td>\n",
       "      <td>BaCaHfSi6</td>\n",
       "      <td>metal</td>\n",
       "    </tr>\n",
       "    <tr>\n",
       "      <th>6</th>\n",
       "      <td>crf_data.csv</td>\n",
       "      <td>metal_nonmetal_classifier</td>\n",
       "      <td>BaCrH6Ru</td>\n",
       "      <td>non-metal</td>\n",
       "    </tr>\n",
       "    <tr>\n",
       "      <th>7</th>\n",
       "      <td>crf_data.csv</td>\n",
       "      <td>metal_nonmetal_classifier</td>\n",
       "      <td>BaMgZnH6</td>\n",
       "      <td>non-metal</td>\n",
       "    </tr>\n",
       "    <tr>\n",
       "      <th>8</th>\n",
       "      <td>crf_data.csv</td>\n",
       "      <td>metal_nonmetal_classifier</td>\n",
       "      <td>BaMnVH6</td>\n",
       "      <td>non-metal</td>\n",
       "    </tr>\n",
       "  </tbody>\n",
       "</table>\n",
       "</div>"
      ],
      "text/plain": [
       "        subject                   property        key     result\n",
       "0  crf_data.csv  metal_nonmetal_classifier    AgHgHW6      metal\n",
       "1  crf_data.csv  metal_nonmetal_classifier   AlGaH6Os  non-metal\n",
       "2  crf_data.csv  metal_nonmetal_classifier   BaAlTlH6  non-metal\n",
       "3  crf_data.csv  metal_nonmetal_classifier   BaCaH6Ir  non-metal\n",
       "4  crf_data.csv  metal_nonmetal_classifier   BaCaH6Rh  non-metal\n",
       "5  crf_data.csv  metal_nonmetal_classifier  BaCaHfSi6      metal\n",
       "6  crf_data.csv  metal_nonmetal_classifier   BaCrH6Ru  non-metal\n",
       "7  crf_data.csv  metal_nonmetal_classifier   BaMgZnH6  non-metal\n",
       "8  crf_data.csv  metal_nonmetal_classifier    BaMnVH6  non-metal"
      ]
     },
     "execution_count": 14,
     "metadata": {},
     "output_type": "execute_result"
    },
    {
     "data": {
      "text/markdown": [
       "`prop get crystal property metal_nonmetal_classifier for <directory>   USING (<parameter>=<value> <parameter>=<value>) (save_as '<filename.csv>')` <br> \n",
       "<span style=\"color: #ccc\">---------------------------------------------------------------------------</span>\n",
       "### Parameters:\n",
       "`algorithm_type`  <br> \n",
       " - `title` : Algorithm Type <br> \n",
       "  - `default` : prediction <br> \n",
       "  - `type` : string <br> \n",
       "\n",
       "\n",
       "`domain`  <br> \n",
       " - `default` : crystals <br> \n",
       "  - `allOf` : qualified directory <br> \n",
       "\n",
       "\n",
       "`algorithm_name`  <br> \n",
       " - `title` : Algorithm Name <br> \n",
       "  - `default` : RFC <br> \n",
       "  - `type` : string <br> \n",
       "\n",
       "\n",
       "`algorithm_version`  <br> \n",
       " - `title` : Algorithm Version <br> \n",
       "  - `description` : Version of the algorithm <br> \n",
       "  - `example` : v0 <br> \n",
       "  - `type` : string <br> \n",
       "\n",
       "\n",
       "`algorithm_application`  <br> \n",
       " - `title` : Algorithm Application <br> \n",
       "  - `default` : MetalNonMetalClassifier <br> \n",
       "  - `type` : string <br> \n",
       "\n",
       "  \n",
       "### Required Parameters:  <br> \n",
       "\n",
       " - `algorithm_version` <br> \n",
       "### Function Description: <br> \n",
       "Returns a given Property Type for:  <br> \n",
       " -`metal_nonmetal_classifier`: Metal/non-metal classifier class. <br> \n",
       "\n",
       " Example: `gt4sd_prop get crystal property metal_nonmetal_classifier for '/qualified/directory/' using(algorithm_version=v0)` <br> \n",
       "\n",
       " where the qualified directory contains a file called ` crf_data.csv ` with the target crystals <br> \n"
      ],
      "text/plain": [
       "<IPython.core.display.Markdown object>"
      ]
     },
     "execution_count": 14,
     "metadata": {},
     "output_type": "execute_result"
    }
   ],
   "source": [
    "file = '/Users/phildowney/services-build/Open-AD-Model-Service/openad-model-inference/gt4sd_common/gt4sd_common/properties/tests/'\n",
    "%openadd prop get crystal property metal_nonmetal_classifier for '{directory}' using(algorithm_version=v0)\n",
    "%openad prop get crystal property metal_nonmetal_classifier ?"
   ]
  },
  {
   "cell_type": "markdown",
   "id": "aacd55f5-d3f7-421f-bb12-3906f8a89352",
   "metadata": {},
   "source": [
    "# Molformer Service"
   ]
  },
  {
   "cell_type": "markdown",
   "id": "9be98d7d-e90f-4d69-ba83-e5d2a1f44b88",
   "metadata": {},
   "source": [
    "If you have cataloged the molformer service the following Property Inferernces can run"
   ]
  },
  {
   "cell_type": "code",
   "execution_count": 15,
   "id": "17f6b479-2a29-4557-97ce-9e53dbbe421b",
   "metadata": {
    "execution": {
     "iopub.execute_input": "2024-05-23T02:32:16.528926Z",
     "iopub.status.busy": "2024-05-23T02:32:16.528544Z",
     "iopub.status.idle": "2024-05-23T02:32:16.533738Z",
     "shell.execute_reply": "2024-05-23T02:32:16.533115Z",
     "shell.execute_reply.started": "2024-05-23T02:32:16.528904Z"
    },
    "tags": []
   },
   "outputs": [],
   "source": [
    "MOL_LIST = ['O=S(=O)(F)C(F)(F)C(F)(F)C(F)(F)C(F)(F)C(F)(F)C(F)(F)C(F)(F)C(F)(F)F','C12C=CC=NN1C(C#CC1=C(C)C=CC3C(NC4=CC(C(F)(F)F)=CC=C4)=NOC1=3)=CN=2','NCCCCC',\\\n",
    "            'BrC1=CC=NC2=CC=CC=C12', 'CCOC(=O)[C@H](CCC1=CC=CC=C1)N[C@@H](C)C(=O)N2[C@H]3CCC[C@H]3C[C@H]2C(=O)O']"
   ]
  },
  {
   "cell_type": "code",
   "execution_count": 16,
   "id": "6a3c6bf1-be2a-4391-b1c7-6483987b237d",
   "metadata": {
    "execution": {
     "iopub.execute_input": "2024-05-23T02:32:16.534988Z",
     "iopub.status.busy": "2024-05-23T02:32:16.534529Z",
     "iopub.status.idle": "2024-05-23T02:32:16.757751Z",
     "shell.execute_reply": "2024-05-23T02:32:16.757144Z",
     "shell.execute_reply.started": "2024-05-23T02:32:16.534965Z"
    },
    "tags": []
   },
   "outputs": [
    {
     "data": {
      "text/markdown": [
       "<span style=\"color: #d00\">No Service Cataloged or service not up.  <br> \n",
       " Check Service Status `model service status` </span> <br> \n"
      ],
      "text/plain": [
       "<IPython.core.display.Markdown object>"
      ]
     },
     "execution_count": 16,
     "metadata": {},
     "output_type": "execute_result"
    }
   ],
   "source": [
    "%openad molf get molecule property molformer_regression for {MOL_LIST}"
   ]
  },
  {
   "cell_type": "code",
   "execution_count": 17,
   "id": "a2cceae5-07e8-49e3-85e9-9458a3bc6d31",
   "metadata": {
    "execution": {
     "iopub.execute_input": "2024-05-23T02:32:16.759017Z",
     "iopub.status.busy": "2024-05-23T02:32:16.758744Z",
     "iopub.status.idle": "2024-05-23T02:32:16.968606Z",
     "shell.execute_reply": "2024-05-23T02:32:16.967908Z",
     "shell.execute_reply.started": "2024-05-23T02:32:16.758996Z"
    },
    "tags": []
   },
   "outputs": [
    {
     "data": {
      "text/markdown": [
       "<span style=\"color: #d00\">No Service Cataloged or service not up.  <br> \n",
       " Check Service Status `model service status` </span> <br> \n"
      ],
      "text/plain": [
       "<IPython.core.display.Markdown object>"
      ]
     },
     "execution_count": 17,
     "metadata": {},
     "output_type": "execute_result"
    }
   ],
   "source": [
    "%openad molf get molecule property molformer_classification for {MOL_LIST}"
   ]
  },
  {
   "cell_type": "code",
   "execution_count": 18,
   "id": "1f17d407-4bd9-4734-801b-7d3a767a43ac",
   "metadata": {
    "execution": {
     "iopub.execute_input": "2024-05-23T02:32:16.970130Z",
     "iopub.status.busy": "2024-05-23T02:32:16.969731Z",
     "iopub.status.idle": "2024-05-23T02:32:17.837821Z",
     "shell.execute_reply": "2024-05-23T02:32:17.837183Z",
     "shell.execute_reply.started": "2024-05-23T02:32:16.970107Z"
    },
    "tags": []
   },
   "outputs": [
    {
     "data": {
      "text/markdown": [
       "<span style=\"color: #d00\">No Service Cataloged or service not up.  <br> \n",
       " Check Service Status `model service status` </span> <br> \n"
      ],
      "text/plain": [
       "<IPython.core.display.Markdown object>"
      ]
     },
     "execution_count": 18,
     "metadata": {},
     "output_type": "execute_result"
    }
   ],
   "source": [
    "%openad molf get molecule property molformer_multitask_classification for {MOL_LIST}"
   ]
  },
  {
   "cell_type": "code",
   "execution_count": null,
   "id": "12bd425b-b016-46cc-9e24-c7247a69e2ac",
   "metadata": {},
   "outputs": [],
   "source": []
  },
  {
   "cell_type": "code",
   "execution_count": null,
   "id": "5fadcf84-a267-478b-b3e7-86a47bb6146f",
   "metadata": {},
   "outputs": [],
   "source": []
  }
 ],
 "metadata": {
  "kernelspec": {
   "display_name": "ad-venv",
   "language": "python",
   "name": "ad-venv"
  },
  "language_info": {
   "codemirror_mode": {
    "name": "ipython",
    "version": 3
   },
   "file_extension": ".py",
   "mimetype": "text/x-python",
   "name": "python",
   "nbconvert_exporter": "python",
   "pygments_lexer": "ipython3",
   "version": "3.11.7"
  }
 },
 "nbformat": 4,
 "nbformat_minor": 5
}
