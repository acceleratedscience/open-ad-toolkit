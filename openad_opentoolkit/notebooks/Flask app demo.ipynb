{
 "cells": [
  {
   "cell_type": "markdown",
   "id": "9fedd931",
   "metadata": {},
   "source": [
    "# Example app"
   ]
  },
  {
   "cell_type": "code",
   "execution_count": null,
   "id": "9c4bdf5b",
   "metadata": {},
   "outputs": [],
   "source": [
    "result = %openad flask example"
   ]
  },
  {
   "cell_type": "code",
   "execution_count": null,
   "id": "f4158406",
   "metadata": {},
   "outputs": [],
   "source": [
    "if 'someAjaxInput' in result['form']:\n",
    "    submitted_text = result['form']['someAjaxInput']\n",
    "elif 'someInput' in result['form']:\n",
    "    submitted_text = result['form']['someInput']\n",
    "else:\n",
    "    print('Form not submitted.')\n",
    "\n",
    "if submitted_text:    \n",
    "    print(f'The submited value: \"{submitted_text}\"')\n",
    "    print('\\nThe returned result object looks like this:')\n",
    "    print(result)"
   ]
  },
  {
   "cell_type": "markdown",
   "id": "dc82446c",
   "metadata": {},
   "source": [
    "<br><br><br><br>\n",
    "# Mols2grid"
   ]
  },
  {
   "cell_type": "code",
   "execution_count": null,
   "id": "47307cc6",
   "metadata": {
    "tags": []
   },
   "outputs": [],
   "source": [
    "result = %openad show molecules using file 'base_molecules.sdf' as molsobject\n",
    "result.display()"
   ]
  },
  {
   "cell_type": "code",
   "execution_count": null,
   "id": "3ac81264",
   "metadata": {
    "tags": []
   },
   "outputs": [],
   "source": [
    "selection = result.get_selection()\n",
    "display(selection)"
   ]
  },
  {
   "cell_type": "markdown",
   "id": "a7c5f49c",
   "metadata": {},
   "source": [
    "<br><br><br><br>\n",
    "# Data Viewer"
   ]
  },
  {
   "cell_type": "code",
   "execution_count": 5,
   "id": "544045f2",
   "metadata": {},
   "outputs": [
    {
     "data": {
      "text/markdown": [
       "<span style=\"color: #ccc\">Next up, you can run: </span>`result open` / `result edit` / `result save [as '<filename.csv>']`"
      ],
      "text/plain": [
       "<IPython.core.display.Markdown object>"
      ]
     },
     "metadata": {},
     "output_type": "display_data"
    }
   ],
   "source": [
    "result = %openad display data 'sample_data.csv'"
   ]
  },
  {
   "cell_type": "code",
   "execution_count": 6,
   "id": "eda72da5",
   "metadata": {},
   "outputs": [
    {
     "data": {
      "text/html": [
       "<iframe src=\"http://127.0.0.1:5005\" width=\"100%\" height=\"700\" style=\"border: solid 1px #ddd;\"></iframe>"
      ],
      "text/plain": [
       "<IPython.core.display.HTML object>"
      ]
     },
     "metadata": {},
     "output_type": "display_data"
    }
   ],
   "source": [
    "%openad result open"
   ]
  },
  {
   "cell_type": "code",
   "execution_count": 4,
   "id": "f210516c",
   "metadata": {},
   "outputs": [
    {
     "data": {
      "text/html": [
       "<iframe src=\"http://127.0.0.1:5004\" width=\"100%\" height=\"700\" style=\"border: solid 1px #ddd;\"></iframe>"
      ],
      "text/plain": [
       "<IPython.core.display.HTML object>"
      ]
     },
     "metadata": {},
     "output_type": "display_data"
    }
   ],
   "source": [
    "%openad result open"
   ]
  },
  {
   "cell_type": "code",
   "execution_count": null,
   "id": "bf949e5c",
   "metadata": {},
   "outputs": [],
   "source": []
  }
 ],
 "metadata": {
  "kernelspec": {
   "display_name": "ad-kernel",
   "language": "python",
   "name": "ad-kernel"
  },
  "language_info": {
   "codemirror_mode": {
    "name": "ipython",
    "version": 3
   },
   "file_extension": ".py",
   "mimetype": "text/x-python",
   "name": "python",
   "nbconvert_exporter": "python",
   "pygments_lexer": "ipython3",
   "version": "3.10.10"
  }
 },
 "nbformat": 4,
 "nbformat_minor": 5
}
