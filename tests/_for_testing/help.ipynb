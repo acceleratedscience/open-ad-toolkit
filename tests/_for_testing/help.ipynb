{
 "cells": [
  {
   "cell_type": "markdown",
   "id": "a00d74f3-7e30-46e0-aeaa-48b85a8a044d",
   "metadata": {
    "tags": []
   },
   "source": [
    "# Help testing\n",
    "<sub>Last updated on Dec 11, 2024 - Moenen</sub>"
   ]
  },
  {
   "cell_type": "markdown",
   "id": "bac877f9-e09b-4385-86eb-e4f1daf2297c",
   "metadata": {
    "tags": []
   },
   "source": [
    "\n",
    "\n",
    "### Toolkits"
   ]
  },
  {
   "cell_type": "code",
   "execution_count": null,
   "id": "b08418f7-0937-4bc3-b742-1b458cf7d7bf",
   "metadata": {
    "tags": []
   },
   "outputs": [],
   "source": [
    "# Prep: Uninstall toolkits\n",
    "%openad clear sessions\n",
    "%openad remove toolkit ds4sd\n",
    "%openad remove toolkit rxn"
   ]
  },
  {
   "cell_type": "code",
   "execution_count": null,
   "id": "30fb73da-a56d-45a3-9112-83fc0a4d630f",
   "metadata": {
    "tags": []
   },
   "outputs": [],
   "source": [
    "# Toolkit uninstalled\n",
    "# -------------------\n",
    "\n",
    "%openad ds4sd ?\n",
    "%openad rxn ?"
   ]
  },
  {
   "cell_type": "code",
   "execution_count": null,
   "id": "6f23cbfa-d2c9-49a3-b773-aa16d337c50a",
   "metadata": {
    "tags": []
   },
   "outputs": [],
   "source": [
    "# Prep: Install toolkits\n",
    "%openad add toolkit ds4sd\n",
    "%openad add toolkit rxn"
   ]
  },
  {
   "cell_type": "code",
   "execution_count": null,
   "id": "3f81e5fb-b261-44ae-87ce-cc6bc380719f",
   "metadata": {
    "tags": []
   },
   "outputs": [],
   "source": [
    "# Toolkit installed\n",
    "# -----------------\n",
    "\n",
    "%openad ds4sd ?\n",
    "%openad rxn ?"
   ]
  },
  {
   "cell_type": "markdown",
   "id": "902497ae-e9c4-449e-bc21-842bcf7908a8",
   "metadata": {
    "tags": []
   },
   "source": [
    "### General Help"
   ]
  },
  {
   "cell_type": "code",
   "execution_count": null,
   "id": "23b7fc80-cfb6-470c-a0ec-edeec0ff3329",
   "metadata": {
    "tags": []
   },
   "outputs": [],
   "source": [
    "# List all commands\n",
    "# -----------------\n",
    "\n",
    "%openad ?"
   ]
  },
  {
   "cell_type": "code",
   "execution_count": null,
   "id": "9ada7255-0304-4327-af7a-ab20194f7cec",
   "metadata": {
    "tags": []
   },
   "outputs": [],
   "source": [
    "# Launch docs website\n",
    "# -----------------\n",
    "\n",
    "%openad docs\n",
    "%openad ??"
   ]
  },
  {
   "cell_type": "markdown",
   "id": "d4a0e3ba-2f3a-41df-a893-ad3a64aba9bd",
   "metadata": {
    "tags": []
   },
   "source": [
    "### Individual Command Documentation"
   ]
  },
  {
   "cell_type": "code",
   "execution_count": null,
   "id": "c50bfb40-23aa-41ec-8cc0-4eba1f38b248",
   "metadata": {
    "tags": []
   },
   "outputs": [],
   "source": [
    "# List individual commands' documentations\n",
    "# ----------------------------------------\n",
    "\n",
    "# Macromolecules\n",
    "%openad show mmol ?\n",
    "\n",
    "# General\n",
    "%openad get status ?\n",
    "%openad display history ?\n",
    "%openad clear sessions ?\n",
    "\n",
    "# Workspaces\n",
    "%openad set workspace ?\n",
    "%openad get workspace ?\n",
    "%openad create workspace ?\n",
    "%openad remove workspace ?\n",
    "%openad list workspaces ?\n",
    "\n",
    "# Toolkits\n",
    "# %openad ds4sd ?\n",
    "# %openad rxn ?\n",
    "%openad list toolkits ?\n",
    "%openad list all toolkits ?\n",
    "%openad add toolkit ?\n",
    "%openad remove toolkit ?\n",
    "%openad update toolkit ?\n",
    "%openad update all toolkits ?\n",
    "%openad set context ?\n",
    "%openad get context ?\n",
    "%openad unset context ?\n",
    "\n",
    "# Runs\n",
    "%openad create run ?\n",
    "%openad remove run ?\n",
    "%openad save run as ?\n",
    "%openad run ?\n",
    "%openad list runs ?\n",
    "%openad display run ?\n",
    "\n",
    "# Utility\n",
    "%openad display data ?\n",
    "%openad result save ?\n",
    "%openad result open ?\n",
    "%openad result edit ?\n",
    "%openad result copy ?\n",
    "%openad result display ?\n",
    "%openad result as dataframe ?\n",
    "\n",
    "# GUI\n",
    "%openad install gui ?\n",
    "%openad launch gui ?\n",
    "%openad restart gui ?\n",
    "%openad quit gui ?\n",
    "\n",
    "# LLM\n",
    "%openad tell me ?\n",
    "%openad set llm ?\n",
    "%openad clear llm ?\n",
    "\n",
    "# File system\n",
    "%openad list files ?\n",
    "%openad import from ?\n",
    "%openad export from ?\n",
    "%openad copy file ?\n",
    "%openad remove '<filename>' ?\n",
    "%openad open '<filename>' ?\n",
    "\n",
    "# Help\n",
    "%openad intro ?\n",
    "%openad docs ?\n",
    "\n",
    "# Model\n",
    "%openad model auth list ?\n",
    "%openad model auth add group ?\n",
    "%openad model auth remove group ?\n",
    "%openad model auth add service ?\n",
    "%openad model auth remove service ?\n",
    "%openad model service status ?\n",
    "%openad model service describe ?\n",
    "%openad model catalog list ?\n",
    "%openad uncatalog model service ?\n",
    "%openad catalog model service ?\n",
    "%openad model service up ?\n",
    "%openad model service local up ?\n",
    "%openad model service down ?\n",
    "%openad get model service ?\n",
    "\n",
    "# Small molecules\n",
    "%openad display molecule ?\n",
    "%openad show molecule|mol ?\n",
    "%openad show molset ?\n",
    "%openad @ ?\n",
    "%openad export molecule|mol ?\n",
    "\n",
    "# Molecule working set\n",
    "%openad add molecule ?\n",
    "%openad remove molecule ?\n",
    "%openad list molecules ?\n",
    "%openad show molecules ?\n",
    "%openad enrich molecules ?\n",
    "%openad clear analysis ?\n",
    "%openad display sources ?\n",
    "%openad rename molecule ?\n",
    "%openad load molecules|mols from file ?\n",
    "%openad load molecules|mols from dataframe ?\n",
    "%openad merge molecules ?\n",
    "%openad export molecules ?\n",
    "%openad clear molecules ?"
   ]
  },
  {
   "cell_type": "markdown",
   "id": "30641a27-4198-4442-a159-e9121ef7bb03",
   "metadata": {
    "tags": []
   },
   "source": [
    "### Help queries"
   ]
  },
  {
   "cell_type": "code",
   "execution_count": null,
   "id": "f0aa699f-11b3-410d-9745-e8e6bd0e1699",
   "metadata": {
    "tags": []
   },
   "outputs": [],
   "source": [
    "# Multiple matches - starting with\n",
    "# --------------------------------\n",
    "\n",
    "%openad list ?"
   ]
  },
  {
   "cell_type": "code",
   "execution_count": null,
   "id": "9d2c8aca-378e-455e-9347-af8b90b483a7",
   "metadata": {
    "tags": []
   },
   "outputs": [],
   "source": [
    "# Multiple matches - containing\n",
    "# -----------------------------\n",
    "\n",
    "%openad ? list"
   ]
  },
  {
   "cell_type": "code",
   "execution_count": null,
   "id": "8db7072d-6789-446a-9ccf-dfc56a2ebe7e",
   "metadata": {
    "tags": []
   },
   "outputs": [],
   "source": [
    "# Incomplete command - single match\n",
    "# ---------------------------------\n",
    "\n",
    "%openad list molec"
   ]
  },
  {
   "cell_type": "code",
   "execution_count": null,
   "id": "b8a5aa19-be1d-4a01-883c-8281edc262fe",
   "metadata": {
    "tags": []
   },
   "outputs": [],
   "source": [
    "# Incomplete command - multiple matches\n",
    "# -------------------------------------\n",
    "\n",
    "%openad show molec"
   ]
  },
  {
   "cell_type": "markdown",
   "id": "2ef39587-41be-456f-8e7c-5b0599835494",
   "metadata": {
    "tags": []
   },
   "source": [
    "### Categories"
   ]
  },
  {
   "cell_type": "code",
   "execution_count": null,
   "id": "40c12bc9-16e8-4b17-a753-22264869d717",
   "metadata": {
    "tags": []
   },
   "outputs": [],
   "source": [
    "# Category - regular\n",
    "# ------------------\n",
    "\n",
    "%openad small molecules ?\n",
    "%openad ? small molecules"
   ]
  },
  {
   "cell_type": "code",
   "execution_count": null,
   "id": "894ec08c-64c6-468e-bb96-74b1ec621dfa",
   "metadata": {
    "tags": []
   },
   "outputs": [],
   "source": [
    "# Category - with paragraph\n",
    "# -------------------------\n",
    "\n",
    "%openad molecule working set ?\n",
    "%openad ? molecule working set"
   ]
  },
  {
   "cell_type": "code",
   "execution_count": null,
   "id": "5718b878-9e4e-424e-8a71-18ed12845859",
   "metadata": {
    "tags": []
   },
   "outputs": [],
   "source": [
    "# Category - with paragraph - alias\n",
    "# ---------------------------------\n",
    "\n",
    "%openad mws ?\n",
    "%openad ? mws"
   ]
  },
  {
   "cell_type": "code",
   "execution_count": null,
   "id": "f02abc40-9001-41e5-9297-4730dd595382",
   "metadata": {
    "tags": []
   },
   "outputs": [],
   "source": [
    "# Category - toolkit\n",
    "# ------------------\n",
    "\n",
    "# NOT SUPPORTED!\n",
    "# %openad retrosynthesis ?"
   ]
  },
  {
   "cell_type": "markdown",
   "id": "7f7c3544-0ed3-4f56-966c-55008991e1cc",
   "metadata": {
    "tags": []
   },
   "source": [
    "### Plugins"
   ]
  },
  {
   "cell_type": "code",
   "execution_count": null,
   "id": "d7d1bda3-d333-457a-8496-d13f3cb247f3",
   "metadata": {
    "tags": []
   },
   "outputs": [],
   "source": [
    "# Ensure the DS plugin is installed\n",
    "import pkg_resources\n",
    "from IPython.display import Markdown\n",
    "installed_packages = {pkg.key for pkg in pkg_resources.working_set}\n",
    "if not 'openad-plugin-ds' in installed_packages:\n",
    "    display(Markdown('# ⚠⚠⚠'))\n",
    "    display(Markdown('**PLEASE INSTALL DS PLUGIN TO TEST**'))\n",
    "    display(Markdown('`pip install git+https://github.com/acceleratedscience/openad-plugin-ds`'))\n",
    "else:\n",
    "    print('√ DS plugin installed')"
   ]
  },
  {
   "cell_type": "code",
   "execution_count": null,
   "id": "df2b5d5e-1dab-46c2-a699-21dcad48181d",
   "metadata": {
    "tags": []
   },
   "outputs": [],
   "source": [
    "# Category - plugin\n",
    "# -----------------\n",
    "\n",
    "%openad collections ?\n",
    "%openad ? collections"
   ]
  },
  {
   "cell_type": "code",
   "execution_count": null,
   "id": "663bf8ef-8d07-4dd4-b982-217f3de92584",
   "metadata": {},
   "outputs": [],
   "source": [
    "# Plugin name\n",
    "# -----------\n",
    "\n",
    "%openad deep search ?\n",
    "%openad ? deep search"
   ]
  },
  {
   "cell_type": "code",
   "execution_count": null,
   "id": "4cda7a8a-d035-439b-818a-5bc47a419975",
   "metadata": {},
   "outputs": [],
   "source": [
    "# Plugin namespace\n",
    "# ----------------\n",
    "\n",
    "%openad ds ?\n",
    "%openad ? ds"
   ]
  },
  {
   "cell_type": "code",
   "execution_count": null,
   "id": "cca42584-cb49-462b-baf4-9eb43fc47a7e",
   "metadata": {
    "tags": []
   },
   "outputs": [],
   "source": [
    "# Plugin command - single match\n",
    "# -----------------------------\n",
    "\n",
    "%openad ds find molecules similar ?"
   ]
  },
  {
   "cell_type": "code",
   "execution_count": null,
   "id": "24d60d54-e0ea-4711-8125-5671fd8517b6",
   "metadata": {},
   "outputs": [],
   "source": [
    "# Plugin command - multiple matches\n",
    "# ---------------------------------\n",
    "\n",
    "%openad ds find molecules ?"
   ]
  },
  {
   "cell_type": "code",
   "execution_count": null,
   "id": "91d8999c-75a0-43f7-b7df-d340a66f8582",
   "metadata": {},
   "outputs": [],
   "source": [
    "# Plugin incomplete command - single match\n",
    "# ----------------------------------------\n",
    "\n",
    "%openad ds find molecules similar"
   ]
  },
  {
   "cell_type": "code",
   "execution_count": null,
   "id": "b3c92cf4-7be6-44b2-89ce-62139941f437",
   "metadata": {
    "tags": []
   },
   "outputs": [],
   "source": [
    "# Plugin incomplete command - multiple matches\n",
    "# --------------------------------------------\n",
    "\n",
    "%openad ds find molecules "
   ]
  }
 ],
 "metadata": {
  "kernelspec": {
   "display_name": "venv",
   "language": "python",
   "name": "venv"
  },
  "language_info": {
   "codemirror_mode": {
    "name": "ipython",
    "version": 3
   },
   "file_extension": ".py",
   "mimetype": "text/x-python",
   "name": "python",
   "nbconvert_exporter": "python",
   "pygments_lexer": "ipython3",
   "version": "3.10.14"
  }
 },
 "nbformat": 4,
 "nbformat_minor": 5
}
