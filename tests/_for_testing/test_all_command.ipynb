{
 "cells": [
  {
   "cell_type": "code",
   "execution_count": null,
   "id": "dae64cf7-693b-403e-aad1-13fe1a2ea17f",
   "metadata": {},
   "outputs": [],
   "source": [
    "%openad display mol dopamine\n",
    "%openad display mol InChI=1S/C8H11NO2/c9-4-3-6-1-2-7(10)8(11)5-6/h1-2,5,10-11H,3-4,9H2\n",
    "%openad display mol VYFYYTLLBUKUHU-UHFFFAOYSA-N\n",
    "%openad display mol C1=CC(=C(C=C1CCN)O)O\n",
    "%openad display mol 681"
   ]
  },
  {
   "cell_type": "code",
   "execution_count": null,
   "id": "13d7876e-3325-4cda-a48c-9f0e49f11f97",
   "metadata": {},
   "outputs": [],
   "source": [
    "%openad show mol dopamine\n",
    "%openad show mol InChI=1S/C8H11NO2/c9-4-3-6-1-2-7(10)8(11)5-6/h1-2,5,10-11H,3-4,9H2\n",
    "%openad show mol C1=CC(=C(C=C1CCN)O)O\n",
    "%openad show mol 681"
   ]
  },
  {
   "cell_type": "code",
   "execution_count": null,
   "id": "394d07a8-0745-4932-9d1e-ac45f9e386fe",
   "metadata": {},
   "outputs": [],
   "source": [
    "%openad show molset 'base_molecules.molset.json'\n",
    "%openad show molset 'base_molecules.sdf'\n",
    "%openad show molset 'base_molecules.csv'\n",
    "%openad show molset 'base_molecules.smi'"
   ]
  },
  {
   "cell_type": "code",
   "execution_count": null,
   "id": "58fa4ebb-3aff-4201-9ff7-3bd30cbac342",
   "metadata": {},
   "outputs": [],
   "source": [
    "%openad @dopamine>>molecular_weight\n",
    "%openad @VYFYYTLLBUKUHU-UHFFFAOYSA-N>>molecular_weight\n",
    "%openad @C1=CC(=C(C=C1CCN)O)O>>synonyms\n",
    "%openad @681>>molecular_weight\n",
    "\n",
    "# # Prints error double:\n",
    "%openad @dopamine>>feature_ring_count_3d\n",
    "\n",
    "# CID Not working in Jupyter only\n",
    "# %openad @InChI=1S/C8H11NO2/c9-4-3-6-1-2-7(10)8(11)5-6/h1-2,5,10-11H,3-4,9H2>>inchi_key # NOT WORKING"
   ]
  },
  {
   "cell_type": "code",
   "execution_count": null,
   "id": "5db14245-53fd-4202-9dec-843f1ee3298b",
   "metadata": {},
   "outputs": [],
   "source": [
    "%openad export mol dopamine as file\n",
    "%openad export mol InChI=1S/C8H11NO2/c9-4-3-6-1-2-7(10)8(11)5-6/h1-2,5,10-11H,3-4,9H2 as file\n",
    "%openad export mol VYFYYTLLBUKUHU-UHFFFAOYSA-N as file\n",
    "%openad export mol C1=CC(=C(C=C1CCN)O)O as file\n",
    "%openad export mol 681 as file"
   ]
  },
  {
   "cell_type": "code",
   "execution_count": null,
   "id": "1d09e83b-0c5e-43e2-b76f-7bae53f0b2ec",
   "metadata": {},
   "outputs": [],
   "source": [
    "%openad add mol dopamine\n",
    "%openad add mol C1=CC2=C(C=C1O)C(=CN2)CCN\n",
    "%openad add mol InChI=1S/C5H9NO4/c6-3(5(9)10)1-2-4(7)8/h3H,1-2,6H2,(H,7,8)(H,9,10)/t3-/m0/s1\n",
    "%openad add mol UCTWMZQNUQWSLP-VIFPVBQESA-N\n",
    "%openad add mol 774\n",
    "\n",
    "%openad add mol gaba force\n",
    "%openad add mol C1=CC(=C(C=C1C(CN)O)O)O force\n",
    "%openad add mol InChI=1S/C2H5NO2/c3-1-2(4)5/h1,3H2,(H,4,5) force\n",
    "%openad add mol KZBUYRJDOAKODT-UHFFFAOYSA-N force\n",
    "%openad add mol 70678557 force\n",
    "\n",
    "%openad add mol Penicillin as one basic\n",
    "%openad add mol CC(=O)NC1=CC=C(C=C1)O as two basic\n",
    "%openad add mol InChI=1S/C13H18O2/c1-9(2)8-11-4-6-12(7-5-11)10(3)13(14)15/h4-7,9-10H,8H2,1-3H3,(H,14,15) as three basic\n",
    "%openad add mol PFEOZHBOMNWTJB-UHFFFAOYSA-N as four basic\n",
    "\n",
    "# Error:    \n",
    "# %openad add mol 666 as five basic"
   ]
  },
  {
   "cell_type": "code",
   "execution_count": null,
   "id": "ac1a99d2-ba93-4b46-b13f-ae1c140dcb76",
   "metadata": {},
   "outputs": [],
   "source": [
    "%openad remove mol dopamine\n",
    "%openad remove mol C1=CC2=C(C=C1O)C(=CN2)CCN\n",
    "%openad remove mol InChI=1S/C5H9NO4/c6-3(5(9)10)1-2-4(7)8/h3H,1-2,6H2,(H,7,8)(H,9,10)/t3-/m0/s1\n",
    "%openad remove mol UCTWMZQNUQWSLP-VIFPVBQESA-N\n",
    "%openad remove mol 774\n",
    "\n",
    "%openad remove mol gaba force\n",
    "%openad remove mol C1=CC(=C(C=C1C(CN)O)O)O force\n",
    "%openad remove mol InChI=1S/C2H5NO2/c3-1-2(4)5/h1,3H2,(H,4,5) force\n",
    "%openad remove mol KZBUYRJDOAKODT-UHFFFAOYSA-N force\n",
    "%openad remove mol 70678557 force"
   ]
  },
  {
   "cell_type": "code",
   "execution_count": null,
   "id": "d636c8be-650e-4a46-bf37-146b4eef6573",
   "metadata": {
    "scrolled": true
   },
   "outputs": [],
   "source": [
    "# %openad clear mols force\n",
    "# %openad add mol dopamine force\n",
    "\n",
    "%openad list mols\n",
    "%openad list molecules"
   ]
  },
  {
   "cell_type": "code",
   "execution_count": null,
   "id": "1baffc98-dac3-4701-8868-bfb5d5e153f5",
   "metadata": {},
   "outputs": [],
   "source": [
    "%openad show mols\n",
    "%openad show molecules"
   ]
  },
  {
   "cell_type": "code",
   "execution_count": null,
   "id": "ee103605-9fe4-4ec5-a77a-8f12184def69",
   "metadata": {},
   "outputs": [],
   "source": [
    "# %openad clear sessions\n",
    "# %openad remove toolkit ds4sd\n",
    "# %openad add toolkit ds4sd"
   ]
  },
  {
   "cell_type": "code",
   "execution_count": null,
   "id": "47d82a7e-c5aa-4b84-b47b-c9ac0234056f",
   "metadata": {},
   "outputs": [],
   "source": [
    "# Enrich molecule\n",
    "\n",
    "# DS4SD\n",
    "# %openad set context ds4sd\n",
    "# %openad search for similar molecules to 'C1(C(=C)C([O-])C1C)=O'\n",
    "# %openad add mol C1(C(=C)C([O-])C1C)=O force\n",
    "\n",
    "# # RXN\n",
    "%openad add mol c1ccc2cc3ccccc3cc2c1CCO force\n",
    "%openad set context RXN\n",
    "%openad predict reaction 'BrBr.OCCc1cccc2cc3ccccc3cc12'\n",
    "\n",
    "%openad enrich mols with analysis"
   ]
  },
  {
   "cell_type": "code",
   "execution_count": null,
   "id": "c10a464e-3758-453b-9fa7-32f7b35bdf3e",
   "metadata": {},
   "outputs": [],
   "source": [
    "%openad clear analysis cache"
   ]
  },
  {
   "cell_type": "code",
   "execution_count": null,
   "id": "5a8acad9-1ea3-404b-81ad-871d452bf072",
   "metadata": {},
   "outputs": [],
   "source": [
    "%openad display sources dopamine\n",
    "%openad display sources InChI=1S/C8H11NO2/c9-4-3-6-1-2-7(10)8(11)5-6/h1-2,5,10-11H,3-4,9H2\n",
    "%openad display sources VYFYYTLLBUKUHU-UHFFFAOYSA-N\n",
    "%openad display sources C1=CC(=C(C=C1CCN)O)O\n",
    "%openad display sources 681"
   ]
  },
  {
   "cell_type": "code",
   "execution_count": null,
   "id": "bed4da35-1a28-4869-a073-0b1467d98267",
   "metadata": {},
   "outputs": [],
   "source": [
    "%openad rename mol '2-anthracen-1-ylethanol' as foobar"
   ]
  },
  {
   "cell_type": "code",
   "execution_count": null,
   "id": "0981c4b1-a5b7-424a-9f6c-04d349f2b718",
   "metadata": {},
   "outputs": [],
   "source": [
    "# %openad load mols from file 'base_molecules.smi' enrich append\n",
    "# %openad load mols from file 'base_molecules.sdf' enrich append\n",
    "%openad load mols from file 'test.smi' enrich append"
   ]
  },
  {
   "cell_type": "code",
   "execution_count": null,
   "id": "a567cdd2-fd4c-47c6-89da-fd36b3226dc6",
   "metadata": {
    "scrolled": true
   },
   "outputs": [],
   "source": [
    "df = %openadd display data 'test.csv'\n",
    "# %openad load mols from dataframe df \n",
    "%openad load mols from dataframe df enrich"
   ]
  },
  {
   "cell_type": "code",
   "execution_count": null,
   "id": "c6aefb9f-cac8-4de8-bca4-493d8e53a503",
   "metadata": {},
   "outputs": [],
   "source": [
    "%openad clear mols force\n",
    "data_df = %openadd display data 'smol_data_for_merge.csv'\n",
    "data_df\n",
    "mols = data_df['subject'].tolist()\n",
    "for mol in mols:\n",
    "    %openad add mol {mol} basic force\n",
    "%openad merge mols data from dataframe data_df\n",
    "# %openad merge mols data from dataframe data_df enrich"
   ]
  },
  {
   "cell_type": "code",
   "execution_count": null,
   "id": "bb7671cd-4931-4b44-9722-450cfa206ab4",
   "metadata": {},
   "outputs": [],
   "source": [
    "%openad export molecules as 'jup_mols_export_test.molset.json'\n",
    "%openad export molecules as 'jup_mols_export_test.sdf'\n",
    "%openad export molecules as 'jup_mols_export_test.csv'\n",
    "%openad export molecules as 'jup_mols_export_test.smi'\n",
    "x = %openadd export molecules\n",
    "x"
   ]
  },
  {
   "cell_type": "code",
   "execution_count": null,
   "id": "7b3542ac-a369-4493-adb0-e586c15fade8",
   "metadata": {},
   "outputs": [],
   "source": [
    "%openad clear mols force\n",
    "%openad clear mols"
   ]
  }
 ],
 "metadata": {
  "kernelspec": {
   "display_name": "venv",
   "language": "python",
   "name": "venv"
  },
  "language_info": {
   "codemirror_mode": {
    "name": "ipython",
    "version": 3
   },
   "file_extension": ".py",
   "mimetype": "text/x-python",
   "name": "python",
   "nbconvert_exporter": "python",
   "pygments_lexer": "ipython3",
   "version": "3.10.14"
  }
 },
 "nbformat": 4,
 "nbformat_minor": 5
}
